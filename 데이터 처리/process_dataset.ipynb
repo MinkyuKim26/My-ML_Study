{
 "cells": [
  {
   "cell_type": "code",
   "execution_count": 1,
   "metadata": {},
   "outputs": [],
   "source": [
    "import os\n",
    "import json"
   ]
  },
  {
   "cell_type": "code",
   "execution_count": 4,
   "metadata": {},
   "outputs": [
    {
     "name": "stdout",
     "output_type": "stream",
     "text": [
      "{'version': '4.6.0', 'flags': {}, 'shapes': [{'label': 'white_ball', 'points': [[140.66666666666666, 257.2631578947368], [156.45614035087718, 273.92982456140345]], 'group_id': None, 'shape_type': 'rectangle', 'flags': {}}, {'label': 'yellow_ball', 'points': [[309.0877192982456, 271.7368421052631], [323.12280701754383, 287.52631578947364]], 'group_id': None, 'shape_type': 'rectangle', 'flags': {}}, {'label': 'red_ball', 'points': [[527.0701754385964, 61.210526315789465], [541.5438596491227, 73.92982456140349]], 'group_id': None, 'shape_type': 'rectangle', 'flags': {}}], 'imagePath': '../Dataset Candidate/000001.png', 'imageData': 'null', 'imageHeight': 360, 'imageWidth': 640}\n"
     ]
    }
   ],
   "source": [
    "with open('/Users/minkyukim/Downloads/000001.json', 'r') as f:\n",
    "    json_data = json.load(f)\n",
    "    \n",
    "    json_data['imageData'] = 'null'\n",
    "\n",
    "\n",
    "print(json_data)"
   ]
  },
  {
   "cell_type": "code",
   "execution_count": 2,
   "metadata": {},
   "outputs": [
    {
     "ename": "FileNotFoundError",
     "evalue": "[Errno 2] No such file or directory: '/Users/minkyukim/Desktop/biliard dataset_작업중/._002401.json'",
     "output_type": "error",
     "traceback": [
      "\u001b[0;31m---------------------------------------------------------------------------\u001b[0m",
      "\u001b[0;31mFileNotFoundError\u001b[0m                         Traceback (most recent call last)",
      "\u001b[0;32m<ipython-input-2-471651be2514>\u001b[0m in \u001b[0;36m<module>\u001b[0;34m\u001b[0m\n\u001b[1;32m      6\u001b[0m \u001b[0;32mfor\u001b[0m \u001b[0mdata_name\u001b[0m \u001b[0;32min\u001b[0m \u001b[0mdata_list\u001b[0m \u001b[0;34m:\u001b[0m\u001b[0;34m\u001b[0m\u001b[0;34m\u001b[0m\u001b[0m\n\u001b[1;32m      7\u001b[0m     \u001b[0;32mif\u001b[0m \u001b[0mdata_name\u001b[0m\u001b[0;34m[\u001b[0m\u001b[0;34m-\u001b[0m\u001b[0;36m4\u001b[0m\u001b[0;34m:\u001b[0m\u001b[0;34m]\u001b[0m \u001b[0;34m==\u001b[0m \u001b[0;34m'json'\u001b[0m \u001b[0;34m:\u001b[0m\u001b[0;34m\u001b[0m\u001b[0;34m\u001b[0m\u001b[0m\n\u001b[0;32m----> 8\u001b[0;31m         \u001b[0;32mwith\u001b[0m \u001b[0mopen\u001b[0m\u001b[0;34m(\u001b[0m\u001b[0;34m'/Users/minkyukim/Desktop/biliard dataset_작업중/'\u001b[0m \u001b[0;34m+\u001b[0m \u001b[0mdata_name\u001b[0m\u001b[0;34m,\u001b[0m \u001b[0;34m'r'\u001b[0m\u001b[0;34m)\u001b[0m \u001b[0;32mas\u001b[0m \u001b[0mf\u001b[0m\u001b[0;34m:\u001b[0m\u001b[0;34m\u001b[0m\u001b[0;34m\u001b[0m\u001b[0m\n\u001b[0m\u001b[1;32m      9\u001b[0m             \u001b[0mjson_data\u001b[0m \u001b[0;34m=\u001b[0m \u001b[0mjson\u001b[0m\u001b[0;34m.\u001b[0m\u001b[0mload\u001b[0m\u001b[0;34m(\u001b[0m\u001b[0mf\u001b[0m\u001b[0;34m)\u001b[0m\u001b[0;34m\u001b[0m\u001b[0;34m\u001b[0m\u001b[0m\n\u001b[1;32m     10\u001b[0m \u001b[0;34m\u001b[0m\u001b[0m\n",
      "\u001b[0;31mFileNotFoundError\u001b[0m: [Errno 2] No such file or directory: '/Users/minkyukim/Desktop/biliard dataset_작업중/._002401.json'"
     ]
    }
   ],
   "source": [
    "data_list = sorted(os.listdir('/Volumes/MYWORK/당구장 데이터셋/biliard_ball_dataset_making_윈도우에서 하던거'))\n",
    "\n",
    "if '.DS_Store' in data_list : \n",
    "    data_list.remove('.DS_Store')\n",
    "\n",
    "for data_name in data_list : \n",
    "    if data_name[-4:] == 'json' : \n",
    "        with open('/Users/minkyukim/Desktop/biliard dataset_작업중/' + data_name, 'r') as f:\n",
    "            json_data = json.load(f)\n",
    "\n",
    "        print(json_data)\n",
    "        break\n",
    "        # json_data['imageData'] = \"null\"\n",
    "        # json_data['imagePath'] = data_name.replace('json', 'jpg')\n",
    "\n",
    "        # with open('/Users/minkyukim/Desktop/biliard dataset_작업중/' + data_name, 'w') as f:\n",
    "        #     json.dump(json_data, f)"
   ]
  },
  {
   "cell_type": "code",
   "execution_count": null,
   "metadata": {},
   "outputs": [],
   "source": []
  }
 ],
 "metadata": {
  "interpreter": {
   "hash": "aac1938eb6913997aabd086dca6066ca74adbc6b4a9aafd1e6821241d3ac0498"
  },
  "kernelspec": {
   "display_name": "Python 3.8.8 64-bit ('base': conda)",
   "name": "python3"
  },
  "language_info": {
   "codemirror_mode": {
    "name": "ipython",
    "version": 3
   },
   "file_extension": ".py",
   "mimetype": "text/x-python",
   "name": "python",
   "nbconvert_exporter": "python",
   "pygments_lexer": "ipython3",
   "version": "3.8.8"
  },
  "orig_nbformat": 4
 },
 "nbformat": 4,
 "nbformat_minor": 2
}
