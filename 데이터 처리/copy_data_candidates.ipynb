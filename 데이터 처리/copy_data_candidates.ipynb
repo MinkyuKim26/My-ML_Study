{
 "cells": [
  {
   "cell_type": "code",
   "execution_count": 4,
   "metadata": {},
   "outputs": [],
   "source": [
    "import os\n",
    "from tqdm import tqdm\n",
    "from PIL import Image"
   ]
  },
  {
   "cell_type": "code",
   "execution_count": 5,
   "metadata": {},
   "outputs": [],
   "source": [
    "image_list = sorted(os.listdir('/Users/minkyukim/Desktop/temp_candidate'))\n",
    "\n",
    "if '.DS_Store' in image_list : \n",
    "    image_list.remove('.DS_Store')"
   ]
  },
  {
   "cell_type": "code",
   "execution_count": 6,
   "metadata": {},
   "outputs": [
    {
     "name": "stderr",
     "output_type": "stream",
     "text": [
      "rename data: 100%|██████████| 62/62 [00:02<00:00, 25.71it/s]\n"
     ]
    }
   ],
   "source": [
    "start_num = 0\n",
    "\n",
    "for image_file in tqdm(image_list, desc = \"rename data\") :\n",
    "    img = Image.open('/Users/minkyukim/Desktop/temp_candidate' + '/' + image_file).convert('RGB')\n",
    "    img.save('/Users/minkyukim/Desktop/Dataset Candidate' + '/00' + str(start_num) + \".jpg\")\n",
    "    start_num+=1"
   ]
  },
  {
   "cell_type": "code",
   "execution_count": null,
   "metadata": {},
   "outputs": [],
   "source": []
  }
 ],
 "metadata": {
  "interpreter": {
   "hash": "aac1938eb6913997aabd086dca6066ca74adbc6b4a9aafd1e6821241d3ac0498"
  },
  "kernelspec": {
   "display_name": "Python 3.8.8 64-bit ('base': conda)",
   "name": "python3"
  },
  "language_info": {
   "codemirror_mode": {
    "name": "ipython",
    "version": 3
   },
   "file_extension": ".py",
   "mimetype": "text/x-python",
   "name": "python",
   "nbconvert_exporter": "python",
   "pygments_lexer": "ipython3",
   "version": "3.8.8"
  },
  "orig_nbformat": 4
 },
 "nbformat": 4,
 "nbformat_minor": 2
}
