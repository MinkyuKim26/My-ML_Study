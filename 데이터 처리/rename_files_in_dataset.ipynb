{
 "cells": [
  {
   "cell_type": "code",
   "execution_count": 1,
   "metadata": {},
   "outputs": [],
   "source": [
    "import math\n",
    "import os\n",
    "import shutil\n"
   ]
  },
  {
   "cell_type": "code",
   "execution_count": 2,
   "metadata": {},
   "outputs": [],
   "source": [
    "file_list = os.listdir('/Users/minkyukim/Desktop/Dataset 작업중')\n",
    "file_list.remove('.DS_Store')\n",
    "file_list.sort()"
   ]
  },
  {
   "cell_type": "code",
   "execution_count": 3,
   "metadata": {},
   "outputs": [],
   "source": [
    "image_list = []\n",
    "\n",
    "for file_name in file_list :\n",
    "    if file_name[-4:] == '.jpg' :\n",
    "        image_list.append(file_name)"
   ]
  },
  {
   "cell_type": "code",
   "execution_count": 4,
   "metadata": {},
   "outputs": [],
   "source": [
    "for i in range(0, len(image_list)) :\n",
    "    rename_file_num = i + 1\n",
    "    rename_file_name = ''\n",
    "    for j in range(0, int(6 - (math.floor(math.log10(rename_file_num)) + 1))) :\n",
    "        rename_file_name += '0'\n",
    "    rename_file_name += str(rename_file_num)\n",
    "\n",
    "    ori_file_path = '/Users/minkyukim/Desktop/Dataset 작업중/' + image_list[i][:-4]\n",
    "    renamed_file_path = '/Users/minkyukim/Desktop/Dataset_rename/' + rename_file_name\n",
    "\n",
    "    shutil.copy(ori_file_path + '.jpg', renamed_file_path + '.jpg')\n",
    "    shutil.copy(ori_file_path + '.json', renamed_file_path + '.json')"
   ]
  },
  {
   "cell_type": "code",
   "execution_count": null,
   "metadata": {},
   "outputs": [],
   "source": []
  }
 ],
 "metadata": {
  "interpreter": {
   "hash": "aac1938eb6913997aabd086dca6066ca74adbc6b4a9aafd1e6821241d3ac0498"
  },
  "kernelspec": {
   "display_name": "Python 3.8.8 64-bit ('base': conda)",
   "name": "python3"
  },
  "language_info": {
   "codemirror_mode": {
    "name": "ipython",
    "version": 3
   },
   "file_extension": ".py",
   "mimetype": "text/x-python",
   "name": "python",
   "nbconvert_exporter": "python",
   "pygments_lexer": "ipython3",
   "version": "3.8.8"
  },
  "orig_nbformat": 4
 },
 "nbformat": 4,
 "nbformat_minor": 2
}
