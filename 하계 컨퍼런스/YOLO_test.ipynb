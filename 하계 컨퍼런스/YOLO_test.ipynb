{
 "cells": [
  {
   "cell_type": "markdown",
   "source": [
    "## 구현한 YOLO 테스트"
   ],
   "metadata": {}
  },
  {
   "cell_type": "code",
   "execution_count": 1,
   "source": [
    "import numpy as np\n",
    "import cv2\n",
    "from functools import partial\n",
    "import xmltodict\n",
    "from tqdm import tqdm\n",
    "import tensorflow as tf\n",
    "import random\n",
    "from glob import glob\n",
    "from tensorflow.keras.callbacks import ModelCheckpoint"
   ],
   "outputs": [],
   "metadata": {}
  },
  {
   "cell_type": "code",
   "execution_count": 2,
   "source": [
    "def load_YOLO() :\n",
    "    \n",
    "    max_num = len(tf.keras.applications.VGG16(weights='imagenet', include_top=False,  input_shape=(224, 224, 3)).layers) # 레이어 최대 개수\n",
    "\n",
    "    YOLO = tf.keras.models.Sequential(name = \"YOLO\")\n",
    "    for i in range(0, max_num-1):\n",
    "        YOLO.add(tf.keras.applications.VGG16(weights='imagenet', include_top=False,  input_shape=(224, 224, 3)).layers[i])\n",
    "\n",
    "    initializer = tf.keras.initializers.RandomNormal(mean=0.0, stddev=0.01, seed=None)\n",
    "    leaky_relu = tf.keras.layers.LeakyReLU(alpha=0.01)  \n",
    "    regularizer = tf.keras.regularizers.l2(0.0005) # L2 규제 == weight decay.\n",
    "\n",
    "    # 훈련된 모델은 더이상 건드리지 않기. 논문에서도 1주일 훈련시켰다고 말한 이후로 따로 언급이 없음\n",
    "    for layer in YOLO.layers:\n",
    "        # 훈련 X\n",
    "        layer.trainable=False\n",
    "    #     if hasattr(layer, 'kernel_regularizer'):\n",
    "    #         setattr(layer, 'kernel_regularizer', regularizer)\n",
    "        if (hasattr(layer,'activation'))==True:\n",
    "            layer.activation = leaky_relu\n",
    "\n",
    "    YOLO.add(tf.keras.layers.Conv2D(1024, (3, 3), activation=leaky_relu, kernel_initializer=initializer, kernel_regularizer = regularizer, padding = 'SAME', name = \"detection_conv1\", dtype='float32'))\n",
    "    YOLO.add(tf.keras.layers.Conv2D(1024, (3, 3), activation=leaky_relu, kernel_initializer=initializer, kernel_regularizer = regularizer, padding = 'SAME', name = \"detection_conv2\", dtype='float32'))\n",
    "    YOLO.add(tf.keras.layers.MaxPool2D((2, 2)))\n",
    "    YOLO.add(tf.keras.layers.Conv2D(1024, (3, 3), activation=leaky_relu, kernel_initializer=initializer, kernel_regularizer = regularizer, padding = 'SAME', name = \"detection_conv3\", dtype='float32'))\n",
    "    YOLO.add(tf.keras.layers.Conv2D(1024, (3, 3), activation=leaky_relu, kernel_initializer=initializer, kernel_regularizer = regularizer, padding = 'SAME', name = \"detection_conv4\", dtype='float32'))\n",
    "    # Linear 부분\n",
    "    YOLO.add(tf.keras.layers.Flatten())\n",
    "    YOLO.add(tf.keras.layers.Dense(4096, activation=leaky_relu, kernel_initializer = initializer, kernel_regularizer = regularizer, name = \"detection_linear1\", dtype='float32'))\n",
    "    YOLO.add(tf.keras.layers.Dropout(.5))\n",
    "    # 마지막 레이어의 활성화 함수는 선형 활성화 함수인데 이건 입력값을 그대로 내보내는거라 activation을 따로 지정하지 않았다.\n",
    "    YOLO.add(tf.keras.layers.Dense(1470, kernel_initializer = initializer, kernel_regularizer = regularizer, name = \"detection_linear2\", dtype='float32')) # 7*7*30 = 1470. 0~29 : (0, 0) 위치의 픽셀에 대한 각종 출력값, 30~59 : (1, 0) 위치의...블라블라\n",
    "    YOLO.add(tf.keras.layers.Reshape((7, 7, 30), name = 'output', dtype='float32'))\n",
    "    \n",
    "    # 가중치 로드\n",
    "    YOLO.load_weights('yolo-minkyuKim.h5')\n",
    "    \n",
    "    return YOLO"
   ],
   "outputs": [],
   "metadata": {}
  },
  {
   "cell_type": "code",
   "execution_count": 3,
   "source": [
    "# 출력된 bbox 정보를 사진에 출력할 수 있게 처리\n",
    "def process_bbox(x, y, bbox, image_size, classes_score, Classes_inDataSet) : \n",
    "    # size 처리\n",
    "    bbox_x = ((32.0 * x) + (bbox[0] * 32.0)) * (image_size[0]/224.0) # 예를 들어 x = 0이면 0~32사이에 중점의 x좌표가 존재\n",
    "    bbox_y = ((32.0 * y) + (bbox[1] * 32.0)) * (image_size[1]/224.0) # 예를 들어 x = 0이면 0~32사이에 중점의 x좌표가 존재\n",
    "    bbox_w = bbox[2] * image_size[0] # 전체 이미지 대비 백분위\n",
    "    bbox_h = bbox[3] * image_size[1] # 전체 이미지 대비 백분위\n",
    "    \n",
    "    min_x = int(bbox_x - bbox_w/2)\n",
    "    min_y = int(bbox_y - bbox_h/2)\n",
    "    max_x = int(bbox_x + bbox_w/2)\n",
    "    max_y = int(bbox_y + bbox_h/2)\n",
    "    \n",
    "    idx_class_highest_score = np.argmax(classes_score)\n",
    "    class_highest_score = classes_score[idx_class_highest_score] # 가장 높은 class score\n",
    "    class_highest_score_name = Classes_inDataSet[idx_class_highest_score] # 가장 높은 score를 가진 class의 이름\n",
    "    \n",
    "    output_bbox = [min_x, min_y, max_x, max_y, class_highest_score, class_highest_score_name]\n",
    "\n",
    "    return output_bbox # [x, y, w, h, class_highest_score, class_highest_score_name]로 구성된 list출력\n",
    "    "
   ],
   "outputs": [],
   "metadata": {}
  },
  {
   "cell_type": "code",
   "execution_count": 4,
   "source": [
    "def nms(bbox_list) : \n",
    "    nms_bbox_list = []\n",
    "    for i in range(0, len(bbox_list)) :\n",
    "        \n",
    "        if bbox_list[i][4] > 0.5 : # class score가 0.5넘기는 것만 출력하기\n",
    "            nms_bbox_list.append(bbox_list[i])\n",
    "    \n",
    "    return nms_bbox_list"
   ],
   "outputs": [],
   "metadata": {}
  },
  {
   "cell_type": "code",
   "execution_count": 5,
   "source": [
    "def get_YOLO_output(YOLO, Image_path, Classes_inDataSet) : \n",
    "    \n",
    "    image_cv = cv2.imread(Image_path)\n",
    "    height, width,_ = image_cv.shape # 이미지 원래 사이즈를 얻는다. [w, h]\n",
    "    image_size = [width, height]\n",
    "\n",
    "    image_cv = cv2.resize(image_cv, (224, 224))/255\n",
    "    image_cv = np.expand_dims(image_cv, axis = 0)\n",
    "\n",
    "    image_cv = image_cv.astype('float32')\n",
    "\n",
    "    YOLO_output = YOLO(image_cv)[0].numpy() # 계산의 간편함을 위해 numpy array로 변환. [1,7,7,30]으로 나오기 때문에 [7,7,30]으로 만들어줘야한다.\n",
    "    \n",
    "    bbox_list = []\n",
    "    \n",
    "    for y in range(0, 7) :\n",
    "        for x in range(0, 7) :\n",
    "            # bbox에 있는 20개의 클래스 스코어\n",
    "            bbox1_class_score = YOLO_output[y][x][10:] * YOLO_output[y][x][4]\n",
    "            bbox2_class_score = YOLO_output[y][x][10:] * YOLO_output[y][x][9]\n",
    "        \n",
    "            # bbox의 사이즈\n",
    "            bbox1 = YOLO_output[y][x][0:4]\n",
    "            bbox2 = YOLO_output[y][x][5:9]\n",
    "            \n",
    "            # 24 -> 6(box info + 가장 높게 나온 클래스 prob + 가장 높게 나온 클래스의 idx)개로 처리\n",
    "            # opencv는 min_x, min_y, max_x, max_y를 원하니 x, y, w, h를 min, max 좌표로 변환\n",
    "            process_bbox1 = process_bbox(x, y, bbox1, image_size, bbox1_class_score, Classes_inDataSet)\n",
    "            process_bbox2 = process_bbox(x, y, bbox2, image_size, bbox2_class_score, Classes_inDataSet)\n",
    "            \n",
    "            bbox_list.append(process_bbox1)\n",
    "            bbox_list.append(process_bbox2)\n",
    "    \n",
    "    nms_bbox_list = nms(bbox_list)\n",
    "    # nms_bbox_list = bbox_list\n",
    "    \n",
    "    im_read = cv2.imread(Image_path)\n",
    "\n",
    "    for i in range(0, len(nms_bbox_list)) :\n",
    "        \n",
    "        # rectangle함수를 위해 필요한 '박스의 최소 x,y 좌표'와 '박스의 최대 x,y좌표'리스트를 생성한다. \n",
    "        min_box = (nms_bbox_list[i][0], nms_bbox_list[i][1])\n",
    "        max_box = (nms_bbox_list[i][2], nms_bbox_list[i][3])\n",
    "        # 출력하기\n",
    "        cv2.rectangle(im_read, min_box, max_box, (0, 255, 0), 1) # 박스 그리기\n",
    "#         show_str = nms_bbox_list[i][5] + \" : \" + str(nms_bbox_list[i][4])\n",
    "        show_str = nms_bbox_list[i][5] # 객체 이름만 표시\n",
    "        \n",
    "        # 글자 넣어주기\n",
    "        text_min_box = (nms_bbox_list[i][0] + 2, nms_bbox_list[i][1] - 10)\n",
    "        text_max_box = (nms_bbox_list[i][2], nms_bbox_list[i][1])\n",
    "        \n",
    "        cv2.rectangle(im_read, text_min_box, text_max_box, (0, 255, 0), -1) # 박스 그리기\n",
    "        \n",
    "        cv2.putText(im_read, show_str, (min_box[0] + 2, min_box[1] - 1), cv2.FONT_HERSHEY_PLAIN, 0.7, (0,0,0), 1)\n",
    "    \n",
    "    cv2.imwrite('output.jpg', im_read)"
   ],
   "outputs": [],
   "metadata": {}
  },
  {
   "cell_type": "code",
   "execution_count": 6,
   "source": [
    "# 파일 경로\n",
    "train_x_path = '/home/ubuntu/CUAI_2021/Advanced_Minkyu_Kim/PASCAL_VOC_2007/train/VOCdevkit/VOC2007/JPEGImages'\n",
    "train_y_path = '/home/ubuntu/CUAI_2021/Advanced_Minkyu_Kim/PASCAL_VOC_2007/train/VOCdevkit/VOC2007/Annotations'\n",
    "\n",
    "test_x_path = '/home/ubuntu/CUAI_2021/Advanced_Minkyu_Kim/PASCAL_VOC_2007/test/VOCdevkit/VOC2007/JPEGImages'\n",
    "test_y_path = '/home/ubuntu/CUAI_2021/Advanced_Minkyu_Kim/PASCAL_VOC_2007/test/VOCdevkit/VOC2007/Annotations'\n",
    "\n",
    "# 파일 경로 휙득\n",
    "image_file_path_list = sorted([x for x in glob(train_x_path + '/**')])\n",
    "xml_file_path_list = sorted([x for x in glob(train_y_path + '/**')])\n",
    "\n",
    "test_image_file_path_list = sorted([x for x in glob(test_x_path + '/**')])\n",
    "test_xml_file_path_list = sorted([x for x in glob(test_y_path + '/**')])"
   ],
   "outputs": [],
   "metadata": {}
  },
  {
   "cell_type": "code",
   "execution_count": 7,
   "source": [
    "# 데이터셋에 존재하는 클래스가 얼마나 있는지 알아낸다\n",
    "def get_Classes_inImage(xml_file_list):\n",
    "    Classes_inDataSet = []\n",
    "\n",
    "    for xml_file_path in xml_file_list: \n",
    "\n",
    "        f = open(xml_file_path)\n",
    "        xml_file = xmltodict.parse(f.read())\n",
    "        # 사진에 객체가 여러개 있을 경우\n",
    "        try: \n",
    "            for obj in xml_file['annotation']['object']:\n",
    "                Classes_inDataSet.append(obj['name'].lower()) # 들어있는 객체 종류를 알아낸다\n",
    "        # 사진에 객체가 하나만 있을 경우\n",
    "        except TypeError as e: \n",
    "            Classes_inDataSet.append(xml_file['annotation']['object']['name'].lower()) \n",
    "        f.close()\n",
    "\n",
    "    Classes_inDataSet = list(set(Classes_inDataSet)) # set은 중복된걸 다 제거하고 유니크한? 아무튼 하나만 가져온다. 그걸 리스트로 만든다\n",
    "    Classes_inDataSet.sort() # 정렬\n",
    "\n",
    "    return Classes_inDataSet"
   ],
   "outputs": [],
   "metadata": {}
  },
  {
   "cell_type": "code",
   "execution_count": 8,
   "source": [
    "YOLO = load_YOLO()\n",
    "Classes_inDataSet = get_Classes_inImage(xml_file_path_list)"
   ],
   "outputs": [],
   "metadata": {}
  },
  {
   "cell_type": "code",
   "execution_count": 17,
   "source": [
    "get_YOLO_output(YOLO, test_image_file_path_list[1095], Classes_inDataSet)"
   ],
   "outputs": [],
   "metadata": {
    "scrolled": false
   }
  },
  {
   "cell_type": "code",
   "execution_count": null,
   "source": [],
   "outputs": [],
   "metadata": {}
  }
 ],
 "metadata": {
  "kernelspec": {
   "display_name": "Environment (conda_tensorflow2_p36)",
   "language": "python",
   "name": "conda_tensorflow2_p36"
  },
  "language_info": {
   "codemirror_mode": {
    "name": "ipython",
    "version": 3
   },
   "file_extension": ".py",
   "mimetype": "text/x-python",
   "name": "python",
   "nbconvert_exporter": "python",
   "pygments_lexer": "ipython3",
   "version": "3.6.10"
  }
 },
 "nbformat": 4,
 "nbformat_minor": 2
}