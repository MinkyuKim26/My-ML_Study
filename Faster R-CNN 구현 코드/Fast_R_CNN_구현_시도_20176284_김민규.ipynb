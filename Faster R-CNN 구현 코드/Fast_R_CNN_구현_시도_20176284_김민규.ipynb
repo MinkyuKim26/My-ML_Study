{
 "metadata": {
  "language_info": {
   "codemirror_mode": {
    "name": "ipython",
    "version": 3
   },
   "file_extension": ".py",
   "mimetype": "text/x-python",
   "name": "python",
   "nbconvert_exporter": "python",
   "pygments_lexer": "ipython3",
   "version": "3.8.5-final"
  },
  "orig_nbformat": 2,
  "kernelspec": {
   "name": "python3",
   "display_name": "Python 3.8.5 64-bit ('base': conda)",
   "metadata": {
    "interpreter": {
     "hash": "dec8a5ff48d192d3613b9e6713a72fe103c8e5d5c44dc7b8ee41f3376e4a4f37"
    }
   }
  }
 },
 "nbformat": 4,
 "nbformat_minor": 2,
 "cells": [
  {
   "source": [
    "## Faster R-CNN 구현"
   ],
   "cell_type": "markdown",
   "metadata": {}
  },
  {
   "source": [
    "## 1. 데이터 준비\n",
    "### PASCAL VOC 2007 이미지를 사용했다.\n",
    "### 모델 훈련에 쓸 수 있는 데이터셋으로 만들자"
   ],
   "cell_type": "markdown",
   "metadata": {}
  },
  {
   "source": [
    "# "
   ],
   "cell_type": "markdown",
   "metadata": {}
  },
  {
   "cell_type": "code",
   "execution_count": 1,
   "metadata": {},
   "outputs": [],
   "source": [
    "#Imports\n",
    "import numpy as np\n",
    "import os\n",
    "import glob\n",
    "import cv2\n",
    "import xmltodict\n",
    "import tensorflow as tf\n",
    "import math\n",
    "from tqdm import tqdm\n",
    "from PIL import Image, ImageDraw"
   ]
  },
  {
   "cell_type": "code",
   "execution_count": 5,
   "metadata": {},
   "outputs": [],
   "source": [
    "image_path = '/Users/minguinho/Documents/AI_Datasets/PASCAL_VOC_2007/train/VOCdevkit/VOC2007/JPEGImages'\n",
    "Answer_path = '/Users/minguinho/Documents/AI_Datasets/PASCAL_VOC_2007/train/VOCdevkit/VOC2007/Annotations'"
   ]
  },
  {
   "source": [
    "우선 데이터 가공부터 해야한다. 답지 파일에 있는걸 써먹을 수 있게 바꿔야한다."
   ],
   "cell_type": "markdown",
   "metadata": {}
  },
  {
   "cell_type": "code",
   "execution_count": 6,
   "metadata": {},
   "outputs": [
    {
     "output_type": "stream",
     "name": "stdout",
     "text": [
      "5011\n5011\n"
     ]
    }
   ],
   "source": [
    "list_image = sorted([x for x in glob.glob(image_path + '/**')])    \n",
    "list_answer = sorted([x for x in glob.glob(Answer_path + '/**')]) \n",
    "\n",
    "print(len(list_image)) \n",
    "print(len(list_answer)) # 당연하겠지만 사이좋게 5011개씩 있다. "
   ]
  },
  {
   "source": [
    "### Faster R-CNN은 RPN과 Fast R-CNN이 있다. \n",
    "### 13개의 VGG-16 컨볼루션 레이어를 거친 특성맵은 512개의 3*3 커널이 있는 컨볼루션 레이어(intermediate layer)를 또다시 거친다. \n",
    "### intermediate layer를 거친 레이어는 1*1 커널을 가진 cls 레이어와 reg레이어에 넣는다.\n",
    "### 2개의 레이어에 인풋을 넣었으니 결과값도 2개가 나온다. cls레이어의 결과값은 (물체일 확률, 아닐 확률)이고 reg"
   ],
   "cell_type": "markdown",
   "metadata": {}
  },
  {
   "cell_type": "code",
   "execution_count": null,
   "metadata": {},
   "outputs": [],
   "source": []
  }
 ]
}