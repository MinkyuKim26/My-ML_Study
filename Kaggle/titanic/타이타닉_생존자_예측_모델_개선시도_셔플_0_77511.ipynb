{
 "metadata": {
  "language_info": {
   "codemirror_mode": {
    "name": "ipython",
    "version": 3
   },
   "file_extension": ".py",
   "mimetype": "text/x-python",
   "name": "python",
   "nbconvert_exporter": "python",
   "pygments_lexer": "ipython3",
   "version": "3.8.5-final"
  },
  "orig_nbformat": 2,
  "kernelspec": {
   "name": "python3",
   "display_name": "Python 3",
   "language": "python"
  }
 },
 "nbformat": 4,
 "nbformat_minor": 2,
 "cells": [
  {
   "source": [
    "# 0. 라이브러리 임포트"
   ],
   "cell_type": "markdown",
   "metadata": {}
  },
  {
   "cell_type": "code",
   "execution_count": 1,
   "metadata": {},
   "outputs": [],
   "source": [
    "import numpy as np # 넘파이\n",
    "import matplotlib.pyplot as plt # 매트플롯립\n",
    "import pandas as pd # 판다스(csv)\n",
    "\n",
    "# 텐서플로우\n",
    "import tensorflow as tf\n",
    "from tensorflow import keras\n",
    "from tensorflow.keras.callbacks import ModelCheckpoint\n",
    "from tensorflow.keras.models import Sequential\n",
    "from tensorflow.keras.layers import Dense\n",
    "from tqdm import tqdm\n",
    "\n"
   ]
  },
  {
   "source": [
    "# 1. 데이터 살펴보기"
   ],
   "cell_type": "markdown",
   "metadata": {}
  },
  {
   "cell_type": "code",
   "execution_count": 2,
   "metadata": {},
   "outputs": [
    {
     "output_type": "stream",
     "name": "stdout",
     "text": [
      "(891, 12) (418, 11)\n"
     ]
    }
   ],
   "source": [
    "# 불러오기\n",
    "train = pd.read_csv('train.csv')\n",
    "test = pd.read_csv('test.csv')\n",
    "print(train.shape, test.shape)"
   ]
  },
  {
   "source": [
    "\n",
    "승객 번호(PassengerId), 생존 여부(Survived), 객실 등급(Pclass), 이름(Name), 성별(Sex), 나이(Age), 친구 & 배우자 동행 여부(SipSp), 부모 & 자식 동행 여부(Parch), 티켓(Ticket), 요금(Fare), 객실 번호(Cabin), 출발 지점(Embarked)이라는 특성이 있음을 알 수 있다\n",
    "\n"
   ],
   "cell_type": "markdown",
   "metadata": {}
  },
  {
   "cell_type": "code",
   "execution_count": 3,
   "metadata": {},
   "outputs": [
    {
     "output_type": "stream",
     "name": "stdout",
     "text": [
      "<class 'pandas.core.frame.DataFrame'>\nRangeIndex: 891 entries, 0 to 890\nData columns (total 12 columns):\n #   Column       Non-Null Count  Dtype  \n---  ------       --------------  -----  \n 0   PassengerId  891 non-null    int64  \n 1   Survived     891 non-null    int64  \n 2   Pclass       891 non-null    int64  \n 3   Name         891 non-null    object \n 4   Sex          891 non-null    object \n 5   Age          714 non-null    float64\n 6   SibSp        891 non-null    int64  \n 7   Parch        891 non-null    int64  \n 8   Ticket       891 non-null    object \n 9   Fare         891 non-null    float64\n 10  Cabin        204 non-null    object \n 11  Embarked     889 non-null    object \ndtypes: float64(2), int64(5), object(5)\nmemory usage: 83.7+ KB\n"
     ]
    }
   ],
   "source": [
    "train.info() # 간단하게 데이터를 살펴본다"
   ]
  },
  {
   "source": [
    "Train의 샘플이 891개가 있는데 'Age', 'Cabin', 'Embarked' 특성값이 샘플 갯수보다 적다는 사실을 알 수 있다. \n",
    "<br>\n",
    "=> Train에서 'Age', 'Cabin', 'Embarked' 특성에 결측치가 있다"
   ],
   "cell_type": "markdown",
   "metadata": {}
  },
  {
   "cell_type": "code",
   "execution_count": 4,
   "metadata": {},
   "outputs": [
    {
     "output_type": "stream",
     "name": "stdout",
     "text": [
      "<class 'pandas.core.frame.DataFrame'>\nRangeIndex: 418 entries, 0 to 417\nData columns (total 11 columns):\n #   Column       Non-Null Count  Dtype  \n---  ------       --------------  -----  \n 0   PassengerId  418 non-null    int64  \n 1   Pclass       418 non-null    int64  \n 2   Name         418 non-null    object \n 3   Sex          418 non-null    object \n 4   Age          332 non-null    float64\n 5   SibSp        418 non-null    int64  \n 6   Parch        418 non-null    int64  \n 7   Ticket       418 non-null    object \n 8   Fare         417 non-null    float64\n 9   Cabin        91 non-null     object \n 10  Embarked     418 non-null    object \ndtypes: float64(2), int64(4), object(5)\nmemory usage: 36.0+ KB\n"
     ]
    }
   ],
   "source": [
    "test.info() # 테스트용 데이터 확인"
   ]
  },
  {
   "source": [
    "Test의 샘플이 418개가 있다. 그런데 'Age', 'Fare', 'Cabin' 특성값이 샘플 갯수보다 적다는 사실을 알 수 있다. \n",
    "<br>\n",
    "=>Test에서 'Age', 'Fare', 'Cabin' 특성에 결측치가 있다. \n",
    "\n",
    "\n",
    "데이터를 보니 결측치가 많이 있다. 결측치들을 어떻게 채우면 좋을까?\n",
    "<br>\n",
    "데이터를 더 살펴보며 어떻게 결측치를 채울지 알아보자"
   ],
   "cell_type": "markdown",
   "metadata": {}
  },
  {
   "source": [
    "## 숫자 데이터 살펴보기\n",
    "<br>\n",
    "앞서 상관관계에서 볼 수 있던 특성들(나이, 객실 등급 등)을 좀 더 자세히 살펴보자"
   ],
   "cell_type": "markdown",
   "metadata": {}
  },
  {
   "source": [
    "### 객실 등급\n",
    "<br>\n",
    "먼저 객실 등급을 기준으로 데이터를 살펴보자."
   ],
   "cell_type": "markdown",
   "metadata": {}
  },
  {
   "cell_type": "code",
   "execution_count": 5,
   "metadata": {},
   "outputs": [
    {
     "output_type": "execute_result",
     "data": {
      "text/plain": [
       "3    491\n",
       "1    216\n",
       "2    184\n",
       "Name: Pclass, dtype: int64"
      ]
     },
     "metadata": {},
     "execution_count": 5
    }
   ],
   "source": [
    "train['Pclass'].value_counts() # 3, 1, 2등급 순으로 객실 승객이 많다."
   ]
  },
  {
   "cell_type": "code",
   "execution_count": 6,
   "metadata": {},
   "outputs": [
    {
     "output_type": "execute_result",
     "data": {
      "text/plain": [
       "   Pclass  PassengerId  Survived        Age     SibSp     Parch       Fare\n",
       "0       1   461.597222  0.629630  38.233441  0.416667  0.356481  84.154687\n",
       "1       2   445.956522  0.472826  29.877630  0.402174  0.380435  20.662183\n",
       "2       3   439.154786  0.242363  25.140620  0.615071  0.393075  13.675550"
      ],
      "text/html": "<div>\n<style scoped>\n    .dataframe tbody tr th:only-of-type {\n        vertical-align: middle;\n    }\n\n    .dataframe tbody tr th {\n        vertical-align: top;\n    }\n\n    .dataframe thead th {\n        text-align: right;\n    }\n</style>\n<table border=\"1\" class=\"dataframe\">\n  <thead>\n    <tr style=\"text-align: right;\">\n      <th></th>\n      <th>Pclass</th>\n      <th>PassengerId</th>\n      <th>Survived</th>\n      <th>Age</th>\n      <th>SibSp</th>\n      <th>Parch</th>\n      <th>Fare</th>\n    </tr>\n  </thead>\n  <tbody>\n    <tr>\n      <th>0</th>\n      <td>1</td>\n      <td>461.597222</td>\n      <td>0.629630</td>\n      <td>38.233441</td>\n      <td>0.416667</td>\n      <td>0.356481</td>\n      <td>84.154687</td>\n    </tr>\n    <tr>\n      <th>1</th>\n      <td>2</td>\n      <td>445.956522</td>\n      <td>0.472826</td>\n      <td>29.877630</td>\n      <td>0.402174</td>\n      <td>0.380435</td>\n      <td>20.662183</td>\n    </tr>\n    <tr>\n      <th>2</th>\n      <td>3</td>\n      <td>439.154786</td>\n      <td>0.242363</td>\n      <td>25.140620</td>\n      <td>0.615071</td>\n      <td>0.393075</td>\n      <td>13.675550</td>\n    </tr>\n  </tbody>\n</table>\n</div>"
     },
     "metadata": {},
     "execution_count": 6
    }
   ],
   "source": [
    "train.groupby(['Pclass'], as_index=False).mean() # 객실 등급별 승객들의 평균값. 객실 등급에 따라 생존률과 요금에 차이가 난다는 사실을 확인할 수 있다. "
   ]
  },
  {
   "source": [
    "### 동행한 형제/자매 혹은 배우자\n",
    "<br>\n",
    "이제 SibSp 항목을 살펴보자. SibSp는 '동행한 형제/자매 혹은 배우자 수'를 말한다."
   ],
   "cell_type": "markdown",
   "metadata": {}
  },
  {
   "cell_type": "code",
   "execution_count": 7,
   "metadata": {},
   "outputs": [
    {
     "output_type": "execute_result",
     "data": {
      "text/plain": [
       "0    608\n",
       "1    209\n",
       "2     28\n",
       "4     18\n",
       "3     16\n",
       "8      7\n",
       "5      5\n",
       "Name: SibSp, dtype: int64"
      ]
     },
     "metadata": {},
     "execution_count": 7
    }
   ],
   "source": [
    "train['SibSp'].value_counts()"
   ]
  },
  {
   "source": [
    "혼자 탑승한 승객이 제일 많았다. 그 다음은 1명과 동행한 승객인데 아마 형제끼리 여행한 것 보다는 부부가 함께 탑승한 경우가 많지 않을까 싶다. \n",
    "<br>\n",
    "이들 역시 종류별 평균값을 살펴보자"
   ],
   "cell_type": "markdown",
   "metadata": {}
  },
  {
   "cell_type": "code",
   "execution_count": 11,
   "metadata": {},
   "outputs": [
    {
     "output_type": "execute_result",
     "data": {
      "text/plain": [
       "   SibSp  PassengerId  Survived    Pclass        Age     Parch       Fare\n",
       "0      0   455.370066  0.345395  2.351974  31.397558  0.185855  25.692028\n",
       "1      1   439.727273  0.535885  2.057416  30.089727  0.655502  44.147370\n",
       "2      2   412.428571  0.464286  2.357143  22.620000  0.642857  51.753718\n",
       "3      3   321.562500  0.250000  2.562500  13.916667  1.312500  68.908862\n",
       "4      4   381.611111  0.166667  3.000000   7.055556  1.500000  31.855556\n",
       "5      5   336.800000  0.000000  3.000000  10.200000  2.000000  46.900000\n",
       "6      8   481.714286  0.000000  3.000000        NaN  2.000000  69.550000"
      ],
      "text/html": "<div>\n<style scoped>\n    .dataframe tbody tr th:only-of-type {\n        vertical-align: middle;\n    }\n\n    .dataframe tbody tr th {\n        vertical-align: top;\n    }\n\n    .dataframe thead th {\n        text-align: right;\n    }\n</style>\n<table border=\"1\" class=\"dataframe\">\n  <thead>\n    <tr style=\"text-align: right;\">\n      <th></th>\n      <th>SibSp</th>\n      <th>PassengerId</th>\n      <th>Survived</th>\n      <th>Pclass</th>\n      <th>Age</th>\n      <th>Parch</th>\n      <th>Fare</th>\n    </tr>\n  </thead>\n  <tbody>\n    <tr>\n      <th>0</th>\n      <td>0</td>\n      <td>455.370066</td>\n      <td>0.345395</td>\n      <td>2.351974</td>\n      <td>31.397558</td>\n      <td>0.185855</td>\n      <td>25.692028</td>\n    </tr>\n    <tr>\n      <th>1</th>\n      <td>1</td>\n      <td>439.727273</td>\n      <td>0.535885</td>\n      <td>2.057416</td>\n      <td>30.089727</td>\n      <td>0.655502</td>\n      <td>44.147370</td>\n    </tr>\n    <tr>\n      <th>2</th>\n      <td>2</td>\n      <td>412.428571</td>\n      <td>0.464286</td>\n      <td>2.357143</td>\n      <td>22.620000</td>\n      <td>0.642857</td>\n      <td>51.753718</td>\n    </tr>\n    <tr>\n      <th>3</th>\n      <td>3</td>\n      <td>321.562500</td>\n      <td>0.250000</td>\n      <td>2.562500</td>\n      <td>13.916667</td>\n      <td>1.312500</td>\n      <td>68.908862</td>\n    </tr>\n    <tr>\n      <th>4</th>\n      <td>4</td>\n      <td>381.611111</td>\n      <td>0.166667</td>\n      <td>3.000000</td>\n      <td>7.055556</td>\n      <td>1.500000</td>\n      <td>31.855556</td>\n    </tr>\n    <tr>\n      <th>5</th>\n      <td>5</td>\n      <td>336.800000</td>\n      <td>0.000000</td>\n      <td>3.000000</td>\n      <td>10.200000</td>\n      <td>2.000000</td>\n      <td>46.900000</td>\n    </tr>\n    <tr>\n      <th>6</th>\n      <td>8</td>\n      <td>481.714286</td>\n      <td>0.000000</td>\n      <td>3.000000</td>\n      <td>NaN</td>\n      <td>2.000000</td>\n      <td>69.550000</td>\n    </tr>\n  </tbody>\n</table>\n</div>"
     },
     "metadata": {},
     "execution_count": 11
    }
   ],
   "source": [
    "train.groupby(['SibSp'], as_index=False).mean()  "
   ]
  },
  {
   "source": [
    "SibSp가 5이상인 승객들은 모두 사망했다. 그리고 SibSp가 8인 사람들은 모두 나이 데이터가 없다는 것을 알 수 있다. \n",
    "<br>\n",
    "나에게 있어 가장 눈에 띄는 특성은 '나이'다. SibSp에 따라서 나이 차이가 꽤 많이 난다는 사실을 알 수 있다. 후에 나이 결측치를 채울 때 사용해야겠다. \n",
    "<br>\n",
    "그리고 요금도 차이가 난다. 동행한 사람들끼리 더 넓은 객실을 사용해서 그런가 싶다."
   ],
   "cell_type": "markdown",
   "metadata": {}
  },
  {
   "source": [
    "### 동행한 부모/자식\n",
    "<br>\n",
    "이제 동행한 부모/자식의 수를 나타내는 'Parch'항목을 살펴보자. "
   ],
   "cell_type": "markdown",
   "metadata": {}
  },
  {
   "cell_type": "code",
   "execution_count": 8,
   "metadata": {},
   "outputs": [
    {
     "output_type": "execute_result",
     "data": {
      "text/plain": [
       "0    678\n",
       "1    118\n",
       "2     80\n",
       "3      5\n",
       "5      5\n",
       "4      4\n",
       "6      1\n",
       "Name: Parch, dtype: int64"
      ]
     },
     "metadata": {},
     "execution_count": 8
    }
   ],
   "source": [
    "train['Parch'].value_counts()  "
   ]
  },
  {
   "source": [
    "부모/자식의 동행 없이 온 사람이 제일 많다. 이제 각 항목별 평균값을 살펴보자"
   ],
   "cell_type": "markdown",
   "metadata": {}
  },
  {
   "cell_type": "code",
   "execution_count": 9,
   "metadata": {},
   "outputs": [
    {
     "output_type": "execute_result",
     "data": {
      "text/plain": [
       "   Parch  PassengerId  Survived    Pclass        Age     SibSp       Fare\n",
       "0      0   445.255162  0.343658  2.321534  32.178503  0.237463  25.586774\n",
       "1      1   465.110169  0.550847  2.203390  24.422000  1.084746  46.778180\n",
       "2      2   416.662500  0.500000  2.275000  17.216912  2.062500  64.337604\n",
       "3      3   579.200000  0.600000  2.600000  33.200000  1.000000  25.951660\n",
       "4      4   384.000000  0.000000  2.500000  44.500000  0.750000  84.968750\n",
       "5      5   435.200000  0.200000  3.000000  39.200000  0.600000  32.550000\n",
       "6      6   679.000000  0.000000  3.000000  43.000000  1.000000  46.900000"
      ],
      "text/html": "<div>\n<style scoped>\n    .dataframe tbody tr th:only-of-type {\n        vertical-align: middle;\n    }\n\n    .dataframe tbody tr th {\n        vertical-align: top;\n    }\n\n    .dataframe thead th {\n        text-align: right;\n    }\n</style>\n<table border=\"1\" class=\"dataframe\">\n  <thead>\n    <tr style=\"text-align: right;\">\n      <th></th>\n      <th>Parch</th>\n      <th>PassengerId</th>\n      <th>Survived</th>\n      <th>Pclass</th>\n      <th>Age</th>\n      <th>SibSp</th>\n      <th>Fare</th>\n    </tr>\n  </thead>\n  <tbody>\n    <tr>\n      <th>0</th>\n      <td>0</td>\n      <td>445.255162</td>\n      <td>0.343658</td>\n      <td>2.321534</td>\n      <td>32.178503</td>\n      <td>0.237463</td>\n      <td>25.586774</td>\n    </tr>\n    <tr>\n      <th>1</th>\n      <td>1</td>\n      <td>465.110169</td>\n      <td>0.550847</td>\n      <td>2.203390</td>\n      <td>24.422000</td>\n      <td>1.084746</td>\n      <td>46.778180</td>\n    </tr>\n    <tr>\n      <th>2</th>\n      <td>2</td>\n      <td>416.662500</td>\n      <td>0.500000</td>\n      <td>2.275000</td>\n      <td>17.216912</td>\n      <td>2.062500</td>\n      <td>64.337604</td>\n    </tr>\n    <tr>\n      <th>3</th>\n      <td>3</td>\n      <td>579.200000</td>\n      <td>0.600000</td>\n      <td>2.600000</td>\n      <td>33.200000</td>\n      <td>1.000000</td>\n      <td>25.951660</td>\n    </tr>\n    <tr>\n      <th>4</th>\n      <td>4</td>\n      <td>384.000000</td>\n      <td>0.000000</td>\n      <td>2.500000</td>\n      <td>44.500000</td>\n      <td>0.750000</td>\n      <td>84.968750</td>\n    </tr>\n    <tr>\n      <th>5</th>\n      <td>5</td>\n      <td>435.200000</td>\n      <td>0.200000</td>\n      <td>3.000000</td>\n      <td>39.200000</td>\n      <td>0.600000</td>\n      <td>32.550000</td>\n    </tr>\n    <tr>\n      <th>6</th>\n      <td>6</td>\n      <td>679.000000</td>\n      <td>0.000000</td>\n      <td>3.000000</td>\n      <td>43.000000</td>\n      <td>1.000000</td>\n      <td>46.900000</td>\n    </tr>\n  </tbody>\n</table>\n</div>"
     },
     "metadata": {},
     "execution_count": 9
    }
   ],
   "source": [
    "train.groupby(['Parch'], as_index=False).mean() "
   ]
  },
  {
   "source": [
    "역시 나이에서 꽤나 차이가 난다. 그리고 요금도 차이가 난다. 이 역시 나이 결측치를 채울 때 참고해야겠다."
   ],
   "cell_type": "markdown",
   "metadata": {}
  },
  {
   "source": [
    "## 종류로 분류되는 데이터 살펴보기\n",
    "<br>\n",
    "숫자로 표현되지 않는 정보들(성별, 객실 등)을 살펴보자"
   ],
   "cell_type": "markdown",
   "metadata": {}
  },
  {
   "source": [
    "### 성별 데이터\n",
    "<br>\n",
    "우선 성별 데이터부터 살펴보자"
   ],
   "cell_type": "markdown",
   "metadata": {}
  },
  {
   "cell_type": "code",
   "execution_count": 6,
   "metadata": {},
   "outputs": [
    {
     "output_type": "execute_result",
     "data": {
      "text/plain": [
       "male      577\n",
       "female    314\n",
       "Name: Sex, dtype: int64"
      ]
     },
     "metadata": {},
     "execution_count": 6
    }
   ],
   "source": [
    "train['Sex'].value_counts() # 전체 탑승객을 성별로 분류"
   ]
  },
  {
   "source": [
    "남자 승객이 더 많다는 사실을 알 수 있다.\n",
    "<br>\n",
    "이제 생존한 승객들을 살펴보자."
   ],
   "cell_type": "markdown",
   "metadata": {}
  },
  {
   "cell_type": "code",
   "execution_count": 7,
   "metadata": {},
   "outputs": [
    {
     "output_type": "execute_result",
     "data": {
      "text/plain": [
       "female    233\n",
       "male      109\n",
       "Name: Sex, dtype: int64"
      ]
     },
     "metadata": {},
     "execution_count": 7
    }
   ],
   "source": [
    "train[train['Survived']==1]['Sex'].value_counts() # 생존한 탑승객 카운트"
   ]
  },
  {
   "source": [
    "남자는 109/577 ~= 19%, 여자는 233/314 ~= 74%의 생존률을 보인다. 차이가 심하다. 생존자를 판별할 때 유용하게 사용할 수 있는 특성이라고 본다. 성별만 입력값으로 넣고 판단해도 꽤 높은 정확도를 보이지 않을까 싶을 정도다. \n",
    "<br>\n",
    "남성, 여성은 0,1 같은 이진수 값으로 처리하는게 좋을거 같다. 그래서 나중에 isMan, isWoman항목으로 바꿀거다."
   ],
   "cell_type": "markdown",
   "metadata": {}
  },
  {
   "source": [
    "### 출발 지점 데이터\n",
    "<br>\n",
    "출발 지점 데이터(Embarked)를 살펴보자"
   ],
   "cell_type": "markdown",
   "metadata": {}
  },
  {
   "cell_type": "code",
   "execution_count": 15,
   "metadata": {},
   "outputs": [
    {
     "output_type": "execute_result",
     "data": {
      "text/plain": [
       "S    644\n",
       "C    168\n",
       "Q     77\n",
       "Name: Embarked, dtype: int64"
      ]
     },
     "metadata": {},
     "execution_count": 15
    }
   ],
   "source": [
    "train['Embarked'].value_counts() "
   ]
  },
  {
   "source": [
    "S에서 탑승한 승객들이 많다. 이제 각 승객별 평균값을 살펴보자"
   ],
   "cell_type": "markdown",
   "metadata": {}
  },
  {
   "cell_type": "code",
   "execution_count": 18,
   "metadata": {},
   "outputs": [
    {
     "output_type": "execute_result",
     "data": {
      "text/plain": [
       "  Embarked  PassengerId  Survived    Pclass        Age     SibSp     Parch  \\\n",
       "0        C   445.357143  0.553571  1.886905  30.814769  0.386905  0.363095   \n",
       "1        Q   417.896104  0.389610  2.909091  28.089286  0.428571  0.168831   \n",
       "2        S   449.527950  0.336957  2.350932  29.445397  0.571429  0.413043   \n",
       "\n",
       "        Fare  \n",
       "0  59.954144  \n",
       "1  13.276030  \n",
       "2  27.079812  "
      ],
      "text/html": "<div>\n<style scoped>\n    .dataframe tbody tr th:only-of-type {\n        vertical-align: middle;\n    }\n\n    .dataframe tbody tr th {\n        vertical-align: top;\n    }\n\n    .dataframe thead th {\n        text-align: right;\n    }\n</style>\n<table border=\"1\" class=\"dataframe\">\n  <thead>\n    <tr style=\"text-align: right;\">\n      <th></th>\n      <th>Embarked</th>\n      <th>PassengerId</th>\n      <th>Survived</th>\n      <th>Pclass</th>\n      <th>Age</th>\n      <th>SibSp</th>\n      <th>Parch</th>\n      <th>Fare</th>\n    </tr>\n  </thead>\n  <tbody>\n    <tr>\n      <th>0</th>\n      <td>C</td>\n      <td>445.357143</td>\n      <td>0.553571</td>\n      <td>1.886905</td>\n      <td>30.814769</td>\n      <td>0.386905</td>\n      <td>0.363095</td>\n      <td>59.954144</td>\n    </tr>\n    <tr>\n      <th>1</th>\n      <td>Q</td>\n      <td>417.896104</td>\n      <td>0.389610</td>\n      <td>2.909091</td>\n      <td>28.089286</td>\n      <td>0.428571</td>\n      <td>0.168831</td>\n      <td>13.276030</td>\n    </tr>\n    <tr>\n      <th>2</th>\n      <td>S</td>\n      <td>449.527950</td>\n      <td>0.336957</td>\n      <td>2.350932</td>\n      <td>29.445397</td>\n      <td>0.571429</td>\n      <td>0.413043</td>\n      <td>27.079812</td>\n    </tr>\n  </tbody>\n</table>\n</div>"
     },
     "metadata": {},
     "execution_count": 18
    }
   ],
   "source": [
    "train.groupby(['Embarked'], as_index=False).mean() "
   ]
  },
  {
   "source": [
    "요금에서 차이가 많이 난다. 그런데 평균 객실 등급을 보아 C에서 탑승한 승객들 중 1등급 객실에 탑승한 사람들의 비율이 높아서 그런게 아닐까 추측해본다. "
   ],
   "cell_type": "markdown",
   "metadata": {}
  },
  {
   "source": [
    "### 객실 데이터\n",
    "<br>\n",
    "객실 데이터를 살펴보자"
   ],
   "cell_type": "markdown",
   "metadata": {}
  },
  {
   "cell_type": "code",
   "execution_count": 14,
   "metadata": {},
   "outputs": [
    {
     "output_type": "execute_result",
     "data": {
      "text/plain": [
       "G6             4\n",
       "B96 B98        4\n",
       "C23 C25 C27    4\n",
       "F2             3\n",
       "F33            3\n",
       "              ..\n",
       "C46            1\n",
       "F E69          1\n",
       "E38            1\n",
       "B94            1\n",
       "C148           1\n",
       "Name: Cabin, Length: 147, dtype: int64"
      ]
     },
     "metadata": {},
     "execution_count": 14
    }
   ],
   "source": [
    "train['Cabin'].value_counts()"
   ]
  },
  {
   "source": [
    "종류가 엄청 많다. 2개 이상의 객실이 적힌 자료도 있다는 사실을 알 수 있다. \n",
    "<br>\n",
    "이상태로는 사용하기 힘든 종류의 데이터라 판단된다.\n",
    "<br>\n",
    "<br>\n",
    "데이터를 전체적으로 둘러보았다. 이제 결측치를 채우며 데이터를 더 자세히 관찰하는 시간을 가져보자"
   ],
   "cell_type": "markdown",
   "metadata": {}
  },
  {
   "source": [
    "# 2. 결측치 채우기"
   ],
   "cell_type": "markdown",
   "metadata": {}
  },
  {
   "source": [
    "결측치를 채워보자. 우리가 결측치를 채워야할 데이터는 훈련 데이터는 'Age', 'Cabin', 'Embarked'고 테스트 데이터는 'Age', 'Fare', 'Cabin' 항목이다."
   ],
   "cell_type": "markdown",
   "metadata": {}
  },
  {
   "source": [
    "## 2-1. 출발지점 결측치 채우기\n",
    "<br>\n",
    "우선 train의 출발지점(Embarked) 정보부터 채워보도록 하자. 출발지점이 누락된 승객은 2명밖에 없다.\n",
    "<br>\n",
    "이들의 정보를 살펴보자\n"
   ],
   "cell_type": "markdown",
   "metadata": {}
  },
  {
   "cell_type": "code",
   "execution_count": 3,
   "metadata": {},
   "outputs": [
    {
     "output_type": "execute_result",
     "data": {
      "text/plain": [
       "     PassengerId  Survived  Pclass                                       Name  \\\n",
       "61            62         1       1                        Icard, Miss. Amelie   \n",
       "829          830         1       1  Stone, Mrs. George Nelson (Martha Evelyn)   \n",
       "\n",
       "        Sex   Age  SibSp  Parch  Ticket  Fare Cabin Embarked  \n",
       "61   female  38.0      0      0  113572  80.0   B28      NaN  \n",
       "829  female  62.0      0      0  113572  80.0   B28      NaN  "
      ],
      "text/html": "<div>\n<style scoped>\n    .dataframe tbody tr th:only-of-type {\n        vertical-align: middle;\n    }\n\n    .dataframe tbody tr th {\n        vertical-align: top;\n    }\n\n    .dataframe thead th {\n        text-align: right;\n    }\n</style>\n<table border=\"1\" class=\"dataframe\">\n  <thead>\n    <tr style=\"text-align: right;\">\n      <th></th>\n      <th>PassengerId</th>\n      <th>Survived</th>\n      <th>Pclass</th>\n      <th>Name</th>\n      <th>Sex</th>\n      <th>Age</th>\n      <th>SibSp</th>\n      <th>Parch</th>\n      <th>Ticket</th>\n      <th>Fare</th>\n      <th>Cabin</th>\n      <th>Embarked</th>\n    </tr>\n  </thead>\n  <tbody>\n    <tr>\n      <th>61</th>\n      <td>62</td>\n      <td>1</td>\n      <td>1</td>\n      <td>Icard, Miss. Amelie</td>\n      <td>female</td>\n      <td>38.0</td>\n      <td>0</td>\n      <td>0</td>\n      <td>113572</td>\n      <td>80.0</td>\n      <td>B28</td>\n      <td>NaN</td>\n    </tr>\n    <tr>\n      <th>829</th>\n      <td>830</td>\n      <td>1</td>\n      <td>1</td>\n      <td>Stone, Mrs. George Nelson (Martha Evelyn)</td>\n      <td>female</td>\n      <td>62.0</td>\n      <td>0</td>\n      <td>0</td>\n      <td>113572</td>\n      <td>80.0</td>\n      <td>B28</td>\n      <td>NaN</td>\n    </tr>\n  </tbody>\n</table>\n</div>"
     },
     "metadata": {},
     "execution_count": 3
    }
   ],
   "source": [
    " train[train['Embarked'].isna()]"
   ]
  },
  {
   "source": [
    "두 명 모두 1등급 객실을 사용했고 생존에 성공했고 동행한 형제/자매나 배우자가 없으며 부모/자식과도 같이 동행하지 않았음을 알 수 있다. \n",
    "<br>\n",
    "그런데 같은 객실을 사용한 것으로 보아 어떠한 인연이 있던게 아닌가 추측된다. "
   ],
   "cell_type": "markdown",
   "metadata": {}
  },
  {
   "source": [
    "결측치를 채우기 위해 동행인 없이 'B'가 객실 정보에 들어있는 1등급 객실 승객들을 살펴보자"
   ],
   "cell_type": "markdown",
   "metadata": {}
  },
  {
   "cell_type": "code",
   "execution_count": 7,
   "metadata": {},
   "outputs": [
    {
     "output_type": "execute_result",
     "data": {
      "text/plain": [
       "  Embarked        Fare\n",
       "0        C  115.974533\n",
       "1        S   59.944318"
      ],
      "text/html": "<div>\n<style scoped>\n    .dataframe tbody tr th:only-of-type {\n        vertical-align: middle;\n    }\n\n    .dataframe tbody tr th {\n        vertical-align: top;\n    }\n\n    .dataframe thead th {\n        text-align: right;\n    }\n</style>\n<table border=\"1\" class=\"dataframe\">\n  <thead>\n    <tr style=\"text-align: right;\">\n      <th></th>\n      <th>Embarked</th>\n      <th>Fare</th>\n    </tr>\n  </thead>\n  <tbody>\n    <tr>\n      <th>0</th>\n      <td>C</td>\n      <td>115.974533</td>\n    </tr>\n    <tr>\n      <th>1</th>\n      <td>S</td>\n      <td>59.944318</td>\n    </tr>\n  </tbody>\n</table>\n</div>"
     },
     "metadata": {},
     "execution_count": 7
    }
   ],
   "source": [
    "train[(train['Pclass']==1) & (train['Cabin'].str.contains(\"B\") == True) & (train['Parch']==0) & (train['SibSp']==0)].groupby(['Embarked'], as_index=False)['Fare'].mean()"
   ]
  },
  {
   "source": [
    "차이가 많이 난다. 115.97453 - 80 = 35.97453이고 80 - 59.944318 ~= 20이므로 비교적 더 가까운 S에서 출발했다고 가정하자."
   ],
   "cell_type": "markdown",
   "metadata": {}
  },
  {
   "cell_type": "code",
   "execution_count": 4,
   "metadata": {},
   "outputs": [],
   "source": [
    "train['Embarked'].fillna('S', inplace=True) # 결측치를 S로 채웠다. "
   ]
  },
  {
   "source": [
    "## 2-2. 객실 결측치 채우기\n",
    "<br>\n",
    "이제 가장 결측치가 많은 'Cabin' 특성을 채우자. 앞서 확인했듯 객실종류가 굉장히 많았다. B20, C27, F 등등...\n",
    "<br>\n",
    "그러나 이들 데이터가 갖고 있는 공통점이 있다. 바로 숫자 앞에 있는 알파벳이다. 숫자의 공통점 보다는 영어의 공통점을 더 많이 발견할 수 있었다.\n",
    "<br>\n",
    "고로 나는 데이터의 원활한 분류를 위해 객실 데이터를 앞의 영어만 남겨놓고 다 지울거다."
   ],
   "cell_type": "markdown",
   "metadata": {}
  },
  {
   "cell_type": "code",
   "execution_count": 3,
   "metadata": {},
   "outputs": [],
   "source": [
    "# 객실 번호를 영어만 남겨놓기\n",
    "train['Cabin'] = train['Cabin'].str[0]\n",
    "test['Cabin'] = test['Cabin'].str[0]"
   ]
  },
  {
   "source": [
    "앞에 알파벳만 남겨진 객실 데이터 자료를 살펴보자"
   ],
   "cell_type": "markdown",
   "metadata": {}
  },
  {
   "cell_type": "code",
   "execution_count": 11,
   "metadata": {},
   "outputs": [
    {
     "output_type": "execute_result",
     "data": {
      "text/plain": [
       "C    59\n",
       "B    47\n",
       "D    33\n",
       "E    32\n",
       "A    15\n",
       "F    13\n",
       "G     4\n",
       "T     1\n",
       "Name: Cabin, dtype: int64"
      ]
     },
     "metadata": {},
     "execution_count": 11
    }
   ],
   "source": [
    "train['Cabin'].value_counts()"
   ]
  },
  {
   "source": [
    "깔끔하게 분류된다. 이제 객실 등급별로 데이터를 살펴보자"
   ],
   "cell_type": "markdown",
   "metadata": {}
  },
  {
   "cell_type": "code",
   "execution_count": 12,
   "metadata": {},
   "outputs": [
    {
     "output_type": "execute_result",
     "data": {
      "text/plain": [
       "  Cabin  PassengerId  Survived  Pclass        Age     SibSp     Parch  \\\n",
       "0     A   439.600000  0.466667     1.0  44.833333  0.133333  0.133333   \n",
       "1     B   521.808511  0.744681     1.0  34.955556  0.361702  0.574468   \n",
       "2     C   406.440678  0.593220     1.0  36.086667  0.644068  0.474576   \n",
       "3     D   503.068966  0.758621     1.0  40.037037  0.482759  0.344828   \n",
       "4     E   486.120000  0.720000     1.0  40.083333  0.400000  0.320000   \n",
       "5     T   340.000000  0.000000     1.0  45.000000  0.000000  0.000000   \n",
       "\n",
       "         Fare  \n",
       "0   39.623887  \n",
       "1  113.505764  \n",
       "2  100.151341  \n",
       "3   63.324286  \n",
       "4   55.740168  \n",
       "5   35.500000  "
      ],
      "text/html": "<div>\n<style scoped>\n    .dataframe tbody tr th:only-of-type {\n        vertical-align: middle;\n    }\n\n    .dataframe tbody tr th {\n        vertical-align: top;\n    }\n\n    .dataframe thead th {\n        text-align: right;\n    }\n</style>\n<table border=\"1\" class=\"dataframe\">\n  <thead>\n    <tr style=\"text-align: right;\">\n      <th></th>\n      <th>Cabin</th>\n      <th>PassengerId</th>\n      <th>Survived</th>\n      <th>Pclass</th>\n      <th>Age</th>\n      <th>SibSp</th>\n      <th>Parch</th>\n      <th>Fare</th>\n    </tr>\n  </thead>\n  <tbody>\n    <tr>\n      <th>0</th>\n      <td>A</td>\n      <td>439.600000</td>\n      <td>0.466667</td>\n      <td>1.0</td>\n      <td>44.833333</td>\n      <td>0.133333</td>\n      <td>0.133333</td>\n      <td>39.623887</td>\n    </tr>\n    <tr>\n      <th>1</th>\n      <td>B</td>\n      <td>521.808511</td>\n      <td>0.744681</td>\n      <td>1.0</td>\n      <td>34.955556</td>\n      <td>0.361702</td>\n      <td>0.574468</td>\n      <td>113.505764</td>\n    </tr>\n    <tr>\n      <th>2</th>\n      <td>C</td>\n      <td>406.440678</td>\n      <td>0.593220</td>\n      <td>1.0</td>\n      <td>36.086667</td>\n      <td>0.644068</td>\n      <td>0.474576</td>\n      <td>100.151341</td>\n    </tr>\n    <tr>\n      <th>3</th>\n      <td>D</td>\n      <td>503.068966</td>\n      <td>0.758621</td>\n      <td>1.0</td>\n      <td>40.037037</td>\n      <td>0.482759</td>\n      <td>0.344828</td>\n      <td>63.324286</td>\n    </tr>\n    <tr>\n      <th>4</th>\n      <td>E</td>\n      <td>486.120000</td>\n      <td>0.720000</td>\n      <td>1.0</td>\n      <td>40.083333</td>\n      <td>0.400000</td>\n      <td>0.320000</td>\n      <td>55.740168</td>\n    </tr>\n    <tr>\n      <th>5</th>\n      <td>T</td>\n      <td>340.000000</td>\n      <td>0.000000</td>\n      <td>1.0</td>\n      <td>45.000000</td>\n      <td>0.000000</td>\n      <td>0.000000</td>\n      <td>35.500000</td>\n    </tr>\n  </tbody>\n</table>\n</div>"
     },
     "metadata": {},
     "execution_count": 12
    }
   ],
   "source": [
    "train[train['Pclass'] == 1].groupby(['Cabin'], as_index=False).mean()"
   ]
  },
  {
   "cell_type": "code",
   "execution_count": 13,
   "metadata": {},
   "outputs": [
    {
     "output_type": "execute_result",
     "data": {
      "text/plain": [
       "  Cabin  PassengerId  Survived  Pclass        Age  SibSp  Parch       Fare\n",
       "0     D      279.250     0.750     2.0  32.250000   0.00   0.00  13.166675\n",
       "1     E      479.750     0.750     2.0  38.833333   0.00   0.00  11.587500\n",
       "2     F      302.125     0.875     2.0  16.687500   0.75   0.75  23.750000"
      ],
      "text/html": "<div>\n<style scoped>\n    .dataframe tbody tr th:only-of-type {\n        vertical-align: middle;\n    }\n\n    .dataframe tbody tr th {\n        vertical-align: top;\n    }\n\n    .dataframe thead th {\n        text-align: right;\n    }\n</style>\n<table border=\"1\" class=\"dataframe\">\n  <thead>\n    <tr style=\"text-align: right;\">\n      <th></th>\n      <th>Cabin</th>\n      <th>PassengerId</th>\n      <th>Survived</th>\n      <th>Pclass</th>\n      <th>Age</th>\n      <th>SibSp</th>\n      <th>Parch</th>\n      <th>Fare</th>\n    </tr>\n  </thead>\n  <tbody>\n    <tr>\n      <th>0</th>\n      <td>D</td>\n      <td>279.250</td>\n      <td>0.750</td>\n      <td>2.0</td>\n      <td>32.250000</td>\n      <td>0.00</td>\n      <td>0.00</td>\n      <td>13.166675</td>\n    </tr>\n    <tr>\n      <th>1</th>\n      <td>E</td>\n      <td>479.750</td>\n      <td>0.750</td>\n      <td>2.0</td>\n      <td>38.833333</td>\n      <td>0.00</td>\n      <td>0.00</td>\n      <td>11.587500</td>\n    </tr>\n    <tr>\n      <th>2</th>\n      <td>F</td>\n      <td>302.125</td>\n      <td>0.875</td>\n      <td>2.0</td>\n      <td>16.687500</td>\n      <td>0.75</td>\n      <td>0.75</td>\n      <td>23.750000</td>\n    </tr>\n  </tbody>\n</table>\n</div>"
     },
     "metadata": {},
     "execution_count": 13
    }
   ],
   "source": [
    "train[train['Pclass'] == 2].groupby(['Cabin'], as_index=False).mean()"
   ]
  },
  {
   "cell_type": "code",
   "execution_count": 14,
   "metadata": {},
   "outputs": [
    {
     "output_type": "execute_result",
     "data": {
      "text/plain": [
       "  Cabin  PassengerId  Survived  Pclass        Age  SibSp     Parch      Fare\n",
       "0     E   668.666667       1.0     3.0  21.666667    0.0  0.666667  11.00000\n",
       "1     F   479.600000       0.2     3.0  28.666667    0.2  0.200000  10.61166\n",
       "2     G   216.000000       0.5     3.0  14.750000    0.5  1.250000  13.58125"
      ],
      "text/html": "<div>\n<style scoped>\n    .dataframe tbody tr th:only-of-type {\n        vertical-align: middle;\n    }\n\n    .dataframe tbody tr th {\n        vertical-align: top;\n    }\n\n    .dataframe thead th {\n        text-align: right;\n    }\n</style>\n<table border=\"1\" class=\"dataframe\">\n  <thead>\n    <tr style=\"text-align: right;\">\n      <th></th>\n      <th>Cabin</th>\n      <th>PassengerId</th>\n      <th>Survived</th>\n      <th>Pclass</th>\n      <th>Age</th>\n      <th>SibSp</th>\n      <th>Parch</th>\n      <th>Fare</th>\n    </tr>\n  </thead>\n  <tbody>\n    <tr>\n      <th>0</th>\n      <td>E</td>\n      <td>668.666667</td>\n      <td>1.0</td>\n      <td>3.0</td>\n      <td>21.666667</td>\n      <td>0.0</td>\n      <td>0.666667</td>\n      <td>11.00000</td>\n    </tr>\n    <tr>\n      <th>1</th>\n      <td>F</td>\n      <td>479.600000</td>\n      <td>0.2</td>\n      <td>3.0</td>\n      <td>28.666667</td>\n      <td>0.2</td>\n      <td>0.200000</td>\n      <td>10.61166</td>\n    </tr>\n    <tr>\n      <th>2</th>\n      <td>G</td>\n      <td>216.000000</td>\n      <td>0.5</td>\n      <td>3.0</td>\n      <td>14.750000</td>\n      <td>0.5</td>\n      <td>1.250000</td>\n      <td>13.58125</td>\n    </tr>\n  </tbody>\n</table>\n</div>"
     },
     "metadata": {},
     "execution_count": 14
    }
   ],
   "source": [
    "train[train['Pclass'] == 3].groupby(['Cabin'], as_index=False).mean()"
   ]
  },
  {
   "source": [
    "같은 객실 등급일 때, 객실 종류별로 가격이 다르다. \n",
    "<br>\n",
    "이제 같은 출발지점, 객실 종류일 때 출발지점 별로 평균 요금 차이를 살펴보자. 다 살펴보면 너무 많으니  1등급 'C' 객실 승객에 대해서만 살펴보자"
   ],
   "cell_type": "markdown",
   "metadata": {}
  },
  {
   "cell_type": "code",
   "execution_count": 15,
   "metadata": {},
   "outputs": [
    {
     "output_type": "execute_result",
     "data": {
      "text/plain": [
       "  Embarked  PassengerId  Survived  Pclass        Age     SibSp     Parch  \\\n",
       "0        C   531.238095  0.666667     1.0  33.842105  0.428571  0.380952   \n",
       "1        Q   329.500000  0.500000     1.0  38.500000  1.500000  0.000000   \n",
       "2        S   337.916667  0.555556     1.0  37.347333  0.722222  0.555556   \n",
       "\n",
       "         Fare  \n",
       "0   98.582533  \n",
       "1   90.000000  \n",
       "2  101.630442  "
      ],
      "text/html": "<div>\n<style scoped>\n    .dataframe tbody tr th:only-of-type {\n        vertical-align: middle;\n    }\n\n    .dataframe tbody tr th {\n        vertical-align: top;\n    }\n\n    .dataframe thead th {\n        text-align: right;\n    }\n</style>\n<table border=\"1\" class=\"dataframe\">\n  <thead>\n    <tr style=\"text-align: right;\">\n      <th></th>\n      <th>Embarked</th>\n      <th>PassengerId</th>\n      <th>Survived</th>\n      <th>Pclass</th>\n      <th>Age</th>\n      <th>SibSp</th>\n      <th>Parch</th>\n      <th>Fare</th>\n    </tr>\n  </thead>\n  <tbody>\n    <tr>\n      <th>0</th>\n      <td>C</td>\n      <td>531.238095</td>\n      <td>0.666667</td>\n      <td>1.0</td>\n      <td>33.842105</td>\n      <td>0.428571</td>\n      <td>0.380952</td>\n      <td>98.582533</td>\n    </tr>\n    <tr>\n      <th>1</th>\n      <td>Q</td>\n      <td>329.500000</td>\n      <td>0.500000</td>\n      <td>1.0</td>\n      <td>38.500000</td>\n      <td>1.500000</td>\n      <td>0.000000</td>\n      <td>90.000000</td>\n    </tr>\n    <tr>\n      <th>2</th>\n      <td>S</td>\n      <td>337.916667</td>\n      <td>0.555556</td>\n      <td>1.0</td>\n      <td>37.347333</td>\n      <td>0.722222</td>\n      <td>0.555556</td>\n      <td>101.630442</td>\n    </tr>\n  </tbody>\n</table>\n</div>"
     },
     "metadata": {},
     "execution_count": 15
    }
   ],
   "source": [
    "train[(train['Pclass'] == 1) & (train['Cabin'] == 'C')].groupby(['Embarked'], as_index=False).mean()"
   ]
  },
  {
   "source": [
    "요금 차이가 난다는 사실을 알 수 있다. 이제 'S'에서 탑승한 1등급 객실 승객의 객실 종류별 평균 데이터를 살펴보자"
   ],
   "cell_type": "markdown",
   "metadata": {}
  },
  {
   "cell_type": "code",
   "execution_count": 16,
   "metadata": {},
   "outputs": [
    {
     "output_type": "execute_result",
     "data": {
      "text/plain": [
       "  Cabin  PassengerId  Survived  Pclass        Age     SibSp     Parch  \\\n",
       "0     A   465.375000  0.375000     1.0  36.400000  0.000000  0.250000   \n",
       "1     B   627.869565  0.695652     1.0  33.090909  0.391304  0.608696   \n",
       "2     C   337.916667  0.555556     1.0  37.347333  0.722222  0.555556   \n",
       "3     D   564.722222  0.666667     1.0  39.000000  0.388889  0.388889   \n",
       "4     E   498.900000  0.650000     1.0  41.421053  0.350000  0.300000   \n",
       "5     T   340.000000  0.000000     1.0  45.000000  0.000000  0.000000   \n",
       "\n",
       "         Fare  \n",
       "0   40.731763  \n",
       "1   85.372283  \n",
       "2  101.630442  \n",
       "3   49.719906  \n",
       "4   46.448750  \n",
       "5   35.500000  "
      ],
      "text/html": "<div>\n<style scoped>\n    .dataframe tbody tr th:only-of-type {\n        vertical-align: middle;\n    }\n\n    .dataframe tbody tr th {\n        vertical-align: top;\n    }\n\n    .dataframe thead th {\n        text-align: right;\n    }\n</style>\n<table border=\"1\" class=\"dataframe\">\n  <thead>\n    <tr style=\"text-align: right;\">\n      <th></th>\n      <th>Cabin</th>\n      <th>PassengerId</th>\n      <th>Survived</th>\n      <th>Pclass</th>\n      <th>Age</th>\n      <th>SibSp</th>\n      <th>Parch</th>\n      <th>Fare</th>\n    </tr>\n  </thead>\n  <tbody>\n    <tr>\n      <th>0</th>\n      <td>A</td>\n      <td>465.375000</td>\n      <td>0.375000</td>\n      <td>1.0</td>\n      <td>36.400000</td>\n      <td>0.000000</td>\n      <td>0.250000</td>\n      <td>40.731763</td>\n    </tr>\n    <tr>\n      <th>1</th>\n      <td>B</td>\n      <td>627.869565</td>\n      <td>0.695652</td>\n      <td>1.0</td>\n      <td>33.090909</td>\n      <td>0.391304</td>\n      <td>0.608696</td>\n      <td>85.372283</td>\n    </tr>\n    <tr>\n      <th>2</th>\n      <td>C</td>\n      <td>337.916667</td>\n      <td>0.555556</td>\n      <td>1.0</td>\n      <td>37.347333</td>\n      <td>0.722222</td>\n      <td>0.555556</td>\n      <td>101.630442</td>\n    </tr>\n    <tr>\n      <th>3</th>\n      <td>D</td>\n      <td>564.722222</td>\n      <td>0.666667</td>\n      <td>1.0</td>\n      <td>39.000000</td>\n      <td>0.388889</td>\n      <td>0.388889</td>\n      <td>49.719906</td>\n    </tr>\n    <tr>\n      <th>4</th>\n      <td>E</td>\n      <td>498.900000</td>\n      <td>0.650000</td>\n      <td>1.0</td>\n      <td>41.421053</td>\n      <td>0.350000</td>\n      <td>0.300000</td>\n      <td>46.448750</td>\n    </tr>\n    <tr>\n      <th>5</th>\n      <td>T</td>\n      <td>340.000000</td>\n      <td>0.000000</td>\n      <td>1.0</td>\n      <td>45.000000</td>\n      <td>0.000000</td>\n      <td>0.000000</td>\n      <td>35.500000</td>\n    </tr>\n  </tbody>\n</table>\n</div>"
     },
     "metadata": {},
     "execution_count": 16
    }
   ],
   "source": [
    "train[(train['Pclass'] == 1) & (train['Embarked'] == 'S')].groupby(['Cabin'], as_index=False).mean()"
   ]
  },
  {
   "source": [
    "앞서 동행한 사람의 여부에 따라서도 요금에 차이가 났다는 사실을 확인하였다. 같은 종류, 등급의 객실이고 같은 지점에서 출발했을 때 동행한 사람 별로 요금 차이가 얼마나 나는지 알아보자.\n",
    "<br>\n",
    "앞서 했듯 가장 표본이 많은 'C' 객실에 대해서만 알아보자"
   ],
   "cell_type": "markdown",
   "metadata": {}
  },
  {
   "cell_type": "code",
   "execution_count": 18,
   "metadata": {},
   "outputs": [
    {
     "output_type": "execute_result",
     "data": {
      "text/plain": [
       "   SibSp  PassengerId  Survived  Pclass        Age     Parch        Fare\n",
       "0      0   342.941176  0.529412     1.0  45.791667  0.235294   78.315688\n",
       "1      1   353.600000  0.533333     1.0  32.280000  0.666667   99.123333\n",
       "2      2   572.000000  1.000000     1.0  53.000000  0.000000   51.479200\n",
       "3      3   153.000000  0.666667     1.0  22.000000  2.000000  263.000000"
      ],
      "text/html": "<div>\n<style scoped>\n    .dataframe tbody tr th:only-of-type {\n        vertical-align: middle;\n    }\n\n    .dataframe tbody tr th {\n        vertical-align: top;\n    }\n\n    .dataframe thead th {\n        text-align: right;\n    }\n</style>\n<table border=\"1\" class=\"dataframe\">\n  <thead>\n    <tr style=\"text-align: right;\">\n      <th></th>\n      <th>SibSp</th>\n      <th>PassengerId</th>\n      <th>Survived</th>\n      <th>Pclass</th>\n      <th>Age</th>\n      <th>Parch</th>\n      <th>Fare</th>\n    </tr>\n  </thead>\n  <tbody>\n    <tr>\n      <th>0</th>\n      <td>0</td>\n      <td>342.941176</td>\n      <td>0.529412</td>\n      <td>1.0</td>\n      <td>45.791667</td>\n      <td>0.235294</td>\n      <td>78.315688</td>\n    </tr>\n    <tr>\n      <th>1</th>\n      <td>1</td>\n      <td>353.600000</td>\n      <td>0.533333</td>\n      <td>1.0</td>\n      <td>32.280000</td>\n      <td>0.666667</td>\n      <td>99.123333</td>\n    </tr>\n    <tr>\n      <th>2</th>\n      <td>2</td>\n      <td>572.000000</td>\n      <td>1.000000</td>\n      <td>1.0</td>\n      <td>53.000000</td>\n      <td>0.000000</td>\n      <td>51.479200</td>\n    </tr>\n    <tr>\n      <th>3</th>\n      <td>3</td>\n      <td>153.000000</td>\n      <td>0.666667</td>\n      <td>1.0</td>\n      <td>22.000000</td>\n      <td>2.000000</td>\n      <td>263.000000</td>\n    </tr>\n  </tbody>\n</table>\n</div>"
     },
     "metadata": {},
     "execution_count": 18
    }
   ],
   "source": [
    "train[(train['Pclass'] == 1) & (train['Embarked'] == 'S') & (train['Cabin'] == 'C')].groupby(['SibSp'], as_index=False).mean()"
   ]
  },
  {
   "cell_type": "code",
   "execution_count": 19,
   "metadata": {},
   "outputs": [
    {
     "output_type": "execute_result",
     "data": {
      "text/plain": [
       "   Parch  PassengerId  Survived  Pclass        Age     SibSp        Fare\n",
       "0      0   355.500000  0.576923     1.0  41.775000  0.500000   64.625162\n",
       "1      1   301.000000  0.500000     1.0  48.000000  0.000000  153.462500\n",
       "2      2   268.714286  0.571429     1.0  17.845714  1.714286  201.216671\n",
       "3      4   439.000000  0.000000     1.0  64.000000  1.000000  263.000000"
      ],
      "text/html": "<div>\n<style scoped>\n    .dataframe tbody tr th:only-of-type {\n        vertical-align: middle;\n    }\n\n    .dataframe tbody tr th {\n        vertical-align: top;\n    }\n\n    .dataframe thead th {\n        text-align: right;\n    }\n</style>\n<table border=\"1\" class=\"dataframe\">\n  <thead>\n    <tr style=\"text-align: right;\">\n      <th></th>\n      <th>Parch</th>\n      <th>PassengerId</th>\n      <th>Survived</th>\n      <th>Pclass</th>\n      <th>Age</th>\n      <th>SibSp</th>\n      <th>Fare</th>\n    </tr>\n  </thead>\n  <tbody>\n    <tr>\n      <th>0</th>\n      <td>0</td>\n      <td>355.500000</td>\n      <td>0.576923</td>\n      <td>1.0</td>\n      <td>41.775000</td>\n      <td>0.500000</td>\n      <td>64.625162</td>\n    </tr>\n    <tr>\n      <th>1</th>\n      <td>1</td>\n      <td>301.000000</td>\n      <td>0.500000</td>\n      <td>1.0</td>\n      <td>48.000000</td>\n      <td>0.000000</td>\n      <td>153.462500</td>\n    </tr>\n    <tr>\n      <th>2</th>\n      <td>2</td>\n      <td>268.714286</td>\n      <td>0.571429</td>\n      <td>1.0</td>\n      <td>17.845714</td>\n      <td>1.714286</td>\n      <td>201.216671</td>\n    </tr>\n    <tr>\n      <th>3</th>\n      <td>4</td>\n      <td>439.000000</td>\n      <td>0.000000</td>\n      <td>1.0</td>\n      <td>64.000000</td>\n      <td>1.000000</td>\n      <td>263.000000</td>\n    </tr>\n  </tbody>\n</table>\n</div>"
     },
     "metadata": {},
     "execution_count": 19
    }
   ],
   "source": [
    "train[(train['Pclass'] == 1) & (train['Embarked'] == 'S') & (train['Cabin'] == 'C')].groupby(['Parch'], as_index=False).mean()"
   ]
  },
  {
   "source": [
    "요금 차이가 꽤 많이 난다. 그런데 이들을 다 고려해 객실 결측치를 채우자니 너무 복잡해지고 Parch와 SibSp모두 1 이상의 값(예 : 가족 여행)일 때는 난감해지는 상황이 발생한다.\n",
    "<br>\n",
    "그래서 SibSp와 Parch를 합한 동행 숫자 'Accompany_num'이라는 특성을 만들거다. 'Accompany_num' = 'Sibsp' + 'Parch'가 되는 것."
   ],
   "cell_type": "markdown",
   "metadata": {}
  },
  {
   "cell_type": "code",
   "execution_count": 5,
   "metadata": {},
   "outputs": [],
   "source": [
    "train['Accompany_num'] = train['SibSp'] + train['Parch']\n",
    "test['Accompany_num'] = test['SibSp'] + test['Parch']\n",
    "\n",
    "train.drop('SibSp', axis=1, inplace=True)\n",
    "train.drop('Parch', axis=1, inplace=True)\n",
    "\n",
    "test.drop('SibSp', axis=1, inplace=True)\n",
    "test.drop('Parch', axis=1, inplace=True)"
   ]
  },
  {
   "source": [
    "데이터를 확인해본다"
   ],
   "cell_type": "markdown",
   "metadata": {}
  },
  {
   "cell_type": "code",
   "execution_count": 6,
   "metadata": {},
   "outputs": [
    {
     "output_type": "execute_result",
     "data": {
      "text/plain": [
       "     PassengerId  Survived  Pclass  \\\n",
       "0              1         0       3   \n",
       "1              2         1       1   \n",
       "2              3         1       3   \n",
       "3              4         1       1   \n",
       "4              5         0       3   \n",
       "..           ...       ...     ...   \n",
       "886          887         0       2   \n",
       "887          888         1       1   \n",
       "888          889         0       3   \n",
       "889          890         1       1   \n",
       "890          891         0       3   \n",
       "\n",
       "                                                  Name     Sex   Age  \\\n",
       "0                              Braund, Mr. Owen Harris    male  22.0   \n",
       "1    Cumings, Mrs. John Bradley (Florence Briggs Th...  female  38.0   \n",
       "2                               Heikkinen, Miss. Laina  female  26.0   \n",
       "3         Futrelle, Mrs. Jacques Heath (Lily May Peel)  female  35.0   \n",
       "4                             Allen, Mr. William Henry    male  35.0   \n",
       "..                                                 ...     ...   ...   \n",
       "886                              Montvila, Rev. Juozas    male  27.0   \n",
       "887                       Graham, Miss. Margaret Edith  female  19.0   \n",
       "888           Johnston, Miss. Catherine Helen \"Carrie\"  female   NaN   \n",
       "889                              Behr, Mr. Karl Howell    male  26.0   \n",
       "890                                Dooley, Mr. Patrick    male  32.0   \n",
       "\n",
       "               Ticket     Fare Cabin Embarked  Accompany_num  \n",
       "0           A/5 21171   7.2500   NaN        S              1  \n",
       "1            PC 17599  71.2833     C        C              1  \n",
       "2    STON/O2. 3101282   7.9250   NaN        S              0  \n",
       "3              113803  53.1000     C        S              1  \n",
       "4              373450   8.0500   NaN        S              0  \n",
       "..                ...      ...   ...      ...            ...  \n",
       "886            211536  13.0000   NaN        S              0  \n",
       "887            112053  30.0000     B        S              0  \n",
       "888        W./C. 6607  23.4500   NaN        S              3  \n",
       "889            111369  30.0000     C        C              0  \n",
       "890            370376   7.7500   NaN        Q              0  \n",
       "\n",
       "[891 rows x 11 columns]"
      ],
      "text/html": "<div>\n<style scoped>\n    .dataframe tbody tr th:only-of-type {\n        vertical-align: middle;\n    }\n\n    .dataframe tbody tr th {\n        vertical-align: top;\n    }\n\n    .dataframe thead th {\n        text-align: right;\n    }\n</style>\n<table border=\"1\" class=\"dataframe\">\n  <thead>\n    <tr style=\"text-align: right;\">\n      <th></th>\n      <th>PassengerId</th>\n      <th>Survived</th>\n      <th>Pclass</th>\n      <th>Name</th>\n      <th>Sex</th>\n      <th>Age</th>\n      <th>Ticket</th>\n      <th>Fare</th>\n      <th>Cabin</th>\n      <th>Embarked</th>\n      <th>Accompany_num</th>\n    </tr>\n  </thead>\n  <tbody>\n    <tr>\n      <th>0</th>\n      <td>1</td>\n      <td>0</td>\n      <td>3</td>\n      <td>Braund, Mr. Owen Harris</td>\n      <td>male</td>\n      <td>22.0</td>\n      <td>A/5 21171</td>\n      <td>7.2500</td>\n      <td>NaN</td>\n      <td>S</td>\n      <td>1</td>\n    </tr>\n    <tr>\n      <th>1</th>\n      <td>2</td>\n      <td>1</td>\n      <td>1</td>\n      <td>Cumings, Mrs. John Bradley (Florence Briggs Th...</td>\n      <td>female</td>\n      <td>38.0</td>\n      <td>PC 17599</td>\n      <td>71.2833</td>\n      <td>C</td>\n      <td>C</td>\n      <td>1</td>\n    </tr>\n    <tr>\n      <th>2</th>\n      <td>3</td>\n      <td>1</td>\n      <td>3</td>\n      <td>Heikkinen, Miss. Laina</td>\n      <td>female</td>\n      <td>26.0</td>\n      <td>STON/O2. 3101282</td>\n      <td>7.9250</td>\n      <td>NaN</td>\n      <td>S</td>\n      <td>0</td>\n    </tr>\n    <tr>\n      <th>3</th>\n      <td>4</td>\n      <td>1</td>\n      <td>1</td>\n      <td>Futrelle, Mrs. Jacques Heath (Lily May Peel)</td>\n      <td>female</td>\n      <td>35.0</td>\n      <td>113803</td>\n      <td>53.1000</td>\n      <td>C</td>\n      <td>S</td>\n      <td>1</td>\n    </tr>\n    <tr>\n      <th>4</th>\n      <td>5</td>\n      <td>0</td>\n      <td>3</td>\n      <td>Allen, Mr. William Henry</td>\n      <td>male</td>\n      <td>35.0</td>\n      <td>373450</td>\n      <td>8.0500</td>\n      <td>NaN</td>\n      <td>S</td>\n      <td>0</td>\n    </tr>\n    <tr>\n      <th>...</th>\n      <td>...</td>\n      <td>...</td>\n      <td>...</td>\n      <td>...</td>\n      <td>...</td>\n      <td>...</td>\n      <td>...</td>\n      <td>...</td>\n      <td>...</td>\n      <td>...</td>\n      <td>...</td>\n    </tr>\n    <tr>\n      <th>886</th>\n      <td>887</td>\n      <td>0</td>\n      <td>2</td>\n      <td>Montvila, Rev. Juozas</td>\n      <td>male</td>\n      <td>27.0</td>\n      <td>211536</td>\n      <td>13.0000</td>\n      <td>NaN</td>\n      <td>S</td>\n      <td>0</td>\n    </tr>\n    <tr>\n      <th>887</th>\n      <td>888</td>\n      <td>1</td>\n      <td>1</td>\n      <td>Graham, Miss. Margaret Edith</td>\n      <td>female</td>\n      <td>19.0</td>\n      <td>112053</td>\n      <td>30.0000</td>\n      <td>B</td>\n      <td>S</td>\n      <td>0</td>\n    </tr>\n    <tr>\n      <th>888</th>\n      <td>889</td>\n      <td>0</td>\n      <td>3</td>\n      <td>Johnston, Miss. Catherine Helen \"Carrie\"</td>\n      <td>female</td>\n      <td>NaN</td>\n      <td>W./C. 6607</td>\n      <td>23.4500</td>\n      <td>NaN</td>\n      <td>S</td>\n      <td>3</td>\n    </tr>\n    <tr>\n      <th>889</th>\n      <td>890</td>\n      <td>1</td>\n      <td>1</td>\n      <td>Behr, Mr. Karl Howell</td>\n      <td>male</td>\n      <td>26.0</td>\n      <td>111369</td>\n      <td>30.0000</td>\n      <td>C</td>\n      <td>C</td>\n      <td>0</td>\n    </tr>\n    <tr>\n      <th>890</th>\n      <td>891</td>\n      <td>0</td>\n      <td>3</td>\n      <td>Dooley, Mr. Patrick</td>\n      <td>male</td>\n      <td>32.0</td>\n      <td>370376</td>\n      <td>7.7500</td>\n      <td>NaN</td>\n      <td>Q</td>\n      <td>0</td>\n    </tr>\n  </tbody>\n</table>\n<p>891 rows × 11 columns</p>\n</div>"
     },
     "metadata": {},
     "execution_count": 6
    }
   ],
   "source": [
    "train"
   ]
  },
  {
   "cell_type": "code",
   "execution_count": 7,
   "metadata": {},
   "outputs": [
    {
     "output_type": "execute_result",
     "data": {
      "text/plain": [
       "     PassengerId  Pclass                                          Name  \\\n",
       "0            892       3                              Kelly, Mr. James   \n",
       "1            893       3              Wilkes, Mrs. James (Ellen Needs)   \n",
       "2            894       2                     Myles, Mr. Thomas Francis   \n",
       "3            895       3                              Wirz, Mr. Albert   \n",
       "4            896       3  Hirvonen, Mrs. Alexander (Helga E Lindqvist)   \n",
       "..           ...     ...                                           ...   \n",
       "413         1305       3                            Spector, Mr. Woolf   \n",
       "414         1306       1                  Oliva y Ocana, Dona. Fermina   \n",
       "415         1307       3                  Saether, Mr. Simon Sivertsen   \n",
       "416         1308       3                           Ware, Mr. Frederick   \n",
       "417         1309       3                      Peter, Master. Michael J   \n",
       "\n",
       "        Sex   Age              Ticket      Fare Cabin Embarked  Accompany_num  \n",
       "0      male  34.5              330911    7.8292   NaN        Q              0  \n",
       "1    female  47.0              363272    7.0000   NaN        S              1  \n",
       "2      male  62.0              240276    9.6875   NaN        Q              0  \n",
       "3      male  27.0              315154    8.6625   NaN        S              0  \n",
       "4    female  22.0             3101298   12.2875   NaN        S              2  \n",
       "..      ...   ...                 ...       ...   ...      ...            ...  \n",
       "413    male   NaN           A.5. 3236    8.0500   NaN        S              0  \n",
       "414  female  39.0            PC 17758  108.9000     C        C              0  \n",
       "415    male  38.5  SOTON/O.Q. 3101262    7.2500   NaN        S              0  \n",
       "416    male   NaN              359309    8.0500   NaN        S              0  \n",
       "417    male   NaN                2668   22.3583   NaN        C              2  \n",
       "\n",
       "[418 rows x 10 columns]"
      ],
      "text/html": "<div>\n<style scoped>\n    .dataframe tbody tr th:only-of-type {\n        vertical-align: middle;\n    }\n\n    .dataframe tbody tr th {\n        vertical-align: top;\n    }\n\n    .dataframe thead th {\n        text-align: right;\n    }\n</style>\n<table border=\"1\" class=\"dataframe\">\n  <thead>\n    <tr style=\"text-align: right;\">\n      <th></th>\n      <th>PassengerId</th>\n      <th>Pclass</th>\n      <th>Name</th>\n      <th>Sex</th>\n      <th>Age</th>\n      <th>Ticket</th>\n      <th>Fare</th>\n      <th>Cabin</th>\n      <th>Embarked</th>\n      <th>Accompany_num</th>\n    </tr>\n  </thead>\n  <tbody>\n    <tr>\n      <th>0</th>\n      <td>892</td>\n      <td>3</td>\n      <td>Kelly, Mr. James</td>\n      <td>male</td>\n      <td>34.5</td>\n      <td>330911</td>\n      <td>7.8292</td>\n      <td>NaN</td>\n      <td>Q</td>\n      <td>0</td>\n    </tr>\n    <tr>\n      <th>1</th>\n      <td>893</td>\n      <td>3</td>\n      <td>Wilkes, Mrs. James (Ellen Needs)</td>\n      <td>female</td>\n      <td>47.0</td>\n      <td>363272</td>\n      <td>7.0000</td>\n      <td>NaN</td>\n      <td>S</td>\n      <td>1</td>\n    </tr>\n    <tr>\n      <th>2</th>\n      <td>894</td>\n      <td>2</td>\n      <td>Myles, Mr. Thomas Francis</td>\n      <td>male</td>\n      <td>62.0</td>\n      <td>240276</td>\n      <td>9.6875</td>\n      <td>NaN</td>\n      <td>Q</td>\n      <td>0</td>\n    </tr>\n    <tr>\n      <th>3</th>\n      <td>895</td>\n      <td>3</td>\n      <td>Wirz, Mr. Albert</td>\n      <td>male</td>\n      <td>27.0</td>\n      <td>315154</td>\n      <td>8.6625</td>\n      <td>NaN</td>\n      <td>S</td>\n      <td>0</td>\n    </tr>\n    <tr>\n      <th>4</th>\n      <td>896</td>\n      <td>3</td>\n      <td>Hirvonen, Mrs. Alexander (Helga E Lindqvist)</td>\n      <td>female</td>\n      <td>22.0</td>\n      <td>3101298</td>\n      <td>12.2875</td>\n      <td>NaN</td>\n      <td>S</td>\n      <td>2</td>\n    </tr>\n    <tr>\n      <th>...</th>\n      <td>...</td>\n      <td>...</td>\n      <td>...</td>\n      <td>...</td>\n      <td>...</td>\n      <td>...</td>\n      <td>...</td>\n      <td>...</td>\n      <td>...</td>\n      <td>...</td>\n    </tr>\n    <tr>\n      <th>413</th>\n      <td>1305</td>\n      <td>3</td>\n      <td>Spector, Mr. Woolf</td>\n      <td>male</td>\n      <td>NaN</td>\n      <td>A.5. 3236</td>\n      <td>8.0500</td>\n      <td>NaN</td>\n      <td>S</td>\n      <td>0</td>\n    </tr>\n    <tr>\n      <th>414</th>\n      <td>1306</td>\n      <td>1</td>\n      <td>Oliva y Ocana, Dona. Fermina</td>\n      <td>female</td>\n      <td>39.0</td>\n      <td>PC 17758</td>\n      <td>108.9000</td>\n      <td>C</td>\n      <td>C</td>\n      <td>0</td>\n    </tr>\n    <tr>\n      <th>415</th>\n      <td>1307</td>\n      <td>3</td>\n      <td>Saether, Mr. Simon Sivertsen</td>\n      <td>male</td>\n      <td>38.5</td>\n      <td>SOTON/O.Q. 3101262</td>\n      <td>7.2500</td>\n      <td>NaN</td>\n      <td>S</td>\n      <td>0</td>\n    </tr>\n    <tr>\n      <th>416</th>\n      <td>1308</td>\n      <td>3</td>\n      <td>Ware, Mr. Frederick</td>\n      <td>male</td>\n      <td>NaN</td>\n      <td>359309</td>\n      <td>8.0500</td>\n      <td>NaN</td>\n      <td>S</td>\n      <td>0</td>\n    </tr>\n    <tr>\n      <th>417</th>\n      <td>1309</td>\n      <td>3</td>\n      <td>Peter, Master. Michael J</td>\n      <td>male</td>\n      <td>NaN</td>\n      <td>2668</td>\n      <td>22.3583</td>\n      <td>NaN</td>\n      <td>C</td>\n      <td>2</td>\n    </tr>\n  </tbody>\n</table>\n<p>418 rows × 10 columns</p>\n</div>"
     },
     "metadata": {},
     "execution_count": 7
    }
   ],
   "source": [
    "test"
   ]
  },
  {
   "source": [
    "데이터가 잘있다. 이제 Accompany_num을 기준으로 요금 평균값을 구해보자."
   ],
   "cell_type": "markdown",
   "metadata": {}
  },
  {
   "cell_type": "code",
   "execution_count": 6,
   "metadata": {},
   "outputs": [
    {
     "output_type": "execute_result",
     "data": {
      "text/plain": [
       "   Accompany_num  PassengerId  Survived  Pclass        Age        Fare\n",
       "0              0   350.642857  0.500000     1.0  46.944444   61.398214\n",
       "1              1   335.692308  0.615385     1.0  38.000000   82.778846\n",
       "2              2   445.500000  1.000000     1.0  42.000000  108.172950\n",
       "3              3   367.666667  0.333333     1.0   9.306667  151.550000\n",
       "4              5   224.500000  0.500000     1.0  32.500000  263.000000"
      ],
      "text/html": "<div>\n<style scoped>\n    .dataframe tbody tr th:only-of-type {\n        vertical-align: middle;\n    }\n\n    .dataframe tbody tr th {\n        vertical-align: top;\n    }\n\n    .dataframe thead th {\n        text-align: right;\n    }\n</style>\n<table border=\"1\" class=\"dataframe\">\n  <thead>\n    <tr style=\"text-align: right;\">\n      <th></th>\n      <th>Accompany_num</th>\n      <th>PassengerId</th>\n      <th>Survived</th>\n      <th>Pclass</th>\n      <th>Age</th>\n      <th>Fare</th>\n    </tr>\n  </thead>\n  <tbody>\n    <tr>\n      <th>0</th>\n      <td>0</td>\n      <td>350.642857</td>\n      <td>0.500000</td>\n      <td>1.0</td>\n      <td>46.944444</td>\n      <td>61.398214</td>\n    </tr>\n    <tr>\n      <th>1</th>\n      <td>1</td>\n      <td>335.692308</td>\n      <td>0.615385</td>\n      <td>1.0</td>\n      <td>38.000000</td>\n      <td>82.778846</td>\n    </tr>\n    <tr>\n      <th>2</th>\n      <td>2</td>\n      <td>445.500000</td>\n      <td>1.000000</td>\n      <td>1.0</td>\n      <td>42.000000</td>\n      <td>108.172950</td>\n    </tr>\n    <tr>\n      <th>3</th>\n      <td>3</td>\n      <td>367.666667</td>\n      <td>0.333333</td>\n      <td>1.0</td>\n      <td>9.306667</td>\n      <td>151.550000</td>\n    </tr>\n    <tr>\n      <th>4</th>\n      <td>5</td>\n      <td>224.500000</td>\n      <td>0.500000</td>\n      <td>1.0</td>\n      <td>32.500000</td>\n      <td>263.000000</td>\n    </tr>\n  </tbody>\n</table>\n</div>"
     },
     "metadata": {},
     "execution_count": 6
    }
   ],
   "source": [
    "train[(train['Pclass'] == 1) & (train['Embarked'] == 'S') & (train['Cabin'] == 'C')].groupby(['Accompany_num'], as_index=False).mean()"
   ]
  },
  {
   "cell_type": "code",
   "execution_count": 7,
   "metadata": {},
   "outputs": [
    {
     "output_type": "execute_result",
     "data": {
      "text/plain": [
       "  Cabin  PassengerId  Survived  Pclass        Age       Fare  Accompany_num\n",
       "0     A   468.142857  0.285714     1.0  44.500000  34.856543            0.0\n",
       "1     B   555.076923  0.615385     1.0  36.333333  63.029808            0.0\n",
       "2     C   350.642857  0.500000     1.0  46.944444  61.398214            0.0\n",
       "3     D   707.714286  0.571429     1.0  42.500000  36.594043            0.0\n",
       "4     E   540.500000  0.600000     1.0  46.100000  30.085000            0.0\n",
       "5     T   340.000000  0.000000     1.0  45.000000  35.500000            0.0"
      ],
      "text/html": "<div>\n<style scoped>\n    .dataframe tbody tr th:only-of-type {\n        vertical-align: middle;\n    }\n\n    .dataframe tbody tr th {\n        vertical-align: top;\n    }\n\n    .dataframe thead th {\n        text-align: right;\n    }\n</style>\n<table border=\"1\" class=\"dataframe\">\n  <thead>\n    <tr style=\"text-align: right;\">\n      <th></th>\n      <th>Cabin</th>\n      <th>PassengerId</th>\n      <th>Survived</th>\n      <th>Pclass</th>\n      <th>Age</th>\n      <th>Fare</th>\n      <th>Accompany_num</th>\n    </tr>\n  </thead>\n  <tbody>\n    <tr>\n      <th>0</th>\n      <td>A</td>\n      <td>468.142857</td>\n      <td>0.285714</td>\n      <td>1.0</td>\n      <td>44.500000</td>\n      <td>34.856543</td>\n      <td>0.0</td>\n    </tr>\n    <tr>\n      <th>1</th>\n      <td>B</td>\n      <td>555.076923</td>\n      <td>0.615385</td>\n      <td>1.0</td>\n      <td>36.333333</td>\n      <td>63.029808</td>\n      <td>0.0</td>\n    </tr>\n    <tr>\n      <th>2</th>\n      <td>C</td>\n      <td>350.642857</td>\n      <td>0.500000</td>\n      <td>1.0</td>\n      <td>46.944444</td>\n      <td>61.398214</td>\n      <td>0.0</td>\n    </tr>\n    <tr>\n      <th>3</th>\n      <td>D</td>\n      <td>707.714286</td>\n      <td>0.571429</td>\n      <td>1.0</td>\n      <td>42.500000</td>\n      <td>36.594043</td>\n      <td>0.0</td>\n    </tr>\n    <tr>\n      <th>4</th>\n      <td>E</td>\n      <td>540.500000</td>\n      <td>0.600000</td>\n      <td>1.0</td>\n      <td>46.100000</td>\n      <td>30.085000</td>\n      <td>0.0</td>\n    </tr>\n    <tr>\n      <th>5</th>\n      <td>T</td>\n      <td>340.000000</td>\n      <td>0.000000</td>\n      <td>1.0</td>\n      <td>45.000000</td>\n      <td>35.500000</td>\n      <td>0.0</td>\n    </tr>\n  </tbody>\n</table>\n</div>"
     },
     "metadata": {},
     "execution_count": 7
    }
   ],
   "source": [
    "train[(train['Pclass'] == 1) & (train['Embarked'] == 'S') & (train['Accompany_num'] == 0)].groupby(['Cabin'], as_index=False).mean()"
   ]
  },
  {
   "source": [
    "동행 숫자가 올라갈 수록 평균 요금이 올라가며 동행인이 같아도 객실 종류에 따라 평균 요금이 다르다. 그러니 동행 숫자도 객실 결측치를 채우는데 이용하자"
   ],
   "cell_type": "markdown",
   "metadata": {}
  },
  {
   "source": [
    "### 객실 결손치 채우는 함수 생성, 적용 \n",
    "<br>\n",
    "우리는 출발 지점, 동행 숫자, 객실 등급, 객실 종류에 따라 평균 요금이 다르다는 사실을 확인했다. \n",
    "<br>\n",
    "그래서 나는 객실 종류가 누락된 승객들의 요금과 출발 지점, 동행 숫자, 객실 등급, 객실 종류에 따른 평균 요금을 모두 비교해 가장 가까운 값에 해당하는 객실 종류를 결측치에 채워줄거다. "
   ],
   "cell_type": "markdown",
   "metadata": {}
  },
  {
   "cell_type": "code",
   "execution_count": 8,
   "metadata": {},
   "outputs": [],
   "source": [
    "# 객실 결측치를 채우는 함수.\n",
    "# 출발지점마다 각 승객의 요금을 각 객실의 평균값과 비교해 가장 가까이 있는 객실을 넣어준다.\n",
    "def Fill_Cabin(data):\n",
    "    for i in range(len(data)):\n",
    "\n",
    "        # 1등석\n",
    "        if ((data['Pclass'][i] == 1) & (data['Cabin'][i] not in ['A', 'B', 'C', 'D', 'E', 'F', 'G', 'T'])) : # 객실 정보가 없는 1등석 승객들의 자료만 if문 안에 들인다\n",
    "            if(data['Embarked'][i] == 'S') : # 만약 S에서 출발했으면\n",
    "                for j in range(0, train['Accompany_num'].max() + 1) : \n",
    "                    if(data['Accompany_num'][i] == j) : # 같은 동행 숫자에 대한 각 객실별 평균요금 구하기 위함\n",
    "                        diff_Cabin_A = data['Fare'][i] - data[(data['Pclass'] == 1) & (data['Cabin'] == 'A') & (data['Embarked'] == 'S') & (data['Accompany_num'] == j)]['Fare'].mean()\n",
    "                        diff_Cabin_B = data['Fare'][i] - data[(data['Pclass'] == 1) & (data['Cabin'] == 'B') & (data['Embarked'] == 'S') & (data['Accompany_num'] == j)]['Fare'].mean()\n",
    "                        diff_Cabin_C = data['Fare'][i] - data[(data['Pclass'] == 1) & (data['Cabin'] == 'C') & (data['Embarked'] == 'S') & (data['Accompany_num'] == j)]['Fare'].mean()\n",
    "                        diff_Cabin_D = data['Fare'][i] - data[(data['Pclass'] == 1) & (data['Cabin'] == 'D') & (data['Embarked'] == 'S') & (data['Accompany_num'] == j)]['Fare'].mean()\n",
    "                        diff_Cabin_E = data['Fare'][i] - data[(data['Pclass'] == 1) & (data['Cabin'] == 'E') & (data['Embarked'] == 'S') & (data['Accompany_num'] == j)]['Fare'].mean()\n",
    "                        diff_Cabin_T = data['Fare'][i] - data[(data['Pclass'] == 1) & (data['Cabin'] == 'T') & (data['Embarked'] == 'S') & (data['Accompany_num'] == j)]['Fare'].mean()\n",
    "\n",
    "                        # 다루기 쉽게 넘파이 배열로 만든 다음 NaN값을 제거해준다.\n",
    "                        diff_list = np.array([abs(diff_Cabin_A), abs(diff_Cabin_B), abs(diff_Cabin_C), abs(diff_Cabin_D), abs(diff_Cabin_E), abs(diff_Cabin_T)])\n",
    "                        diff_list = diff_list[~np.isnan(diff_list)]\n",
    "\n",
    "                        # 그리고 평균 요금과의 차이가 가장 적게 나는 객실을 구한 뒤 이를 넣어준다. 요금이 가장 적게차이나는 객실에 있었다고 가정하는 것이다. \n",
    "                        if(abs(diff_Cabin_A) == diff_list.min()):\n",
    "                            data['Cabin'][i] = 'A'\n",
    "                        elif(abs(diff_Cabin_B) == diff_list.min()):\n",
    "                            data['Cabin'][i] = 'B'\n",
    "                        elif(abs(diff_Cabin_C) == diff_list.min()):\n",
    "                            data['Cabin'][i] = 'C'\n",
    "                        elif(abs(diff_Cabin_D) == diff_list.min()):\n",
    "                            data['Cabin'][i] = 'D'\n",
    "                        elif(abs(diff_Cabin_E) == diff_list.min()):\n",
    "                            data['Cabin'][i] = 'E'\n",
    "                        elif(abs(diff_Cabin_T) == diff_list.min()):\n",
    "                            data['Cabin'][i] = 'T'\n",
    "                        break\n",
    "            # 나머지 자료에도 같은 과정을 적용한다. \n",
    "            elif(data['Embarked'][i] == 'Q') : \n",
    "                for j in range(0, train['Accompany_num'].max() + 1) : \n",
    "                    if(data['Accompany_num'][i] == j) :\n",
    "                        diff_Cabin_A = data['Fare'][i] - data[(data['Pclass'] == 1) & (data['Cabin'] == 'A') & (data['Embarked'] == 'Q') & (data['Accompany_num'] == j)]['Fare'].mean()\n",
    "                        diff_Cabin_B = data['Fare'][i] - data[(data['Pclass'] == 1) & (data['Cabin'] == 'B') & (data['Embarked'] == 'Q') & (data['Accompany_num'] == j)]['Fare'].mean()\n",
    "                        diff_Cabin_C = data['Fare'][i] - data[(data['Pclass'] == 1) & (data['Cabin'] == 'C') & (data['Embarked'] == 'Q') & (data['Accompany_num'] == j)]['Fare'].mean()\n",
    "                        diff_Cabin_D = data['Fare'][i] - data[(data['Pclass'] == 1) & (data['Cabin'] == 'D') & (data['Embarked'] == 'Q') & (data['Accompany_num'] == j)]['Fare'].mean()\n",
    "                        diff_Cabin_E = data['Fare'][i] - data[(data['Pclass'] == 1) & (data['Cabin'] == 'E') & (data['Embarked'] == 'Q') & (data['Accompany_num'] == j)]['Fare'].mean()\n",
    "                        diff_Cabin_T = data['Fare'][i] - data[(data['Pclass'] == 1) & (data['Cabin'] == 'T') & (data['Embarked'] == 'Q') & (data['Accompany_num'] == j)]['Fare'].mean()\n",
    "\n",
    "                        diff_list = np.array([abs(diff_Cabin_A), abs(diff_Cabin_B), abs(diff_Cabin_C), abs(diff_Cabin_D), abs(diff_Cabin_E), abs(diff_Cabin_T)])\n",
    "                        diff_list = diff_list[~np.isnan(diff_list)]\n",
    "                        \n",
    "                        if(abs(diff_Cabin_A) == diff_list.min()):\n",
    "                            data['Cabin'][i] = 'A'\n",
    "                        elif(abs(diff_Cabin_B) == diff_list.min()):\n",
    "                            data['Cabin'][i] = 'B'\n",
    "                        elif(abs(diff_Cabin_C) == diff_list.min()):\n",
    "                            data['Cabin'][i] = 'C'\n",
    "                        elif(abs(diff_Cabin_D) == diff_list.min()):\n",
    "                            data['Cabin'][i] = 'D'\n",
    "                        elif(abs(diff_Cabin_E) == diff_list.min()):\n",
    "                            data['Cabin'][i] = 'E'\n",
    "                        elif(abs(diff_Cabin_T) == diff_list.min()):\n",
    "                            data['Cabin'][i] = 'T'\n",
    "                        break\n",
    "\n",
    "            elif(data['Embarked'][i] == 'C') : \n",
    "                for j in range(0, train['Accompany_num'].max() + 1) : \n",
    "                    if(data['Accompany_num'][i] == j) :\n",
    "                        diff_Cabin_A = data['Fare'][i] - data[(data['Pclass'] == 1) & (data['Cabin'] == 'A') & (data['Embarked'] == 'C') & (data['Accompany_num'] == j)]['Fare'].mean()\n",
    "                        diff_Cabin_B = data['Fare'][i] - data[(data['Pclass'] == 1) & (data['Cabin'] == 'B') & (data['Embarked'] == 'C') & (data['Accompany_num'] == j)]['Fare'].mean()\n",
    "                        diff_Cabin_C = data['Fare'][i] - data[(data['Pclass'] == 1) & (data['Cabin'] == 'C') & (data['Embarked'] == 'C') & (data['Accompany_num'] == j)]['Fare'].mean()\n",
    "                        diff_Cabin_D = data['Fare'][i] - data[(data['Pclass'] == 1) & (data['Cabin'] == 'D') & (data['Embarked'] == 'C') & (data['Accompany_num'] == j)]['Fare'].mean()\n",
    "                        diff_Cabin_E = data['Fare'][i] - data[(data['Pclass'] == 1) & (data['Cabin'] == 'E') & (data['Embarked'] == 'C') & (data['Accompany_num'] == j)]['Fare'].mean()\n",
    "                        diff_Cabin_T = data['Fare'][i] - data[(data['Pclass'] == 1) & (data['Cabin'] == 'T') & (data['Embarked'] == 'C') & (data['Accompany_num'] == j)]['Fare'].mean()\n",
    "\n",
    "                        diff_list = np.array([abs(diff_Cabin_A), abs(diff_Cabin_B), abs(diff_Cabin_C), abs(diff_Cabin_D), abs(diff_Cabin_E), abs(diff_Cabin_T)])\n",
    "                        diff_list = diff_list[~np.isnan(diff_list)]\n",
    "                        \n",
    "                        if(abs(diff_Cabin_A) == diff_list.min()):\n",
    "                            data['Cabin'][i] = 'A'\n",
    "                        elif(abs(diff_Cabin_B) == diff_list.min()):\n",
    "                            data['Cabin'][i] = 'B'\n",
    "                        elif(abs(diff_Cabin_C) == diff_list.min()):\n",
    "                            data['Cabin'][i] = 'C'\n",
    "                        elif(abs(diff_Cabin_D) == diff_list.min()):\n",
    "                            data['Cabin'][i] = 'D'\n",
    "                        elif(abs(diff_Cabin_E) == diff_list.min()):\n",
    "                            data['Cabin'][i] = 'E'\n",
    "                        elif(abs(diff_Cabin_T) == diff_list.min()):\n",
    "                            data['Cabin'][i] = 'T'\n",
    "                        break\n",
    "        # 2등석\n",
    "        elif ((data['Pclass'][i] == 2) & (data['Cabin'][i] not in ['A', 'B', 'C', 'D', 'E', 'F', 'G', 'T'])) : \n",
    "            if(data['Embarked'][i] == 'S') : \n",
    "                for j in range(0, train['Accompany_num'].max() + 1) : \n",
    "                    if(data['Accompany_num'][i] == j) : # 같은 동행 숫자에 대한 각 객실별 평균요금 구하기 위함\n",
    "                        # 2등석은 F, D, E 객실만 사용했기에 F, D, E 객실에 대한 평균 요금만 구한 뒤 F, D, E 중 하나를 넣어준다. \n",
    "                        diff_Cabin_F = data['Fare'][i] - data[(data['Pclass'] == 2) & (data['Cabin'] == 'F') & (data['Embarked'] == 'S') & (data['Accompany_num'] == j)]['Fare'].mean()\n",
    "                        diff_Cabin_D = data['Fare'][i] - data[(data['Pclass'] == 2) & (data['Cabin'] == 'D') & (data['Embarked'] == 'S') & (data['Accompany_num'] == j)]['Fare'].mean()\n",
    "                        diff_Cabin_E = data['Fare'][i] - data[(data['Pclass'] == 2) & (data['Cabin'] == 'E') & (data['Embarked'] == 'S') & (data['Accompany_num'] == j)]['Fare'].mean()\n",
    "\n",
    "                        diff_list = np.array([abs(diff_Cabin_F), abs(diff_Cabin_D), abs(diff_Cabin_E)])\n",
    "                        diff_list = diff_list[~np.isnan(diff_list)]\n",
    "\n",
    "                        # 만약 요금의 평균값 자료가 없으면(자료가 부족하면) 가장 데이터가 많은 S 객실로 지정해준다\n",
    "                        if len(diff_list) == 0 : \n",
    "                            data['Cabin'][i] = 'F'\n",
    "                        else:\n",
    "                            if(abs(diff_Cabin_F) == diff_list.min()):\n",
    "                                data['Cabin'][i] = 'F'\n",
    "                            elif(abs(diff_Cabin_D) == diff_list.min()):\n",
    "                                data['Cabin'][i] = 'D'\n",
    "                            elif(abs(diff_Cabin_E) == diff_list.min()):\n",
    "                                data['Cabin'][i] = 'E'\n",
    "                        break\n",
    "            elif(data['Embarked'][i] == 'Q') : \n",
    "                for j in range(0, train['Accompany_num'].max() + 1) : \n",
    "                    if(data['Accompany_num'][i] == j) :\n",
    "                        diff_Cabin_F = data['Fare'][i] - data[(data['Pclass'] == 2) & (data['Cabin'] == 'F') & (data['Embarked'] == 'Q') & (data['Accompany_num'] == j)]['Fare'].mean()\n",
    "                        diff_Cabin_D = data['Fare'][i] - data[(data['Pclass'] == 2) & (data['Cabin'] == 'D') & (data['Embarked'] == 'Q') & (data['Accompany_num'] == j)]['Fare'].mean()\n",
    "                        diff_Cabin_E = data['Fare'][i] - data[(data['Pclass'] == 2) & (data['Cabin'] == 'E') & (data['Embarked'] == 'Q') & (data['Accompany_num'] == j)]['Fare'].mean()\n",
    "\n",
    "                        diff_list = np.array([abs(diff_Cabin_F), abs(diff_Cabin_D), abs(diff_Cabin_E)])\n",
    "                        diff_list = diff_list[~np.isnan(diff_list)]\n",
    "\n",
    "                        if len(diff_list) == 0 : \n",
    "                            data['Cabin'][i] = 'F'\n",
    "                        else:\n",
    "                            if(abs(diff_Cabin_F) == diff_list.min()):\n",
    "                                data['Cabin'][i] = 'F'\n",
    "                            elif(abs(diff_Cabin_D) == diff_list.min()):\n",
    "                                data['Cabin'][i] = 'D'\n",
    "                            elif(abs(diff_Cabin_E) == diff_list.min()):\n",
    "                                data['Cabin'][i] = 'E'\n",
    "                        break\n",
    "            elif(data['Embarked'][i] == 'C') : \n",
    "                for j in range(0, train['Accompany_num'].max() + 1) : \n",
    "                    if(data['Accompany_num'][i] == j) :\n",
    "                        diff_Cabin_F = data['Fare'][i] - data[(data['Pclass'] == 2) & (data['Cabin'] == 'F') & (data['Embarked'] == 'C') & (data['Accompany_num'] == j)]['Fare'].mean()\n",
    "                        diff_Cabin_D = data['Fare'][i] - data[(data['Pclass'] == 2) & (data['Cabin'] == 'D') & (data['Embarked'] == 'C') & (data['Accompany_num'] == j)]['Fare'].mean()\n",
    "                        diff_Cabin_E = data['Fare'][i] - data[(data['Pclass'] == 2) & (data['Cabin'] == 'E') & (data['Embarked'] == 'C') & (data['Accompany_num'] == j)]['Fare'].mean()\n",
    "\n",
    "                        diff_list = np.array([abs(diff_Cabin_F), abs(diff_Cabin_D), abs(diff_Cabin_E)])\n",
    "                        diff_list = diff_list[~np.isnan(diff_list)]\n",
    "\n",
    "                        if len(diff_list) == 0 : \n",
    "                            data['Cabin'][i] = 'F'\n",
    "                        else:\n",
    "                            if(abs(diff_Cabin_F) == diff_list.min()):\n",
    "                                data['Cabin'][i] = 'F'\n",
    "                            elif(abs(diff_Cabin_D) == diff_list.min()):\n",
    "                                data['Cabin'][i] = 'D'\n",
    "                            elif(abs(diff_Cabin_E) == diff_list.min()):\n",
    "                                data['Cabin'][i] = 'E'\n",
    "                        break\n",
    "        # 3등석\n",
    "        elif ((data['Pclass'][i] == 3) & (data['Cabin'][i] not in ['A', 'B', 'C', 'D', 'E', 'F', 'G', 'T'])) : \n",
    "            if(data['Embarked'][i] == 'S') : \n",
    "                for j in range(0, train['Accompany_num'].max() + 1) : \n",
    "                    if(data['Accompany_num'][i] == j) : # 같은 동행 숫자에 대한 각 객실별 평균요금 구하기 위함\n",
    "\n",
    "                        # 3등석은 F, G, E 객실만 존재했기에 F, G, E 객실에 대한 평균 요금만 구해 F, G, E 중 하나를 넣어준다. \n",
    "                        diff_Cabin_F = data['Fare'][i] - data[(data['Pclass'] == 3) & (data['Cabin'] == 'F') & (data['Embarked'] == 'S') & (data['Accompany_num'] == j)]['Fare'].mean()\n",
    "                        diff_Cabin_G = data['Fare'][i] - data[(data['Pclass'] == 3) & (data['Cabin'] == 'G') & (data['Embarked'] == 'S') & (data['Accompany_num'] == j)]['Fare'].mean()\n",
    "                        diff_Cabin_E = data['Fare'][i] - data[(data['Pclass'] == 3) & (data['Cabin'] == 'E') & (data['Embarked'] == 'S') & (data['Accompany_num'] == j)]['Fare'].mean()\n",
    "\n",
    "                        diff_list = np.array([abs(diff_Cabin_F), abs(diff_Cabin_G), abs(diff_Cabin_E)])\n",
    "                        diff_list = diff_list[~np.isnan(diff_list)]\n",
    "\n",
    "                        if len(diff_list) == 0 : \n",
    "                            data['Cabin'][i] = 'F'\n",
    "                        else:\n",
    "                            if(abs(diff_Cabin_F) == diff_list.min()):\n",
    "                                data['Cabin'][i] = 'F'\n",
    "                            elif(abs(diff_Cabin_G) == diff_list.min()):\n",
    "                                data['Cabin'][i] = 'G'\n",
    "                            elif(abs(diff_Cabin_E) == diff_list.min()):\n",
    "                                data['Cabin'][i] = 'E'\n",
    "                        break\n",
    "                \n",
    "            elif(data['Embarked'][i] == 'Q') : \n",
    "                for j in range(0, train['Accompany_num'].max() + 1) : \n",
    "                    if(data['Accompany_num'][i] == j) :\n",
    "                        diff_Cabin_F = data['Fare'][i] - data[(data['Pclass'] == 3) & (data['Cabin'] == 'F') & (data['Embarked'] == 'Q') & (data['Accompany_num'] == j)]['Fare'].mean()\n",
    "                        diff_Cabin_G = data['Fare'][i] - data[(data['Pclass'] == 3) & (data['Cabin'] == 'G') & (data['Embarked'] == 'Q') & (data['Accompany_num'] == j)]['Fare'].mean()\n",
    "                        diff_Cabin_E = data['Fare'][i] - data[(data['Pclass'] == 3) & (data['Cabin'] == 'E') & (data['Embarked'] == 'Q') & (data['Accompany_num'] == j)]['Fare'].mean()\n",
    "\n",
    "                        diff_list = np.array([abs(diff_Cabin_F), abs(diff_Cabin_G), abs(diff_Cabin_E)])\n",
    "                        diff_list = diff_list[~np.isnan(diff_list)]\n",
    "                        if len(diff_list) == 0 : \n",
    "                            data['Cabin'][i] = 'F'\n",
    "                        else:\n",
    "                            if(abs(diff_Cabin_F) == diff_list.min()):\n",
    "                                data['Cabin'][i] = 'F'\n",
    "                            elif(abs(diff_Cabin_G) == diff_list.min()):\n",
    "                                data['Cabin'][i] = 'G'\n",
    "                            elif(abs(diff_Cabin_E) == diff_list.min()):\n",
    "                                data['Cabin'][i] = 'E'\n",
    "                        break\n",
    "\n",
    "            elif(data['Embarked'][i] == 'C') : \n",
    "                for j in range(0, train['Accompany_num'].max() + 1) : \n",
    "                    if(data['Accompany_num'][i] == j) :\n",
    "                        diff_Cabin_F = data['Fare'][i] - data[(data['Pclass'] == 3) & (data['Cabin'] == 'F') & (data['Embarked'] == 'C') & (data['Accompany_num'] == j)]['Fare'].mean()\n",
    "                        diff_Cabin_G = data['Fare'][i] - data[(data['Pclass'] == 3) & (data['Cabin'] == 'G') & (data['Embarked'] == 'C') & (data['Accompany_num'] == j)]['Fare'].mean()\n",
    "                        diff_Cabin_E = data['Fare'][i] - data[(data['Pclass'] == 3) & (data['Cabin'] == 'E') & (data['Embarked'] == 'C') & (data['Accompany_num'] == j)]['Fare'].mean()\n",
    "\n",
    "                        diff_list = np.array([abs(diff_Cabin_F), abs(diff_Cabin_G), abs(diff_Cabin_E)])\n",
    "                        diff_list = diff_list[~np.isnan(diff_list)]\n",
    "                        if len(diff_list) == 0 : \n",
    "                            data['Cabin'][i] = 'F'\n",
    "                        else:\n",
    "                            if(abs(diff_Cabin_F) == diff_list.min()):\n",
    "                                data['Cabin'][i] = 'F'\n",
    "                            elif(abs(diff_Cabin_G) == diff_list.min()):\n",
    "                                data['Cabin'][i] = 'G'\n",
    "                            elif(abs(diff_Cabin_E) == diff_list.min()):\n",
    "                                data['Cabin'][i] = 'E'\n",
    "                        break"
   ]
  },
  {
   "cell_type": "code",
   "execution_count": 9,
   "metadata": {},
   "outputs": [],
   "source": [
    "Fill_Cabin(train) # 훈련 데이터의 결측치 채워주기\n",
    "Fill_Cabin(test) # 테스트 데이터도 결측치를 채워준다."
   ]
  },
  {
   "source": [
    "결측치가 제대로 채워졌는지 확인해보자"
   ],
   "cell_type": "markdown",
   "metadata": {}
  },
  {
   "cell_type": "code",
   "execution_count": 10,
   "metadata": {},
   "outputs": [
    {
     "output_type": "stream",
     "name": "stdout",
     "text": [
      "<class 'pandas.core.frame.DataFrame'>\nRangeIndex: 891 entries, 0 to 890\nData columns (total 11 columns):\n #   Column         Non-Null Count  Dtype  \n---  ------         --------------  -----  \n 0   PassengerId    891 non-null    int64  \n 1   Survived       891 non-null    int64  \n 2   Pclass         891 non-null    int64  \n 3   Name           891 non-null    object \n 4   Sex            891 non-null    object \n 5   Age            714 non-null    float64\n 6   Ticket         891 non-null    object \n 7   Fare           891 non-null    float64\n 8   Cabin          891 non-null    object \n 9   Embarked       891 non-null    object \n 10  Accompany_num  891 non-null    int64  \ndtypes: float64(2), int64(4), object(5)\nmemory usage: 76.7+ KB\n"
     ]
    }
   ],
   "source": [
    "train.info()"
   ]
  },
  {
   "cell_type": "code",
   "execution_count": 9,
   "metadata": {},
   "outputs": [
    {
     "output_type": "stream",
     "name": "stdout",
     "text": [
      "<class 'pandas.core.frame.DataFrame'>\nRangeIndex: 418 entries, 0 to 417\nData columns (total 10 columns):\n #   Column         Non-Null Count  Dtype  \n---  ------         --------------  -----  \n 0   PassengerId    418 non-null    int64  \n 1   Pclass         418 non-null    int64  \n 2   Name           418 non-null    object \n 3   Sex            418 non-null    object \n 4   Age            332 non-null    float64\n 5   Ticket         418 non-null    object \n 6   Fare           417 non-null    float64\n 7   Cabin          418 non-null    object \n 8   Embarked       418 non-null    object \n 9   Accompany_num  418 non-null    int64  \ndtypes: float64(2), int64(3), object(5)\nmemory usage: 32.8+ KB\n"
     ]
    }
   ],
   "source": [
    "test.info()"
   ]
  },
  {
   "source": [
    "제대로 채워졌다. \n",
    "<br>\n",
    "그런데 test의 요금값 특성에 결측치가 있었단 사실을 다시 깨달았다. 잘못하면 에러가 발생할뻔 했지만 요금 정보가 누락된 승객은 객실 정보가 있었기 때문에 에러가 발생하지 않았다. "
   ],
   "cell_type": "markdown",
   "metadata": {}
  },
  {
   "source": [
    "## 2-2-1. test의 요금 결측치 채우기\n",
    "<br>\n",
    "말이 나온김에 test의 요금 결측치를 먼저 채워주도록 하자. 우선 어떤 승객의 요금 정보가 누락되었는지 알아보자."
   ],
   "cell_type": "markdown",
   "metadata": {}
  },
  {
   "cell_type": "code",
   "execution_count": 12,
   "metadata": {},
   "outputs": [
    {
     "output_type": "execute_result",
     "data": {
      "text/plain": [
       "     PassengerId  Pclass                Name   Sex   Age Ticket  Fare Cabin  \\\n",
       "152         1044       3  Storey, Mr. Thomas  male  60.5   3701   NaN     F   \n",
       "\n",
       "    Embarked  Accompany_num  \n",
       "152        S              0  "
      ],
      "text/html": "<div>\n<style scoped>\n    .dataframe tbody tr th:only-of-type {\n        vertical-align: middle;\n    }\n\n    .dataframe tbody tr th {\n        vertical-align: top;\n    }\n\n    .dataframe thead th {\n        text-align: right;\n    }\n</style>\n<table border=\"1\" class=\"dataframe\">\n  <thead>\n    <tr style=\"text-align: right;\">\n      <th></th>\n      <th>PassengerId</th>\n      <th>Pclass</th>\n      <th>Name</th>\n      <th>Sex</th>\n      <th>Age</th>\n      <th>Ticket</th>\n      <th>Fare</th>\n      <th>Cabin</th>\n      <th>Embarked</th>\n      <th>Accompany_num</th>\n    </tr>\n  </thead>\n  <tbody>\n    <tr>\n      <th>152</th>\n      <td>1044</td>\n      <td>3</td>\n      <td>Storey, Mr. Thomas</td>\n      <td>male</td>\n      <td>60.5</td>\n      <td>3701</td>\n      <td>NaN</td>\n      <td>F</td>\n      <td>S</td>\n      <td>0</td>\n    </tr>\n  </tbody>\n</table>\n</div>"
     },
     "metadata": {},
     "execution_count": 12
    }
   ],
   "source": [
    "test[test['Fare'].isna()]"
   ]
  },
  {
   "source": [
    "'S'에서 출발해 F의 3등급 객실에 있던 승객이다. 그러니 'S'에서 출발해 F의 3등급 객실에 있으며 동행한 사람이 없는 승객들의 평균 요금을 넣기로 했다."
   ],
   "cell_type": "markdown",
   "metadata": {}
  },
  {
   "cell_type": "code",
   "execution_count": 11,
   "metadata": {},
   "outputs": [],
   "source": [
    "test['Fare'][152] =  test[(test['Cabin'] == 'F') & (test['Pclass'] == 3) & (test['Embarked'] == 'S') & (test['Accompany_num'] == 0)]['Fare'].mean() "
   ]
  },
  {
   "cell_type": "code",
   "execution_count": 12,
   "metadata": {},
   "outputs": [
    {
     "output_type": "stream",
     "name": "stdout",
     "text": [
      "<class 'pandas.core.frame.DataFrame'>\nRangeIndex: 418 entries, 0 to 417\nData columns (total 10 columns):\n #   Column         Non-Null Count  Dtype  \n---  ------         --------------  -----  \n 0   PassengerId    418 non-null    int64  \n 1   Pclass         418 non-null    int64  \n 2   Name           418 non-null    object \n 3   Sex            418 non-null    object \n 4   Age            332 non-null    float64\n 5   Ticket         418 non-null    object \n 6   Fare           418 non-null    float64\n 7   Cabin          418 non-null    object \n 8   Embarked       418 non-null    object \n 9   Accompany_num  418 non-null    int64  \ndtypes: float64(2), int64(3), object(5)\nmemory usage: 32.8+ KB\n"
     ]
    }
   ],
   "source": [
    "# 결측치가 채워졌는지 테스트 데이터를 확인해보자. 나이 데이터 빼고 다 잘채워졌다. \n",
    "test.info()"
   ]
  },
  {
   "source": [
    "## 2-3. 나이 결측치 채우기\n",
    "<br>\n",
    "이제 나이 결측치만 채우면 된다. \n",
    "<br>\n",
    "객실 등급, 객실 종류, 동행 여부에 따라 평균 나이가 다르다는 사실을 앞서 확인했다. 다시 한 번 확인해보자"
   ],
   "cell_type": "markdown",
   "metadata": {}
  },
  {
   "source": [
    "1등급 객실 승객들을 동행자 기준으로 분류한 뒤 평균값을 구해보자."
   ],
   "cell_type": "markdown",
   "metadata": {}
  },
  {
   "cell_type": "code",
   "execution_count": 15,
   "metadata": {},
   "outputs": [
    {
     "output_type": "execute_result",
     "data": {
      "text/plain": [
       "   Accompany_num  PassengerId  Survived  Pclass        Age        Fare\n",
       "0              0   478.458716  0.532110     1.0  41.005814   63.672514\n",
       "1              1   415.342857  0.728571     1.0  37.190476   91.848039\n",
       "2              2   542.875000  0.750000     1.0  39.500000   95.681075\n",
       "3              3   499.571429  0.714286     1.0  17.845714  133.521429\n",
       "4              4   527.500000  1.000000     1.0  19.500000  262.375000\n",
       "5              5   224.500000  0.500000     1.0  32.500000  263.000000"
      ],
      "text/html": "<div>\n<style scoped>\n    .dataframe tbody tr th:only-of-type {\n        vertical-align: middle;\n    }\n\n    .dataframe tbody tr th {\n        vertical-align: top;\n    }\n\n    .dataframe thead th {\n        text-align: right;\n    }\n</style>\n<table border=\"1\" class=\"dataframe\">\n  <thead>\n    <tr style=\"text-align: right;\">\n      <th></th>\n      <th>Accompany_num</th>\n      <th>PassengerId</th>\n      <th>Survived</th>\n      <th>Pclass</th>\n      <th>Age</th>\n      <th>Fare</th>\n    </tr>\n  </thead>\n  <tbody>\n    <tr>\n      <th>0</th>\n      <td>0</td>\n      <td>478.458716</td>\n      <td>0.532110</td>\n      <td>1.0</td>\n      <td>41.005814</td>\n      <td>63.672514</td>\n    </tr>\n    <tr>\n      <th>1</th>\n      <td>1</td>\n      <td>415.342857</td>\n      <td>0.728571</td>\n      <td>1.0</td>\n      <td>37.190476</td>\n      <td>91.848039</td>\n    </tr>\n    <tr>\n      <th>2</th>\n      <td>2</td>\n      <td>542.875000</td>\n      <td>0.750000</td>\n      <td>1.0</td>\n      <td>39.500000</td>\n      <td>95.681075</td>\n    </tr>\n    <tr>\n      <th>3</th>\n      <td>3</td>\n      <td>499.571429</td>\n      <td>0.714286</td>\n      <td>1.0</td>\n      <td>17.845714</td>\n      <td>133.521429</td>\n    </tr>\n    <tr>\n      <th>4</th>\n      <td>4</td>\n      <td>527.500000</td>\n      <td>1.000000</td>\n      <td>1.0</td>\n      <td>19.500000</td>\n      <td>262.375000</td>\n    </tr>\n    <tr>\n      <th>5</th>\n      <td>5</td>\n      <td>224.500000</td>\n      <td>0.500000</td>\n      <td>1.0</td>\n      <td>32.500000</td>\n      <td>263.000000</td>\n    </tr>\n  </tbody>\n</table>\n</div>"
     },
     "metadata": {},
     "execution_count": 15
    }
   ],
   "source": [
    "train[(train['Pclass'] == 1)].groupby(['Accompany_num'], as_index=False).mean()"
   ]
  },
  {
   "source": [
    "같은 객실 등급일 때 동행자 숫자에 따라 평균 나이에 큰 차이를 보이고 있다. 여러가지 기준을 추가해 데이터를 다시 한 번 확인해보자"
   ],
   "cell_type": "markdown",
   "metadata": {}
  },
  {
   "cell_type": "code",
   "execution_count": 16,
   "metadata": {},
   "outputs": [
    {
     "output_type": "execute_result",
     "data": {
      "text/plain": [
       "  Cabin  PassengerId  Survived  Pclass        Age        Fare  Accompany_num\n",
       "0     A   444.300000  0.300000     1.0  47.153846   33.824160            0.0\n",
       "1     B   499.285714  0.642857     1.0  35.692308  114.163243            0.0\n",
       "2     C   424.318182  0.590909     1.0  40.656250   66.889014            0.0\n",
       "3     D   566.583333  0.583333     1.0  38.000000   48.156600            0.0\n",
       "4     E   492.769231  0.538462     1.0  45.142857   37.781250            0.0\n",
       "5     T   340.000000  0.000000     1.0  45.000000   35.500000            0.0"
      ],
      "text/html": "<div>\n<style scoped>\n    .dataframe tbody tr th:only-of-type {\n        vertical-align: middle;\n    }\n\n    .dataframe tbody tr th {\n        vertical-align: top;\n    }\n\n    .dataframe thead th {\n        text-align: right;\n    }\n</style>\n<table border=\"1\" class=\"dataframe\">\n  <thead>\n    <tr style=\"text-align: right;\">\n      <th></th>\n      <th>Cabin</th>\n      <th>PassengerId</th>\n      <th>Survived</th>\n      <th>Pclass</th>\n      <th>Age</th>\n      <th>Fare</th>\n      <th>Accompany_num</th>\n    </tr>\n  </thead>\n  <tbody>\n    <tr>\n      <th>0</th>\n      <td>A</td>\n      <td>444.300000</td>\n      <td>0.300000</td>\n      <td>1.0</td>\n      <td>47.153846</td>\n      <td>33.824160</td>\n      <td>0.0</td>\n    </tr>\n    <tr>\n      <th>1</th>\n      <td>B</td>\n      <td>499.285714</td>\n      <td>0.642857</td>\n      <td>1.0</td>\n      <td>35.692308</td>\n      <td>114.163243</td>\n      <td>0.0</td>\n    </tr>\n    <tr>\n      <th>2</th>\n      <td>C</td>\n      <td>424.318182</td>\n      <td>0.590909</td>\n      <td>1.0</td>\n      <td>40.656250</td>\n      <td>66.889014</td>\n      <td>0.0</td>\n    </tr>\n    <tr>\n      <th>3</th>\n      <td>D</td>\n      <td>566.583333</td>\n      <td>0.583333</td>\n      <td>1.0</td>\n      <td>38.000000</td>\n      <td>48.156600</td>\n      <td>0.0</td>\n    </tr>\n    <tr>\n      <th>4</th>\n      <td>E</td>\n      <td>492.769231</td>\n      <td>0.538462</td>\n      <td>1.0</td>\n      <td>45.142857</td>\n      <td>37.781250</td>\n      <td>0.0</td>\n    </tr>\n    <tr>\n      <th>5</th>\n      <td>T</td>\n      <td>340.000000</td>\n      <td>0.000000</td>\n      <td>1.0</td>\n      <td>45.000000</td>\n      <td>35.500000</td>\n      <td>0.0</td>\n    </tr>\n  </tbody>\n</table>\n</div>"
     },
     "metadata": {},
     "execution_count": 16
    }
   ],
   "source": [
    "train[(train['Pclass'] == 1) & (train['Accompany_num'] == 0)].groupby(['Cabin'], as_index=False).mean()"
   ]
  },
  {
   "source": [
    "동행자 숫자, 객실 등급을 고정시킨 뒤 객실 종류를 기준으로 데이터를 분류한 뒤 평균값을 구했다. 객실 종류에 따라 평균 나이가 다르다는 사실을 확인할 수 있다."
   ],
   "cell_type": "markdown",
   "metadata": {}
  },
  {
   "source": [
    "이제 성별 기준으로 데이터를 나눠보자"
   ],
   "cell_type": "markdown",
   "metadata": {}
  },
  {
   "cell_type": "code",
   "execution_count": 17,
   "metadata": {},
   "outputs": [
    {
     "output_type": "execute_result",
     "data": {
      "text/plain": [
       "      Sex  PassengerId  Survived  Pclass        Age        Fare  Accompany_num\n",
       "0  female   465.676471  0.970588     1.0  34.937500  105.960538            0.0\n",
       "1    male   484.253333  0.333333     1.0  44.601852   44.501943            0.0"
      ],
      "text/html": "<div>\n<style scoped>\n    .dataframe tbody tr th:only-of-type {\n        vertical-align: middle;\n    }\n\n    .dataframe tbody tr th {\n        vertical-align: top;\n    }\n\n    .dataframe thead th {\n        text-align: right;\n    }\n</style>\n<table border=\"1\" class=\"dataframe\">\n  <thead>\n    <tr style=\"text-align: right;\">\n      <th></th>\n      <th>Sex</th>\n      <th>PassengerId</th>\n      <th>Survived</th>\n      <th>Pclass</th>\n      <th>Age</th>\n      <th>Fare</th>\n      <th>Accompany_num</th>\n    </tr>\n  </thead>\n  <tbody>\n    <tr>\n      <th>0</th>\n      <td>female</td>\n      <td>465.676471</td>\n      <td>0.970588</td>\n      <td>1.0</td>\n      <td>34.937500</td>\n      <td>105.960538</td>\n      <td>0.0</td>\n    </tr>\n    <tr>\n      <th>1</th>\n      <td>male</td>\n      <td>484.253333</td>\n      <td>0.333333</td>\n      <td>1.0</td>\n      <td>44.601852</td>\n      <td>44.501943</td>\n      <td>0.0</td>\n    </tr>\n  </tbody>\n</table>\n</div>"
     },
     "metadata": {},
     "execution_count": 17
    }
   ],
   "source": [
    "train[(train['Pclass'] == 1) & (train['Accompany_num'] == 0)].groupby(['Sex'], as_index=False).mean()"
   ]
  },
  {
   "source": [
    "앞서 구한 데이터를 남, 녀로 분류한 뒤 평균값을 다시 확인해보자. 나이 차이가 꽤 난다. "
   ],
   "cell_type": "markdown",
   "metadata": {}
  },
  {
   "source": [
    "이젠 출발지점에 따른 나이 평균값의 차이를 확인해보자. 약 4살의 차이를 보인다. "
   ],
   "cell_type": "markdown",
   "metadata": {}
  },
  {
   "cell_type": "code",
   "execution_count": 23,
   "metadata": {},
   "outputs": [
    {
     "output_type": "execute_result",
     "data": {
      "text/plain": [
       "  Embarked  PassengerId  Survived  Pclass        Age       Fare  Accompany_num\n",
       "0        C   450.000000  0.609756     1.0  38.393939  93.468595            0.0\n",
       "1        S   495.617647  0.485294     1.0  42.632075  45.707229            0.0"
      ],
      "text/html": "<div>\n<style scoped>\n    .dataframe tbody tr th:only-of-type {\n        vertical-align: middle;\n    }\n\n    .dataframe tbody tr th {\n        vertical-align: top;\n    }\n\n    .dataframe thead th {\n        text-align: right;\n    }\n</style>\n<table border=\"1\" class=\"dataframe\">\n  <thead>\n    <tr style=\"text-align: right;\">\n      <th></th>\n      <th>Embarked</th>\n      <th>PassengerId</th>\n      <th>Survived</th>\n      <th>Pclass</th>\n      <th>Age</th>\n      <th>Fare</th>\n      <th>Accompany_num</th>\n    </tr>\n  </thead>\n  <tbody>\n    <tr>\n      <th>0</th>\n      <td>C</td>\n      <td>450.000000</td>\n      <td>0.609756</td>\n      <td>1.0</td>\n      <td>38.393939</td>\n      <td>93.468595</td>\n      <td>0.0</td>\n    </tr>\n    <tr>\n      <th>1</th>\n      <td>S</td>\n      <td>495.617647</td>\n      <td>0.485294</td>\n      <td>1.0</td>\n      <td>42.632075</td>\n      <td>45.707229</td>\n      <td>0.0</td>\n    </tr>\n  </tbody>\n</table>\n</div>"
     },
     "metadata": {},
     "execution_count": 23
    }
   ],
   "source": [
    "train[(train['Pclass'] == 1) & (train['Accompany_num'] == 0)].groupby(['Embarked'], as_index=False).mean()"
   ]
  },
  {
   "source": [
    "이제 생존여부에 따른 나이 차이를 확인해보자."
   ],
   "cell_type": "markdown",
   "metadata": {}
  },
  {
   "cell_type": "code",
   "execution_count": 24,
   "metadata": {},
   "outputs": [
    {
     "output_type": "execute_result",
     "data": {
      "text/plain": [
       "   Survived  PassengerId  Pclass        Age       Fare  Accompany_num\n",
       "0         0   452.000000     1.0  47.585714  41.313722            0.0\n",
       "1         1   501.724138     1.0  36.490196  83.332831            0.0"
      ],
      "text/html": "<div>\n<style scoped>\n    .dataframe tbody tr th:only-of-type {\n        vertical-align: middle;\n    }\n\n    .dataframe tbody tr th {\n        vertical-align: top;\n    }\n\n    .dataframe thead th {\n        text-align: right;\n    }\n</style>\n<table border=\"1\" class=\"dataframe\">\n  <thead>\n    <tr style=\"text-align: right;\">\n      <th></th>\n      <th>Survived</th>\n      <th>PassengerId</th>\n      <th>Pclass</th>\n      <th>Age</th>\n      <th>Fare</th>\n      <th>Accompany_num</th>\n    </tr>\n  </thead>\n  <tbody>\n    <tr>\n      <th>0</th>\n      <td>0</td>\n      <td>452.000000</td>\n      <td>1.0</td>\n      <td>47.585714</td>\n      <td>41.313722</td>\n      <td>0.0</td>\n    </tr>\n    <tr>\n      <th>1</th>\n      <td>1</td>\n      <td>501.724138</td>\n      <td>1.0</td>\n      <td>36.490196</td>\n      <td>83.332831</td>\n      <td>0.0</td>\n    </tr>\n  </tbody>\n</table>\n</div>"
     },
     "metadata": {},
     "execution_count": 24
    }
   ],
   "source": [
    "train[(train['Pclass'] == 1) & (train['Accompany_num'] == 0)].groupby(['Survived'], as_index=False).mean()"
   ]
  },
  {
   "source": [
    "생존 여부에 따라서도 나이 차이가 났다. "
   ],
   "cell_type": "markdown",
   "metadata": {}
  },
  {
   "source": [
    "데이터를 살펴본 결과, 객실 종류, 성별, 생존여부, 객실, 동행자 수에 따라 평균 나이가 다르다는 사실을 알아냈다. \n",
    "<br>\n",
    "그래서 좌석, 성별, 생존여부, 객실에 따른 평균 나이를 결측치를 채우는데 사용하기로 했다"
   ],
   "cell_type": "markdown",
   "metadata": {}
  },
  {
   "cell_type": "code",
   "execution_count": 12,
   "metadata": {},
   "outputs": [],
   "source": [
    "# 좌석, 성별, 생존여부, 객실, 동행자 숫자, 출발 지점에 따른 평균 나이를 결측치에 채운다 \n",
    "# 데이터가 다 안채워진다.\n",
    "train['Age'].fillna( train.groupby([\"Pclass\", \"Survived\", \"Sex\", \"Cabin\", \"Accompany_num\", \"Embarked\"])[\"Age\"].transform(\"mean\"), inplace=True)\n",
    "test['Age'].fillna( train.groupby([\"Pclass\", \"Survived\", \"Sex\", \"Cabin\", \"Accompany_num\", \"Embarked\"])[\"Age\"].transform(\"mean\"), inplace=True)\n",
    "\n",
    "# 만약 이렇게 해도 데이터가 덜 채워져 있으면 기준을 조금 완화해서 결측치를 채워준다. \n",
    "train['Age'].fillna( train.groupby([\"Pclass\", \"Survived\", \"Sex\", \"Cabin\", \"Accompany_num\"])[\"Age\"].transform(\"mean\"), inplace=True)\n",
    "test['Age'].fillna( train.groupby([\"Pclass\", \"Survived\", \"Sex\", \"Cabin\", \"Accompany_num\"])[\"Age\"].transform(\"mean\"), inplace=True)\n",
    "\n",
    "train['Age'].fillna( train.groupby([\"Pclass\", \"Survived\", \"Sex\", \"Cabin\"])[\"Age\"].transform(\"mean\"), inplace=True)\n",
    "test['Age'].fillna( train.groupby([\"Pclass\", \"Survived\", \"Sex\", \"Cabin\"])[\"Age\"].transform(\"mean\"), inplace=True)"
   ]
  },
  {
   "source": [
    "결측치가 채워진걸 확인해보자"
   ],
   "cell_type": "markdown",
   "metadata": {}
  },
  {
   "cell_type": "code",
   "execution_count": 13,
   "metadata": {},
   "outputs": [
    {
     "output_type": "stream",
     "name": "stdout",
     "text": [
      "<class 'pandas.core.frame.DataFrame'>\nRangeIndex: 891 entries, 0 to 890\nData columns (total 11 columns):\n #   Column         Non-Null Count  Dtype  \n---  ------         --------------  -----  \n 0   PassengerId    891 non-null    int64  \n 1   Survived       891 non-null    int64  \n 2   Pclass         891 non-null    int64  \n 3   Name           891 non-null    object \n 4   Sex            891 non-null    object \n 5   Age            891 non-null    float64\n 6   Ticket         891 non-null    object \n 7   Fare           891 non-null    float64\n 8   Cabin          891 non-null    object \n 9   Embarked       891 non-null    object \n 10  Accompany_num  891 non-null    int64  \ndtypes: float64(2), int64(4), object(5)\nmemory usage: 76.7+ KB\n"
     ]
    }
   ],
   "source": [
    "train.info()"
   ]
  },
  {
   "cell_type": "code",
   "execution_count": 14,
   "metadata": {},
   "outputs": [
    {
     "output_type": "stream",
     "name": "stdout",
     "text": [
      "<class 'pandas.core.frame.DataFrame'>\nRangeIndex: 418 entries, 0 to 417\nData columns (total 10 columns):\n #   Column         Non-Null Count  Dtype  \n---  ------         --------------  -----  \n 0   PassengerId    418 non-null    int64  \n 1   Pclass         418 non-null    int64  \n 2   Name           418 non-null    object \n 3   Sex            418 non-null    object \n 4   Age            418 non-null    float64\n 5   Ticket         418 non-null    object \n 6   Fare           418 non-null    float64\n 7   Cabin          418 non-null    object \n 8   Embarked       418 non-null    object \n 9   Accompany_num  418 non-null    int64  \ndtypes: float64(2), int64(3), object(5)\nmemory usage: 32.8+ KB\n"
     ]
    }
   ],
   "source": [
    "test.info()"
   ]
  },
  {
   "source": [
    "결측치를 다 채웠다. 이제 모델이 사용할 수 있게 데이터를 가공해보자"
   ],
   "cell_type": "markdown",
   "metadata": {}
  },
  {
   "source": [
    "# 3. 데이터 전처리"
   ],
   "cell_type": "markdown",
   "metadata": {}
  },
  {
   "source": [
    "## 3-1. 모델 분류에 영향이 적은 데이터 드랍하기\n",
    "<br>\n",
    "모델이 사용하기 좋게 데이터를 가공하는 시간이다. 여기서 잘 가공해야 좋은 모델을 만들 수 있다.\n",
    "<br>\n",
    "우선 훈련에 도움 안되는 특징들을 선별해 드랍하자. 우선 PassengerId랑 Name, Ticket 항목은 훈련에 유의미한 도움이 되지 않으니 드랍하자\n",
    "<br>\n",
    "테스트 데이터의 PassengerId는 추후 submmision에 저장해야하는 값이므로 추출 후 드랍한다."
   ],
   "cell_type": "markdown",
   "metadata": {}
  },
  {
   "cell_type": "code",
   "execution_count": 15,
   "metadata": {},
   "outputs": [],
   "source": [
    "Drop_target = ['PassengerId', 'Name', 'Ticket']\n",
    "train.drop(Drop_target, axis=1, inplace=True)\n",
    "\n",
    "test_PassengerId = test['PassengerId']\n",
    "test.drop(Drop_target, axis=1, inplace=True)"
   ]
  },
  {
   "source": [
    "데이터를 확인해보자. 잘 지워졌다는 것을 알 수 있다. "
   ],
   "cell_type": "markdown",
   "metadata": {}
  },
  {
   "cell_type": "code",
   "execution_count": 11,
   "metadata": {},
   "outputs": [
    {
     "output_type": "execute_result",
     "data": {
      "text/plain": [
       "     Survived  Pclass     Sex        Age     Fare Cabin Embarked  \\\n",
       "0           0       3    male  22.000000   7.2500     G        S   \n",
       "1           1       1  female  38.000000  71.2833     C        C   \n",
       "2           1       3  female  26.000000   7.9250     E        S   \n",
       "3           1       1  female  35.000000  53.1000     C        S   \n",
       "4           0       3    male  35.000000   8.0500     E        S   \n",
       "..        ...     ...     ...        ...      ...   ...      ...   \n",
       "886         0       2    male  27.000000  13.0000     E        S   \n",
       "887         1       1  female  19.000000  30.0000     B        S   \n",
       "888         0       3  female  23.315705  23.4500     F        S   \n",
       "889         1       1    male  26.000000  30.0000     C        C   \n",
       "890         0       3    male  32.000000   7.7500     F        Q   \n",
       "\n",
       "     Accompany_num  \n",
       "0                1  \n",
       "1                1  \n",
       "2                0  \n",
       "3                1  \n",
       "4                0  \n",
       "..             ...  \n",
       "886              0  \n",
       "887              0  \n",
       "888              3  \n",
       "889              0  \n",
       "890              0  \n",
       "\n",
       "[891 rows x 8 columns]"
      ],
      "text/html": "<div>\n<style scoped>\n    .dataframe tbody tr th:only-of-type {\n        vertical-align: middle;\n    }\n\n    .dataframe tbody tr th {\n        vertical-align: top;\n    }\n\n    .dataframe thead th {\n        text-align: right;\n    }\n</style>\n<table border=\"1\" class=\"dataframe\">\n  <thead>\n    <tr style=\"text-align: right;\">\n      <th></th>\n      <th>Survived</th>\n      <th>Pclass</th>\n      <th>Sex</th>\n      <th>Age</th>\n      <th>Fare</th>\n      <th>Cabin</th>\n      <th>Embarked</th>\n      <th>Accompany_num</th>\n    </tr>\n  </thead>\n  <tbody>\n    <tr>\n      <th>0</th>\n      <td>0</td>\n      <td>3</td>\n      <td>male</td>\n      <td>22.000000</td>\n      <td>7.2500</td>\n      <td>G</td>\n      <td>S</td>\n      <td>1</td>\n    </tr>\n    <tr>\n      <th>1</th>\n      <td>1</td>\n      <td>1</td>\n      <td>female</td>\n      <td>38.000000</td>\n      <td>71.2833</td>\n      <td>C</td>\n      <td>C</td>\n      <td>1</td>\n    </tr>\n    <tr>\n      <th>2</th>\n      <td>1</td>\n      <td>3</td>\n      <td>female</td>\n      <td>26.000000</td>\n      <td>7.9250</td>\n      <td>E</td>\n      <td>S</td>\n      <td>0</td>\n    </tr>\n    <tr>\n      <th>3</th>\n      <td>1</td>\n      <td>1</td>\n      <td>female</td>\n      <td>35.000000</td>\n      <td>53.1000</td>\n      <td>C</td>\n      <td>S</td>\n      <td>1</td>\n    </tr>\n    <tr>\n      <th>4</th>\n      <td>0</td>\n      <td>3</td>\n      <td>male</td>\n      <td>35.000000</td>\n      <td>8.0500</td>\n      <td>E</td>\n      <td>S</td>\n      <td>0</td>\n    </tr>\n    <tr>\n      <th>...</th>\n      <td>...</td>\n      <td>...</td>\n      <td>...</td>\n      <td>...</td>\n      <td>...</td>\n      <td>...</td>\n      <td>...</td>\n      <td>...</td>\n    </tr>\n    <tr>\n      <th>886</th>\n      <td>0</td>\n      <td>2</td>\n      <td>male</td>\n      <td>27.000000</td>\n      <td>13.0000</td>\n      <td>E</td>\n      <td>S</td>\n      <td>0</td>\n    </tr>\n    <tr>\n      <th>887</th>\n      <td>1</td>\n      <td>1</td>\n      <td>female</td>\n      <td>19.000000</td>\n      <td>30.0000</td>\n      <td>B</td>\n      <td>S</td>\n      <td>0</td>\n    </tr>\n    <tr>\n      <th>888</th>\n      <td>0</td>\n      <td>3</td>\n      <td>female</td>\n      <td>23.315705</td>\n      <td>23.4500</td>\n      <td>F</td>\n      <td>S</td>\n      <td>3</td>\n    </tr>\n    <tr>\n      <th>889</th>\n      <td>1</td>\n      <td>1</td>\n      <td>male</td>\n      <td>26.000000</td>\n      <td>30.0000</td>\n      <td>C</td>\n      <td>C</td>\n      <td>0</td>\n    </tr>\n    <tr>\n      <th>890</th>\n      <td>0</td>\n      <td>3</td>\n      <td>male</td>\n      <td>32.000000</td>\n      <td>7.7500</td>\n      <td>F</td>\n      <td>Q</td>\n      <td>0</td>\n    </tr>\n  </tbody>\n</table>\n<p>891 rows × 8 columns</p>\n</div>"
     },
     "metadata": {},
     "execution_count": 11
    }
   ],
   "source": [
    "train"
   ]
  },
  {
   "cell_type": "code",
   "execution_count": 12,
   "metadata": {},
   "outputs": [
    {
     "output_type": "execute_result",
     "data": {
      "text/plain": [
       "     Pclass     Sex        Age      Fare Cabin Embarked  Accompany_num\n",
       "0         3    male  34.500000    7.8292     F        Q              0\n",
       "1         3  female  47.000000    7.0000     F        S              1\n",
       "2         2    male  62.000000    9.6875     F        Q              0\n",
       "3         3    male  27.000000    8.6625     F        S              0\n",
       "4         3  female  22.000000   12.2875     G        S              2\n",
       "..      ...     ...        ...       ...   ...      ...            ...\n",
       "413       3    male  33.214286    8.0500     F        S              0\n",
       "414       1  female  39.000000  108.9000     C        C              0\n",
       "415       3    male  38.500000    7.2500     F        S              0\n",
       "416       3    male  22.538462    8.0500     F        S              0\n",
       "417       3    male  22.538462   22.3583     F        C              2\n",
       "\n",
       "[418 rows x 7 columns]"
      ],
      "text/html": "<div>\n<style scoped>\n    .dataframe tbody tr th:only-of-type {\n        vertical-align: middle;\n    }\n\n    .dataframe tbody tr th {\n        vertical-align: top;\n    }\n\n    .dataframe thead th {\n        text-align: right;\n    }\n</style>\n<table border=\"1\" class=\"dataframe\">\n  <thead>\n    <tr style=\"text-align: right;\">\n      <th></th>\n      <th>Pclass</th>\n      <th>Sex</th>\n      <th>Age</th>\n      <th>Fare</th>\n      <th>Cabin</th>\n      <th>Embarked</th>\n      <th>Accompany_num</th>\n    </tr>\n  </thead>\n  <tbody>\n    <tr>\n      <th>0</th>\n      <td>3</td>\n      <td>male</td>\n      <td>34.500000</td>\n      <td>7.8292</td>\n      <td>F</td>\n      <td>Q</td>\n      <td>0</td>\n    </tr>\n    <tr>\n      <th>1</th>\n      <td>3</td>\n      <td>female</td>\n      <td>47.000000</td>\n      <td>7.0000</td>\n      <td>F</td>\n      <td>S</td>\n      <td>1</td>\n    </tr>\n    <tr>\n      <th>2</th>\n      <td>2</td>\n      <td>male</td>\n      <td>62.000000</td>\n      <td>9.6875</td>\n      <td>F</td>\n      <td>Q</td>\n      <td>0</td>\n    </tr>\n    <tr>\n      <th>3</th>\n      <td>3</td>\n      <td>male</td>\n      <td>27.000000</td>\n      <td>8.6625</td>\n      <td>F</td>\n      <td>S</td>\n      <td>0</td>\n    </tr>\n    <tr>\n      <th>4</th>\n      <td>3</td>\n      <td>female</td>\n      <td>22.000000</td>\n      <td>12.2875</td>\n      <td>G</td>\n      <td>S</td>\n      <td>2</td>\n    </tr>\n    <tr>\n      <th>...</th>\n      <td>...</td>\n      <td>...</td>\n      <td>...</td>\n      <td>...</td>\n      <td>...</td>\n      <td>...</td>\n      <td>...</td>\n    </tr>\n    <tr>\n      <th>413</th>\n      <td>3</td>\n      <td>male</td>\n      <td>33.214286</td>\n      <td>8.0500</td>\n      <td>F</td>\n      <td>S</td>\n      <td>0</td>\n    </tr>\n    <tr>\n      <th>414</th>\n      <td>1</td>\n      <td>female</td>\n      <td>39.000000</td>\n      <td>108.9000</td>\n      <td>C</td>\n      <td>C</td>\n      <td>0</td>\n    </tr>\n    <tr>\n      <th>415</th>\n      <td>3</td>\n      <td>male</td>\n      <td>38.500000</td>\n      <td>7.2500</td>\n      <td>F</td>\n      <td>S</td>\n      <td>0</td>\n    </tr>\n    <tr>\n      <th>416</th>\n      <td>3</td>\n      <td>male</td>\n      <td>22.538462</td>\n      <td>8.0500</td>\n      <td>F</td>\n      <td>S</td>\n      <td>0</td>\n    </tr>\n    <tr>\n      <th>417</th>\n      <td>3</td>\n      <td>male</td>\n      <td>22.538462</td>\n      <td>22.3583</td>\n      <td>F</td>\n      <td>C</td>\n      <td>2</td>\n    </tr>\n  </tbody>\n</table>\n<p>418 rows × 7 columns</p>\n</div>"
     },
     "metadata": {},
     "execution_count": 12
    }
   ],
   "source": [
    "test"
   ]
  },
  {
   "source": [
    "더 드랍할 특성은 없는지 확인해보자."
   ],
   "cell_type": "markdown",
   "metadata": {}
  },
  {
   "cell_type": "code",
   "execution_count": 24,
   "metadata": {},
   "outputs": [
    {
     "output_type": "execute_result",
     "data": {
      "text/plain": [
       "   Pclass  Survived\n",
       "0       1  0.629630\n",
       "1       2  0.472826\n",
       "2       3  0.242363"
      ],
      "text/html": "<div>\n<style scoped>\n    .dataframe tbody tr th:only-of-type {\n        vertical-align: middle;\n    }\n\n    .dataframe tbody tr th {\n        vertical-align: top;\n    }\n\n    .dataframe thead th {\n        text-align: right;\n    }\n</style>\n<table border=\"1\" class=\"dataframe\">\n  <thead>\n    <tr style=\"text-align: right;\">\n      <th></th>\n      <th>Pclass</th>\n      <th>Survived</th>\n    </tr>\n  </thead>\n  <tbody>\n    <tr>\n      <th>0</th>\n      <td>1</td>\n      <td>0.629630</td>\n    </tr>\n    <tr>\n      <th>1</th>\n      <td>2</td>\n      <td>0.472826</td>\n    </tr>\n    <tr>\n      <th>2</th>\n      <td>3</td>\n      <td>0.242363</td>\n    </tr>\n  </tbody>\n</table>\n</div>"
     },
     "metadata": {},
     "execution_count": 24
    }
   ],
   "source": [
    "train.groupby(['Pclass'], as_index=False)['Survived'].mean()"
   ]
  },
  {
   "cell_type": "code",
   "execution_count": 25,
   "metadata": {},
   "outputs": [
    {
     "output_type": "execute_result",
     "data": {
      "text/plain": [
       "      Sex  Survived\n",
       "0  female  0.742038\n",
       "1    male  0.188908"
      ],
      "text/html": "<div>\n<style scoped>\n    .dataframe tbody tr th:only-of-type {\n        vertical-align: middle;\n    }\n\n    .dataframe tbody tr th {\n        vertical-align: top;\n    }\n\n    .dataframe thead th {\n        text-align: right;\n    }\n</style>\n<table border=\"1\" class=\"dataframe\">\n  <thead>\n    <tr style=\"text-align: right;\">\n      <th></th>\n      <th>Sex</th>\n      <th>Survived</th>\n    </tr>\n  </thead>\n  <tbody>\n    <tr>\n      <th>0</th>\n      <td>female</td>\n      <td>0.742038</td>\n    </tr>\n    <tr>\n      <th>1</th>\n      <td>male</td>\n      <td>0.188908</td>\n    </tr>\n  </tbody>\n</table>\n</div>"
     },
     "metadata": {},
     "execution_count": 25
    }
   ],
   "source": [
    "train.groupby(['Sex'], as_index=False)['Survived'].mean()"
   ]
  },
  {
   "source": [
    "우선 객실 등급과 성별은 생존자 판정에 있어 중요한 특성이라는 걸 앞서 확인했다. 그러니 이 둘은 생존자 판정에 사용할거다"
   ],
   "cell_type": "markdown",
   "metadata": {}
  },
  {
   "source": [
    "승선 위치 특성을 다시 한 번 살펴보자. 성별과 객실 등급이 같은 승객들을 승선 위치 기준으로 구분 후 생존 평균값을 구해보자."
   ],
   "cell_type": "markdown",
   "metadata": {}
  },
  {
   "cell_type": "code",
   "execution_count": 31,
   "metadata": {},
   "outputs": [
    {
     "output_type": "execute_result",
     "data": {
      "text/plain": [
       "  Embarked  Survived\n",
       "0        C  0.404762\n",
       "1        Q  0.000000\n",
       "2        S  0.354430"
      ],
      "text/html": "<div>\n<style scoped>\n    .dataframe tbody tr th:only-of-type {\n        vertical-align: middle;\n    }\n\n    .dataframe tbody tr th {\n        vertical-align: top;\n    }\n\n    .dataframe thead th {\n        text-align: right;\n    }\n</style>\n<table border=\"1\" class=\"dataframe\">\n  <thead>\n    <tr style=\"text-align: right;\">\n      <th></th>\n      <th>Embarked</th>\n      <th>Survived</th>\n    </tr>\n  </thead>\n  <tbody>\n    <tr>\n      <th>0</th>\n      <td>C</td>\n      <td>0.404762</td>\n    </tr>\n    <tr>\n      <th>1</th>\n      <td>Q</td>\n      <td>0.000000</td>\n    </tr>\n    <tr>\n      <th>2</th>\n      <td>S</td>\n      <td>0.354430</td>\n    </tr>\n  </tbody>\n</table>\n</div>"
     },
     "metadata": {},
     "execution_count": 31
    }
   ],
   "source": [
    "train[(train['Pclass'] == 1) & (train['Sex'] == 'male')].groupby(['Embarked'], as_index=False)['Survived'].mean()"
   ]
  },
  {
   "cell_type": "code",
   "execution_count": 32,
   "metadata": {},
   "outputs": [
    {
     "output_type": "execute_result",
     "data": {
      "text/plain": [
       "  Embarked  Survived\n",
       "0        C  0.976744\n",
       "1        Q  1.000000\n",
       "2        S  0.960000"
      ],
      "text/html": "<div>\n<style scoped>\n    .dataframe tbody tr th:only-of-type {\n        vertical-align: middle;\n    }\n\n    .dataframe tbody tr th {\n        vertical-align: top;\n    }\n\n    .dataframe thead th {\n        text-align: right;\n    }\n</style>\n<table border=\"1\" class=\"dataframe\">\n  <thead>\n    <tr style=\"text-align: right;\">\n      <th></th>\n      <th>Embarked</th>\n      <th>Survived</th>\n    </tr>\n  </thead>\n  <tbody>\n    <tr>\n      <th>0</th>\n      <td>C</td>\n      <td>0.976744</td>\n    </tr>\n    <tr>\n      <th>1</th>\n      <td>Q</td>\n      <td>1.000000</td>\n    </tr>\n    <tr>\n      <th>2</th>\n      <td>S</td>\n      <td>0.960000</td>\n    </tr>\n  </tbody>\n</table>\n</div>"
     },
     "metadata": {},
     "execution_count": 32
    }
   ],
   "source": [
    "train[(train['Pclass'] == 1) & (train['Sex'] == 'female')].groupby(['Embarked'], as_index=False)['Survived'].mean()"
   ]
  },
  {
   "cell_type": "code",
   "execution_count": 33,
   "metadata": {},
   "outputs": [
    {
     "output_type": "execute_result",
     "data": {
      "text/plain": [
       "  Embarked  Survived\n",
       "0        C  0.200000\n",
       "1        Q  0.000000\n",
       "2        S  0.154639"
      ],
      "text/html": "<div>\n<style scoped>\n    .dataframe tbody tr th:only-of-type {\n        vertical-align: middle;\n    }\n\n    .dataframe tbody tr th {\n        vertical-align: top;\n    }\n\n    .dataframe thead th {\n        text-align: right;\n    }\n</style>\n<table border=\"1\" class=\"dataframe\">\n  <thead>\n    <tr style=\"text-align: right;\">\n      <th></th>\n      <th>Embarked</th>\n      <th>Survived</th>\n    </tr>\n  </thead>\n  <tbody>\n    <tr>\n      <th>0</th>\n      <td>C</td>\n      <td>0.200000</td>\n    </tr>\n    <tr>\n      <th>1</th>\n      <td>Q</td>\n      <td>0.000000</td>\n    </tr>\n    <tr>\n      <th>2</th>\n      <td>S</td>\n      <td>0.154639</td>\n    </tr>\n  </tbody>\n</table>\n</div>"
     },
     "metadata": {},
     "execution_count": 33
    }
   ],
   "source": [
    "train[(train['Pclass'] == 2) & (train['Sex'] == 'male')].groupby(['Embarked'], as_index=False)['Survived'].mean()"
   ]
  },
  {
   "cell_type": "code",
   "execution_count": 35,
   "metadata": {},
   "outputs": [
    {
     "output_type": "execute_result",
     "data": {
      "text/plain": [
       "  Embarked  Survived\n",
       "0        C  1.000000\n",
       "1        Q  1.000000\n",
       "2        S  0.910448"
      ],
      "text/html": "<div>\n<style scoped>\n    .dataframe tbody tr th:only-of-type {\n        vertical-align: middle;\n    }\n\n    .dataframe tbody tr th {\n        vertical-align: top;\n    }\n\n    .dataframe thead th {\n        text-align: right;\n    }\n</style>\n<table border=\"1\" class=\"dataframe\">\n  <thead>\n    <tr style=\"text-align: right;\">\n      <th></th>\n      <th>Embarked</th>\n      <th>Survived</th>\n    </tr>\n  </thead>\n  <tbody>\n    <tr>\n      <th>0</th>\n      <td>C</td>\n      <td>1.000000</td>\n    </tr>\n    <tr>\n      <th>1</th>\n      <td>Q</td>\n      <td>1.000000</td>\n    </tr>\n    <tr>\n      <th>2</th>\n      <td>S</td>\n      <td>0.910448</td>\n    </tr>\n  </tbody>\n</table>\n</div>"
     },
     "metadata": {},
     "execution_count": 35
    }
   ],
   "source": [
    "train[(train['Pclass'] == 2) & (train['Sex'] == 'female')].groupby(['Embarked'], as_index=False)['Survived'].mean()"
   ]
  },
  {
   "cell_type": "code",
   "execution_count": 36,
   "metadata": {},
   "outputs": [
    {
     "output_type": "execute_result",
     "data": {
      "text/plain": [
       "  Embarked  Survived\n",
       "0        C  0.232558\n",
       "1        Q  0.076923\n",
       "2        S  0.128302"
      ],
      "text/html": "<div>\n<style scoped>\n    .dataframe tbody tr th:only-of-type {\n        vertical-align: middle;\n    }\n\n    .dataframe tbody tr th {\n        vertical-align: top;\n    }\n\n    .dataframe thead th {\n        text-align: right;\n    }\n</style>\n<table border=\"1\" class=\"dataframe\">\n  <thead>\n    <tr style=\"text-align: right;\">\n      <th></th>\n      <th>Embarked</th>\n      <th>Survived</th>\n    </tr>\n  </thead>\n  <tbody>\n    <tr>\n      <th>0</th>\n      <td>C</td>\n      <td>0.232558</td>\n    </tr>\n    <tr>\n      <th>1</th>\n      <td>Q</td>\n      <td>0.076923</td>\n    </tr>\n    <tr>\n      <th>2</th>\n      <td>S</td>\n      <td>0.128302</td>\n    </tr>\n  </tbody>\n</table>\n</div>"
     },
     "metadata": {},
     "execution_count": 36
    }
   ],
   "source": [
    "train[(train['Pclass'] == 3) & (train['Sex'] == 'male')].groupby(['Embarked'], as_index=False)['Survived'].mean()"
   ]
  },
  {
   "cell_type": "code",
   "execution_count": 38,
   "metadata": {},
   "outputs": [
    {
     "output_type": "execute_result",
     "data": {
      "text/plain": [
       "  Embarked  Survived\n",
       "0        C  0.652174\n",
       "1        Q  0.727273\n",
       "2        S  0.375000"
      ],
      "text/html": "<div>\n<style scoped>\n    .dataframe tbody tr th:only-of-type {\n        vertical-align: middle;\n    }\n\n    .dataframe tbody tr th {\n        vertical-align: top;\n    }\n\n    .dataframe thead th {\n        text-align: right;\n    }\n</style>\n<table border=\"1\" class=\"dataframe\">\n  <thead>\n    <tr style=\"text-align: right;\">\n      <th></th>\n      <th>Embarked</th>\n      <th>Survived</th>\n    </tr>\n  </thead>\n  <tbody>\n    <tr>\n      <th>0</th>\n      <td>C</td>\n      <td>0.652174</td>\n    </tr>\n    <tr>\n      <th>1</th>\n      <td>Q</td>\n      <td>0.727273</td>\n    </tr>\n    <tr>\n      <th>2</th>\n      <td>S</td>\n      <td>0.375000</td>\n    </tr>\n  </tbody>\n</table>\n</div>"
     },
     "metadata": {},
     "execution_count": 38
    }
   ],
   "source": [
    "train[(train['Pclass'] == 3) & (train['Sex'] == 'female')].groupby(['Embarked'], as_index=False)['Survived'].mean()"
   ]
  },
  {
   "source": [
    "3등석에 탑승한 여성 승객인 경우를 제외하면 주목할만한 차이가 보이지 않았다. \n",
    "<br>\n",
    "탑승 위치 정보를 생존자 판별 기준으로 넣는다고 해도 큰 도움이 될 것 같지 않다고 판단된다. 그래서 드랍하기로 했다. "
   ],
   "cell_type": "markdown",
   "metadata": {}
  },
  {
   "cell_type": "code",
   "execution_count": 16,
   "metadata": {},
   "outputs": [],
   "source": [
    "# 'Embarked' 특성 드랍\n",
    "train.drop('Embarked', axis=1, inplace=True)\n",
    "test.drop('Embarked', axis=1, inplace=True)"
   ]
  },
  {
   "source": [
    "계속해서 데이터를 살펴보자"
   ],
   "cell_type": "markdown",
   "metadata": {}
  },
  {
   "cell_type": "code",
   "execution_count": 42,
   "metadata": {},
   "outputs": [
    {
     "output_type": "execute_result",
     "data": {
      "text/plain": [
       "   Accompany_num  Survived\n",
       "0              0  0.333333\n",
       "1              1  0.387097\n",
       "2              2  0.454545\n",
       "3              3  1.000000\n",
       "4              5  0.000000"
      ],
      "text/html": "<div>\n<style scoped>\n    .dataframe tbody tr th:only-of-type {\n        vertical-align: middle;\n    }\n\n    .dataframe tbody tr th {\n        vertical-align: top;\n    }\n\n    .dataframe thead th {\n        text-align: right;\n    }\n</style>\n<table border=\"1\" class=\"dataframe\">\n  <thead>\n    <tr style=\"text-align: right;\">\n      <th></th>\n      <th>Accompany_num</th>\n      <th>Survived</th>\n    </tr>\n  </thead>\n  <tbody>\n    <tr>\n      <th>0</th>\n      <td>0</td>\n      <td>0.333333</td>\n    </tr>\n    <tr>\n      <th>1</th>\n      <td>1</td>\n      <td>0.387097</td>\n    </tr>\n    <tr>\n      <th>2</th>\n      <td>2</td>\n      <td>0.454545</td>\n    </tr>\n    <tr>\n      <th>3</th>\n      <td>3</td>\n      <td>1.000000</td>\n    </tr>\n    <tr>\n      <th>4</th>\n      <td>5</td>\n      <td>0.000000</td>\n    </tr>\n  </tbody>\n</table>\n</div>"
     },
     "metadata": {},
     "execution_count": 42
    }
   ],
   "source": [
    "train[(train['Pclass'] == 1) & (train['Sex'] == 'male')].groupby(['Accompany_num'], as_index=False)['Survived'].mean()"
   ]
  },
  {
   "cell_type": "code",
   "execution_count": 51,
   "metadata": {},
   "outputs": [
    {
     "output_type": "execute_result",
     "data": {
      "text/plain": [
       "0    75\n",
       "1    31\n",
       "2    11\n",
       "3     3\n",
       "5     2\n",
       "Name: Accompany_num, dtype: int64"
      ]
     },
     "metadata": {},
     "execution_count": 51
    }
   ],
   "source": [
    "train[(train['Pclass'] == 1) & (train['Sex'] == 'male')]['Accompany_num'].value_counts()"
   ]
  },
  {
   "source": [
    "동행자가 3, 5명일 때 전부 생존하거나 전부 사망한 경우가 있는데 그 수가 매우 적다. 동행자가 3, 5명인 승객이 합쳐서 5명인데 그 중 1명이 산 것이다. "
   ],
   "cell_type": "markdown",
   "metadata": {}
  },
  {
   "cell_type": "code",
   "execution_count": 43,
   "metadata": {},
   "outputs": [
    {
     "output_type": "execute_result",
     "data": {
      "text/plain": [
       "   Accompany_num  Survived\n",
       "0              0  0.970588\n",
       "1              1  1.000000\n",
       "2              2  1.000000\n",
       "3              3  0.500000\n",
       "4              4  1.000000\n",
       "5              5  1.000000"
      ],
      "text/html": "<div>\n<style scoped>\n    .dataframe tbody tr th:only-of-type {\n        vertical-align: middle;\n    }\n\n    .dataframe tbody tr th {\n        vertical-align: top;\n    }\n\n    .dataframe thead th {\n        text-align: right;\n    }\n</style>\n<table border=\"1\" class=\"dataframe\">\n  <thead>\n    <tr style=\"text-align: right;\">\n      <th></th>\n      <th>Accompany_num</th>\n      <th>Survived</th>\n    </tr>\n  </thead>\n  <tbody>\n    <tr>\n      <th>0</th>\n      <td>0</td>\n      <td>0.970588</td>\n    </tr>\n    <tr>\n      <th>1</th>\n      <td>1</td>\n      <td>1.000000</td>\n    </tr>\n    <tr>\n      <th>2</th>\n      <td>2</td>\n      <td>1.000000</td>\n    </tr>\n    <tr>\n      <th>3</th>\n      <td>3</td>\n      <td>0.500000</td>\n    </tr>\n    <tr>\n      <th>4</th>\n      <td>4</td>\n      <td>1.000000</td>\n    </tr>\n    <tr>\n      <th>5</th>\n      <td>5</td>\n      <td>1.000000</td>\n    </tr>\n  </tbody>\n</table>\n</div>"
     },
     "metadata": {},
     "execution_count": 43
    }
   ],
   "source": [
    "train[(train['Pclass'] == 1) & (train['Sex'] == 'female')].groupby(['Accompany_num'], as_index=False)['Survived'].mean()"
   ]
  },
  {
   "cell_type": "code",
   "execution_count": 52,
   "metadata": {},
   "outputs": [
    {
     "output_type": "execute_result",
     "data": {
      "text/plain": [
       "1    39\n",
       "0    34\n",
       "2    13\n",
       "3     4\n",
       "4     2\n",
       "5     2\n",
       "Name: Accompany_num, dtype: int64"
      ]
     },
     "metadata": {},
     "execution_count": 52
    }
   ],
   "source": [
    "train[(train['Pclass'] == 1) & (train['Sex'] == 'female')]['Accompany_num'].value_counts()"
   ]
  },
  {
   "source": [
    "마찬가지로 생존 평균값이 0.5인 경우가 있는데 4명 중 2명이 살고 2명이 죽은거다. 수가 매우 적다."
   ],
   "cell_type": "markdown",
   "metadata": {}
  },
  {
   "cell_type": "code",
   "execution_count": 44,
   "metadata": {},
   "outputs": [
    {
     "output_type": "execute_result",
     "data": {
      "text/plain": [
       "   Accompany_num  Survived\n",
       "0              0  0.097222\n",
       "1              1  0.066667\n",
       "2              2  0.470588\n",
       "3              3  0.250000"
      ],
      "text/html": "<div>\n<style scoped>\n    .dataframe tbody tr th:only-of-type {\n        vertical-align: middle;\n    }\n\n    .dataframe tbody tr th {\n        vertical-align: top;\n    }\n\n    .dataframe thead th {\n        text-align: right;\n    }\n</style>\n<table border=\"1\" class=\"dataframe\">\n  <thead>\n    <tr style=\"text-align: right;\">\n      <th></th>\n      <th>Accompany_num</th>\n      <th>Survived</th>\n    </tr>\n  </thead>\n  <tbody>\n    <tr>\n      <th>0</th>\n      <td>0</td>\n      <td>0.097222</td>\n    </tr>\n    <tr>\n      <th>1</th>\n      <td>1</td>\n      <td>0.066667</td>\n    </tr>\n    <tr>\n      <th>2</th>\n      <td>2</td>\n      <td>0.470588</td>\n    </tr>\n    <tr>\n      <th>3</th>\n      <td>3</td>\n      <td>0.250000</td>\n    </tr>\n  </tbody>\n</table>\n</div>"
     },
     "metadata": {},
     "execution_count": 44
    }
   ],
   "source": [
    "train[(train['Pclass'] == 2) & (train['Sex'] == 'male')].groupby(['Accompany_num'], as_index=False)['Survived'].mean()"
   ]
  },
  {
   "cell_type": "code",
   "execution_count": 53,
   "metadata": {},
   "outputs": [
    {
     "output_type": "execute_result",
     "data": {
      "text/plain": [
       "0    72\n",
       "2    17\n",
       "1    15\n",
       "3     4\n",
       "Name: Accompany_num, dtype: int64"
      ]
     },
     "metadata": {},
     "execution_count": 53
    }
   ],
   "source": [
    "train[(train['Pclass'] == 2) & (train['Sex'] == 'male')]['Accompany_num'].value_counts()"
   ]
  },
  {
   "source": [
    "동행자가 2, 3명일 때 생존률이 비교적 많이 높다. 근데 역시 수가 적다."
   ],
   "cell_type": "markdown",
   "metadata": {}
  },
  {
   "cell_type": "code",
   "execution_count": 56,
   "metadata": {},
   "outputs": [
    {
     "output_type": "execute_result",
     "data": {
      "text/plain": [
       "   Accompany_num  Survived\n",
       "0              0  0.121212\n",
       "1              1  0.178571\n",
       "2              2  0.320000\n",
       "3              3  0.333333\n",
       "4              4  0.000000\n",
       "5              5  0.000000\n",
       "6              6  0.250000\n",
       "7              7  0.000000\n",
       "8             10  0.000000"
      ],
      "text/html": "<div>\n<style scoped>\n    .dataframe tbody tr th:only-of-type {\n        vertical-align: middle;\n    }\n\n    .dataframe tbody tr th {\n        vertical-align: top;\n    }\n\n    .dataframe thead th {\n        text-align: right;\n    }\n</style>\n<table border=\"1\" class=\"dataframe\">\n  <thead>\n    <tr style=\"text-align: right;\">\n      <th></th>\n      <th>Accompany_num</th>\n      <th>Survived</th>\n    </tr>\n  </thead>\n  <tbody>\n    <tr>\n      <th>0</th>\n      <td>0</td>\n      <td>0.121212</td>\n    </tr>\n    <tr>\n      <th>1</th>\n      <td>1</td>\n      <td>0.178571</td>\n    </tr>\n    <tr>\n      <th>2</th>\n      <td>2</td>\n      <td>0.320000</td>\n    </tr>\n    <tr>\n      <th>3</th>\n      <td>3</td>\n      <td>0.333333</td>\n    </tr>\n    <tr>\n      <th>4</th>\n      <td>4</td>\n      <td>0.000000</td>\n    </tr>\n    <tr>\n      <th>5</th>\n      <td>5</td>\n      <td>0.000000</td>\n    </tr>\n    <tr>\n      <th>6</th>\n      <td>6</td>\n      <td>0.250000</td>\n    </tr>\n    <tr>\n      <th>7</th>\n      <td>7</td>\n      <td>0.000000</td>\n    </tr>\n    <tr>\n      <th>8</th>\n      <td>10</td>\n      <td>0.000000</td>\n    </tr>\n  </tbody>\n</table>\n</div>"
     },
     "metadata": {},
     "execution_count": 56
    }
   ],
   "source": [
    "train[(train['Pclass'] == 3) & (train['Sex'] == 'male')].groupby(['Accompany_num'], as_index=False)['Survived'].mean()"
   ]
  },
  {
   "source": [
    "train[(train['Pclass'] == 3) & (train['Sex'] == 'female')].groupby(['Accompany_num'], as_index=False)['Survived'].mean()"
   ],
   "cell_type": "code",
   "metadata": {},
   "execution_count": 57,
   "outputs": [
    {
     "output_type": "execute_result",
     "data": {
      "text/plain": [
       "   Accompany_num  Survived\n",
       "0              0  0.616667\n",
       "1              1  0.517241\n",
       "2              2  0.545455\n",
       "3              3  0.833333\n",
       "4              4  0.000000\n",
       "5              5  0.000000\n",
       "6              6  0.375000\n",
       "7              7  0.000000\n",
       "8             10  0.000000"
      ],
      "text/html": "<div>\n<style scoped>\n    .dataframe tbody tr th:only-of-type {\n        vertical-align: middle;\n    }\n\n    .dataframe tbody tr th {\n        vertical-align: top;\n    }\n\n    .dataframe thead th {\n        text-align: right;\n    }\n</style>\n<table border=\"1\" class=\"dataframe\">\n  <thead>\n    <tr style=\"text-align: right;\">\n      <th></th>\n      <th>Accompany_num</th>\n      <th>Survived</th>\n    </tr>\n  </thead>\n  <tbody>\n    <tr>\n      <th>0</th>\n      <td>0</td>\n      <td>0.616667</td>\n    </tr>\n    <tr>\n      <th>1</th>\n      <td>1</td>\n      <td>0.517241</td>\n    </tr>\n    <tr>\n      <th>2</th>\n      <td>2</td>\n      <td>0.545455</td>\n    </tr>\n    <tr>\n      <th>3</th>\n      <td>3</td>\n      <td>0.833333</td>\n    </tr>\n    <tr>\n      <th>4</th>\n      <td>4</td>\n      <td>0.000000</td>\n    </tr>\n    <tr>\n      <th>5</th>\n      <td>5</td>\n      <td>0.000000</td>\n    </tr>\n    <tr>\n      <th>6</th>\n      <td>6</td>\n      <td>0.375000</td>\n    </tr>\n    <tr>\n      <th>7</th>\n      <td>7</td>\n      <td>0.000000</td>\n    </tr>\n    <tr>\n      <th>8</th>\n      <td>10</td>\n      <td>0.000000</td>\n    </tr>\n  </tbody>\n</table>\n</div>"
     },
     "metadata": {},
     "execution_count": 57
    }
   ]
  },
  {
   "source": [
    "train[(train['Pclass'] == 3) & (train['Sex'] == 'female')]['Accompany_num'].value_counts()"
   ],
   "cell_type": "code",
   "metadata": {},
   "execution_count": 58,
   "outputs": [
    {
     "output_type": "execute_result",
     "data": {
      "text/plain": [
       "0     60\n",
       "1     29\n",
       "2     22\n",
       "4      9\n",
       "6      8\n",
       "3      6\n",
       "5      5\n",
       "10     3\n",
       "7      2\n",
       "Name: Accompany_num, dtype: int64"
      ]
     },
     "metadata": {},
     "execution_count": 58
    }
   ]
  },
  {
   "source": [
    "동행자가 4,5,7명일 때 전부 사망했는데 다 합쳐서 16명이다. 수가 적다. "
   ],
   "cell_type": "markdown",
   "metadata": {}
  },
  {
   "source": [
    "동행 숫자 데이터를 생존과 연관지어 살펴봤다. \n",
    "<br>\n",
    "몇몇 부분에서 나머지 값보다 특별히 낮거나 높은 경우가 존재했으나 그 수가 매우 적었고 전체적으로 생존률에 큰 영향을 주지 못하는 것으로 판단된다. \n",
    "<br>\n",
    "그래서 동행자 숫자 역시 드랍하기로 했다. "
   ],
   "cell_type": "markdown",
   "metadata": {}
  },
  {
   "cell_type": "code",
   "execution_count": 17,
   "metadata": {},
   "outputs": [],
   "source": [
    "# 'Accompany_num' 특성 드랍\n",
    "train.drop('Accompany_num', axis=1, inplace=True)\n",
    "test.drop('Accompany_num', axis=1, inplace=True)"
   ]
  },
  {
   "source": [
    "이제 요금 데이터를 확인하자"
   ],
   "cell_type": "markdown",
   "metadata": {}
  },
  {
   "cell_type": "code",
   "execution_count": 32,
   "metadata": {},
   "outputs": [
    {
     "output_type": "execute_result",
     "data": {
      "text/plain": [
       "         Fare  Survived\n",
       "0      0.0000  0.066667\n",
       "1      4.0125  0.000000\n",
       "2      5.0000  0.000000\n",
       "3      6.2375  0.000000\n",
       "4      6.4375  0.000000\n",
       "..        ...       ...\n",
       "243  227.5250  0.750000\n",
       "244  247.5208  0.500000\n",
       "245  262.3750  1.000000\n",
       "246  263.0000  0.500000\n",
       "247  512.3292  1.000000\n",
       "\n",
       "[248 rows x 2 columns]"
      ],
      "text/html": "<div>\n<style scoped>\n    .dataframe tbody tr th:only-of-type {\n        vertical-align: middle;\n    }\n\n    .dataframe tbody tr th {\n        vertical-align: top;\n    }\n\n    .dataframe thead th {\n        text-align: right;\n    }\n</style>\n<table border=\"1\" class=\"dataframe\">\n  <thead>\n    <tr style=\"text-align: right;\">\n      <th></th>\n      <th>Fare</th>\n      <th>Survived</th>\n    </tr>\n  </thead>\n  <tbody>\n    <tr>\n      <th>0</th>\n      <td>0.0000</td>\n      <td>0.066667</td>\n    </tr>\n    <tr>\n      <th>1</th>\n      <td>4.0125</td>\n      <td>0.000000</td>\n    </tr>\n    <tr>\n      <th>2</th>\n      <td>5.0000</td>\n      <td>0.000000</td>\n    </tr>\n    <tr>\n      <th>3</th>\n      <td>6.2375</td>\n      <td>0.000000</td>\n    </tr>\n    <tr>\n      <th>4</th>\n      <td>6.4375</td>\n      <td>0.000000</td>\n    </tr>\n    <tr>\n      <th>...</th>\n      <td>...</td>\n      <td>...</td>\n    </tr>\n    <tr>\n      <th>243</th>\n      <td>227.5250</td>\n      <td>0.750000</td>\n    </tr>\n    <tr>\n      <th>244</th>\n      <td>247.5208</td>\n      <td>0.500000</td>\n    </tr>\n    <tr>\n      <th>245</th>\n      <td>262.3750</td>\n      <td>1.000000</td>\n    </tr>\n    <tr>\n      <th>246</th>\n      <td>263.0000</td>\n      <td>0.500000</td>\n    </tr>\n    <tr>\n      <th>247</th>\n      <td>512.3292</td>\n      <td>1.000000</td>\n    </tr>\n  </tbody>\n</table>\n<p>248 rows × 2 columns</p>\n</div>"
     },
     "metadata": {},
     "execution_count": 32
    }
   ],
   "source": [
    "train.groupby(['Fare'], as_index=False)['Survived'].mean() "
   ]
  },
  {
   "source": [
    "케이스가 너무 많다. \n",
    "<br>\n",
    "그리고 앞서 요금에 따라 객석 등급, 종류가 다르다는 걸 확인했고 객석 등급, 종류가 생존에 끼치는 영향이 큰 것을 확인했다. 그래서 요금을 기준으로 객석 등급, 종류를 판단해 결측치를 채웠다. \n",
    "<br>\n",
    "그래서 요금 정보를 가공해 생존자 판별에 사용하는 것은 객석 등급, 종류를 생존자 판별에 사용하는 것과 큰 차이를 보이지 않는다 판단되기에 드랍하기로 했다."
   ],
   "cell_type": "markdown",
   "metadata": {}
  },
  {
   "cell_type": "code",
   "execution_count": 18,
   "metadata": {},
   "outputs": [],
   "source": [
    "train.drop('Fare', axis=1, inplace=True)\n",
    "test.drop('Fare', axis=1, inplace=True)"
   ]
  },
  {
   "source": [
    "데이터를 확인해보자"
   ],
   "cell_type": "markdown",
   "metadata": {}
  },
  {
   "cell_type": "code",
   "execution_count": 18,
   "metadata": {},
   "outputs": [
    {
     "output_type": "execute_result",
     "data": {
      "text/plain": [
       "     Survived  Pclass     Sex        Age Cabin\n",
       "0           0       3    male  22.000000     G\n",
       "1           1       1  female  38.000000     C\n",
       "2           1       3  female  26.000000     E\n",
       "3           1       1  female  35.000000     C\n",
       "4           0       3    male  35.000000     E\n",
       "..        ...     ...     ...        ...   ...\n",
       "886         0       2    male  27.000000     E\n",
       "887         1       1  female  19.000000     B\n",
       "888         0       3  female  23.315705     F\n",
       "889         1       1    male  26.000000     C\n",
       "890         0       3    male  32.000000     F\n",
       "\n",
       "[891 rows x 5 columns]"
      ],
      "text/html": "<div>\n<style scoped>\n    .dataframe tbody tr th:only-of-type {\n        vertical-align: middle;\n    }\n\n    .dataframe tbody tr th {\n        vertical-align: top;\n    }\n\n    .dataframe thead th {\n        text-align: right;\n    }\n</style>\n<table border=\"1\" class=\"dataframe\">\n  <thead>\n    <tr style=\"text-align: right;\">\n      <th></th>\n      <th>Survived</th>\n      <th>Pclass</th>\n      <th>Sex</th>\n      <th>Age</th>\n      <th>Cabin</th>\n    </tr>\n  </thead>\n  <tbody>\n    <tr>\n      <th>0</th>\n      <td>0</td>\n      <td>3</td>\n      <td>male</td>\n      <td>22.000000</td>\n      <td>G</td>\n    </tr>\n    <tr>\n      <th>1</th>\n      <td>1</td>\n      <td>1</td>\n      <td>female</td>\n      <td>38.000000</td>\n      <td>C</td>\n    </tr>\n    <tr>\n      <th>2</th>\n      <td>1</td>\n      <td>3</td>\n      <td>female</td>\n      <td>26.000000</td>\n      <td>E</td>\n    </tr>\n    <tr>\n      <th>3</th>\n      <td>1</td>\n      <td>1</td>\n      <td>female</td>\n      <td>35.000000</td>\n      <td>C</td>\n    </tr>\n    <tr>\n      <th>4</th>\n      <td>0</td>\n      <td>3</td>\n      <td>male</td>\n      <td>35.000000</td>\n      <td>E</td>\n    </tr>\n    <tr>\n      <th>...</th>\n      <td>...</td>\n      <td>...</td>\n      <td>...</td>\n      <td>...</td>\n      <td>...</td>\n    </tr>\n    <tr>\n      <th>886</th>\n      <td>0</td>\n      <td>2</td>\n      <td>male</td>\n      <td>27.000000</td>\n      <td>E</td>\n    </tr>\n    <tr>\n      <th>887</th>\n      <td>1</td>\n      <td>1</td>\n      <td>female</td>\n      <td>19.000000</td>\n      <td>B</td>\n    </tr>\n    <tr>\n      <th>888</th>\n      <td>0</td>\n      <td>3</td>\n      <td>female</td>\n      <td>23.315705</td>\n      <td>F</td>\n    </tr>\n    <tr>\n      <th>889</th>\n      <td>1</td>\n      <td>1</td>\n      <td>male</td>\n      <td>26.000000</td>\n      <td>C</td>\n    </tr>\n    <tr>\n      <th>890</th>\n      <td>0</td>\n      <td>3</td>\n      <td>male</td>\n      <td>32.000000</td>\n      <td>F</td>\n    </tr>\n  </tbody>\n</table>\n<p>891 rows × 5 columns</p>\n</div>"
     },
     "metadata": {},
     "execution_count": 18
    }
   ],
   "source": [
    "train"
   ]
  },
  {
   "cell_type": "code",
   "execution_count": 17,
   "metadata": {},
   "outputs": [
    {
     "output_type": "execute_result",
     "data": {
      "text/plain": [
       "     Pclass     Sex        Age Cabin\n",
       "0         3    male  34.500000     F\n",
       "1         3  female  47.000000     F\n",
       "2         2    male  62.000000     F\n",
       "3         3    male  27.000000     F\n",
       "4         3  female  22.000000     G\n",
       "..      ...     ...        ...   ...\n",
       "413       3    male  33.214286     F\n",
       "414       1  female  39.000000     C\n",
       "415       3    male  38.500000     F\n",
       "416       3    male  22.538462     F\n",
       "417       3    male  22.538462     F\n",
       "\n",
       "[418 rows x 4 columns]"
      ],
      "text/html": "<div>\n<style scoped>\n    .dataframe tbody tr th:only-of-type {\n        vertical-align: middle;\n    }\n\n    .dataframe tbody tr th {\n        vertical-align: top;\n    }\n\n    .dataframe thead th {\n        text-align: right;\n    }\n</style>\n<table border=\"1\" class=\"dataframe\">\n  <thead>\n    <tr style=\"text-align: right;\">\n      <th></th>\n      <th>Pclass</th>\n      <th>Sex</th>\n      <th>Age</th>\n      <th>Cabin</th>\n    </tr>\n  </thead>\n  <tbody>\n    <tr>\n      <th>0</th>\n      <td>3</td>\n      <td>male</td>\n      <td>34.500000</td>\n      <td>F</td>\n    </tr>\n    <tr>\n      <th>1</th>\n      <td>3</td>\n      <td>female</td>\n      <td>47.000000</td>\n      <td>F</td>\n    </tr>\n    <tr>\n      <th>2</th>\n      <td>2</td>\n      <td>male</td>\n      <td>62.000000</td>\n      <td>F</td>\n    </tr>\n    <tr>\n      <th>3</th>\n      <td>3</td>\n      <td>male</td>\n      <td>27.000000</td>\n      <td>F</td>\n    </tr>\n    <tr>\n      <th>4</th>\n      <td>3</td>\n      <td>female</td>\n      <td>22.000000</td>\n      <td>G</td>\n    </tr>\n    <tr>\n      <th>...</th>\n      <td>...</td>\n      <td>...</td>\n      <td>...</td>\n      <td>...</td>\n    </tr>\n    <tr>\n      <th>413</th>\n      <td>3</td>\n      <td>male</td>\n      <td>33.214286</td>\n      <td>F</td>\n    </tr>\n    <tr>\n      <th>414</th>\n      <td>1</td>\n      <td>female</td>\n      <td>39.000000</td>\n      <td>C</td>\n    </tr>\n    <tr>\n      <th>415</th>\n      <td>3</td>\n      <td>male</td>\n      <td>38.500000</td>\n      <td>F</td>\n    </tr>\n    <tr>\n      <th>416</th>\n      <td>3</td>\n      <td>male</td>\n      <td>22.538462</td>\n      <td>F</td>\n    </tr>\n    <tr>\n      <th>417</th>\n      <td>3</td>\n      <td>male</td>\n      <td>22.538462</td>\n      <td>F</td>\n    </tr>\n  </tbody>\n</table>\n<p>418 rows × 4 columns</p>\n</div>"
     },
     "metadata": {},
     "execution_count": 17
    }
   ],
   "source": [
    "test"
   ]
  },
  {
   "source": [
    "마지막으로 나이를 살펴보자. 우선 연령대 별(10대, 20대...)로 데이터를 분리한 뒤 평균 생존값을 살펴보자"
   ],
   "cell_type": "markdown",
   "metadata": {}
  },
  {
   "cell_type": "code",
   "execution_count": 16,
   "metadata": {},
   "outputs": [
    {
     "output_type": "stream",
     "name": "stdout",
     "text": [
      "80.0\n76.0\n"
     ]
    }
   ],
   "source": [
    "# 나이 최대값 확인. 두 데이터 통틀어서 80세가 최대다. \n",
    "print(train['Age'].max())\n",
    "print(test['Age'].max())"
   ]
  },
  {
   "cell_type": "code",
   "execution_count": 18,
   "metadata": {},
   "outputs": [],
   "source": [
    "# 각 연령별로 데이터 추출 후 저장\n",
    "train_0s = train[train['Age'] < 10.0]\n",
    "train_10s = train[(train['Age'] < 20.0) & (train['Age'] >= 10.0)]\n",
    "train_20s = train[(train['Age'] < 30.0) & (train['Age'] >= 20.0)]\n",
    "train_30s = train[(train['Age'] < 40.0) & (train['Age'] >= 30.0)]\n",
    "train_40s = train[(train['Age'] < 50.0) & (train['Age'] >= 40.0)]\n",
    "train_50s = train[(train['Age'] < 60.0) & (train['Age'] >= 50.0)]\n",
    "train_60s = train[(train['Age'] < 70.0) & (train['Age'] >= 60.0)]\n",
    "train_70s = train[(train['Age'] < 80.0) & (train['Age'] >= 70.0)]\n",
    "train_80s = train[(train['Age'] < 90.0) & (train['Age'] >= 80.0)]"
   ]
  },
  {
   "cell_type": "code",
   "execution_count": 19,
   "metadata": {},
   "outputs": [
    {
     "output_type": "stream",
     "name": "stdout",
     "text": [
      "0~9세 평균 생존률 : 0.59375, 0~9세 인구 : 64\n10~19세 평균 생존률 : 0.49612403100775193, 10~19세 인구 : 129\n20~29세 평균 생존률 : 0.2908496732026144, 20~29세 인구 : 306\n30~39세 평균 생존률 : 0.40375586854460094, 30~39세 인구 : 213\n40~49세 평균 생존률 : 0.4, 40~49세 인구 : 95\n50~59세 평균 생존률 : 0.3448275862068966, 50~59세 인구 : 58\n60~69세 평균 생존률 : 0.3157894736842105, 60~69세 인구 : 19\n70~79세 평균 생존률 : 0.0, 70~79세 인구 : 6\n80~89세 평균 생존률 : 1.0, 80~89세 인구 : 1\n"
     ]
    }
   ],
   "source": [
    "print(\"0~9세 평균 생존률 : \" + str(train_0s['Survived'].mean()) + \", 0~9세 인구 : \" + str(len(train_0s)))\n",
    "print(\"10~19세 평균 생존률 : \" + str(train_10s['Survived'].mean()) + \", 10~19세 인구 : \" + str(len(train_10s)))\n",
    "print(\"20~29세 평균 생존률 : \" + str(train_20s['Survived'].mean()) + \", 20~29세 인구 : \" + str(len(train_20s)))\n",
    "print(\"30~39세 평균 생존률 : \" + str(train_30s['Survived'].mean()) + \", 30~39세 인구 : \" + str(len(train_30s)))\n",
    "print(\"40~49세 평균 생존률 : \" + str(train_40s['Survived'].mean()) + \", 40~49세 인구 : \" + str(len(train_40s)))\n",
    "print(\"50~59세 평균 생존률 : \" + str(train_50s['Survived'].mean()) + \", 50~59세 인구 : \" + str(len(train_50s)))\n",
    "print(\"60~69세 평균 생존률 : \" + str(train_60s['Survived'].mean()) + \", 60~69세 인구 : \" + str(len(train_60s)))\n",
    "print(\"70~79세 평균 생존률 : \" + str(train_70s['Survived'].mean()) + \", 70~79세 인구 : \" + str(len(train_70s)))\n",
    "print(\"80~89세 평균 생존률 : \" + str(train_80s['Survived'].mean()) + \", 80~89세 인구 : \" + str(len(train_80s)))\n"
   ]
  },
  {
   "source": [
    "연령별로 차이가 나는데 선형으로 증가/감소하지 않고 특정 연령대에서 낮고 높음이 드러난다.\n",
    "<br>\n",
    "앞서 성별을 isMan, isWoman로 구분하듯 연령대를 구분지은 다음 1이나 0을 대입하는 방식을 사용하면 좋다고 본다. \n",
    "<br>\n",
    "그럼 중요한 것은 연령별 구분을 어떻게 할 것이냐다. "
   ],
   "cell_type": "markdown",
   "metadata": {}
  },
  {
   "source": [
    "미성년, 청년, 중년, 노년으로 나눠보기로 했다. \n",
    "<br>\n",
    "0~17세를 미성년, 18~40을 청년, 41~60을 중년, 61~을 노년으로 나눈 뒤 평균 생존률을 구해보겠다. "
   ],
   "cell_type": "markdown",
   "metadata": {}
  },
  {
   "cell_type": "code",
   "execution_count": 46,
   "metadata": {},
   "outputs": [
    {
     "output_type": "stream",
     "name": "stdout",
     "text": [
      "0~17세 평균 생존률 : 0.60431654676259\n18~40세 평균 생존률 : 0.34067796610169493\n41~60세 평균 생존률 : 0.37142857142857144\n61~세 평균 생존률 : 0.22727272727272727\n"
     ]
    }
   ],
   "source": [
    "print(\"0~17세 평균 생존률 : \" + str(train[train['Age'] < 18]['Survived'].mean()))\n",
    "print(\"18~40세 평균 생존률 : \" + str(train[(train['Age'] >= 18.0) & (train['Age'] < 41)]['Survived'].mean()))\n",
    "print(\"41~60세 평균 생존률 : \" + str(train[(train['Age'] >= 41.0) & (train['Age'] < 61)]['Survived'].mean()))\n",
    "print(\"61~세 평균 생존률 : \" + str(train[train['Age'] >= 61.0]['Survived'].mean()))"
   ]
  },
  {
   "source": [
    "미성년, 청년은 구분이 잘되는데 청년, 중년 구분이 잘 안되서 아쉽다. 구분이 되게끔 경계값(기존 값 40)을 조정해보자 "
   ],
   "cell_type": "markdown",
   "metadata": {}
  },
  {
   "cell_type": "code",
   "execution_count": 56,
   "metadata": {},
   "outputs": [
    {
     "output_type": "stream",
     "name": "stdout",
     "text": [
      "18~36세 평균 생존률 : 0.34615384615384615\n37~60세 평균 생존률 : 0.3476190476190476\n\n18~37세 평균 생존률 : 0.3446969696969697\n38~60세 평균 생존률 : 0.35148514851485146\n\n18~38세 평균 생존률 : 0.33512544802867383\n39~60세 평균 생존률 : 0.38372093023255816\n\n18~39세 평균 생존률 : 0.3368237347294939\n40~60세 평균 생존률 : 0.3821656050955414\n"
     ]
    }
   ],
   "source": [
    "print(\"18~36세 평균 생존률 : \" + str(train[(train['Age'] >= 18.0) & (train['Age'] < 37)]['Survived'].mean()))\n",
    "print(\"37~60세 평균 생존률 : \" + str(train[(train['Age'] >= 37.0) & (train['Age'] < 61)]['Survived'].mean()))\n",
    "print()\n",
    "print(\"18~37세 평균 생존률 : \" + str(train[(train['Age'] >= 18.0) & (train['Age'] < 38)]['Survived'].mean()))\n",
    "print(\"38~60세 평균 생존률 : \" + str(train[(train['Age'] >= 38.0) & (train['Age'] < 61)]['Survived'].mean()))\n",
    "print()\n",
    "print(\"18~38세 평균 생존률 : \" + str(train[(train['Age'] >= 18.0) & (train['Age'] < 39)]['Survived'].mean()))\n",
    "print(\"39~60세 평균 생존률 : \" + str(train[(train['Age'] >= 39.0) & (train['Age'] < 61)]['Survived'].mean()))\n",
    "print()\n",
    "print(\"18~39세 평균 생존률 : \" + str(train[(train['Age'] >= 18.0) & (train['Age'] < 40)]['Survived'].mean()))\n",
    "print(\"40~60세 평균 생존률 : \" + str(train[(train['Age'] >= 40.0) & (train['Age'] < 61)]['Survived'].mean()))"
   ]
  },
  {
   "source": [
    "청년~중년 구분을 38세로 했을 때 가장 큰 차이가 난다. 그러니 38세로 하자. "
   ],
   "cell_type": "markdown",
   "metadata": {}
  },
  {
   "source": [
    "print(\"0~17세 평균 생존률 : \" + str(train[train['Age'] < 18]['Survived'].mean()))\n",
    "print(\"18~38세 평균 생존률 : \" + str(train[(train['Age'] >= 18.0) & (train['Age'] < 39)]['Survived'].mean()))\n",
    "print(\"39~60세 평균 생존률 : \" + str(train[(train['Age'] >= 39.0) & (train['Age'] < 61)]['Survived'].mean()))\n",
    "print(\"61~세 평균 생존률 : \" + str(train[train['Age'] >= 61.0]['Survived'].mean()))"
   ],
   "cell_type": "code",
   "metadata": {},
   "execution_count": 57,
   "outputs": [
    {
     "output_type": "stream",
     "name": "stdout",
     "text": [
      "0~17세 평균 생존률 : 0.60431654676259\n18~38세 평균 생존률 : 0.33512544802867383\n39~60세 평균 생존률 : 0.38372093023255816\n61~세 평균 생존률 : 0.22727272727272727\n"
     ]
    }
   ]
  },
  {
   "source": [
    "혹시 모르니 미성년~청년, 중년~노년 경계도 조정해보자"
   ],
   "cell_type": "markdown",
   "metadata": {}
  },
  {
   "cell_type": "code",
   "execution_count": 58,
   "metadata": {},
   "outputs": [
    {
     "output_type": "stream",
     "name": "stdout",
     "text": [
      "0~14세 평균 생존률 : 0.5930232558139535\n37~60세 평균 생존률 : 0.37005163511187605\n\n0~15세 평균 생존률 : 0.6170212765957447\n38~60세 평균 생존률 : 0.36300174520069806\n\n0~16세 평균 생존률 : 0.5714285714285714\n39~60세 평균 생존률 : 0.36396396396396397\n\n0~17세 평균 생존률 : 0.60431654676259\n18~36세 평균 생존률 : 0.3446969696969697\n"
     ]
    }
   ],
   "source": [
    "print(\"0~14세 평균 생존률 : \" + str(train[train['Age'] < 15]['Survived'].mean()))\n",
    "print(\"37~60세 평균 생존률 : \" + str(train[(train['Age'] >= 15.0) & (train['Age'] < 38)]['Survived'].mean()))\n",
    "print()\n",
    "print(\"0~15세 평균 생존률 : \" + str(train[train['Age'] < 16]['Survived'].mean()))\n",
    "print(\"38~60세 평균 생존률 : \" + str(train[(train['Age'] >= 16.0) & (train['Age'] < 38)]['Survived'].mean()))\n",
    "print()\n",
    "print(\"0~16세 평균 생존률 : \" + str(train[train['Age'] < 17]['Survived'].mean()))\n",
    "print(\"39~60세 평균 생존률 : \" + str(train[(train['Age'] >= 17.0) & (train['Age'] < 38)]['Survived'].mean()))\n",
    "print()\n",
    "print(\"0~17세 평균 생존률 : \" + str(train[train['Age'] < 18]['Survived'].mean()))\n",
    "print(\"18~36세 평균 생존률 : \" + str(train[(train['Age'] >= 18.0) & (train['Age'] < 38)]['Survived'].mean()))"
   ]
  },
  {
   "source": [
    "처음 설정한 나이(18세)가 가장 구분이 잘된다. 이제 노년을 보자"
   ],
   "cell_type": "markdown",
   "metadata": {}
  },
  {
   "cell_type": "code",
   "execution_count": 63,
   "metadata": {},
   "outputs": [
    {
     "output_type": "stream",
     "name": "stdout",
     "text": [
      "39~57세 평균 생존률 : 0.37888198757763975\n58~세 평균 생존률 : 0.30303030303030304\n\n39~58세 평균 생존률 : 0.3855421686746988\n59~세 평균 생존률 : 0.25\n\n39~59세 평균 생존률 : 0.38095238095238093\n60~세 평균 생존률 : 0.2692307692307692\n\n39~60세 평균 생존률 : 0.38372093023255816\n61~세 평균 생존률 : 0.22727272727272727\n\n39~61세 평균 생존률 : 0.37714285714285717\n62~세 평균 생존률 : 0.2631578947368421\n\n39~62세 평균 생존률 : 0.37988826815642457\n63~세 평균 생존률 : 0.2\n\n39~63세 평균 생존률 : 0.3867403314917127\n64~세 평균 생존률 : 0.07692307692307693\n\n39~64세 평균 생존률 : 0.3825136612021858\n65~세 평균 생존률 : 0.09090909090909091\n\n39~65세 평균 생존률 : 0.3763440860215054\n66~세 평균 생존률 : 0.125\n"
     ]
    }
   ],
   "source": [
    "print(\"39~57세 평균 생존률 : \" + str(train[(train['Age'] >= 39.0) & (train['Age'] < 58)]['Survived'].mean()))\n",
    "print(\"58~세 평균 생존률 : \" + str(train[train['Age'] >= 58.0]['Survived'].mean()))\n",
    "print()\n",
    "print(\"39~58세 평균 생존률 : \" + str(train[(train['Age'] >= 39.0) & (train['Age'] < 59)]['Survived'].mean()))\n",
    "print(\"59~세 평균 생존률 : \" + str(train[train['Age'] >= 59.0]['Survived'].mean()))\n",
    "print()\n",
    "print(\"39~59세 평균 생존률 : \" + str(train[(train['Age'] >= 39.0) & (train['Age'] < 60)]['Survived'].mean()))\n",
    "print(\"60~세 평균 생존률 : \" + str(train[train['Age'] >= 60.0]['Survived'].mean()))\n",
    "print()\n",
    "print(\"39~60세 평균 생존률 : \" + str(train[(train['Age'] >= 39.0) & (train['Age'] < 61)]['Survived'].mean()))\n",
    "print(\"61~세 평균 생존률 : \" + str(train[train['Age'] >= 61.0]['Survived'].mean()))\n",
    "print()\n",
    "print(\"39~61세 평균 생존률 : \" + str(train[(train['Age'] >= 39.0) & (train['Age'] < 62)]['Survived'].mean()))\n",
    "print(\"62~세 평균 생존률 : \" + str(train[train['Age'] >= 62.0]['Survived'].mean()))\n",
    "print()\n",
    "print(\"39~62세 평균 생존률 : \" + str(train[(train['Age'] >= 39.0) & (train['Age'] < 63)]['Survived'].mean()))\n",
    "print(\"63~세 평균 생존률 : \" + str(train[train['Age'] >= 63.0]['Survived'].mean()))\n",
    "print()\n",
    "print(\"39~63세 평균 생존률 : \" + str(train[(train['Age'] >= 39.0) & (train['Age'] < 64)]['Survived'].mean()))\n",
    "print(\"64~세 평균 생존률 : \" + str(train[train['Age'] >= 64.0]['Survived'].mean()))\n",
    "print()\n",
    "print(\"39~64세 평균 생존률 : \" + str(train[(train['Age'] >= 39.0) & (train['Age'] < 65)]['Survived'].mean()))\n",
    "print(\"65~세 평균 생존률 : \" + str(train[train['Age'] >= 65.0]['Survived'].mean()))\n",
    "print()\n",
    "print(\"39~65세 평균 생존률 : \" + str(train[(train['Age'] >= 39.0) & (train['Age'] < 66)]['Survived'].mean()))\n",
    "print(\"66~세 평균 생존률 : \" + str(train[train['Age'] >= 66.0]['Survived'].mean()))"
   ]
  },
  {
   "source": [
    "64세를 중~노년 기준으로 했을 때 가장 크게 차이가 난다. 허나 60세 이상의 승객 수가 적은 점(891명 중 26명에 해당), 경계를 조정할 수록 값의 차이가 들쑥날쑥 한다는 점 등을 고려해 기존에 정한 60세로 하기로 했다. "
   ],
   "cell_type": "markdown",
   "metadata": {}
  },
  {
   "source": [
    "즉, 나이 데이터도 미성년(0~17), 청년(18~38), 중년(39~60), 노년(61~)으로 그룹을 나눌거다. "
   ],
   "cell_type": "markdown",
   "metadata": {}
  },
  {
   "source": [
    "어떻게 할지 정했으니 이제 데이터를 가공해보자"
   ],
   "cell_type": "markdown",
   "metadata": {}
  },
  {
   "source": [
    "## 3-2. 데이터 가공하기\n",
    "이제 성별, 객실 종류를 모델이 좋아하는 숫자 데이터로 바꿀거다."
   ],
   "cell_type": "markdown",
   "metadata": {}
  },
  {
   "source": [
    "### 3-2-1. 성별 데이터\n",
    "<br>\n",
    "우선 성별 데이터를 가공하자.\n",
    "<br>\n",
    "앞서 말했듯 male, female로 구분되는 성별 데이터를 isMan, isWoman으로 구분할거다. "
   ],
   "cell_type": "markdown",
   "metadata": {}
  },
  {
   "cell_type": "code",
   "execution_count": 19,
   "metadata": {},
   "outputs": [],
   "source": [
    "# isMan, isWoman 특성 추가\n",
    "train['isMan'] = 0\n",
    "train['isWoman'] = 0\n",
    "\n",
    "for i in range(0, len(train)):\n",
    "    if train['Sex'][i] == 'male': # 남자면 isMan을 1로\n",
    "        train['isMan'][i] = 1\n",
    "    elif train['Sex'][i] == 'female': # 여자면 isWoman을 1로\n",
    "        train['isWoman'][i] = 1\n",
    "\n",
    "# 테스트 데이터도 적용\n",
    "test['isMan'] = 0\n",
    "test['isWoman'] = 0\n",
    "\n",
    "for i in range(0, len(test)):\n",
    "    if test['Sex'][i] == 'male':\n",
    "        test['isMan'][i] = 1\n",
    "    elif test['Sex'][i] == 'female':\n",
    "        test['isWoman'][i] = 1\n",
    "\n",
    "# 'Sex' 특성을 드랍\n",
    "train.drop('Sex', axis=1, inplace=True)\n",
    "test.drop('Sex', axis=1, inplace=True)\n"
   ]
  },
  {
   "source": [
    "데이터를 확인해보자"
   ],
   "cell_type": "markdown",
   "metadata": {}
  },
  {
   "cell_type": "code",
   "execution_count": 20,
   "metadata": {},
   "outputs": [
    {
     "output_type": "execute_result",
     "data": {
      "text/plain": [
       "     Survived  Pclass        Age Cabin  isMan  isWoman\n",
       "0           0       3  22.000000     G      1        0\n",
       "1           1       1  38.000000     C      0        1\n",
       "2           1       3  26.000000     E      0        1\n",
       "3           1       1  35.000000     C      0        1\n",
       "4           0       3  35.000000     E      1        0\n",
       "..        ...     ...        ...   ...    ...      ...\n",
       "886         0       2  27.000000     E      1        0\n",
       "887         1       1  19.000000     B      0        1\n",
       "888         0       3  23.315705     F      0        1\n",
       "889         1       1  26.000000     C      1        0\n",
       "890         0       3  32.000000     F      1        0\n",
       "\n",
       "[891 rows x 6 columns]"
      ],
      "text/html": "<div>\n<style scoped>\n    .dataframe tbody tr th:only-of-type {\n        vertical-align: middle;\n    }\n\n    .dataframe tbody tr th {\n        vertical-align: top;\n    }\n\n    .dataframe thead th {\n        text-align: right;\n    }\n</style>\n<table border=\"1\" class=\"dataframe\">\n  <thead>\n    <tr style=\"text-align: right;\">\n      <th></th>\n      <th>Survived</th>\n      <th>Pclass</th>\n      <th>Age</th>\n      <th>Cabin</th>\n      <th>isMan</th>\n      <th>isWoman</th>\n    </tr>\n  </thead>\n  <tbody>\n    <tr>\n      <th>0</th>\n      <td>0</td>\n      <td>3</td>\n      <td>22.000000</td>\n      <td>G</td>\n      <td>1</td>\n      <td>0</td>\n    </tr>\n    <tr>\n      <th>1</th>\n      <td>1</td>\n      <td>1</td>\n      <td>38.000000</td>\n      <td>C</td>\n      <td>0</td>\n      <td>1</td>\n    </tr>\n    <tr>\n      <th>2</th>\n      <td>1</td>\n      <td>3</td>\n      <td>26.000000</td>\n      <td>E</td>\n      <td>0</td>\n      <td>1</td>\n    </tr>\n    <tr>\n      <th>3</th>\n      <td>1</td>\n      <td>1</td>\n      <td>35.000000</td>\n      <td>C</td>\n      <td>0</td>\n      <td>1</td>\n    </tr>\n    <tr>\n      <th>4</th>\n      <td>0</td>\n      <td>3</td>\n      <td>35.000000</td>\n      <td>E</td>\n      <td>1</td>\n      <td>0</td>\n    </tr>\n    <tr>\n      <th>...</th>\n      <td>...</td>\n      <td>...</td>\n      <td>...</td>\n      <td>...</td>\n      <td>...</td>\n      <td>...</td>\n    </tr>\n    <tr>\n      <th>886</th>\n      <td>0</td>\n      <td>2</td>\n      <td>27.000000</td>\n      <td>E</td>\n      <td>1</td>\n      <td>0</td>\n    </tr>\n    <tr>\n      <th>887</th>\n      <td>1</td>\n      <td>1</td>\n      <td>19.000000</td>\n      <td>B</td>\n      <td>0</td>\n      <td>1</td>\n    </tr>\n    <tr>\n      <th>888</th>\n      <td>0</td>\n      <td>3</td>\n      <td>23.315705</td>\n      <td>F</td>\n      <td>0</td>\n      <td>1</td>\n    </tr>\n    <tr>\n      <th>889</th>\n      <td>1</td>\n      <td>1</td>\n      <td>26.000000</td>\n      <td>C</td>\n      <td>1</td>\n      <td>0</td>\n    </tr>\n    <tr>\n      <th>890</th>\n      <td>0</td>\n      <td>3</td>\n      <td>32.000000</td>\n      <td>F</td>\n      <td>1</td>\n      <td>0</td>\n    </tr>\n  </tbody>\n</table>\n<p>891 rows × 6 columns</p>\n</div>"
     },
     "metadata": {},
     "execution_count": 20
    }
   ],
   "source": [
    "train #isMan, isWoman이 있는걸 확인할 수 있다. "
   ]
  },
  {
   "cell_type": "code",
   "execution_count": 66,
   "metadata": {},
   "outputs": [
    {
     "output_type": "execute_result",
     "data": {
      "text/plain": [
       "     Pclass        Age Cabin  isMan  isWoman\n",
       "0         3  34.500000     F      1        0\n",
       "1         3  47.000000     F      0        1\n",
       "2         2  62.000000     F      1        0\n",
       "3         3  27.000000     F      1        0\n",
       "4         3  22.000000     G      0        1\n",
       "..      ...        ...   ...    ...      ...\n",
       "413       3  33.214286     F      1        0\n",
       "414       1  39.000000     C      0        1\n",
       "415       3  38.500000     F      1        0\n",
       "416       3  22.538462     F      1        0\n",
       "417       3  22.538462     F      1        0\n",
       "\n",
       "[418 rows x 5 columns]"
      ],
      "text/html": "<div>\n<style scoped>\n    .dataframe tbody tr th:only-of-type {\n        vertical-align: middle;\n    }\n\n    .dataframe tbody tr th {\n        vertical-align: top;\n    }\n\n    .dataframe thead th {\n        text-align: right;\n    }\n</style>\n<table border=\"1\" class=\"dataframe\">\n  <thead>\n    <tr style=\"text-align: right;\">\n      <th></th>\n      <th>Pclass</th>\n      <th>Age</th>\n      <th>Cabin</th>\n      <th>isMan</th>\n      <th>isWoman</th>\n    </tr>\n  </thead>\n  <tbody>\n    <tr>\n      <th>0</th>\n      <td>3</td>\n      <td>34.500000</td>\n      <td>F</td>\n      <td>1</td>\n      <td>0</td>\n    </tr>\n    <tr>\n      <th>1</th>\n      <td>3</td>\n      <td>47.000000</td>\n      <td>F</td>\n      <td>0</td>\n      <td>1</td>\n    </tr>\n    <tr>\n      <th>2</th>\n      <td>2</td>\n      <td>62.000000</td>\n      <td>F</td>\n      <td>1</td>\n      <td>0</td>\n    </tr>\n    <tr>\n      <th>3</th>\n      <td>3</td>\n      <td>27.000000</td>\n      <td>F</td>\n      <td>1</td>\n      <td>0</td>\n    </tr>\n    <tr>\n      <th>4</th>\n      <td>3</td>\n      <td>22.000000</td>\n      <td>G</td>\n      <td>0</td>\n      <td>1</td>\n    </tr>\n    <tr>\n      <th>...</th>\n      <td>...</td>\n      <td>...</td>\n      <td>...</td>\n      <td>...</td>\n      <td>...</td>\n    </tr>\n    <tr>\n      <th>413</th>\n      <td>3</td>\n      <td>33.214286</td>\n      <td>F</td>\n      <td>1</td>\n      <td>0</td>\n    </tr>\n    <tr>\n      <th>414</th>\n      <td>1</td>\n      <td>39.000000</td>\n      <td>C</td>\n      <td>0</td>\n      <td>1</td>\n    </tr>\n    <tr>\n      <th>415</th>\n      <td>3</td>\n      <td>38.500000</td>\n      <td>F</td>\n      <td>1</td>\n      <td>0</td>\n    </tr>\n    <tr>\n      <th>416</th>\n      <td>3</td>\n      <td>22.538462</td>\n      <td>F</td>\n      <td>1</td>\n      <td>0</td>\n    </tr>\n    <tr>\n      <th>417</th>\n      <td>3</td>\n      <td>22.538462</td>\n      <td>F</td>\n      <td>1</td>\n      <td>0</td>\n    </tr>\n  </tbody>\n</table>\n<p>418 rows × 5 columns</p>\n</div>"
     },
     "metadata": {},
     "execution_count": 66
    }
   ],
   "source": [
    "test"
   ]
  },
  {
   "source": [
    "### 3-2-2. 객실 데이터\n",
    "<br>\n",
    "이제 객실 정보를 가공하자\n",
    "<br>\n",
    "객실 정보도 성별을 분류했던 것과 같이 Cabin_A, Cabin_B...와 같은 특성을 추가한 뒤 값을 넣어줄거다."
   ],
   "cell_type": "markdown",
   "metadata": {}
  },
  {
   "cell_type": "code",
   "execution_count": 20,
   "metadata": {},
   "outputs": [],
   "source": [
    "# 객실 종류별 is~ 특성 추가\n",
    "train['Cabin_A'] = 0 \n",
    "train['Cabin_B'] = 0\n",
    "train['Cabin_C'] = 0\n",
    "train['Cabin_D'] = 0\n",
    "train['Cabin_E'] = 0\n",
    "train['Cabin_F'] = 0\n",
    "train['Cabin_G'] = 0\n",
    "train['Cabin_T'] = 0\n",
    "\n",
    "for i in range(0, len(train)):\n",
    "    if train['Cabin'][i] == 'A':\n",
    "        train['Cabin_A'][i] = 1\n",
    "    elif train['Cabin'][i] == 'B':\n",
    "        train['Cabin_B'][i] = 1\n",
    "    elif train['Cabin'][i] == 'C':\n",
    "        train['Cabin_C'][i] = 1\n",
    "    elif train['Cabin'][i] == 'D':\n",
    "        train['Cabin_D'][i] = 1\n",
    "    elif train['Cabin'][i] == 'E':\n",
    "        train['Cabin_E'][i] = 1\n",
    "    elif train['Cabin'][i] == 'F':\n",
    "        train['Cabin_F'][i] = 1\n",
    "    elif train['Cabin'][i] == 'G':\n",
    "        train['Cabin_G'][i] = 1\n",
    "    elif train['Cabin'][i] == 'T':\n",
    "        train['Cabin_T'][i] = 1\n",
    "\n",
    "# 테스트 데이터도 추가\n",
    "test['Cabin_A'] = 0 \n",
    "test['Cabin_B'] = 0\n",
    "test['Cabin_C'] = 0\n",
    "test['Cabin_D'] = 0\n",
    "test['Cabin_E'] = 0\n",
    "test['Cabin_F'] = 0\n",
    "test['Cabin_G'] = 0\n",
    "test['Cabin_T'] = 0\n",
    "\n",
    "for i in range(0, len(test)):\n",
    "    if test['Cabin'][i] == 'A':\n",
    "        test['Cabin_A'][i] = 1\n",
    "    elif test['Cabin'][i] == 'B':\n",
    "        test['Cabin_B'][i] = 1\n",
    "    elif test['Cabin'][i] == 'C':\n",
    "        test['Cabin_C'][i] = 1\n",
    "    elif test['Cabin'][i] == 'D':\n",
    "        test['Cabin_D'][i] = 1\n",
    "    elif test['Cabin'][i] == 'E':\n",
    "        test['Cabin_E'][i] = 1\n",
    "    elif test['Cabin'][i] == 'F':\n",
    "        test['Cabin_F'][i] = 1\n",
    "    elif test['Cabin'][i] == 'G':\n",
    "        test['Cabin_G'][i] = 1\n",
    "    elif test['Cabin'][i] == 'T':\n",
    "        test['Cabin_T'][i] = 1\n",
    "\n",
    "# 'Cabin' 특성 드랍\n",
    "train.drop('Cabin', axis=1, inplace=True)\n",
    "test.drop('Cabin', axis=1, inplace=True)"
   ]
  },
  {
   "source": [
    "데이터를 확인해보자"
   ],
   "cell_type": "markdown",
   "metadata": {}
  },
  {
   "cell_type": "code",
   "execution_count": 68,
   "metadata": {},
   "outputs": [
    {
     "output_type": "execute_result",
     "data": {
      "text/plain": [
       "     Survived  Pclass        Age  isMan  isWoman  Cabin_A  Cabin_B  Cabin_C  \\\n",
       "0           0       3  22.000000      1        0        0        0        0   \n",
       "1           1       1  38.000000      0        1        0        0        1   \n",
       "2           1       3  26.000000      0        1        0        0        0   \n",
       "3           1       1  35.000000      0        1        0        0        1   \n",
       "4           0       3  35.000000      1        0        0        0        0   \n",
       "..        ...     ...        ...    ...      ...      ...      ...      ...   \n",
       "886         0       2  27.000000      1        0        0        0        0   \n",
       "887         1       1  19.000000      0        1        0        1        0   \n",
       "888         0       3  23.315705      0        1        0        0        0   \n",
       "889         1       1  26.000000      1        0        0        0        1   \n",
       "890         0       3  32.000000      1        0        0        0        0   \n",
       "\n",
       "     Cabin_D  Cabin_E  Cabin_F  Cabin_G  Cabin_T  \n",
       "0          0        0        0        1        0  \n",
       "1          0        0        0        0        0  \n",
       "2          0        1        0        0        0  \n",
       "3          0        0        0        0        0  \n",
       "4          0        1        0        0        0  \n",
       "..       ...      ...      ...      ...      ...  \n",
       "886        0        1        0        0        0  \n",
       "887        0        0        0        0        0  \n",
       "888        0        0        1        0        0  \n",
       "889        0        0        0        0        0  \n",
       "890        0        0        1        0        0  \n",
       "\n",
       "[891 rows x 13 columns]"
      ],
      "text/html": "<div>\n<style scoped>\n    .dataframe tbody tr th:only-of-type {\n        vertical-align: middle;\n    }\n\n    .dataframe tbody tr th {\n        vertical-align: top;\n    }\n\n    .dataframe thead th {\n        text-align: right;\n    }\n</style>\n<table border=\"1\" class=\"dataframe\">\n  <thead>\n    <tr style=\"text-align: right;\">\n      <th></th>\n      <th>Survived</th>\n      <th>Pclass</th>\n      <th>Age</th>\n      <th>isMan</th>\n      <th>isWoman</th>\n      <th>Cabin_A</th>\n      <th>Cabin_B</th>\n      <th>Cabin_C</th>\n      <th>Cabin_D</th>\n      <th>Cabin_E</th>\n      <th>Cabin_F</th>\n      <th>Cabin_G</th>\n      <th>Cabin_T</th>\n    </tr>\n  </thead>\n  <tbody>\n    <tr>\n      <th>0</th>\n      <td>0</td>\n      <td>3</td>\n      <td>22.000000</td>\n      <td>1</td>\n      <td>0</td>\n      <td>0</td>\n      <td>0</td>\n      <td>0</td>\n      <td>0</td>\n      <td>0</td>\n      <td>0</td>\n      <td>1</td>\n      <td>0</td>\n    </tr>\n    <tr>\n      <th>1</th>\n      <td>1</td>\n      <td>1</td>\n      <td>38.000000</td>\n      <td>0</td>\n      <td>1</td>\n      <td>0</td>\n      <td>0</td>\n      <td>1</td>\n      <td>0</td>\n      <td>0</td>\n      <td>0</td>\n      <td>0</td>\n      <td>0</td>\n    </tr>\n    <tr>\n      <th>2</th>\n      <td>1</td>\n      <td>3</td>\n      <td>26.000000</td>\n      <td>0</td>\n      <td>1</td>\n      <td>0</td>\n      <td>0</td>\n      <td>0</td>\n      <td>0</td>\n      <td>1</td>\n      <td>0</td>\n      <td>0</td>\n      <td>0</td>\n    </tr>\n    <tr>\n      <th>3</th>\n      <td>1</td>\n      <td>1</td>\n      <td>35.000000</td>\n      <td>0</td>\n      <td>1</td>\n      <td>0</td>\n      <td>0</td>\n      <td>1</td>\n      <td>0</td>\n      <td>0</td>\n      <td>0</td>\n      <td>0</td>\n      <td>0</td>\n    </tr>\n    <tr>\n      <th>4</th>\n      <td>0</td>\n      <td>3</td>\n      <td>35.000000</td>\n      <td>1</td>\n      <td>0</td>\n      <td>0</td>\n      <td>0</td>\n      <td>0</td>\n      <td>0</td>\n      <td>1</td>\n      <td>0</td>\n      <td>0</td>\n      <td>0</td>\n    </tr>\n    <tr>\n      <th>...</th>\n      <td>...</td>\n      <td>...</td>\n      <td>...</td>\n      <td>...</td>\n      <td>...</td>\n      <td>...</td>\n      <td>...</td>\n      <td>...</td>\n      <td>...</td>\n      <td>...</td>\n      <td>...</td>\n      <td>...</td>\n      <td>...</td>\n    </tr>\n    <tr>\n      <th>886</th>\n      <td>0</td>\n      <td>2</td>\n      <td>27.000000</td>\n      <td>1</td>\n      <td>0</td>\n      <td>0</td>\n      <td>0</td>\n      <td>0</td>\n      <td>0</td>\n      <td>1</td>\n      <td>0</td>\n      <td>0</td>\n      <td>0</td>\n    </tr>\n    <tr>\n      <th>887</th>\n      <td>1</td>\n      <td>1</td>\n      <td>19.000000</td>\n      <td>0</td>\n      <td>1</td>\n      <td>0</td>\n      <td>1</td>\n      <td>0</td>\n      <td>0</td>\n      <td>0</td>\n      <td>0</td>\n      <td>0</td>\n      <td>0</td>\n    </tr>\n    <tr>\n      <th>888</th>\n      <td>0</td>\n      <td>3</td>\n      <td>23.315705</td>\n      <td>0</td>\n      <td>1</td>\n      <td>0</td>\n      <td>0</td>\n      <td>0</td>\n      <td>0</td>\n      <td>0</td>\n      <td>1</td>\n      <td>0</td>\n      <td>0</td>\n    </tr>\n    <tr>\n      <th>889</th>\n      <td>1</td>\n      <td>1</td>\n      <td>26.000000</td>\n      <td>1</td>\n      <td>0</td>\n      <td>0</td>\n      <td>0</td>\n      <td>1</td>\n      <td>0</td>\n      <td>0</td>\n      <td>0</td>\n      <td>0</td>\n      <td>0</td>\n    </tr>\n    <tr>\n      <th>890</th>\n      <td>0</td>\n      <td>3</td>\n      <td>32.000000</td>\n      <td>1</td>\n      <td>0</td>\n      <td>0</td>\n      <td>0</td>\n      <td>0</td>\n      <td>0</td>\n      <td>0</td>\n      <td>1</td>\n      <td>0</td>\n      <td>0</td>\n    </tr>\n  </tbody>\n</table>\n<p>891 rows × 13 columns</p>\n</div>"
     },
     "metadata": {},
     "execution_count": 68
    }
   ],
   "source": [
    "train"
   ]
  },
  {
   "cell_type": "code",
   "execution_count": 69,
   "metadata": {},
   "outputs": [
    {
     "output_type": "execute_result",
     "data": {
      "text/plain": [
       "     Pclass        Age  isMan  isWoman  Cabin_A  Cabin_B  Cabin_C  Cabin_D  \\\n",
       "0         3  34.500000      1        0        0        0        0        0   \n",
       "1         3  47.000000      0        1        0        0        0        0   \n",
       "2         2  62.000000      1        0        0        0        0        0   \n",
       "3         3  27.000000      1        0        0        0        0        0   \n",
       "4         3  22.000000      0        1        0        0        0        0   \n",
       "..      ...        ...    ...      ...      ...      ...      ...      ...   \n",
       "413       3  33.214286      1        0        0        0        0        0   \n",
       "414       1  39.000000      0        1        0        0        1        0   \n",
       "415       3  38.500000      1        0        0        0        0        0   \n",
       "416       3  22.538462      1        0        0        0        0        0   \n",
       "417       3  22.538462      1        0        0        0        0        0   \n",
       "\n",
       "     Cabin_E  Cabin_F  Cabin_G  Cabin_T  \n",
       "0          0        1        0        0  \n",
       "1          0        1        0        0  \n",
       "2          0        1        0        0  \n",
       "3          0        1        0        0  \n",
       "4          0        0        1        0  \n",
       "..       ...      ...      ...      ...  \n",
       "413        0        1        0        0  \n",
       "414        0        0        0        0  \n",
       "415        0        1        0        0  \n",
       "416        0        1        0        0  \n",
       "417        0        1        0        0  \n",
       "\n",
       "[418 rows x 12 columns]"
      ],
      "text/html": "<div>\n<style scoped>\n    .dataframe tbody tr th:only-of-type {\n        vertical-align: middle;\n    }\n\n    .dataframe tbody tr th {\n        vertical-align: top;\n    }\n\n    .dataframe thead th {\n        text-align: right;\n    }\n</style>\n<table border=\"1\" class=\"dataframe\">\n  <thead>\n    <tr style=\"text-align: right;\">\n      <th></th>\n      <th>Pclass</th>\n      <th>Age</th>\n      <th>isMan</th>\n      <th>isWoman</th>\n      <th>Cabin_A</th>\n      <th>Cabin_B</th>\n      <th>Cabin_C</th>\n      <th>Cabin_D</th>\n      <th>Cabin_E</th>\n      <th>Cabin_F</th>\n      <th>Cabin_G</th>\n      <th>Cabin_T</th>\n    </tr>\n  </thead>\n  <tbody>\n    <tr>\n      <th>0</th>\n      <td>3</td>\n      <td>34.500000</td>\n      <td>1</td>\n      <td>0</td>\n      <td>0</td>\n      <td>0</td>\n      <td>0</td>\n      <td>0</td>\n      <td>0</td>\n      <td>1</td>\n      <td>0</td>\n      <td>0</td>\n    </tr>\n    <tr>\n      <th>1</th>\n      <td>3</td>\n      <td>47.000000</td>\n      <td>0</td>\n      <td>1</td>\n      <td>0</td>\n      <td>0</td>\n      <td>0</td>\n      <td>0</td>\n      <td>0</td>\n      <td>1</td>\n      <td>0</td>\n      <td>0</td>\n    </tr>\n    <tr>\n      <th>2</th>\n      <td>2</td>\n      <td>62.000000</td>\n      <td>1</td>\n      <td>0</td>\n      <td>0</td>\n      <td>0</td>\n      <td>0</td>\n      <td>0</td>\n      <td>0</td>\n      <td>1</td>\n      <td>0</td>\n      <td>0</td>\n    </tr>\n    <tr>\n      <th>3</th>\n      <td>3</td>\n      <td>27.000000</td>\n      <td>1</td>\n      <td>0</td>\n      <td>0</td>\n      <td>0</td>\n      <td>0</td>\n      <td>0</td>\n      <td>0</td>\n      <td>1</td>\n      <td>0</td>\n      <td>0</td>\n    </tr>\n    <tr>\n      <th>4</th>\n      <td>3</td>\n      <td>22.000000</td>\n      <td>0</td>\n      <td>1</td>\n      <td>0</td>\n      <td>0</td>\n      <td>0</td>\n      <td>0</td>\n      <td>0</td>\n      <td>0</td>\n      <td>1</td>\n      <td>0</td>\n    </tr>\n    <tr>\n      <th>...</th>\n      <td>...</td>\n      <td>...</td>\n      <td>...</td>\n      <td>...</td>\n      <td>...</td>\n      <td>...</td>\n      <td>...</td>\n      <td>...</td>\n      <td>...</td>\n      <td>...</td>\n      <td>...</td>\n      <td>...</td>\n    </tr>\n    <tr>\n      <th>413</th>\n      <td>3</td>\n      <td>33.214286</td>\n      <td>1</td>\n      <td>0</td>\n      <td>0</td>\n      <td>0</td>\n      <td>0</td>\n      <td>0</td>\n      <td>0</td>\n      <td>1</td>\n      <td>0</td>\n      <td>0</td>\n    </tr>\n    <tr>\n      <th>414</th>\n      <td>1</td>\n      <td>39.000000</td>\n      <td>0</td>\n      <td>1</td>\n      <td>0</td>\n      <td>0</td>\n      <td>1</td>\n      <td>0</td>\n      <td>0</td>\n      <td>0</td>\n      <td>0</td>\n      <td>0</td>\n    </tr>\n    <tr>\n      <th>415</th>\n      <td>3</td>\n      <td>38.500000</td>\n      <td>1</td>\n      <td>0</td>\n      <td>0</td>\n      <td>0</td>\n      <td>0</td>\n      <td>0</td>\n      <td>0</td>\n      <td>1</td>\n      <td>0</td>\n      <td>0</td>\n    </tr>\n    <tr>\n      <th>416</th>\n      <td>3</td>\n      <td>22.538462</td>\n      <td>1</td>\n      <td>0</td>\n      <td>0</td>\n      <td>0</td>\n      <td>0</td>\n      <td>0</td>\n      <td>0</td>\n      <td>1</td>\n      <td>0</td>\n      <td>0</td>\n    </tr>\n    <tr>\n      <th>417</th>\n      <td>3</td>\n      <td>22.538462</td>\n      <td>1</td>\n      <td>0</td>\n      <td>0</td>\n      <td>0</td>\n      <td>0</td>\n      <td>0</td>\n      <td>0</td>\n      <td>1</td>\n      <td>0</td>\n      <td>0</td>\n    </tr>\n  </tbody>\n</table>\n<p>418 rows × 12 columns</p>\n</div>"
     },
     "metadata": {},
     "execution_count": 69
    }
   ],
   "source": [
    "test"
   ]
  },
  {
   "source": [
    "### 3-2-3. 객실 등급 데이터\n",
    "<br>\n",
    "이제 객실 등급 데이터를 가공하자. 앞서 확인했든 객실 등급은 생존 분류에 큰 영향을 미친다.\n",
    "<br>\n",
    "그러니 Pclass_1, Pclass_2, Pclass_3으로 만들고 해당되는 값에 1을 넣어준다."
   ],
   "cell_type": "markdown",
   "metadata": {}
  },
  {
   "cell_type": "code",
   "execution_count": 21,
   "metadata": {},
   "outputs": [],
   "source": [
    "train['Pclass_1'] = 0\n",
    "train['Pclass_2'] = 0\n",
    "train['Pclass_3'] = 0\n",
    "\n",
    "for i in range(0, len(train)):\n",
    "    if train['Pclass'][i] == 1:\n",
    "        train['Pclass_1'][i] = 1\n",
    "    elif train['Pclass'][i] == 2:\n",
    "        train['Pclass_2'][i] = 1\n",
    "    elif train['Pclass'][i] == 3:\n",
    "        train['Pclass_3'][i] = 1\n",
    "\n",
    "test['Pclass_1'] = 0\n",
    "test['Pclass_2'] = 0\n",
    "test['Pclass_3'] = 0\n",
    "\n",
    "for i in range(0, len(test)):\n",
    "    if test['Pclass'][i] == 1:\n",
    "        test['Pclass_1'][i] = 1\n",
    "    elif test['Pclass'][i] == 2:\n",
    "        test['Pclass_2'][i] = 1\n",
    "    elif test['Pclass'][i] == 3:\n",
    "        test['Pclass_3'][i] = 1\n",
    "\n",
    "# 'Embarked' 특성 드랍\n",
    "train.drop('Pclass', axis=1, inplace=True)\n",
    "test.drop('Pclass', axis=1, inplace=True)"
   ]
  },
  {
   "source": [
    "데이터를 확인해보자"
   ],
   "cell_type": "markdown",
   "metadata": {}
  },
  {
   "cell_type": "code",
   "execution_count": 22,
   "metadata": {},
   "outputs": [
    {
     "output_type": "execute_result",
     "data": {
      "text/plain": [
       "     Survived        Age  isMan  isWoman  Cabin_A  Cabin_B  Cabin_C  Cabin_D  \\\n",
       "0           0  22.000000      1        0        0        0        0        0   \n",
       "1           1  38.000000      0        1        0        0        1        0   \n",
       "2           1  26.000000      0        1        0        0        0        0   \n",
       "3           1  35.000000      0        1        0        0        1        0   \n",
       "4           0  35.000000      1        0        0        0        0        0   \n",
       "..        ...        ...    ...      ...      ...      ...      ...      ...   \n",
       "886         0  27.000000      1        0        0        0        0        0   \n",
       "887         1  19.000000      0        1        0        1        0        0   \n",
       "888         0  23.315705      0        1        0        0        0        0   \n",
       "889         1  26.000000      1        0        0        0        1        0   \n",
       "890         0  32.000000      1        0        0        0        0        0   \n",
       "\n",
       "     Cabin_E  Cabin_F  Cabin_G  Cabin_T  Pclass_1  Pclass_2  Pclass_3  \n",
       "0          0        0        1        0         0         0         1  \n",
       "1          0        0        0        0         1         0         0  \n",
       "2          1        0        0        0         0         0         1  \n",
       "3          0        0        0        0         1         0         0  \n",
       "4          1        0        0        0         0         0         1  \n",
       "..       ...      ...      ...      ...       ...       ...       ...  \n",
       "886        1        0        0        0         0         1         0  \n",
       "887        0        0        0        0         1         0         0  \n",
       "888        0        1        0        0         0         0         1  \n",
       "889        0        0        0        0         1         0         0  \n",
       "890        0        1        0        0         0         0         1  \n",
       "\n",
       "[891 rows x 15 columns]"
      ],
      "text/html": "<div>\n<style scoped>\n    .dataframe tbody tr th:only-of-type {\n        vertical-align: middle;\n    }\n\n    .dataframe tbody tr th {\n        vertical-align: top;\n    }\n\n    .dataframe thead th {\n        text-align: right;\n    }\n</style>\n<table border=\"1\" class=\"dataframe\">\n  <thead>\n    <tr style=\"text-align: right;\">\n      <th></th>\n      <th>Survived</th>\n      <th>Age</th>\n      <th>isMan</th>\n      <th>isWoman</th>\n      <th>Cabin_A</th>\n      <th>Cabin_B</th>\n      <th>Cabin_C</th>\n      <th>Cabin_D</th>\n      <th>Cabin_E</th>\n      <th>Cabin_F</th>\n      <th>Cabin_G</th>\n      <th>Cabin_T</th>\n      <th>Pclass_1</th>\n      <th>Pclass_2</th>\n      <th>Pclass_3</th>\n    </tr>\n  </thead>\n  <tbody>\n    <tr>\n      <th>0</th>\n      <td>0</td>\n      <td>22.000000</td>\n      <td>1</td>\n      <td>0</td>\n      <td>0</td>\n      <td>0</td>\n      <td>0</td>\n      <td>0</td>\n      <td>0</td>\n      <td>0</td>\n      <td>1</td>\n      <td>0</td>\n      <td>0</td>\n      <td>0</td>\n      <td>1</td>\n    </tr>\n    <tr>\n      <th>1</th>\n      <td>1</td>\n      <td>38.000000</td>\n      <td>0</td>\n      <td>1</td>\n      <td>0</td>\n      <td>0</td>\n      <td>1</td>\n      <td>0</td>\n      <td>0</td>\n      <td>0</td>\n      <td>0</td>\n      <td>0</td>\n      <td>1</td>\n      <td>0</td>\n      <td>0</td>\n    </tr>\n    <tr>\n      <th>2</th>\n      <td>1</td>\n      <td>26.000000</td>\n      <td>0</td>\n      <td>1</td>\n      <td>0</td>\n      <td>0</td>\n      <td>0</td>\n      <td>0</td>\n      <td>1</td>\n      <td>0</td>\n      <td>0</td>\n      <td>0</td>\n      <td>0</td>\n      <td>0</td>\n      <td>1</td>\n    </tr>\n    <tr>\n      <th>3</th>\n      <td>1</td>\n      <td>35.000000</td>\n      <td>0</td>\n      <td>1</td>\n      <td>0</td>\n      <td>0</td>\n      <td>1</td>\n      <td>0</td>\n      <td>0</td>\n      <td>0</td>\n      <td>0</td>\n      <td>0</td>\n      <td>1</td>\n      <td>0</td>\n      <td>0</td>\n    </tr>\n    <tr>\n      <th>4</th>\n      <td>0</td>\n      <td>35.000000</td>\n      <td>1</td>\n      <td>0</td>\n      <td>0</td>\n      <td>0</td>\n      <td>0</td>\n      <td>0</td>\n      <td>1</td>\n      <td>0</td>\n      <td>0</td>\n      <td>0</td>\n      <td>0</td>\n      <td>0</td>\n      <td>1</td>\n    </tr>\n    <tr>\n      <th>...</th>\n      <td>...</td>\n      <td>...</td>\n      <td>...</td>\n      <td>...</td>\n      <td>...</td>\n      <td>...</td>\n      <td>...</td>\n      <td>...</td>\n      <td>...</td>\n      <td>...</td>\n      <td>...</td>\n      <td>...</td>\n      <td>...</td>\n      <td>...</td>\n      <td>...</td>\n    </tr>\n    <tr>\n      <th>886</th>\n      <td>0</td>\n      <td>27.000000</td>\n      <td>1</td>\n      <td>0</td>\n      <td>0</td>\n      <td>0</td>\n      <td>0</td>\n      <td>0</td>\n      <td>1</td>\n      <td>0</td>\n      <td>0</td>\n      <td>0</td>\n      <td>0</td>\n      <td>1</td>\n      <td>0</td>\n    </tr>\n    <tr>\n      <th>887</th>\n      <td>1</td>\n      <td>19.000000</td>\n      <td>0</td>\n      <td>1</td>\n      <td>0</td>\n      <td>1</td>\n      <td>0</td>\n      <td>0</td>\n      <td>0</td>\n      <td>0</td>\n      <td>0</td>\n      <td>0</td>\n      <td>1</td>\n      <td>0</td>\n      <td>0</td>\n    </tr>\n    <tr>\n      <th>888</th>\n      <td>0</td>\n      <td>23.315705</td>\n      <td>0</td>\n      <td>1</td>\n      <td>0</td>\n      <td>0</td>\n      <td>0</td>\n      <td>0</td>\n      <td>0</td>\n      <td>1</td>\n      <td>0</td>\n      <td>0</td>\n      <td>0</td>\n      <td>0</td>\n      <td>1</td>\n    </tr>\n    <tr>\n      <th>889</th>\n      <td>1</td>\n      <td>26.000000</td>\n      <td>1</td>\n      <td>0</td>\n      <td>0</td>\n      <td>0</td>\n      <td>1</td>\n      <td>0</td>\n      <td>0</td>\n      <td>0</td>\n      <td>0</td>\n      <td>0</td>\n      <td>1</td>\n      <td>0</td>\n      <td>0</td>\n    </tr>\n    <tr>\n      <th>890</th>\n      <td>0</td>\n      <td>32.000000</td>\n      <td>1</td>\n      <td>0</td>\n      <td>0</td>\n      <td>0</td>\n      <td>0</td>\n      <td>0</td>\n      <td>0</td>\n      <td>1</td>\n      <td>0</td>\n      <td>0</td>\n      <td>0</td>\n      <td>0</td>\n      <td>1</td>\n    </tr>\n  </tbody>\n</table>\n<p>891 rows × 15 columns</p>\n</div>"
     },
     "metadata": {},
     "execution_count": 22
    }
   ],
   "source": [
    "train"
   ]
  },
  {
   "cell_type": "code",
   "execution_count": 72,
   "metadata": {},
   "outputs": [
    {
     "output_type": "execute_result",
     "data": {
      "text/plain": [
       "           Age  isMan  isWoman  Cabin_A  Cabin_B  Cabin_C  Cabin_D  Cabin_E  \\\n",
       "0    34.500000      1        0        0        0        0        0        0   \n",
       "1    47.000000      0        1        0        0        0        0        0   \n",
       "2    62.000000      1        0        0        0        0        0        0   \n",
       "3    27.000000      1        0        0        0        0        0        0   \n",
       "4    22.000000      0        1        0        0        0        0        0   \n",
       "..         ...    ...      ...      ...      ...      ...      ...      ...   \n",
       "413  33.214286      1        0        0        0        0        0        0   \n",
       "414  39.000000      0        1        0        0        1        0        0   \n",
       "415  38.500000      1        0        0        0        0        0        0   \n",
       "416  22.538462      1        0        0        0        0        0        0   \n",
       "417  22.538462      1        0        0        0        0        0        0   \n",
       "\n",
       "     Cabin_F  Cabin_G  Cabin_T  Pclass_1  Pclass_2  Pclass_3  \n",
       "0          1        0        0         0         0         1  \n",
       "1          1        0        0         0         0         1  \n",
       "2          1        0        0         0         1         0  \n",
       "3          1        0        0         0         0         1  \n",
       "4          0        1        0         0         0         1  \n",
       "..       ...      ...      ...       ...       ...       ...  \n",
       "413        1        0        0         0         0         1  \n",
       "414        0        0        0         1         0         0  \n",
       "415        1        0        0         0         0         1  \n",
       "416        1        0        0         0         0         1  \n",
       "417        1        0        0         0         0         1  \n",
       "\n",
       "[418 rows x 14 columns]"
      ],
      "text/html": "<div>\n<style scoped>\n    .dataframe tbody tr th:only-of-type {\n        vertical-align: middle;\n    }\n\n    .dataframe tbody tr th {\n        vertical-align: top;\n    }\n\n    .dataframe thead th {\n        text-align: right;\n    }\n</style>\n<table border=\"1\" class=\"dataframe\">\n  <thead>\n    <tr style=\"text-align: right;\">\n      <th></th>\n      <th>Age</th>\n      <th>isMan</th>\n      <th>isWoman</th>\n      <th>Cabin_A</th>\n      <th>Cabin_B</th>\n      <th>Cabin_C</th>\n      <th>Cabin_D</th>\n      <th>Cabin_E</th>\n      <th>Cabin_F</th>\n      <th>Cabin_G</th>\n      <th>Cabin_T</th>\n      <th>Pclass_1</th>\n      <th>Pclass_2</th>\n      <th>Pclass_3</th>\n    </tr>\n  </thead>\n  <tbody>\n    <tr>\n      <th>0</th>\n      <td>34.500000</td>\n      <td>1</td>\n      <td>0</td>\n      <td>0</td>\n      <td>0</td>\n      <td>0</td>\n      <td>0</td>\n      <td>0</td>\n      <td>1</td>\n      <td>0</td>\n      <td>0</td>\n      <td>0</td>\n      <td>0</td>\n      <td>1</td>\n    </tr>\n    <tr>\n      <th>1</th>\n      <td>47.000000</td>\n      <td>0</td>\n      <td>1</td>\n      <td>0</td>\n      <td>0</td>\n      <td>0</td>\n      <td>0</td>\n      <td>0</td>\n      <td>1</td>\n      <td>0</td>\n      <td>0</td>\n      <td>0</td>\n      <td>0</td>\n      <td>1</td>\n    </tr>\n    <tr>\n      <th>2</th>\n      <td>62.000000</td>\n      <td>1</td>\n      <td>0</td>\n      <td>0</td>\n      <td>0</td>\n      <td>0</td>\n      <td>0</td>\n      <td>0</td>\n      <td>1</td>\n      <td>0</td>\n      <td>0</td>\n      <td>0</td>\n      <td>1</td>\n      <td>0</td>\n    </tr>\n    <tr>\n      <th>3</th>\n      <td>27.000000</td>\n      <td>1</td>\n      <td>0</td>\n      <td>0</td>\n      <td>0</td>\n      <td>0</td>\n      <td>0</td>\n      <td>0</td>\n      <td>1</td>\n      <td>0</td>\n      <td>0</td>\n      <td>0</td>\n      <td>0</td>\n      <td>1</td>\n    </tr>\n    <tr>\n      <th>4</th>\n      <td>22.000000</td>\n      <td>0</td>\n      <td>1</td>\n      <td>0</td>\n      <td>0</td>\n      <td>0</td>\n      <td>0</td>\n      <td>0</td>\n      <td>0</td>\n      <td>1</td>\n      <td>0</td>\n      <td>0</td>\n      <td>0</td>\n      <td>1</td>\n    </tr>\n    <tr>\n      <th>...</th>\n      <td>...</td>\n      <td>...</td>\n      <td>...</td>\n      <td>...</td>\n      <td>...</td>\n      <td>...</td>\n      <td>...</td>\n      <td>...</td>\n      <td>...</td>\n      <td>...</td>\n      <td>...</td>\n      <td>...</td>\n      <td>...</td>\n      <td>...</td>\n    </tr>\n    <tr>\n      <th>413</th>\n      <td>33.214286</td>\n      <td>1</td>\n      <td>0</td>\n      <td>0</td>\n      <td>0</td>\n      <td>0</td>\n      <td>0</td>\n      <td>0</td>\n      <td>1</td>\n      <td>0</td>\n      <td>0</td>\n      <td>0</td>\n      <td>0</td>\n      <td>1</td>\n    </tr>\n    <tr>\n      <th>414</th>\n      <td>39.000000</td>\n      <td>0</td>\n      <td>1</td>\n      <td>0</td>\n      <td>0</td>\n      <td>1</td>\n      <td>0</td>\n      <td>0</td>\n      <td>0</td>\n      <td>0</td>\n      <td>0</td>\n      <td>1</td>\n      <td>0</td>\n      <td>0</td>\n    </tr>\n    <tr>\n      <th>415</th>\n      <td>38.500000</td>\n      <td>1</td>\n      <td>0</td>\n      <td>0</td>\n      <td>0</td>\n      <td>0</td>\n      <td>0</td>\n      <td>0</td>\n      <td>1</td>\n      <td>0</td>\n      <td>0</td>\n      <td>0</td>\n      <td>0</td>\n      <td>1</td>\n    </tr>\n    <tr>\n      <th>416</th>\n      <td>22.538462</td>\n      <td>1</td>\n      <td>0</td>\n      <td>0</td>\n      <td>0</td>\n      <td>0</td>\n      <td>0</td>\n      <td>0</td>\n      <td>1</td>\n      <td>0</td>\n      <td>0</td>\n      <td>0</td>\n      <td>0</td>\n      <td>1</td>\n    </tr>\n    <tr>\n      <th>417</th>\n      <td>22.538462</td>\n      <td>1</td>\n      <td>0</td>\n      <td>0</td>\n      <td>0</td>\n      <td>0</td>\n      <td>0</td>\n      <td>0</td>\n      <td>1</td>\n      <td>0</td>\n      <td>0</td>\n      <td>0</td>\n      <td>0</td>\n      <td>1</td>\n    </tr>\n  </tbody>\n</table>\n<p>418 rows × 14 columns</p>\n</div>"
     },
     "metadata": {},
     "execution_count": 72
    }
   ],
   "source": [
    "test"
   ]
  },
  {
   "source": [
    "### 3-2-4. 나이 데이터\n",
    "<br>\n",
    "마지막으로 나이 데이터를 가공하자. 앞서 말했듯  미성년(0~17), 청년(18~38), 중년(39~60), 노년(61~)으로 구분할거다"
   ],
   "cell_type": "markdown",
   "metadata": {}
  },
  {
   "cell_type": "code",
   "execution_count": 23,
   "metadata": {},
   "outputs": [],
   "source": [
    "train['isYoung'] = 0 # 미성년 \n",
    "train['isyouth'] = 0 # 청년\n",
    "train['isMiddleAge'] = 0 # 중년\n",
    "train['isOldAge'] = 0 # 노년\n",
    "\n",
    "\n",
    "for i in range(0, len(train)):\n",
    "    if train['Age'][i] < 17:\n",
    "        train['isYoung'][i] = 1\n",
    "    elif train['Age'][i] >= 18 and train['Age'][i] < 39 :\n",
    "        train['isyouth'][i] = 1\n",
    "    elif train['Age'][i] >= 39 and train['Age'][i] < 61:\n",
    "        train['isMiddleAge'][i] = 1\n",
    "    elif train['Age'][i] >= 61:\n",
    "        train['isOldAge'][i] = 1\n",
    "\n",
    "test['isYoung'] = 0 # 미성년 \n",
    "test['isyouth'] = 0 # 청년\n",
    "test['isMiddleAge'] = 0 # 중년\n",
    "test['isOldAge'] = 0 # 노년\n",
    "\n",
    "\n",
    "for i in range(0, len(test)):\n",
    "    if test['Age'][i] < 17:\n",
    "        test['isYoung'][i] = 1\n",
    "    elif test['Age'][i] >= 18 and test['Age'][i] < 39 :\n",
    "        test['isyouth'][i] = 1\n",
    "    elif test['Age'][i] >= 39 and test['Age'][i] < 61:\n",
    "        test['isMiddleAge'][i] = 1\n",
    "    elif test['Age'][i] >= 61:\n",
    "        test['isOldAge'][i] = 1\n",
    "\n",
    "# 'Embarked' 특성 드랍\n",
    "train.drop('Age', axis=1, inplace=True)\n",
    "test.drop('Age', axis=1, inplace=True)"
   ]
  },
  {
   "source": [
    "데이터를 확인해보자"
   ],
   "cell_type": "markdown",
   "metadata": {}
  },
  {
   "cell_type": "code",
   "execution_count": 24,
   "metadata": {},
   "outputs": [
    {
     "output_type": "execute_result",
     "data": {
      "text/plain": [
       "     Survived  isMan  isWoman  Cabin_A  Cabin_B  Cabin_C  Cabin_D  Cabin_E  \\\n",
       "0           0      1        0        0        0        0        0        0   \n",
       "1           1      0        1        0        0        1        0        0   \n",
       "2           1      0        1        0        0        0        0        1   \n",
       "3           1      0        1        0        0        1        0        0   \n",
       "4           0      1        0        0        0        0        0        1   \n",
       "..        ...    ...      ...      ...      ...      ...      ...      ...   \n",
       "886         0      1        0        0        0        0        0        1   \n",
       "887         1      0        1        0        1        0        0        0   \n",
       "888         0      0        1        0        0        0        0        0   \n",
       "889         1      1        0        0        0        1        0        0   \n",
       "890         0      1        0        0        0        0        0        0   \n",
       "\n",
       "     Cabin_F  Cabin_G  Cabin_T  Pclass_1  Pclass_2  Pclass_3  isYoung  \\\n",
       "0          0        1        0         0         0         1        0   \n",
       "1          0        0        0         1         0         0        0   \n",
       "2          0        0        0         0         0         1        0   \n",
       "3          0        0        0         1         0         0        0   \n",
       "4          0        0        0         0         0         1        0   \n",
       "..       ...      ...      ...       ...       ...       ...      ...   \n",
       "886        0        0        0         0         1         0        0   \n",
       "887        0        0        0         1         0         0        0   \n",
       "888        1        0        0         0         0         1        0   \n",
       "889        0        0        0         1         0         0        0   \n",
       "890        1        0        0         0         0         1        0   \n",
       "\n",
       "     isyouth  isMiddleAge  isOldAge  \n",
       "0          1            0         0  \n",
       "1          1            0         0  \n",
       "2          1            0         0  \n",
       "3          1            0         0  \n",
       "4          1            0         0  \n",
       "..       ...          ...       ...  \n",
       "886        1            0         0  \n",
       "887        1            0         0  \n",
       "888        1            0         0  \n",
       "889        1            0         0  \n",
       "890        1            0         0  \n",
       "\n",
       "[891 rows x 18 columns]"
      ],
      "text/html": "<div>\n<style scoped>\n    .dataframe tbody tr th:only-of-type {\n        vertical-align: middle;\n    }\n\n    .dataframe tbody tr th {\n        vertical-align: top;\n    }\n\n    .dataframe thead th {\n        text-align: right;\n    }\n</style>\n<table border=\"1\" class=\"dataframe\">\n  <thead>\n    <tr style=\"text-align: right;\">\n      <th></th>\n      <th>Survived</th>\n      <th>isMan</th>\n      <th>isWoman</th>\n      <th>Cabin_A</th>\n      <th>Cabin_B</th>\n      <th>Cabin_C</th>\n      <th>Cabin_D</th>\n      <th>Cabin_E</th>\n      <th>Cabin_F</th>\n      <th>Cabin_G</th>\n      <th>Cabin_T</th>\n      <th>Pclass_1</th>\n      <th>Pclass_2</th>\n      <th>Pclass_3</th>\n      <th>isYoung</th>\n      <th>isyouth</th>\n      <th>isMiddleAge</th>\n      <th>isOldAge</th>\n    </tr>\n  </thead>\n  <tbody>\n    <tr>\n      <th>0</th>\n      <td>0</td>\n      <td>1</td>\n      <td>0</td>\n      <td>0</td>\n      <td>0</td>\n      <td>0</td>\n      <td>0</td>\n      <td>0</td>\n      <td>0</td>\n      <td>1</td>\n      <td>0</td>\n      <td>0</td>\n      <td>0</td>\n      <td>1</td>\n      <td>0</td>\n      <td>1</td>\n      <td>0</td>\n      <td>0</td>\n    </tr>\n    <tr>\n      <th>1</th>\n      <td>1</td>\n      <td>0</td>\n      <td>1</td>\n      <td>0</td>\n      <td>0</td>\n      <td>1</td>\n      <td>0</td>\n      <td>0</td>\n      <td>0</td>\n      <td>0</td>\n      <td>0</td>\n      <td>1</td>\n      <td>0</td>\n      <td>0</td>\n      <td>0</td>\n      <td>1</td>\n      <td>0</td>\n      <td>0</td>\n    </tr>\n    <tr>\n      <th>2</th>\n      <td>1</td>\n      <td>0</td>\n      <td>1</td>\n      <td>0</td>\n      <td>0</td>\n      <td>0</td>\n      <td>0</td>\n      <td>1</td>\n      <td>0</td>\n      <td>0</td>\n      <td>0</td>\n      <td>0</td>\n      <td>0</td>\n      <td>1</td>\n      <td>0</td>\n      <td>1</td>\n      <td>0</td>\n      <td>0</td>\n    </tr>\n    <tr>\n      <th>3</th>\n      <td>1</td>\n      <td>0</td>\n      <td>1</td>\n      <td>0</td>\n      <td>0</td>\n      <td>1</td>\n      <td>0</td>\n      <td>0</td>\n      <td>0</td>\n      <td>0</td>\n      <td>0</td>\n      <td>1</td>\n      <td>0</td>\n      <td>0</td>\n      <td>0</td>\n      <td>1</td>\n      <td>0</td>\n      <td>0</td>\n    </tr>\n    <tr>\n      <th>4</th>\n      <td>0</td>\n      <td>1</td>\n      <td>0</td>\n      <td>0</td>\n      <td>0</td>\n      <td>0</td>\n      <td>0</td>\n      <td>1</td>\n      <td>0</td>\n      <td>0</td>\n      <td>0</td>\n      <td>0</td>\n      <td>0</td>\n      <td>1</td>\n      <td>0</td>\n      <td>1</td>\n      <td>0</td>\n      <td>0</td>\n    </tr>\n    <tr>\n      <th>...</th>\n      <td>...</td>\n      <td>...</td>\n      <td>...</td>\n      <td>...</td>\n      <td>...</td>\n      <td>...</td>\n      <td>...</td>\n      <td>...</td>\n      <td>...</td>\n      <td>...</td>\n      <td>...</td>\n      <td>...</td>\n      <td>...</td>\n      <td>...</td>\n      <td>...</td>\n      <td>...</td>\n      <td>...</td>\n      <td>...</td>\n    </tr>\n    <tr>\n      <th>886</th>\n      <td>0</td>\n      <td>1</td>\n      <td>0</td>\n      <td>0</td>\n      <td>0</td>\n      <td>0</td>\n      <td>0</td>\n      <td>1</td>\n      <td>0</td>\n      <td>0</td>\n      <td>0</td>\n      <td>0</td>\n      <td>1</td>\n      <td>0</td>\n      <td>0</td>\n      <td>1</td>\n      <td>0</td>\n      <td>0</td>\n    </tr>\n    <tr>\n      <th>887</th>\n      <td>1</td>\n      <td>0</td>\n      <td>1</td>\n      <td>0</td>\n      <td>1</td>\n      <td>0</td>\n      <td>0</td>\n      <td>0</td>\n      <td>0</td>\n      <td>0</td>\n      <td>0</td>\n      <td>1</td>\n      <td>0</td>\n      <td>0</td>\n      <td>0</td>\n      <td>1</td>\n      <td>0</td>\n      <td>0</td>\n    </tr>\n    <tr>\n      <th>888</th>\n      <td>0</td>\n      <td>0</td>\n      <td>1</td>\n      <td>0</td>\n      <td>0</td>\n      <td>0</td>\n      <td>0</td>\n      <td>0</td>\n      <td>1</td>\n      <td>0</td>\n      <td>0</td>\n      <td>0</td>\n      <td>0</td>\n      <td>1</td>\n      <td>0</td>\n      <td>1</td>\n      <td>0</td>\n      <td>0</td>\n    </tr>\n    <tr>\n      <th>889</th>\n      <td>1</td>\n      <td>1</td>\n      <td>0</td>\n      <td>0</td>\n      <td>0</td>\n      <td>1</td>\n      <td>0</td>\n      <td>0</td>\n      <td>0</td>\n      <td>0</td>\n      <td>0</td>\n      <td>1</td>\n      <td>0</td>\n      <td>0</td>\n      <td>0</td>\n      <td>1</td>\n      <td>0</td>\n      <td>0</td>\n    </tr>\n    <tr>\n      <th>890</th>\n      <td>0</td>\n      <td>1</td>\n      <td>0</td>\n      <td>0</td>\n      <td>0</td>\n      <td>0</td>\n      <td>0</td>\n      <td>0</td>\n      <td>1</td>\n      <td>0</td>\n      <td>0</td>\n      <td>0</td>\n      <td>0</td>\n      <td>1</td>\n      <td>0</td>\n      <td>1</td>\n      <td>0</td>\n      <td>0</td>\n    </tr>\n  </tbody>\n</table>\n<p>891 rows × 18 columns</p>\n</div>"
     },
     "metadata": {},
     "execution_count": 24
    }
   ],
   "source": [
    "train"
   ]
  },
  {
   "cell_type": "code",
   "execution_count": 25,
   "metadata": {},
   "outputs": [
    {
     "output_type": "execute_result",
     "data": {
      "text/plain": [
       "     isMan  isWoman  Cabin_A  Cabin_B  Cabin_C  Cabin_D  Cabin_E  Cabin_F  \\\n",
       "0        1        0        0        0        0        0        0        1   \n",
       "1        0        1        0        0        0        0        0        1   \n",
       "2        1        0        0        0        0        0        0        1   \n",
       "3        1        0        0        0        0        0        0        1   \n",
       "4        0        1        0        0        0        0        0        0   \n",
       "..     ...      ...      ...      ...      ...      ...      ...      ...   \n",
       "413      1        0        0        0        0        0        0        1   \n",
       "414      0        1        0        0        1        0        0        0   \n",
       "415      1        0        0        0        0        0        0        1   \n",
       "416      1        0        0        0        0        0        0        1   \n",
       "417      1        0        0        0        0        0        0        1   \n",
       "\n",
       "     Cabin_G  Cabin_T  Pclass_1  Pclass_2  Pclass_3  isYoung  isyouth  \\\n",
       "0          0        0         0         0         1        0        1   \n",
       "1          0        0         0         0         1        0        0   \n",
       "2          0        0         0         1         0        0        0   \n",
       "3          0        0         0         0         1        0        1   \n",
       "4          1        0         0         0         1        0        1   \n",
       "..       ...      ...       ...       ...       ...      ...      ...   \n",
       "413        0        0         0         0         1        0        1   \n",
       "414        0        0         1         0         0        0        0   \n",
       "415        0        0         0         0         1        0        1   \n",
       "416        0        0         0         0         1        0        1   \n",
       "417        0        0         0         0         1        0        1   \n",
       "\n",
       "     isMiddleAge  isOldAge  \n",
       "0              0         0  \n",
       "1              1         0  \n",
       "2              0         1  \n",
       "3              0         0  \n",
       "4              0         0  \n",
       "..           ...       ...  \n",
       "413            0         0  \n",
       "414            1         0  \n",
       "415            0         0  \n",
       "416            0         0  \n",
       "417            0         0  \n",
       "\n",
       "[418 rows x 17 columns]"
      ],
      "text/html": "<div>\n<style scoped>\n    .dataframe tbody tr th:only-of-type {\n        vertical-align: middle;\n    }\n\n    .dataframe tbody tr th {\n        vertical-align: top;\n    }\n\n    .dataframe thead th {\n        text-align: right;\n    }\n</style>\n<table border=\"1\" class=\"dataframe\">\n  <thead>\n    <tr style=\"text-align: right;\">\n      <th></th>\n      <th>isMan</th>\n      <th>isWoman</th>\n      <th>Cabin_A</th>\n      <th>Cabin_B</th>\n      <th>Cabin_C</th>\n      <th>Cabin_D</th>\n      <th>Cabin_E</th>\n      <th>Cabin_F</th>\n      <th>Cabin_G</th>\n      <th>Cabin_T</th>\n      <th>Pclass_1</th>\n      <th>Pclass_2</th>\n      <th>Pclass_3</th>\n      <th>isYoung</th>\n      <th>isyouth</th>\n      <th>isMiddleAge</th>\n      <th>isOldAge</th>\n    </tr>\n  </thead>\n  <tbody>\n    <tr>\n      <th>0</th>\n      <td>1</td>\n      <td>0</td>\n      <td>0</td>\n      <td>0</td>\n      <td>0</td>\n      <td>0</td>\n      <td>0</td>\n      <td>1</td>\n      <td>0</td>\n      <td>0</td>\n      <td>0</td>\n      <td>0</td>\n      <td>1</td>\n      <td>0</td>\n      <td>1</td>\n      <td>0</td>\n      <td>0</td>\n    </tr>\n    <tr>\n      <th>1</th>\n      <td>0</td>\n      <td>1</td>\n      <td>0</td>\n      <td>0</td>\n      <td>0</td>\n      <td>0</td>\n      <td>0</td>\n      <td>1</td>\n      <td>0</td>\n      <td>0</td>\n      <td>0</td>\n      <td>0</td>\n      <td>1</td>\n      <td>0</td>\n      <td>0</td>\n      <td>1</td>\n      <td>0</td>\n    </tr>\n    <tr>\n      <th>2</th>\n      <td>1</td>\n      <td>0</td>\n      <td>0</td>\n      <td>0</td>\n      <td>0</td>\n      <td>0</td>\n      <td>0</td>\n      <td>1</td>\n      <td>0</td>\n      <td>0</td>\n      <td>0</td>\n      <td>1</td>\n      <td>0</td>\n      <td>0</td>\n      <td>0</td>\n      <td>0</td>\n      <td>1</td>\n    </tr>\n    <tr>\n      <th>3</th>\n      <td>1</td>\n      <td>0</td>\n      <td>0</td>\n      <td>0</td>\n      <td>0</td>\n      <td>0</td>\n      <td>0</td>\n      <td>1</td>\n      <td>0</td>\n      <td>0</td>\n      <td>0</td>\n      <td>0</td>\n      <td>1</td>\n      <td>0</td>\n      <td>1</td>\n      <td>0</td>\n      <td>0</td>\n    </tr>\n    <tr>\n      <th>4</th>\n      <td>0</td>\n      <td>1</td>\n      <td>0</td>\n      <td>0</td>\n      <td>0</td>\n      <td>0</td>\n      <td>0</td>\n      <td>0</td>\n      <td>1</td>\n      <td>0</td>\n      <td>0</td>\n      <td>0</td>\n      <td>1</td>\n      <td>0</td>\n      <td>1</td>\n      <td>0</td>\n      <td>0</td>\n    </tr>\n    <tr>\n      <th>...</th>\n      <td>...</td>\n      <td>...</td>\n      <td>...</td>\n      <td>...</td>\n      <td>...</td>\n      <td>...</td>\n      <td>...</td>\n      <td>...</td>\n      <td>...</td>\n      <td>...</td>\n      <td>...</td>\n      <td>...</td>\n      <td>...</td>\n      <td>...</td>\n      <td>...</td>\n      <td>...</td>\n      <td>...</td>\n    </tr>\n    <tr>\n      <th>413</th>\n      <td>1</td>\n      <td>0</td>\n      <td>0</td>\n      <td>0</td>\n      <td>0</td>\n      <td>0</td>\n      <td>0</td>\n      <td>1</td>\n      <td>0</td>\n      <td>0</td>\n      <td>0</td>\n      <td>0</td>\n      <td>1</td>\n      <td>0</td>\n      <td>1</td>\n      <td>0</td>\n      <td>0</td>\n    </tr>\n    <tr>\n      <th>414</th>\n      <td>0</td>\n      <td>1</td>\n      <td>0</td>\n      <td>0</td>\n      <td>1</td>\n      <td>0</td>\n      <td>0</td>\n      <td>0</td>\n      <td>0</td>\n      <td>0</td>\n      <td>1</td>\n      <td>0</td>\n      <td>0</td>\n      <td>0</td>\n      <td>0</td>\n      <td>1</td>\n      <td>0</td>\n    </tr>\n    <tr>\n      <th>415</th>\n      <td>1</td>\n      <td>0</td>\n      <td>0</td>\n      <td>0</td>\n      <td>0</td>\n      <td>0</td>\n      <td>0</td>\n      <td>1</td>\n      <td>0</td>\n      <td>0</td>\n      <td>0</td>\n      <td>0</td>\n      <td>1</td>\n      <td>0</td>\n      <td>1</td>\n      <td>0</td>\n      <td>0</td>\n    </tr>\n    <tr>\n      <th>416</th>\n      <td>1</td>\n      <td>0</td>\n      <td>0</td>\n      <td>0</td>\n      <td>0</td>\n      <td>0</td>\n      <td>0</td>\n      <td>1</td>\n      <td>0</td>\n      <td>0</td>\n      <td>0</td>\n      <td>0</td>\n      <td>1</td>\n      <td>0</td>\n      <td>1</td>\n      <td>0</td>\n      <td>0</td>\n    </tr>\n    <tr>\n      <th>417</th>\n      <td>1</td>\n      <td>0</td>\n      <td>0</td>\n      <td>0</td>\n      <td>0</td>\n      <td>0</td>\n      <td>0</td>\n      <td>1</td>\n      <td>0</td>\n      <td>0</td>\n      <td>0</td>\n      <td>0</td>\n      <td>1</td>\n      <td>0</td>\n      <td>1</td>\n      <td>0</td>\n      <td>0</td>\n    </tr>\n  </tbody>\n</table>\n<p>418 rows × 17 columns</p>\n</div>"
     },
     "metadata": {},
     "execution_count": 25
    }
   ],
   "source": [
    "test"
   ]
  },
  {
   "source": [
    "# 4.훈련 데이터를 x, y로 나누기\n",
    "<br>\n",
    "데이터의 가공이 모두 끝났다. 이제 훈련 데이터를 x, y로 나눠주자"
   ],
   "cell_type": "markdown",
   "metadata": {}
  },
  {
   "cell_type": "code",
   "execution_count": 25,
   "metadata": {},
   "outputs": [],
   "source": [
    "train_shuffled=train.sample(frac=1).reset_index(drop=True)\n",
    "x_train_shuffled = train_shuffled.drop('Survived', axis=1)\n",
    "y_shuffled = train_shuffled['Survived']"
   ]
  },
  {
   "cell_type": "code",
   "execution_count": 105,
   "metadata": {},
   "outputs": [],
   "source": [
    "# 이제 train에서 'Survive'와 나머지 항목을 분리해주자\n",
    "x_train = train.drop('Survived', axis=1)\n",
    "y = train['Survived']"
   ]
  },
  {
   "source": [
    "최종 데이터 확인. 잘 정리되어있는 데이터를 확인할 수 있다. "
   ],
   "cell_type": "markdown",
   "metadata": {}
  },
  {
   "cell_type": "code",
   "execution_count": 27,
   "metadata": {},
   "outputs": [
    {
     "output_type": "execute_result",
     "data": {
      "text/plain": [
       "     Survived  isMan  isWoman  Cabin_A  Cabin_B  Cabin_C  Cabin_D  Cabin_E  \\\n",
       "0           1      0        1        0        0        1        0        0   \n",
       "1           0      1        0        0        0        0        0        0   \n",
       "2           1      0        1        0        0        0        0        1   \n",
       "3           1      0        1        0        0        0        0        1   \n",
       "4           1      0        1        0        0        0        0        0   \n",
       "..        ...    ...      ...      ...      ...      ...      ...      ...   \n",
       "886         0      0        1        0        0        0        0        0   \n",
       "887         1      0        1        0        0        0        0        0   \n",
       "888         1      0        1        0        0        0        0        0   \n",
       "889         0      1        0        0        0        0        0        0   \n",
       "890         1      0        1        0        0        0        0        0   \n",
       "\n",
       "     Cabin_F  Cabin_G  Cabin_T  Pclass_1  Pclass_2  Pclass_3  isYoung  \\\n",
       "0          0        0        0         1         0         0        0   \n",
       "1          1        0        0         0         0         1        0   \n",
       "2          0        0        0         1         0         0        0   \n",
       "3          0        0        0         0         0         1        0   \n",
       "4          1        0        0         0         0         1        0   \n",
       "..       ...      ...      ...       ...       ...       ...      ...   \n",
       "886        1        0        0         0         0         1        1   \n",
       "887        1        0        0         0         1         0        0   \n",
       "888        1        0        0         0         1         0        1   \n",
       "889        1        0        0         0         0         1        0   \n",
       "890        1        0        0         0         1         0        0   \n",
       "\n",
       "     isyouth  isMiddleAge  isOldAge  \n",
       "0          1            0         0  \n",
       "1          1            0         0  \n",
       "2          0            1         0  \n",
       "3          1            0         0  \n",
       "4          0            0         0  \n",
       "..       ...          ...       ...  \n",
       "886        0            0         0  \n",
       "887        0            1         0  \n",
       "888        0            0         0  \n",
       "889        1            0         0  \n",
       "890        1            0         0  \n",
       "\n",
       "[891 rows x 18 columns]"
      ],
      "text/html": "<div>\n<style scoped>\n    .dataframe tbody tr th:only-of-type {\n        vertical-align: middle;\n    }\n\n    .dataframe tbody tr th {\n        vertical-align: top;\n    }\n\n    .dataframe thead th {\n        text-align: right;\n    }\n</style>\n<table border=\"1\" class=\"dataframe\">\n  <thead>\n    <tr style=\"text-align: right;\">\n      <th></th>\n      <th>Survived</th>\n      <th>isMan</th>\n      <th>isWoman</th>\n      <th>Cabin_A</th>\n      <th>Cabin_B</th>\n      <th>Cabin_C</th>\n      <th>Cabin_D</th>\n      <th>Cabin_E</th>\n      <th>Cabin_F</th>\n      <th>Cabin_G</th>\n      <th>Cabin_T</th>\n      <th>Pclass_1</th>\n      <th>Pclass_2</th>\n      <th>Pclass_3</th>\n      <th>isYoung</th>\n      <th>isyouth</th>\n      <th>isMiddleAge</th>\n      <th>isOldAge</th>\n    </tr>\n  </thead>\n  <tbody>\n    <tr>\n      <th>0</th>\n      <td>1</td>\n      <td>0</td>\n      <td>1</td>\n      <td>0</td>\n      <td>0</td>\n      <td>1</td>\n      <td>0</td>\n      <td>0</td>\n      <td>0</td>\n      <td>0</td>\n      <td>0</td>\n      <td>1</td>\n      <td>0</td>\n      <td>0</td>\n      <td>0</td>\n      <td>1</td>\n      <td>0</td>\n      <td>0</td>\n    </tr>\n    <tr>\n      <th>1</th>\n      <td>0</td>\n      <td>1</td>\n      <td>0</td>\n      <td>0</td>\n      <td>0</td>\n      <td>0</td>\n      <td>0</td>\n      <td>0</td>\n      <td>1</td>\n      <td>0</td>\n      <td>0</td>\n      <td>0</td>\n      <td>0</td>\n      <td>1</td>\n      <td>0</td>\n      <td>1</td>\n      <td>0</td>\n      <td>0</td>\n    </tr>\n    <tr>\n      <th>2</th>\n      <td>1</td>\n      <td>0</td>\n      <td>1</td>\n      <td>0</td>\n      <td>0</td>\n      <td>0</td>\n      <td>0</td>\n      <td>1</td>\n      <td>0</td>\n      <td>0</td>\n      <td>0</td>\n      <td>1</td>\n      <td>0</td>\n      <td>0</td>\n      <td>0</td>\n      <td>0</td>\n      <td>1</td>\n      <td>0</td>\n    </tr>\n    <tr>\n      <th>3</th>\n      <td>1</td>\n      <td>0</td>\n      <td>1</td>\n      <td>0</td>\n      <td>0</td>\n      <td>0</td>\n      <td>0</td>\n      <td>1</td>\n      <td>0</td>\n      <td>0</td>\n      <td>0</td>\n      <td>0</td>\n      <td>0</td>\n      <td>1</td>\n      <td>0</td>\n      <td>1</td>\n      <td>0</td>\n      <td>0</td>\n    </tr>\n    <tr>\n      <th>4</th>\n      <td>1</td>\n      <td>0</td>\n      <td>1</td>\n      <td>0</td>\n      <td>0</td>\n      <td>0</td>\n      <td>0</td>\n      <td>0</td>\n      <td>1</td>\n      <td>0</td>\n      <td>0</td>\n      <td>0</td>\n      <td>0</td>\n      <td>1</td>\n      <td>0</td>\n      <td>0</td>\n      <td>0</td>\n      <td>0</td>\n    </tr>\n    <tr>\n      <th>...</th>\n      <td>...</td>\n      <td>...</td>\n      <td>...</td>\n      <td>...</td>\n      <td>...</td>\n      <td>...</td>\n      <td>...</td>\n      <td>...</td>\n      <td>...</td>\n      <td>...</td>\n      <td>...</td>\n      <td>...</td>\n      <td>...</td>\n      <td>...</td>\n      <td>...</td>\n      <td>...</td>\n      <td>...</td>\n      <td>...</td>\n    </tr>\n    <tr>\n      <th>886</th>\n      <td>0</td>\n      <td>0</td>\n      <td>1</td>\n      <td>0</td>\n      <td>0</td>\n      <td>0</td>\n      <td>0</td>\n      <td>0</td>\n      <td>1</td>\n      <td>0</td>\n      <td>0</td>\n      <td>0</td>\n      <td>0</td>\n      <td>1</td>\n      <td>1</td>\n      <td>0</td>\n      <td>0</td>\n      <td>0</td>\n    </tr>\n    <tr>\n      <th>887</th>\n      <td>1</td>\n      <td>0</td>\n      <td>1</td>\n      <td>0</td>\n      <td>0</td>\n      <td>0</td>\n      <td>0</td>\n      <td>0</td>\n      <td>1</td>\n      <td>0</td>\n      <td>0</td>\n      <td>0</td>\n      <td>1</td>\n      <td>0</td>\n      <td>0</td>\n      <td>0</td>\n      <td>1</td>\n      <td>0</td>\n    </tr>\n    <tr>\n      <th>888</th>\n      <td>1</td>\n      <td>0</td>\n      <td>1</td>\n      <td>0</td>\n      <td>0</td>\n      <td>0</td>\n      <td>0</td>\n      <td>0</td>\n      <td>1</td>\n      <td>0</td>\n      <td>0</td>\n      <td>0</td>\n      <td>1</td>\n      <td>0</td>\n      <td>1</td>\n      <td>0</td>\n      <td>0</td>\n      <td>0</td>\n    </tr>\n    <tr>\n      <th>889</th>\n      <td>0</td>\n      <td>1</td>\n      <td>0</td>\n      <td>0</td>\n      <td>0</td>\n      <td>0</td>\n      <td>0</td>\n      <td>0</td>\n      <td>1</td>\n      <td>0</td>\n      <td>0</td>\n      <td>0</td>\n      <td>0</td>\n      <td>1</td>\n      <td>0</td>\n      <td>1</td>\n      <td>0</td>\n      <td>0</td>\n    </tr>\n    <tr>\n      <th>890</th>\n      <td>1</td>\n      <td>0</td>\n      <td>1</td>\n      <td>0</td>\n      <td>0</td>\n      <td>0</td>\n      <td>0</td>\n      <td>0</td>\n      <td>1</td>\n      <td>0</td>\n      <td>0</td>\n      <td>0</td>\n      <td>1</td>\n      <td>0</td>\n      <td>0</td>\n      <td>1</td>\n      <td>0</td>\n      <td>0</td>\n    </tr>\n  </tbody>\n</table>\n<p>891 rows × 18 columns</p>\n</div>"
     },
     "metadata": {},
     "execution_count": 27
    }
   ],
   "source": [
    "train_shuffled"
   ]
  },
  {
   "cell_type": "code",
   "execution_count": 28,
   "metadata": {},
   "outputs": [
    {
     "output_type": "execute_result",
     "data": {
      "text/plain": [
       "     isMan  isWoman  Cabin_A  Cabin_B  Cabin_C  Cabin_D  Cabin_E  Cabin_F  \\\n",
       "0        1        0        0        0        0        0        0        1   \n",
       "1        0        1        0        0        0        0        0        1   \n",
       "2        1        0        0        0        0        0        0        1   \n",
       "3        1        0        0        0        0        0        0        1   \n",
       "4        0        1        0        0        0        0        0        0   \n",
       "..     ...      ...      ...      ...      ...      ...      ...      ...   \n",
       "413      1        0        0        0        0        0        0        1   \n",
       "414      0        1        0        0        1        0        0        0   \n",
       "415      1        0        0        0        0        0        0        1   \n",
       "416      1        0        0        0        0        0        0        1   \n",
       "417      1        0        0        0        0        0        0        1   \n",
       "\n",
       "     Cabin_G  Cabin_T  Pclass_1  Pclass_2  Pclass_3  isYoung  isyouth  \\\n",
       "0          0        0         0         0         1        0        1   \n",
       "1          0        0         0         0         1        0        0   \n",
       "2          0        0         0         1         0        0        0   \n",
       "3          0        0         0         0         1        0        1   \n",
       "4          1        0         0         0         1        0        1   \n",
       "..       ...      ...       ...       ...       ...      ...      ...   \n",
       "413        0        0         0         0         1        0        1   \n",
       "414        0        0         1         0         0        0        0   \n",
       "415        0        0         0         0         1        0        1   \n",
       "416        0        0         0         0         1        0        1   \n",
       "417        0        0         0         0         1        0        1   \n",
       "\n",
       "     isMiddleAge  isOldAge  \n",
       "0              0         0  \n",
       "1              1         0  \n",
       "2              0         1  \n",
       "3              0         0  \n",
       "4              0         0  \n",
       "..           ...       ...  \n",
       "413            0         0  \n",
       "414            1         0  \n",
       "415            0         0  \n",
       "416            0         0  \n",
       "417            0         0  \n",
       "\n",
       "[418 rows x 17 columns]"
      ],
      "text/html": "<div>\n<style scoped>\n    .dataframe tbody tr th:only-of-type {\n        vertical-align: middle;\n    }\n\n    .dataframe tbody tr th {\n        vertical-align: top;\n    }\n\n    .dataframe thead th {\n        text-align: right;\n    }\n</style>\n<table border=\"1\" class=\"dataframe\">\n  <thead>\n    <tr style=\"text-align: right;\">\n      <th></th>\n      <th>isMan</th>\n      <th>isWoman</th>\n      <th>Cabin_A</th>\n      <th>Cabin_B</th>\n      <th>Cabin_C</th>\n      <th>Cabin_D</th>\n      <th>Cabin_E</th>\n      <th>Cabin_F</th>\n      <th>Cabin_G</th>\n      <th>Cabin_T</th>\n      <th>Pclass_1</th>\n      <th>Pclass_2</th>\n      <th>Pclass_3</th>\n      <th>isYoung</th>\n      <th>isyouth</th>\n      <th>isMiddleAge</th>\n      <th>isOldAge</th>\n    </tr>\n  </thead>\n  <tbody>\n    <tr>\n      <th>0</th>\n      <td>1</td>\n      <td>0</td>\n      <td>0</td>\n      <td>0</td>\n      <td>0</td>\n      <td>0</td>\n      <td>0</td>\n      <td>1</td>\n      <td>0</td>\n      <td>0</td>\n      <td>0</td>\n      <td>0</td>\n      <td>1</td>\n      <td>0</td>\n      <td>1</td>\n      <td>0</td>\n      <td>0</td>\n    </tr>\n    <tr>\n      <th>1</th>\n      <td>0</td>\n      <td>1</td>\n      <td>0</td>\n      <td>0</td>\n      <td>0</td>\n      <td>0</td>\n      <td>0</td>\n      <td>1</td>\n      <td>0</td>\n      <td>0</td>\n      <td>0</td>\n      <td>0</td>\n      <td>1</td>\n      <td>0</td>\n      <td>0</td>\n      <td>1</td>\n      <td>0</td>\n    </tr>\n    <tr>\n      <th>2</th>\n      <td>1</td>\n      <td>0</td>\n      <td>0</td>\n      <td>0</td>\n      <td>0</td>\n      <td>0</td>\n      <td>0</td>\n      <td>1</td>\n      <td>0</td>\n      <td>0</td>\n      <td>0</td>\n      <td>1</td>\n      <td>0</td>\n      <td>0</td>\n      <td>0</td>\n      <td>0</td>\n      <td>1</td>\n    </tr>\n    <tr>\n      <th>3</th>\n      <td>1</td>\n      <td>0</td>\n      <td>0</td>\n      <td>0</td>\n      <td>0</td>\n      <td>0</td>\n      <td>0</td>\n      <td>1</td>\n      <td>0</td>\n      <td>0</td>\n      <td>0</td>\n      <td>0</td>\n      <td>1</td>\n      <td>0</td>\n      <td>1</td>\n      <td>0</td>\n      <td>0</td>\n    </tr>\n    <tr>\n      <th>4</th>\n      <td>0</td>\n      <td>1</td>\n      <td>0</td>\n      <td>0</td>\n      <td>0</td>\n      <td>0</td>\n      <td>0</td>\n      <td>0</td>\n      <td>1</td>\n      <td>0</td>\n      <td>0</td>\n      <td>0</td>\n      <td>1</td>\n      <td>0</td>\n      <td>1</td>\n      <td>0</td>\n      <td>0</td>\n    </tr>\n    <tr>\n      <th>...</th>\n      <td>...</td>\n      <td>...</td>\n      <td>...</td>\n      <td>...</td>\n      <td>...</td>\n      <td>...</td>\n      <td>...</td>\n      <td>...</td>\n      <td>...</td>\n      <td>...</td>\n      <td>...</td>\n      <td>...</td>\n      <td>...</td>\n      <td>...</td>\n      <td>...</td>\n      <td>...</td>\n      <td>...</td>\n    </tr>\n    <tr>\n      <th>413</th>\n      <td>1</td>\n      <td>0</td>\n      <td>0</td>\n      <td>0</td>\n      <td>0</td>\n      <td>0</td>\n      <td>0</td>\n      <td>1</td>\n      <td>0</td>\n      <td>0</td>\n      <td>0</td>\n      <td>0</td>\n      <td>1</td>\n      <td>0</td>\n      <td>1</td>\n      <td>0</td>\n      <td>0</td>\n    </tr>\n    <tr>\n      <th>414</th>\n      <td>0</td>\n      <td>1</td>\n      <td>0</td>\n      <td>0</td>\n      <td>1</td>\n      <td>0</td>\n      <td>0</td>\n      <td>0</td>\n      <td>0</td>\n      <td>0</td>\n      <td>1</td>\n      <td>0</td>\n      <td>0</td>\n      <td>0</td>\n      <td>0</td>\n      <td>1</td>\n      <td>0</td>\n    </tr>\n    <tr>\n      <th>415</th>\n      <td>1</td>\n      <td>0</td>\n      <td>0</td>\n      <td>0</td>\n      <td>0</td>\n      <td>0</td>\n      <td>0</td>\n      <td>1</td>\n      <td>0</td>\n      <td>0</td>\n      <td>0</td>\n      <td>0</td>\n      <td>1</td>\n      <td>0</td>\n      <td>1</td>\n      <td>0</td>\n      <td>0</td>\n    </tr>\n    <tr>\n      <th>416</th>\n      <td>1</td>\n      <td>0</td>\n      <td>0</td>\n      <td>0</td>\n      <td>0</td>\n      <td>0</td>\n      <td>0</td>\n      <td>1</td>\n      <td>0</td>\n      <td>0</td>\n      <td>0</td>\n      <td>0</td>\n      <td>1</td>\n      <td>0</td>\n      <td>1</td>\n      <td>0</td>\n      <td>0</td>\n    </tr>\n    <tr>\n      <th>417</th>\n      <td>1</td>\n      <td>0</td>\n      <td>0</td>\n      <td>0</td>\n      <td>0</td>\n      <td>0</td>\n      <td>0</td>\n      <td>1</td>\n      <td>0</td>\n      <td>0</td>\n      <td>0</td>\n      <td>0</td>\n      <td>1</td>\n      <td>0</td>\n      <td>1</td>\n      <td>0</td>\n      <td>0</td>\n    </tr>\n  </tbody>\n</table>\n<p>418 rows × 17 columns</p>\n</div>"
     },
     "metadata": {},
     "execution_count": 28
    }
   ],
   "source": [
    "test"
   ]
  },
  {
   "cell_type": "code",
   "execution_count": 79,
   "metadata": {},
   "outputs": [
    {
     "output_type": "execute_result",
     "data": {
      "text/plain": [
       "0      0\n",
       "1      1\n",
       "2      1\n",
       "3      1\n",
       "4      0\n",
       "      ..\n",
       "886    0\n",
       "887    1\n",
       "888    0\n",
       "889    1\n",
       "890    0\n",
       "Name: Survived, Length: 891, dtype: int64"
      ]
     },
     "metadata": {},
     "execution_count": 79
    }
   ],
   "source": [
    "y"
   ]
  },
  {
   "source": [
    "## 넘파이 배열로 만들기\n",
    "텐서플로우를 이용해 모델을 만들거다. 텐서플로우는 넘파이를 선호하므로 입력값을 넘파이 배열로 만들어주자"
   ],
   "cell_type": "markdown",
   "metadata": {}
  },
  {
   "cell_type": "code",
   "execution_count": 106,
   "metadata": {},
   "outputs": [],
   "source": [
    "x_train_np = np.array(x_train)\n",
    "y_np = np.array(y)\n",
    "\n",
    "x_test = np.array(test)"
   ]
  },
  {
   "cell_type": "code",
   "execution_count": 29,
   "metadata": {},
   "outputs": [],
   "source": [
    "x_train_shuffled_np = np.array(x_train_shuffled)\n",
    "y_shuffled_np = np.array(y_shuffled)\n",
    "x_test = np.array(test)"
   ]
  },
  {
   "source": [
    "# 5. 모델 생성\n",
    "<br>\n",
    "이제 텐서플로우로 모델을 만들자"
   ],
   "cell_type": "markdown",
   "metadata": {}
  },
  {
   "cell_type": "code",
   "execution_count": 30,
   "metadata": {},
   "outputs": [],
   "source": [
    "# 에포크랑 배치 사이즈를 지정한다. \n",
    "EPOCH = 500\n",
    "BATCH_SIZE = 891 # 배치 사이즈 = 데이터 크기\n",
    "\n",
    "# 최적의 모델만 저장하는 함수를 매번 에포크를 끝낼 때마다 호출한다. 콜백 함수로 지정한다. \n",
    "filename = 'checkpoint-epoch-{}-batch-{}-trial-001.h5'.format(EPOCH, BATCH_SIZE)\n",
    "checkpoint = ModelCheckpoint(filename,             # 파일 이름\n",
    "                             monitor='val_loss',   # val_loss 값이 개선되면 개선 모델을 filename으로 저장\n",
    "                             verbose=1,            # 로그 출력\n",
    "                             save_best_only=True,  # 가장 최고의 val_loss를 보이는 모델만 저장\n",
    "                             mode='auto'           # auto 모드. 자동으로 최고의 모델을 찾는다\n",
    "                            )\n",
    "# 모델을 만든다. \n",
    "model = tf.keras.Sequential()\n",
    "\n",
    "model.add(Dense(1024, activation='relu', input_shape = x_train_shuffled_np[0].shape))\n",
    "model.add(tf.keras.layers.Dropout(0.4))\n",
    "model.add(Dense(512, activation='relu'))\n",
    "model.add(tf.keras.layers.Dropout(0.4))\n",
    "model.add(Dense(256, activation='relu'))\n",
    "model.add(tf.keras.layers.Dropout(0.4))\n",
    "model.add(Dense(128, activation='relu'))\n",
    "model.add(tf.keras.layers.Dropout(0.4))\n",
    "model.add(Dense(64, activation='relu'))\n",
    "model.add(tf.keras.layers.Dropout(0.4))\n",
    "model.add(Dense(32, activation='relu'))\n",
    "model.add(tf.keras.layers.Dropout(0.4))\n",
    "model.add(Dense(1, activation='sigmoid')) # 이진 분류 모델이기 때문에 sigmoid 활성화 함수를 사용한다.\n"
   ]
  },
  {
   "source": [
    "## 컴파일 설정\n",
    "모델을 만들었다. 이제 컴파일 방식을 지정하자. 최적화 방식, 손실 함수, 훈련 과정 저장 양식을 지정할 수 있다. \n",
    "<br>\n",
    "훈련을 시행하며 가장 검증 손실이 낮은 모델을 찾기 위해 훈련률(lr)을 수정한다. "
   ],
   "cell_type": "markdown",
   "metadata": {}
  },
  {
   "cell_type": "code",
   "execution_count": 31,
   "metadata": {},
   "outputs": [],
   "source": [
    "# 컴파일(학습 방법 지정)\n",
    "from tensorflow.keras.optimizers import RMSprop\n",
    "\n",
    "model.compile(optimizer=RMSprop(lr=1e-3), loss='binary_crossentropy', metrics = ['accuracy'])"
   ]
  },
  {
   "cell_type": "code",
   "execution_count": 32,
   "metadata": {},
   "outputs": [
    {
     "output_type": "stream",
     "name": "stdout",
     "text": [
      "Model: \"sequential\"\n_________________________________________________________________\nLayer (type)                 Output Shape              Param #   \n=================================================================\ndense (Dense)                (None, 1024)              18432     \n_________________________________________________________________\ndropout (Dropout)            (None, 1024)              0         \n_________________________________________________________________\ndense_1 (Dense)              (None, 512)               524800    \n_________________________________________________________________\ndropout_1 (Dropout)          (None, 512)               0         \n_________________________________________________________________\ndense_2 (Dense)              (None, 256)               131328    \n_________________________________________________________________\ndropout_2 (Dropout)          (None, 256)               0         \n_________________________________________________________________\ndense_3 (Dense)              (None, 128)               32896     \n_________________________________________________________________\ndropout_3 (Dropout)          (None, 128)               0         \n_________________________________________________________________\ndense_4 (Dense)              (None, 64)                8256      \n_________________________________________________________________\ndropout_4 (Dropout)          (None, 64)                0         \n_________________________________________________________________\ndense_5 (Dense)              (None, 32)                2080      \n_________________________________________________________________\ndropout_5 (Dropout)          (None, 32)                0         \n_________________________________________________________________\ndense_6 (Dense)              (None, 1)                 33        \n=================================================================\nTotal params: 717,825\nTrainable params: 717,825\nNon-trainable params: 0\n_________________________________________________________________\n"
     ]
    }
   ],
   "source": [
    "model.summary() # 모델의 간략 정보 출력."
   ]
  },
  {
   "source": [
    "## 훈련\n",
    "<br>\n",
    "모델을 훈련시키자. 훈련 기록을 history에 저장한다."
   ],
   "cell_type": "markdown",
   "metadata": {}
  },
  {
   "cell_type": "code",
   "execution_count": 33,
   "metadata": {
    "tags": [
     "outputPrepend"
    ]
   },
   "outputs": [
    {
     "output_type": "stream",
     "name": "stdout",
     "text": [
      " from 0.46736\n",
      "Epoch 398/500\n",
      "1/1 [==============================] - 0s 79ms/step - loss: 0.3610 - accuracy: 0.8483 - val_loss: 0.8139 - val_accuracy: 0.7877\n",
      "\n",
      "Epoch 00398: val_loss did not improve from 0.46736\n",
      "Epoch 399/500\n",
      "1/1 [==============================] - 0s 84ms/step - loss: 0.3525 - accuracy: 0.8511 - val_loss: 0.8048 - val_accuracy: 0.7877\n",
      "\n",
      "Epoch 00399: val_loss did not improve from 0.46736\n",
      "Epoch 400/500\n",
      "1/1 [==============================] - 0s 78ms/step - loss: 0.3601 - accuracy: 0.8469 - val_loss: 0.8165 - val_accuracy: 0.7877\n",
      "\n",
      "Epoch 00400: val_loss did not improve from 0.46736\n",
      "Epoch 401/500\n",
      "1/1 [==============================] - 0s 85ms/step - loss: 0.3555 - accuracy: 0.8497 - val_loss: 0.8108 - val_accuracy: 0.7877\n",
      "\n",
      "Epoch 00401: val_loss did not improve from 0.46736\n",
      "Epoch 402/500\n",
      "1/1 [==============================] - 0s 74ms/step - loss: 0.3719 - accuracy: 0.8497 - val_loss: 0.8025 - val_accuracy: 0.7877\n",
      "\n",
      "Epoch 00402: val_loss did not improve from 0.46736\n",
      "Epoch 403/500\n",
      "1/1 [==============================] - 0s 77ms/step - loss: 0.3628 - accuracy: 0.8525 - val_loss: 0.8202 - val_accuracy: 0.7877\n",
      "\n",
      "Epoch 00403: val_loss did not improve from 0.46736\n",
      "Epoch 404/500\n",
      "1/1 [==============================] - 0s 77ms/step - loss: 0.3654 - accuracy: 0.8539 - val_loss: 0.8163 - val_accuracy: 0.7877\n",
      "\n",
      "Epoch 00404: val_loss did not improve from 0.46736\n",
      "Epoch 405/500\n",
      "1/1 [==============================] - 0s 83ms/step - loss: 0.3594 - accuracy: 0.8525 - val_loss: 0.8175 - val_accuracy: 0.7877\n",
      "\n",
      "Epoch 00405: val_loss did not improve from 0.46736\n",
      "Epoch 406/500\n",
      "1/1 [==============================] - 0s 82ms/step - loss: 0.3672 - accuracy: 0.8567 - val_loss: 0.8108 - val_accuracy: 0.7877\n",
      "\n",
      "Epoch 00406: val_loss did not improve from 0.46736\n",
      "Epoch 407/500\n",
      "1/1 [==============================] - 0s 79ms/step - loss: 0.3485 - accuracy: 0.8511 - val_loss: 0.8496 - val_accuracy: 0.7877\n",
      "\n",
      "Epoch 00407: val_loss did not improve from 0.46736\n",
      "Epoch 408/500\n",
      "1/1 [==============================] - 0s 78ms/step - loss: 0.3590 - accuracy: 0.8525 - val_loss: 0.8292 - val_accuracy: 0.7877\n",
      "\n",
      "Epoch 00408: val_loss did not improve from 0.46736\n",
      "Epoch 409/500\n",
      "1/1 [==============================] - 0s 77ms/step - loss: 0.3416 - accuracy: 0.8539 - val_loss: 0.8560 - val_accuracy: 0.7877\n",
      "\n",
      "Epoch 00409: val_loss did not improve from 0.46736\n",
      "Epoch 410/500\n",
      "1/1 [==============================] - 0s 91ms/step - loss: 0.3659 - accuracy: 0.8469 - val_loss: 0.8130 - val_accuracy: 0.7877\n",
      "\n",
      "Epoch 00410: val_loss did not improve from 0.46736\n",
      "Epoch 411/500\n",
      "1/1 [==============================] - 0s 87ms/step - loss: 0.3602 - accuracy: 0.8539 - val_loss: 0.8464 - val_accuracy: 0.7877\n",
      "\n",
      "Epoch 00411: val_loss did not improve from 0.46736\n",
      "Epoch 412/500\n",
      "1/1 [==============================] - 0s 87ms/step - loss: 0.3611 - accuracy: 0.8567 - val_loss: 0.8363 - val_accuracy: 0.7877\n",
      "\n",
      "Epoch 00412: val_loss did not improve from 0.46736\n",
      "Epoch 413/500\n",
      "1/1 [==============================] - 0s 86ms/step - loss: 0.3716 - accuracy: 0.8511 - val_loss: 0.8342 - val_accuracy: 0.7877\n",
      "\n",
      "Epoch 00413: val_loss did not improve from 0.46736\n",
      "Epoch 414/500\n",
      "1/1 [==============================] - 0s 78ms/step - loss: 0.3636 - accuracy: 0.8553 - val_loss: 0.8422 - val_accuracy: 0.7877\n",
      "\n",
      "Epoch 00414: val_loss did not improve from 0.46736\n",
      "Epoch 415/500\n",
      "1/1 [==============================] - 0s 93ms/step - loss: 0.3543 - accuracy: 0.8581 - val_loss: 0.8621 - val_accuracy: 0.7877\n",
      "\n",
      "Epoch 00415: val_loss did not improve from 0.46736\n",
      "Epoch 416/500\n",
      "1/1 [==============================] - 0s 82ms/step - loss: 0.3811 - accuracy: 0.8497 - val_loss: 0.8007 - val_accuracy: 0.7877\n",
      "\n",
      "Epoch 00416: val_loss did not improve from 0.46736\n",
      "Epoch 417/500\n",
      "1/1 [==============================] - 0s 84ms/step - loss: 0.3543 - accuracy: 0.8469 - val_loss: 0.8327 - val_accuracy: 0.7877\n",
      "\n",
      "Epoch 00417: val_loss did not improve from 0.46736\n",
      "Epoch 418/500\n",
      "1/1 [==============================] - 0s 87ms/step - loss: 0.3540 - accuracy: 0.8497 - val_loss: 0.8374 - val_accuracy: 0.7877\n",
      "\n",
      "Epoch 00418: val_loss did not improve from 0.46736\n",
      "Epoch 419/500\n",
      "1/1 [==============================] - 0s 90ms/step - loss: 0.3537 - accuracy: 0.8596 - val_loss: 0.8355 - val_accuracy: 0.7877\n",
      "\n",
      "Epoch 00419: val_loss did not improve from 0.46736\n",
      "Epoch 420/500\n",
      "1/1 [==============================] - 0s 94ms/step - loss: 0.3630 - accuracy: 0.8511 - val_loss: 0.8433 - val_accuracy: 0.7877\n",
      "\n",
      "Epoch 00420: val_loss did not improve from 0.46736\n",
      "Epoch 421/500\n",
      "1/1 [==============================] - 0s 92ms/step - loss: 0.3698 - accuracy: 0.8469 - val_loss: 0.8464 - val_accuracy: 0.7877\n",
      "\n",
      "Epoch 00421: val_loss did not improve from 0.46736\n",
      "Epoch 422/500\n",
      "1/1 [==============================] - 0s 87ms/step - loss: 0.3556 - accuracy: 0.8539 - val_loss: 0.8651 - val_accuracy: 0.7877\n",
      "\n",
      "Epoch 00422: val_loss did not improve from 0.46736\n",
      "Epoch 423/500\n",
      "1/1 [==============================] - 0s 101ms/step - loss: 0.3574 - accuracy: 0.8483 - val_loss: 0.8580 - val_accuracy: 0.7877\n",
      "\n",
      "Epoch 00423: val_loss did not improve from 0.46736\n",
      "Epoch 424/500\n",
      "1/1 [==============================] - 0s 81ms/step - loss: 0.3631 - accuracy: 0.8539 - val_loss: 0.8491 - val_accuracy: 0.7877\n",
      "\n",
      "Epoch 00424: val_loss did not improve from 0.46736\n",
      "Epoch 425/500\n",
      "1/1 [==============================] - 0s 74ms/step - loss: 0.3589 - accuracy: 0.8511 - val_loss: 0.8584 - val_accuracy: 0.7877\n",
      "\n",
      "Epoch 00425: val_loss did not improve from 0.46736\n",
      "Epoch 426/500\n",
      "1/1 [==============================] - 0s 79ms/step - loss: 0.3514 - accuracy: 0.8610 - val_loss: 0.8478 - val_accuracy: 0.7877\n",
      "\n",
      "Epoch 00426: val_loss did not improve from 0.46736\n",
      "Epoch 427/500\n",
      "1/1 [==============================] - 0s 75ms/step - loss: 0.3790 - accuracy: 0.8553 - val_loss: 0.8142 - val_accuracy: 0.7877\n",
      "\n",
      "Epoch 00427: val_loss did not improve from 0.46736\n",
      "Epoch 428/500\n",
      "1/1 [==============================] - 0s 70ms/step - loss: 0.3608 - accuracy: 0.8483 - val_loss: 0.8443 - val_accuracy: 0.7877\n",
      "\n",
      "Epoch 00428: val_loss did not improve from 0.46736\n",
      "Epoch 429/500\n",
      "1/1 [==============================] - 0s 77ms/step - loss: 0.3628 - accuracy: 0.8553 - val_loss: 0.8270 - val_accuracy: 0.7877\n",
      "\n",
      "Epoch 00429: val_loss did not improve from 0.46736\n",
      "Epoch 430/500\n",
      "1/1 [==============================] - 0s 76ms/step - loss: 0.3725 - accuracy: 0.8539 - val_loss: 0.8045 - val_accuracy: 0.7877\n",
      "\n",
      "Epoch 00430: val_loss did not improve from 0.46736\n",
      "Epoch 431/500\n",
      "1/1 [==============================] - 0s 77ms/step - loss: 0.3573 - accuracy: 0.8567 - val_loss: 0.8373 - val_accuracy: 0.7877\n",
      "\n",
      "Epoch 00431: val_loss did not improve from 0.46736\n",
      "Epoch 432/500\n",
      "1/1 [==============================] - 0s 73ms/step - loss: 0.3604 - accuracy: 0.8581 - val_loss: 0.8390 - val_accuracy: 0.7877\n",
      "\n",
      "Epoch 00432: val_loss did not improve from 0.46736\n",
      "Epoch 433/500\n",
      "1/1 [==============================] - 0s 88ms/step - loss: 0.3743 - accuracy: 0.8511 - val_loss: 0.8025 - val_accuracy: 0.7877\n",
      "\n",
      "Epoch 00433: val_loss did not improve from 0.46736\n",
      "Epoch 434/500\n",
      "1/1 [==============================] - 0s 89ms/step - loss: 0.3611 - accuracy: 0.8497 - val_loss: 0.8309 - val_accuracy: 0.7877\n",
      "\n",
      "Epoch 00434: val_loss did not improve from 0.46736\n",
      "Epoch 435/500\n",
      "1/1 [==============================] - 0s 98ms/step - loss: 0.3384 - accuracy: 0.8539 - val_loss: 0.8495 - val_accuracy: 0.7877\n",
      "\n",
      "Epoch 00435: val_loss did not improve from 0.46736\n",
      "Epoch 436/500\n",
      "1/1 [==============================] - 0s 89ms/step - loss: 0.3647 - accuracy: 0.8539 - val_loss: 0.8011 - val_accuracy: 0.7877\n",
      "\n",
      "Epoch 00436: val_loss did not improve from 0.46736\n",
      "Epoch 437/500\n",
      "1/1 [==============================] - 0s 84ms/step - loss: 0.3632 - accuracy: 0.8525 - val_loss: 0.8035 - val_accuracy: 0.7877\n",
      "\n",
      "Epoch 00437: val_loss did not improve from 0.46736\n",
      "Epoch 438/500\n",
      "1/1 [==============================] - 0s 83ms/step - loss: 0.3595 - accuracy: 0.8539 - val_loss: 0.8153 - val_accuracy: 0.7877\n",
      "\n",
      "Epoch 00438: val_loss did not improve from 0.46736\n",
      "Epoch 439/500\n",
      "1/1 [==============================] - 0s 81ms/step - loss: 0.3547 - accuracy: 0.8567 - val_loss: 0.8139 - val_accuracy: 0.7877\n",
      "\n",
      "Epoch 00439: val_loss did not improve from 0.46736\n",
      "Epoch 440/500\n",
      "1/1 [==============================] - 0s 78ms/step - loss: 0.3620 - accuracy: 0.8539 - val_loss: 0.8201 - val_accuracy: 0.7877\n",
      "\n",
      "Epoch 00440: val_loss did not improve from 0.46736\n",
      "Epoch 441/500\n",
      "1/1 [==============================] - 0s 81ms/step - loss: 0.3472 - accuracy: 0.8567 - val_loss: 0.8359 - val_accuracy: 0.7877\n",
      "\n",
      "Epoch 00441: val_loss did not improve from 0.46736\n",
      "Epoch 442/500\n",
      "1/1 [==============================] - 0s 78ms/step - loss: 0.3585 - accuracy: 0.8525 - val_loss: 0.8281 - val_accuracy: 0.7877\n",
      "\n",
      "Epoch 00442: val_loss did not improve from 0.46736\n",
      "Epoch 443/500\n",
      "1/1 [==============================] - 0s 81ms/step - loss: 0.3508 - accuracy: 0.8539 - val_loss: 0.8447 - val_accuracy: 0.7877\n",
      "\n",
      "Epoch 00443: val_loss did not improve from 0.46736\n",
      "Epoch 444/500\n",
      "1/1 [==============================] - 0s 80ms/step - loss: 0.3489 - accuracy: 0.8539 - val_loss: 0.8425 - val_accuracy: 0.7877\n",
      "\n",
      "Epoch 00444: val_loss did not improve from 0.46736\n",
      "Epoch 445/500\n",
      "1/1 [==============================] - 0s 77ms/step - loss: 0.3615 - accuracy: 0.8497 - val_loss: 0.8241 - val_accuracy: 0.7877\n",
      "\n",
      "Epoch 00445: val_loss did not improve from 0.46736\n",
      "Epoch 446/500\n",
      "1/1 [==============================] - 0s 70ms/step - loss: 0.3559 - accuracy: 0.8497 - val_loss: 0.8230 - val_accuracy: 0.7877\n",
      "\n",
      "Epoch 00446: val_loss did not improve from 0.46736\n",
      "Epoch 447/500\n",
      "1/1 [==============================] - 0s 79ms/step - loss: 0.3645 - accuracy: 0.8511 - val_loss: 0.8072 - val_accuracy: 0.7877\n",
      "\n",
      "Epoch 00447: val_loss did not improve from 0.46736\n",
      "Epoch 448/500\n",
      "1/1 [==============================] - 0s 82ms/step - loss: 0.3497 - accuracy: 0.8539 - val_loss: 0.8181 - val_accuracy: 0.7877\n",
      "\n",
      "Epoch 00448: val_loss did not improve from 0.46736\n",
      "Epoch 449/500\n",
      "1/1 [==============================] - 0s 82ms/step - loss: 0.3583 - accuracy: 0.8525 - val_loss: 0.8139 - val_accuracy: 0.7877\n",
      "\n",
      "Epoch 00449: val_loss did not improve from 0.46736\n",
      "Epoch 450/500\n",
      "1/1 [==============================] - 0s 85ms/step - loss: 0.3693 - accuracy: 0.8511 - val_loss: 0.8093 - val_accuracy: 0.7877\n",
      "\n",
      "Epoch 00450: val_loss did not improve from 0.46736\n",
      "Epoch 451/500\n",
      "1/1 [==============================] - 0s 92ms/step - loss: 0.3623 - accuracy: 0.8539 - val_loss: 0.8237 - val_accuracy: 0.7877\n",
      "\n",
      "Epoch 00451: val_loss did not improve from 0.46736\n",
      "Epoch 452/500\n",
      "1/1 [==============================] - 0s 106ms/step - loss: 0.3479 - accuracy: 0.8553 - val_loss: 0.8457 - val_accuracy: 0.7877\n",
      "\n",
      "Epoch 00452: val_loss did not improve from 0.46736\n",
      "Epoch 453/500\n",
      "1/1 [==============================] - 0s 89ms/step - loss: 0.3678 - accuracy: 0.8525 - val_loss: 0.8211 - val_accuracy: 0.7877\n",
      "\n",
      "Epoch 00453: val_loss did not improve from 0.46736\n",
      "Epoch 454/500\n",
      "1/1 [==============================] - 0s 91ms/step - loss: 0.3648 - accuracy: 0.8525 - val_loss: 0.8286 - val_accuracy: 0.7877\n",
      "\n",
      "Epoch 00454: val_loss did not improve from 0.46736\n",
      "Epoch 455/500\n",
      "1/1 [==============================] - 0s 75ms/step - loss: 0.3607 - accuracy: 0.8525 - val_loss: 0.8306 - val_accuracy: 0.7877\n",
      "\n",
      "Epoch 00455: val_loss did not improve from 0.46736\n",
      "Epoch 456/500\n",
      "1/1 [==============================] - 0s 85ms/step - loss: 0.3617 - accuracy: 0.8539 - val_loss: 0.8421 - val_accuracy: 0.7877\n",
      "\n",
      "Epoch 00456: val_loss did not improve from 0.46736\n",
      "Epoch 457/500\n",
      "1/1 [==============================] - 0s 78ms/step - loss: 0.3584 - accuracy: 0.8553 - val_loss: 0.8426 - val_accuracy: 0.7877\n",
      "\n",
      "Epoch 00457: val_loss did not improve from 0.46736\n",
      "Epoch 458/500\n",
      "1/1 [==============================] - 0s 77ms/step - loss: 0.3536 - accuracy: 0.8497 - val_loss: 0.8563 - val_accuracy: 0.7877\n",
      "\n",
      "Epoch 00458: val_loss did not improve from 0.46736\n",
      "Epoch 459/500\n",
      "1/1 [==============================] - 0s 84ms/step - loss: 0.3545 - accuracy: 0.8525 - val_loss: 0.8473 - val_accuracy: 0.7877\n",
      "\n",
      "Epoch 00459: val_loss did not improve from 0.46736\n",
      "Epoch 460/500\n",
      "1/1 [==============================] - 0s 90ms/step - loss: 0.3631 - accuracy: 0.8553 - val_loss: 0.8355 - val_accuracy: 0.7877\n",
      "\n",
      "Epoch 00460: val_loss did not improve from 0.46736\n",
      "Epoch 461/500\n",
      "1/1 [==============================] - 0s 97ms/step - loss: 0.3466 - accuracy: 0.8525 - val_loss: 0.8714 - val_accuracy: 0.7877\n",
      "\n",
      "Epoch 00461: val_loss did not improve from 0.46736\n",
      "Epoch 462/500\n",
      "1/1 [==============================] - 0s 90ms/step - loss: 0.3648 - accuracy: 0.8567 - val_loss: 0.8291 - val_accuracy: 0.7877\n",
      "\n",
      "Epoch 00462: val_loss did not improve from 0.46736\n",
      "Epoch 463/500\n",
      "1/1 [==============================] - 0s 113ms/step - loss: 0.3684 - accuracy: 0.8525 - val_loss: 0.8303 - val_accuracy: 0.7877\n",
      "\n",
      "Epoch 00463: val_loss did not improve from 0.46736\n",
      "Epoch 464/500\n",
      "1/1 [==============================] - 0s 80ms/step - loss: 0.3502 - accuracy: 0.8497 - val_loss: 0.8568 - val_accuracy: 0.7877\n",
      "\n",
      "Epoch 00464: val_loss did not improve from 0.46736\n",
      "Epoch 465/500\n",
      "1/1 [==============================] - 0s 78ms/step - loss: 0.3555 - accuracy: 0.8511 - val_loss: 0.8294 - val_accuracy: 0.7877\n",
      "\n",
      "Epoch 00465: val_loss did not improve from 0.46736\n",
      "Epoch 466/500\n",
      "1/1 [==============================] - 0s 78ms/step - loss: 0.3557 - accuracy: 0.8567 - val_loss: 0.8362 - val_accuracy: 0.7877\n",
      "\n",
      "Epoch 00466: val_loss did not improve from 0.46736\n",
      "Epoch 467/500\n",
      "1/1 [==============================] - 0s 84ms/step - loss: 0.3539 - accuracy: 0.8525 - val_loss: 0.8651 - val_accuracy: 0.7877\n",
      "\n",
      "Epoch 00467: val_loss did not improve from 0.46736\n",
      "Epoch 468/500\n",
      "1/1 [==============================] - 0s 78ms/step - loss: 0.3620 - accuracy: 0.8539 - val_loss: 0.8336 - val_accuracy: 0.7877\n",
      "\n",
      "Epoch 00468: val_loss did not improve from 0.46736\n",
      "Epoch 469/500\n",
      "1/1 [==============================] - 0s 84ms/step - loss: 0.3579 - accuracy: 0.8553 - val_loss: 0.8416 - val_accuracy: 0.7877\n",
      "\n",
      "Epoch 00469: val_loss did not improve from 0.46736\n",
      "Epoch 470/500\n",
      "1/1 [==============================] - 0s 90ms/step - loss: 0.3420 - accuracy: 0.8581 - val_loss: 0.8707 - val_accuracy: 0.7877\n",
      "\n",
      "Epoch 00470: val_loss did not improve from 0.46736\n",
      "Epoch 471/500\n",
      "1/1 [==============================] - 0s 85ms/step - loss: 0.3547 - accuracy: 0.8497 - val_loss: 0.8477 - val_accuracy: 0.7877\n",
      "\n",
      "Epoch 00471: val_loss did not improve from 0.46736\n",
      "Epoch 472/500\n",
      "1/1 [==============================] - 0s 80ms/step - loss: 0.3514 - accuracy: 0.8497 - val_loss: 0.8598 - val_accuracy: 0.7877\n",
      "\n",
      "Epoch 00472: val_loss did not improve from 0.46736\n",
      "Epoch 473/500\n",
      "1/1 [==============================] - 0s 83ms/step - loss: 0.3538 - accuracy: 0.8525 - val_loss: 0.8583 - val_accuracy: 0.7877\n",
      "\n",
      "Epoch 00473: val_loss did not improve from 0.46736\n",
      "Epoch 474/500\n",
      "1/1 [==============================] - 0s 80ms/step - loss: 0.3540 - accuracy: 0.8525 - val_loss: 0.8709 - val_accuracy: 0.7877\n",
      "\n",
      "Epoch 00474: val_loss did not improve from 0.46736\n",
      "Epoch 475/500\n",
      "1/1 [==============================] - 0s 74ms/step - loss: 0.3388 - accuracy: 0.8539 - val_loss: 0.8861 - val_accuracy: 0.7877\n",
      "\n",
      "Epoch 00475: val_loss did not improve from 0.46736\n",
      "Epoch 476/500\n",
      "1/1 [==============================] - 0s 78ms/step - loss: 0.3642 - accuracy: 0.8553 - val_loss: 0.8525 - val_accuracy: 0.7877\n",
      "\n",
      "Epoch 00476: val_loss did not improve from 0.46736\n",
      "Epoch 477/500\n",
      "1/1 [==============================] - 0s 73ms/step - loss: 0.3604 - accuracy: 0.8525 - val_loss: 0.8725 - val_accuracy: 0.7877\n",
      "\n",
      "Epoch 00477: val_loss did not improve from 0.46736\n",
      "Epoch 478/500\n",
      "1/1 [==============================] - 0s 83ms/step - loss: 0.3635 - accuracy: 0.8567 - val_loss: 0.8714 - val_accuracy: 0.7877\n",
      "\n",
      "Epoch 00478: val_loss did not improve from 0.46736\n",
      "Epoch 479/500\n",
      "1/1 [==============================] - 0s 85ms/step - loss: 0.3565 - accuracy: 0.8511 - val_loss: 0.8876 - val_accuracy: 0.7877\n",
      "\n",
      "Epoch 00479: val_loss did not improve from 0.46736\n",
      "Epoch 480/500\n",
      "1/1 [==============================] - 0s 91ms/step - loss: 0.3603 - accuracy: 0.8525 - val_loss: 0.8794 - val_accuracy: 0.7877\n",
      "\n",
      "Epoch 00480: val_loss did not improve from 0.46736\n",
      "Epoch 481/500\n",
      "1/1 [==============================] - 0s 102ms/step - loss: 0.3577 - accuracy: 0.8581 - val_loss: 0.8896 - val_accuracy: 0.7877\n",
      "\n",
      "Epoch 00481: val_loss did not improve from 0.46736\n",
      "Epoch 482/500\n",
      "1/1 [==============================] - 0s 88ms/step - loss: 0.3608 - accuracy: 0.8511 - val_loss: 0.8762 - val_accuracy: 0.7877\n",
      "\n",
      "Epoch 00482: val_loss did not improve from 0.46736\n",
      "Epoch 483/500\n",
      "1/1 [==============================] - 0s 99ms/step - loss: 0.3600 - accuracy: 0.8553 - val_loss: 0.8684 - val_accuracy: 0.7877\n",
      "\n",
      "Epoch 00483: val_loss did not improve from 0.46736\n",
      "Epoch 484/500\n",
      "1/1 [==============================] - 0s 94ms/step - loss: 0.3590 - accuracy: 0.8497 - val_loss: 0.8747 - val_accuracy: 0.7877\n",
      "\n",
      "Epoch 00484: val_loss did not improve from 0.46736\n",
      "Epoch 485/500\n",
      "1/1 [==============================] - 0s 91ms/step - loss: 0.3498 - accuracy: 0.8539 - val_loss: 0.8793 - val_accuracy: 0.7877\n",
      "\n",
      "Epoch 00485: val_loss did not improve from 0.46736\n",
      "Epoch 486/500\n",
      "1/1 [==============================] - 0s 82ms/step - loss: 0.3593 - accuracy: 0.8553 - val_loss: 0.8590 - val_accuracy: 0.7877\n",
      "\n",
      "Epoch 00486: val_loss did not improve from 0.46736\n",
      "Epoch 487/500\n",
      "1/1 [==============================] - 0s 82ms/step - loss: 0.3577 - accuracy: 0.8511 - val_loss: 0.8744 - val_accuracy: 0.7877\n",
      "\n",
      "Epoch 00487: val_loss did not improve from 0.46736\n",
      "Epoch 488/500\n",
      "1/1 [==============================] - 0s 81ms/step - loss: 0.3586 - accuracy: 0.8511 - val_loss: 0.8635 - val_accuracy: 0.7877\n",
      "\n",
      "Epoch 00488: val_loss did not improve from 0.46736\n",
      "Epoch 489/500\n",
      "1/1 [==============================] - 0s 74ms/step - loss: 0.3490 - accuracy: 0.8567 - val_loss: 0.8796 - val_accuracy: 0.7877\n",
      "\n",
      "Epoch 00489: val_loss did not improve from 0.46736\n",
      "Epoch 490/500\n",
      "1/1 [==============================] - 0s 82ms/step - loss: 0.3621 - accuracy: 0.8539 - val_loss: 0.8713 - val_accuracy: 0.7877\n",
      "\n",
      "Epoch 00490: val_loss did not improve from 0.46736\n",
      "Epoch 491/500\n",
      "1/1 [==============================] - 0s 76ms/step - loss: 0.3680 - accuracy: 0.8539 - val_loss: 0.8776 - val_accuracy: 0.7877\n",
      "\n",
      "Epoch 00491: val_loss did not improve from 0.46736\n",
      "Epoch 492/500\n",
      "1/1 [==============================] - 0s 77ms/step - loss: 0.3560 - accuracy: 0.8525 - val_loss: 0.8964 - val_accuracy: 0.7877\n",
      "\n",
      "Epoch 00492: val_loss did not improve from 0.46736\n",
      "Epoch 493/500\n",
      "1/1 [==============================] - 0s 80ms/step - loss: 0.3654 - accuracy: 0.8553 - val_loss: 0.8925 - val_accuracy: 0.7877\n",
      "\n",
      "Epoch 00493: val_loss did not improve from 0.46736\n",
      "Epoch 494/500\n",
      "1/1 [==============================] - 0s 82ms/step - loss: 0.3626 - accuracy: 0.8539 - val_loss: 0.8834 - val_accuracy: 0.7877\n",
      "\n",
      "Epoch 00494: val_loss did not improve from 0.46736\n",
      "Epoch 495/500\n",
      "1/1 [==============================] - 0s 81ms/step - loss: 0.3511 - accuracy: 0.8567 - val_loss: 0.9116 - val_accuracy: 0.7877\n",
      "\n",
      "Epoch 00495: val_loss did not improve from 0.46736\n",
      "Epoch 496/500\n",
      "1/1 [==============================] - 0s 88ms/step - loss: 0.3475 - accuracy: 0.8553 - val_loss: 0.9086 - val_accuracy: 0.7877\n",
      "\n",
      "Epoch 00496: val_loss did not improve from 0.46736\n",
      "Epoch 497/500\n",
      "1/1 [==============================] - 0s 79ms/step - loss: 0.3495 - accuracy: 0.8581 - val_loss: 0.9037 - val_accuracy: 0.7877\n",
      "\n",
      "Epoch 00497: val_loss did not improve from 0.46736\n",
      "Epoch 498/500\n",
      "1/1 [==============================] - 0s 76ms/step - loss: 0.3586 - accuracy: 0.8596 - val_loss: 0.9105 - val_accuracy: 0.7877\n",
      "\n",
      "Epoch 00498: val_loss did not improve from 0.46736\n",
      "Epoch 499/500\n",
      "1/1 [==============================] - 0s 82ms/step - loss: 0.3571 - accuracy: 0.8511 - val_loss: 0.9044 - val_accuracy: 0.7877\n",
      "\n",
      "Epoch 00499: val_loss did not improve from 0.46736\n",
      "Epoch 500/500\n",
      "1/1 [==============================] - 0s 78ms/step - loss: 0.3669 - accuracy: 0.8511 - val_loss: 0.8945 - val_accuracy: 0.7877\n",
      "\n",
      "Epoch 00500: val_loss did not improve from 0.46736\n"
     ]
    }
   ],
   "source": [
    "history = model.fit(x_train_shuffled_np, y_shuffled_np, epochs=EPOCH, batch_size=BATCH_SIZE, validation_split=0.2, callbacks=[checkpoint]) \n",
    "# history = model.fit(x_train_shuffled, y_np, epochs=EPOCH, batch_size=BATCH_SIZE, validation_split=0.2, callbacks=[checkpoint]) \n",
    "# callbacks에 checkpoint를 넣는다. 그러면 내가 설정한 기준(val_loss)가 최저인 모델을 저장한다."
   ]
  },
  {
   "source": [
    "## 에포크 당 모델 성능 확인\n",
    "<br>\n",
    "훈련을 거치며 모델의 정확도, 손실의 변화 과정을 관찰한다. \n",
    "<br>\n",
    "이는 하이퍼 파라미터(에포크, 훈련률, 레이어 당 유닛 개수 등)을 조절하는데 큰 도움이 된다. 그래프를 보고 어떤 지점에서 오버피팅이 일어났는지 확인할 수 있기 때문이다."
   ],
   "cell_type": "markdown",
   "metadata": {}
  },
  {
   "cell_type": "code",
   "execution_count": 34,
   "metadata": {},
   "outputs": [
    {
     "output_type": "execute_result",
     "data": {
      "text/plain": [
       "Text(0.5, 1.0, 'Training and validation loss')"
      ]
     },
     "metadata": {},
     "execution_count": 34
    },
    {
     "output_type": "display_data",
     "data": {
      "text/plain": "<Figure size 432x288 with 1 Axes>",
      "image/svg+xml": "<?xml version=\"1.0\" encoding=\"utf-8\" standalone=\"no\"?>\n<!DOCTYPE svg PUBLIC \"-//W3C//DTD SVG 1.1//EN\"\n  \"http://www.w3.org/Graphics/SVG/1.1/DTD/svg11.dtd\">\n<!-- Created with matplotlib (https://matplotlib.org/) -->\n<svg height=\"263.63625pt\" version=\"1.1\" viewBox=\"0 0 372.103125 263.63625\" width=\"372.103125pt\" xmlns=\"http://www.w3.org/2000/svg\" xmlns:xlink=\"http://www.w3.org/1999/xlink\">\n <metadata>\n  <rdf:RDF xmlns:cc=\"http://creativecommons.org/ns#\" xmlns:dc=\"http://purl.org/dc/elements/1.1/\" xmlns:rdf=\"http://www.w3.org/1999/02/22-rdf-syntax-ns#\">\n   <cc:Work>\n    <dc:type rdf:resource=\"http://purl.org/dc/dcmitype/StillImage\"/>\n    <dc:date>2021-02-13T07:52:21.552094</dc:date>\n    <dc:format>image/svg+xml</dc:format>\n    <dc:creator>\n     <cc:Agent>\n      <dc:title>Matplotlib v3.3.2, https://matplotlib.org/</dc:title>\n     </cc:Agent>\n    </dc:creator>\n   </cc:Work>\n  </rdf:RDF>\n </metadata>\n <defs>\n  <style type=\"text/css\">*{stroke-linecap:butt;stroke-linejoin:round;}</style>\n </defs>\n <g id=\"figure_1\">\n  <g id=\"patch_1\">\n   <path d=\"M 0 263.63625 \nL 372.103125 263.63625 \nL 372.103125 0 \nL 0 0 \nz\n\" style=\"fill:none;\"/>\n  </g>\n  <g id=\"axes_1\">\n   <g id=\"patch_2\">\n    <path d=\"M 30.103125 239.758125 \nL 364.903125 239.758125 \nL 364.903125 22.318125 \nL 30.103125 22.318125 \nz\n\" style=\"fill:#ffffff;\"/>\n   </g>\n   <g id=\"matplotlib.axis_1\">\n    <g id=\"xtick_1\">\n     <g id=\"line2d_1\">\n      <defs>\n       <path d=\"M 0 0 \nL 0 3.5 \n\" id=\"mbde7f83802\" style=\"stroke:#000000;stroke-width:0.8;\"/>\n      </defs>\n      <g>\n       <use style=\"stroke:#000000;stroke-width:0.8;\" x=\"45.321307\" xlink:href=\"#mbde7f83802\" y=\"239.758125\"/>\n      </g>\n     </g>\n     <g id=\"text_1\">\n      <!-- 0 -->\n      <g transform=\"translate(42.140057 254.356563)scale(0.1 -0.1)\">\n       <defs>\n        <path d=\"M 31.78125 66.40625 \nQ 24.171875 66.40625 20.328125 58.90625 \nQ 16.5 51.421875 16.5 36.375 \nQ 16.5 21.390625 20.328125 13.890625 \nQ 24.171875 6.390625 31.78125 6.390625 \nQ 39.453125 6.390625 43.28125 13.890625 \nQ 47.125 21.390625 47.125 36.375 \nQ 47.125 51.421875 43.28125 58.90625 \nQ 39.453125 66.40625 31.78125 66.40625 \nz\nM 31.78125 74.21875 \nQ 44.046875 74.21875 50.515625 64.515625 \nQ 56.984375 54.828125 56.984375 36.375 \nQ 56.984375 17.96875 50.515625 8.265625 \nQ 44.046875 -1.421875 31.78125 -1.421875 \nQ 19.53125 -1.421875 13.0625 8.265625 \nQ 6.59375 17.96875 6.59375 36.375 \nQ 6.59375 54.828125 13.0625 64.515625 \nQ 19.53125 74.21875 31.78125 74.21875 \nz\n\" id=\"DejaVuSans-48\"/>\n       </defs>\n       <use xlink:href=\"#DejaVuSans-48\"/>\n      </g>\n     </g>\n    </g>\n    <g id=\"xtick_2\">\n     <g id=\"line2d_2\">\n      <g>\n       <use style=\"stroke:#000000;stroke-width:0.8;\" x=\"106.316024\" xlink:href=\"#mbde7f83802\" y=\"239.758125\"/>\n      </g>\n     </g>\n     <g id=\"text_2\">\n      <!-- 100 -->\n      <g transform=\"translate(96.772274 254.356563)scale(0.1 -0.1)\">\n       <defs>\n        <path d=\"M 12.40625 8.296875 \nL 28.515625 8.296875 \nL 28.515625 63.921875 \nL 10.984375 60.40625 \nL 10.984375 69.390625 \nL 28.421875 72.90625 \nL 38.28125 72.90625 \nL 38.28125 8.296875 \nL 54.390625 8.296875 \nL 54.390625 0 \nL 12.40625 0 \nz\n\" id=\"DejaVuSans-49\"/>\n       </defs>\n       <use xlink:href=\"#DejaVuSans-49\"/>\n       <use x=\"63.623047\" xlink:href=\"#DejaVuSans-48\"/>\n       <use x=\"127.246094\" xlink:href=\"#DejaVuSans-48\"/>\n      </g>\n     </g>\n    </g>\n    <g id=\"xtick_3\">\n     <g id=\"line2d_3\">\n      <g>\n       <use style=\"stroke:#000000;stroke-width:0.8;\" x=\"167.31074\" xlink:href=\"#mbde7f83802\" y=\"239.758125\"/>\n      </g>\n     </g>\n     <g id=\"text_3\">\n      <!-- 200 -->\n      <g transform=\"translate(157.76699 254.356563)scale(0.1 -0.1)\">\n       <defs>\n        <path d=\"M 19.1875 8.296875 \nL 53.609375 8.296875 \nL 53.609375 0 \nL 7.328125 0 \nL 7.328125 8.296875 \nQ 12.9375 14.109375 22.625 23.890625 \nQ 32.328125 33.6875 34.8125 36.53125 \nQ 39.546875 41.84375 41.421875 45.53125 \nQ 43.3125 49.21875 43.3125 52.78125 \nQ 43.3125 58.59375 39.234375 62.25 \nQ 35.15625 65.921875 28.609375 65.921875 \nQ 23.96875 65.921875 18.8125 64.3125 \nQ 13.671875 62.703125 7.8125 59.421875 \nL 7.8125 69.390625 \nQ 13.765625 71.78125 18.9375 73 \nQ 24.125 74.21875 28.421875 74.21875 \nQ 39.75 74.21875 46.484375 68.546875 \nQ 53.21875 62.890625 53.21875 53.421875 \nQ 53.21875 48.921875 51.53125 44.890625 \nQ 49.859375 40.875 45.40625 35.40625 \nQ 44.1875 33.984375 37.640625 27.21875 \nQ 31.109375 20.453125 19.1875 8.296875 \nz\n\" id=\"DejaVuSans-50\"/>\n       </defs>\n       <use xlink:href=\"#DejaVuSans-50\"/>\n       <use x=\"63.623047\" xlink:href=\"#DejaVuSans-48\"/>\n       <use x=\"127.246094\" xlink:href=\"#DejaVuSans-48\"/>\n      </g>\n     </g>\n    </g>\n    <g id=\"xtick_4\">\n     <g id=\"line2d_4\">\n      <g>\n       <use style=\"stroke:#000000;stroke-width:0.8;\" x=\"228.305457\" xlink:href=\"#mbde7f83802\" y=\"239.758125\"/>\n      </g>\n     </g>\n     <g id=\"text_4\">\n      <!-- 300 -->\n      <g transform=\"translate(218.761707 254.356563)scale(0.1 -0.1)\">\n       <defs>\n        <path d=\"M 40.578125 39.3125 \nQ 47.65625 37.796875 51.625 33 \nQ 55.609375 28.21875 55.609375 21.1875 \nQ 55.609375 10.40625 48.1875 4.484375 \nQ 40.765625 -1.421875 27.09375 -1.421875 \nQ 22.515625 -1.421875 17.65625 -0.515625 \nQ 12.796875 0.390625 7.625 2.203125 \nL 7.625 11.71875 \nQ 11.71875 9.328125 16.59375 8.109375 \nQ 21.484375 6.890625 26.8125 6.890625 \nQ 36.078125 6.890625 40.9375 10.546875 \nQ 45.796875 14.203125 45.796875 21.1875 \nQ 45.796875 27.640625 41.28125 31.265625 \nQ 36.765625 34.90625 28.71875 34.90625 \nL 20.21875 34.90625 \nL 20.21875 43.015625 \nL 29.109375 43.015625 \nQ 36.375 43.015625 40.234375 45.921875 \nQ 44.09375 48.828125 44.09375 54.296875 \nQ 44.09375 59.90625 40.109375 62.90625 \nQ 36.140625 65.921875 28.71875 65.921875 \nQ 24.65625 65.921875 20.015625 65.03125 \nQ 15.375 64.15625 9.8125 62.3125 \nL 9.8125 71.09375 \nQ 15.4375 72.65625 20.34375 73.4375 \nQ 25.25 74.21875 29.59375 74.21875 \nQ 40.828125 74.21875 47.359375 69.109375 \nQ 53.90625 64.015625 53.90625 55.328125 \nQ 53.90625 49.265625 50.4375 45.09375 \nQ 46.96875 40.921875 40.578125 39.3125 \nz\n\" id=\"DejaVuSans-51\"/>\n       </defs>\n       <use xlink:href=\"#DejaVuSans-51\"/>\n       <use x=\"63.623047\" xlink:href=\"#DejaVuSans-48\"/>\n       <use x=\"127.246094\" xlink:href=\"#DejaVuSans-48\"/>\n      </g>\n     </g>\n    </g>\n    <g id=\"xtick_5\">\n     <g id=\"line2d_5\">\n      <g>\n       <use style=\"stroke:#000000;stroke-width:0.8;\" x=\"289.300174\" xlink:href=\"#mbde7f83802\" y=\"239.758125\"/>\n      </g>\n     </g>\n     <g id=\"text_5\">\n      <!-- 400 -->\n      <g transform=\"translate(279.756424 254.356563)scale(0.1 -0.1)\">\n       <defs>\n        <path d=\"M 37.796875 64.3125 \nL 12.890625 25.390625 \nL 37.796875 25.390625 \nz\nM 35.203125 72.90625 \nL 47.609375 72.90625 \nL 47.609375 25.390625 \nL 58.015625 25.390625 \nL 58.015625 17.1875 \nL 47.609375 17.1875 \nL 47.609375 0 \nL 37.796875 0 \nL 37.796875 17.1875 \nL 4.890625 17.1875 \nL 4.890625 26.703125 \nz\n\" id=\"DejaVuSans-52\"/>\n       </defs>\n       <use xlink:href=\"#DejaVuSans-52\"/>\n       <use x=\"63.623047\" xlink:href=\"#DejaVuSans-48\"/>\n       <use x=\"127.246094\" xlink:href=\"#DejaVuSans-48\"/>\n      </g>\n     </g>\n    </g>\n    <g id=\"xtick_6\">\n     <g id=\"line2d_6\">\n      <g>\n       <use style=\"stroke:#000000;stroke-width:0.8;\" x=\"350.29489\" xlink:href=\"#mbde7f83802\" y=\"239.758125\"/>\n      </g>\n     </g>\n     <g id=\"text_6\">\n      <!-- 500 -->\n      <g transform=\"translate(340.75114 254.356563)scale(0.1 -0.1)\">\n       <defs>\n        <path d=\"M 10.796875 72.90625 \nL 49.515625 72.90625 \nL 49.515625 64.59375 \nL 19.828125 64.59375 \nL 19.828125 46.734375 \nQ 21.96875 47.46875 24.109375 47.828125 \nQ 26.265625 48.1875 28.421875 48.1875 \nQ 40.625 48.1875 47.75 41.5 \nQ 54.890625 34.8125 54.890625 23.390625 \nQ 54.890625 11.625 47.5625 5.09375 \nQ 40.234375 -1.421875 26.90625 -1.421875 \nQ 22.3125 -1.421875 17.546875 -0.640625 \nQ 12.796875 0.140625 7.71875 1.703125 \nL 7.71875 11.625 \nQ 12.109375 9.234375 16.796875 8.0625 \nQ 21.484375 6.890625 26.703125 6.890625 \nQ 35.15625 6.890625 40.078125 11.328125 \nQ 45.015625 15.765625 45.015625 23.390625 \nQ 45.015625 31 40.078125 35.4375 \nQ 35.15625 39.890625 26.703125 39.890625 \nQ 22.75 39.890625 18.8125 39.015625 \nQ 14.890625 38.140625 10.796875 36.28125 \nz\n\" id=\"DejaVuSans-53\"/>\n       </defs>\n       <use xlink:href=\"#DejaVuSans-53\"/>\n       <use x=\"63.623047\" xlink:href=\"#DejaVuSans-48\"/>\n       <use x=\"127.246094\" xlink:href=\"#DejaVuSans-48\"/>\n      </g>\n     </g>\n    </g>\n   </g>\n   <g id=\"matplotlib.axis_2\">\n    <g id=\"ytick_1\">\n     <g id=\"line2d_7\">\n      <defs>\n       <path d=\"M 0 0 \nL -3.5 0 \n\" id=\"mc0b7570a63\" style=\"stroke:#000000;stroke-width:0.8;\"/>\n      </defs>\n      <g>\n       <use style=\"stroke:#000000;stroke-width:0.8;\" x=\"30.103125\" xlink:href=\"#mc0b7570a63\" y=\"206.180845\"/>\n      </g>\n     </g>\n     <g id=\"text_7\">\n      <!-- 0.5 -->\n      <g transform=\"translate(7.2 209.980064)scale(0.1 -0.1)\">\n       <defs>\n        <path d=\"M 10.6875 12.40625 \nL 21 12.40625 \nL 21 0 \nL 10.6875 0 \nz\n\" id=\"DejaVuSans-46\"/>\n       </defs>\n       <use xlink:href=\"#DejaVuSans-48\"/>\n       <use x=\"63.623047\" xlink:href=\"#DejaVuSans-46\"/>\n       <use x=\"95.410156\" xlink:href=\"#DejaVuSans-53\"/>\n      </g>\n     </g>\n    </g>\n    <g id=\"ytick_2\">\n     <g id=\"line2d_8\">\n      <g>\n       <use style=\"stroke:#000000;stroke-width:0.8;\" x=\"30.103125\" xlink:href=\"#mc0b7570a63\" y=\"157.981193\"/>\n      </g>\n     </g>\n     <g id=\"text_8\">\n      <!-- 0.6 -->\n      <g transform=\"translate(7.2 161.780411)scale(0.1 -0.1)\">\n       <defs>\n        <path d=\"M 33.015625 40.375 \nQ 26.375 40.375 22.484375 35.828125 \nQ 18.609375 31.296875 18.609375 23.390625 \nQ 18.609375 15.53125 22.484375 10.953125 \nQ 26.375 6.390625 33.015625 6.390625 \nQ 39.65625 6.390625 43.53125 10.953125 \nQ 47.40625 15.53125 47.40625 23.390625 \nQ 47.40625 31.296875 43.53125 35.828125 \nQ 39.65625 40.375 33.015625 40.375 \nz\nM 52.59375 71.296875 \nL 52.59375 62.3125 \nQ 48.875 64.0625 45.09375 64.984375 \nQ 41.3125 65.921875 37.59375 65.921875 \nQ 27.828125 65.921875 22.671875 59.328125 \nQ 17.53125 52.734375 16.796875 39.40625 \nQ 19.671875 43.65625 24.015625 45.921875 \nQ 28.375 48.1875 33.59375 48.1875 \nQ 44.578125 48.1875 50.953125 41.515625 \nQ 57.328125 34.859375 57.328125 23.390625 \nQ 57.328125 12.15625 50.6875 5.359375 \nQ 44.046875 -1.421875 33.015625 -1.421875 \nQ 20.359375 -1.421875 13.671875 8.265625 \nQ 6.984375 17.96875 6.984375 36.375 \nQ 6.984375 53.65625 15.1875 63.9375 \nQ 23.390625 74.21875 37.203125 74.21875 \nQ 40.921875 74.21875 44.703125 73.484375 \nQ 48.484375 72.75 52.59375 71.296875 \nz\n\" id=\"DejaVuSans-54\"/>\n       </defs>\n       <use xlink:href=\"#DejaVuSans-48\"/>\n       <use x=\"63.623047\" xlink:href=\"#DejaVuSans-46\"/>\n       <use x=\"95.410156\" xlink:href=\"#DejaVuSans-54\"/>\n      </g>\n     </g>\n    </g>\n    <g id=\"ytick_3\">\n     <g id=\"line2d_9\">\n      <g>\n       <use style=\"stroke:#000000;stroke-width:0.8;\" x=\"30.103125\" xlink:href=\"#mc0b7570a63\" y=\"109.78154\"/>\n      </g>\n     </g>\n     <g id=\"text_9\">\n      <!-- 0.7 -->\n      <g transform=\"translate(7.2 113.580759)scale(0.1 -0.1)\">\n       <defs>\n        <path d=\"M 8.203125 72.90625 \nL 55.078125 72.90625 \nL 55.078125 68.703125 \nL 28.609375 0 \nL 18.3125 0 \nL 43.21875 64.59375 \nL 8.203125 64.59375 \nz\n\" id=\"DejaVuSans-55\"/>\n       </defs>\n       <use xlink:href=\"#DejaVuSans-48\"/>\n       <use x=\"63.623047\" xlink:href=\"#DejaVuSans-46\"/>\n       <use x=\"95.410156\" xlink:href=\"#DejaVuSans-55\"/>\n      </g>\n     </g>\n    </g>\n    <g id=\"ytick_4\">\n     <g id=\"line2d_10\">\n      <g>\n       <use style=\"stroke:#000000;stroke-width:0.8;\" x=\"30.103125\" xlink:href=\"#mc0b7570a63\" y=\"61.581888\"/>\n      </g>\n     </g>\n     <g id=\"text_10\">\n      <!-- 0.8 -->\n      <g transform=\"translate(7.2 65.381107)scale(0.1 -0.1)\">\n       <defs>\n        <path d=\"M 31.78125 34.625 \nQ 24.75 34.625 20.71875 30.859375 \nQ 16.703125 27.09375 16.703125 20.515625 \nQ 16.703125 13.921875 20.71875 10.15625 \nQ 24.75 6.390625 31.78125 6.390625 \nQ 38.8125 6.390625 42.859375 10.171875 \nQ 46.921875 13.96875 46.921875 20.515625 \nQ 46.921875 27.09375 42.890625 30.859375 \nQ 38.875 34.625 31.78125 34.625 \nz\nM 21.921875 38.8125 \nQ 15.578125 40.375 12.03125 44.71875 \nQ 8.5 49.078125 8.5 55.328125 \nQ 8.5 64.0625 14.71875 69.140625 \nQ 20.953125 74.21875 31.78125 74.21875 \nQ 42.671875 74.21875 48.875 69.140625 \nQ 55.078125 64.0625 55.078125 55.328125 \nQ 55.078125 49.078125 51.53125 44.71875 \nQ 48 40.375 41.703125 38.8125 \nQ 48.828125 37.15625 52.796875 32.3125 \nQ 56.78125 27.484375 56.78125 20.515625 \nQ 56.78125 9.90625 50.3125 4.234375 \nQ 43.84375 -1.421875 31.78125 -1.421875 \nQ 19.734375 -1.421875 13.25 4.234375 \nQ 6.78125 9.90625 6.78125 20.515625 \nQ 6.78125 27.484375 10.78125 32.3125 \nQ 14.796875 37.15625 21.921875 38.8125 \nz\nM 18.3125 54.390625 \nQ 18.3125 48.734375 21.84375 45.5625 \nQ 25.390625 42.390625 31.78125 42.390625 \nQ 38.140625 42.390625 41.71875 45.5625 \nQ 45.3125 48.734375 45.3125 54.390625 \nQ 45.3125 60.0625 41.71875 63.234375 \nQ 38.140625 66.40625 31.78125 66.40625 \nQ 25.390625 66.40625 21.84375 63.234375 \nQ 18.3125 60.0625 18.3125 54.390625 \nz\n\" id=\"DejaVuSans-56\"/>\n       </defs>\n       <use xlink:href=\"#DejaVuSans-48\"/>\n       <use x=\"63.623047\" xlink:href=\"#DejaVuSans-46\"/>\n       <use x=\"95.410156\" xlink:href=\"#DejaVuSans-56\"/>\n      </g>\n     </g>\n    </g>\n   </g>\n   <g id=\"line2d_11\">\n    <path clip-path=\"url(#p8de43bc1e1)\" d=\"M 45.321307 229.874489 \nL 45.931254 171.655807 \nL 46.541201 144.577357 \nL 47.151148 135.0999 \nL 47.761095 99.220939 \nL 48.371043 74.850334 \nL 48.98099 85.681714 \nL 49.590937 86.35869 \nL 50.200884 61.988056 \nL 50.810831 63.341979 \nL 51.420778 59.280211 \nL 52.030726 49.125807 \nL 52.640673 55.218444 \nL 53.25062 54.541497 \nL 53.860567 53.187574 \nL 54.470514 45.064039 \nL 55.080461 44.387064 \nL 55.690409 47.094909 \nL 56.300356 50.479729 \nL 56.910303 47.094909 \nL 57.52025 46.417962 \nL 58.130197 43.710117 \nL 58.740144 47.094909 \nL 59.350092 41.002272 \nL 59.960039 43.033141 \nL 60.569986 41.679219 \nL 61.179933 38.971374 \nL 61.78988 42.356194 \nL 62.399827 46.417962 \nL 63.009775 44.387064 \nL 63.619722 44.387064 \nL 64.229669 41.002272 \nL 64.839616 44.387064 \nL 65.449563 39.648349 \nL 66.05951 37.617451 \nL 66.669458 38.971374 \nL 67.279405 38.294427 \nL 67.889352 39.648349 \nL 68.499299 49.802754 \nL 70.329141 36.263529 \nL 70.939088 41.002272 \nL 71.549035 36.940504 \nL 72.158982 38.294427 \nL 72.768929 36.940504 \nL 73.378877 38.971374 \nL 73.988824 43.033141 \nL 74.598771 36.940504 \nL 75.208718 43.033141 \nL 75.818665 47.094909 \nL 76.428612 48.448831 \nL 77.03856 40.325296 \nL 77.648507 36.263529 \nL 78.258454 37.617451 \nL 78.868401 34.909606 \nL 80.088295 40.325296 \nL 80.698243 41.679219 \nL 81.30819 39.648349 \nL 81.918137 36.263529 \nL 82.528084 39.648349 \nL 83.138031 38.971374 \nL 83.747978 41.679219 \nL 84.357926 47.771884 \nL 84.967873 48.448831 \nL 85.57782 35.586582 \nL 86.187767 38.294427 \nL 86.797714 36.940504 \nL 87.407661 38.294427 \nL 88.017609 36.263529 \nL 88.627556 36.940504 \nL 89.237503 39.648349 \nL 89.84745 36.263529 \nL 90.457397 36.263529 \nL 91.067344 39.648349 \nL 91.677292 38.294427 \nL 92.287239 39.648349 \nL 92.897186 45.064039 \nL 93.507133 41.679219 \nL 94.11708 43.710117 \nL 94.727027 36.940504 \nL 95.336975 41.679219 \nL 95.946922 32.878737 \nL 96.556869 38.971374 \nL 97.166816 41.002272 \nL 97.776763 40.325296 \nL 98.38671 38.971374 \nL 99.606605 37.617451 \nL 100.216552 38.971374 \nL 100.826499 41.002272 \nL 101.436446 41.679219 \nL 102.046393 36.263529 \nL 102.656341 36.940504 \nL 103.876235 36.940504 \nL 104.486182 38.294427 \nL 105.096129 40.325296 \nL 105.706076 37.617451 \nL 106.925971 38.971374 \nL 107.535918 37.617451 \nL 108.145865 35.586582 \nL 108.755812 34.909606 \nL 109.365759 39.648349 \nL 109.975707 49.125807 \nL 110.585654 39.648349 \nL 111.195601 40.325296 \nL 111.805548 36.263529 \nL 112.415495 38.294427 \nL 113.025442 34.909606 \nL 113.63539 36.940504 \nL 114.855284 35.586582 \nL 115.465231 37.617451 \nL 116.075178 34.909606 \nL 116.685125 38.294427 \nL 117.295073 38.294427 \nL 117.90502 34.909606 \nL 118.514967 36.263529 \nL 119.124914 41.002272 \nL 119.734861 36.940504 \nL 120.344808 36.263529 \nL 120.954756 38.294427 \nL 121.564703 39.648349 \nL 122.17465 40.325296 \nL 122.784597 37.617451 \nL 123.394544 34.232659 \nL 124.004491 38.971374 \nL 124.614439 36.940504 \nL 125.224386 36.263529 \nL 125.834333 38.971374 \nL 126.44428 40.325296 \nL 127.054227 37.617451 \nL 127.664174 36.940504 \nL 128.274122 33.555684 \nL 128.884069 38.294427 \nL 129.494016 38.294427 \nL 130.103963 36.263529 \nL 130.71391 38.294427 \nL 131.323857 37.617451 \nL 131.933805 38.294427 \nL 132.543752 35.586582 \nL 133.153699 35.586582 \nL 133.763646 38.971374 \nL 134.373593 38.294427 \nL 134.98354 35.586582 \nL 135.593488 38.294427 \nL 136.203435 43.710117 \nL 136.813382 36.263529 \nL 137.423329 33.555684 \nL 138.033276 36.940504 \nL 138.643223 36.940504 \nL 139.253171 36.263529 \nL 139.863118 34.232659 \nL 140.473065 35.586582 \nL 141.692959 36.940504 \nL 142.302906 34.909606 \nL 142.912854 35.586582 \nL 143.522801 38.294427 \nL 144.132748 35.586582 \nL 144.742695 37.617451 \nL 145.352642 41.002272 \nL 146.572537 38.294427 \nL 147.182484 40.325296 \nL 147.792431 38.294427 \nL 148.402378 35.586582 \nL 149.012325 39.648349 \nL 150.23222 38.294427 \nL 150.842167 36.263529 \nL 151.452114 36.263529 \nL 152.672008 37.617451 \nL 153.281955 36.263529 \nL 153.891903 36.940504 \nL 154.50185 36.263529 \nL 155.111797 34.909606 \nL 155.721744 37.617451 \nL 156.331691 36.940504 \nL 156.941638 34.909606 \nL 157.551586 36.263529 \nL 158.161533 38.971374 \nL 159.381427 36.263529 \nL 159.991374 36.263529 \nL 160.601321 35.586582 \nL 161.211269 39.648349 \nL 162.431163 35.586582 \nL 163.04111 36.263529 \nL 163.651057 37.617451 \nL 164.261004 35.586582 \nL 165.480899 35.586582 \nL 166.090846 38.971374 \nL 166.700793 36.940504 \nL 167.31074 39.648349 \nL 167.920687 36.263529 \nL 168.530635 34.232659 \nL 169.140582 36.940504 \nL 169.750529 36.263529 \nL 170.360476 39.648349 \nL 170.970423 36.940504 \nL 171.58037 36.940504 \nL 172.190318 34.909606 \nL 172.800265 37.617451 \nL 173.410212 38.294427 \nL 174.020159 36.940504 \nL 174.630106 34.909606 \nL 175.240053 36.940504 \nL 176.459948 38.294427 \nL 177.069895 34.909606 \nL 177.679842 37.617451 \nL 178.289789 38.294427 \nL 178.899736 36.263529 \nL 179.509684 35.586582 \nL 180.729578 36.940504 \nL 181.339525 36.263529 \nL 181.949472 36.263529 \nL 182.559419 36.940504 \nL 183.169367 35.586582 \nL 184.389261 36.940504 \nL 184.999208 34.909606 \nL 185.609155 36.263529 \nL 186.219102 36.263529 \nL 186.82905 38.971374 \nL 187.438997 37.617451 \nL 188.658891 36.263529 \nL 189.268838 36.263529 \nL 189.878785 35.586582 \nL 190.488733 39.648349 \nL 191.09868 38.294427 \nL 191.708627 34.232659 \nL 192.318574 34.909606 \nL 192.928521 38.971374 \nL 193.538468 35.586582 \nL 194.148416 34.232659 \nL 194.758363 35.586582 \nL 195.36831 36.263529 \nL 195.978257 36.263529 \nL 196.588204 35.586582 \nL 197.198151 38.971374 \nL 198.418046 34.909606 \nL 199.027993 35.586582 \nL 199.63794 35.586582 \nL 200.247887 34.909606 \nL 200.857834 35.586582 \nL 201.467782 35.586582 \nL 202.077729 34.909606 \nL 202.687676 35.586582 \nL 203.297623 38.971374 \nL 203.90757 37.617451 \nL 204.517517 38.971374 \nL 205.127465 36.263529 \nL 205.737412 35.586582 \nL 206.347359 36.263529 \nL 206.957306 37.617451 \nL 207.567253 34.232659 \nL 208.1772 35.586582 \nL 209.397095 36.940504 \nL 210.007042 33.555684 \nL 210.616989 35.586582 \nL 211.226936 36.940504 \nL 212.446831 35.586582 \nL 213.056778 35.586582 \nL 213.666725 34.232659 \nL 214.276672 36.263529 \nL 214.886619 37.617451 \nL 215.496566 33.555684 \nL 216.106514 34.909606 \nL 216.716461 36.940504 \nL 217.326408 34.232659 \nL 217.936355 37.617451 \nL 218.546302 36.940504 \nL 219.156249 35.586582 \nL 219.766197 36.940504 \nL 220.986091 32.878737 \nL 221.596038 38.971374 \nL 222.205985 39.648349 \nL 222.815932 36.940504 \nL 223.42588 36.940504 \nL 224.035827 37.617451 \nL 224.645774 36.940504 \nL 225.255721 43.033141 \nL 225.865668 36.940504 \nL 226.475615 36.263529 \nL 227.085563 34.909606 \nL 227.69551 38.294427 \nL 228.305457 36.263529 \nL 228.915404 38.971374 \nL 229.525351 36.940504 \nL 230.135298 33.555684 \nL 230.745246 36.263529 \nL 231.355193 36.940504 \nL 231.96514 34.909606 \nL 232.575087 38.294427 \nL 233.185034 36.940504 \nL 233.794981 38.971374 \nL 234.404929 38.971374 \nL 235.014876 34.909606 \nL 235.624823 36.263529 \nL 236.23477 36.940504 \nL 236.844717 38.971374 \nL 237.454664 37.617451 \nL 238.064612 34.909606 \nL 238.674559 36.940504 \nL 239.284506 36.263529 \nL 239.894453 36.940504 \nL 240.5044 39.648349 \nL 241.114347 36.940504 \nL 241.724295 37.617451 \nL 242.334242 36.263529 \nL 242.944189 35.586582 \nL 243.554136 36.940504 \nL 244.164083 36.263529 \nL 244.77403 37.617451 \nL 245.383978 36.940504 \nL 245.993925 34.232659 \nL 246.603872 36.940504 \nL 247.213819 36.940504 \nL 247.823766 37.617451 \nL 248.433713 37.617451 \nL 249.043661 36.263529 \nL 249.653608 38.294427 \nL 250.263555 34.909606 \nL 250.873502 38.294427 \nL 251.483449 37.617451 \nL 252.093396 37.617451 \nL 252.703344 38.971374 \nL 253.313291 34.232659 \nL 253.923238 36.940504 \nL 254.533185 36.263529 \nL 255.753079 36.263529 \nL 256.363027 35.586582 \nL 256.972974 32.878737 \nL 257.582921 34.232659 \nL 258.192868 34.909606 \nL 258.802815 34.232659 \nL 259.412762 35.586582 \nL 260.02271 38.294427 \nL 260.632657 36.263529 \nL 261.242604 37.617451 \nL 261.852551 35.586582 \nL 263.072445 35.586582 \nL 264.29234 36.940504 \nL 264.902287 36.263529 \nL 265.512234 34.909606 \nL 266.122181 32.878737 \nL 266.732128 36.263529 \nL 267.342076 36.940504 \nL 267.952023 36.263529 \nL 268.56197 32.878737 \nL 269.171917 36.940504 \nL 269.781864 37.617451 \nL 270.391811 40.325296 \nL 271.001759 35.586582 \nL 271.611706 34.909606 \nL 272.221653 34.909606 \nL 272.8316 36.940504 \nL 273.441547 37.617451 \nL 274.051494 36.263529 \nL 274.661442 36.940504 \nL 276.491283 34.909606 \nL 277.10123 38.294427 \nL 277.711177 36.940504 \nL 278.321125 37.617451 \nL 278.931072 37.617451 \nL 279.541019 35.586582 \nL 280.760913 35.586582 \nL 281.37086 38.971374 \nL 281.980808 35.586582 \nL 282.590755 36.940504 \nL 283.200702 36.940504 \nL 283.810649 38.294427 \nL 284.420596 34.909606 \nL 285.030543 36.263529 \nL 285.640491 36.263529 \nL 286.250438 37.617451 \nL 286.860385 37.617451 \nL 287.470332 38.294427 \nL 288.080279 36.940504 \nL 288.690226 38.971374 \nL 289.300174 37.617451 \nL 289.910121 37.617451 \nL 290.520068 36.263529 \nL 291.130015 35.586582 \nL 291.739962 36.263529 \nL 292.349909 34.232659 \nL 292.959857 36.940504 \nL 294.179751 35.586582 \nL 294.789698 38.971374 \nL 295.399645 35.586582 \nL 296.009592 34.232659 \nL 296.61954 36.940504 \nL 297.229487 34.909606 \nL 297.839434 33.555684 \nL 298.449381 37.617451 \nL 299.059328 38.971374 \nL 299.669275 37.617451 \nL 300.279223 32.878737 \nL 300.88917 36.940504 \nL 301.499117 38.971374 \nL 302.109064 35.586582 \nL 302.719011 38.294427 \nL 303.328958 35.586582 \nL 303.938906 36.940504 \nL 304.548853 32.201761 \nL 305.1588 34.909606 \nL 305.768747 38.294427 \nL 306.378694 34.909606 \nL 306.988641 35.586582 \nL 307.598589 34.232659 \nL 308.208536 33.555684 \nL 308.818483 36.940504 \nL 309.42843 37.617451 \nL 310.038377 35.586582 \nL 310.648324 35.586582 \nL 311.258272 36.263529 \nL 311.868219 35.586582 \nL 312.478166 34.232659 \nL 313.088113 35.586582 \nL 313.69806 34.232659 \nL 314.308007 36.263529 \nL 314.917955 35.586582 \nL 315.527902 35.586582 \nL 316.137849 37.617451 \nL 316.747796 37.617451 \nL 317.357743 36.940504 \nL 317.96769 35.586582 \nL 319.187585 36.940504 \nL 319.797532 35.586582 \nL 320.407479 34.909606 \nL 321.017426 36.263529 \nL 322.237321 36.263529 \nL 323.457215 34.909606 \nL 324.067162 37.617451 \nL 325.287056 34.909606 \nL 325.897004 36.263529 \nL 326.506951 34.232659 \nL 327.116898 36.263529 \nL 327.726845 37.617451 \nL 328.336792 36.940504 \nL 328.94674 34.232659 \nL 329.556687 36.263529 \nL 330.776581 34.909606 \nL 331.386528 33.555684 \nL 331.996475 37.617451 \nL 332.606423 37.617451 \nL 333.21637 36.263529 \nL 333.826317 36.263529 \nL 335.046211 34.909606 \nL 335.656158 36.263529 \nL 336.266106 34.232659 \nL 336.876053 36.940504 \nL 337.486 36.263529 \nL 338.095947 33.555684 \nL 338.705894 36.940504 \nL 339.315841 34.909606 \nL 339.925789 37.617451 \nL 340.535736 35.586582 \nL 341.145683 34.909606 \nL 341.75563 36.940504 \nL 342.365577 36.940504 \nL 342.975524 34.232659 \nL 343.585472 35.586582 \nL 344.195419 35.586582 \nL 344.805366 36.263529 \nL 345.415313 34.909606 \nL 346.02526 35.586582 \nL 346.635207 34.232659 \nL 347.245155 34.909606 \nL 347.855102 33.555684 \nL 348.465049 32.878737 \nL 349.074996 36.940504 \nL 349.684943 36.940504 \nL 349.684943 36.940504 \n\" style=\"fill:none;stroke:#1f77b4;stroke-linecap:square;stroke-width:1.5;\"/>\n   </g>\n   <g id=\"line2d_12\">\n    <path clip-path=\"url(#p8de43bc1e1)\" d=\"M 45.321307 153.672831 \nL 45.931254 153.672831 \nL 46.541201 115.974793 \nL 47.151148 67.505879 \nL 47.761095 62.120441 \nL 48.371043 102.511212 \nL 48.98099 78.276726 \nL 49.590937 105.203917 \nL 50.810831 64.813145 \nL 51.420778 70.198583 \nL 52.030726 67.505879 \nL 52.640673 80.96946 \nL 53.25062 75.584021 \nL 53.860567 78.276726 \nL 54.470514 67.505879 \nL 55.080461 78.276726 \nL 56.300356 62.120441 \nL 57.52025 78.276726 \nL 58.740144 62.120441 \nL 59.350092 62.120441 \nL 59.960039 70.198583 \nL 60.569986 62.120441 \nL 61.179933 78.276726 \nL 61.78988 67.505879 \nL 62.399827 94.43304 \nL 63.009775 70.198583 \nL 63.619722 70.198583 \nL 64.229669 67.505879 \nL 64.839616 70.198583 \nL 66.05951 70.198583 \nL 66.669458 62.120441 \nL 67.889352 78.276726 \nL 68.499299 70.198583 \nL 69.109246 67.505879 \nL 69.719194 70.198583 \nL 70.329141 62.120441 \nL 70.939088 70.198583 \nL 71.549035 70.198583 \nL 72.158982 62.120441 \nL 72.768929 70.198583 \nL 73.378877 62.120441 \nL 73.988824 70.198583 \nL 74.598771 62.120441 \nL 75.208718 67.505879 \nL 75.818665 75.584021 \nL 76.428612 67.505879 \nL 77.03856 62.120441 \nL 77.648507 70.198583 \nL 78.258454 70.198583 \nL 78.868401 62.120441 \nL 79.478348 70.198583 \nL 80.088295 62.120441 \nL 80.698243 70.198583 \nL 81.918137 70.198583 \nL 82.528084 62.120441 \nL 83.138031 62.120441 \nL 83.747978 70.198583 \nL 84.357926 75.584021 \nL 84.967873 67.505879 \nL 85.57782 62.120441 \nL 86.187767 67.505879 \nL 86.797714 67.505879 \nL 87.407661 70.198583 \nL 88.017609 67.505879 \nL 88.627556 70.198583 \nL 89.237503 67.505879 \nL 90.457397 67.505879 \nL 91.067344 62.120441 \nL 91.677292 67.505879 \nL 92.287239 70.198583 \nL 92.897186 67.505879 \nL 93.507133 62.120441 \nL 94.727027 62.120441 \nL 95.336975 67.505879 \nL 95.946922 70.198583 \nL 96.556869 70.198583 \nL 97.166816 64.813145 \nL 97.776763 62.120441 \nL 98.38671 62.120441 \nL 98.996658 67.505879 \nL 99.606605 62.120441 \nL 100.216552 67.505879 \nL 100.826499 62.120441 \nL 101.436446 67.505879 \nL 104.486182 67.505879 \nL 105.096129 59.427707 \nL 106.316024 59.427707 \nL 106.925971 67.505879 \nL 109.365759 67.505879 \nL 109.975707 70.198583 \nL 110.585654 67.505879 \nL 111.195601 62.120441 \nL 111.805548 67.505879 \nL 112.415495 70.198583 \nL 113.025442 67.505879 \nL 113.63539 62.120441 \nL 114.245337 67.505879 \nL 114.855284 67.505879 \nL 115.465231 70.198583 \nL 116.075178 67.505879 \nL 117.295073 67.505879 \nL 117.90502 59.427707 \nL 118.514967 67.505879 \nL 119.124914 59.427707 \nL 119.734861 67.505879 \nL 120.344808 59.427707 \nL 120.954756 62.120441 \nL 121.564703 62.120441 \nL 122.17465 67.505879 \nL 122.784597 59.427707 \nL 123.394544 67.505879 \nL 126.44428 67.505879 \nL 127.054227 59.427707 \nL 127.664174 67.505879 \nL 128.274122 59.427707 \nL 128.884069 67.505879 \nL 144.132748 67.505879 \nL 144.742695 62.120441 \nL 145.352642 67.505879 \nL 171.58037 67.505879 \nL 172.190318 70.198583 \nL 172.800265 67.505879 \nL 176.459948 67.505879 \nL 177.069895 59.427707 \nL 177.679842 67.505879 \nL 195.978257 67.505879 \nL 196.588204 70.198583 \nL 197.198151 67.505879 \nL 269.171917 67.505879 \nL 269.781864 62.120441 \nL 270.391811 67.505879 \nL 349.684943 67.505879 \nL 349.684943 67.505879 \n\" style=\"fill:none;stroke:#ff7f0e;stroke-linecap:square;stroke-width:1.5;\"/>\n   </g>\n   <g id=\"patch_3\">\n    <path d=\"M 30.103125 239.758125 \nL 30.103125 22.318125 \n\" style=\"fill:none;stroke:#000000;stroke-linecap:square;stroke-linejoin:miter;stroke-width:0.8;\"/>\n   </g>\n   <g id=\"patch_4\">\n    <path d=\"M 364.903125 239.758125 \nL 364.903125 22.318125 \n\" style=\"fill:none;stroke:#000000;stroke-linecap:square;stroke-linejoin:miter;stroke-width:0.8;\"/>\n   </g>\n   <g id=\"patch_5\">\n    <path d=\"M 30.103125 239.758125 \nL 364.903125 239.758125 \n\" style=\"fill:none;stroke:#000000;stroke-linecap:square;stroke-linejoin:miter;stroke-width:0.8;\"/>\n   </g>\n   <g id=\"patch_6\">\n    <path d=\"M 30.103125 22.318125 \nL 364.903125 22.318125 \n\" style=\"fill:none;stroke:#000000;stroke-linecap:square;stroke-linejoin:miter;stroke-width:0.8;\"/>\n   </g>\n   <g id=\"text_11\">\n    <!-- Training and validation accuracy -->\n    <g transform=\"translate(100.21125 16.318125)scale(0.12 -0.12)\">\n     <defs>\n      <path d=\"M -0.296875 72.90625 \nL 61.375 72.90625 \nL 61.375 64.59375 \nL 35.5 64.59375 \nL 35.5 0 \nL 25.59375 0 \nL 25.59375 64.59375 \nL -0.296875 64.59375 \nz\n\" id=\"DejaVuSans-84\"/>\n      <path d=\"M 41.109375 46.296875 \nQ 39.59375 47.171875 37.8125 47.578125 \nQ 36.03125 48 33.890625 48 \nQ 26.265625 48 22.1875 43.046875 \nQ 18.109375 38.09375 18.109375 28.8125 \nL 18.109375 0 \nL 9.078125 0 \nL 9.078125 54.6875 \nL 18.109375 54.6875 \nL 18.109375 46.1875 \nQ 20.953125 51.171875 25.484375 53.578125 \nQ 30.03125 56 36.53125 56 \nQ 37.453125 56 38.578125 55.875 \nQ 39.703125 55.765625 41.0625 55.515625 \nz\n\" id=\"DejaVuSans-114\"/>\n      <path d=\"M 34.28125 27.484375 \nQ 23.390625 27.484375 19.1875 25 \nQ 14.984375 22.515625 14.984375 16.5 \nQ 14.984375 11.71875 18.140625 8.90625 \nQ 21.296875 6.109375 26.703125 6.109375 \nQ 34.1875 6.109375 38.703125 11.40625 \nQ 43.21875 16.703125 43.21875 25.484375 \nL 43.21875 27.484375 \nz\nM 52.203125 31.203125 \nL 52.203125 0 \nL 43.21875 0 \nL 43.21875 8.296875 \nQ 40.140625 3.328125 35.546875 0.953125 \nQ 30.953125 -1.421875 24.3125 -1.421875 \nQ 15.921875 -1.421875 10.953125 3.296875 \nQ 6 8.015625 6 15.921875 \nQ 6 25.140625 12.171875 29.828125 \nQ 18.359375 34.515625 30.609375 34.515625 \nL 43.21875 34.515625 \nL 43.21875 35.40625 \nQ 43.21875 41.609375 39.140625 45 \nQ 35.0625 48.390625 27.6875 48.390625 \nQ 23 48.390625 18.546875 47.265625 \nQ 14.109375 46.140625 10.015625 43.890625 \nL 10.015625 52.203125 \nQ 14.9375 54.109375 19.578125 55.046875 \nQ 24.21875 56 28.609375 56 \nQ 40.484375 56 46.34375 49.84375 \nQ 52.203125 43.703125 52.203125 31.203125 \nz\n\" id=\"DejaVuSans-97\"/>\n      <path d=\"M 9.421875 54.6875 \nL 18.40625 54.6875 \nL 18.40625 0 \nL 9.421875 0 \nz\nM 9.421875 75.984375 \nL 18.40625 75.984375 \nL 18.40625 64.59375 \nL 9.421875 64.59375 \nz\n\" id=\"DejaVuSans-105\"/>\n      <path d=\"M 54.890625 33.015625 \nL 54.890625 0 \nL 45.90625 0 \nL 45.90625 32.71875 \nQ 45.90625 40.484375 42.875 44.328125 \nQ 39.84375 48.1875 33.796875 48.1875 \nQ 26.515625 48.1875 22.3125 43.546875 \nQ 18.109375 38.921875 18.109375 30.90625 \nL 18.109375 0 \nL 9.078125 0 \nL 9.078125 54.6875 \nL 18.109375 54.6875 \nL 18.109375 46.1875 \nQ 21.34375 51.125 25.703125 53.5625 \nQ 30.078125 56 35.796875 56 \nQ 45.21875 56 50.046875 50.171875 \nQ 54.890625 44.34375 54.890625 33.015625 \nz\n\" id=\"DejaVuSans-110\"/>\n      <path d=\"M 45.40625 27.984375 \nQ 45.40625 37.75 41.375 43.109375 \nQ 37.359375 48.484375 30.078125 48.484375 \nQ 22.859375 48.484375 18.828125 43.109375 \nQ 14.796875 37.75 14.796875 27.984375 \nQ 14.796875 18.265625 18.828125 12.890625 \nQ 22.859375 7.515625 30.078125 7.515625 \nQ 37.359375 7.515625 41.375 12.890625 \nQ 45.40625 18.265625 45.40625 27.984375 \nz\nM 54.390625 6.78125 \nQ 54.390625 -7.171875 48.1875 -13.984375 \nQ 42 -20.796875 29.203125 -20.796875 \nQ 24.46875 -20.796875 20.265625 -20.09375 \nQ 16.0625 -19.390625 12.109375 -17.921875 \nL 12.109375 -9.1875 \nQ 16.0625 -11.328125 19.921875 -12.34375 \nQ 23.78125 -13.375 27.78125 -13.375 \nQ 36.625 -13.375 41.015625 -8.765625 \nQ 45.40625 -4.15625 45.40625 5.171875 \nL 45.40625 9.625 \nQ 42.625 4.78125 38.28125 2.390625 \nQ 33.9375 0 27.875 0 \nQ 17.828125 0 11.671875 7.65625 \nQ 5.515625 15.328125 5.515625 27.984375 \nQ 5.515625 40.671875 11.671875 48.328125 \nQ 17.828125 56 27.875 56 \nQ 33.9375 56 38.28125 53.609375 \nQ 42.625 51.21875 45.40625 46.390625 \nL 45.40625 54.6875 \nL 54.390625 54.6875 \nz\n\" id=\"DejaVuSans-103\"/>\n      <path id=\"DejaVuSans-32\"/>\n      <path d=\"M 45.40625 46.390625 \nL 45.40625 75.984375 \nL 54.390625 75.984375 \nL 54.390625 0 \nL 45.40625 0 \nL 45.40625 8.203125 \nQ 42.578125 3.328125 38.25 0.953125 \nQ 33.9375 -1.421875 27.875 -1.421875 \nQ 17.96875 -1.421875 11.734375 6.484375 \nQ 5.515625 14.40625 5.515625 27.296875 \nQ 5.515625 40.1875 11.734375 48.09375 \nQ 17.96875 56 27.875 56 \nQ 33.9375 56 38.25 53.625 \nQ 42.578125 51.265625 45.40625 46.390625 \nz\nM 14.796875 27.296875 \nQ 14.796875 17.390625 18.875 11.75 \nQ 22.953125 6.109375 30.078125 6.109375 \nQ 37.203125 6.109375 41.296875 11.75 \nQ 45.40625 17.390625 45.40625 27.296875 \nQ 45.40625 37.203125 41.296875 42.84375 \nQ 37.203125 48.484375 30.078125 48.484375 \nQ 22.953125 48.484375 18.875 42.84375 \nQ 14.796875 37.203125 14.796875 27.296875 \nz\n\" id=\"DejaVuSans-100\"/>\n      <path d=\"M 2.984375 54.6875 \nL 12.5 54.6875 \nL 29.59375 8.796875 \nL 46.6875 54.6875 \nL 56.203125 54.6875 \nL 35.6875 0 \nL 23.484375 0 \nz\n\" id=\"DejaVuSans-118\"/>\n      <path d=\"M 9.421875 75.984375 \nL 18.40625 75.984375 \nL 18.40625 0 \nL 9.421875 0 \nz\n\" id=\"DejaVuSans-108\"/>\n      <path d=\"M 18.3125 70.21875 \nL 18.3125 54.6875 \nL 36.8125 54.6875 \nL 36.8125 47.703125 \nL 18.3125 47.703125 \nL 18.3125 18.015625 \nQ 18.3125 11.328125 20.140625 9.421875 \nQ 21.96875 7.515625 27.59375 7.515625 \nL 36.8125 7.515625 \nL 36.8125 0 \nL 27.59375 0 \nQ 17.1875 0 13.234375 3.875 \nQ 9.28125 7.765625 9.28125 18.015625 \nL 9.28125 47.703125 \nL 2.6875 47.703125 \nL 2.6875 54.6875 \nL 9.28125 54.6875 \nL 9.28125 70.21875 \nz\n\" id=\"DejaVuSans-116\"/>\n      <path d=\"M 30.609375 48.390625 \nQ 23.390625 48.390625 19.1875 42.75 \nQ 14.984375 37.109375 14.984375 27.296875 \nQ 14.984375 17.484375 19.15625 11.84375 \nQ 23.34375 6.203125 30.609375 6.203125 \nQ 37.796875 6.203125 41.984375 11.859375 \nQ 46.1875 17.53125 46.1875 27.296875 \nQ 46.1875 37.015625 41.984375 42.703125 \nQ 37.796875 48.390625 30.609375 48.390625 \nz\nM 30.609375 56 \nQ 42.328125 56 49.015625 48.375 \nQ 55.71875 40.765625 55.71875 27.296875 \nQ 55.71875 13.875 49.015625 6.21875 \nQ 42.328125 -1.421875 30.609375 -1.421875 \nQ 18.84375 -1.421875 12.171875 6.21875 \nQ 5.515625 13.875 5.515625 27.296875 \nQ 5.515625 40.765625 12.171875 48.375 \nQ 18.84375 56 30.609375 56 \nz\n\" id=\"DejaVuSans-111\"/>\n      <path d=\"M 48.78125 52.59375 \nL 48.78125 44.1875 \nQ 44.96875 46.296875 41.140625 47.34375 \nQ 37.3125 48.390625 33.40625 48.390625 \nQ 24.65625 48.390625 19.8125 42.84375 \nQ 14.984375 37.3125 14.984375 27.296875 \nQ 14.984375 17.28125 19.8125 11.734375 \nQ 24.65625 6.203125 33.40625 6.203125 \nQ 37.3125 6.203125 41.140625 7.25 \nQ 44.96875 8.296875 48.78125 10.40625 \nL 48.78125 2.09375 \nQ 45.015625 0.34375 40.984375 -0.53125 \nQ 36.96875 -1.421875 32.421875 -1.421875 \nQ 20.0625 -1.421875 12.78125 6.34375 \nQ 5.515625 14.109375 5.515625 27.296875 \nQ 5.515625 40.671875 12.859375 48.328125 \nQ 20.21875 56 33.015625 56 \nQ 37.15625 56 41.109375 55.140625 \nQ 45.0625 54.296875 48.78125 52.59375 \nz\n\" id=\"DejaVuSans-99\"/>\n      <path d=\"M 8.5 21.578125 \nL 8.5 54.6875 \nL 17.484375 54.6875 \nL 17.484375 21.921875 \nQ 17.484375 14.15625 20.5 10.265625 \nQ 23.53125 6.390625 29.59375 6.390625 \nQ 36.859375 6.390625 41.078125 11.03125 \nQ 45.3125 15.671875 45.3125 23.6875 \nL 45.3125 54.6875 \nL 54.296875 54.6875 \nL 54.296875 0 \nL 45.3125 0 \nL 45.3125 8.40625 \nQ 42.046875 3.421875 37.71875 1 \nQ 33.40625 -1.421875 27.6875 -1.421875 \nQ 18.265625 -1.421875 13.375 4.4375 \nQ 8.5 10.296875 8.5 21.578125 \nz\nM 31.109375 56 \nz\n\" id=\"DejaVuSans-117\"/>\n      <path d=\"M 32.171875 -5.078125 \nQ 28.375 -14.84375 24.75 -17.8125 \nQ 21.140625 -20.796875 15.09375 -20.796875 \nL 7.90625 -20.796875 \nL 7.90625 -13.28125 \nL 13.1875 -13.28125 \nQ 16.890625 -13.28125 18.9375 -11.515625 \nQ 21 -9.765625 23.484375 -3.21875 \nL 25.09375 0.875 \nL 2.984375 54.6875 \nL 12.5 54.6875 \nL 29.59375 11.921875 \nL 46.6875 54.6875 \nL 56.203125 54.6875 \nz\n\" id=\"DejaVuSans-121\"/>\n     </defs>\n     <use xlink:href=\"#DejaVuSans-84\"/>\n     <use x=\"46.333984\" xlink:href=\"#DejaVuSans-114\"/>\n     <use x=\"87.447266\" xlink:href=\"#DejaVuSans-97\"/>\n     <use x=\"148.726562\" xlink:href=\"#DejaVuSans-105\"/>\n     <use x=\"176.509766\" xlink:href=\"#DejaVuSans-110\"/>\n     <use x=\"239.888672\" xlink:href=\"#DejaVuSans-105\"/>\n     <use x=\"267.671875\" xlink:href=\"#DejaVuSans-110\"/>\n     <use x=\"331.050781\" xlink:href=\"#DejaVuSans-103\"/>\n     <use x=\"394.527344\" xlink:href=\"#DejaVuSans-32\"/>\n     <use x=\"426.314453\" xlink:href=\"#DejaVuSans-97\"/>\n     <use x=\"487.59375\" xlink:href=\"#DejaVuSans-110\"/>\n     <use x=\"550.972656\" xlink:href=\"#DejaVuSans-100\"/>\n     <use x=\"614.449219\" xlink:href=\"#DejaVuSans-32\"/>\n     <use x=\"646.236328\" xlink:href=\"#DejaVuSans-118\"/>\n     <use x=\"705.416016\" xlink:href=\"#DejaVuSans-97\"/>\n     <use x=\"766.695312\" xlink:href=\"#DejaVuSans-108\"/>\n     <use x=\"794.478516\" xlink:href=\"#DejaVuSans-105\"/>\n     <use x=\"822.261719\" xlink:href=\"#DejaVuSans-100\"/>\n     <use x=\"885.738281\" xlink:href=\"#DejaVuSans-97\"/>\n     <use x=\"947.017578\" xlink:href=\"#DejaVuSans-116\"/>\n     <use x=\"986.226562\" xlink:href=\"#DejaVuSans-105\"/>\n     <use x=\"1014.009766\" xlink:href=\"#DejaVuSans-111\"/>\n     <use x=\"1075.191406\" xlink:href=\"#DejaVuSans-110\"/>\n     <use x=\"1138.570312\" xlink:href=\"#DejaVuSans-32\"/>\n     <use x=\"1170.357422\" xlink:href=\"#DejaVuSans-97\"/>\n     <use x=\"1231.636719\" xlink:href=\"#DejaVuSans-99\"/>\n     <use x=\"1286.617188\" xlink:href=\"#DejaVuSans-99\"/>\n     <use x=\"1341.597656\" xlink:href=\"#DejaVuSans-117\"/>\n     <use x=\"1404.976562\" xlink:href=\"#DejaVuSans-114\"/>\n     <use x=\"1446.089844\" xlink:href=\"#DejaVuSans-97\"/>\n     <use x=\"1507.369141\" xlink:href=\"#DejaVuSans-99\"/>\n     <use x=\"1562.349609\" xlink:href=\"#DejaVuSans-121\"/>\n    </g>\n   </g>\n  </g>\n </g>\n <defs>\n  <clipPath id=\"p8de43bc1e1\">\n   <rect height=\"217.44\" width=\"334.8\" x=\"30.103125\" y=\"22.318125\"/>\n  </clipPath>\n </defs>\n</svg>\n",
      "image/png": "[encoded data removed]"
     },
     "metadata": {
      "needs_background": "light"
     }
    },
    {
     "output_type": "display_data",
     "data": {
      "text/plain": "<Figure size 432x288 with 1 Axes>",
      "image/svg+xml": "<?xml version=\"1.0\" encoding=\"utf-8\" standalone=\"no\"?>\n<!DOCTYPE svg PUBLIC \"-//W3C//DTD SVG 1.1//EN\"\n  \"http://www.w3.org/Graphics/SVG/1.1/DTD/svg11.dtd\">\n<!-- Created with matplotlib (https://matplotlib.org/) -->\n<svg height=\"263.63625pt\" version=\"1.1\" viewBox=\"0 0 372.103125 263.63625\" width=\"372.103125pt\" xmlns=\"http://www.w3.org/2000/svg\" xmlns:xlink=\"http://www.w3.org/1999/xlink\">\n <metadata>\n  <rdf:RDF xmlns:cc=\"http://creativecommons.org/ns#\" xmlns:dc=\"http://purl.org/dc/elements/1.1/\" xmlns:rdf=\"http://www.w3.org/1999/02/22-rdf-syntax-ns#\">\n   <cc:Work>\n    <dc:type rdf:resource=\"http://purl.org/dc/dcmitype/StillImage\"/>\n    <dc:date>2021-02-13T07:52:21.770704</dc:date>\n    <dc:format>image/svg+xml</dc:format>\n    <dc:creator>\n     <cc:Agent>\n      <dc:title>Matplotlib v3.3.2, https://matplotlib.org/</dc:title>\n     </cc:Agent>\n    </dc:creator>\n   </cc:Work>\n  </rdf:RDF>\n </metadata>\n <defs>\n  <style type=\"text/css\">*{stroke-linecap:butt;stroke-linejoin:round;}</style>\n </defs>\n <g id=\"figure_1\">\n  <g id=\"patch_1\">\n   <path d=\"M 0 263.63625 \nL 372.103125 263.63625 \nL 372.103125 0 \nL 0 0 \nz\n\" style=\"fill:none;\"/>\n  </g>\n  <g id=\"axes_1\">\n   <g id=\"patch_2\">\n    <path d=\"M 30.103125 239.758125 \nL 364.903125 239.758125 \nL 364.903125 22.318125 \nL 30.103125 22.318125 \nz\n\" style=\"fill:#ffffff;\"/>\n   </g>\n   <g id=\"matplotlib.axis_1\">\n    <g id=\"xtick_1\">\n     <g id=\"line2d_1\">\n      <defs>\n       <path d=\"M 0 0 \nL 0 3.5 \n\" id=\"me5ba5607bf\" style=\"stroke:#000000;stroke-width:0.8;\"/>\n      </defs>\n      <g>\n       <use style=\"stroke:#000000;stroke-width:0.8;\" x=\"45.321307\" xlink:href=\"#me5ba5607bf\" y=\"239.758125\"/>\n      </g>\n     </g>\n     <g id=\"text_1\">\n      <!-- 0 -->\n      <g transform=\"translate(42.140057 254.356563)scale(0.1 -0.1)\">\n       <defs>\n        <path d=\"M 31.78125 66.40625 \nQ 24.171875 66.40625 20.328125 58.90625 \nQ 16.5 51.421875 16.5 36.375 \nQ 16.5 21.390625 20.328125 13.890625 \nQ 24.171875 6.390625 31.78125 6.390625 \nQ 39.453125 6.390625 43.28125 13.890625 \nQ 47.125 21.390625 47.125 36.375 \nQ 47.125 51.421875 43.28125 58.90625 \nQ 39.453125 66.40625 31.78125 66.40625 \nz\nM 31.78125 74.21875 \nQ 44.046875 74.21875 50.515625 64.515625 \nQ 56.984375 54.828125 56.984375 36.375 \nQ 56.984375 17.96875 50.515625 8.265625 \nQ 44.046875 -1.421875 31.78125 -1.421875 \nQ 19.53125 -1.421875 13.0625 8.265625 \nQ 6.59375 17.96875 6.59375 36.375 \nQ 6.59375 54.828125 13.0625 64.515625 \nQ 19.53125 74.21875 31.78125 74.21875 \nz\n\" id=\"DejaVuSans-48\"/>\n       </defs>\n       <use xlink:href=\"#DejaVuSans-48\"/>\n      </g>\n     </g>\n    </g>\n    <g id=\"xtick_2\">\n     <g id=\"line2d_2\">\n      <g>\n       <use style=\"stroke:#000000;stroke-width:0.8;\" x=\"106.316024\" xlink:href=\"#me5ba5607bf\" y=\"239.758125\"/>\n      </g>\n     </g>\n     <g id=\"text_2\">\n      <!-- 100 -->\n      <g transform=\"translate(96.772274 254.356563)scale(0.1 -0.1)\">\n       <defs>\n        <path d=\"M 12.40625 8.296875 \nL 28.515625 8.296875 \nL 28.515625 63.921875 \nL 10.984375 60.40625 \nL 10.984375 69.390625 \nL 28.421875 72.90625 \nL 38.28125 72.90625 \nL 38.28125 8.296875 \nL 54.390625 8.296875 \nL 54.390625 0 \nL 12.40625 0 \nz\n\" id=\"DejaVuSans-49\"/>\n       </defs>\n       <use xlink:href=\"#DejaVuSans-49\"/>\n       <use x=\"63.623047\" xlink:href=\"#DejaVuSans-48\"/>\n       <use x=\"127.246094\" xlink:href=\"#DejaVuSans-48\"/>\n      </g>\n     </g>\n    </g>\n    <g id=\"xtick_3\">\n     <g id=\"line2d_3\">\n      <g>\n       <use style=\"stroke:#000000;stroke-width:0.8;\" x=\"167.31074\" xlink:href=\"#me5ba5607bf\" y=\"239.758125\"/>\n      </g>\n     </g>\n     <g id=\"text_3\">\n      <!-- 200 -->\n      <g transform=\"translate(157.76699 254.356563)scale(0.1 -0.1)\">\n       <defs>\n        <path d=\"M 19.1875 8.296875 \nL 53.609375 8.296875 \nL 53.609375 0 \nL 7.328125 0 \nL 7.328125 8.296875 \nQ 12.9375 14.109375 22.625 23.890625 \nQ 32.328125 33.6875 34.8125 36.53125 \nQ 39.546875 41.84375 41.421875 45.53125 \nQ 43.3125 49.21875 43.3125 52.78125 \nQ 43.3125 58.59375 39.234375 62.25 \nQ 35.15625 65.921875 28.609375 65.921875 \nQ 23.96875 65.921875 18.8125 64.3125 \nQ 13.671875 62.703125 7.8125 59.421875 \nL 7.8125 69.390625 \nQ 13.765625 71.78125 18.9375 73 \nQ 24.125 74.21875 28.421875 74.21875 \nQ 39.75 74.21875 46.484375 68.546875 \nQ 53.21875 62.890625 53.21875 53.421875 \nQ 53.21875 48.921875 51.53125 44.890625 \nQ 49.859375 40.875 45.40625 35.40625 \nQ 44.1875 33.984375 37.640625 27.21875 \nQ 31.109375 20.453125 19.1875 8.296875 \nz\n\" id=\"DejaVuSans-50\"/>\n       </defs>\n       <use xlink:href=\"#DejaVuSans-50\"/>\n       <use x=\"63.623047\" xlink:href=\"#DejaVuSans-48\"/>\n       <use x=\"127.246094\" xlink:href=\"#DejaVuSans-48\"/>\n      </g>\n     </g>\n    </g>\n    <g id=\"xtick_4\">\n     <g id=\"line2d_4\">\n      <g>\n       <use style=\"stroke:#000000;stroke-width:0.8;\" x=\"228.305457\" xlink:href=\"#me5ba5607bf\" y=\"239.758125\"/>\n      </g>\n     </g>\n     <g id=\"text_4\">\n      <!-- 300 -->\n      <g transform=\"translate(218.761707 254.356563)scale(0.1 -0.1)\">\n       <defs>\n        <path d=\"M 40.578125 39.3125 \nQ 47.65625 37.796875 51.625 33 \nQ 55.609375 28.21875 55.609375 21.1875 \nQ 55.609375 10.40625 48.1875 4.484375 \nQ 40.765625 -1.421875 27.09375 -1.421875 \nQ 22.515625 -1.421875 17.65625 -0.515625 \nQ 12.796875 0.390625 7.625 2.203125 \nL 7.625 11.71875 \nQ 11.71875 9.328125 16.59375 8.109375 \nQ 21.484375 6.890625 26.8125 6.890625 \nQ 36.078125 6.890625 40.9375 10.546875 \nQ 45.796875 14.203125 45.796875 21.1875 \nQ 45.796875 27.640625 41.28125 31.265625 \nQ 36.765625 34.90625 28.71875 34.90625 \nL 20.21875 34.90625 \nL 20.21875 43.015625 \nL 29.109375 43.015625 \nQ 36.375 43.015625 40.234375 45.921875 \nQ 44.09375 48.828125 44.09375 54.296875 \nQ 44.09375 59.90625 40.109375 62.90625 \nQ 36.140625 65.921875 28.71875 65.921875 \nQ 24.65625 65.921875 20.015625 65.03125 \nQ 15.375 64.15625 9.8125 62.3125 \nL 9.8125 71.09375 \nQ 15.4375 72.65625 20.34375 73.4375 \nQ 25.25 74.21875 29.59375 74.21875 \nQ 40.828125 74.21875 47.359375 69.109375 \nQ 53.90625 64.015625 53.90625 55.328125 \nQ 53.90625 49.265625 50.4375 45.09375 \nQ 46.96875 40.921875 40.578125 39.3125 \nz\n\" id=\"DejaVuSans-51\"/>\n       </defs>\n       <use xlink:href=\"#DejaVuSans-51\"/>\n       <use x=\"63.623047\" xlink:href=\"#DejaVuSans-48\"/>\n       <use x=\"127.246094\" xlink:href=\"#DejaVuSans-48\"/>\n      </g>\n     </g>\n    </g>\n    <g id=\"xtick_5\">\n     <g id=\"line2d_5\">\n      <g>\n       <use style=\"stroke:#000000;stroke-width:0.8;\" x=\"289.300174\" xlink:href=\"#me5ba5607bf\" y=\"239.758125\"/>\n      </g>\n     </g>\n     <g id=\"text_5\">\n      <!-- 400 -->\n      <g transform=\"translate(279.756424 254.356563)scale(0.1 -0.1)\">\n       <defs>\n        <path d=\"M 37.796875 64.3125 \nL 12.890625 25.390625 \nL 37.796875 25.390625 \nz\nM 35.203125 72.90625 \nL 47.609375 72.90625 \nL 47.609375 25.390625 \nL 58.015625 25.390625 \nL 58.015625 17.1875 \nL 47.609375 17.1875 \nL 47.609375 0 \nL 37.796875 0 \nL 37.796875 17.1875 \nL 4.890625 17.1875 \nL 4.890625 26.703125 \nz\n\" id=\"DejaVuSans-52\"/>\n       </defs>\n       <use xlink:href=\"#DejaVuSans-52\"/>\n       <use x=\"63.623047\" xlink:href=\"#DejaVuSans-48\"/>\n       <use x=\"127.246094\" xlink:href=\"#DejaVuSans-48\"/>\n      </g>\n     </g>\n    </g>\n    <g id=\"xtick_6\">\n     <g id=\"line2d_6\">\n      <g>\n       <use style=\"stroke:#000000;stroke-width:0.8;\" x=\"350.29489\" xlink:href=\"#me5ba5607bf\" y=\"239.758125\"/>\n      </g>\n     </g>\n     <g id=\"text_6\">\n      <!-- 500 -->\n      <g transform=\"translate(340.75114 254.356563)scale(0.1 -0.1)\">\n       <defs>\n        <path d=\"M 10.796875 72.90625 \nL 49.515625 72.90625 \nL 49.515625 64.59375 \nL 19.828125 64.59375 \nL 19.828125 46.734375 \nQ 21.96875 47.46875 24.109375 47.828125 \nQ 26.265625 48.1875 28.421875 48.1875 \nQ 40.625 48.1875 47.75 41.5 \nQ 54.890625 34.8125 54.890625 23.390625 \nQ 54.890625 11.625 47.5625 5.09375 \nQ 40.234375 -1.421875 26.90625 -1.421875 \nQ 22.3125 -1.421875 17.546875 -0.640625 \nQ 12.796875 0.140625 7.71875 1.703125 \nL 7.71875 11.625 \nQ 12.109375 9.234375 16.796875 8.0625 \nQ 21.484375 6.890625 26.703125 6.890625 \nQ 35.15625 6.890625 40.078125 11.328125 \nQ 45.015625 15.765625 45.015625 23.390625 \nQ 45.015625 31 40.078125 35.4375 \nQ 35.15625 39.890625 26.703125 39.890625 \nQ 22.75 39.890625 18.8125 39.015625 \nQ 14.890625 38.140625 10.796875 36.28125 \nz\n\" id=\"DejaVuSans-53\"/>\n       </defs>\n       <use xlink:href=\"#DejaVuSans-53\"/>\n       <use x=\"63.623047\" xlink:href=\"#DejaVuSans-48\"/>\n       <use x=\"127.246094\" xlink:href=\"#DejaVuSans-48\"/>\n      </g>\n     </g>\n    </g>\n   </g>\n   <g id=\"matplotlib.axis_2\">\n    <g id=\"ytick_1\">\n     <g id=\"line2d_7\">\n      <defs>\n       <path d=\"M 0 0 \nL -3.5 0 \n\" id=\"m31a8a47275\" style=\"stroke:#000000;stroke-width:0.8;\"/>\n      </defs>\n      <g>\n       <use style=\"stroke:#000000;stroke-width:0.8;\" x=\"30.103125\" xlink:href=\"#m31a8a47275\" y=\"208.639242\"/>\n      </g>\n     </g>\n     <g id=\"text_7\">\n      <!-- 0.4 -->\n      <g transform=\"translate(7.2 212.438461)scale(0.1 -0.1)\">\n       <defs>\n        <path d=\"M 10.6875 12.40625 \nL 21 12.40625 \nL 21 0 \nL 10.6875 0 \nz\n\" id=\"DejaVuSans-46\"/>\n       </defs>\n       <use xlink:href=\"#DejaVuSans-48\"/>\n       <use x=\"63.623047\" xlink:href=\"#DejaVuSans-46\"/>\n       <use x=\"95.410156\" xlink:href=\"#DejaVuSans-52\"/>\n      </g>\n     </g>\n    </g>\n    <g id=\"ytick_2\">\n     <g id=\"line2d_8\">\n      <g>\n       <use style=\"stroke:#000000;stroke-width:0.8;\" x=\"30.103125\" xlink:href=\"#m31a8a47275\" y=\"174.150551\"/>\n      </g>\n     </g>\n     <g id=\"text_8\">\n      <!-- 0.5 -->\n      <g transform=\"translate(7.2 177.94977)scale(0.1 -0.1)\">\n       <use xlink:href=\"#DejaVuSans-48\"/>\n       <use x=\"63.623047\" xlink:href=\"#DejaVuSans-46\"/>\n       <use x=\"95.410156\" xlink:href=\"#DejaVuSans-53\"/>\n      </g>\n     </g>\n    </g>\n    <g id=\"ytick_3\">\n     <g id=\"line2d_9\">\n      <g>\n       <use style=\"stroke:#000000;stroke-width:0.8;\" x=\"30.103125\" xlink:href=\"#m31a8a47275\" y=\"139.66186\"/>\n      </g>\n     </g>\n     <g id=\"text_9\">\n      <!-- 0.6 -->\n      <g transform=\"translate(7.2 143.461079)scale(0.1 -0.1)\">\n       <defs>\n        <path d=\"M 33.015625 40.375 \nQ 26.375 40.375 22.484375 35.828125 \nQ 18.609375 31.296875 18.609375 23.390625 \nQ 18.609375 15.53125 22.484375 10.953125 \nQ 26.375 6.390625 33.015625 6.390625 \nQ 39.65625 6.390625 43.53125 10.953125 \nQ 47.40625 15.53125 47.40625 23.390625 \nQ 47.40625 31.296875 43.53125 35.828125 \nQ 39.65625 40.375 33.015625 40.375 \nz\nM 52.59375 71.296875 \nL 52.59375 62.3125 \nQ 48.875 64.0625 45.09375 64.984375 \nQ 41.3125 65.921875 37.59375 65.921875 \nQ 27.828125 65.921875 22.671875 59.328125 \nQ 17.53125 52.734375 16.796875 39.40625 \nQ 19.671875 43.65625 24.015625 45.921875 \nQ 28.375 48.1875 33.59375 48.1875 \nQ 44.578125 48.1875 50.953125 41.515625 \nQ 57.328125 34.859375 57.328125 23.390625 \nQ 57.328125 12.15625 50.6875 5.359375 \nQ 44.046875 -1.421875 33.015625 -1.421875 \nQ 20.359375 -1.421875 13.671875 8.265625 \nQ 6.984375 17.96875 6.984375 36.375 \nQ 6.984375 53.65625 15.1875 63.9375 \nQ 23.390625 74.21875 37.203125 74.21875 \nQ 40.921875 74.21875 44.703125 73.484375 \nQ 48.484375 72.75 52.59375 71.296875 \nz\n\" id=\"DejaVuSans-54\"/>\n       </defs>\n       <use xlink:href=\"#DejaVuSans-48\"/>\n       <use x=\"63.623047\" xlink:href=\"#DejaVuSans-46\"/>\n       <use x=\"95.410156\" xlink:href=\"#DejaVuSans-54\"/>\n      </g>\n     </g>\n    </g>\n    <g id=\"ytick_4\">\n     <g id=\"line2d_10\">\n      <g>\n       <use style=\"stroke:#000000;stroke-width:0.8;\" x=\"30.103125\" xlink:href=\"#m31a8a47275\" y=\"105.173169\"/>\n      </g>\n     </g>\n     <g id=\"text_10\">\n      <!-- 0.7 -->\n      <g transform=\"translate(7.2 108.972388)scale(0.1 -0.1)\">\n       <defs>\n        <path d=\"M 8.203125 72.90625 \nL 55.078125 72.90625 \nL 55.078125 68.703125 \nL 28.609375 0 \nL 18.3125 0 \nL 43.21875 64.59375 \nL 8.203125 64.59375 \nz\n\" id=\"DejaVuSans-55\"/>\n       </defs>\n       <use xlink:href=\"#DejaVuSans-48\"/>\n       <use x=\"63.623047\" xlink:href=\"#DejaVuSans-46\"/>\n       <use x=\"95.410156\" xlink:href=\"#DejaVuSans-55\"/>\n      </g>\n     </g>\n    </g>\n    <g id=\"ytick_5\">\n     <g id=\"line2d_11\">\n      <g>\n       <use style=\"stroke:#000000;stroke-width:0.8;\" x=\"30.103125\" xlink:href=\"#m31a8a47275\" y=\"70.684478\"/>\n      </g>\n     </g>\n     <g id=\"text_11\">\n      <!-- 0.8 -->\n      <g transform=\"translate(7.2 74.483697)scale(0.1 -0.1)\">\n       <defs>\n        <path d=\"M 31.78125 34.625 \nQ 24.75 34.625 20.71875 30.859375 \nQ 16.703125 27.09375 16.703125 20.515625 \nQ 16.703125 13.921875 20.71875 10.15625 \nQ 24.75 6.390625 31.78125 6.390625 \nQ 38.8125 6.390625 42.859375 10.171875 \nQ 46.921875 13.96875 46.921875 20.515625 \nQ 46.921875 27.09375 42.890625 30.859375 \nQ 38.875 34.625 31.78125 34.625 \nz\nM 21.921875 38.8125 \nQ 15.578125 40.375 12.03125 44.71875 \nQ 8.5 49.078125 8.5 55.328125 \nQ 8.5 64.0625 14.71875 69.140625 \nQ 20.953125 74.21875 31.78125 74.21875 \nQ 42.671875 74.21875 48.875 69.140625 \nQ 55.078125 64.0625 55.078125 55.328125 \nQ 55.078125 49.078125 51.53125 44.71875 \nQ 48 40.375 41.703125 38.8125 \nQ 48.828125 37.15625 52.796875 32.3125 \nQ 56.78125 27.484375 56.78125 20.515625 \nQ 56.78125 9.90625 50.3125 4.234375 \nQ 43.84375 -1.421875 31.78125 -1.421875 \nQ 19.734375 -1.421875 13.25 4.234375 \nQ 6.78125 9.90625 6.78125 20.515625 \nQ 6.78125 27.484375 10.78125 32.3125 \nQ 14.796875 37.15625 21.921875 38.8125 \nz\nM 18.3125 54.390625 \nQ 18.3125 48.734375 21.84375 45.5625 \nQ 25.390625 42.390625 31.78125 42.390625 \nQ 38.140625 42.390625 41.71875 45.5625 \nQ 45.3125 48.734375 45.3125 54.390625 \nQ 45.3125 60.0625 41.71875 63.234375 \nQ 38.140625 66.40625 31.78125 66.40625 \nQ 25.390625 66.40625 21.84375 63.234375 \nQ 18.3125 60.0625 18.3125 54.390625 \nz\n\" id=\"DejaVuSans-56\"/>\n       </defs>\n       <use xlink:href=\"#DejaVuSans-48\"/>\n       <use x=\"63.623047\" xlink:href=\"#DejaVuSans-46\"/>\n       <use x=\"95.410156\" xlink:href=\"#DejaVuSans-56\"/>\n      </g>\n     </g>\n    </g>\n    <g id=\"ytick_6\">\n     <g id=\"line2d_12\">\n      <g>\n       <use style=\"stroke:#000000;stroke-width:0.8;\" x=\"30.103125\" xlink:href=\"#m31a8a47275\" y=\"36.195787\"/>\n      </g>\n     </g>\n     <g id=\"text_12\">\n      <!-- 0.9 -->\n      <g transform=\"translate(7.2 39.995006)scale(0.1 -0.1)\">\n       <defs>\n        <path d=\"M 10.984375 1.515625 \nL 10.984375 10.5 \nQ 14.703125 8.734375 18.5 7.8125 \nQ 22.3125 6.890625 25.984375 6.890625 \nQ 35.75 6.890625 40.890625 13.453125 \nQ 46.046875 20.015625 46.78125 33.40625 \nQ 43.953125 29.203125 39.59375 26.953125 \nQ 35.25 24.703125 29.984375 24.703125 \nQ 19.046875 24.703125 12.671875 31.3125 \nQ 6.296875 37.9375 6.296875 49.421875 \nQ 6.296875 60.640625 12.9375 67.421875 \nQ 19.578125 74.21875 30.609375 74.21875 \nQ 43.265625 74.21875 49.921875 64.515625 \nQ 56.59375 54.828125 56.59375 36.375 \nQ 56.59375 19.140625 48.40625 8.859375 \nQ 40.234375 -1.421875 26.421875 -1.421875 \nQ 22.703125 -1.421875 18.890625 -0.6875 \nQ 15.09375 0.046875 10.984375 1.515625 \nz\nM 30.609375 32.421875 \nQ 37.25 32.421875 41.125 36.953125 \nQ 45.015625 41.5 45.015625 49.421875 \nQ 45.015625 57.28125 41.125 61.84375 \nQ 37.25 66.40625 30.609375 66.40625 \nQ 23.96875 66.40625 20.09375 61.84375 \nQ 16.21875 57.28125 16.21875 49.421875 \nQ 16.21875 41.5 20.09375 36.953125 \nQ 23.96875 32.421875 30.609375 32.421875 \nz\n\" id=\"DejaVuSans-57\"/>\n       </defs>\n       <use xlink:href=\"#DejaVuSans-48\"/>\n       <use x=\"63.623047\" xlink:href=\"#DejaVuSans-46\"/>\n       <use x=\"95.410156\" xlink:href=\"#DejaVuSans-57\"/>\n      </g>\n     </g>\n    </g>\n   </g>\n   <g id=\"line2d_13\">\n    <path clip-path=\"url(#p7e5fd5bb31)\" d=\"M 45.321307 104.821507 \nL 45.931254 113.946246 \nL 47.761095 154.727483 \nL 48.371043 163.485261 \nL 48.98099 156.334515 \nL 49.590937 151.495163 \nL 50.200884 170.611009 \nL 50.810831 185.676773 \nL 51.420778 185.031483 \nL 52.030726 187.019619 \nL 52.640673 180.870096 \nL 53.25062 187.619499 \nL 53.860567 188.042344 \nL 54.470514 194.705851 \nL 55.080461 193.745537 \nL 55.690409 189.799072 \nL 56.300356 190.170236 \nL 56.910303 197.824964 \nL 57.52025 192.421305 \nL 58.130197 202.598113 \nL 58.740144 198.799688 \nL 59.350092 200.39637 \nL 59.960039 203.477474 \nL 60.569986 193.189494 \nL 61.179933 200.043841 \nL 61.78988 201.072342 \nL 62.399827 193.306124 \nL 63.009775 204.718985 \nL 63.619722 192.413658 \nL 64.839616 201.40415 \nL 65.449563 208.769735 \nL 66.05951 207.364005 \nL 66.669458 205.273989 \nL 67.279405 209.979835 \nL 67.889352 202.927393 \nL 68.499299 192.479265 \nL 69.109246 195.96982 \nL 69.719194 203.307684 \nL 70.329141 209.070986 \nL 70.939088 213.130164 \nL 71.549035 209.227608 \nL 72.158982 210.605185 \nL 72.768929 209.542704 \nL 73.378877 206.586144 \nL 73.988824 207.902606 \nL 75.208718 205.669072 \nL 75.818665 203.164269 \nL 76.428612 201.651428 \nL 77.03856 203.457297 \nL 77.648507 214.94443 \nL 78.258454 210.399041 \nL 78.868401 208.860339 \nL 79.478348 209.657853 \nL 80.088295 213.197601 \nL 80.698243 208.392558 \nL 81.918137 214.870662 \nL 83.138031 205.136084 \nL 83.747978 212.887213 \nL 84.357926 208.352996 \nL 84.967873 201.933551 \nL 85.57782 215.301925 \nL 86.187767 213.206821 \nL 86.797714 214.231858 \nL 87.407661 213.874734 \nL 88.017609 207.397133 \nL 88.627556 215.434907 \nL 89.237503 213.788436 \nL 89.84745 220.409565 \nL 91.067344 219.798502 \nL 91.677292 215.90164 \nL 92.287239 215.029587 \nL 92.897186 206.471622 \nL 93.507133 214.514504 \nL 94.11708 214.163424 \nL 94.727027 215.171604 \nL 95.336975 210.187501 \nL 96.556869 216.773066 \nL 97.166816 217.654349 \nL 97.776763 216.844347 \nL 98.38671 215.630187 \nL 98.996658 221.384803 \nL 99.606605 213.35373 \nL 100.216552 215.899626 \nL 100.826499 215.332143 \nL 101.436446 214.324672 \nL 102.046393 215.487563 \nL 102.656341 216.118957 \nL 103.266288 211.682437 \nL 103.876235 216.720677 \nL 105.096129 221.652515 \nL 105.706076 218.129141 \nL 106.925971 214.408359 \nL 107.535918 219.564965 \nL 108.145865 217.402939 \nL 108.755812 222.234531 \nL 109.365759 219.324378 \nL 109.975707 212.664212 \nL 110.585654 210.122901 \nL 111.195601 211.804945 \nL 111.805548 211.690094 \nL 112.415495 220.031791 \nL 113.025442 218.865847 \nL 114.245337 218.21587 \nL 114.855284 223.245877 \nL 115.465231 214.820031 \nL 116.075178 218.684094 \nL 116.685125 215.512519 \nL 117.295073 218.878294 \nL 117.90502 219.877276 \nL 118.514967 214.476782 \nL 119.124914 213.799835 \nL 119.734861 223.001446 \nL 120.344808 213.974506 \nL 120.954756 217.392804 \nL 121.564703 218.012511 \nL 122.17465 216.433549 \nL 122.784597 218.692594 \nL 123.394544 221.78302 \nL 124.004491 215.139721 \nL 124.614439 218.566169 \nL 125.224386 217.695453 \nL 125.834333 222.265623 \nL 126.44428 217.053791 \nL 127.054227 221.322279 \nL 127.664174 217.024065 \nL 128.274122 215.846198 \nL 128.884069 224.585516 \nL 129.494016 219.952175 \nL 130.103963 223.349011 \nL 130.71391 221.522811 \nL 131.323857 220.680689 \nL 131.933805 221.485449 \nL 132.543752 216.591559 \nL 133.153699 225.411913 \nL 133.763646 213.421229 \nL 134.373593 218.906447 \nL 134.98354 219.750676 \nL 135.593488 214.843712 \nL 136.203435 221.617219 \nL 136.813382 217.769488 \nL 137.423329 222.436903 \nL 138.033276 221.838421 \nL 138.643223 216.208636 \nL 139.253171 219.895181 \nL 139.863118 222.38364 \nL 140.473065 220.500755 \nL 141.083012 222.233925 \nL 141.692959 219.013507 \nL 142.302906 218.831044 \nL 142.912854 219.325272 \nL 143.522801 222.327242 \nL 144.132748 221.853458 \nL 144.742695 217.518869 \nL 145.352642 216.161438 \nL 145.962589 213.177702 \nL 147.182484 217.970236 \nL 148.402378 216.74774 \nL 149.012325 219.905151 \nL 149.622272 214.626354 \nL 150.23222 219.705369 \nL 151.452114 219.741169 \nL 152.062061 221.409995 \nL 152.672008 223.456811 \nL 153.281955 220.12365 \nL 153.891903 218.170388 \nL 154.50185 219.557781 \nL 155.721744 218.061971 \nL 156.331691 222.865329 \nL 156.941638 226.562223 \nL 157.551586 223.733496 \nL 158.161533 220.176224 \nL 158.77148 222.967887 \nL 159.381427 211.874387 \nL 159.991374 219.211665 \nL 160.601321 213.347142 \nL 161.211269 216.215379 \nL 161.821216 217.083372 \nL 162.431163 222.270958 \nL 163.04111 222.176468 \nL 163.651057 221.193141 \nL 164.870952 225.175128 \nL 165.480899 218.246561 \nL 166.090846 223.140934 \nL 167.31074 220.975567 \nL 167.920687 222.104797 \nL 168.530635 222.04585 \nL 169.140582 220.586672 \nL 169.750529 216.610338 \nL 170.360476 220.059882 \nL 170.970423 228.827754 \nL 171.58037 219.835165 \nL 172.190318 218.795964 \nL 172.800265 219.96934 \nL 173.410212 222.267545 \nL 174.020159 222.367781 \nL 174.630106 224.981853 \nL 175.240053 219.321613 \nL 175.850001 219.526267 \nL 176.459948 220.266396 \nL 177.069895 216.395519 \nL 177.679842 220.868086 \nL 178.289789 223.407567 \nL 178.899736 222.470236 \nL 179.509684 223.046434 \nL 180.119631 222.084281 \nL 180.729578 220.577165 \nL 181.339525 220.656278 \nL 181.949472 222.285502 \nL 182.559419 224.370923 \nL 183.169367 224.350274 \nL 183.779314 221.871538 \nL 184.999208 219.264671 \nL 185.609155 219.62605 \nL 186.219102 218.711691 \nL 186.82905 222.271246 \nL 187.438997 218.738066 \nL 188.048944 217.720265 \nL 188.658891 224.576883 \nL 189.268838 226.886837 \nL 189.878785 220.779969 \nL 190.488733 221.976296 \nL 191.09868 221.273703 \nL 191.708627 222.194918 \nL 192.318574 218.361557 \nL 192.928521 219.393501 \nL 193.538468 219.900721 \nL 194.148416 220.145532 \nL 194.758363 224.606032 \nL 195.36831 222.232989 \nL 195.978257 220.537593 \nL 196.588204 220.075639 \nL 197.198151 220.002189 \nL 197.808099 216.894866 \nL 198.418046 222.291515 \nL 199.027993 220.46402 \nL 199.63794 221.626983 \nL 200.247887 220.368215 \nL 200.857834 219.625711 \nL 202.077729 227.885366 \nL 202.687676 223.498891 \nL 203.297623 216.550692 \nL 203.90757 224.053844 \nL 204.517517 219.583282 \nL 205.127465 218.830335 \nL 205.737412 223.683348 \nL 206.347359 223.486012 \nL 206.957306 217.975447 \nL 207.567253 222.297404 \nL 208.1772 218.816367 \nL 208.787148 220.860932 \nL 209.397095 222.252703 \nL 210.616989 221.270918 \nL 211.226936 221.707299 \nL 211.836883 218.759147 \nL 212.446831 226.335553 \nL 213.056778 218.180543 \nL 213.666725 218.207257 \nL 214.276672 225.211514 \nL 214.886619 225.32582 \nL 215.496566 222.297034 \nL 216.106514 221.77083 \nL 216.716461 218.823685 \nL 217.326408 221.924523 \nL 217.936355 220.846768 \nL 218.546302 217.318707 \nL 219.156249 223.303549 \nL 219.766197 224.86694 \nL 220.376144 219.735937 \nL 220.986091 222.332217 \nL 221.596038 222.225517 \nL 222.205985 225.099613 \nL 222.815932 221.789033 \nL 223.42588 220.133383 \nL 224.035827 223.936968 \nL 224.645774 221.11115 \nL 225.255721 221.556329 \nL 225.865668 223.931531 \nL 226.475615 218.767411 \nL 227.085563 223.594028 \nL 227.69551 223.453851 \nL 228.305457 224.119246 \nL 228.915404 221.559012 \nL 229.525351 222.053507 \nL 230.135298 221.350966 \nL 230.745246 227.11806 \nL 231.96514 220.496736 \nL 232.575087 221.221242 \nL 233.185034 219.533904 \nL 233.794981 221.818799 \nL 234.404929 223.13487 \nL 235.014876 222.512881 \nL 235.624823 223.925734 \nL 236.23477 219.905048 \nL 236.844717 220.856111 \nL 237.454664 217.566612 \nL 238.064612 221.659669 \nL 238.674559 219.675479 \nL 239.284506 220.910731 \nL 239.894453 220.535054 \nL 240.5044 222.169427 \nL 241.724295 218.227228 \nL 242.334242 221.12446 \nL 242.944189 222.462034 \nL 243.554136 219.558356 \nL 244.164083 218.118502 \nL 244.77403 220.415536 \nL 245.383978 222.237039 \nL 245.993925 222.198834 \nL 246.603872 222.35705 \nL 247.213819 223.929043 \nL 247.823766 222.744927 \nL 248.433713 220.086339 \nL 249.043661 223.538309 \nL 249.653608 220.106978 \nL 250.263555 222.41906 \nL 250.873502 220.456496 \nL 251.483449 222.150556 \nL 252.093396 227.328244 \nL 252.703344 219.970357 \nL 253.313291 225.439952 \nL 253.923238 222.727361 \nL 255.143132 222.488696 \nL 255.753079 223.338784 \nL 256.363027 220.824906 \nL 256.972974 224.525799 \nL 257.582921 220.978558 \nL 258.192868 225.944623 \nL 258.802815 225.487336 \nL 259.412762 225.282497 \nL 260.02271 222.094498 \nL 260.632657 224.386834 \nL 261.242604 221.280497 \nL 261.852551 222.616847 \nL 262.462498 222.143012 \nL 263.072445 223.055531 \nL 263.682393 225.133151 \nL 264.29234 225.639641 \nL 264.902287 218.706552 \nL 265.512234 223.470142 \nL 266.122181 222.202154 \nL 266.732128 226.396083 \nL 267.342076 217.818208 \nL 267.952023 224.939937 \nL 268.56197 224.274193 \nL 269.171917 225.273061 \nL 269.781864 222.084795 \nL 270.391811 220.900596 \nL 271.001759 225.375445 \nL 271.611706 223.675793 \nL 272.221653 223.527383 \nL 272.8316 221.440954 \nL 273.441547 220.794975 \nL 274.051494 224.671989 \nL 274.661442 224.21281 \nL 275.271389 218.857275 \nL 275.881336 219.483016 \nL 276.491283 218.232901 \nL 277.10123 222.105526 \nL 277.711177 219.805316 \nL 278.321125 220.678798 \nL 278.931072 224.060063 \nL 279.541019 223.830206 \nL 280.150966 221.429586 \nL 281.980808 227.484682 \nL 282.590755 224.479844 \nL 283.200702 219.156501 \nL 284.420596 223.289817 \nL 285.030543 225.177287 \nL 285.640491 221.135068 \nL 286.250438 223.391944 \nL 286.860385 221.567903 \nL 287.470332 222.088824 \nL 288.080279 225.015494 \nL 288.690226 222.400507 \nL 289.300174 223.97027 \nL 289.910121 218.316938 \nL 290.520068 221.485737 \nL 291.130015 220.569446 \nL 291.739962 222.651455 \nL 292.349909 219.95864 \nL 292.959857 226.398704 \nL 293.569804 222.766039 \nL 294.179751 228.775395 \nL 294.789698 220.402956 \nL 295.399645 222.370186 \nL 296.009592 222.04845 \nL 296.61954 218.434091 \nL 297.839434 224.40918 \nL 298.449381 215.173568 \nL 299.059328 224.403629 \nL 300.279223 224.591087 \nL 300.88917 221.41718 \nL 301.499117 219.039779 \nL 302.109064 223.938561 \nL 302.719011 223.334035 \nL 303.328958 221.379592 \nL 303.938906 222.819106 \nL 304.548853 225.389588 \nL 305.1588 215.869746 \nL 305.768747 222.173097 \nL 306.378694 221.460843 \nL 306.988641 218.140056 \nL 307.598589 223.376105 \nL 308.208536 222.303088 \nL 308.818483 217.506216 \nL 309.42843 222.059921 \nL 310.038377 229.874489 \nL 310.648324 220.810362 \nL 311.258272 221.346372 \nL 311.868219 222.601235 \nL 312.478166 224.279466 \nL 313.088113 221.731124 \nL 313.69806 226.844027 \nL 314.308007 222.960435 \nL 314.917955 225.598528 \nL 315.527902 226.272526 \nL 316.137849 221.903216 \nL 316.747796 223.861021 \nL 317.357743 220.891253 \nL 317.96769 225.973711 \nL 318.577638 223.012197 \nL 319.187585 219.21223 \nL 319.797532 221.649298 \nL 320.407479 226.610378 \nL 321.017426 219.74824 \nL 321.627373 220.787862 \nL 322.237321 222.2031 \nL 322.847268 221.859204 \nL 323.457215 222.976068 \nL 324.067162 224.655461 \nL 324.677109 224.343151 \nL 325.287056 221.373774 \nL 325.897004 227.040746 \nL 326.506951 220.790103 \nL 327.116898 219.532979 \nL 327.726845 225.800807 \nL 328.336792 223.99684 \nL 328.94674 223.927183 \nL 329.556687 224.548946 \nL 330.166634 221.760942 \nL 330.776581 223.155519 \nL 331.386528 228.656669 \nL 331.996475 224.272847 \nL 332.606423 225.410679 \nL 333.21637 224.587295 \nL 333.826317 224.487758 \nL 334.436264 229.733602 \nL 335.046211 220.991077 \nL 335.656158 222.29245 \nL 336.266106 221.2385 \nL 336.876053 223.653109 \nL 337.486 222.326122 \nL 338.095947 223.242968 \nL 338.705894 222.156158 \nL 339.925789 222.791344 \nL 340.535736 225.945014 \nL 341.145683 222.662247 \nL 341.75563 223.216471 \nL 342.365577 222.904921 \nL 342.975524 226.21509 \nL 343.585472 221.715768 \nL 344.195419 219.672005 \nL 344.805366 223.811633 \nL 345.415313 220.566609 \nL 346.02526 221.539647 \nL 346.635207 225.488826 \nL 347.245155 226.745261 \nL 347.855102 226.040202 \nL 348.465049 222.901334 \nL 349.074996 223.450624 \nL 349.684943 220.056367 \nL 349.684943 220.056367 \n\" style=\"fill:none;stroke:#1f77b4;stroke-linecap:square;stroke-width:1.5;\"/>\n   </g>\n   <g id=\"line2d_14\">\n    <path clip-path=\"url(#p7e5fd5bb31)\" d=\"M 45.321307 112.266832 \nL 45.931254 124.96312 \nL 46.541201 143.779432 \nL 47.761095 161.232804 \nL 48.371043 150.211407 \nL 48.98099 146.024283 \nL 49.590937 157.251988 \nL 50.200884 170.680861 \nL 50.810831 178.047238 \nL 52.030726 180.949507 \nL 52.640673 179.29249 \nL 53.25062 181.076733 \nL 53.860567 178.838122 \nL 54.470514 183.962475 \nL 55.080461 178.008108 \nL 55.690409 182.948867 \nL 56.300356 180.529941 \nL 56.910303 183.783527 \nL 57.52025 180.169374 \nL 58.130197 183.532055 \nL 58.740144 183.011257 \nL 59.350092 185.405957 \nL 59.960039 183.346057 \nL 60.569986 184.387385 \nL 61.179933 182.103066 \nL 61.78988 183.248206 \nL 62.399827 174.055805 \nL 63.009775 180.499651 \nL 63.619722 172.974904 \nL 64.229669 182.704621 \nL 64.839616 179.934944 \nL 65.449563 182.291346 \nL 66.05951 178.252611 \nL 66.669458 182.560702 \nL 67.279405 174.493265 \nL 67.889352 177.061259 \nL 68.499299 170.448466 \nL 69.109246 181.839557 \nL 69.719194 177.247946 \nL 70.329141 181.28261 \nL 70.939088 178.034277 \nL 71.549035 175.684658 \nL 72.158982 179.431897 \nL 72.768929 173.451124 \nL 73.378877 179.536922 \nL 73.988824 168.583794 \nL 74.598771 177.748423 \nL 75.208718 165.131064 \nL 75.818665 171.527948 \nL 76.428612 168.24327 \nL 77.03856 177.661201 \nL 77.648507 173.409045 \nL 78.258454 173.390399 \nL 78.868401 175.000187 \nL 79.478348 170.375839 \nL 80.088295 173.27855 \nL 81.30819 169.810874 \nL 81.918137 169.940403 \nL 82.528084 165.038352 \nL 83.138031 172.179539 \nL 83.747978 158.438592 \nL 84.357926 167.80695 \nL 84.967873 166.17307 \nL 85.57782 171.146926 \nL 86.797714 168.533101 \nL 87.407661 168.082474 \nL 88.627556 165.295395 \nL 89.237503 162.795578 \nL 89.84745 162.193467 \nL 90.457397 161.806978 \nL 91.067344 165.195962 \nL 91.677292 157.193813 \nL 92.287239 163.496423 \nL 92.897186 158.912243 \nL 93.507133 163.569235 \nL 94.11708 161.344202 \nL 94.727027 164.158457 \nL 95.336975 161.62838 \nL 95.946922 162.637968 \nL 96.556869 162.873858 \nL 97.166816 160.493497 \nL 97.776763 160.845657 \nL 98.38671 159.485677 \nL 98.996658 152.354625 \nL 99.606605 161.138757 \nL 100.216552 155.864318 \nL 100.826499 160.8406 \nL 101.436446 157.618764 \nL 102.046393 159.205178 \nL 102.656341 156.614088 \nL 103.266288 157.519207 \nL 103.876235 155.290946 \nL 104.486182 156.811249 \nL 105.096129 156.336612 \nL 105.706076 156.166154 \nL 106.316024 157.436527 \nL 106.925971 156.915863 \nL 107.535918 152.377155 \nL 108.145865 152.112773 \nL 109.365759 147.297657 \nL 109.975707 154.402417 \nL 110.585654 145.257861 \nL 111.195601 155.000683 \nL 111.805548 151.12703 \nL 112.415495 151.602326 \nL 113.025442 151.786433 \nL 113.63539 153.906215 \nL 114.245337 150.99006 \nL 114.855284 146.33611 \nL 115.465231 152.499448 \nL 116.075178 150.226784 \nL 116.685125 152.320932 \nL 117.295073 149.928586 \nL 117.90502 148.048188 \nL 118.514967 145.416252 \nL 119.124914 150.646349 \nL 119.734861 143.751249 \nL 120.344808 151.042069 \nL 120.954756 146.082685 \nL 121.564703 147.327321 \nL 122.17465 146.056722 \nL 122.784597 150.129529 \nL 123.394544 145.739509 \nL 124.004491 145.9843 \nL 124.614439 144.317035 \nL 125.224386 143.322721 \nL 125.834333 144.222042 \nL 126.44428 143.297086 \nL 127.054227 145.835098 \nL 127.664174 141.542085 \nL 128.274122 144.267452 \nL 128.884069 138.717696 \nL 129.494016 138.493688 \nL 130.103963 135.257873 \nL 130.71391 135.886194 \nL 131.323857 140.097863 \nL 131.933805 135.368777 \nL 132.543752 141.01583 \nL 133.153699 130.214288 \nL 133.763646 139.631818 \nL 134.373593 135.056745 \nL 134.98354 132.023169 \nL 135.593488 140.912984 \nL 136.203435 133.839326 \nL 136.813382 140.704331 \nL 137.423329 137.112554 \nL 138.033276 138.507995 \nL 138.643223 136.500577 \nL 139.253171 136.833104 \nL 139.863118 136.471077 \nL 140.473065 134.076141 \nL 141.083012 129.772912 \nL 141.692959 134.390168 \nL 142.302906 130.815556 \nL 142.912854 133.597722 \nL 143.522801 131.48795 \nL 144.132748 131.834662 \nL 144.742695 136.563542 \nL 145.352642 131.351761 \nL 145.962589 138.964008 \nL 146.572537 137.791671 \nL 147.182484 135.777468 \nL 147.792431 132.87007 \nL 148.402378 132.601166 \nL 149.012325 131.077245 \nL 149.622272 132.036448 \nL 150.23222 127.033689 \nL 150.842167 127.937349 \nL 151.452114 131.144281 \nL 152.062061 127.576329 \nL 152.672008 129.303928 \nL 153.281955 128.946505 \nL 153.891903 128.39147 \nL 154.50185 125.607845 \nL 155.111797 125.859605 \nL 155.721744 128.042764 \nL 156.331691 120.534925 \nL 156.941638 126.682064 \nL 157.551586 127.948059 \nL 158.161533 125.711143 \nL 158.77148 124.545713 \nL 159.381427 127.625645 \nL 159.991374 124.371 \nL 160.601321 124.110833 \nL 161.211269 130.885244 \nL 161.821216 133.160827 \nL 162.431163 126.632995 \nL 163.04111 126.58039 \nL 163.651057 125.004254 \nL 164.261004 125.982288 \nL 164.870952 120.729517 \nL 165.480899 129.7518 \nL 166.090846 119.891228 \nL 166.700793 128.57679 \nL 167.31074 123.642116 \nL 167.920687 124.627632 \nL 168.530635 124.290849 \nL 169.140582 120.757289 \nL 169.750529 125.718071 \nL 170.360476 119.641339 \nL 170.970423 118.938993 \nL 171.58037 120.410454 \nL 172.190318 119.329204 \nL 172.800265 123.52379 \nL 173.410212 116.374977 \nL 174.020159 117.967065 \nL 174.630106 112.710922 \nL 175.240053 120.936997 \nL 175.850001 119.930163 \nL 176.459948 115.233763 \nL 177.069895 120.416929 \nL 178.289789 113.650576 \nL 178.899736 114.970553 \nL 179.509684 111.535995 \nL 180.119631 122.140622 \nL 180.729578 116.421621 \nL 181.339525 114.83239 \nL 181.949472 114.708967 \nL 182.559419 118.832201 \nL 183.169367 114.214554 \nL 183.779314 117.959706 \nL 184.389261 114.239859 \nL 184.999208 118.080765 \nL 185.609155 117.999093 \nL 186.219102 116.313635 \nL 186.82905 113.717715 \nL 187.438997 116.8631 \nL 188.048944 115.694216 \nL 188.658891 113.366748 \nL 189.268838 108.421815 \nL 189.878785 115.899641 \nL 190.488733 111.294349 \nL 191.09868 114.995735 \nL 191.708627 110.557324 \nL 192.318574 117.811573 \nL 192.928521 113.624078 \nL 193.538468 114.894904 \nL 194.148416 115.541684 \nL 194.758363 109.199111 \nL 195.36831 111.440796 \nL 195.978257 109.617854 \nL 196.588204 113.821753 \nL 197.198151 107.729254 \nL 197.808099 114.453281 \nL 198.418046 110.429069 \nL 199.027993 112.195048 \nL 199.63794 106.999321 \nL 200.247887 108.36625 \nL 200.857834 108.18278 \nL 201.467782 104.930623 \nL 202.077729 98.128542 \nL 202.687676 106.614086 \nL 203.297623 103.904363 \nL 203.90757 99.752144 \nL 204.517517 100.964053 \nL 205.127465 107.527016 \nL 205.737412 103.924282 \nL 206.347359 102.006368 \nL 206.957306 106.885251 \nL 207.567253 96.472687 \nL 208.1772 103.949094 \nL 208.787148 97.687536 \nL 210.007042 102.373164 \nL 210.616989 95.980309 \nL 211.226936 102.362002 \nL 211.836883 100.309337 \nL 212.446831 97.682438 \nL 213.056778 103.134179 \nL 213.666725 97.648683 \nL 214.276672 94.496638 \nL 214.886619 95.952968 \nL 215.496566 94.143882 \nL 216.716461 89.226352 \nL 217.326408 88.580085 \nL 217.936355 90.601503 \nL 218.546302 95.252534 \nL 219.156249 88.732001 \nL 219.766197 87.878254 \nL 220.376144 93.316201 \nL 220.986091 87.194121 \nL 221.596038 90.593815 \nL 222.205985 84.54759 \nL 222.815932 92.287063 \nL 223.42588 90.435157 \nL 224.035827 87.088932 \nL 224.645774 92.405902 \nL 225.865668 90.891622 \nL 226.475615 91.507074 \nL 227.085563 87.200391 \nL 227.69551 89.274332 \nL 228.305457 89.25285 \nL 228.915404 93.900921 \nL 229.525351 84.921848 \nL 230.135298 90.55301 \nL 230.745246 79.709039 \nL 231.96514 95.329499 \nL 232.575087 87.735157 \nL 233.185034 86.96298 \nL 233.794981 81.90776 \nL 234.404929 92.643273 \nL 235.014876 88.95385 \nL 235.624823 86.370881 \nL 236.23477 87.830747 \nL 236.844717 89.803301 \nL 237.454664 90.490167 \nL 238.064612 85.490965 \nL 238.674559 89.259346 \nL 239.284506 85.187443 \nL 239.894453 93.206531 \nL 240.5044 84.96068 \nL 241.114347 92.900912 \nL 241.724295 88.324872 \nL 242.334242 91.909023 \nL 242.944189 87.585812 \nL 243.554136 93.076508 \nL 244.164083 88.131679 \nL 244.77403 87.517604 \nL 245.383978 85.350767 \nL 245.993925 82.671324 \nL 246.603872 85.74402 \nL 247.213819 82.94066 \nL 247.823766 82.546585 \nL 249.043661 85.641235 \nL 249.653608 85.340242 \nL 250.263555 84.737165 \nL 250.873502 86.402086 \nL 251.483449 76.536293 \nL 252.093396 75.780109 \nL 252.703344 86.991122 \nL 253.313291 77.710624 \nL 253.923238 84.777765 \nL 254.533185 80.647583 \nL 255.143132 91.723929 \nL 255.753079 83.594718 \nL 256.363027 82.25626 \nL 256.972974 81.69551 \nL 257.582921 82.685488 \nL 258.192868 80.249232 \nL 258.802815 81.542012 \nL 259.412762 76.097116 \nL 260.02271 80.848794 \nL 260.632657 79.051507 \nL 261.242604 79.596428 \nL 261.852551 73.246311 \nL 262.462498 79.569006 \nL 263.072445 72.370774 \nL 263.682393 70.942401 \nL 264.29234 73.015828 \nL 264.902287 82.48954 \nL 265.512234 69.482247 \nL 266.122181 78.030797 \nL 266.732128 69.287943 \nL 267.342076 83.122629 \nL 267.952023 71.003085 \nL 269.171917 64.553554 \nL 269.781864 67.496721 \nL 270.391811 74.005003 \nL 271.001759 74.59515 \nL 271.611706 66.881598 \nL 272.221653 72.159881 \nL 272.8316 73.119455 \nL 273.441547 74.977055 \nL 274.051494 68.329069 \nL 275.271389 73.408957 \nL 275.881336 72.406687 \nL 276.491283 75.98724 \nL 277.10123 66.42279 \nL 277.711177 69.580468 \nL 278.321125 69.186557 \nL 278.931072 61.671955 \nL 279.541019 66.261912 \nL 280.150966 66.008651 \nL 280.760913 61.751633 \nL 281.37086 69.468165 \nL 281.980808 61.361546 \nL 282.590755 68.918352 \nL 283.200702 74.374862 \nL 283.810649 63.778129 \nL 284.420596 68.716936 \nL 285.030543 64.881477 \nL 285.640491 65.473227 \nL 286.250438 63.295618 \nL 286.860385 63.514384 \nL 287.470332 65.891847 \nL 288.080279 69.016017 \nL 288.690226 64.981281 \nL 289.300174 66.953424 \nL 289.910121 69.8386 \nL 290.520068 63.705481 \nL 291.130015 65.062337 \nL 291.739962 64.64569 \nL 292.349909 66.945098 \nL 292.959857 53.592266 \nL 293.569804 60.59716 \nL 294.179751 51.368219 \nL 294.789698 66.199666 \nL 295.399645 54.686199 \nL 296.009592 58.158458 \nL 296.61954 58.898464 \nL 297.229487 56.138665 \nL 297.839434 49.272056 \nL 298.449381 70.454422 \nL 299.059328 59.404595 \nL 299.669275 57.782021 \nL 300.279223 58.451805 \nL 300.88917 55.735709 \nL 301.499117 54.682663 \nL 302.109064 48.240143 \nL 302.719011 50.66392 \nL 303.328958 53.766238 \nL 303.938906 50.526929 \nL 304.548853 54.186688 \nL 305.1588 65.775166 \nL 305.768747 55.400961 \nL 306.378694 61.366932 \nL 306.988641 69.117363 \nL 307.598589 57.836723 \nL 308.208536 57.22715 \nL 308.818483 69.833564 \nL 309.42843 60.017272 \nL 310.038377 53.607169 \nL 310.648324 70.302281 \nL 311.258272 69.461156 \nL 311.868219 65.417498 \nL 312.478166 65.905147 \nL 313.088113 63.749432 \nL 313.69806 58.301431 \nL 314.308007 60.99841 \nL 314.917955 55.268143 \nL 315.527902 56.015118 \nL 316.137849 62.388423 \nL 316.747796 62.762682 \nL 317.357743 68.186671 \nL 317.96769 64.453977 \nL 319.187585 67.467859 \nL 319.797532 62.519782 \nL 320.407479 54.911009 \nL 321.017426 63.40681 \nL 321.627373 60.804291 \nL 322.237321 60.123324 \nL 322.847268 56.153692 \nL 323.457215 56.002455 \nL 324.067162 51.27008 \nL 324.677109 54.3658 \nL 325.287056 58.440622 \nL 325.897004 46.0613 \nL 326.506951 60.632826 \nL 327.116898 60.22654 \nL 327.726845 51.089612 \nL 328.336792 60.537422 \nL 328.94674 58.205266 \nL 329.556687 48.244727 \nL 330.166634 59.08878 \nL 330.776581 56.321497 \nL 331.386528 46.28757 \nL 331.996475 54.23477 \nL 332.606423 50.068963 \nL 333.21637 50.570962 \nL 333.826317 46.227688 \nL 334.436264 40.973888 \nL 335.046211 52.568061 \nL 335.656158 45.663648 \nL 336.266106 46.058443 \nL 336.876053 40.488911 \nL 337.486 43.288653 \nL 338.095947 39.797542 \nL 338.705894 44.402629 \nL 339.315841 47.094591 \nL 339.925789 44.918483 \nL 340.535736 43.333487 \nL 341.145683 50.323067 \nL 341.75563 45.013106 \nL 342.365577 48.794561 \nL 342.975524 43.224207 \nL 343.585472 46.096576 \nL 344.195419 43.935289 \nL 344.805366 37.445735 \nL 345.415313 38.788653 \nL 346.02526 41.904703 \nL 346.635207 32.201761 \nL 347.245155 33.230242 \nL 347.855102 34.929349 \nL 348.465049 32.558957 \nL 349.074996 34.668318 \nL 349.684943 38.096626 \nL 349.684943 38.096626 \n\" style=\"fill:none;stroke:#ff7f0e;stroke-linecap:square;stroke-width:1.5;\"/>\n   </g>\n   <g id=\"patch_3\">\n    <path d=\"M 30.103125 239.758125 \nL 30.103125 22.318125 \n\" style=\"fill:none;stroke:#000000;stroke-linecap:square;stroke-linejoin:miter;stroke-width:0.8;\"/>\n   </g>\n   <g id=\"patch_4\">\n    <path d=\"M 364.903125 239.758125 \nL 364.903125 22.318125 \n\" style=\"fill:none;stroke:#000000;stroke-linecap:square;stroke-linejoin:miter;stroke-width:0.8;\"/>\n   </g>\n   <g id=\"patch_5\">\n    <path d=\"M 30.103125 239.758125 \nL 364.903125 239.758125 \n\" style=\"fill:none;stroke:#000000;stroke-linecap:square;stroke-linejoin:miter;stroke-width:0.8;\"/>\n   </g>\n   <g id=\"patch_6\">\n    <path d=\"M 30.103125 22.318125 \nL 364.903125 22.318125 \n\" style=\"fill:none;stroke:#000000;stroke-linecap:square;stroke-linejoin:miter;stroke-width:0.8;\"/>\n   </g>\n   <g id=\"text_13\">\n    <!-- Training and validation loss -->\n    <g transform=\"translate(115.693125 16.318125)scale(0.12 -0.12)\">\n     <defs>\n      <path d=\"M -0.296875 72.90625 \nL 61.375 72.90625 \nL 61.375 64.59375 \nL 35.5 64.59375 \nL 35.5 0 \nL 25.59375 0 \nL 25.59375 64.59375 \nL -0.296875 64.59375 \nz\n\" id=\"DejaVuSans-84\"/>\n      <path d=\"M 41.109375 46.296875 \nQ 39.59375 47.171875 37.8125 47.578125 \nQ 36.03125 48 33.890625 48 \nQ 26.265625 48 22.1875 43.046875 \nQ 18.109375 38.09375 18.109375 28.8125 \nL 18.109375 0 \nL 9.078125 0 \nL 9.078125 54.6875 \nL 18.109375 54.6875 \nL 18.109375 46.1875 \nQ 20.953125 51.171875 25.484375 53.578125 \nQ 30.03125 56 36.53125 56 \nQ 37.453125 56 38.578125 55.875 \nQ 39.703125 55.765625 41.0625 55.515625 \nz\n\" id=\"DejaVuSans-114\"/>\n      <path d=\"M 34.28125 27.484375 \nQ 23.390625 27.484375 19.1875 25 \nQ 14.984375 22.515625 14.984375 16.5 \nQ 14.984375 11.71875 18.140625 8.90625 \nQ 21.296875 6.109375 26.703125 6.109375 \nQ 34.1875 6.109375 38.703125 11.40625 \nQ 43.21875 16.703125 43.21875 25.484375 \nL 43.21875 27.484375 \nz\nM 52.203125 31.203125 \nL 52.203125 0 \nL 43.21875 0 \nL 43.21875 8.296875 \nQ 40.140625 3.328125 35.546875 0.953125 \nQ 30.953125 -1.421875 24.3125 -1.421875 \nQ 15.921875 -1.421875 10.953125 3.296875 \nQ 6 8.015625 6 15.921875 \nQ 6 25.140625 12.171875 29.828125 \nQ 18.359375 34.515625 30.609375 34.515625 \nL 43.21875 34.515625 \nL 43.21875 35.40625 \nQ 43.21875 41.609375 39.140625 45 \nQ 35.0625 48.390625 27.6875 48.390625 \nQ 23 48.390625 18.546875 47.265625 \nQ 14.109375 46.140625 10.015625 43.890625 \nL 10.015625 52.203125 \nQ 14.9375 54.109375 19.578125 55.046875 \nQ 24.21875 56 28.609375 56 \nQ 40.484375 56 46.34375 49.84375 \nQ 52.203125 43.703125 52.203125 31.203125 \nz\n\" id=\"DejaVuSans-97\"/>\n      <path d=\"M 9.421875 54.6875 \nL 18.40625 54.6875 \nL 18.40625 0 \nL 9.421875 0 \nz\nM 9.421875 75.984375 \nL 18.40625 75.984375 \nL 18.40625 64.59375 \nL 9.421875 64.59375 \nz\n\" id=\"DejaVuSans-105\"/>\n      <path d=\"M 54.890625 33.015625 \nL 54.890625 0 \nL 45.90625 0 \nL 45.90625 32.71875 \nQ 45.90625 40.484375 42.875 44.328125 \nQ 39.84375 48.1875 33.796875 48.1875 \nQ 26.515625 48.1875 22.3125 43.546875 \nQ 18.109375 38.921875 18.109375 30.90625 \nL 18.109375 0 \nL 9.078125 0 \nL 9.078125 54.6875 \nL 18.109375 54.6875 \nL 18.109375 46.1875 \nQ 21.34375 51.125 25.703125 53.5625 \nQ 30.078125 56 35.796875 56 \nQ 45.21875 56 50.046875 50.171875 \nQ 54.890625 44.34375 54.890625 33.015625 \nz\n\" id=\"DejaVuSans-110\"/>\n      <path d=\"M 45.40625 27.984375 \nQ 45.40625 37.75 41.375 43.109375 \nQ 37.359375 48.484375 30.078125 48.484375 \nQ 22.859375 48.484375 18.828125 43.109375 \nQ 14.796875 37.75 14.796875 27.984375 \nQ 14.796875 18.265625 18.828125 12.890625 \nQ 22.859375 7.515625 30.078125 7.515625 \nQ 37.359375 7.515625 41.375 12.890625 \nQ 45.40625 18.265625 45.40625 27.984375 \nz\nM 54.390625 6.78125 \nQ 54.390625 -7.171875 48.1875 -13.984375 \nQ 42 -20.796875 29.203125 -20.796875 \nQ 24.46875 -20.796875 20.265625 -20.09375 \nQ 16.0625 -19.390625 12.109375 -17.921875 \nL 12.109375 -9.1875 \nQ 16.0625 -11.328125 19.921875 -12.34375 \nQ 23.78125 -13.375 27.78125 -13.375 \nQ 36.625 -13.375 41.015625 -8.765625 \nQ 45.40625 -4.15625 45.40625 5.171875 \nL 45.40625 9.625 \nQ 42.625 4.78125 38.28125 2.390625 \nQ 33.9375 0 27.875 0 \nQ 17.828125 0 11.671875 7.65625 \nQ 5.515625 15.328125 5.515625 27.984375 \nQ 5.515625 40.671875 11.671875 48.328125 \nQ 17.828125 56 27.875 56 \nQ 33.9375 56 38.28125 53.609375 \nQ 42.625 51.21875 45.40625 46.390625 \nL 45.40625 54.6875 \nL 54.390625 54.6875 \nz\n\" id=\"DejaVuSans-103\"/>\n      <path id=\"DejaVuSans-32\"/>\n      <path d=\"M 45.40625 46.390625 \nL 45.40625 75.984375 \nL 54.390625 75.984375 \nL 54.390625 0 \nL 45.40625 0 \nL 45.40625 8.203125 \nQ 42.578125 3.328125 38.25 0.953125 \nQ 33.9375 -1.421875 27.875 -1.421875 \nQ 17.96875 -1.421875 11.734375 6.484375 \nQ 5.515625 14.40625 5.515625 27.296875 \nQ 5.515625 40.1875 11.734375 48.09375 \nQ 17.96875 56 27.875 56 \nQ 33.9375 56 38.25 53.625 \nQ 42.578125 51.265625 45.40625 46.390625 \nz\nM 14.796875 27.296875 \nQ 14.796875 17.390625 18.875 11.75 \nQ 22.953125 6.109375 30.078125 6.109375 \nQ 37.203125 6.109375 41.296875 11.75 \nQ 45.40625 17.390625 45.40625 27.296875 \nQ 45.40625 37.203125 41.296875 42.84375 \nQ 37.203125 48.484375 30.078125 48.484375 \nQ 22.953125 48.484375 18.875 42.84375 \nQ 14.796875 37.203125 14.796875 27.296875 \nz\n\" id=\"DejaVuSans-100\"/>\n      <path d=\"M 2.984375 54.6875 \nL 12.5 54.6875 \nL 29.59375 8.796875 \nL 46.6875 54.6875 \nL 56.203125 54.6875 \nL 35.6875 0 \nL 23.484375 0 \nz\n\" id=\"DejaVuSans-118\"/>\n      <path d=\"M 9.421875 75.984375 \nL 18.40625 75.984375 \nL 18.40625 0 \nL 9.421875 0 \nz\n\" id=\"DejaVuSans-108\"/>\n      <path d=\"M 18.3125 70.21875 \nL 18.3125 54.6875 \nL 36.8125 54.6875 \nL 36.8125 47.703125 \nL 18.3125 47.703125 \nL 18.3125 18.015625 \nQ 18.3125 11.328125 20.140625 9.421875 \nQ 21.96875 7.515625 27.59375 7.515625 \nL 36.8125 7.515625 \nL 36.8125 0 \nL 27.59375 0 \nQ 17.1875 0 13.234375 3.875 \nQ 9.28125 7.765625 9.28125 18.015625 \nL 9.28125 47.703125 \nL 2.6875 47.703125 \nL 2.6875 54.6875 \nL 9.28125 54.6875 \nL 9.28125 70.21875 \nz\n\" id=\"DejaVuSans-116\"/>\n      <path d=\"M 30.609375 48.390625 \nQ 23.390625 48.390625 19.1875 42.75 \nQ 14.984375 37.109375 14.984375 27.296875 \nQ 14.984375 17.484375 19.15625 11.84375 \nQ 23.34375 6.203125 30.609375 6.203125 \nQ 37.796875 6.203125 41.984375 11.859375 \nQ 46.1875 17.53125 46.1875 27.296875 \nQ 46.1875 37.015625 41.984375 42.703125 \nQ 37.796875 48.390625 30.609375 48.390625 \nz\nM 30.609375 56 \nQ 42.328125 56 49.015625 48.375 \nQ 55.71875 40.765625 55.71875 27.296875 \nQ 55.71875 13.875 49.015625 6.21875 \nQ 42.328125 -1.421875 30.609375 -1.421875 \nQ 18.84375 -1.421875 12.171875 6.21875 \nQ 5.515625 13.875 5.515625 27.296875 \nQ 5.515625 40.765625 12.171875 48.375 \nQ 18.84375 56 30.609375 56 \nz\n\" id=\"DejaVuSans-111\"/>\n      <path d=\"M 44.28125 53.078125 \nL 44.28125 44.578125 \nQ 40.484375 46.53125 36.375 47.5 \nQ 32.28125 48.484375 27.875 48.484375 \nQ 21.1875 48.484375 17.84375 46.4375 \nQ 14.5 44.390625 14.5 40.28125 \nQ 14.5 37.15625 16.890625 35.375 \nQ 19.28125 33.59375 26.515625 31.984375 \nL 29.59375 31.296875 \nQ 39.15625 29.25 43.1875 25.515625 \nQ 47.21875 21.78125 47.21875 15.09375 \nQ 47.21875 7.46875 41.1875 3.015625 \nQ 35.15625 -1.421875 24.609375 -1.421875 \nQ 20.21875 -1.421875 15.453125 -0.5625 \nQ 10.6875 0.296875 5.421875 2 \nL 5.421875 11.28125 \nQ 10.40625 8.6875 15.234375 7.390625 \nQ 20.0625 6.109375 24.8125 6.109375 \nQ 31.15625 6.109375 34.5625 8.28125 \nQ 37.984375 10.453125 37.984375 14.40625 \nQ 37.984375 18.0625 35.515625 20.015625 \nQ 33.0625 21.96875 24.703125 23.78125 \nL 21.578125 24.515625 \nQ 13.234375 26.265625 9.515625 29.90625 \nQ 5.8125 33.546875 5.8125 39.890625 \nQ 5.8125 47.609375 11.28125 51.796875 \nQ 16.75 56 26.8125 56 \nQ 31.78125 56 36.171875 55.265625 \nQ 40.578125 54.546875 44.28125 53.078125 \nz\n\" id=\"DejaVuSans-115\"/>\n     </defs>\n     <use xlink:href=\"#DejaVuSans-84\"/>\n     <use x=\"46.333984\" xlink:href=\"#DejaVuSans-114\"/>\n     <use x=\"87.447266\" xlink:href=\"#DejaVuSans-97\"/>\n     <use x=\"148.726562\" xlink:href=\"#DejaVuSans-105\"/>\n     <use x=\"176.509766\" xlink:href=\"#DejaVuSans-110\"/>\n     <use x=\"239.888672\" xlink:href=\"#DejaVuSans-105\"/>\n     <use x=\"267.671875\" xlink:href=\"#DejaVuSans-110\"/>\n     <use x=\"331.050781\" xlink:href=\"#DejaVuSans-103\"/>\n     <use x=\"394.527344\" xlink:href=\"#DejaVuSans-32\"/>\n     <use x=\"426.314453\" xlink:href=\"#DejaVuSans-97\"/>\n     <use x=\"487.59375\" xlink:href=\"#DejaVuSans-110\"/>\n     <use x=\"550.972656\" xlink:href=\"#DejaVuSans-100\"/>\n     <use x=\"614.449219\" xlink:href=\"#DejaVuSans-32\"/>\n     <use x=\"646.236328\" xlink:href=\"#DejaVuSans-118\"/>\n     <use x=\"705.416016\" xlink:href=\"#DejaVuSans-97\"/>\n     <use x=\"766.695312\" xlink:href=\"#DejaVuSans-108\"/>\n     <use x=\"794.478516\" xlink:href=\"#DejaVuSans-105\"/>\n     <use x=\"822.261719\" xlink:href=\"#DejaVuSans-100\"/>\n     <use x=\"885.738281\" xlink:href=\"#DejaVuSans-97\"/>\n     <use x=\"947.017578\" xlink:href=\"#DejaVuSans-116\"/>\n     <use x=\"986.226562\" xlink:href=\"#DejaVuSans-105\"/>\n     <use x=\"1014.009766\" xlink:href=\"#DejaVuSans-111\"/>\n     <use x=\"1075.191406\" xlink:href=\"#DejaVuSans-110\"/>\n     <use x=\"1138.570312\" xlink:href=\"#DejaVuSans-32\"/>\n     <use x=\"1170.357422\" xlink:href=\"#DejaVuSans-108\"/>\n     <use x=\"1198.140625\" xlink:href=\"#DejaVuSans-111\"/>\n     <use x=\"1259.322266\" xlink:href=\"#DejaVuSans-115\"/>\n     <use x=\"1311.421875\" xlink:href=\"#DejaVuSans-115\"/>\n    </g>\n   </g>\n  </g>\n </g>\n <defs>\n  <clipPath id=\"p7e5fd5bb31\">\n   <rect height=\"217.44\" width=\"334.8\" x=\"30.103125\" y=\"22.318125\"/>\n  </clipPath>\n </defs>\n</svg>\n",
      "image/png": "[encoded data removed]"
     },
     "metadata": {
      "needs_background": "light"
     }
    }
   ],
   "source": [
    "# 에포크에 따른 모델의 변화를 확인. 진동이 심하다는 걸 확인할 수 있다. \n",
    "# 파란색이 훈련 데이터, 노란색이 검증 데이터에 대한 정확도, 손실 그래프다\n",
    "\n",
    "acc      = history.history['accuracy']\n",
    "val_acc  = history.history['val_accuracy']\n",
    "loss     = history.history['loss']\n",
    "val_loss = history.history['val_loss']\n",
    "\n",
    "epochs   = range(len(acc)) # Get number of epochs\n",
    "\n",
    "#------------------------------------------------\n",
    "# 훈련 데이터, 검증 데이터에 대한 에포크당 정확도\n",
    "#------------------------------------------------\n",
    "plt.plot  ( epochs,     acc )\n",
    "plt.plot  ( epochs, val_acc )\n",
    "plt.title ('Training and validation accuracy')\n",
    "plt.figure()\n",
    "\n",
    "#------------------------------------------------\n",
    "# 훈련 데이터, 검증 데이터에 대한 에포크당 손실률\n",
    "#------------------------------------------------\n",
    "plt.plot  ( epochs,     loss )\n",
    "plt.plot  ( epochs, val_loss )\n",
    "plt.title ('Training and validation loss'   )\n",
    "\n"
   ]
  },
  {
   "source": [
    "손실 부분에서 진동이 계속 일어났다."
   ],
   "cell_type": "markdown",
   "metadata": {}
  },
  {
   "source": [
    "# 5. 예측하기\n",
    "<br>\n",
    "가장 훈련이 잘된 모델로 값을 예측해보자"
   ],
   "cell_type": "markdown",
   "metadata": {}
  },
  {
   "cell_type": "code",
   "execution_count": 35,
   "metadata": {},
   "outputs": [],
   "source": [
    "model.load_weights(filename)\n",
    "prediction = np.where(model.predict(x_test) > 0.5, 1, 0) # 생존 여부(생존 : 1, 사망 : 0)를 확인해야하기 때문에 예측값이 0.5를 넘기면 1, 아니면 0으로 했다. "
   ]
  },
  {
   "cell_type": "code",
   "execution_count": 36,
   "metadata": {},
   "outputs": [
    {
     "output_type": "execute_result",
     "data": {
      "text/plain": [
       "array([0, 0, 0, 0, 0, 0, 0, 0, 0, 0, 0, 0, 1, 0, 1, 1, 0, 0, 0, 0, 0, 0,\n",
       "       1, 1, 1, 0, 1, 0, 0, 0, 0, 0, 0, 0, 0, 0, 0, 0, 0, 0, 0, 1, 0, 1,\n",
       "       1, 0, 0, 0, 1, 0, 0, 0, 1, 1, 0, 0, 0, 0, 0, 1, 0, 0, 0, 0, 1, 1,\n",
       "       0, 0, 0, 1, 0, 0, 0, 1, 1, 0, 0, 1, 0, 0, 0, 0, 0, 0, 0, 0, 0, 0,\n",
       "       0, 1, 0, 0, 1, 0, 0, 0, 1, 0, 0, 0, 1, 0, 0, 0, 1, 0, 0, 0, 0, 0,\n",
       "       0, 0, 1, 0, 1, 0, 0, 1, 0, 1, 1, 0, 1, 0, 0, 1, 0, 0, 0, 0, 0, 0,\n",
       "       0, 0, 0, 0, 0, 0, 0, 0, 1, 1, 0, 0, 0, 0, 1, 0, 1, 0, 1, 0, 0, 0,\n",
       "       0, 0, 1, 0, 0, 0, 0, 0, 1, 0, 0, 0, 0, 0, 1, 0, 0, 0, 0, 0, 0, 1,\n",
       "       1, 0, 1, 1, 0, 1, 1, 0, 1, 0, 1, 0, 0, 0, 0, 1, 0, 0, 1, 0, 1, 0,\n",
       "       0, 0, 0, 0, 0, 1, 0, 0, 0, 0, 1, 0, 0, 0, 0, 1, 0, 0, 0, 0, 1, 0,\n",
       "       1, 0, 1, 0, 1, 0, 0, 0, 0, 0, 1, 1, 0, 0, 0, 0, 0, 0, 1, 1, 1, 1,\n",
       "       0, 0, 0, 0, 1, 0, 1, 0, 1, 0, 0, 0, 0, 0, 0, 0, 1, 0, 0, 0, 1, 1,\n",
       "       0, 0, 1, 0, 0, 0, 0, 0, 1, 0, 0, 1, 0, 0, 0, 0, 0, 0, 0, 1, 1, 0,\n",
       "       0, 0, 0, 0, 1, 0, 0, 0, 0, 0, 1, 0, 0, 0, 0, 0, 0, 0, 0, 1, 0, 0,\n",
       "       0, 0, 0, 0, 0, 0, 1, 1, 0, 0, 0, 0, 0, 0, 0, 1, 1, 0, 1, 0, 0, 0,\n",
       "       1, 0, 0, 0, 0, 0, 0, 0, 0, 0, 0, 0, 0, 1, 0, 1, 0, 0, 0, 1, 1, 0,\n",
       "       0, 0, 1, 0, 1, 0, 0, 0, 0, 1, 1, 0, 1, 0, 0, 0, 1, 0, 0, 1, 0, 0,\n",
       "       1, 1, 0, 0, 0, 0, 0, 0, 0, 0, 0, 1, 0, 0, 0, 0, 0, 1, 0, 0, 0, 1,\n",
       "       0, 1, 0, 0, 1, 0, 1, 0, 0, 0, 0, 0, 0, 1, 0, 1, 0, 0, 1, 0, 0, 0])"
      ]
     },
     "metadata": {},
     "execution_count": 36
    }
   ],
   "source": [
    "prediction.reshape(418)"
   ]
  },
  {
   "source": [
    "## csv파일 생성\n",
    "<br>\n",
    "에측값과 앞서 저장한 승객 번호를 submission 파일 생성에 사용한다. "
   ],
   "cell_type": "markdown",
   "metadata": {}
  },
  {
   "cell_type": "code",
   "execution_count": 37,
   "metadata": {},
   "outputs": [],
   "source": [
    "predict_toCsv = {\"PassengerId\": test_PassengerId, \"Survived\": prediction}"
   ]
  },
  {
   "cell_type": "code",
   "execution_count": 38,
   "metadata": {},
   "outputs": [],
   "source": [
    "#csv파일 생성\n",
    "submission = pd.DataFrame()\n",
    "\n",
    "submission['PassengerId'] = 0\n",
    "submission['Survived'] = 0\n",
    "\n",
    "submission['PassengerId'] = predict_toCsv[\"PassengerId\"]\n",
    "submission['Survived'] = predict_toCsv[\"Survived\"]"
   ]
  },
  {
   "cell_type": "code",
   "execution_count": 39,
   "metadata": {},
   "outputs": [],
   "source": [
    "submission.to_csv('submission.csv', index=False) # 파일 저장"
   ]
  },
  {
   "cell_type": "code",
   "execution_count": null,
   "metadata": {},
   "outputs": [],
   "source": []
  }
 ]
}