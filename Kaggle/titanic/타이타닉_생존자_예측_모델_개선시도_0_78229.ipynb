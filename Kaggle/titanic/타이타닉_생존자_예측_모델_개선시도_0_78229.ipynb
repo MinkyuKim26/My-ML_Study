{
 "metadata": {
  "language_info": {
   "codemirror_mode": {
    "name": "ipython",
    "version": 3
   },
   "file_extension": ".py",
   "mimetype": "text/x-python",
   "name": "python",
   "nbconvert_exporter": "python",
   "pygments_lexer": "ipython3",
   "version": "3.8.5-final"
  },
  "orig_nbformat": 2,
  "kernelspec": {
   "name": "python3",
   "display_name": "Python 3",
   "language": "python"
  }
 },
 "nbformat": 4,
 "nbformat_minor": 2,
 "cells": [
  {
   "source": [
    "# 0. 라이브러리 임포트"
   ],
   "cell_type": "markdown",
   "metadata": {}
  },
  {
   "cell_type": "code",
   "execution_count": 1,
   "metadata": {},
   "outputs": [],
   "source": [
    "import numpy as np # 넘파이\n",
    "import matplotlib.pyplot as plt # 매트플롯립\n",
    "import pandas as pd # 판다스(csv)\n",
    "\n",
    "# 텐서플로우\n",
    "import tensorflow as tf\n",
    "from tensorflow import keras\n",
    "from tensorflow.keras.callbacks import ModelCheckpoint\n",
    "from tensorflow.keras.models import Sequential\n",
    "from tensorflow.keras.layers import Dense\n",
    "from tqdm import tqdm\n",
    "\n"
   ]
  },
  {
   "source": [
    "# 1. 데이터 살펴보기"
   ],
   "cell_type": "markdown",
   "metadata": {}
  },
  {
   "cell_type": "code",
   "execution_count": 2,
   "metadata": {},
   "outputs": [
    {
     "output_type": "stream",
     "name": "stdout",
     "text": [
      "(891, 12) (418, 11)\n"
     ]
    }
   ],
   "source": [
    "# 불러오기\n",
    "train = pd.read_csv('train.csv')\n",
    "test = pd.read_csv('test.csv')\n",
    "print(train.shape, test.shape)"
   ]
  },
  {
   "source": [
    "\n",
    "승객 번호(PassengerId), 생존 여부(Survived), 객실 등급(Pclass), 이름(Name), 성별(Sex), 나이(Age), 친구 & 배우자 동행 여부(SipSp), 부모 & 자식 동행 여부(Parch), 티켓(Ticket), 요금(Fare), 객실 번호(Cabin), 출발 지점(Embarked)이라는 특성이 있음을 알 수 있다\n",
    "\n"
   ],
   "cell_type": "markdown",
   "metadata": {}
  },
  {
   "cell_type": "code",
   "execution_count": 3,
   "metadata": {},
   "outputs": [
    {
     "output_type": "stream",
     "name": "stdout",
     "text": [
      "<class 'pandas.core.frame.DataFrame'>\nRangeIndex: 891 entries, 0 to 890\nData columns (total 12 columns):\n #   Column       Non-Null Count  Dtype  \n---  ------       --------------  -----  \n 0   PassengerId  891 non-null    int64  \n 1   Survived     891 non-null    int64  \n 2   Pclass       891 non-null    int64  \n 3   Name         891 non-null    object \n 4   Sex          891 non-null    object \n 5   Age          714 non-null    float64\n 6   SibSp        891 non-null    int64  \n 7   Parch        891 non-null    int64  \n 8   Ticket       891 non-null    object \n 9   Fare         891 non-null    float64\n 10  Cabin        204 non-null    object \n 11  Embarked     889 non-null    object \ndtypes: float64(2), int64(5), object(5)\nmemory usage: 83.7+ KB\n"
     ]
    }
   ],
   "source": [
    "train.info() # 간단하게 데이터를 살펴본다"
   ]
  },
  {
   "source": [
    "Train의 샘플이 891개가 있는데 'Age', 'Cabin', 'Embarked' 특성값이 샘플 갯수보다 적다는 사실을 알 수 있다. \n",
    "<br>\n",
    "=> Train에서 'Age', 'Cabin', 'Embarked' 특성에 결측치가 있다"
   ],
   "cell_type": "markdown",
   "metadata": {}
  },
  {
   "cell_type": "code",
   "execution_count": 4,
   "metadata": {},
   "outputs": [
    {
     "output_type": "stream",
     "name": "stdout",
     "text": [
      "<class 'pandas.core.frame.DataFrame'>\nRangeIndex: 418 entries, 0 to 417\nData columns (total 11 columns):\n #   Column       Non-Null Count  Dtype  \n---  ------       --------------  -----  \n 0   PassengerId  418 non-null    int64  \n 1   Pclass       418 non-null    int64  \n 2   Name         418 non-null    object \n 3   Sex          418 non-null    object \n 4   Age          332 non-null    float64\n 5   SibSp        418 non-null    int64  \n 6   Parch        418 non-null    int64  \n 7   Ticket       418 non-null    object \n 8   Fare         417 non-null    float64\n 9   Cabin        91 non-null     object \n 10  Embarked     418 non-null    object \ndtypes: float64(2), int64(4), object(5)\nmemory usage: 36.0+ KB\n"
     ]
    }
   ],
   "source": [
    "test.info() # 테스트용 데이터 확인"
   ]
  },
  {
   "source": [
    "Test의 샘플이 418개가 있다. 그런데 'Age', 'Fare', 'Cabin' 특성값이 샘플 갯수보다 적다는 사실을 알 수 있다. \n",
    "<br>\n",
    "=>Test에서 'Age', 'Fare', 'Cabin' 특성에 결측치가 있다. \n",
    "\n",
    "\n",
    "데이터를 보니 결측치가 많이 있다. 결측치들을 어떻게 채우면 좋을까?\n",
    "<br>\n",
    "데이터를 더 살펴보며 어떻게 결측치를 채울지 알아보자"
   ],
   "cell_type": "markdown",
   "metadata": {}
  },
  {
   "source": [
    "## 숫자 데이터 살펴보기\n",
    "<br>\n",
    "앞서 상관관계에서 볼 수 있던 특성들(나이, 객실 등급 등)을 좀 더 자세히 살펴보자"
   ],
   "cell_type": "markdown",
   "metadata": {}
  },
  {
   "source": [
    "### 객실 등급\n",
    "<br>\n",
    "먼저 객실 등급을 기준으로 데이터를 살펴보자."
   ],
   "cell_type": "markdown",
   "metadata": {}
  },
  {
   "cell_type": "code",
   "execution_count": 5,
   "metadata": {},
   "outputs": [
    {
     "output_type": "execute_result",
     "data": {
      "text/plain": [
       "3    491\n",
       "1    216\n",
       "2    184\n",
       "Name: Pclass, dtype: int64"
      ]
     },
     "metadata": {},
     "execution_count": 5
    }
   ],
   "source": [
    "train['Pclass'].value_counts() # 3, 1, 2등급 순으로 객실 승객이 많다."
   ]
  },
  {
   "cell_type": "code",
   "execution_count": 6,
   "metadata": {},
   "outputs": [
    {
     "output_type": "execute_result",
     "data": {
      "text/plain": [
       "   Pclass  PassengerId  Survived        Age     SibSp     Parch       Fare\n",
       "0       1   461.597222  0.629630  38.233441  0.416667  0.356481  84.154687\n",
       "1       2   445.956522  0.472826  29.877630  0.402174  0.380435  20.662183\n",
       "2       3   439.154786  0.242363  25.140620  0.615071  0.393075  13.675550"
      ],
      "text/html": "<div>\n<style scoped>\n    .dataframe tbody tr th:only-of-type {\n        vertical-align: middle;\n    }\n\n    .dataframe tbody tr th {\n        vertical-align: top;\n    }\n\n    .dataframe thead th {\n        text-align: right;\n    }\n</style>\n<table border=\"1\" class=\"dataframe\">\n  <thead>\n    <tr style=\"text-align: right;\">\n      <th></th>\n      <th>Pclass</th>\n      <th>PassengerId</th>\n      <th>Survived</th>\n      <th>Age</th>\n      <th>SibSp</th>\n      <th>Parch</th>\n      <th>Fare</th>\n    </tr>\n  </thead>\n  <tbody>\n    <tr>\n      <th>0</th>\n      <td>1</td>\n      <td>461.597222</td>\n      <td>0.629630</td>\n      <td>38.233441</td>\n      <td>0.416667</td>\n      <td>0.356481</td>\n      <td>84.154687</td>\n    </tr>\n    <tr>\n      <th>1</th>\n      <td>2</td>\n      <td>445.956522</td>\n      <td>0.472826</td>\n      <td>29.877630</td>\n      <td>0.402174</td>\n      <td>0.380435</td>\n      <td>20.662183</td>\n    </tr>\n    <tr>\n      <th>2</th>\n      <td>3</td>\n      <td>439.154786</td>\n      <td>0.242363</td>\n      <td>25.140620</td>\n      <td>0.615071</td>\n      <td>0.393075</td>\n      <td>13.675550</td>\n    </tr>\n  </tbody>\n</table>\n</div>"
     },
     "metadata": {},
     "execution_count": 6
    }
   ],
   "source": [
    "train.groupby(['Pclass'], as_index=False).mean() # 객실 등급별 승객들의 평균값. 객실 등급에 따라 생존률과 요금에 차이가 난다는 사실을 확인할 수 있다. "
   ]
  },
  {
   "source": [
    "### 동행한 형제/자매 혹은 배우자\n",
    "<br>\n",
    "이제 SibSp 항목을 살펴보자. SibSp는 '동행한 형제/자매 혹은 배우자 수'를 말한다."
   ],
   "cell_type": "markdown",
   "metadata": {}
  },
  {
   "cell_type": "code",
   "execution_count": 7,
   "metadata": {},
   "outputs": [
    {
     "output_type": "execute_result",
     "data": {
      "text/plain": [
       "0    608\n",
       "1    209\n",
       "2     28\n",
       "4     18\n",
       "3     16\n",
       "8      7\n",
       "5      5\n",
       "Name: SibSp, dtype: int64"
      ]
     },
     "metadata": {},
     "execution_count": 7
    }
   ],
   "source": [
    "train['SibSp'].value_counts()"
   ]
  },
  {
   "source": [
    "혼자 탑승한 승객이 제일 많았다. 그 다음은 1명과 동행한 승객인데 아마 형제끼리 여행한 것 보다는 부부가 함께 탑승한 경우가 많지 않을까 싶다. \n",
    "<br>\n",
    "이들 역시 종류별 평균값을 살펴보자"
   ],
   "cell_type": "markdown",
   "metadata": {}
  },
  {
   "cell_type": "code",
   "execution_count": 11,
   "metadata": {},
   "outputs": [
    {
     "output_type": "execute_result",
     "data": {
      "text/plain": [
       "   SibSp  PassengerId  Survived    Pclass        Age     Parch       Fare\n",
       "0      0   455.370066  0.345395  2.351974  31.397558  0.185855  25.692028\n",
       "1      1   439.727273  0.535885  2.057416  30.089727  0.655502  44.147370\n",
       "2      2   412.428571  0.464286  2.357143  22.620000  0.642857  51.753718\n",
       "3      3   321.562500  0.250000  2.562500  13.916667  1.312500  68.908862\n",
       "4      4   381.611111  0.166667  3.000000   7.055556  1.500000  31.855556\n",
       "5      5   336.800000  0.000000  3.000000  10.200000  2.000000  46.900000\n",
       "6      8   481.714286  0.000000  3.000000        NaN  2.000000  69.550000"
      ],
      "text/html": "<div>\n<style scoped>\n    .dataframe tbody tr th:only-of-type {\n        vertical-align: middle;\n    }\n\n    .dataframe tbody tr th {\n        vertical-align: top;\n    }\n\n    .dataframe thead th {\n        text-align: right;\n    }\n</style>\n<table border=\"1\" class=\"dataframe\">\n  <thead>\n    <tr style=\"text-align: right;\">\n      <th></th>\n      <th>SibSp</th>\n      <th>PassengerId</th>\n      <th>Survived</th>\n      <th>Pclass</th>\n      <th>Age</th>\n      <th>Parch</th>\n      <th>Fare</th>\n    </tr>\n  </thead>\n  <tbody>\n    <tr>\n      <th>0</th>\n      <td>0</td>\n      <td>455.370066</td>\n      <td>0.345395</td>\n      <td>2.351974</td>\n      <td>31.397558</td>\n      <td>0.185855</td>\n      <td>25.692028</td>\n    </tr>\n    <tr>\n      <th>1</th>\n      <td>1</td>\n      <td>439.727273</td>\n      <td>0.535885</td>\n      <td>2.057416</td>\n      <td>30.089727</td>\n      <td>0.655502</td>\n      <td>44.147370</td>\n    </tr>\n    <tr>\n      <th>2</th>\n      <td>2</td>\n      <td>412.428571</td>\n      <td>0.464286</td>\n      <td>2.357143</td>\n      <td>22.620000</td>\n      <td>0.642857</td>\n      <td>51.753718</td>\n    </tr>\n    <tr>\n      <th>3</th>\n      <td>3</td>\n      <td>321.562500</td>\n      <td>0.250000</td>\n      <td>2.562500</td>\n      <td>13.916667</td>\n      <td>1.312500</td>\n      <td>68.908862</td>\n    </tr>\n    <tr>\n      <th>4</th>\n      <td>4</td>\n      <td>381.611111</td>\n      <td>0.166667</td>\n      <td>3.000000</td>\n      <td>7.055556</td>\n      <td>1.500000</td>\n      <td>31.855556</td>\n    </tr>\n    <tr>\n      <th>5</th>\n      <td>5</td>\n      <td>336.800000</td>\n      <td>0.000000</td>\n      <td>3.000000</td>\n      <td>10.200000</td>\n      <td>2.000000</td>\n      <td>46.900000</td>\n    </tr>\n    <tr>\n      <th>6</th>\n      <td>8</td>\n      <td>481.714286</td>\n      <td>0.000000</td>\n      <td>3.000000</td>\n      <td>NaN</td>\n      <td>2.000000</td>\n      <td>69.550000</td>\n    </tr>\n  </tbody>\n</table>\n</div>"
     },
     "metadata": {},
     "execution_count": 11
    }
   ],
   "source": [
    "train.groupby(['SibSp'], as_index=False).mean()  "
   ]
  },
  {
   "source": [
    "SibSp가 5이상인 승객들은 모두 사망했다. 그리고 SibSp가 8인 사람들은 모두 나이 데이터가 없다는 것을 알 수 있다. \n",
    "<br>\n",
    "나에게 있어 가장 눈에 띄는 특성은 '나이'다. SibSp에 따라서 나이 차이가 꽤 많이 난다는 사실을 알 수 있다. 후에 나이 결측치를 채울 때 사용해야겠다. \n",
    "<br>\n",
    "그리고 요금도 차이가 난다. 동행한 사람들끼리 더 넓은 객실을 사용해서 그런가 싶다."
   ],
   "cell_type": "markdown",
   "metadata": {}
  },
  {
   "source": [
    "### 동행한 부모/자식\n",
    "<br>\n",
    "이제 동행한 부모/자식의 수를 나타내는 'Parch'항목을 살펴보자. "
   ],
   "cell_type": "markdown",
   "metadata": {}
  },
  {
   "cell_type": "code",
   "execution_count": 8,
   "metadata": {},
   "outputs": [
    {
     "output_type": "execute_result",
     "data": {
      "text/plain": [
       "0    678\n",
       "1    118\n",
       "2     80\n",
       "3      5\n",
       "5      5\n",
       "4      4\n",
       "6      1\n",
       "Name: Parch, dtype: int64"
      ]
     },
     "metadata": {},
     "execution_count": 8
    }
   ],
   "source": [
    "train['Parch'].value_counts()  "
   ]
  },
  {
   "source": [
    "부모/자식의 동행 없이 온 사람이 제일 많다. 이제 각 항목별 평균값을 살펴보자"
   ],
   "cell_type": "markdown",
   "metadata": {}
  },
  {
   "cell_type": "code",
   "execution_count": 9,
   "metadata": {},
   "outputs": [
    {
     "output_type": "execute_result",
     "data": {
      "text/plain": [
       "   Parch  PassengerId  Survived    Pclass        Age     SibSp       Fare\n",
       "0      0   445.255162  0.343658  2.321534  32.178503  0.237463  25.586774\n",
       "1      1   465.110169  0.550847  2.203390  24.422000  1.084746  46.778180\n",
       "2      2   416.662500  0.500000  2.275000  17.216912  2.062500  64.337604\n",
       "3      3   579.200000  0.600000  2.600000  33.200000  1.000000  25.951660\n",
       "4      4   384.000000  0.000000  2.500000  44.500000  0.750000  84.968750\n",
       "5      5   435.200000  0.200000  3.000000  39.200000  0.600000  32.550000\n",
       "6      6   679.000000  0.000000  3.000000  43.000000  1.000000  46.900000"
      ],
      "text/html": "<div>\n<style scoped>\n    .dataframe tbody tr th:only-of-type {\n        vertical-align: middle;\n    }\n\n    .dataframe tbody tr th {\n        vertical-align: top;\n    }\n\n    .dataframe thead th {\n        text-align: right;\n    }\n</style>\n<table border=\"1\" class=\"dataframe\">\n  <thead>\n    <tr style=\"text-align: right;\">\n      <th></th>\n      <th>Parch</th>\n      <th>PassengerId</th>\n      <th>Survived</th>\n      <th>Pclass</th>\n      <th>Age</th>\n      <th>SibSp</th>\n      <th>Fare</th>\n    </tr>\n  </thead>\n  <tbody>\n    <tr>\n      <th>0</th>\n      <td>0</td>\n      <td>445.255162</td>\n      <td>0.343658</td>\n      <td>2.321534</td>\n      <td>32.178503</td>\n      <td>0.237463</td>\n      <td>25.586774</td>\n    </tr>\n    <tr>\n      <th>1</th>\n      <td>1</td>\n      <td>465.110169</td>\n      <td>0.550847</td>\n      <td>2.203390</td>\n      <td>24.422000</td>\n      <td>1.084746</td>\n      <td>46.778180</td>\n    </tr>\n    <tr>\n      <th>2</th>\n      <td>2</td>\n      <td>416.662500</td>\n      <td>0.500000</td>\n      <td>2.275000</td>\n      <td>17.216912</td>\n      <td>2.062500</td>\n      <td>64.337604</td>\n    </tr>\n    <tr>\n      <th>3</th>\n      <td>3</td>\n      <td>579.200000</td>\n      <td>0.600000</td>\n      <td>2.600000</td>\n      <td>33.200000</td>\n      <td>1.000000</td>\n      <td>25.951660</td>\n    </tr>\n    <tr>\n      <th>4</th>\n      <td>4</td>\n      <td>384.000000</td>\n      <td>0.000000</td>\n      <td>2.500000</td>\n      <td>44.500000</td>\n      <td>0.750000</td>\n      <td>84.968750</td>\n    </tr>\n    <tr>\n      <th>5</th>\n      <td>5</td>\n      <td>435.200000</td>\n      <td>0.200000</td>\n      <td>3.000000</td>\n      <td>39.200000</td>\n      <td>0.600000</td>\n      <td>32.550000</td>\n    </tr>\n    <tr>\n      <th>6</th>\n      <td>6</td>\n      <td>679.000000</td>\n      <td>0.000000</td>\n      <td>3.000000</td>\n      <td>43.000000</td>\n      <td>1.000000</td>\n      <td>46.900000</td>\n    </tr>\n  </tbody>\n</table>\n</div>"
     },
     "metadata": {},
     "execution_count": 9
    }
   ],
   "source": [
    "train.groupby(['Parch'], as_index=False).mean() "
   ]
  },
  {
   "source": [
    "역시 나이에서 꽤나 차이가 난다. 그리고 요금도 차이가 난다. 이 역시 나이 결측치를 채울 때 참고해야겠다."
   ],
   "cell_type": "markdown",
   "metadata": {}
  },
  {
   "source": [
    "## 종류로 분류되는 데이터 살펴보기\n",
    "<br>\n",
    "숫자로 표현되지 않는 정보들(성별, 객실 등)을 살펴보자"
   ],
   "cell_type": "markdown",
   "metadata": {}
  },
  {
   "source": [
    "### 성별 데이터\n",
    "<br>\n",
    "우선 성별 데이터부터 살펴보자"
   ],
   "cell_type": "markdown",
   "metadata": {}
  },
  {
   "cell_type": "code",
   "execution_count": 6,
   "metadata": {},
   "outputs": [
    {
     "output_type": "execute_result",
     "data": {
      "text/plain": [
       "male      577\n",
       "female    314\n",
       "Name: Sex, dtype: int64"
      ]
     },
     "metadata": {},
     "execution_count": 6
    }
   ],
   "source": [
    "train['Sex'].value_counts() # 전체 탑승객을 성별로 분류"
   ]
  },
  {
   "source": [
    "남자 승객이 더 많다는 사실을 알 수 있다.\n",
    "<br>\n",
    "이제 생존한 승객들을 살펴보자."
   ],
   "cell_type": "markdown",
   "metadata": {}
  },
  {
   "cell_type": "code",
   "execution_count": 7,
   "metadata": {},
   "outputs": [
    {
     "output_type": "execute_result",
     "data": {
      "text/plain": [
       "female    233\n",
       "male      109\n",
       "Name: Sex, dtype: int64"
      ]
     },
     "metadata": {},
     "execution_count": 7
    }
   ],
   "source": [
    "train[train['Survived']==1]['Sex'].value_counts() # 생존한 탑승객 카운트"
   ]
  },
  {
   "source": [
    "남자는 109/577 ~= 19%, 여자는 233/314 ~= 74%의 생존률을 보인다. 차이가 심하다. 생존자를 판별할 때 유용하게 사용할 수 있는 특성이라고 본다. 성별만 입력값으로 넣고 판단해도 꽤 높은 정확도를 보이지 않을까 싶을 정도다. \n",
    "<br>\n",
    "남성, 여성은 0,1 같은 이진수 값으로 처리하는게 좋을거 같다. 그래서 나중에 isMan, isWoman항목으로 바꿀거다."
   ],
   "cell_type": "markdown",
   "metadata": {}
  },
  {
   "source": [
    "### 출발 지점 데이터\n",
    "<br>\n",
    "출발 지점 데이터(Embarked)를 살펴보자"
   ],
   "cell_type": "markdown",
   "metadata": {}
  },
  {
   "cell_type": "code",
   "execution_count": 15,
   "metadata": {},
   "outputs": [
    {
     "output_type": "execute_result",
     "data": {
      "text/plain": [
       "S    644\n",
       "C    168\n",
       "Q     77\n",
       "Name: Embarked, dtype: int64"
      ]
     },
     "metadata": {},
     "execution_count": 15
    }
   ],
   "source": [
    "train['Embarked'].value_counts() "
   ]
  },
  {
   "source": [
    "S에서 탑승한 승객들이 많다. 이제 각 승객별 평균값을 살펴보자"
   ],
   "cell_type": "markdown",
   "metadata": {}
  },
  {
   "cell_type": "code",
   "execution_count": 18,
   "metadata": {},
   "outputs": [
    {
     "output_type": "execute_result",
     "data": {
      "text/plain": [
       "  Embarked  PassengerId  Survived    Pclass        Age     SibSp     Parch  \\\n",
       "0        C   445.357143  0.553571  1.886905  30.814769  0.386905  0.363095   \n",
       "1        Q   417.896104  0.389610  2.909091  28.089286  0.428571  0.168831   \n",
       "2        S   449.527950  0.336957  2.350932  29.445397  0.571429  0.413043   \n",
       "\n",
       "        Fare  \n",
       "0  59.954144  \n",
       "1  13.276030  \n",
       "2  27.079812  "
      ],
      "text/html": "<div>\n<style scoped>\n    .dataframe tbody tr th:only-of-type {\n        vertical-align: middle;\n    }\n\n    .dataframe tbody tr th {\n        vertical-align: top;\n    }\n\n    .dataframe thead th {\n        text-align: right;\n    }\n</style>\n<table border=\"1\" class=\"dataframe\">\n  <thead>\n    <tr style=\"text-align: right;\">\n      <th></th>\n      <th>Embarked</th>\n      <th>PassengerId</th>\n      <th>Survived</th>\n      <th>Pclass</th>\n      <th>Age</th>\n      <th>SibSp</th>\n      <th>Parch</th>\n      <th>Fare</th>\n    </tr>\n  </thead>\n  <tbody>\n    <tr>\n      <th>0</th>\n      <td>C</td>\n      <td>445.357143</td>\n      <td>0.553571</td>\n      <td>1.886905</td>\n      <td>30.814769</td>\n      <td>0.386905</td>\n      <td>0.363095</td>\n      <td>59.954144</td>\n    </tr>\n    <tr>\n      <th>1</th>\n      <td>Q</td>\n      <td>417.896104</td>\n      <td>0.389610</td>\n      <td>2.909091</td>\n      <td>28.089286</td>\n      <td>0.428571</td>\n      <td>0.168831</td>\n      <td>13.276030</td>\n    </tr>\n    <tr>\n      <th>2</th>\n      <td>S</td>\n      <td>449.527950</td>\n      <td>0.336957</td>\n      <td>2.350932</td>\n      <td>29.445397</td>\n      <td>0.571429</td>\n      <td>0.413043</td>\n      <td>27.079812</td>\n    </tr>\n  </tbody>\n</table>\n</div>"
     },
     "metadata": {},
     "execution_count": 18
    }
   ],
   "source": [
    "train.groupby(['Embarked'], as_index=False).mean() "
   ]
  },
  {
   "source": [
    "요금에서 차이가 많이 난다. 그런데 평균 객실 등급을 보아 C에서 탑승한 승객들 중 1등급 객실에 탑승한 사람들의 비율이 높아서 그런게 아닐까 추측해본다. "
   ],
   "cell_type": "markdown",
   "metadata": {}
  },
  {
   "source": [
    "### 객실 데이터\n",
    "<br>\n",
    "객실 데이터를 살펴보자"
   ],
   "cell_type": "markdown",
   "metadata": {}
  },
  {
   "cell_type": "code",
   "execution_count": 14,
   "metadata": {},
   "outputs": [
    {
     "output_type": "execute_result",
     "data": {
      "text/plain": [
       "G6             4\n",
       "B96 B98        4\n",
       "C23 C25 C27    4\n",
       "F2             3\n",
       "F33            3\n",
       "              ..\n",
       "C46            1\n",
       "F E69          1\n",
       "E38            1\n",
       "B94            1\n",
       "C148           1\n",
       "Name: Cabin, Length: 147, dtype: int64"
      ]
     },
     "metadata": {},
     "execution_count": 14
    }
   ],
   "source": [
    "train['Cabin'].value_counts()"
   ]
  },
  {
   "source": [
    "종류가 엄청 많다. 2개 이상의 객실이 적힌 자료도 있다는 사실을 알 수 있다. \n",
    "<br>\n",
    "이상태로는 사용하기 힘든 종류의 데이터라 판단된다.\n",
    "<br>\n",
    "<br>\n",
    "데이터를 전체적으로 둘러보았다. 이제 결측치를 채우며 데이터를 더 자세히 관찰하는 시간을 가져보자"
   ],
   "cell_type": "markdown",
   "metadata": {}
  },
  {
   "source": [
    "# 2. 결측치 채우기"
   ],
   "cell_type": "markdown",
   "metadata": {}
  },
  {
   "source": [
    "결측치를 채워보자. 우리가 결측치를 채워야할 데이터는 훈련 데이터는 'Age', 'Cabin', 'Embarked'고 테스트 데이터는 'Age', 'Fare', 'Cabin' 항목이다."
   ],
   "cell_type": "markdown",
   "metadata": {}
  },
  {
   "source": [
    "## 2-1. 출발지점 결측치 채우기\n",
    "<br>\n",
    "우선 train의 출발지점(Embarked) 정보부터 채워보도록 하자. 출발지점이 누락된 승객은 2명밖에 없다.\n",
    "<br>\n",
    "이들의 정보를 살펴보자\n"
   ],
   "cell_type": "markdown",
   "metadata": {}
  },
  {
   "cell_type": "code",
   "execution_count": 3,
   "metadata": {},
   "outputs": [
    {
     "output_type": "execute_result",
     "data": {
      "text/plain": [
       "     PassengerId  Survived  Pclass                                       Name  \\\n",
       "61            62         1       1                        Icard, Miss. Amelie   \n",
       "829          830         1       1  Stone, Mrs. George Nelson (Martha Evelyn)   \n",
       "\n",
       "        Sex   Age  SibSp  Parch  Ticket  Fare Cabin Embarked  \n",
       "61   female  38.0      0      0  113572  80.0   B28      NaN  \n",
       "829  female  62.0      0      0  113572  80.0   B28      NaN  "
      ],
      "text/html": "<div>\n<style scoped>\n    .dataframe tbody tr th:only-of-type {\n        vertical-align: middle;\n    }\n\n    .dataframe tbody tr th {\n        vertical-align: top;\n    }\n\n    .dataframe thead th {\n        text-align: right;\n    }\n</style>\n<table border=\"1\" class=\"dataframe\">\n  <thead>\n    <tr style=\"text-align: right;\">\n      <th></th>\n      <th>PassengerId</th>\n      <th>Survived</th>\n      <th>Pclass</th>\n      <th>Name</th>\n      <th>Sex</th>\n      <th>Age</th>\n      <th>SibSp</th>\n      <th>Parch</th>\n      <th>Ticket</th>\n      <th>Fare</th>\n      <th>Cabin</th>\n      <th>Embarked</th>\n    </tr>\n  </thead>\n  <tbody>\n    <tr>\n      <th>61</th>\n      <td>62</td>\n      <td>1</td>\n      <td>1</td>\n      <td>Icard, Miss. Amelie</td>\n      <td>female</td>\n      <td>38.0</td>\n      <td>0</td>\n      <td>0</td>\n      <td>113572</td>\n      <td>80.0</td>\n      <td>B28</td>\n      <td>NaN</td>\n    </tr>\n    <tr>\n      <th>829</th>\n      <td>830</td>\n      <td>1</td>\n      <td>1</td>\n      <td>Stone, Mrs. George Nelson (Martha Evelyn)</td>\n      <td>female</td>\n      <td>62.0</td>\n      <td>0</td>\n      <td>0</td>\n      <td>113572</td>\n      <td>80.0</td>\n      <td>B28</td>\n      <td>NaN</td>\n    </tr>\n  </tbody>\n</table>\n</div>"
     },
     "metadata": {},
     "execution_count": 3
    }
   ],
   "source": [
    " train[train['Embarked'].isna()]"
   ]
  },
  {
   "source": [
    "두 명 모두 1등급 객실을 사용했고 생존에 성공했고 동행한 형제/자매나 배우자가 없으며 부모/자식과도 같이 동행하지 않았음을 알 수 있다. \n",
    "<br>\n",
    "그런데 같은 객실을 사용한 것으로 보아 어떠한 인연이 있던게 아닌가 추측된다. "
   ],
   "cell_type": "markdown",
   "metadata": {}
  },
  {
   "source": [
    "결측치를 채우기 위해 동행인 없이 'B'가 객실 정보에 들어있는 1등급 객실 승객들을 살펴보자"
   ],
   "cell_type": "markdown",
   "metadata": {}
  },
  {
   "cell_type": "code",
   "execution_count": 7,
   "metadata": {},
   "outputs": [
    {
     "output_type": "execute_result",
     "data": {
      "text/plain": [
       "  Embarked        Fare\n",
       "0        C  115.974533\n",
       "1        S   59.944318"
      ],
      "text/html": "<div>\n<style scoped>\n    .dataframe tbody tr th:only-of-type {\n        vertical-align: middle;\n    }\n\n    .dataframe tbody tr th {\n        vertical-align: top;\n    }\n\n    .dataframe thead th {\n        text-align: right;\n    }\n</style>\n<table border=\"1\" class=\"dataframe\">\n  <thead>\n    <tr style=\"text-align: right;\">\n      <th></th>\n      <th>Embarked</th>\n      <th>Fare</th>\n    </tr>\n  </thead>\n  <tbody>\n    <tr>\n      <th>0</th>\n      <td>C</td>\n      <td>115.974533</td>\n    </tr>\n    <tr>\n      <th>1</th>\n      <td>S</td>\n      <td>59.944318</td>\n    </tr>\n  </tbody>\n</table>\n</div>"
     },
     "metadata": {},
     "execution_count": 7
    }
   ],
   "source": [
    "train[(train['Pclass']==1) & (train['Cabin'].str.contains(\"B\") == True) & (train['Parch']==0) & (train['SibSp']==0)].groupby(['Embarked'], as_index=False)['Fare'].mean()"
   ]
  },
  {
   "source": [
    "차이가 많이 난다. 115.97453 - 80 = 35.97453이고 80 - 59.944318 ~= 20이므로 비교적 더 가까운 S에서 출발했다고 가정하자."
   ],
   "cell_type": "markdown",
   "metadata": {}
  },
  {
   "cell_type": "code",
   "execution_count": 3,
   "metadata": {},
   "outputs": [],
   "source": [
    "train['Embarked'].fillna('S', inplace=True) # 결측치를 S로 채웠다. "
   ]
  },
  {
   "source": [
    "## 2-2. 객실 결측치 채우기\n",
    "<br>\n",
    "이제 가장 결측치가 많은 'Cabin' 특성을 채우자. 앞서 확인했듯 객실종류가 굉장히 많았다. B20, C27, F 등등...\n",
    "<br>\n",
    "그러나 이들 데이터가 갖고 있는 공통점이 있다. 바로 숫자 앞에 있는 알파벳이다. 숫자의 공통점 보다는 영어의 공통점을 더 많이 발견할 수 있었다.\n",
    "<br>\n",
    "고로 나는 데이터의 원활한 분류를 위해 객실 데이터를 앞의 영어만 남겨놓고 다 지울거다."
   ],
   "cell_type": "markdown",
   "metadata": {}
  },
  {
   "cell_type": "code",
   "execution_count": 4,
   "metadata": {},
   "outputs": [],
   "source": [
    "# 객실 번호를 영어만 남겨놓기\n",
    "train['Cabin'] = train['Cabin'].str[0]\n",
    "test['Cabin'] = test['Cabin'].str[0]"
   ]
  },
  {
   "source": [
    "앞에 알파벳만 남겨진 객실 데이터 자료를 살펴보자"
   ],
   "cell_type": "markdown",
   "metadata": {}
  },
  {
   "cell_type": "code",
   "execution_count": 11,
   "metadata": {},
   "outputs": [
    {
     "output_type": "execute_result",
     "data": {
      "text/plain": [
       "C    59\n",
       "B    47\n",
       "D    33\n",
       "E    32\n",
       "A    15\n",
       "F    13\n",
       "G     4\n",
       "T     1\n",
       "Name: Cabin, dtype: int64"
      ]
     },
     "metadata": {},
     "execution_count": 11
    }
   ],
   "source": [
    "train['Cabin'].value_counts()"
   ]
  },
  {
   "source": [
    "깔끔하게 분류된다. 이제 객실 등급별로 데이터를 살펴보자"
   ],
   "cell_type": "markdown",
   "metadata": {}
  },
  {
   "cell_type": "code",
   "execution_count": 12,
   "metadata": {},
   "outputs": [
    {
     "output_type": "execute_result",
     "data": {
      "text/plain": [
       "  Cabin  PassengerId  Survived  Pclass        Age     SibSp     Parch  \\\n",
       "0     A   439.600000  0.466667     1.0  44.833333  0.133333  0.133333   \n",
       "1     B   521.808511  0.744681     1.0  34.955556  0.361702  0.574468   \n",
       "2     C   406.440678  0.593220     1.0  36.086667  0.644068  0.474576   \n",
       "3     D   503.068966  0.758621     1.0  40.037037  0.482759  0.344828   \n",
       "4     E   486.120000  0.720000     1.0  40.083333  0.400000  0.320000   \n",
       "5     T   340.000000  0.000000     1.0  45.000000  0.000000  0.000000   \n",
       "\n",
       "         Fare  \n",
       "0   39.623887  \n",
       "1  113.505764  \n",
       "2  100.151341  \n",
       "3   63.324286  \n",
       "4   55.740168  \n",
       "5   35.500000  "
      ],
      "text/html": "<div>\n<style scoped>\n    .dataframe tbody tr th:only-of-type {\n        vertical-align: middle;\n    }\n\n    .dataframe tbody tr th {\n        vertical-align: top;\n    }\n\n    .dataframe thead th {\n        text-align: right;\n    }\n</style>\n<table border=\"1\" class=\"dataframe\">\n  <thead>\n    <tr style=\"text-align: right;\">\n      <th></th>\n      <th>Cabin</th>\n      <th>PassengerId</th>\n      <th>Survived</th>\n      <th>Pclass</th>\n      <th>Age</th>\n      <th>SibSp</th>\n      <th>Parch</th>\n      <th>Fare</th>\n    </tr>\n  </thead>\n  <tbody>\n    <tr>\n      <th>0</th>\n      <td>A</td>\n      <td>439.600000</td>\n      <td>0.466667</td>\n      <td>1.0</td>\n      <td>44.833333</td>\n      <td>0.133333</td>\n      <td>0.133333</td>\n      <td>39.623887</td>\n    </tr>\n    <tr>\n      <th>1</th>\n      <td>B</td>\n      <td>521.808511</td>\n      <td>0.744681</td>\n      <td>1.0</td>\n      <td>34.955556</td>\n      <td>0.361702</td>\n      <td>0.574468</td>\n      <td>113.505764</td>\n    </tr>\n    <tr>\n      <th>2</th>\n      <td>C</td>\n      <td>406.440678</td>\n      <td>0.593220</td>\n      <td>1.0</td>\n      <td>36.086667</td>\n      <td>0.644068</td>\n      <td>0.474576</td>\n      <td>100.151341</td>\n    </tr>\n    <tr>\n      <th>3</th>\n      <td>D</td>\n      <td>503.068966</td>\n      <td>0.758621</td>\n      <td>1.0</td>\n      <td>40.037037</td>\n      <td>0.482759</td>\n      <td>0.344828</td>\n      <td>63.324286</td>\n    </tr>\n    <tr>\n      <th>4</th>\n      <td>E</td>\n      <td>486.120000</td>\n      <td>0.720000</td>\n      <td>1.0</td>\n      <td>40.083333</td>\n      <td>0.400000</td>\n      <td>0.320000</td>\n      <td>55.740168</td>\n    </tr>\n    <tr>\n      <th>5</th>\n      <td>T</td>\n      <td>340.000000</td>\n      <td>0.000000</td>\n      <td>1.0</td>\n      <td>45.000000</td>\n      <td>0.000000</td>\n      <td>0.000000</td>\n      <td>35.500000</td>\n    </tr>\n  </tbody>\n</table>\n</div>"
     },
     "metadata": {},
     "execution_count": 12
    }
   ],
   "source": [
    "train[train['Pclass'] == 1].groupby(['Cabin'], as_index=False).mean()"
   ]
  },
  {
   "cell_type": "code",
   "execution_count": 13,
   "metadata": {},
   "outputs": [
    {
     "output_type": "execute_result",
     "data": {
      "text/plain": [
       "  Cabin  PassengerId  Survived  Pclass        Age  SibSp  Parch       Fare\n",
       "0     D      279.250     0.750     2.0  32.250000   0.00   0.00  13.166675\n",
       "1     E      479.750     0.750     2.0  38.833333   0.00   0.00  11.587500\n",
       "2     F      302.125     0.875     2.0  16.687500   0.75   0.75  23.750000"
      ],
      "text/html": "<div>\n<style scoped>\n    .dataframe tbody tr th:only-of-type {\n        vertical-align: middle;\n    }\n\n    .dataframe tbody tr th {\n        vertical-align: top;\n    }\n\n    .dataframe thead th {\n        text-align: right;\n    }\n</style>\n<table border=\"1\" class=\"dataframe\">\n  <thead>\n    <tr style=\"text-align: right;\">\n      <th></th>\n      <th>Cabin</th>\n      <th>PassengerId</th>\n      <th>Survived</th>\n      <th>Pclass</th>\n      <th>Age</th>\n      <th>SibSp</th>\n      <th>Parch</th>\n      <th>Fare</th>\n    </tr>\n  </thead>\n  <tbody>\n    <tr>\n      <th>0</th>\n      <td>D</td>\n      <td>279.250</td>\n      <td>0.750</td>\n      <td>2.0</td>\n      <td>32.250000</td>\n      <td>0.00</td>\n      <td>0.00</td>\n      <td>13.166675</td>\n    </tr>\n    <tr>\n      <th>1</th>\n      <td>E</td>\n      <td>479.750</td>\n      <td>0.750</td>\n      <td>2.0</td>\n      <td>38.833333</td>\n      <td>0.00</td>\n      <td>0.00</td>\n      <td>11.587500</td>\n    </tr>\n    <tr>\n      <th>2</th>\n      <td>F</td>\n      <td>302.125</td>\n      <td>0.875</td>\n      <td>2.0</td>\n      <td>16.687500</td>\n      <td>0.75</td>\n      <td>0.75</td>\n      <td>23.750000</td>\n    </tr>\n  </tbody>\n</table>\n</div>"
     },
     "metadata": {},
     "execution_count": 13
    }
   ],
   "source": [
    "train[train['Pclass'] == 2].groupby(['Cabin'], as_index=False).mean()"
   ]
  },
  {
   "cell_type": "code",
   "execution_count": 14,
   "metadata": {},
   "outputs": [
    {
     "output_type": "execute_result",
     "data": {
      "text/plain": [
       "  Cabin  PassengerId  Survived  Pclass        Age  SibSp     Parch      Fare\n",
       "0     E   668.666667       1.0     3.0  21.666667    0.0  0.666667  11.00000\n",
       "1     F   479.600000       0.2     3.0  28.666667    0.2  0.200000  10.61166\n",
       "2     G   216.000000       0.5     3.0  14.750000    0.5  1.250000  13.58125"
      ],
      "text/html": "<div>\n<style scoped>\n    .dataframe tbody tr th:only-of-type {\n        vertical-align: middle;\n    }\n\n    .dataframe tbody tr th {\n        vertical-align: top;\n    }\n\n    .dataframe thead th {\n        text-align: right;\n    }\n</style>\n<table border=\"1\" class=\"dataframe\">\n  <thead>\n    <tr style=\"text-align: right;\">\n      <th></th>\n      <th>Cabin</th>\n      <th>PassengerId</th>\n      <th>Survived</th>\n      <th>Pclass</th>\n      <th>Age</th>\n      <th>SibSp</th>\n      <th>Parch</th>\n      <th>Fare</th>\n    </tr>\n  </thead>\n  <tbody>\n    <tr>\n      <th>0</th>\n      <td>E</td>\n      <td>668.666667</td>\n      <td>1.0</td>\n      <td>3.0</td>\n      <td>21.666667</td>\n      <td>0.0</td>\n      <td>0.666667</td>\n      <td>11.00000</td>\n    </tr>\n    <tr>\n      <th>1</th>\n      <td>F</td>\n      <td>479.600000</td>\n      <td>0.2</td>\n      <td>3.0</td>\n      <td>28.666667</td>\n      <td>0.2</td>\n      <td>0.200000</td>\n      <td>10.61166</td>\n    </tr>\n    <tr>\n      <th>2</th>\n      <td>G</td>\n      <td>216.000000</td>\n      <td>0.5</td>\n      <td>3.0</td>\n      <td>14.750000</td>\n      <td>0.5</td>\n      <td>1.250000</td>\n      <td>13.58125</td>\n    </tr>\n  </tbody>\n</table>\n</div>"
     },
     "metadata": {},
     "execution_count": 14
    }
   ],
   "source": [
    "train[train['Pclass'] == 3].groupby(['Cabin'], as_index=False).mean()"
   ]
  },
  {
   "source": [
    "같은 객실 등급일 때, 객실 종류별로 가격이 다르다. \n",
    "<br>\n",
    "이제 같은 출발지점, 객실 종류일 때 출발지점 별로 평균 요금 차이를 살펴보자. 다 살펴보면 너무 많으니  1등급 'C' 객실 승객에 대해서만 살펴보자"
   ],
   "cell_type": "markdown",
   "metadata": {}
  },
  {
   "cell_type": "code",
   "execution_count": 15,
   "metadata": {},
   "outputs": [
    {
     "output_type": "execute_result",
     "data": {
      "text/plain": [
       "  Embarked  PassengerId  Survived  Pclass        Age     SibSp     Parch  \\\n",
       "0        C   531.238095  0.666667     1.0  33.842105  0.428571  0.380952   \n",
       "1        Q   329.500000  0.500000     1.0  38.500000  1.500000  0.000000   \n",
       "2        S   337.916667  0.555556     1.0  37.347333  0.722222  0.555556   \n",
       "\n",
       "         Fare  \n",
       "0   98.582533  \n",
       "1   90.000000  \n",
       "2  101.630442  "
      ],
      "text/html": "<div>\n<style scoped>\n    .dataframe tbody tr th:only-of-type {\n        vertical-align: middle;\n    }\n\n    .dataframe tbody tr th {\n        vertical-align: top;\n    }\n\n    .dataframe thead th {\n        text-align: right;\n    }\n</style>\n<table border=\"1\" class=\"dataframe\">\n  <thead>\n    <tr style=\"text-align: right;\">\n      <th></th>\n      <th>Embarked</th>\n      <th>PassengerId</th>\n      <th>Survived</th>\n      <th>Pclass</th>\n      <th>Age</th>\n      <th>SibSp</th>\n      <th>Parch</th>\n      <th>Fare</th>\n    </tr>\n  </thead>\n  <tbody>\n    <tr>\n      <th>0</th>\n      <td>C</td>\n      <td>531.238095</td>\n      <td>0.666667</td>\n      <td>1.0</td>\n      <td>33.842105</td>\n      <td>0.428571</td>\n      <td>0.380952</td>\n      <td>98.582533</td>\n    </tr>\n    <tr>\n      <th>1</th>\n      <td>Q</td>\n      <td>329.500000</td>\n      <td>0.500000</td>\n      <td>1.0</td>\n      <td>38.500000</td>\n      <td>1.500000</td>\n      <td>0.000000</td>\n      <td>90.000000</td>\n    </tr>\n    <tr>\n      <th>2</th>\n      <td>S</td>\n      <td>337.916667</td>\n      <td>0.555556</td>\n      <td>1.0</td>\n      <td>37.347333</td>\n      <td>0.722222</td>\n      <td>0.555556</td>\n      <td>101.630442</td>\n    </tr>\n  </tbody>\n</table>\n</div>"
     },
     "metadata": {},
     "execution_count": 15
    }
   ],
   "source": [
    "train[(train['Pclass'] == 1) & (train['Cabin'] == 'C')].groupby(['Embarked'], as_index=False).mean()"
   ]
  },
  {
   "source": [
    "요금 차이가 난다는 사실을 알 수 있다. 이제 'S'에서 탑승한 1등급 객실 승객의 객실 종류별 평균 데이터를 살펴보자"
   ],
   "cell_type": "markdown",
   "metadata": {}
  },
  {
   "cell_type": "code",
   "execution_count": 16,
   "metadata": {},
   "outputs": [
    {
     "output_type": "execute_result",
     "data": {
      "text/plain": [
       "  Cabin  PassengerId  Survived  Pclass        Age     SibSp     Parch  \\\n",
       "0     A   465.375000  0.375000     1.0  36.400000  0.000000  0.250000   \n",
       "1     B   627.869565  0.695652     1.0  33.090909  0.391304  0.608696   \n",
       "2     C   337.916667  0.555556     1.0  37.347333  0.722222  0.555556   \n",
       "3     D   564.722222  0.666667     1.0  39.000000  0.388889  0.388889   \n",
       "4     E   498.900000  0.650000     1.0  41.421053  0.350000  0.300000   \n",
       "5     T   340.000000  0.000000     1.0  45.000000  0.000000  0.000000   \n",
       "\n",
       "         Fare  \n",
       "0   40.731763  \n",
       "1   85.372283  \n",
       "2  101.630442  \n",
       "3   49.719906  \n",
       "4   46.448750  \n",
       "5   35.500000  "
      ],
      "text/html": "<div>\n<style scoped>\n    .dataframe tbody tr th:only-of-type {\n        vertical-align: middle;\n    }\n\n    .dataframe tbody tr th {\n        vertical-align: top;\n    }\n\n    .dataframe thead th {\n        text-align: right;\n    }\n</style>\n<table border=\"1\" class=\"dataframe\">\n  <thead>\n    <tr style=\"text-align: right;\">\n      <th></th>\n      <th>Cabin</th>\n      <th>PassengerId</th>\n      <th>Survived</th>\n      <th>Pclass</th>\n      <th>Age</th>\n      <th>SibSp</th>\n      <th>Parch</th>\n      <th>Fare</th>\n    </tr>\n  </thead>\n  <tbody>\n    <tr>\n      <th>0</th>\n      <td>A</td>\n      <td>465.375000</td>\n      <td>0.375000</td>\n      <td>1.0</td>\n      <td>36.400000</td>\n      <td>0.000000</td>\n      <td>0.250000</td>\n      <td>40.731763</td>\n    </tr>\n    <tr>\n      <th>1</th>\n      <td>B</td>\n      <td>627.869565</td>\n      <td>0.695652</td>\n      <td>1.0</td>\n      <td>33.090909</td>\n      <td>0.391304</td>\n      <td>0.608696</td>\n      <td>85.372283</td>\n    </tr>\n    <tr>\n      <th>2</th>\n      <td>C</td>\n      <td>337.916667</td>\n      <td>0.555556</td>\n      <td>1.0</td>\n      <td>37.347333</td>\n      <td>0.722222</td>\n      <td>0.555556</td>\n      <td>101.630442</td>\n    </tr>\n    <tr>\n      <th>3</th>\n      <td>D</td>\n      <td>564.722222</td>\n      <td>0.666667</td>\n      <td>1.0</td>\n      <td>39.000000</td>\n      <td>0.388889</td>\n      <td>0.388889</td>\n      <td>49.719906</td>\n    </tr>\n    <tr>\n      <th>4</th>\n      <td>E</td>\n      <td>498.900000</td>\n      <td>0.650000</td>\n      <td>1.0</td>\n      <td>41.421053</td>\n      <td>0.350000</td>\n      <td>0.300000</td>\n      <td>46.448750</td>\n    </tr>\n    <tr>\n      <th>5</th>\n      <td>T</td>\n      <td>340.000000</td>\n      <td>0.000000</td>\n      <td>1.0</td>\n      <td>45.000000</td>\n      <td>0.000000</td>\n      <td>0.000000</td>\n      <td>35.500000</td>\n    </tr>\n  </tbody>\n</table>\n</div>"
     },
     "metadata": {},
     "execution_count": 16
    }
   ],
   "source": [
    "train[(train['Pclass'] == 1) & (train['Embarked'] == 'S')].groupby(['Cabin'], as_index=False).mean()"
   ]
  },
  {
   "source": [
    "앞서 동행한 사람의 여부에 따라서도 요금에 차이가 났다는 사실을 확인하였다. 같은 종류, 등급의 객실이고 같은 지점에서 출발했을 때 동행한 사람 별로 요금 차이가 얼마나 나는지 알아보자.\n",
    "<br>\n",
    "앞서 했듯 가장 표본이 많은 'C' 객실에 대해서만 알아보자"
   ],
   "cell_type": "markdown",
   "metadata": {}
  },
  {
   "cell_type": "code",
   "execution_count": 18,
   "metadata": {},
   "outputs": [
    {
     "output_type": "execute_result",
     "data": {
      "text/plain": [
       "   SibSp  PassengerId  Survived  Pclass        Age     Parch        Fare\n",
       "0      0   342.941176  0.529412     1.0  45.791667  0.235294   78.315688\n",
       "1      1   353.600000  0.533333     1.0  32.280000  0.666667   99.123333\n",
       "2      2   572.000000  1.000000     1.0  53.000000  0.000000   51.479200\n",
       "3      3   153.000000  0.666667     1.0  22.000000  2.000000  263.000000"
      ],
      "text/html": "<div>\n<style scoped>\n    .dataframe tbody tr th:only-of-type {\n        vertical-align: middle;\n    }\n\n    .dataframe tbody tr th {\n        vertical-align: top;\n    }\n\n    .dataframe thead th {\n        text-align: right;\n    }\n</style>\n<table border=\"1\" class=\"dataframe\">\n  <thead>\n    <tr style=\"text-align: right;\">\n      <th></th>\n      <th>SibSp</th>\n      <th>PassengerId</th>\n      <th>Survived</th>\n      <th>Pclass</th>\n      <th>Age</th>\n      <th>Parch</th>\n      <th>Fare</th>\n    </tr>\n  </thead>\n  <tbody>\n    <tr>\n      <th>0</th>\n      <td>0</td>\n      <td>342.941176</td>\n      <td>0.529412</td>\n      <td>1.0</td>\n      <td>45.791667</td>\n      <td>0.235294</td>\n      <td>78.315688</td>\n    </tr>\n    <tr>\n      <th>1</th>\n      <td>1</td>\n      <td>353.600000</td>\n      <td>0.533333</td>\n      <td>1.0</td>\n      <td>32.280000</td>\n      <td>0.666667</td>\n      <td>99.123333</td>\n    </tr>\n    <tr>\n      <th>2</th>\n      <td>2</td>\n      <td>572.000000</td>\n      <td>1.000000</td>\n      <td>1.0</td>\n      <td>53.000000</td>\n      <td>0.000000</td>\n      <td>51.479200</td>\n    </tr>\n    <tr>\n      <th>3</th>\n      <td>3</td>\n      <td>153.000000</td>\n      <td>0.666667</td>\n      <td>1.0</td>\n      <td>22.000000</td>\n      <td>2.000000</td>\n      <td>263.000000</td>\n    </tr>\n  </tbody>\n</table>\n</div>"
     },
     "metadata": {},
     "execution_count": 18
    }
   ],
   "source": [
    "train[(train['Pclass'] == 1) & (train['Embarked'] == 'S') & (train['Cabin'] == 'C')].groupby(['SibSp'], as_index=False).mean()"
   ]
  },
  {
   "cell_type": "code",
   "execution_count": 19,
   "metadata": {},
   "outputs": [
    {
     "output_type": "execute_result",
     "data": {
      "text/plain": [
       "   Parch  PassengerId  Survived  Pclass        Age     SibSp        Fare\n",
       "0      0   355.500000  0.576923     1.0  41.775000  0.500000   64.625162\n",
       "1      1   301.000000  0.500000     1.0  48.000000  0.000000  153.462500\n",
       "2      2   268.714286  0.571429     1.0  17.845714  1.714286  201.216671\n",
       "3      4   439.000000  0.000000     1.0  64.000000  1.000000  263.000000"
      ],
      "text/html": "<div>\n<style scoped>\n    .dataframe tbody tr th:only-of-type {\n        vertical-align: middle;\n    }\n\n    .dataframe tbody tr th {\n        vertical-align: top;\n    }\n\n    .dataframe thead th {\n        text-align: right;\n    }\n</style>\n<table border=\"1\" class=\"dataframe\">\n  <thead>\n    <tr style=\"text-align: right;\">\n      <th></th>\n      <th>Parch</th>\n      <th>PassengerId</th>\n      <th>Survived</th>\n      <th>Pclass</th>\n      <th>Age</th>\n      <th>SibSp</th>\n      <th>Fare</th>\n    </tr>\n  </thead>\n  <tbody>\n    <tr>\n      <th>0</th>\n      <td>0</td>\n      <td>355.500000</td>\n      <td>0.576923</td>\n      <td>1.0</td>\n      <td>41.775000</td>\n      <td>0.500000</td>\n      <td>64.625162</td>\n    </tr>\n    <tr>\n      <th>1</th>\n      <td>1</td>\n      <td>301.000000</td>\n      <td>0.500000</td>\n      <td>1.0</td>\n      <td>48.000000</td>\n      <td>0.000000</td>\n      <td>153.462500</td>\n    </tr>\n    <tr>\n      <th>2</th>\n      <td>2</td>\n      <td>268.714286</td>\n      <td>0.571429</td>\n      <td>1.0</td>\n      <td>17.845714</td>\n      <td>1.714286</td>\n      <td>201.216671</td>\n    </tr>\n    <tr>\n      <th>3</th>\n      <td>4</td>\n      <td>439.000000</td>\n      <td>0.000000</td>\n      <td>1.0</td>\n      <td>64.000000</td>\n      <td>1.000000</td>\n      <td>263.000000</td>\n    </tr>\n  </tbody>\n</table>\n</div>"
     },
     "metadata": {},
     "execution_count": 19
    }
   ],
   "source": [
    "train[(train['Pclass'] == 1) & (train['Embarked'] == 'S') & (train['Cabin'] == 'C')].groupby(['Parch'], as_index=False).mean()"
   ]
  },
  {
   "source": [
    "요금 차이가 꽤 많이 난다. 그런데 이들을 다 고려해 객실 결측치를 채우자니 너무 복잡해지고 Parch와 SibSp모두 1 이상의 값(예 : 가족 여행)일 때는 난감해지는 상황이 발생한다.\n",
    "<br>\n",
    "그래서 SibSp와 Parch를 합한 동행 숫자 'Accompany_num'이라는 특성을 만들거다. 'Accompany_num' = 'Sibsp' + 'Parch'가 되는 것."
   ],
   "cell_type": "markdown",
   "metadata": {}
  },
  {
   "cell_type": "code",
   "execution_count": 5,
   "metadata": {},
   "outputs": [],
   "source": [
    "train['Accompany_num'] = train['SibSp'] + train['Parch']\n",
    "test['Accompany_num'] = test['SibSp'] + test['Parch']\n",
    "\n",
    "train.drop('SibSp', axis=1, inplace=True)\n",
    "train.drop('Parch', axis=1, inplace=True)\n",
    "\n",
    "test.drop('SibSp', axis=1, inplace=True)\n",
    "test.drop('Parch', axis=1, inplace=True)"
   ]
  },
  {
   "source": [
    "데이터를 확인해본다"
   ],
   "cell_type": "markdown",
   "metadata": {}
  },
  {
   "cell_type": "code",
   "execution_count": 6,
   "metadata": {},
   "outputs": [
    {
     "output_type": "execute_result",
     "data": {
      "text/plain": [
       "     PassengerId  Survived  Pclass  \\\n",
       "0              1         0       3   \n",
       "1              2         1       1   \n",
       "2              3         1       3   \n",
       "3              4         1       1   \n",
       "4              5         0       3   \n",
       "..           ...       ...     ...   \n",
       "886          887         0       2   \n",
       "887          888         1       1   \n",
       "888          889         0       3   \n",
       "889          890         1       1   \n",
       "890          891         0       3   \n",
       "\n",
       "                                                  Name     Sex   Age  \\\n",
       "0                              Braund, Mr. Owen Harris    male  22.0   \n",
       "1    Cumings, Mrs. John Bradley (Florence Briggs Th...  female  38.0   \n",
       "2                               Heikkinen, Miss. Laina  female  26.0   \n",
       "3         Futrelle, Mrs. Jacques Heath (Lily May Peel)  female  35.0   \n",
       "4                             Allen, Mr. William Henry    male  35.0   \n",
       "..                                                 ...     ...   ...   \n",
       "886                              Montvila, Rev. Juozas    male  27.0   \n",
       "887                       Graham, Miss. Margaret Edith  female  19.0   \n",
       "888           Johnston, Miss. Catherine Helen \"Carrie\"  female   NaN   \n",
       "889                              Behr, Mr. Karl Howell    male  26.0   \n",
       "890                                Dooley, Mr. Patrick    male  32.0   \n",
       "\n",
       "               Ticket     Fare Cabin Embarked  Accompany_num  \n",
       "0           A/5 21171   7.2500   NaN        S              1  \n",
       "1            PC 17599  71.2833     C        C              1  \n",
       "2    STON/O2. 3101282   7.9250   NaN        S              0  \n",
       "3              113803  53.1000     C        S              1  \n",
       "4              373450   8.0500   NaN        S              0  \n",
       "..                ...      ...   ...      ...            ...  \n",
       "886            211536  13.0000   NaN        S              0  \n",
       "887            112053  30.0000     B        S              0  \n",
       "888        W./C. 6607  23.4500   NaN        S              3  \n",
       "889            111369  30.0000     C        C              0  \n",
       "890            370376   7.7500   NaN        Q              0  \n",
       "\n",
       "[891 rows x 11 columns]"
      ],
      "text/html": "<div>\n<style scoped>\n    .dataframe tbody tr th:only-of-type {\n        vertical-align: middle;\n    }\n\n    .dataframe tbody tr th {\n        vertical-align: top;\n    }\n\n    .dataframe thead th {\n        text-align: right;\n    }\n</style>\n<table border=\"1\" class=\"dataframe\">\n  <thead>\n    <tr style=\"text-align: right;\">\n      <th></th>\n      <th>PassengerId</th>\n      <th>Survived</th>\n      <th>Pclass</th>\n      <th>Name</th>\n      <th>Sex</th>\n      <th>Age</th>\n      <th>Ticket</th>\n      <th>Fare</th>\n      <th>Cabin</th>\n      <th>Embarked</th>\n      <th>Accompany_num</th>\n    </tr>\n  </thead>\n  <tbody>\n    <tr>\n      <th>0</th>\n      <td>1</td>\n      <td>0</td>\n      <td>3</td>\n      <td>Braund, Mr. Owen Harris</td>\n      <td>male</td>\n      <td>22.0</td>\n      <td>A/5 21171</td>\n      <td>7.2500</td>\n      <td>NaN</td>\n      <td>S</td>\n      <td>1</td>\n    </tr>\n    <tr>\n      <th>1</th>\n      <td>2</td>\n      <td>1</td>\n      <td>1</td>\n      <td>Cumings, Mrs. John Bradley (Florence Briggs Th...</td>\n      <td>female</td>\n      <td>38.0</td>\n      <td>PC 17599</td>\n      <td>71.2833</td>\n      <td>C</td>\n      <td>C</td>\n      <td>1</td>\n    </tr>\n    <tr>\n      <th>2</th>\n      <td>3</td>\n      <td>1</td>\n      <td>3</td>\n      <td>Heikkinen, Miss. Laina</td>\n      <td>female</td>\n      <td>26.0</td>\n      <td>STON/O2. 3101282</td>\n      <td>7.9250</td>\n      <td>NaN</td>\n      <td>S</td>\n      <td>0</td>\n    </tr>\n    <tr>\n      <th>3</th>\n      <td>4</td>\n      <td>1</td>\n      <td>1</td>\n      <td>Futrelle, Mrs. Jacques Heath (Lily May Peel)</td>\n      <td>female</td>\n      <td>35.0</td>\n      <td>113803</td>\n      <td>53.1000</td>\n      <td>C</td>\n      <td>S</td>\n      <td>1</td>\n    </tr>\n    <tr>\n      <th>4</th>\n      <td>5</td>\n      <td>0</td>\n      <td>3</td>\n      <td>Allen, Mr. William Henry</td>\n      <td>male</td>\n      <td>35.0</td>\n      <td>373450</td>\n      <td>8.0500</td>\n      <td>NaN</td>\n      <td>S</td>\n      <td>0</td>\n    </tr>\n    <tr>\n      <th>...</th>\n      <td>...</td>\n      <td>...</td>\n      <td>...</td>\n      <td>...</td>\n      <td>...</td>\n      <td>...</td>\n      <td>...</td>\n      <td>...</td>\n      <td>...</td>\n      <td>...</td>\n      <td>...</td>\n    </tr>\n    <tr>\n      <th>886</th>\n      <td>887</td>\n      <td>0</td>\n      <td>2</td>\n      <td>Montvila, Rev. Juozas</td>\n      <td>male</td>\n      <td>27.0</td>\n      <td>211536</td>\n      <td>13.0000</td>\n      <td>NaN</td>\n      <td>S</td>\n      <td>0</td>\n    </tr>\n    <tr>\n      <th>887</th>\n      <td>888</td>\n      <td>1</td>\n      <td>1</td>\n      <td>Graham, Miss. Margaret Edith</td>\n      <td>female</td>\n      <td>19.0</td>\n      <td>112053</td>\n      <td>30.0000</td>\n      <td>B</td>\n      <td>S</td>\n      <td>0</td>\n    </tr>\n    <tr>\n      <th>888</th>\n      <td>889</td>\n      <td>0</td>\n      <td>3</td>\n      <td>Johnston, Miss. Catherine Helen \"Carrie\"</td>\n      <td>female</td>\n      <td>NaN</td>\n      <td>W./C. 6607</td>\n      <td>23.4500</td>\n      <td>NaN</td>\n      <td>S</td>\n      <td>3</td>\n    </tr>\n    <tr>\n      <th>889</th>\n      <td>890</td>\n      <td>1</td>\n      <td>1</td>\n      <td>Behr, Mr. Karl Howell</td>\n      <td>male</td>\n      <td>26.0</td>\n      <td>111369</td>\n      <td>30.0000</td>\n      <td>C</td>\n      <td>C</td>\n      <td>0</td>\n    </tr>\n    <tr>\n      <th>890</th>\n      <td>891</td>\n      <td>0</td>\n      <td>3</td>\n      <td>Dooley, Mr. Patrick</td>\n      <td>male</td>\n      <td>32.0</td>\n      <td>370376</td>\n      <td>7.7500</td>\n      <td>NaN</td>\n      <td>Q</td>\n      <td>0</td>\n    </tr>\n  </tbody>\n</table>\n<p>891 rows × 11 columns</p>\n</div>"
     },
     "metadata": {},
     "execution_count": 6
    }
   ],
   "source": [
    "train"
   ]
  },
  {
   "cell_type": "code",
   "execution_count": 12,
   "metadata": {},
   "outputs": [
    {
     "output_type": "execute_result",
     "data": {
      "text/plain": [
       "     PassengerId  Pclass                                          Name  \\\n",
       "0            892       3                              Kelly, Mr. James   \n",
       "1            893       3              Wilkes, Mrs. James (Ellen Needs)   \n",
       "2            894       2                     Myles, Mr. Thomas Francis   \n",
       "3            895       3                              Wirz, Mr. Albert   \n",
       "4            896       3  Hirvonen, Mrs. Alexander (Helga E Lindqvist)   \n",
       "..           ...     ...                                           ...   \n",
       "413         1305       3                            Spector, Mr. Woolf   \n",
       "414         1306       1                  Oliva y Ocana, Dona. Fermina   \n",
       "415         1307       3                  Saether, Mr. Simon Sivertsen   \n",
       "416         1308       3                           Ware, Mr. Frederick   \n",
       "417         1309       3                      Peter, Master. Michael J   \n",
       "\n",
       "        Sex   Age              Ticket      Fare Cabin Embarked  Accompany_num  \n",
       "0      male  34.5              330911    7.8292   NaN        Q              0  \n",
       "1    female  47.0              363272    7.0000   NaN        S              1  \n",
       "2      male  62.0              240276    9.6875   NaN        Q              0  \n",
       "3      male  27.0              315154    8.6625   NaN        S              0  \n",
       "4    female  22.0             3101298   12.2875   NaN        S              2  \n",
       "..      ...   ...                 ...       ...   ...      ...            ...  \n",
       "413    male   NaN           A.5. 3236    8.0500   NaN        S              0  \n",
       "414  female  39.0            PC 17758  108.9000     C        C              0  \n",
       "415    male  38.5  SOTON/O.Q. 3101262    7.2500   NaN        S              0  \n",
       "416    male   NaN              359309    8.0500   NaN        S              0  \n",
       "417    male   NaN                2668   22.3583   NaN        C              2  \n",
       "\n",
       "[418 rows x 10 columns]"
      ],
      "text/html": "<div>\n<style scoped>\n    .dataframe tbody tr th:only-of-type {\n        vertical-align: middle;\n    }\n\n    .dataframe tbody tr th {\n        vertical-align: top;\n    }\n\n    .dataframe thead th {\n        text-align: right;\n    }\n</style>\n<table border=\"1\" class=\"dataframe\">\n  <thead>\n    <tr style=\"text-align: right;\">\n      <th></th>\n      <th>PassengerId</th>\n      <th>Pclass</th>\n      <th>Name</th>\n      <th>Sex</th>\n      <th>Age</th>\n      <th>Ticket</th>\n      <th>Fare</th>\n      <th>Cabin</th>\n      <th>Embarked</th>\n      <th>Accompany_num</th>\n    </tr>\n  </thead>\n  <tbody>\n    <tr>\n      <th>0</th>\n      <td>892</td>\n      <td>3</td>\n      <td>Kelly, Mr. James</td>\n      <td>male</td>\n      <td>34.5</td>\n      <td>330911</td>\n      <td>7.8292</td>\n      <td>NaN</td>\n      <td>Q</td>\n      <td>0</td>\n    </tr>\n    <tr>\n      <th>1</th>\n      <td>893</td>\n      <td>3</td>\n      <td>Wilkes, Mrs. James (Ellen Needs)</td>\n      <td>female</td>\n      <td>47.0</td>\n      <td>363272</td>\n      <td>7.0000</td>\n      <td>NaN</td>\n      <td>S</td>\n      <td>1</td>\n    </tr>\n    <tr>\n      <th>2</th>\n      <td>894</td>\n      <td>2</td>\n      <td>Myles, Mr. Thomas Francis</td>\n      <td>male</td>\n      <td>62.0</td>\n      <td>240276</td>\n      <td>9.6875</td>\n      <td>NaN</td>\n      <td>Q</td>\n      <td>0</td>\n    </tr>\n    <tr>\n      <th>3</th>\n      <td>895</td>\n      <td>3</td>\n      <td>Wirz, Mr. Albert</td>\n      <td>male</td>\n      <td>27.0</td>\n      <td>315154</td>\n      <td>8.6625</td>\n      <td>NaN</td>\n      <td>S</td>\n      <td>0</td>\n    </tr>\n    <tr>\n      <th>4</th>\n      <td>896</td>\n      <td>3</td>\n      <td>Hirvonen, Mrs. Alexander (Helga E Lindqvist)</td>\n      <td>female</td>\n      <td>22.0</td>\n      <td>3101298</td>\n      <td>12.2875</td>\n      <td>NaN</td>\n      <td>S</td>\n      <td>2</td>\n    </tr>\n    <tr>\n      <th>...</th>\n      <td>...</td>\n      <td>...</td>\n      <td>...</td>\n      <td>...</td>\n      <td>...</td>\n      <td>...</td>\n      <td>...</td>\n      <td>...</td>\n      <td>...</td>\n      <td>...</td>\n    </tr>\n    <tr>\n      <th>413</th>\n      <td>1305</td>\n      <td>3</td>\n      <td>Spector, Mr. Woolf</td>\n      <td>male</td>\n      <td>NaN</td>\n      <td>A.5. 3236</td>\n      <td>8.0500</td>\n      <td>NaN</td>\n      <td>S</td>\n      <td>0</td>\n    </tr>\n    <tr>\n      <th>414</th>\n      <td>1306</td>\n      <td>1</td>\n      <td>Oliva y Ocana, Dona. Fermina</td>\n      <td>female</td>\n      <td>39.0</td>\n      <td>PC 17758</td>\n      <td>108.9000</td>\n      <td>C</td>\n      <td>C</td>\n      <td>0</td>\n    </tr>\n    <tr>\n      <th>415</th>\n      <td>1307</td>\n      <td>3</td>\n      <td>Saether, Mr. Simon Sivertsen</td>\n      <td>male</td>\n      <td>38.5</td>\n      <td>SOTON/O.Q. 3101262</td>\n      <td>7.2500</td>\n      <td>NaN</td>\n      <td>S</td>\n      <td>0</td>\n    </tr>\n    <tr>\n      <th>416</th>\n      <td>1308</td>\n      <td>3</td>\n      <td>Ware, Mr. Frederick</td>\n      <td>male</td>\n      <td>NaN</td>\n      <td>359309</td>\n      <td>8.0500</td>\n      <td>NaN</td>\n      <td>S</td>\n      <td>0</td>\n    </tr>\n    <tr>\n      <th>417</th>\n      <td>1309</td>\n      <td>3</td>\n      <td>Peter, Master. Michael J</td>\n      <td>male</td>\n      <td>NaN</td>\n      <td>2668</td>\n      <td>22.3583</td>\n      <td>NaN</td>\n      <td>C</td>\n      <td>2</td>\n    </tr>\n  </tbody>\n</table>\n<p>418 rows × 10 columns</p>\n</div>"
     },
     "metadata": {},
     "execution_count": 12
    }
   ],
   "source": [
    "test"
   ]
  },
  {
   "source": [
    "데이터가 잘있다. 이제 Accompany_num을 기준으로 요금 평균값을 구해보자."
   ],
   "cell_type": "markdown",
   "metadata": {}
  },
  {
   "cell_type": "code",
   "execution_count": 6,
   "metadata": {},
   "outputs": [
    {
     "output_type": "execute_result",
     "data": {
      "text/plain": [
       "   Accompany_num  PassengerId  Survived  Pclass        Age        Fare\n",
       "0              0   350.642857  0.500000     1.0  46.944444   61.398214\n",
       "1              1   335.692308  0.615385     1.0  38.000000   82.778846\n",
       "2              2   445.500000  1.000000     1.0  42.000000  108.172950\n",
       "3              3   367.666667  0.333333     1.0   9.306667  151.550000\n",
       "4              5   224.500000  0.500000     1.0  32.500000  263.000000"
      ],
      "text/html": "<div>\n<style scoped>\n    .dataframe tbody tr th:only-of-type {\n        vertical-align: middle;\n    }\n\n    .dataframe tbody tr th {\n        vertical-align: top;\n    }\n\n    .dataframe thead th {\n        text-align: right;\n    }\n</style>\n<table border=\"1\" class=\"dataframe\">\n  <thead>\n    <tr style=\"text-align: right;\">\n      <th></th>\n      <th>Accompany_num</th>\n      <th>PassengerId</th>\n      <th>Survived</th>\n      <th>Pclass</th>\n      <th>Age</th>\n      <th>Fare</th>\n    </tr>\n  </thead>\n  <tbody>\n    <tr>\n      <th>0</th>\n      <td>0</td>\n      <td>350.642857</td>\n      <td>0.500000</td>\n      <td>1.0</td>\n      <td>46.944444</td>\n      <td>61.398214</td>\n    </tr>\n    <tr>\n      <th>1</th>\n      <td>1</td>\n      <td>335.692308</td>\n      <td>0.615385</td>\n      <td>1.0</td>\n      <td>38.000000</td>\n      <td>82.778846</td>\n    </tr>\n    <tr>\n      <th>2</th>\n      <td>2</td>\n      <td>445.500000</td>\n      <td>1.000000</td>\n      <td>1.0</td>\n      <td>42.000000</td>\n      <td>108.172950</td>\n    </tr>\n    <tr>\n      <th>3</th>\n      <td>3</td>\n      <td>367.666667</td>\n      <td>0.333333</td>\n      <td>1.0</td>\n      <td>9.306667</td>\n      <td>151.550000</td>\n    </tr>\n    <tr>\n      <th>4</th>\n      <td>5</td>\n      <td>224.500000</td>\n      <td>0.500000</td>\n      <td>1.0</td>\n      <td>32.500000</td>\n      <td>263.000000</td>\n    </tr>\n  </tbody>\n</table>\n</div>"
     },
     "metadata": {},
     "execution_count": 6
    }
   ],
   "source": [
    "train[(train['Pclass'] == 1) & (train['Embarked'] == 'S') & (train['Cabin'] == 'C')].groupby(['Accompany_num'], as_index=False).mean()"
   ]
  },
  {
   "cell_type": "code",
   "execution_count": 7,
   "metadata": {},
   "outputs": [
    {
     "output_type": "execute_result",
     "data": {
      "text/plain": [
       "  Cabin  PassengerId  Survived  Pclass        Age       Fare  Accompany_num\n",
       "0     A   468.142857  0.285714     1.0  44.500000  34.856543            0.0\n",
       "1     B   555.076923  0.615385     1.0  36.333333  63.029808            0.0\n",
       "2     C   350.642857  0.500000     1.0  46.944444  61.398214            0.0\n",
       "3     D   707.714286  0.571429     1.0  42.500000  36.594043            0.0\n",
       "4     E   540.500000  0.600000     1.0  46.100000  30.085000            0.0\n",
       "5     T   340.000000  0.000000     1.0  45.000000  35.500000            0.0"
      ],
      "text/html": "<div>\n<style scoped>\n    .dataframe tbody tr th:only-of-type {\n        vertical-align: middle;\n    }\n\n    .dataframe tbody tr th {\n        vertical-align: top;\n    }\n\n    .dataframe thead th {\n        text-align: right;\n    }\n</style>\n<table border=\"1\" class=\"dataframe\">\n  <thead>\n    <tr style=\"text-align: right;\">\n      <th></th>\n      <th>Cabin</th>\n      <th>PassengerId</th>\n      <th>Survived</th>\n      <th>Pclass</th>\n      <th>Age</th>\n      <th>Fare</th>\n      <th>Accompany_num</th>\n    </tr>\n  </thead>\n  <tbody>\n    <tr>\n      <th>0</th>\n      <td>A</td>\n      <td>468.142857</td>\n      <td>0.285714</td>\n      <td>1.0</td>\n      <td>44.500000</td>\n      <td>34.856543</td>\n      <td>0.0</td>\n    </tr>\n    <tr>\n      <th>1</th>\n      <td>B</td>\n      <td>555.076923</td>\n      <td>0.615385</td>\n      <td>1.0</td>\n      <td>36.333333</td>\n      <td>63.029808</td>\n      <td>0.0</td>\n    </tr>\n    <tr>\n      <th>2</th>\n      <td>C</td>\n      <td>350.642857</td>\n      <td>0.500000</td>\n      <td>1.0</td>\n      <td>46.944444</td>\n      <td>61.398214</td>\n      <td>0.0</td>\n    </tr>\n    <tr>\n      <th>3</th>\n      <td>D</td>\n      <td>707.714286</td>\n      <td>0.571429</td>\n      <td>1.0</td>\n      <td>42.500000</td>\n      <td>36.594043</td>\n      <td>0.0</td>\n    </tr>\n    <tr>\n      <th>4</th>\n      <td>E</td>\n      <td>540.500000</td>\n      <td>0.600000</td>\n      <td>1.0</td>\n      <td>46.100000</td>\n      <td>30.085000</td>\n      <td>0.0</td>\n    </tr>\n    <tr>\n      <th>5</th>\n      <td>T</td>\n      <td>340.000000</td>\n      <td>0.000000</td>\n      <td>1.0</td>\n      <td>45.000000</td>\n      <td>35.500000</td>\n      <td>0.0</td>\n    </tr>\n  </tbody>\n</table>\n</div>"
     },
     "metadata": {},
     "execution_count": 7
    }
   ],
   "source": [
    "train[(train['Pclass'] == 1) & (train['Embarked'] == 'S') & (train['Accompany_num'] == 0)].groupby(['Cabin'], as_index=False).mean()"
   ]
  },
  {
   "source": [
    "동행 숫자가 올라갈 수록 평균 요금이 올라가며 동행인이 같아도 객실 종류에 따라 평균 요금이 다르다. 그러니 동행 숫자도 객실 결측치를 채우는데 이용하자"
   ],
   "cell_type": "markdown",
   "metadata": {}
  },
  {
   "source": [
    "### 객실 결손치 채우는 함수 생성, 적용 \n",
    "<br>\n",
    "우리는 출발 지점, 동행 숫자, 객실 등급, 객실 종류에 따라 평균 요금이 다르다는 사실을 확인했다. \n",
    "<br>\n",
    "그래서 나는 객실 종류가 누락된 승객들의 요금과 출발 지점, 동행 숫자, 객실 등급, 객실 종류에 따른 평균 요금을 모두 비교해 가장 가까운 값에 해당하는 객실 종류를 결측치에 채워줄거다. "
   ],
   "cell_type": "markdown",
   "metadata": {}
  },
  {
   "cell_type": "code",
   "execution_count": 6,
   "metadata": {},
   "outputs": [],
   "source": [
    "# 객실 결측치를 채우는 함수.\n",
    "# 출발지점마다 각 승객의 요금을 각 객실의 평균값과 비교해 가장 가까이 있는 객실을 넣어준다.\n",
    "def Fill_Cabin(data):\n",
    "    for i in range(len(data)):\n",
    "\n",
    "        # 1등석\n",
    "        if ((data['Pclass'][i] == 1) & (data['Cabin'][i] not in ['A', 'B', 'C', 'D', 'E', 'F', 'G', 'T'])) : # 객실 정보가 없는 1등석 승객들의 자료만 if문 안에 들인다\n",
    "            if(data['Embarked'][i] == 'S') : # 만약 S에서 출발했으면\n",
    "                for j in range(0, train['Accompany_num'].max() + 1) : \n",
    "                    if(data['Accompany_num'][i] == j) : # 같은 동행 숫자에 대한 각 객실별 평균요금 구하기 위함\n",
    "                        diff_Cabin_A = data['Fare'][i] - data[(data['Pclass'] == 1) & (data['Cabin'] == 'A') & (data['Embarked'] == 'S') & (data['Accompany_num'] == j)]['Fare'].mean()\n",
    "                        diff_Cabin_B = data['Fare'][i] - data[(data['Pclass'] == 1) & (data['Cabin'] == 'B') & (data['Embarked'] == 'S') & (data['Accompany_num'] == j)]['Fare'].mean()\n",
    "                        diff_Cabin_C = data['Fare'][i] - data[(data['Pclass'] == 1) & (data['Cabin'] == 'C') & (data['Embarked'] == 'S') & (data['Accompany_num'] == j)]['Fare'].mean()\n",
    "                        diff_Cabin_D = data['Fare'][i] - data[(data['Pclass'] == 1) & (data['Cabin'] == 'D') & (data['Embarked'] == 'S') & (data['Accompany_num'] == j)]['Fare'].mean()\n",
    "                        diff_Cabin_E = data['Fare'][i] - data[(data['Pclass'] == 1) & (data['Cabin'] == 'E') & (data['Embarked'] == 'S') & (data['Accompany_num'] == j)]['Fare'].mean()\n",
    "                        diff_Cabin_T = data['Fare'][i] - data[(data['Pclass'] == 1) & (data['Cabin'] == 'T') & (data['Embarked'] == 'S') & (data['Accompany_num'] == j)]['Fare'].mean()\n",
    "\n",
    "                        # 다루기 쉽게 넘파이 배열로 만든 다음 NaN값을 제거해준다.\n",
    "                        diff_list = np.array([abs(diff_Cabin_A), abs(diff_Cabin_B), abs(diff_Cabin_C), abs(diff_Cabin_D), abs(diff_Cabin_E), abs(diff_Cabin_T)])\n",
    "                        diff_list = diff_list[~np.isnan(diff_list)]\n",
    "\n",
    "                        # 그리고 평균 요금과의 차이가 가장 적게 나는 객실을 구한 뒤 이를 넣어준다. 요금이 가장 적게차이나는 객실에 있었다고 가정하는 것이다. \n",
    "                        if(abs(diff_Cabin_A) == diff_list.min()):\n",
    "                            data['Cabin'][i] = 'A'\n",
    "                        elif(abs(diff_Cabin_B) == diff_list.min()):\n",
    "                            data['Cabin'][i] = 'B'\n",
    "                        elif(abs(diff_Cabin_C) == diff_list.min()):\n",
    "                            data['Cabin'][i] = 'C'\n",
    "                        elif(abs(diff_Cabin_D) == diff_list.min()):\n",
    "                            data['Cabin'][i] = 'D'\n",
    "                        elif(abs(diff_Cabin_E) == diff_list.min()):\n",
    "                            data['Cabin'][i] = 'E'\n",
    "                        elif(abs(diff_Cabin_T) == diff_list.min()):\n",
    "                            data['Cabin'][i] = 'T'\n",
    "                        break\n",
    "            # 나머지 자료에도 같은 과정을 적용한다. \n",
    "            elif(data['Embarked'][i] == 'Q') : \n",
    "                for j in range(0, train['Accompany_num'].max() + 1) : \n",
    "                    if(data['Accompany_num'][i] == j) :\n",
    "                        diff_Cabin_A = data['Fare'][i] - data[(data['Pclass'] == 1) & (data['Cabin'] == 'A') & (data['Embarked'] == 'Q') & (data['Accompany_num'] == j)]['Fare'].mean()\n",
    "                        diff_Cabin_B = data['Fare'][i] - data[(data['Pclass'] == 1) & (data['Cabin'] == 'B') & (data['Embarked'] == 'Q') & (data['Accompany_num'] == j)]['Fare'].mean()\n",
    "                        diff_Cabin_C = data['Fare'][i] - data[(data['Pclass'] == 1) & (data['Cabin'] == 'C') & (data['Embarked'] == 'Q') & (data['Accompany_num'] == j)]['Fare'].mean()\n",
    "                        diff_Cabin_D = data['Fare'][i] - data[(data['Pclass'] == 1) & (data['Cabin'] == 'D') & (data['Embarked'] == 'Q') & (data['Accompany_num'] == j)]['Fare'].mean()\n",
    "                        diff_Cabin_E = data['Fare'][i] - data[(data['Pclass'] == 1) & (data['Cabin'] == 'E') & (data['Embarked'] == 'Q') & (data['Accompany_num'] == j)]['Fare'].mean()\n",
    "                        diff_Cabin_T = data['Fare'][i] - data[(data['Pclass'] == 1) & (data['Cabin'] == 'T') & (data['Embarked'] == 'Q') & (data['Accompany_num'] == j)]['Fare'].mean()\n",
    "\n",
    "                        diff_list = np.array([abs(diff_Cabin_A), abs(diff_Cabin_B), abs(diff_Cabin_C), abs(diff_Cabin_D), abs(diff_Cabin_E), abs(diff_Cabin_T)])\n",
    "                        diff_list = diff_list[~np.isnan(diff_list)]\n",
    "                        \n",
    "                        if(abs(diff_Cabin_A) == diff_list.min()):\n",
    "                            data['Cabin'][i] = 'A'\n",
    "                        elif(abs(diff_Cabin_B) == diff_list.min()):\n",
    "                            data['Cabin'][i] = 'B'\n",
    "                        elif(abs(diff_Cabin_C) == diff_list.min()):\n",
    "                            data['Cabin'][i] = 'C'\n",
    "                        elif(abs(diff_Cabin_D) == diff_list.min()):\n",
    "                            data['Cabin'][i] = 'D'\n",
    "                        elif(abs(diff_Cabin_E) == diff_list.min()):\n",
    "                            data['Cabin'][i] = 'E'\n",
    "                        elif(abs(diff_Cabin_T) == diff_list.min()):\n",
    "                            data['Cabin'][i] = 'T'\n",
    "                        break\n",
    "\n",
    "            elif(data['Embarked'][i] == 'C') : \n",
    "                for j in range(0, train['Accompany_num'].max() + 1) : \n",
    "                    if(data['Accompany_num'][i] == j) :\n",
    "                        diff_Cabin_A = data['Fare'][i] - data[(data['Pclass'] == 1) & (data['Cabin'] == 'A') & (data['Embarked'] == 'C') & (data['Accompany_num'] == j)]['Fare'].mean()\n",
    "                        diff_Cabin_B = data['Fare'][i] - data[(data['Pclass'] == 1) & (data['Cabin'] == 'B') & (data['Embarked'] == 'C') & (data['Accompany_num'] == j)]['Fare'].mean()\n",
    "                        diff_Cabin_C = data['Fare'][i] - data[(data['Pclass'] == 1) & (data['Cabin'] == 'C') & (data['Embarked'] == 'C') & (data['Accompany_num'] == j)]['Fare'].mean()\n",
    "                        diff_Cabin_D = data['Fare'][i] - data[(data['Pclass'] == 1) & (data['Cabin'] == 'D') & (data['Embarked'] == 'C') & (data['Accompany_num'] == j)]['Fare'].mean()\n",
    "                        diff_Cabin_E = data['Fare'][i] - data[(data['Pclass'] == 1) & (data['Cabin'] == 'E') & (data['Embarked'] == 'C') & (data['Accompany_num'] == j)]['Fare'].mean()\n",
    "                        diff_Cabin_T = data['Fare'][i] - data[(data['Pclass'] == 1) & (data['Cabin'] == 'T') & (data['Embarked'] == 'C') & (data['Accompany_num'] == j)]['Fare'].mean()\n",
    "\n",
    "                        diff_list = np.array([abs(diff_Cabin_A), abs(diff_Cabin_B), abs(diff_Cabin_C), abs(diff_Cabin_D), abs(diff_Cabin_E), abs(diff_Cabin_T)])\n",
    "                        diff_list = diff_list[~np.isnan(diff_list)]\n",
    "                        \n",
    "                        if(abs(diff_Cabin_A) == diff_list.min()):\n",
    "                            data['Cabin'][i] = 'A'\n",
    "                        elif(abs(diff_Cabin_B) == diff_list.min()):\n",
    "                            data['Cabin'][i] = 'B'\n",
    "                        elif(abs(diff_Cabin_C) == diff_list.min()):\n",
    "                            data['Cabin'][i] = 'C'\n",
    "                        elif(abs(diff_Cabin_D) == diff_list.min()):\n",
    "                            data['Cabin'][i] = 'D'\n",
    "                        elif(abs(diff_Cabin_E) == diff_list.min()):\n",
    "                            data['Cabin'][i] = 'E'\n",
    "                        elif(abs(diff_Cabin_T) == diff_list.min()):\n",
    "                            data['Cabin'][i] = 'T'\n",
    "                        break\n",
    "        # 2등석\n",
    "        elif ((data['Pclass'][i] == 2) & (data['Cabin'][i] not in ['A', 'B', 'C', 'D', 'E', 'F', 'G', 'T'])) : \n",
    "            if(data['Embarked'][i] == 'S') : \n",
    "                for j in range(0, train['Accompany_num'].max() + 1) : \n",
    "                    if(data['Accompany_num'][i] == j) : # 같은 동행 숫자에 대한 각 객실별 평균요금 구하기 위함\n",
    "                        # 2등석은 F, D, E 객실만 사용했기에 F, D, E 객실에 대한 평균 요금만 구한 뒤 F, D, E 중 하나를 넣어준다. \n",
    "                        diff_Cabin_F = data['Fare'][i] - data[(data['Pclass'] == 2) & (data['Cabin'] == 'F') & (data['Embarked'] == 'S') & (data['Accompany_num'] == j)]['Fare'].mean()\n",
    "                        diff_Cabin_D = data['Fare'][i] - data[(data['Pclass'] == 2) & (data['Cabin'] == 'D') & (data['Embarked'] == 'S') & (data['Accompany_num'] == j)]['Fare'].mean()\n",
    "                        diff_Cabin_E = data['Fare'][i] - data[(data['Pclass'] == 2) & (data['Cabin'] == 'E') & (data['Embarked'] == 'S') & (data['Accompany_num'] == j)]['Fare'].mean()\n",
    "\n",
    "                        diff_list = np.array([abs(diff_Cabin_F), abs(diff_Cabin_D), abs(diff_Cabin_E)])\n",
    "                        diff_list = diff_list[~np.isnan(diff_list)]\n",
    "\n",
    "                        # 만약 요금의 평균값 자료가 없으면(자료가 부족하면) 가장 데이터가 많은 S 객실로 지정해준다\n",
    "                        if len(diff_list) == 0 : \n",
    "                            data['Cabin'][i] = 'F'\n",
    "                        else:\n",
    "                            if(abs(diff_Cabin_F) == diff_list.min()):\n",
    "                                data['Cabin'][i] = 'F'\n",
    "                            elif(abs(diff_Cabin_D) == diff_list.min()):\n",
    "                                data['Cabin'][i] = 'D'\n",
    "                            elif(abs(diff_Cabin_E) == diff_list.min()):\n",
    "                                data['Cabin'][i] = 'E'\n",
    "                        break\n",
    "            elif(data['Embarked'][i] == 'Q') : \n",
    "                for j in range(0, train['Accompany_num'].max() + 1) : \n",
    "                    if(data['Accompany_num'][i] == j) :\n",
    "                        diff_Cabin_F = data['Fare'][i] - data[(data['Pclass'] == 2) & (data['Cabin'] == 'F') & (data['Embarked'] == 'Q') & (data['Accompany_num'] == j)]['Fare'].mean()\n",
    "                        diff_Cabin_D = data['Fare'][i] - data[(data['Pclass'] == 2) & (data['Cabin'] == 'D') & (data['Embarked'] == 'Q') & (data['Accompany_num'] == j)]['Fare'].mean()\n",
    "                        diff_Cabin_E = data['Fare'][i] - data[(data['Pclass'] == 2) & (data['Cabin'] == 'E') & (data['Embarked'] == 'Q') & (data['Accompany_num'] == j)]['Fare'].mean()\n",
    "\n",
    "                        diff_list = np.array([abs(diff_Cabin_F), abs(diff_Cabin_D), abs(diff_Cabin_E)])\n",
    "                        diff_list = diff_list[~np.isnan(diff_list)]\n",
    "\n",
    "                        if len(diff_list) == 0 : \n",
    "                            data['Cabin'][i] = 'F'\n",
    "                        else:\n",
    "                            if(abs(diff_Cabin_F) == diff_list.min()):\n",
    "                                data['Cabin'][i] = 'F'\n",
    "                            elif(abs(diff_Cabin_D) == diff_list.min()):\n",
    "                                data['Cabin'][i] = 'D'\n",
    "                            elif(abs(diff_Cabin_E) == diff_list.min()):\n",
    "                                data['Cabin'][i] = 'E'\n",
    "                        break\n",
    "            elif(data['Embarked'][i] == 'C') : \n",
    "                for j in range(0, train['Accompany_num'].max() + 1) : \n",
    "                    if(data['Accompany_num'][i] == j) :\n",
    "                        diff_Cabin_F = data['Fare'][i] - data[(data['Pclass'] == 2) & (data['Cabin'] == 'F') & (data['Embarked'] == 'C') & (data['Accompany_num'] == j)]['Fare'].mean()\n",
    "                        diff_Cabin_D = data['Fare'][i] - data[(data['Pclass'] == 2) & (data['Cabin'] == 'D') & (data['Embarked'] == 'C') & (data['Accompany_num'] == j)]['Fare'].mean()\n",
    "                        diff_Cabin_E = data['Fare'][i] - data[(data['Pclass'] == 2) & (data['Cabin'] == 'E') & (data['Embarked'] == 'C') & (data['Accompany_num'] == j)]['Fare'].mean()\n",
    "\n",
    "                        diff_list = np.array([abs(diff_Cabin_F), abs(diff_Cabin_D), abs(diff_Cabin_E)])\n",
    "                        diff_list = diff_list[~np.isnan(diff_list)]\n",
    "\n",
    "                        if len(diff_list) == 0 : \n",
    "                            data['Cabin'][i] = 'F'\n",
    "                        else:\n",
    "                            if(abs(diff_Cabin_F) == diff_list.min()):\n",
    "                                data['Cabin'][i] = 'F'\n",
    "                            elif(abs(diff_Cabin_D) == diff_list.min()):\n",
    "                                data['Cabin'][i] = 'D'\n",
    "                            elif(abs(diff_Cabin_E) == diff_list.min()):\n",
    "                                data['Cabin'][i] = 'E'\n",
    "                        break\n",
    "        # 3등석\n",
    "        elif ((data['Pclass'][i] == 3) & (data['Cabin'][i] not in ['A', 'B', 'C', 'D', 'E', 'F', 'G', 'T'])) : \n",
    "            if(data['Embarked'][i] == 'S') : \n",
    "                for j in range(0, train['Accompany_num'].max() + 1) : \n",
    "                    if(data['Accompany_num'][i] == j) : # 같은 동행 숫자에 대한 각 객실별 평균요금 구하기 위함\n",
    "\n",
    "                        # 3등석은 F, G, E 객실만 존재했기에 F, G, E 객실에 대한 평균 요금만 구해 F, G, E 중 하나를 넣어준다. \n",
    "                        diff_Cabin_F = data['Fare'][i] - data[(data['Pclass'] == 3) & (data['Cabin'] == 'F') & (data['Embarked'] == 'S') & (data['Accompany_num'] == j)]['Fare'].mean()\n",
    "                        diff_Cabin_G = data['Fare'][i] - data[(data['Pclass'] == 3) & (data['Cabin'] == 'G') & (data['Embarked'] == 'S') & (data['Accompany_num'] == j)]['Fare'].mean()\n",
    "                        diff_Cabin_E = data['Fare'][i] - data[(data['Pclass'] == 3) & (data['Cabin'] == 'E') & (data['Embarked'] == 'S') & (data['Accompany_num'] == j)]['Fare'].mean()\n",
    "\n",
    "                        diff_list = np.array([abs(diff_Cabin_F), abs(diff_Cabin_G), abs(diff_Cabin_E)])\n",
    "                        diff_list = diff_list[~np.isnan(diff_list)]\n",
    "\n",
    "                        if len(diff_list) == 0 : \n",
    "                            data['Cabin'][i] = 'F'\n",
    "                        else:\n",
    "                            if(abs(diff_Cabin_F) == diff_list.min()):\n",
    "                                data['Cabin'][i] = 'F'\n",
    "                            elif(abs(diff_Cabin_G) == diff_list.min()):\n",
    "                                data['Cabin'][i] = 'G'\n",
    "                            elif(abs(diff_Cabin_E) == diff_list.min()):\n",
    "                                data['Cabin'][i] = 'E'\n",
    "                        break\n",
    "                \n",
    "            elif(data['Embarked'][i] == 'Q') : \n",
    "                for j in range(0, train['Accompany_num'].max() + 1) : \n",
    "                    if(data['Accompany_num'][i] == j) :\n",
    "                        diff_Cabin_F = data['Fare'][i] - data[(data['Pclass'] == 3) & (data['Cabin'] == 'F') & (data['Embarked'] == 'Q') & (data['Accompany_num'] == j)]['Fare'].mean()\n",
    "                        diff_Cabin_G = data['Fare'][i] - data[(data['Pclass'] == 3) & (data['Cabin'] == 'G') & (data['Embarked'] == 'Q') & (data['Accompany_num'] == j)]['Fare'].mean()\n",
    "                        diff_Cabin_E = data['Fare'][i] - data[(data['Pclass'] == 3) & (data['Cabin'] == 'E') & (data['Embarked'] == 'Q') & (data['Accompany_num'] == j)]['Fare'].mean()\n",
    "\n",
    "                        diff_list = np.array([abs(diff_Cabin_F), abs(diff_Cabin_G), abs(diff_Cabin_E)])\n",
    "                        diff_list = diff_list[~np.isnan(diff_list)]\n",
    "                        if len(diff_list) == 0 : \n",
    "                            data['Cabin'][i] = 'F'\n",
    "                        else:\n",
    "                            if(abs(diff_Cabin_F) == diff_list.min()):\n",
    "                                data['Cabin'][i] = 'F'\n",
    "                            elif(abs(diff_Cabin_G) == diff_list.min()):\n",
    "                                data['Cabin'][i] = 'G'\n",
    "                            elif(abs(diff_Cabin_E) == diff_list.min()):\n",
    "                                data['Cabin'][i] = 'E'\n",
    "                        break\n",
    "\n",
    "            elif(data['Embarked'][i] == 'C') : \n",
    "                for j in range(0, train['Accompany_num'].max() + 1) : \n",
    "                    if(data['Accompany_num'][i] == j) :\n",
    "                        diff_Cabin_F = data['Fare'][i] - data[(data['Pclass'] == 3) & (data['Cabin'] == 'F') & (data['Embarked'] == 'C') & (data['Accompany_num'] == j)]['Fare'].mean()\n",
    "                        diff_Cabin_G = data['Fare'][i] - data[(data['Pclass'] == 3) & (data['Cabin'] == 'G') & (data['Embarked'] == 'C') & (data['Accompany_num'] == j)]['Fare'].mean()\n",
    "                        diff_Cabin_E = data['Fare'][i] - data[(data['Pclass'] == 3) & (data['Cabin'] == 'E') & (data['Embarked'] == 'C') & (data['Accompany_num'] == j)]['Fare'].mean()\n",
    "\n",
    "                        diff_list = np.array([abs(diff_Cabin_F), abs(diff_Cabin_G), abs(diff_Cabin_E)])\n",
    "                        diff_list = diff_list[~np.isnan(diff_list)]\n",
    "                        if len(diff_list) == 0 : \n",
    "                            data['Cabin'][i] = 'F'\n",
    "                        else:\n",
    "                            if(abs(diff_Cabin_F) == diff_list.min()):\n",
    "                                data['Cabin'][i] = 'F'\n",
    "                            elif(abs(diff_Cabin_G) == diff_list.min()):\n",
    "                                data['Cabin'][i] = 'G'\n",
    "                            elif(abs(diff_Cabin_E) == diff_list.min()):\n",
    "                                data['Cabin'][i] = 'E'\n",
    "                        break"
   ]
  },
  {
   "cell_type": "code",
   "execution_count": 7,
   "metadata": {},
   "outputs": [],
   "source": [
    "Fill_Cabin(train) # 훈련 데이터의 결측치 채워주기\n",
    "Fill_Cabin(test) # 테스트 데이터도 결측치를 채워준다."
   ]
  },
  {
   "source": [
    "결측치가 제대로 채워졌는지 확인해보자"
   ],
   "cell_type": "markdown",
   "metadata": {}
  },
  {
   "cell_type": "code",
   "execution_count": 10,
   "metadata": {},
   "outputs": [
    {
     "output_type": "stream",
     "name": "stdout",
     "text": [
      "<class 'pandas.core.frame.DataFrame'>\nRangeIndex: 891 entries, 0 to 890\nData columns (total 11 columns):\n #   Column         Non-Null Count  Dtype  \n---  ------         --------------  -----  \n 0   PassengerId    891 non-null    int64  \n 1   Survived       891 non-null    int64  \n 2   Pclass         891 non-null    int64  \n 3   Name           891 non-null    object \n 4   Sex            891 non-null    object \n 5   Age            714 non-null    float64\n 6   Ticket         891 non-null    object \n 7   Fare           891 non-null    float64\n 8   Cabin          891 non-null    object \n 9   Embarked       891 non-null    object \n 10  Accompany_num  891 non-null    int64  \ndtypes: float64(2), int64(4), object(5)\nmemory usage: 76.7+ KB\n"
     ]
    }
   ],
   "source": [
    "train.info()"
   ]
  },
  {
   "cell_type": "code",
   "execution_count": 11,
   "metadata": {},
   "outputs": [
    {
     "output_type": "stream",
     "name": "stdout",
     "text": [
      "<class 'pandas.core.frame.DataFrame'>\nRangeIndex: 418 entries, 0 to 417\nData columns (total 10 columns):\n #   Column         Non-Null Count  Dtype  \n---  ------         --------------  -----  \n 0   PassengerId    418 non-null    int64  \n 1   Pclass         418 non-null    int64  \n 2   Name           418 non-null    object \n 3   Sex            418 non-null    object \n 4   Age            332 non-null    float64\n 5   Ticket         418 non-null    object \n 6   Fare           417 non-null    float64\n 7   Cabin          418 non-null    object \n 8   Embarked       418 non-null    object \n 9   Accompany_num  418 non-null    int64  \ndtypes: float64(2), int64(3), object(5)\nmemory usage: 32.8+ KB\n"
     ]
    }
   ],
   "source": [
    "test.info()"
   ]
  },
  {
   "source": [
    "제대로 채워졌다. \n",
    "<br>\n",
    "그런데 test의 요금값 특성에 결측치가 있었단 사실을 다시 깨달았다. 잘못하면 에러가 발생할뻔 했지만 요금 정보가 누락된 승객은 객실 정보가 있었기 때문에 에러가 발생하지 않았다. "
   ],
   "cell_type": "markdown",
   "metadata": {}
  },
  {
   "source": [
    "## 2-2-1. test의 요금 결측치 채우기\n",
    "<br>\n",
    "말이 나온김에 test의 요금 결측치를 먼저 채워주도록 하자. 우선 어떤 승객의 요금 정보가 누락되었는지 알아보자."
   ],
   "cell_type": "markdown",
   "metadata": {}
  },
  {
   "cell_type": "code",
   "execution_count": 12,
   "metadata": {},
   "outputs": [
    {
     "output_type": "execute_result",
     "data": {
      "text/plain": [
       "     PassengerId  Pclass                Name   Sex   Age Ticket  Fare Cabin  \\\n",
       "152         1044       3  Storey, Mr. Thomas  male  60.5   3701   NaN     F   \n",
       "\n",
       "    Embarked  Accompany_num  \n",
       "152        S              0  "
      ],
      "text/html": "<div>\n<style scoped>\n    .dataframe tbody tr th:only-of-type {\n        vertical-align: middle;\n    }\n\n    .dataframe tbody tr th {\n        vertical-align: top;\n    }\n\n    .dataframe thead th {\n        text-align: right;\n    }\n</style>\n<table border=\"1\" class=\"dataframe\">\n  <thead>\n    <tr style=\"text-align: right;\">\n      <th></th>\n      <th>PassengerId</th>\n      <th>Pclass</th>\n      <th>Name</th>\n      <th>Sex</th>\n      <th>Age</th>\n      <th>Ticket</th>\n      <th>Fare</th>\n      <th>Cabin</th>\n      <th>Embarked</th>\n      <th>Accompany_num</th>\n    </tr>\n  </thead>\n  <tbody>\n    <tr>\n      <th>152</th>\n      <td>1044</td>\n      <td>3</td>\n      <td>Storey, Mr. Thomas</td>\n      <td>male</td>\n      <td>60.5</td>\n      <td>3701</td>\n      <td>NaN</td>\n      <td>F</td>\n      <td>S</td>\n      <td>0</td>\n    </tr>\n  </tbody>\n</table>\n</div>"
     },
     "metadata": {},
     "execution_count": 12
    }
   ],
   "source": [
    "test[test['Fare'].isna()]"
   ]
  },
  {
   "source": [
    "'S'에서 출발해 F의 3등급 객실에 있던 승객이다. 그러니 'S'에서 출발해 F의 3등급 객실에 있으며 동행한 사람이 없는 승객들의 평균 요금을 넣기로 했다."
   ],
   "cell_type": "markdown",
   "metadata": {}
  },
  {
   "cell_type": "code",
   "execution_count": 8,
   "metadata": {},
   "outputs": [],
   "source": [
    "test['Fare'][152] =  test[(test['Cabin'] == 'F') & (test['Pclass'] == 3) & (test['Embarked'] == 'S') & (test['Accompany_num'] == 0)]['Fare'].mean() "
   ]
  },
  {
   "cell_type": "code",
   "execution_count": 14,
   "metadata": {},
   "outputs": [
    {
     "output_type": "stream",
     "name": "stdout",
     "text": [
      "<class 'pandas.core.frame.DataFrame'>\nRangeIndex: 418 entries, 0 to 417\nData columns (total 10 columns):\n #   Column         Non-Null Count  Dtype  \n---  ------         --------------  -----  \n 0   PassengerId    418 non-null    int64  \n 1   Pclass         418 non-null    int64  \n 2   Name           418 non-null    object \n 3   Sex            418 non-null    object \n 4   Age            332 non-null    float64\n 5   Ticket         418 non-null    object \n 6   Fare           418 non-null    float64\n 7   Cabin          418 non-null    object \n 8   Embarked       418 non-null    object \n 9   Accompany_num  418 non-null    int64  \ndtypes: float64(2), int64(3), object(5)\nmemory usage: 32.8+ KB\n"
     ]
    }
   ],
   "source": [
    "# 결측치가 채워졌는지 테스트 데이터를 확인해보자. 나이 데이터 빼고 다 잘채워졌다. \n",
    "test.info()"
   ]
  },
  {
   "source": [
    "## 2-3. 나이 결측치 채우기\n",
    "<br>\n",
    "이제 나이 결측치만 채우면 된다. \n",
    "<br>\n",
    "객실 등급, 객실 종류, 동행 여부에 따라 평균 나이가 다르다는 사실을 앞서 확인했다. 다시 한 번 확인해보자"
   ],
   "cell_type": "markdown",
   "metadata": {}
  },
  {
   "source": [
    "1등급 객실 승객들을 동행자 기준으로 분류한 뒤 평균값을 구해보자."
   ],
   "cell_type": "markdown",
   "metadata": {}
  },
  {
   "cell_type": "code",
   "execution_count": 15,
   "metadata": {},
   "outputs": [
    {
     "output_type": "execute_result",
     "data": {
      "text/plain": [
       "   Accompany_num  PassengerId  Survived  Pclass        Age        Fare\n",
       "0              0   478.458716  0.532110     1.0  41.005814   63.672514\n",
       "1              1   415.342857  0.728571     1.0  37.190476   91.848039\n",
       "2              2   542.875000  0.750000     1.0  39.500000   95.681075\n",
       "3              3   499.571429  0.714286     1.0  17.845714  133.521429\n",
       "4              4   527.500000  1.000000     1.0  19.500000  262.375000\n",
       "5              5   224.500000  0.500000     1.0  32.500000  263.000000"
      ],
      "text/html": "<div>\n<style scoped>\n    .dataframe tbody tr th:only-of-type {\n        vertical-align: middle;\n    }\n\n    .dataframe tbody tr th {\n        vertical-align: top;\n    }\n\n    .dataframe thead th {\n        text-align: right;\n    }\n</style>\n<table border=\"1\" class=\"dataframe\">\n  <thead>\n    <tr style=\"text-align: right;\">\n      <th></th>\n      <th>Accompany_num</th>\n      <th>PassengerId</th>\n      <th>Survived</th>\n      <th>Pclass</th>\n      <th>Age</th>\n      <th>Fare</th>\n    </tr>\n  </thead>\n  <tbody>\n    <tr>\n      <th>0</th>\n      <td>0</td>\n      <td>478.458716</td>\n      <td>0.532110</td>\n      <td>1.0</td>\n      <td>41.005814</td>\n      <td>63.672514</td>\n    </tr>\n    <tr>\n      <th>1</th>\n      <td>1</td>\n      <td>415.342857</td>\n      <td>0.728571</td>\n      <td>1.0</td>\n      <td>37.190476</td>\n      <td>91.848039</td>\n    </tr>\n    <tr>\n      <th>2</th>\n      <td>2</td>\n      <td>542.875000</td>\n      <td>0.750000</td>\n      <td>1.0</td>\n      <td>39.500000</td>\n      <td>95.681075</td>\n    </tr>\n    <tr>\n      <th>3</th>\n      <td>3</td>\n      <td>499.571429</td>\n      <td>0.714286</td>\n      <td>1.0</td>\n      <td>17.845714</td>\n      <td>133.521429</td>\n    </tr>\n    <tr>\n      <th>4</th>\n      <td>4</td>\n      <td>527.500000</td>\n      <td>1.000000</td>\n      <td>1.0</td>\n      <td>19.500000</td>\n      <td>262.375000</td>\n    </tr>\n    <tr>\n      <th>5</th>\n      <td>5</td>\n      <td>224.500000</td>\n      <td>0.500000</td>\n      <td>1.0</td>\n      <td>32.500000</td>\n      <td>263.000000</td>\n    </tr>\n  </tbody>\n</table>\n</div>"
     },
     "metadata": {},
     "execution_count": 15
    }
   ],
   "source": [
    "train[(train['Pclass'] == 1)].groupby(['Accompany_num'], as_index=False).mean()"
   ]
  },
  {
   "source": [
    "같은 객실 등급일 때 동행자 숫자에 따라 평균 나이에 큰 차이를 보이고 있다. 여러가지 기준을 추가해 데이터를 다시 한 번 확인해보자"
   ],
   "cell_type": "markdown",
   "metadata": {}
  },
  {
   "cell_type": "code",
   "execution_count": 16,
   "metadata": {},
   "outputs": [
    {
     "output_type": "execute_result",
     "data": {
      "text/plain": [
       "  Cabin  PassengerId  Survived  Pclass        Age        Fare  Accompany_num\n",
       "0     A   444.300000  0.300000     1.0  47.153846   33.824160            0.0\n",
       "1     B   499.285714  0.642857     1.0  35.692308  114.163243            0.0\n",
       "2     C   424.318182  0.590909     1.0  40.656250   66.889014            0.0\n",
       "3     D   566.583333  0.583333     1.0  38.000000   48.156600            0.0\n",
       "4     E   492.769231  0.538462     1.0  45.142857   37.781250            0.0\n",
       "5     T   340.000000  0.000000     1.0  45.000000   35.500000            0.0"
      ],
      "text/html": "<div>\n<style scoped>\n    .dataframe tbody tr th:only-of-type {\n        vertical-align: middle;\n    }\n\n    .dataframe tbody tr th {\n        vertical-align: top;\n    }\n\n    .dataframe thead th {\n        text-align: right;\n    }\n</style>\n<table border=\"1\" class=\"dataframe\">\n  <thead>\n    <tr style=\"text-align: right;\">\n      <th></th>\n      <th>Cabin</th>\n      <th>PassengerId</th>\n      <th>Survived</th>\n      <th>Pclass</th>\n      <th>Age</th>\n      <th>Fare</th>\n      <th>Accompany_num</th>\n    </tr>\n  </thead>\n  <tbody>\n    <tr>\n      <th>0</th>\n      <td>A</td>\n      <td>444.300000</td>\n      <td>0.300000</td>\n      <td>1.0</td>\n      <td>47.153846</td>\n      <td>33.824160</td>\n      <td>0.0</td>\n    </tr>\n    <tr>\n      <th>1</th>\n      <td>B</td>\n      <td>499.285714</td>\n      <td>0.642857</td>\n      <td>1.0</td>\n      <td>35.692308</td>\n      <td>114.163243</td>\n      <td>0.0</td>\n    </tr>\n    <tr>\n      <th>2</th>\n      <td>C</td>\n      <td>424.318182</td>\n      <td>0.590909</td>\n      <td>1.0</td>\n      <td>40.656250</td>\n      <td>66.889014</td>\n      <td>0.0</td>\n    </tr>\n    <tr>\n      <th>3</th>\n      <td>D</td>\n      <td>566.583333</td>\n      <td>0.583333</td>\n      <td>1.0</td>\n      <td>38.000000</td>\n      <td>48.156600</td>\n      <td>0.0</td>\n    </tr>\n    <tr>\n      <th>4</th>\n      <td>E</td>\n      <td>492.769231</td>\n      <td>0.538462</td>\n      <td>1.0</td>\n      <td>45.142857</td>\n      <td>37.781250</td>\n      <td>0.0</td>\n    </tr>\n    <tr>\n      <th>5</th>\n      <td>T</td>\n      <td>340.000000</td>\n      <td>0.000000</td>\n      <td>1.0</td>\n      <td>45.000000</td>\n      <td>35.500000</td>\n      <td>0.0</td>\n    </tr>\n  </tbody>\n</table>\n</div>"
     },
     "metadata": {},
     "execution_count": 16
    }
   ],
   "source": [
    "train[(train['Pclass'] == 1) & (train['Accompany_num'] == 0)].groupby(['Cabin'], as_index=False).mean()"
   ]
  },
  {
   "source": [
    "동행자 숫자, 객실 등급을 고정시킨 뒤 객실 종류를 기준으로 데이터를 분류한 뒤 평균값을 구했다. 객실 종류에 따라 평균 나이가 다르다는 사실을 확인할 수 있다."
   ],
   "cell_type": "markdown",
   "metadata": {}
  },
  {
   "source": [
    "이제 성별 기준으로 데이터를 나눠보자"
   ],
   "cell_type": "markdown",
   "metadata": {}
  },
  {
   "cell_type": "code",
   "execution_count": 17,
   "metadata": {},
   "outputs": [
    {
     "output_type": "execute_result",
     "data": {
      "text/plain": [
       "      Sex  PassengerId  Survived  Pclass        Age        Fare  Accompany_num\n",
       "0  female   465.676471  0.970588     1.0  34.937500  105.960538            0.0\n",
       "1    male   484.253333  0.333333     1.0  44.601852   44.501943            0.0"
      ],
      "text/html": "<div>\n<style scoped>\n    .dataframe tbody tr th:only-of-type {\n        vertical-align: middle;\n    }\n\n    .dataframe tbody tr th {\n        vertical-align: top;\n    }\n\n    .dataframe thead th {\n        text-align: right;\n    }\n</style>\n<table border=\"1\" class=\"dataframe\">\n  <thead>\n    <tr style=\"text-align: right;\">\n      <th></th>\n      <th>Sex</th>\n      <th>PassengerId</th>\n      <th>Survived</th>\n      <th>Pclass</th>\n      <th>Age</th>\n      <th>Fare</th>\n      <th>Accompany_num</th>\n    </tr>\n  </thead>\n  <tbody>\n    <tr>\n      <th>0</th>\n      <td>female</td>\n      <td>465.676471</td>\n      <td>0.970588</td>\n      <td>1.0</td>\n      <td>34.937500</td>\n      <td>105.960538</td>\n      <td>0.0</td>\n    </tr>\n    <tr>\n      <th>1</th>\n      <td>male</td>\n      <td>484.253333</td>\n      <td>0.333333</td>\n      <td>1.0</td>\n      <td>44.601852</td>\n      <td>44.501943</td>\n      <td>0.0</td>\n    </tr>\n  </tbody>\n</table>\n</div>"
     },
     "metadata": {},
     "execution_count": 17
    }
   ],
   "source": [
    "train[(train['Pclass'] == 1) & (train['Accompany_num'] == 0)].groupby(['Sex'], as_index=False).mean()"
   ]
  },
  {
   "source": [
    "앞서 구한 데이터를 남, 녀로 분류한 뒤 평균값을 다시 확인해보자. 나이 차이가 꽤 난다. "
   ],
   "cell_type": "markdown",
   "metadata": {}
  },
  {
   "source": [
    "이젠 출발지점에 따른 나이 평균값의 차이를 확인해보자. 약 4살의 차이를 보인다. "
   ],
   "cell_type": "markdown",
   "metadata": {}
  },
  {
   "cell_type": "code",
   "execution_count": 23,
   "metadata": {},
   "outputs": [
    {
     "output_type": "execute_result",
     "data": {
      "text/plain": [
       "  Embarked  PassengerId  Survived  Pclass        Age       Fare  Accompany_num\n",
       "0        C   450.000000  0.609756     1.0  38.393939  93.468595            0.0\n",
       "1        S   495.617647  0.485294     1.0  42.632075  45.707229            0.0"
      ],
      "text/html": "<div>\n<style scoped>\n    .dataframe tbody tr th:only-of-type {\n        vertical-align: middle;\n    }\n\n    .dataframe tbody tr th {\n        vertical-align: top;\n    }\n\n    .dataframe thead th {\n        text-align: right;\n    }\n</style>\n<table border=\"1\" class=\"dataframe\">\n  <thead>\n    <tr style=\"text-align: right;\">\n      <th></th>\n      <th>Embarked</th>\n      <th>PassengerId</th>\n      <th>Survived</th>\n      <th>Pclass</th>\n      <th>Age</th>\n      <th>Fare</th>\n      <th>Accompany_num</th>\n    </tr>\n  </thead>\n  <tbody>\n    <tr>\n      <th>0</th>\n      <td>C</td>\n      <td>450.000000</td>\n      <td>0.609756</td>\n      <td>1.0</td>\n      <td>38.393939</td>\n      <td>93.468595</td>\n      <td>0.0</td>\n    </tr>\n    <tr>\n      <th>1</th>\n      <td>S</td>\n      <td>495.617647</td>\n      <td>0.485294</td>\n      <td>1.0</td>\n      <td>42.632075</td>\n      <td>45.707229</td>\n      <td>0.0</td>\n    </tr>\n  </tbody>\n</table>\n</div>"
     },
     "metadata": {},
     "execution_count": 23
    }
   ],
   "source": [
    "train[(train['Pclass'] == 1) & (train['Accompany_num'] == 0)].groupby(['Embarked'], as_index=False).mean()"
   ]
  },
  {
   "source": [
    "이제 생존여부에 따른 나이 차이를 확인해보자."
   ],
   "cell_type": "markdown",
   "metadata": {}
  },
  {
   "cell_type": "code",
   "execution_count": 24,
   "metadata": {},
   "outputs": [
    {
     "output_type": "execute_result",
     "data": {
      "text/plain": [
       "   Survived  PassengerId  Pclass        Age       Fare  Accompany_num\n",
       "0         0   452.000000     1.0  47.585714  41.313722            0.0\n",
       "1         1   501.724138     1.0  36.490196  83.332831            0.0"
      ],
      "text/html": "<div>\n<style scoped>\n    .dataframe tbody tr th:only-of-type {\n        vertical-align: middle;\n    }\n\n    .dataframe tbody tr th {\n        vertical-align: top;\n    }\n\n    .dataframe thead th {\n        text-align: right;\n    }\n</style>\n<table border=\"1\" class=\"dataframe\">\n  <thead>\n    <tr style=\"text-align: right;\">\n      <th></th>\n      <th>Survived</th>\n      <th>PassengerId</th>\n      <th>Pclass</th>\n      <th>Age</th>\n      <th>Fare</th>\n      <th>Accompany_num</th>\n    </tr>\n  </thead>\n  <tbody>\n    <tr>\n      <th>0</th>\n      <td>0</td>\n      <td>452.000000</td>\n      <td>1.0</td>\n      <td>47.585714</td>\n      <td>41.313722</td>\n      <td>0.0</td>\n    </tr>\n    <tr>\n      <th>1</th>\n      <td>1</td>\n      <td>501.724138</td>\n      <td>1.0</td>\n      <td>36.490196</td>\n      <td>83.332831</td>\n      <td>0.0</td>\n    </tr>\n  </tbody>\n</table>\n</div>"
     },
     "metadata": {},
     "execution_count": 24
    }
   ],
   "source": [
    "train[(train['Pclass'] == 1) & (train['Accompany_num'] == 0)].groupby(['Survived'], as_index=False).mean()"
   ]
  },
  {
   "source": [
    "생존 여부에 따라서도 나이 차이가 났다. "
   ],
   "cell_type": "markdown",
   "metadata": {}
  },
  {
   "source": [
    "데이터를 살펴본 결과, 객실 종류, 성별, 생존여부, 객실, 동행자 수에 따라 평균 나이가 다르다는 사실을 알아냈다. \n",
    "<br>\n",
    "그래서 좌석, 성별, 생존여부, 객실에 따른 평균 나이를 결측치를 채우는데 사용하기로 했다"
   ],
   "cell_type": "markdown",
   "metadata": {}
  },
  {
   "cell_type": "code",
   "execution_count": 9,
   "metadata": {},
   "outputs": [],
   "source": [
    "# 좌석, 성별, 생존여부, 객실, 동행자 숫자, 출발 지점에 따른 평균 나이를 결측치에 채운다 \n",
    "# 데이터가 다 안채워진다.\n",
    "train['Age'].fillna( train.groupby([\"Pclass\", \"Survived\", \"Sex\", \"Cabin\", \"Accompany_num\", \"Embarked\"])[\"Age\"].transform(\"mean\"), inplace=True)\n",
    "test['Age'].fillna( train.groupby([\"Pclass\", \"Survived\", \"Sex\", \"Cabin\", \"Accompany_num\", \"Embarked\"])[\"Age\"].transform(\"mean\"), inplace=True)\n",
    "\n",
    "# 만약 이렇게 해도 데이터가 덜 채워져 있으면 기준을 조금 완화해서 결측치를 채워준다. \n",
    "train['Age'].fillna( train.groupby([\"Pclass\", \"Survived\", \"Sex\", \"Cabin\", \"Accompany_num\"])[\"Age\"].transform(\"mean\"), inplace=True)\n",
    "test['Age'].fillna( train.groupby([\"Pclass\", \"Survived\", \"Sex\", \"Cabin\", \"Accompany_num\"])[\"Age\"].transform(\"mean\"), inplace=True)\n",
    "\n",
    "train['Age'].fillna( train.groupby([\"Pclass\", \"Survived\", \"Sex\", \"Cabin\"])[\"Age\"].transform(\"mean\"), inplace=True)\n",
    "test['Age'].fillna( train.groupby([\"Pclass\", \"Survived\", \"Sex\", \"Cabin\"])[\"Age\"].transform(\"mean\"), inplace=True)"
   ]
  },
  {
   "source": [
    "결측치가 채워진걸 확인해보자"
   ],
   "cell_type": "markdown",
   "metadata": {}
  },
  {
   "cell_type": "code",
   "execution_count": 10,
   "metadata": {},
   "outputs": [
    {
     "output_type": "stream",
     "name": "stdout",
     "text": [
      "<class 'pandas.core.frame.DataFrame'>\nRangeIndex: 891 entries, 0 to 890\nData columns (total 11 columns):\n #   Column         Non-Null Count  Dtype  \n---  ------         --------------  -----  \n 0   PassengerId    891 non-null    int64  \n 1   Survived       891 non-null    int64  \n 2   Pclass         891 non-null    int64  \n 3   Name           891 non-null    object \n 4   Sex            891 non-null    object \n 5   Age            891 non-null    float64\n 6   Ticket         891 non-null    object \n 7   Fare           891 non-null    float64\n 8   Cabin          891 non-null    object \n 9   Embarked       891 non-null    object \n 10  Accompany_num  891 non-null    int64  \ndtypes: float64(2), int64(4), object(5)\nmemory usage: 76.7+ KB\n"
     ]
    }
   ],
   "source": [
    "train.info()"
   ]
  },
  {
   "cell_type": "code",
   "execution_count": 11,
   "metadata": {},
   "outputs": [
    {
     "output_type": "stream",
     "name": "stdout",
     "text": [
      "<class 'pandas.core.frame.DataFrame'>\nRangeIndex: 418 entries, 0 to 417\nData columns (total 10 columns):\n #   Column         Non-Null Count  Dtype  \n---  ------         --------------  -----  \n 0   PassengerId    418 non-null    int64  \n 1   Pclass         418 non-null    int64  \n 2   Name           418 non-null    object \n 3   Sex            418 non-null    object \n 4   Age            418 non-null    float64\n 5   Ticket         418 non-null    object \n 6   Fare           418 non-null    float64\n 7   Cabin          418 non-null    object \n 8   Embarked       418 non-null    object \n 9   Accompany_num  418 non-null    int64  \ndtypes: float64(2), int64(3), object(5)\nmemory usage: 32.8+ KB\n"
     ]
    }
   ],
   "source": [
    "test.info()"
   ]
  },
  {
   "source": [
    "결측치를 다 채웠다. 이제 모델이 사용할 수 있게 데이터를 가공해보자"
   ],
   "cell_type": "markdown",
   "metadata": {}
  },
  {
   "source": [
    "# 3. 데이터 전처리"
   ],
   "cell_type": "markdown",
   "metadata": {}
  },
  {
   "source": [
    "## 3-1. 모델 분류에 영향이 적은 데이터 드랍하기\n",
    "<br>\n",
    "모델이 사용하기 좋게 데이터를 가공하는 시간이다. 여기서 잘 가공해야 좋은 모델을 만들 수 있다.\n",
    "<br>\n",
    "우선 훈련에 도움 안되는 특징들을 선별해 드랍하자. 우선 PassengerId랑 Name, Ticket 항목은 훈련에 유의미한 도움이 되지 않으니 드랍하자\n",
    "<br>\n",
    "테스트 데이터의 PassengerId는 추후 submmision에 저장해야하는 값이므로 추출 후 드랍한다."
   ],
   "cell_type": "markdown",
   "metadata": {}
  },
  {
   "cell_type": "code",
   "execution_count": 12,
   "metadata": {},
   "outputs": [],
   "source": [
    "Drop_target = ['PassengerId', 'Name', 'Ticket']\n",
    "train.drop(Drop_target, axis=1, inplace=True)\n",
    "\n",
    "test_PassengerId = test['PassengerId']\n",
    "test.drop(Drop_target, axis=1, inplace=True)"
   ]
  },
  {
   "source": [
    "데이터를 확인해보자. 잘 지워졌다는 것을 알 수 있다. "
   ],
   "cell_type": "markdown",
   "metadata": {}
  },
  {
   "cell_type": "code",
   "execution_count": 11,
   "metadata": {},
   "outputs": [
    {
     "output_type": "execute_result",
     "data": {
      "text/plain": [
       "     Survived  Pclass     Sex        Age     Fare Cabin Embarked  \\\n",
       "0           0       3    male  22.000000   7.2500     G        S   \n",
       "1           1       1  female  38.000000  71.2833     C        C   \n",
       "2           1       3  female  26.000000   7.9250     E        S   \n",
       "3           1       1  female  35.000000  53.1000     C        S   \n",
       "4           0       3    male  35.000000   8.0500     E        S   \n",
       "..        ...     ...     ...        ...      ...   ...      ...   \n",
       "886         0       2    male  27.000000  13.0000     E        S   \n",
       "887         1       1  female  19.000000  30.0000     B        S   \n",
       "888         0       3  female  23.315705  23.4500     F        S   \n",
       "889         1       1    male  26.000000  30.0000     C        C   \n",
       "890         0       3    male  32.000000   7.7500     F        Q   \n",
       "\n",
       "     Accompany_num  \n",
       "0                1  \n",
       "1                1  \n",
       "2                0  \n",
       "3                1  \n",
       "4                0  \n",
       "..             ...  \n",
       "886              0  \n",
       "887              0  \n",
       "888              3  \n",
       "889              0  \n",
       "890              0  \n",
       "\n",
       "[891 rows x 8 columns]"
      ],
      "text/html": "<div>\n<style scoped>\n    .dataframe tbody tr th:only-of-type {\n        vertical-align: middle;\n    }\n\n    .dataframe tbody tr th {\n        vertical-align: top;\n    }\n\n    .dataframe thead th {\n        text-align: right;\n    }\n</style>\n<table border=\"1\" class=\"dataframe\">\n  <thead>\n    <tr style=\"text-align: right;\">\n      <th></th>\n      <th>Survived</th>\n      <th>Pclass</th>\n      <th>Sex</th>\n      <th>Age</th>\n      <th>Fare</th>\n      <th>Cabin</th>\n      <th>Embarked</th>\n      <th>Accompany_num</th>\n    </tr>\n  </thead>\n  <tbody>\n    <tr>\n      <th>0</th>\n      <td>0</td>\n      <td>3</td>\n      <td>male</td>\n      <td>22.000000</td>\n      <td>7.2500</td>\n      <td>G</td>\n      <td>S</td>\n      <td>1</td>\n    </tr>\n    <tr>\n      <th>1</th>\n      <td>1</td>\n      <td>1</td>\n      <td>female</td>\n      <td>38.000000</td>\n      <td>71.2833</td>\n      <td>C</td>\n      <td>C</td>\n      <td>1</td>\n    </tr>\n    <tr>\n      <th>2</th>\n      <td>1</td>\n      <td>3</td>\n      <td>female</td>\n      <td>26.000000</td>\n      <td>7.9250</td>\n      <td>E</td>\n      <td>S</td>\n      <td>0</td>\n    </tr>\n    <tr>\n      <th>3</th>\n      <td>1</td>\n      <td>1</td>\n      <td>female</td>\n      <td>35.000000</td>\n      <td>53.1000</td>\n      <td>C</td>\n      <td>S</td>\n      <td>1</td>\n    </tr>\n    <tr>\n      <th>4</th>\n      <td>0</td>\n      <td>3</td>\n      <td>male</td>\n      <td>35.000000</td>\n      <td>8.0500</td>\n      <td>E</td>\n      <td>S</td>\n      <td>0</td>\n    </tr>\n    <tr>\n      <th>...</th>\n      <td>...</td>\n      <td>...</td>\n      <td>...</td>\n      <td>...</td>\n      <td>...</td>\n      <td>...</td>\n      <td>...</td>\n      <td>...</td>\n    </tr>\n    <tr>\n      <th>886</th>\n      <td>0</td>\n      <td>2</td>\n      <td>male</td>\n      <td>27.000000</td>\n      <td>13.0000</td>\n      <td>E</td>\n      <td>S</td>\n      <td>0</td>\n    </tr>\n    <tr>\n      <th>887</th>\n      <td>1</td>\n      <td>1</td>\n      <td>female</td>\n      <td>19.000000</td>\n      <td>30.0000</td>\n      <td>B</td>\n      <td>S</td>\n      <td>0</td>\n    </tr>\n    <tr>\n      <th>888</th>\n      <td>0</td>\n      <td>3</td>\n      <td>female</td>\n      <td>23.315705</td>\n      <td>23.4500</td>\n      <td>F</td>\n      <td>S</td>\n      <td>3</td>\n    </tr>\n    <tr>\n      <th>889</th>\n      <td>1</td>\n      <td>1</td>\n      <td>male</td>\n      <td>26.000000</td>\n      <td>30.0000</td>\n      <td>C</td>\n      <td>C</td>\n      <td>0</td>\n    </tr>\n    <tr>\n      <th>890</th>\n      <td>0</td>\n      <td>3</td>\n      <td>male</td>\n      <td>32.000000</td>\n      <td>7.7500</td>\n      <td>F</td>\n      <td>Q</td>\n      <td>0</td>\n    </tr>\n  </tbody>\n</table>\n<p>891 rows × 8 columns</p>\n</div>"
     },
     "metadata": {},
     "execution_count": 11
    }
   ],
   "source": [
    "train"
   ]
  },
  {
   "cell_type": "code",
   "execution_count": 12,
   "metadata": {},
   "outputs": [
    {
     "output_type": "execute_result",
     "data": {
      "text/plain": [
       "     Pclass     Sex        Age      Fare Cabin Embarked  Accompany_num\n",
       "0         3    male  34.500000    7.8292     F        Q              0\n",
       "1         3  female  47.000000    7.0000     F        S              1\n",
       "2         2    male  62.000000    9.6875     F        Q              0\n",
       "3         3    male  27.000000    8.6625     F        S              0\n",
       "4         3  female  22.000000   12.2875     G        S              2\n",
       "..      ...     ...        ...       ...   ...      ...            ...\n",
       "413       3    male  33.214286    8.0500     F        S              0\n",
       "414       1  female  39.000000  108.9000     C        C              0\n",
       "415       3    male  38.500000    7.2500     F        S              0\n",
       "416       3    male  22.538462    8.0500     F        S              0\n",
       "417       3    male  22.538462   22.3583     F        C              2\n",
       "\n",
       "[418 rows x 7 columns]"
      ],
      "text/html": "<div>\n<style scoped>\n    .dataframe tbody tr th:only-of-type {\n        vertical-align: middle;\n    }\n\n    .dataframe tbody tr th {\n        vertical-align: top;\n    }\n\n    .dataframe thead th {\n        text-align: right;\n    }\n</style>\n<table border=\"1\" class=\"dataframe\">\n  <thead>\n    <tr style=\"text-align: right;\">\n      <th></th>\n      <th>Pclass</th>\n      <th>Sex</th>\n      <th>Age</th>\n      <th>Fare</th>\n      <th>Cabin</th>\n      <th>Embarked</th>\n      <th>Accompany_num</th>\n    </tr>\n  </thead>\n  <tbody>\n    <tr>\n      <th>0</th>\n      <td>3</td>\n      <td>male</td>\n      <td>34.500000</td>\n      <td>7.8292</td>\n      <td>F</td>\n      <td>Q</td>\n      <td>0</td>\n    </tr>\n    <tr>\n      <th>1</th>\n      <td>3</td>\n      <td>female</td>\n      <td>47.000000</td>\n      <td>7.0000</td>\n      <td>F</td>\n      <td>S</td>\n      <td>1</td>\n    </tr>\n    <tr>\n      <th>2</th>\n      <td>2</td>\n      <td>male</td>\n      <td>62.000000</td>\n      <td>9.6875</td>\n      <td>F</td>\n      <td>Q</td>\n      <td>0</td>\n    </tr>\n    <tr>\n      <th>3</th>\n      <td>3</td>\n      <td>male</td>\n      <td>27.000000</td>\n      <td>8.6625</td>\n      <td>F</td>\n      <td>S</td>\n      <td>0</td>\n    </tr>\n    <tr>\n      <th>4</th>\n      <td>3</td>\n      <td>female</td>\n      <td>22.000000</td>\n      <td>12.2875</td>\n      <td>G</td>\n      <td>S</td>\n      <td>2</td>\n    </tr>\n    <tr>\n      <th>...</th>\n      <td>...</td>\n      <td>...</td>\n      <td>...</td>\n      <td>...</td>\n      <td>...</td>\n      <td>...</td>\n      <td>...</td>\n    </tr>\n    <tr>\n      <th>413</th>\n      <td>3</td>\n      <td>male</td>\n      <td>33.214286</td>\n      <td>8.0500</td>\n      <td>F</td>\n      <td>S</td>\n      <td>0</td>\n    </tr>\n    <tr>\n      <th>414</th>\n      <td>1</td>\n      <td>female</td>\n      <td>39.000000</td>\n      <td>108.9000</td>\n      <td>C</td>\n      <td>C</td>\n      <td>0</td>\n    </tr>\n    <tr>\n      <th>415</th>\n      <td>3</td>\n      <td>male</td>\n      <td>38.500000</td>\n      <td>7.2500</td>\n      <td>F</td>\n      <td>S</td>\n      <td>0</td>\n    </tr>\n    <tr>\n      <th>416</th>\n      <td>3</td>\n      <td>male</td>\n      <td>22.538462</td>\n      <td>8.0500</td>\n      <td>F</td>\n      <td>S</td>\n      <td>0</td>\n    </tr>\n    <tr>\n      <th>417</th>\n      <td>3</td>\n      <td>male</td>\n      <td>22.538462</td>\n      <td>22.3583</td>\n      <td>F</td>\n      <td>C</td>\n      <td>2</td>\n    </tr>\n  </tbody>\n</table>\n<p>418 rows × 7 columns</p>\n</div>"
     },
     "metadata": {},
     "execution_count": 12
    }
   ],
   "source": [
    "test"
   ]
  },
  {
   "source": [
    "더 드랍할 특성은 없는지 확인해보자."
   ],
   "cell_type": "markdown",
   "metadata": {}
  },
  {
   "cell_type": "code",
   "execution_count": 24,
   "metadata": {},
   "outputs": [
    {
     "output_type": "execute_result",
     "data": {
      "text/plain": [
       "   Pclass  Survived\n",
       "0       1  0.629630\n",
       "1       2  0.472826\n",
       "2       3  0.242363"
      ],
      "text/html": "<div>\n<style scoped>\n    .dataframe tbody tr th:only-of-type {\n        vertical-align: middle;\n    }\n\n    .dataframe tbody tr th {\n        vertical-align: top;\n    }\n\n    .dataframe thead th {\n        text-align: right;\n    }\n</style>\n<table border=\"1\" class=\"dataframe\">\n  <thead>\n    <tr style=\"text-align: right;\">\n      <th></th>\n      <th>Pclass</th>\n      <th>Survived</th>\n    </tr>\n  </thead>\n  <tbody>\n    <tr>\n      <th>0</th>\n      <td>1</td>\n      <td>0.629630</td>\n    </tr>\n    <tr>\n      <th>1</th>\n      <td>2</td>\n      <td>0.472826</td>\n    </tr>\n    <tr>\n      <th>2</th>\n      <td>3</td>\n      <td>0.242363</td>\n    </tr>\n  </tbody>\n</table>\n</div>"
     },
     "metadata": {},
     "execution_count": 24
    }
   ],
   "source": [
    "train.groupby(['Pclass'], as_index=False)['Survived'].mean()"
   ]
  },
  {
   "cell_type": "code",
   "execution_count": 25,
   "metadata": {},
   "outputs": [
    {
     "output_type": "execute_result",
     "data": {
      "text/plain": [
       "      Sex  Survived\n",
       "0  female  0.742038\n",
       "1    male  0.188908"
      ],
      "text/html": "<div>\n<style scoped>\n    .dataframe tbody tr th:only-of-type {\n        vertical-align: middle;\n    }\n\n    .dataframe tbody tr th {\n        vertical-align: top;\n    }\n\n    .dataframe thead th {\n        text-align: right;\n    }\n</style>\n<table border=\"1\" class=\"dataframe\">\n  <thead>\n    <tr style=\"text-align: right;\">\n      <th></th>\n      <th>Sex</th>\n      <th>Survived</th>\n    </tr>\n  </thead>\n  <tbody>\n    <tr>\n      <th>0</th>\n      <td>female</td>\n      <td>0.742038</td>\n    </tr>\n    <tr>\n      <th>1</th>\n      <td>male</td>\n      <td>0.188908</td>\n    </tr>\n  </tbody>\n</table>\n</div>"
     },
     "metadata": {},
     "execution_count": 25
    }
   ],
   "source": [
    "train.groupby(['Sex'], as_index=False)['Survived'].mean()"
   ]
  },
  {
   "source": [
    "우선 객실 등급과 성별은 생존자 판정에 있어 중요한 특성이라는 걸 앞서 확인했다. 그러니 이 둘은 생존자 판정에 사용할거다"
   ],
   "cell_type": "markdown",
   "metadata": {}
  },
  {
   "source": [
    "승선 위치 특성을 다시 한 번 살펴보자. 성별과 객실 등급이 같은 승객들을 승선 위치 기준으로 구분 후 생존 평균값을 구해보자."
   ],
   "cell_type": "markdown",
   "metadata": {}
  },
  {
   "cell_type": "code",
   "execution_count": 31,
   "metadata": {},
   "outputs": [
    {
     "output_type": "execute_result",
     "data": {
      "text/plain": [
       "  Embarked  Survived\n",
       "0        C  0.404762\n",
       "1        Q  0.000000\n",
       "2        S  0.354430"
      ],
      "text/html": "<div>\n<style scoped>\n    .dataframe tbody tr th:only-of-type {\n        vertical-align: middle;\n    }\n\n    .dataframe tbody tr th {\n        vertical-align: top;\n    }\n\n    .dataframe thead th {\n        text-align: right;\n    }\n</style>\n<table border=\"1\" class=\"dataframe\">\n  <thead>\n    <tr style=\"text-align: right;\">\n      <th></th>\n      <th>Embarked</th>\n      <th>Survived</th>\n    </tr>\n  </thead>\n  <tbody>\n    <tr>\n      <th>0</th>\n      <td>C</td>\n      <td>0.404762</td>\n    </tr>\n    <tr>\n      <th>1</th>\n      <td>Q</td>\n      <td>0.000000</td>\n    </tr>\n    <tr>\n      <th>2</th>\n      <td>S</td>\n      <td>0.354430</td>\n    </tr>\n  </tbody>\n</table>\n</div>"
     },
     "metadata": {},
     "execution_count": 31
    }
   ],
   "source": [
    "train[(train['Pclass'] == 1) & (train['Sex'] == 'male')].groupby(['Embarked'], as_index=False)['Survived'].mean()"
   ]
  },
  {
   "cell_type": "code",
   "execution_count": 32,
   "metadata": {},
   "outputs": [
    {
     "output_type": "execute_result",
     "data": {
      "text/plain": [
       "  Embarked  Survived\n",
       "0        C  0.976744\n",
       "1        Q  1.000000\n",
       "2        S  0.960000"
      ],
      "text/html": "<div>\n<style scoped>\n    .dataframe tbody tr th:only-of-type {\n        vertical-align: middle;\n    }\n\n    .dataframe tbody tr th {\n        vertical-align: top;\n    }\n\n    .dataframe thead th {\n        text-align: right;\n    }\n</style>\n<table border=\"1\" class=\"dataframe\">\n  <thead>\n    <tr style=\"text-align: right;\">\n      <th></th>\n      <th>Embarked</th>\n      <th>Survived</th>\n    </tr>\n  </thead>\n  <tbody>\n    <tr>\n      <th>0</th>\n      <td>C</td>\n      <td>0.976744</td>\n    </tr>\n    <tr>\n      <th>1</th>\n      <td>Q</td>\n      <td>1.000000</td>\n    </tr>\n    <tr>\n      <th>2</th>\n      <td>S</td>\n      <td>0.960000</td>\n    </tr>\n  </tbody>\n</table>\n</div>"
     },
     "metadata": {},
     "execution_count": 32
    }
   ],
   "source": [
    "train[(train['Pclass'] == 1) & (train['Sex'] == 'female')].groupby(['Embarked'], as_index=False)['Survived'].mean()"
   ]
  },
  {
   "cell_type": "code",
   "execution_count": 33,
   "metadata": {},
   "outputs": [
    {
     "output_type": "execute_result",
     "data": {
      "text/plain": [
       "  Embarked  Survived\n",
       "0        C  0.200000\n",
       "1        Q  0.000000\n",
       "2        S  0.154639"
      ],
      "text/html": "<div>\n<style scoped>\n    .dataframe tbody tr th:only-of-type {\n        vertical-align: middle;\n    }\n\n    .dataframe tbody tr th {\n        vertical-align: top;\n    }\n\n    .dataframe thead th {\n        text-align: right;\n    }\n</style>\n<table border=\"1\" class=\"dataframe\">\n  <thead>\n    <tr style=\"text-align: right;\">\n      <th></th>\n      <th>Embarked</th>\n      <th>Survived</th>\n    </tr>\n  </thead>\n  <tbody>\n    <tr>\n      <th>0</th>\n      <td>C</td>\n      <td>0.200000</td>\n    </tr>\n    <tr>\n      <th>1</th>\n      <td>Q</td>\n      <td>0.000000</td>\n    </tr>\n    <tr>\n      <th>2</th>\n      <td>S</td>\n      <td>0.154639</td>\n    </tr>\n  </tbody>\n</table>\n</div>"
     },
     "metadata": {},
     "execution_count": 33
    }
   ],
   "source": [
    "train[(train['Pclass'] == 2) & (train['Sex'] == 'male')].groupby(['Embarked'], as_index=False)['Survived'].mean()"
   ]
  },
  {
   "cell_type": "code",
   "execution_count": 35,
   "metadata": {},
   "outputs": [
    {
     "output_type": "execute_result",
     "data": {
      "text/plain": [
       "  Embarked  Survived\n",
       "0        C  1.000000\n",
       "1        Q  1.000000\n",
       "2        S  0.910448"
      ],
      "text/html": "<div>\n<style scoped>\n    .dataframe tbody tr th:only-of-type {\n        vertical-align: middle;\n    }\n\n    .dataframe tbody tr th {\n        vertical-align: top;\n    }\n\n    .dataframe thead th {\n        text-align: right;\n    }\n</style>\n<table border=\"1\" class=\"dataframe\">\n  <thead>\n    <tr style=\"text-align: right;\">\n      <th></th>\n      <th>Embarked</th>\n      <th>Survived</th>\n    </tr>\n  </thead>\n  <tbody>\n    <tr>\n      <th>0</th>\n      <td>C</td>\n      <td>1.000000</td>\n    </tr>\n    <tr>\n      <th>1</th>\n      <td>Q</td>\n      <td>1.000000</td>\n    </tr>\n    <tr>\n      <th>2</th>\n      <td>S</td>\n      <td>0.910448</td>\n    </tr>\n  </tbody>\n</table>\n</div>"
     },
     "metadata": {},
     "execution_count": 35
    }
   ],
   "source": [
    "train[(train['Pclass'] == 2) & (train['Sex'] == 'female')].groupby(['Embarked'], as_index=False)['Survived'].mean()"
   ]
  },
  {
   "cell_type": "code",
   "execution_count": 36,
   "metadata": {},
   "outputs": [
    {
     "output_type": "execute_result",
     "data": {
      "text/plain": [
       "  Embarked  Survived\n",
       "0        C  0.232558\n",
       "1        Q  0.076923\n",
       "2        S  0.128302"
      ],
      "text/html": "<div>\n<style scoped>\n    .dataframe tbody tr th:only-of-type {\n        vertical-align: middle;\n    }\n\n    .dataframe tbody tr th {\n        vertical-align: top;\n    }\n\n    .dataframe thead th {\n        text-align: right;\n    }\n</style>\n<table border=\"1\" class=\"dataframe\">\n  <thead>\n    <tr style=\"text-align: right;\">\n      <th></th>\n      <th>Embarked</th>\n      <th>Survived</th>\n    </tr>\n  </thead>\n  <tbody>\n    <tr>\n      <th>0</th>\n      <td>C</td>\n      <td>0.232558</td>\n    </tr>\n    <tr>\n      <th>1</th>\n      <td>Q</td>\n      <td>0.076923</td>\n    </tr>\n    <tr>\n      <th>2</th>\n      <td>S</td>\n      <td>0.128302</td>\n    </tr>\n  </tbody>\n</table>\n</div>"
     },
     "metadata": {},
     "execution_count": 36
    }
   ],
   "source": [
    "train[(train['Pclass'] == 3) & (train['Sex'] == 'male')].groupby(['Embarked'], as_index=False)['Survived'].mean()"
   ]
  },
  {
   "cell_type": "code",
   "execution_count": 38,
   "metadata": {},
   "outputs": [
    {
     "output_type": "execute_result",
     "data": {
      "text/plain": [
       "  Embarked  Survived\n",
       "0        C  0.652174\n",
       "1        Q  0.727273\n",
       "2        S  0.375000"
      ],
      "text/html": "<div>\n<style scoped>\n    .dataframe tbody tr th:only-of-type {\n        vertical-align: middle;\n    }\n\n    .dataframe tbody tr th {\n        vertical-align: top;\n    }\n\n    .dataframe thead th {\n        text-align: right;\n    }\n</style>\n<table border=\"1\" class=\"dataframe\">\n  <thead>\n    <tr style=\"text-align: right;\">\n      <th></th>\n      <th>Embarked</th>\n      <th>Survived</th>\n    </tr>\n  </thead>\n  <tbody>\n    <tr>\n      <th>0</th>\n      <td>C</td>\n      <td>0.652174</td>\n    </tr>\n    <tr>\n      <th>1</th>\n      <td>Q</td>\n      <td>0.727273</td>\n    </tr>\n    <tr>\n      <th>2</th>\n      <td>S</td>\n      <td>0.375000</td>\n    </tr>\n  </tbody>\n</table>\n</div>"
     },
     "metadata": {},
     "execution_count": 38
    }
   ],
   "source": [
    "train[(train['Pclass'] == 3) & (train['Sex'] == 'female')].groupby(['Embarked'], as_index=False)['Survived'].mean()"
   ]
  },
  {
   "source": [
    "3등석에 탑승한 여성 승객인 경우를 제외하면 주목할만한 차이가 보이지 않았다. \n",
    "<br>\n",
    "탑승 위치 정보를 생존자 판별 기준으로 넣는다고 해도 큰 도움이 될 것 같지 않다고 판단된다. 그래서 드랍하기로 했다. "
   ],
   "cell_type": "markdown",
   "metadata": {}
  },
  {
   "cell_type": "code",
   "execution_count": 13,
   "metadata": {},
   "outputs": [],
   "source": [
    "# 'Embarked' 특성 드랍\n",
    "train.drop('Embarked', axis=1, inplace=True)\n",
    "test.drop('Embarked', axis=1, inplace=True)"
   ]
  },
  {
   "source": [
    "계속해서 데이터를 살펴보자"
   ],
   "cell_type": "markdown",
   "metadata": {}
  },
  {
   "cell_type": "code",
   "execution_count": 42,
   "metadata": {},
   "outputs": [
    {
     "output_type": "execute_result",
     "data": {
      "text/plain": [
       "   Accompany_num  Survived\n",
       "0              0  0.333333\n",
       "1              1  0.387097\n",
       "2              2  0.454545\n",
       "3              3  1.000000\n",
       "4              5  0.000000"
      ],
      "text/html": "<div>\n<style scoped>\n    .dataframe tbody tr th:only-of-type {\n        vertical-align: middle;\n    }\n\n    .dataframe tbody tr th {\n        vertical-align: top;\n    }\n\n    .dataframe thead th {\n        text-align: right;\n    }\n</style>\n<table border=\"1\" class=\"dataframe\">\n  <thead>\n    <tr style=\"text-align: right;\">\n      <th></th>\n      <th>Accompany_num</th>\n      <th>Survived</th>\n    </tr>\n  </thead>\n  <tbody>\n    <tr>\n      <th>0</th>\n      <td>0</td>\n      <td>0.333333</td>\n    </tr>\n    <tr>\n      <th>1</th>\n      <td>1</td>\n      <td>0.387097</td>\n    </tr>\n    <tr>\n      <th>2</th>\n      <td>2</td>\n      <td>0.454545</td>\n    </tr>\n    <tr>\n      <th>3</th>\n      <td>3</td>\n      <td>1.000000</td>\n    </tr>\n    <tr>\n      <th>4</th>\n      <td>5</td>\n      <td>0.000000</td>\n    </tr>\n  </tbody>\n</table>\n</div>"
     },
     "metadata": {},
     "execution_count": 42
    }
   ],
   "source": [
    "train[(train['Pclass'] == 1) & (train['Sex'] == 'male')].groupby(['Accompany_num'], as_index=False)['Survived'].mean()"
   ]
  },
  {
   "cell_type": "code",
   "execution_count": 51,
   "metadata": {},
   "outputs": [
    {
     "output_type": "execute_result",
     "data": {
      "text/plain": [
       "0    75\n",
       "1    31\n",
       "2    11\n",
       "3     3\n",
       "5     2\n",
       "Name: Accompany_num, dtype: int64"
      ]
     },
     "metadata": {},
     "execution_count": 51
    }
   ],
   "source": [
    "train[(train['Pclass'] == 1) & (train['Sex'] == 'male')]['Accompany_num'].value_counts()"
   ]
  },
  {
   "source": [
    "동행자가 3, 5명일 때 전부 생존하거나 전부 사망한 경우가 있는데 그 수가 매우 적다. 동행자가 3, 5명인 승객이 합쳐서 5명인데 그 중 1명이 산 것이다. "
   ],
   "cell_type": "markdown",
   "metadata": {}
  },
  {
   "cell_type": "code",
   "execution_count": 43,
   "metadata": {},
   "outputs": [
    {
     "output_type": "execute_result",
     "data": {
      "text/plain": [
       "   Accompany_num  Survived\n",
       "0              0  0.970588\n",
       "1              1  1.000000\n",
       "2              2  1.000000\n",
       "3              3  0.500000\n",
       "4              4  1.000000\n",
       "5              5  1.000000"
      ],
      "text/html": "<div>\n<style scoped>\n    .dataframe tbody tr th:only-of-type {\n        vertical-align: middle;\n    }\n\n    .dataframe tbody tr th {\n        vertical-align: top;\n    }\n\n    .dataframe thead th {\n        text-align: right;\n    }\n</style>\n<table border=\"1\" class=\"dataframe\">\n  <thead>\n    <tr style=\"text-align: right;\">\n      <th></th>\n      <th>Accompany_num</th>\n      <th>Survived</th>\n    </tr>\n  </thead>\n  <tbody>\n    <tr>\n      <th>0</th>\n      <td>0</td>\n      <td>0.970588</td>\n    </tr>\n    <tr>\n      <th>1</th>\n      <td>1</td>\n      <td>1.000000</td>\n    </tr>\n    <tr>\n      <th>2</th>\n      <td>2</td>\n      <td>1.000000</td>\n    </tr>\n    <tr>\n      <th>3</th>\n      <td>3</td>\n      <td>0.500000</td>\n    </tr>\n    <tr>\n      <th>4</th>\n      <td>4</td>\n      <td>1.000000</td>\n    </tr>\n    <tr>\n      <th>5</th>\n      <td>5</td>\n      <td>1.000000</td>\n    </tr>\n  </tbody>\n</table>\n</div>"
     },
     "metadata": {},
     "execution_count": 43
    }
   ],
   "source": [
    "train[(train['Pclass'] == 1) & (train['Sex'] == 'female')].groupby(['Accompany_num'], as_index=False)['Survived'].mean()"
   ]
  },
  {
   "cell_type": "code",
   "execution_count": 52,
   "metadata": {},
   "outputs": [
    {
     "output_type": "execute_result",
     "data": {
      "text/plain": [
       "1    39\n",
       "0    34\n",
       "2    13\n",
       "3     4\n",
       "4     2\n",
       "5     2\n",
       "Name: Accompany_num, dtype: int64"
      ]
     },
     "metadata": {},
     "execution_count": 52
    }
   ],
   "source": [
    "train[(train['Pclass'] == 1) & (train['Sex'] == 'female')]['Accompany_num'].value_counts()"
   ]
  },
  {
   "source": [
    "마찬가지로 생존 평균값이 0.5인 경우가 있는데 4명 중 2명이 살고 2명이 죽은거다. 수가 매우 적다."
   ],
   "cell_type": "markdown",
   "metadata": {}
  },
  {
   "cell_type": "code",
   "execution_count": 44,
   "metadata": {},
   "outputs": [
    {
     "output_type": "execute_result",
     "data": {
      "text/plain": [
       "   Accompany_num  Survived\n",
       "0              0  0.097222\n",
       "1              1  0.066667\n",
       "2              2  0.470588\n",
       "3              3  0.250000"
      ],
      "text/html": "<div>\n<style scoped>\n    .dataframe tbody tr th:only-of-type {\n        vertical-align: middle;\n    }\n\n    .dataframe tbody tr th {\n        vertical-align: top;\n    }\n\n    .dataframe thead th {\n        text-align: right;\n    }\n</style>\n<table border=\"1\" class=\"dataframe\">\n  <thead>\n    <tr style=\"text-align: right;\">\n      <th></th>\n      <th>Accompany_num</th>\n      <th>Survived</th>\n    </tr>\n  </thead>\n  <tbody>\n    <tr>\n      <th>0</th>\n      <td>0</td>\n      <td>0.097222</td>\n    </tr>\n    <tr>\n      <th>1</th>\n      <td>1</td>\n      <td>0.066667</td>\n    </tr>\n    <tr>\n      <th>2</th>\n      <td>2</td>\n      <td>0.470588</td>\n    </tr>\n    <tr>\n      <th>3</th>\n      <td>3</td>\n      <td>0.250000</td>\n    </tr>\n  </tbody>\n</table>\n</div>"
     },
     "metadata": {},
     "execution_count": 44
    }
   ],
   "source": [
    "train[(train['Pclass'] == 2) & (train['Sex'] == 'male')].groupby(['Accompany_num'], as_index=False)['Survived'].mean()"
   ]
  },
  {
   "cell_type": "code",
   "execution_count": 53,
   "metadata": {},
   "outputs": [
    {
     "output_type": "execute_result",
     "data": {
      "text/plain": [
       "0    72\n",
       "2    17\n",
       "1    15\n",
       "3     4\n",
       "Name: Accompany_num, dtype: int64"
      ]
     },
     "metadata": {},
     "execution_count": 53
    }
   ],
   "source": [
    "train[(train['Pclass'] == 2) & (train['Sex'] == 'male')]['Accompany_num'].value_counts()"
   ]
  },
  {
   "source": [
    "동행자가 2, 3명일 때 생존률이 비교적 많이 높다. 근데 역시 수가 적다."
   ],
   "cell_type": "markdown",
   "metadata": {}
  },
  {
   "cell_type": "code",
   "execution_count": 56,
   "metadata": {},
   "outputs": [
    {
     "output_type": "execute_result",
     "data": {
      "text/plain": [
       "   Accompany_num  Survived\n",
       "0              0  0.121212\n",
       "1              1  0.178571\n",
       "2              2  0.320000\n",
       "3              3  0.333333\n",
       "4              4  0.000000\n",
       "5              5  0.000000\n",
       "6              6  0.250000\n",
       "7              7  0.000000\n",
       "8             10  0.000000"
      ],
      "text/html": "<div>\n<style scoped>\n    .dataframe tbody tr th:only-of-type {\n        vertical-align: middle;\n    }\n\n    .dataframe tbody tr th {\n        vertical-align: top;\n    }\n\n    .dataframe thead th {\n        text-align: right;\n    }\n</style>\n<table border=\"1\" class=\"dataframe\">\n  <thead>\n    <tr style=\"text-align: right;\">\n      <th></th>\n      <th>Accompany_num</th>\n      <th>Survived</th>\n    </tr>\n  </thead>\n  <tbody>\n    <tr>\n      <th>0</th>\n      <td>0</td>\n      <td>0.121212</td>\n    </tr>\n    <tr>\n      <th>1</th>\n      <td>1</td>\n      <td>0.178571</td>\n    </tr>\n    <tr>\n      <th>2</th>\n      <td>2</td>\n      <td>0.320000</td>\n    </tr>\n    <tr>\n      <th>3</th>\n      <td>3</td>\n      <td>0.333333</td>\n    </tr>\n    <tr>\n      <th>4</th>\n      <td>4</td>\n      <td>0.000000</td>\n    </tr>\n    <tr>\n      <th>5</th>\n      <td>5</td>\n      <td>0.000000</td>\n    </tr>\n    <tr>\n      <th>6</th>\n      <td>6</td>\n      <td>0.250000</td>\n    </tr>\n    <tr>\n      <th>7</th>\n      <td>7</td>\n      <td>0.000000</td>\n    </tr>\n    <tr>\n      <th>8</th>\n      <td>10</td>\n      <td>0.000000</td>\n    </tr>\n  </tbody>\n</table>\n</div>"
     },
     "metadata": {},
     "execution_count": 56
    }
   ],
   "source": [
    "train[(train['Pclass'] == 3) & (train['Sex'] == 'male')].groupby(['Accompany_num'], as_index=False)['Survived'].mean()"
   ]
  },
  {
   "source": [
    "train[(train['Pclass'] == 3) & (train['Sex'] == 'female')].groupby(['Accompany_num'], as_index=False)['Survived'].mean()"
   ],
   "cell_type": "code",
   "metadata": {},
   "execution_count": 57,
   "outputs": [
    {
     "output_type": "execute_result",
     "data": {
      "text/plain": [
       "   Accompany_num  Survived\n",
       "0              0  0.616667\n",
       "1              1  0.517241\n",
       "2              2  0.545455\n",
       "3              3  0.833333\n",
       "4              4  0.000000\n",
       "5              5  0.000000\n",
       "6              6  0.375000\n",
       "7              7  0.000000\n",
       "8             10  0.000000"
      ],
      "text/html": "<div>\n<style scoped>\n    .dataframe tbody tr th:only-of-type {\n        vertical-align: middle;\n    }\n\n    .dataframe tbody tr th {\n        vertical-align: top;\n    }\n\n    .dataframe thead th {\n        text-align: right;\n    }\n</style>\n<table border=\"1\" class=\"dataframe\">\n  <thead>\n    <tr style=\"text-align: right;\">\n      <th></th>\n      <th>Accompany_num</th>\n      <th>Survived</th>\n    </tr>\n  </thead>\n  <tbody>\n    <tr>\n      <th>0</th>\n      <td>0</td>\n      <td>0.616667</td>\n    </tr>\n    <tr>\n      <th>1</th>\n      <td>1</td>\n      <td>0.517241</td>\n    </tr>\n    <tr>\n      <th>2</th>\n      <td>2</td>\n      <td>0.545455</td>\n    </tr>\n    <tr>\n      <th>3</th>\n      <td>3</td>\n      <td>0.833333</td>\n    </tr>\n    <tr>\n      <th>4</th>\n      <td>4</td>\n      <td>0.000000</td>\n    </tr>\n    <tr>\n      <th>5</th>\n      <td>5</td>\n      <td>0.000000</td>\n    </tr>\n    <tr>\n      <th>6</th>\n      <td>6</td>\n      <td>0.375000</td>\n    </tr>\n    <tr>\n      <th>7</th>\n      <td>7</td>\n      <td>0.000000</td>\n    </tr>\n    <tr>\n      <th>8</th>\n      <td>10</td>\n      <td>0.000000</td>\n    </tr>\n  </tbody>\n</table>\n</div>"
     },
     "metadata": {},
     "execution_count": 57
    }
   ]
  },
  {
   "source": [
    "train[(train['Pclass'] == 3) & (train['Sex'] == 'female')]['Accompany_num'].value_counts()"
   ],
   "cell_type": "code",
   "metadata": {},
   "execution_count": 58,
   "outputs": [
    {
     "output_type": "execute_result",
     "data": {
      "text/plain": [
       "0     60\n",
       "1     29\n",
       "2     22\n",
       "4      9\n",
       "6      8\n",
       "3      6\n",
       "5      5\n",
       "10     3\n",
       "7      2\n",
       "Name: Accompany_num, dtype: int64"
      ]
     },
     "metadata": {},
     "execution_count": 58
    }
   ]
  },
  {
   "source": [
    "동행자가 4,5,7명일 때 전부 사망했는데 다 합쳐서 16명이다. 수가 적다. "
   ],
   "cell_type": "markdown",
   "metadata": {}
  },
  {
   "source": [
    "동행 숫자 데이터를 생존과 연관지어 살펴봤다. \n",
    "<br>\n",
    "몇몇 부분에서 나머지 값보다 특별히 낮거나 높은 경우가 존재했으나 그 수가 매우 적었고 전체적으로 생존률에 큰 영향을 주지 못하는 것으로 판단된다. \n",
    "<br>\n",
    "그래서 동행자 숫자 역시 드랍하기로 했다. "
   ],
   "cell_type": "markdown",
   "metadata": {}
  },
  {
   "cell_type": "code",
   "execution_count": 14,
   "metadata": {},
   "outputs": [],
   "source": [
    "# 'Accompany_num' 특성 드랍\n",
    "train.drop('Accompany_num', axis=1, inplace=True)\n",
    "test.drop('Accompany_num', axis=1, inplace=True)"
   ]
  },
  {
   "source": [
    "이제 요금 데이터를 확인하자"
   ],
   "cell_type": "markdown",
   "metadata": {}
  },
  {
   "cell_type": "code",
   "execution_count": 32,
   "metadata": {},
   "outputs": [
    {
     "output_type": "execute_result",
     "data": {
      "text/plain": [
       "         Fare  Survived\n",
       "0      0.0000  0.066667\n",
       "1      4.0125  0.000000\n",
       "2      5.0000  0.000000\n",
       "3      6.2375  0.000000\n",
       "4      6.4375  0.000000\n",
       "..        ...       ...\n",
       "243  227.5250  0.750000\n",
       "244  247.5208  0.500000\n",
       "245  262.3750  1.000000\n",
       "246  263.0000  0.500000\n",
       "247  512.3292  1.000000\n",
       "\n",
       "[248 rows x 2 columns]"
      ],
      "text/html": "<div>\n<style scoped>\n    .dataframe tbody tr th:only-of-type {\n        vertical-align: middle;\n    }\n\n    .dataframe tbody tr th {\n        vertical-align: top;\n    }\n\n    .dataframe thead th {\n        text-align: right;\n    }\n</style>\n<table border=\"1\" class=\"dataframe\">\n  <thead>\n    <tr style=\"text-align: right;\">\n      <th></th>\n      <th>Fare</th>\n      <th>Survived</th>\n    </tr>\n  </thead>\n  <tbody>\n    <tr>\n      <th>0</th>\n      <td>0.0000</td>\n      <td>0.066667</td>\n    </tr>\n    <tr>\n      <th>1</th>\n      <td>4.0125</td>\n      <td>0.000000</td>\n    </tr>\n    <tr>\n      <th>2</th>\n      <td>5.0000</td>\n      <td>0.000000</td>\n    </tr>\n    <tr>\n      <th>3</th>\n      <td>6.2375</td>\n      <td>0.000000</td>\n    </tr>\n    <tr>\n      <th>4</th>\n      <td>6.4375</td>\n      <td>0.000000</td>\n    </tr>\n    <tr>\n      <th>...</th>\n      <td>...</td>\n      <td>...</td>\n    </tr>\n    <tr>\n      <th>243</th>\n      <td>227.5250</td>\n      <td>0.750000</td>\n    </tr>\n    <tr>\n      <th>244</th>\n      <td>247.5208</td>\n      <td>0.500000</td>\n    </tr>\n    <tr>\n      <th>245</th>\n      <td>262.3750</td>\n      <td>1.000000</td>\n    </tr>\n    <tr>\n      <th>246</th>\n      <td>263.0000</td>\n      <td>0.500000</td>\n    </tr>\n    <tr>\n      <th>247</th>\n      <td>512.3292</td>\n      <td>1.000000</td>\n    </tr>\n  </tbody>\n</table>\n<p>248 rows × 2 columns</p>\n</div>"
     },
     "metadata": {},
     "execution_count": 32
    }
   ],
   "source": [
    "train.groupby(['Fare'], as_index=False)['Survived'].mean() "
   ]
  },
  {
   "source": [
    "케이스가 너무 많다. \n",
    "<br>\n",
    "그리고 앞서 요금에 따라 객석 등급, 종류가 다르다는 걸 확인했고 객석 등급, 종류가 생존에 끼치는 영향이 큰 것을 확인했다. 그래서 요금을 기준으로 객석 등급, 종류를 판단해 결측치를 채웠다. \n",
    "<br>\n",
    "그래서 요금 정보를 가공해 생존자 판별에 사용하는 것은 객석 등급, 종류를 생존자 판별에 사용하는 것과 큰 차이를 보이지 않는다 판단되기에 드랍하기로 했다."
   ],
   "cell_type": "markdown",
   "metadata": {}
  },
  {
   "cell_type": "code",
   "execution_count": 15,
   "metadata": {},
   "outputs": [],
   "source": [
    "train.drop('Fare', axis=1, inplace=True)\n",
    "test.drop('Fare', axis=1, inplace=True)"
   ]
  },
  {
   "source": [
    "데이터를 확인해보자"
   ],
   "cell_type": "markdown",
   "metadata": {}
  },
  {
   "cell_type": "code",
   "execution_count": 16,
   "metadata": {},
   "outputs": [
    {
     "output_type": "execute_result",
     "data": {
      "text/plain": [
       "     Survived  Pclass     Sex        Age Cabin\n",
       "0           0       3    male  22.000000     G\n",
       "1           1       1  female  38.000000     C\n",
       "2           1       3  female  26.000000     E\n",
       "3           1       1  female  35.000000     C\n",
       "4           0       3    male  35.000000     E\n",
       "..        ...     ...     ...        ...   ...\n",
       "886         0       2    male  27.000000     E\n",
       "887         1       1  female  19.000000     B\n",
       "888         0       3  female  23.315705     F\n",
       "889         1       1    male  26.000000     C\n",
       "890         0       3    male  32.000000     F\n",
       "\n",
       "[891 rows x 5 columns]"
      ],
      "text/html": "<div>\n<style scoped>\n    .dataframe tbody tr th:only-of-type {\n        vertical-align: middle;\n    }\n\n    .dataframe tbody tr th {\n        vertical-align: top;\n    }\n\n    .dataframe thead th {\n        text-align: right;\n    }\n</style>\n<table border=\"1\" class=\"dataframe\">\n  <thead>\n    <tr style=\"text-align: right;\">\n      <th></th>\n      <th>Survived</th>\n      <th>Pclass</th>\n      <th>Sex</th>\n      <th>Age</th>\n      <th>Cabin</th>\n    </tr>\n  </thead>\n  <tbody>\n    <tr>\n      <th>0</th>\n      <td>0</td>\n      <td>3</td>\n      <td>male</td>\n      <td>22.000000</td>\n      <td>G</td>\n    </tr>\n    <tr>\n      <th>1</th>\n      <td>1</td>\n      <td>1</td>\n      <td>female</td>\n      <td>38.000000</td>\n      <td>C</td>\n    </tr>\n    <tr>\n      <th>2</th>\n      <td>1</td>\n      <td>3</td>\n      <td>female</td>\n      <td>26.000000</td>\n      <td>E</td>\n    </tr>\n    <tr>\n      <th>3</th>\n      <td>1</td>\n      <td>1</td>\n      <td>female</td>\n      <td>35.000000</td>\n      <td>C</td>\n    </tr>\n    <tr>\n      <th>4</th>\n      <td>0</td>\n      <td>3</td>\n      <td>male</td>\n      <td>35.000000</td>\n      <td>E</td>\n    </tr>\n    <tr>\n      <th>...</th>\n      <td>...</td>\n      <td>...</td>\n      <td>...</td>\n      <td>...</td>\n      <td>...</td>\n    </tr>\n    <tr>\n      <th>886</th>\n      <td>0</td>\n      <td>2</td>\n      <td>male</td>\n      <td>27.000000</td>\n      <td>E</td>\n    </tr>\n    <tr>\n      <th>887</th>\n      <td>1</td>\n      <td>1</td>\n      <td>female</td>\n      <td>19.000000</td>\n      <td>B</td>\n    </tr>\n    <tr>\n      <th>888</th>\n      <td>0</td>\n      <td>3</td>\n      <td>female</td>\n      <td>23.315705</td>\n      <td>F</td>\n    </tr>\n    <tr>\n      <th>889</th>\n      <td>1</td>\n      <td>1</td>\n      <td>male</td>\n      <td>26.000000</td>\n      <td>C</td>\n    </tr>\n    <tr>\n      <th>890</th>\n      <td>0</td>\n      <td>3</td>\n      <td>male</td>\n      <td>32.000000</td>\n      <td>F</td>\n    </tr>\n  </tbody>\n</table>\n<p>891 rows × 5 columns</p>\n</div>"
     },
     "metadata": {},
     "execution_count": 16
    }
   ],
   "source": [
    "train"
   ]
  },
  {
   "cell_type": "code",
   "execution_count": 17,
   "metadata": {},
   "outputs": [
    {
     "output_type": "execute_result",
     "data": {
      "text/plain": [
       "     Pclass     Sex        Age Cabin\n",
       "0         3    male  34.500000     F\n",
       "1         3  female  47.000000     F\n",
       "2         2    male  62.000000     F\n",
       "3         3    male  27.000000     F\n",
       "4         3  female  22.000000     G\n",
       "..      ...     ...        ...   ...\n",
       "413       3    male  33.214286     F\n",
       "414       1  female  39.000000     C\n",
       "415       3    male  38.500000     F\n",
       "416       3    male  22.538462     F\n",
       "417       3    male  22.538462     F\n",
       "\n",
       "[418 rows x 4 columns]"
      ],
      "text/html": "<div>\n<style scoped>\n    .dataframe tbody tr th:only-of-type {\n        vertical-align: middle;\n    }\n\n    .dataframe tbody tr th {\n        vertical-align: top;\n    }\n\n    .dataframe thead th {\n        text-align: right;\n    }\n</style>\n<table border=\"1\" class=\"dataframe\">\n  <thead>\n    <tr style=\"text-align: right;\">\n      <th></th>\n      <th>Pclass</th>\n      <th>Sex</th>\n      <th>Age</th>\n      <th>Cabin</th>\n    </tr>\n  </thead>\n  <tbody>\n    <tr>\n      <th>0</th>\n      <td>3</td>\n      <td>male</td>\n      <td>34.500000</td>\n      <td>F</td>\n    </tr>\n    <tr>\n      <th>1</th>\n      <td>3</td>\n      <td>female</td>\n      <td>47.000000</td>\n      <td>F</td>\n    </tr>\n    <tr>\n      <th>2</th>\n      <td>2</td>\n      <td>male</td>\n      <td>62.000000</td>\n      <td>F</td>\n    </tr>\n    <tr>\n      <th>3</th>\n      <td>3</td>\n      <td>male</td>\n      <td>27.000000</td>\n      <td>F</td>\n    </tr>\n    <tr>\n      <th>4</th>\n      <td>3</td>\n      <td>female</td>\n      <td>22.000000</td>\n      <td>G</td>\n    </tr>\n    <tr>\n      <th>...</th>\n      <td>...</td>\n      <td>...</td>\n      <td>...</td>\n      <td>...</td>\n    </tr>\n    <tr>\n      <th>413</th>\n      <td>3</td>\n      <td>male</td>\n      <td>33.214286</td>\n      <td>F</td>\n    </tr>\n    <tr>\n      <th>414</th>\n      <td>1</td>\n      <td>female</td>\n      <td>39.000000</td>\n      <td>C</td>\n    </tr>\n    <tr>\n      <th>415</th>\n      <td>3</td>\n      <td>male</td>\n      <td>38.500000</td>\n      <td>F</td>\n    </tr>\n    <tr>\n      <th>416</th>\n      <td>3</td>\n      <td>male</td>\n      <td>22.538462</td>\n      <td>F</td>\n    </tr>\n    <tr>\n      <th>417</th>\n      <td>3</td>\n      <td>male</td>\n      <td>22.538462</td>\n      <td>F</td>\n    </tr>\n  </tbody>\n</table>\n<p>418 rows × 4 columns</p>\n</div>"
     },
     "metadata": {},
     "execution_count": 17
    }
   ],
   "source": [
    "test"
   ]
  },
  {
   "source": [
    "마지막으로 나이를 살펴보자. 우선 연령대 별(10대, 20대...)로 데이터를 분리한 뒤 평균 생존값을 살펴보자"
   ],
   "cell_type": "markdown",
   "metadata": {}
  },
  {
   "cell_type": "code",
   "execution_count": 16,
   "metadata": {},
   "outputs": [
    {
     "output_type": "stream",
     "name": "stdout",
     "text": [
      "80.0\n76.0\n"
     ]
    }
   ],
   "source": [
    "# 나이 최대값 확인. 두 데이터 통틀어서 80세가 최대다. \n",
    "print(train['Age'].max())\n",
    "print(test['Age'].max())"
   ]
  },
  {
   "cell_type": "code",
   "execution_count": 18,
   "metadata": {},
   "outputs": [],
   "source": [
    "# 각 연령별로 데이터 추출 후 저장\n",
    "train_0s = train[train['Age'] < 10.0]\n",
    "train_10s = train[(train['Age'] < 20.0) & (train['Age'] >= 10.0)]\n",
    "train_20s = train[(train['Age'] < 30.0) & (train['Age'] >= 20.0)]\n",
    "train_30s = train[(train['Age'] < 40.0) & (train['Age'] >= 30.0)]\n",
    "train_40s = train[(train['Age'] < 50.0) & (train['Age'] >= 40.0)]\n",
    "train_50s = train[(train['Age'] < 60.0) & (train['Age'] >= 50.0)]\n",
    "train_60s = train[(train['Age'] < 70.0) & (train['Age'] >= 60.0)]\n",
    "train_70s = train[(train['Age'] < 80.0) & (train['Age'] >= 70.0)]\n",
    "train_80s = train[(train['Age'] < 90.0) & (train['Age'] >= 80.0)]"
   ]
  },
  {
   "cell_type": "code",
   "execution_count": 19,
   "metadata": {},
   "outputs": [
    {
     "output_type": "stream",
     "name": "stdout",
     "text": [
      "0~9세 평균 생존률 : 0.59375, 0~9세 인구 : 64\n10~19세 평균 생존률 : 0.49612403100775193, 10~19세 인구 : 129\n20~29세 평균 생존률 : 0.2908496732026144, 20~29세 인구 : 306\n30~39세 평균 생존률 : 0.40375586854460094, 30~39세 인구 : 213\n40~49세 평균 생존률 : 0.4, 40~49세 인구 : 95\n50~59세 평균 생존률 : 0.3448275862068966, 50~59세 인구 : 58\n60~69세 평균 생존률 : 0.3157894736842105, 60~69세 인구 : 19\n70~79세 평균 생존률 : 0.0, 70~79세 인구 : 6\n80~89세 평균 생존률 : 1.0, 80~89세 인구 : 1\n"
     ]
    }
   ],
   "source": [
    "print(\"0~9세 평균 생존률 : \" + str(train_0s['Survived'].mean()) + \", 0~9세 인구 : \" + str(len(train_0s)))\n",
    "print(\"10~19세 평균 생존률 : \" + str(train_10s['Survived'].mean()) + \", 10~19세 인구 : \" + str(len(train_10s)))\n",
    "print(\"20~29세 평균 생존률 : \" + str(train_20s['Survived'].mean()) + \", 20~29세 인구 : \" + str(len(train_20s)))\n",
    "print(\"30~39세 평균 생존률 : \" + str(train_30s['Survived'].mean()) + \", 30~39세 인구 : \" + str(len(train_30s)))\n",
    "print(\"40~49세 평균 생존률 : \" + str(train_40s['Survived'].mean()) + \", 40~49세 인구 : \" + str(len(train_40s)))\n",
    "print(\"50~59세 평균 생존률 : \" + str(train_50s['Survived'].mean()) + \", 50~59세 인구 : \" + str(len(train_50s)))\n",
    "print(\"60~69세 평균 생존률 : \" + str(train_60s['Survived'].mean()) + \", 60~69세 인구 : \" + str(len(train_60s)))\n",
    "print(\"70~79세 평균 생존률 : \" + str(train_70s['Survived'].mean()) + \", 70~79세 인구 : \" + str(len(train_70s)))\n",
    "print(\"80~89세 평균 생존률 : \" + str(train_80s['Survived'].mean()) + \", 80~89세 인구 : \" + str(len(train_80s)))\n"
   ]
  },
  {
   "source": [
    "연령별로 차이가 나는데 선형으로 증가/감소하지 않고 특정 연령대에서 낮고 높음이 드러난다.\n",
    "<br>\n",
    "앞서 성별을 isMan, isWoman로 구분하듯 연령대를 구분지은 다음 1이나 0을 대입하는 방식을 사용하면 좋다고 본다. \n",
    "<br>\n",
    "그럼 중요한 것은 연령별 구분을 어떻게 할 것이냐다. "
   ],
   "cell_type": "markdown",
   "metadata": {}
  },
  {
   "source": [
    "미성년, 청년, 중년, 노년으로 나눠보기로 했다. \n",
    "<br>\n",
    "0~17세를 미성년, 18~40을 청년, 41~60을 중년, 61~을 노년으로 나눈 뒤 평균 생존률을 구해보겠다. "
   ],
   "cell_type": "markdown",
   "metadata": {}
  },
  {
   "cell_type": "code",
   "execution_count": 46,
   "metadata": {},
   "outputs": [
    {
     "output_type": "stream",
     "name": "stdout",
     "text": [
      "0~17세 평균 생존률 : 0.60431654676259\n18~40세 평균 생존률 : 0.34067796610169493\n41~60세 평균 생존률 : 0.37142857142857144\n61~세 평균 생존률 : 0.22727272727272727\n"
     ]
    }
   ],
   "source": [
    "print(\"0~17세 평균 생존률 : \" + str(train[train['Age'] < 18]['Survived'].mean()))\n",
    "print(\"18~40세 평균 생존률 : \" + str(train[(train['Age'] >= 18.0) & (train['Age'] < 41)]['Survived'].mean()))\n",
    "print(\"41~60세 평균 생존률 : \" + str(train[(train['Age'] >= 41.0) & (train['Age'] < 61)]['Survived'].mean()))\n",
    "print(\"61~세 평균 생존률 : \" + str(train[train['Age'] >= 61.0]['Survived'].mean()))"
   ]
  },
  {
   "source": [
    "미성년, 청년은 구분이 잘되는데 청년, 중년 구분이 잘 안되서 아쉽다. 구분이 되게끔 경계값(기존 값 40)을 조정해보자 "
   ],
   "cell_type": "markdown",
   "metadata": {}
  },
  {
   "cell_type": "code",
   "execution_count": 56,
   "metadata": {},
   "outputs": [
    {
     "output_type": "stream",
     "name": "stdout",
     "text": [
      "18~36세 평균 생존률 : 0.34615384615384615\n37~60세 평균 생존률 : 0.3476190476190476\n\n18~37세 평균 생존률 : 0.3446969696969697\n38~60세 평균 생존률 : 0.35148514851485146\n\n18~38세 평균 생존률 : 0.33512544802867383\n39~60세 평균 생존률 : 0.38372093023255816\n\n18~39세 평균 생존률 : 0.3368237347294939\n40~60세 평균 생존률 : 0.3821656050955414\n"
     ]
    }
   ],
   "source": [
    "print(\"18~36세 평균 생존률 : \" + str(train[(train['Age'] >= 18.0) & (train['Age'] < 37)]['Survived'].mean()))\n",
    "print(\"37~60세 평균 생존률 : \" + str(train[(train['Age'] >= 37.0) & (train['Age'] < 61)]['Survived'].mean()))\n",
    "print()\n",
    "print(\"18~37세 평균 생존률 : \" + str(train[(train['Age'] >= 18.0) & (train['Age'] < 38)]['Survived'].mean()))\n",
    "print(\"38~60세 평균 생존률 : \" + str(train[(train['Age'] >= 38.0) & (train['Age'] < 61)]['Survived'].mean()))\n",
    "print()\n",
    "print(\"18~38세 평균 생존률 : \" + str(train[(train['Age'] >= 18.0) & (train['Age'] < 39)]['Survived'].mean()))\n",
    "print(\"39~60세 평균 생존률 : \" + str(train[(train['Age'] >= 39.0) & (train['Age'] < 61)]['Survived'].mean()))\n",
    "print()\n",
    "print(\"18~39세 평균 생존률 : \" + str(train[(train['Age'] >= 18.0) & (train['Age'] < 40)]['Survived'].mean()))\n",
    "print(\"40~60세 평균 생존률 : \" + str(train[(train['Age'] >= 40.0) & (train['Age'] < 61)]['Survived'].mean()))"
   ]
  },
  {
   "source": [
    "청년~중년 구분을 38세로 했을 때 가장 큰 차이가 난다. 그러니 38세로 하자. "
   ],
   "cell_type": "markdown",
   "metadata": {}
  },
  {
   "source": [
    "print(\"0~17세 평균 생존률 : \" + str(train[train['Age'] < 18]['Survived'].mean()))\n",
    "print(\"18~38세 평균 생존률 : \" + str(train[(train['Age'] >= 18.0) & (train['Age'] < 39)]['Survived'].mean()))\n",
    "print(\"39~60세 평균 생존률 : \" + str(train[(train['Age'] >= 39.0) & (train['Age'] < 61)]['Survived'].mean()))\n",
    "print(\"61~세 평균 생존률 : \" + str(train[train['Age'] >= 61.0]['Survived'].mean()))"
   ],
   "cell_type": "code",
   "metadata": {},
   "execution_count": 57,
   "outputs": [
    {
     "output_type": "stream",
     "name": "stdout",
     "text": [
      "0~17세 평균 생존률 : 0.60431654676259\n18~38세 평균 생존률 : 0.33512544802867383\n39~60세 평균 생존률 : 0.38372093023255816\n61~세 평균 생존률 : 0.22727272727272727\n"
     ]
    }
   ]
  },
  {
   "source": [
    "혹시 모르니 미성년~청년, 중년~노년 경계도 조정해보자"
   ],
   "cell_type": "markdown",
   "metadata": {}
  },
  {
   "cell_type": "code",
   "execution_count": 58,
   "metadata": {},
   "outputs": [
    {
     "output_type": "stream",
     "name": "stdout",
     "text": [
      "0~14세 평균 생존률 : 0.5930232558139535\n37~60세 평균 생존률 : 0.37005163511187605\n\n0~15세 평균 생존률 : 0.6170212765957447\n38~60세 평균 생존률 : 0.36300174520069806\n\n0~16세 평균 생존률 : 0.5714285714285714\n39~60세 평균 생존률 : 0.36396396396396397\n\n0~17세 평균 생존률 : 0.60431654676259\n18~36세 평균 생존률 : 0.3446969696969697\n"
     ]
    }
   ],
   "source": [
    "print(\"0~14세 평균 생존률 : \" + str(train[train['Age'] < 15]['Survived'].mean()))\n",
    "print(\"37~60세 평균 생존률 : \" + str(train[(train['Age'] >= 15.0) & (train['Age'] < 38)]['Survived'].mean()))\n",
    "print()\n",
    "print(\"0~15세 평균 생존률 : \" + str(train[train['Age'] < 16]['Survived'].mean()))\n",
    "print(\"38~60세 평균 생존률 : \" + str(train[(train['Age'] >= 16.0) & (train['Age'] < 38)]['Survived'].mean()))\n",
    "print()\n",
    "print(\"0~16세 평균 생존률 : \" + str(train[train['Age'] < 17]['Survived'].mean()))\n",
    "print(\"39~60세 평균 생존률 : \" + str(train[(train['Age'] >= 17.0) & (train['Age'] < 38)]['Survived'].mean()))\n",
    "print()\n",
    "print(\"0~17세 평균 생존률 : \" + str(train[train['Age'] < 18]['Survived'].mean()))\n",
    "print(\"18~36세 평균 생존률 : \" + str(train[(train['Age'] >= 18.0) & (train['Age'] < 38)]['Survived'].mean()))"
   ]
  },
  {
   "source": [
    "처음 설정한 나이(18세)가 가장 구분이 잘된다. 이제 노년을 보자"
   ],
   "cell_type": "markdown",
   "metadata": {}
  },
  {
   "cell_type": "code",
   "execution_count": 63,
   "metadata": {},
   "outputs": [
    {
     "output_type": "stream",
     "name": "stdout",
     "text": [
      "39~57세 평균 생존률 : 0.37888198757763975\n58~세 평균 생존률 : 0.30303030303030304\n\n39~58세 평균 생존률 : 0.3855421686746988\n59~세 평균 생존률 : 0.25\n\n39~59세 평균 생존률 : 0.38095238095238093\n60~세 평균 생존률 : 0.2692307692307692\n\n39~60세 평균 생존률 : 0.38372093023255816\n61~세 평균 생존률 : 0.22727272727272727\n\n39~61세 평균 생존률 : 0.37714285714285717\n62~세 평균 생존률 : 0.2631578947368421\n\n39~62세 평균 생존률 : 0.37988826815642457\n63~세 평균 생존률 : 0.2\n\n39~63세 평균 생존률 : 0.3867403314917127\n64~세 평균 생존률 : 0.07692307692307693\n\n39~64세 평균 생존률 : 0.3825136612021858\n65~세 평균 생존률 : 0.09090909090909091\n\n39~65세 평균 생존률 : 0.3763440860215054\n66~세 평균 생존률 : 0.125\n"
     ]
    }
   ],
   "source": [
    "print(\"39~57세 평균 생존률 : \" + str(train[(train['Age'] >= 39.0) & (train['Age'] < 58)]['Survived'].mean()))\n",
    "print(\"58~세 평균 생존률 : \" + str(train[train['Age'] >= 58.0]['Survived'].mean()))\n",
    "print()\n",
    "print(\"39~58세 평균 생존률 : \" + str(train[(train['Age'] >= 39.0) & (train['Age'] < 59)]['Survived'].mean()))\n",
    "print(\"59~세 평균 생존률 : \" + str(train[train['Age'] >= 59.0]['Survived'].mean()))\n",
    "print()\n",
    "print(\"39~59세 평균 생존률 : \" + str(train[(train['Age'] >= 39.0) & (train['Age'] < 60)]['Survived'].mean()))\n",
    "print(\"60~세 평균 생존률 : \" + str(train[train['Age'] >= 60.0]['Survived'].mean()))\n",
    "print()\n",
    "print(\"39~60세 평균 생존률 : \" + str(train[(train['Age'] >= 39.0) & (train['Age'] < 61)]['Survived'].mean()))\n",
    "print(\"61~세 평균 생존률 : \" + str(train[train['Age'] >= 61.0]['Survived'].mean()))\n",
    "print()\n",
    "print(\"39~61세 평균 생존률 : \" + str(train[(train['Age'] >= 39.0) & (train['Age'] < 62)]['Survived'].mean()))\n",
    "print(\"62~세 평균 생존률 : \" + str(train[train['Age'] >= 62.0]['Survived'].mean()))\n",
    "print()\n",
    "print(\"39~62세 평균 생존률 : \" + str(train[(train['Age'] >= 39.0) & (train['Age'] < 63)]['Survived'].mean()))\n",
    "print(\"63~세 평균 생존률 : \" + str(train[train['Age'] >= 63.0]['Survived'].mean()))\n",
    "print()\n",
    "print(\"39~63세 평균 생존률 : \" + str(train[(train['Age'] >= 39.0) & (train['Age'] < 64)]['Survived'].mean()))\n",
    "print(\"64~세 평균 생존률 : \" + str(train[train['Age'] >= 64.0]['Survived'].mean()))\n",
    "print()\n",
    "print(\"39~64세 평균 생존률 : \" + str(train[(train['Age'] >= 39.0) & (train['Age'] < 65)]['Survived'].mean()))\n",
    "print(\"65~세 평균 생존률 : \" + str(train[train['Age'] >= 65.0]['Survived'].mean()))\n",
    "print()\n",
    "print(\"39~65세 평균 생존률 : \" + str(train[(train['Age'] >= 39.0) & (train['Age'] < 66)]['Survived'].mean()))\n",
    "print(\"66~세 평균 생존률 : \" + str(train[train['Age'] >= 66.0]['Survived'].mean()))"
   ]
  },
  {
   "source": [
    "64세를 중~노년 기준으로 했을 때 가장 크게 차이가 난다. 허나 60세 이상의 승객 수가 적은 점(891명 중 26명에 해당), 경계를 조정할 수록 값의 차이가 들쑥날쑥 한다는 점 등을 고려해 기존에 정한 60세로 하기로 했다. "
   ],
   "cell_type": "markdown",
   "metadata": {}
  },
  {
   "source": [
    "즉, 나이 데이터도 미성년(0~17), 청년(18~38), 중년(39~60), 노년(61~)으로 그룹을 나눌거다. "
   ],
   "cell_type": "markdown",
   "metadata": {}
  },
  {
   "source": [
    "어떻게 할지 정했으니 이제 데이터를 가공해보자"
   ],
   "cell_type": "markdown",
   "metadata": {}
  },
  {
   "source": [
    "## 3-2. 데이터 가공하기\n",
    "이제 성별, 객실 종류를 모델이 좋아하는 숫자 데이터로 바꿀거다."
   ],
   "cell_type": "markdown",
   "metadata": {}
  },
  {
   "source": [
    "### 3-2-1. 성별 데이터\n",
    "<br>\n",
    "우선 성별 데이터를 가공하자.\n",
    "<br>\n",
    "앞서 말했듯 male, female로 구분되는 성별 데이터를 isMan, isWoman으로 구분할거다. "
   ],
   "cell_type": "markdown",
   "metadata": {}
  },
  {
   "cell_type": "code",
   "execution_count": 64,
   "metadata": {},
   "outputs": [],
   "source": [
    "# isMan, isWoman 특성 추가\n",
    "train['isMan'] = 0\n",
    "train['isWoman'] = 0\n",
    "\n",
    "for i in range(0, len(train)):\n",
    "    if train['Sex'][i] == 'male': # 남자면 isMan을 1로\n",
    "        train['isMan'][i] = 1\n",
    "    elif train['Sex'][i] == 'female': # 여자면 isWoman을 1로\n",
    "        train['isWoman'][i] = 1\n",
    "\n",
    "# 테스트 데이터도 적용\n",
    "test['isMan'] = 0\n",
    "test['isWoman'] = 0\n",
    "\n",
    "for i in range(0, len(test)):\n",
    "    if test['Sex'][i] == 'male':\n",
    "        test['isMan'][i] = 1\n",
    "    elif test['Sex'][i] == 'female':\n",
    "        test['isWoman'][i] = 1\n",
    "\n",
    "# 'Sex' 특성을 드랍\n",
    "train.drop('Sex', axis=1, inplace=True)\n",
    "test.drop('Sex', axis=1, inplace=True)\n"
   ]
  },
  {
   "source": [
    "데이터를 확인해보자"
   ],
   "cell_type": "markdown",
   "metadata": {}
  },
  {
   "cell_type": "code",
   "execution_count": 65,
   "metadata": {},
   "outputs": [
    {
     "output_type": "execute_result",
     "data": {
      "text/plain": [
       "     Survived  Pclass        Age Cabin  isMan  isWoman\n",
       "0           0       3  22.000000     G      1        0\n",
       "1           1       1  38.000000     C      0        1\n",
       "2           1       3  26.000000     E      0        1\n",
       "3           1       1  35.000000     C      0        1\n",
       "4           0       3  35.000000     E      1        0\n",
       "..        ...     ...        ...   ...    ...      ...\n",
       "886         0       2  27.000000     E      1        0\n",
       "887         1       1  19.000000     B      0        1\n",
       "888         0       3  23.315705     F      0        1\n",
       "889         1       1  26.000000     C      1        0\n",
       "890         0       3  32.000000     F      1        0\n",
       "\n",
       "[891 rows x 6 columns]"
      ],
      "text/html": "<div>\n<style scoped>\n    .dataframe tbody tr th:only-of-type {\n        vertical-align: middle;\n    }\n\n    .dataframe tbody tr th {\n        vertical-align: top;\n    }\n\n    .dataframe thead th {\n        text-align: right;\n    }\n</style>\n<table border=\"1\" class=\"dataframe\">\n  <thead>\n    <tr style=\"text-align: right;\">\n      <th></th>\n      <th>Survived</th>\n      <th>Pclass</th>\n      <th>Age</th>\n      <th>Cabin</th>\n      <th>isMan</th>\n      <th>isWoman</th>\n    </tr>\n  </thead>\n  <tbody>\n    <tr>\n      <th>0</th>\n      <td>0</td>\n      <td>3</td>\n      <td>22.000000</td>\n      <td>G</td>\n      <td>1</td>\n      <td>0</td>\n    </tr>\n    <tr>\n      <th>1</th>\n      <td>1</td>\n      <td>1</td>\n      <td>38.000000</td>\n      <td>C</td>\n      <td>0</td>\n      <td>1</td>\n    </tr>\n    <tr>\n      <th>2</th>\n      <td>1</td>\n      <td>3</td>\n      <td>26.000000</td>\n      <td>E</td>\n      <td>0</td>\n      <td>1</td>\n    </tr>\n    <tr>\n      <th>3</th>\n      <td>1</td>\n      <td>1</td>\n      <td>35.000000</td>\n      <td>C</td>\n      <td>0</td>\n      <td>1</td>\n    </tr>\n    <tr>\n      <th>4</th>\n      <td>0</td>\n      <td>3</td>\n      <td>35.000000</td>\n      <td>E</td>\n      <td>1</td>\n      <td>0</td>\n    </tr>\n    <tr>\n      <th>...</th>\n      <td>...</td>\n      <td>...</td>\n      <td>...</td>\n      <td>...</td>\n      <td>...</td>\n      <td>...</td>\n    </tr>\n    <tr>\n      <th>886</th>\n      <td>0</td>\n      <td>2</td>\n      <td>27.000000</td>\n      <td>E</td>\n      <td>1</td>\n      <td>0</td>\n    </tr>\n    <tr>\n      <th>887</th>\n      <td>1</td>\n      <td>1</td>\n      <td>19.000000</td>\n      <td>B</td>\n      <td>0</td>\n      <td>1</td>\n    </tr>\n    <tr>\n      <th>888</th>\n      <td>0</td>\n      <td>3</td>\n      <td>23.315705</td>\n      <td>F</td>\n      <td>0</td>\n      <td>1</td>\n    </tr>\n    <tr>\n      <th>889</th>\n      <td>1</td>\n      <td>1</td>\n      <td>26.000000</td>\n      <td>C</td>\n      <td>1</td>\n      <td>0</td>\n    </tr>\n    <tr>\n      <th>890</th>\n      <td>0</td>\n      <td>3</td>\n      <td>32.000000</td>\n      <td>F</td>\n      <td>1</td>\n      <td>0</td>\n    </tr>\n  </tbody>\n</table>\n<p>891 rows × 6 columns</p>\n</div>"
     },
     "metadata": {},
     "execution_count": 65
    }
   ],
   "source": [
    "train #isMan, isWoman이 있는걸 확인할 수 있다. "
   ]
  },
  {
   "cell_type": "code",
   "execution_count": 66,
   "metadata": {},
   "outputs": [
    {
     "output_type": "execute_result",
     "data": {
      "text/plain": [
       "     Pclass        Age Cabin  isMan  isWoman\n",
       "0         3  34.500000     F      1        0\n",
       "1         3  47.000000     F      0        1\n",
       "2         2  62.000000     F      1        0\n",
       "3         3  27.000000     F      1        0\n",
       "4         3  22.000000     G      0        1\n",
       "..      ...        ...   ...    ...      ...\n",
       "413       3  33.214286     F      1        0\n",
       "414       1  39.000000     C      0        1\n",
       "415       3  38.500000     F      1        0\n",
       "416       3  22.538462     F      1        0\n",
       "417       3  22.538462     F      1        0\n",
       "\n",
       "[418 rows x 5 columns]"
      ],
      "text/html": "<div>\n<style scoped>\n    .dataframe tbody tr th:only-of-type {\n        vertical-align: middle;\n    }\n\n    .dataframe tbody tr th {\n        vertical-align: top;\n    }\n\n    .dataframe thead th {\n        text-align: right;\n    }\n</style>\n<table border=\"1\" class=\"dataframe\">\n  <thead>\n    <tr style=\"text-align: right;\">\n      <th></th>\n      <th>Pclass</th>\n      <th>Age</th>\n      <th>Cabin</th>\n      <th>isMan</th>\n      <th>isWoman</th>\n    </tr>\n  </thead>\n  <tbody>\n    <tr>\n      <th>0</th>\n      <td>3</td>\n      <td>34.500000</td>\n      <td>F</td>\n      <td>1</td>\n      <td>0</td>\n    </tr>\n    <tr>\n      <th>1</th>\n      <td>3</td>\n      <td>47.000000</td>\n      <td>F</td>\n      <td>0</td>\n      <td>1</td>\n    </tr>\n    <tr>\n      <th>2</th>\n      <td>2</td>\n      <td>62.000000</td>\n      <td>F</td>\n      <td>1</td>\n      <td>0</td>\n    </tr>\n    <tr>\n      <th>3</th>\n      <td>3</td>\n      <td>27.000000</td>\n      <td>F</td>\n      <td>1</td>\n      <td>0</td>\n    </tr>\n    <tr>\n      <th>4</th>\n      <td>3</td>\n      <td>22.000000</td>\n      <td>G</td>\n      <td>0</td>\n      <td>1</td>\n    </tr>\n    <tr>\n      <th>...</th>\n      <td>...</td>\n      <td>...</td>\n      <td>...</td>\n      <td>...</td>\n      <td>...</td>\n    </tr>\n    <tr>\n      <th>413</th>\n      <td>3</td>\n      <td>33.214286</td>\n      <td>F</td>\n      <td>1</td>\n      <td>0</td>\n    </tr>\n    <tr>\n      <th>414</th>\n      <td>1</td>\n      <td>39.000000</td>\n      <td>C</td>\n      <td>0</td>\n      <td>1</td>\n    </tr>\n    <tr>\n      <th>415</th>\n      <td>3</td>\n      <td>38.500000</td>\n      <td>F</td>\n      <td>1</td>\n      <td>0</td>\n    </tr>\n    <tr>\n      <th>416</th>\n      <td>3</td>\n      <td>22.538462</td>\n      <td>F</td>\n      <td>1</td>\n      <td>0</td>\n    </tr>\n    <tr>\n      <th>417</th>\n      <td>3</td>\n      <td>22.538462</td>\n      <td>F</td>\n      <td>1</td>\n      <td>0</td>\n    </tr>\n  </tbody>\n</table>\n<p>418 rows × 5 columns</p>\n</div>"
     },
     "metadata": {},
     "execution_count": 66
    }
   ],
   "source": [
    "test"
   ]
  },
  {
   "source": [
    "### 3-2-2. 객실 데이터\n",
    "<br>\n",
    "이제 객실 정보를 가공하자\n",
    "<br>\n",
    "객실 정보도 성별을 분류했던 것과 같이 Cabin_A, Cabin_B...와 같은 특성을 추가한 뒤 값을 넣어줄거다."
   ],
   "cell_type": "markdown",
   "metadata": {}
  },
  {
   "cell_type": "code",
   "execution_count": 67,
   "metadata": {},
   "outputs": [],
   "source": [
    "# 객실 종류별 is~ 특성 추가\n",
    "train['Cabin_A'] = 0 \n",
    "train['Cabin_B'] = 0\n",
    "train['Cabin_C'] = 0\n",
    "train['Cabin_D'] = 0\n",
    "train['Cabin_E'] = 0\n",
    "train['Cabin_F'] = 0\n",
    "train['Cabin_G'] = 0\n",
    "train['Cabin_T'] = 0\n",
    "\n",
    "for i in range(0, len(train)):\n",
    "    if train['Cabin'][i] == 'A':\n",
    "        train['Cabin_A'][i] = 1\n",
    "    elif train['Cabin'][i] == 'B':\n",
    "        train['Cabin_B'][i] = 1\n",
    "    elif train['Cabin'][i] == 'C':\n",
    "        train['Cabin_C'][i] = 1\n",
    "    elif train['Cabin'][i] == 'D':\n",
    "        train['Cabin_D'][i] = 1\n",
    "    elif train['Cabin'][i] == 'E':\n",
    "        train['Cabin_E'][i] = 1\n",
    "    elif train['Cabin'][i] == 'F':\n",
    "        train['Cabin_F'][i] = 1\n",
    "    elif train['Cabin'][i] == 'G':\n",
    "        train['Cabin_G'][i] = 1\n",
    "    elif train['Cabin'][i] == 'T':\n",
    "        train['Cabin_T'][i] = 1\n",
    "\n",
    "# 테스트 데이터도 추가\n",
    "test['Cabin_A'] = 0 \n",
    "test['Cabin_B'] = 0\n",
    "test['Cabin_C'] = 0\n",
    "test['Cabin_D'] = 0\n",
    "test['Cabin_E'] = 0\n",
    "test['Cabin_F'] = 0\n",
    "test['Cabin_G'] = 0\n",
    "test['Cabin_T'] = 0\n",
    "\n",
    "for i in range(0, len(test)):\n",
    "    if test['Cabin'][i] == 'A':\n",
    "        test['Cabin_A'][i] = 1\n",
    "    elif test['Cabin'][i] == 'B':\n",
    "        test['Cabin_B'][i] = 1\n",
    "    elif test['Cabin'][i] == 'C':\n",
    "        test['Cabin_C'][i] = 1\n",
    "    elif test['Cabin'][i] == 'D':\n",
    "        test['Cabin_D'][i] = 1\n",
    "    elif test['Cabin'][i] == 'E':\n",
    "        test['Cabin_E'][i] = 1\n",
    "    elif test['Cabin'][i] == 'F':\n",
    "        test['Cabin_F'][i] = 1\n",
    "    elif test['Cabin'][i] == 'G':\n",
    "        test['Cabin_G'][i] = 1\n",
    "    elif test['Cabin'][i] == 'T':\n",
    "        test['Cabin_T'][i] = 1\n",
    "\n",
    "# 'Cabin' 특성 드랍\n",
    "train.drop('Cabin', axis=1, inplace=True)\n",
    "test.drop('Cabin', axis=1, inplace=True)"
   ]
  },
  {
   "source": [
    "데이터를 확인해보자"
   ],
   "cell_type": "markdown",
   "metadata": {}
  },
  {
   "cell_type": "code",
   "execution_count": 68,
   "metadata": {},
   "outputs": [
    {
     "output_type": "execute_result",
     "data": {
      "text/plain": [
       "     Survived  Pclass        Age  isMan  isWoman  Cabin_A  Cabin_B  Cabin_C  \\\n",
       "0           0       3  22.000000      1        0        0        0        0   \n",
       "1           1       1  38.000000      0        1        0        0        1   \n",
       "2           1       3  26.000000      0        1        0        0        0   \n",
       "3           1       1  35.000000      0        1        0        0        1   \n",
       "4           0       3  35.000000      1        0        0        0        0   \n",
       "..        ...     ...        ...    ...      ...      ...      ...      ...   \n",
       "886         0       2  27.000000      1        0        0        0        0   \n",
       "887         1       1  19.000000      0        1        0        1        0   \n",
       "888         0       3  23.315705      0        1        0        0        0   \n",
       "889         1       1  26.000000      1        0        0        0        1   \n",
       "890         0       3  32.000000      1        0        0        0        0   \n",
       "\n",
       "     Cabin_D  Cabin_E  Cabin_F  Cabin_G  Cabin_T  \n",
       "0          0        0        0        1        0  \n",
       "1          0        0        0        0        0  \n",
       "2          0        1        0        0        0  \n",
       "3          0        0        0        0        0  \n",
       "4          0        1        0        0        0  \n",
       "..       ...      ...      ...      ...      ...  \n",
       "886        0        1        0        0        0  \n",
       "887        0        0        0        0        0  \n",
       "888        0        0        1        0        0  \n",
       "889        0        0        0        0        0  \n",
       "890        0        0        1        0        0  \n",
       "\n",
       "[891 rows x 13 columns]"
      ],
      "text/html": "<div>\n<style scoped>\n    .dataframe tbody tr th:only-of-type {\n        vertical-align: middle;\n    }\n\n    .dataframe tbody tr th {\n        vertical-align: top;\n    }\n\n    .dataframe thead th {\n        text-align: right;\n    }\n</style>\n<table border=\"1\" class=\"dataframe\">\n  <thead>\n    <tr style=\"text-align: right;\">\n      <th></th>\n      <th>Survived</th>\n      <th>Pclass</th>\n      <th>Age</th>\n      <th>isMan</th>\n      <th>isWoman</th>\n      <th>Cabin_A</th>\n      <th>Cabin_B</th>\n      <th>Cabin_C</th>\n      <th>Cabin_D</th>\n      <th>Cabin_E</th>\n      <th>Cabin_F</th>\n      <th>Cabin_G</th>\n      <th>Cabin_T</th>\n    </tr>\n  </thead>\n  <tbody>\n    <tr>\n      <th>0</th>\n      <td>0</td>\n      <td>3</td>\n      <td>22.000000</td>\n      <td>1</td>\n      <td>0</td>\n      <td>0</td>\n      <td>0</td>\n      <td>0</td>\n      <td>0</td>\n      <td>0</td>\n      <td>0</td>\n      <td>1</td>\n      <td>0</td>\n    </tr>\n    <tr>\n      <th>1</th>\n      <td>1</td>\n      <td>1</td>\n      <td>38.000000</td>\n      <td>0</td>\n      <td>1</td>\n      <td>0</td>\n      <td>0</td>\n      <td>1</td>\n      <td>0</td>\n      <td>0</td>\n      <td>0</td>\n      <td>0</td>\n      <td>0</td>\n    </tr>\n    <tr>\n      <th>2</th>\n      <td>1</td>\n      <td>3</td>\n      <td>26.000000</td>\n      <td>0</td>\n      <td>1</td>\n      <td>0</td>\n      <td>0</td>\n      <td>0</td>\n      <td>0</td>\n      <td>1</td>\n      <td>0</td>\n      <td>0</td>\n      <td>0</td>\n    </tr>\n    <tr>\n      <th>3</th>\n      <td>1</td>\n      <td>1</td>\n      <td>35.000000</td>\n      <td>0</td>\n      <td>1</td>\n      <td>0</td>\n      <td>0</td>\n      <td>1</td>\n      <td>0</td>\n      <td>0</td>\n      <td>0</td>\n      <td>0</td>\n      <td>0</td>\n    </tr>\n    <tr>\n      <th>4</th>\n      <td>0</td>\n      <td>3</td>\n      <td>35.000000</td>\n      <td>1</td>\n      <td>0</td>\n      <td>0</td>\n      <td>0</td>\n      <td>0</td>\n      <td>0</td>\n      <td>1</td>\n      <td>0</td>\n      <td>0</td>\n      <td>0</td>\n    </tr>\n    <tr>\n      <th>...</th>\n      <td>...</td>\n      <td>...</td>\n      <td>...</td>\n      <td>...</td>\n      <td>...</td>\n      <td>...</td>\n      <td>...</td>\n      <td>...</td>\n      <td>...</td>\n      <td>...</td>\n      <td>...</td>\n      <td>...</td>\n      <td>...</td>\n    </tr>\n    <tr>\n      <th>886</th>\n      <td>0</td>\n      <td>2</td>\n      <td>27.000000</td>\n      <td>1</td>\n      <td>0</td>\n      <td>0</td>\n      <td>0</td>\n      <td>0</td>\n      <td>0</td>\n      <td>1</td>\n      <td>0</td>\n      <td>0</td>\n      <td>0</td>\n    </tr>\n    <tr>\n      <th>887</th>\n      <td>1</td>\n      <td>1</td>\n      <td>19.000000</td>\n      <td>0</td>\n      <td>1</td>\n      <td>0</td>\n      <td>1</td>\n      <td>0</td>\n      <td>0</td>\n      <td>0</td>\n      <td>0</td>\n      <td>0</td>\n      <td>0</td>\n    </tr>\n    <tr>\n      <th>888</th>\n      <td>0</td>\n      <td>3</td>\n      <td>23.315705</td>\n      <td>0</td>\n      <td>1</td>\n      <td>0</td>\n      <td>0</td>\n      <td>0</td>\n      <td>0</td>\n      <td>0</td>\n      <td>1</td>\n      <td>0</td>\n      <td>0</td>\n    </tr>\n    <tr>\n      <th>889</th>\n      <td>1</td>\n      <td>1</td>\n      <td>26.000000</td>\n      <td>1</td>\n      <td>0</td>\n      <td>0</td>\n      <td>0</td>\n      <td>1</td>\n      <td>0</td>\n      <td>0</td>\n      <td>0</td>\n      <td>0</td>\n      <td>0</td>\n    </tr>\n    <tr>\n      <th>890</th>\n      <td>0</td>\n      <td>3</td>\n      <td>32.000000</td>\n      <td>1</td>\n      <td>0</td>\n      <td>0</td>\n      <td>0</td>\n      <td>0</td>\n      <td>0</td>\n      <td>0</td>\n      <td>1</td>\n      <td>0</td>\n      <td>0</td>\n    </tr>\n  </tbody>\n</table>\n<p>891 rows × 13 columns</p>\n</div>"
     },
     "metadata": {},
     "execution_count": 68
    }
   ],
   "source": [
    "train"
   ]
  },
  {
   "cell_type": "code",
   "execution_count": 69,
   "metadata": {},
   "outputs": [
    {
     "output_type": "execute_result",
     "data": {
      "text/plain": [
       "     Pclass        Age  isMan  isWoman  Cabin_A  Cabin_B  Cabin_C  Cabin_D  \\\n",
       "0         3  34.500000      1        0        0        0        0        0   \n",
       "1         3  47.000000      0        1        0        0        0        0   \n",
       "2         2  62.000000      1        0        0        0        0        0   \n",
       "3         3  27.000000      1        0        0        0        0        0   \n",
       "4         3  22.000000      0        1        0        0        0        0   \n",
       "..      ...        ...    ...      ...      ...      ...      ...      ...   \n",
       "413       3  33.214286      1        0        0        0        0        0   \n",
       "414       1  39.000000      0        1        0        0        1        0   \n",
       "415       3  38.500000      1        0        0        0        0        0   \n",
       "416       3  22.538462      1        0        0        0        0        0   \n",
       "417       3  22.538462      1        0        0        0        0        0   \n",
       "\n",
       "     Cabin_E  Cabin_F  Cabin_G  Cabin_T  \n",
       "0          0        1        0        0  \n",
       "1          0        1        0        0  \n",
       "2          0        1        0        0  \n",
       "3          0        1        0        0  \n",
       "4          0        0        1        0  \n",
       "..       ...      ...      ...      ...  \n",
       "413        0        1        0        0  \n",
       "414        0        0        0        0  \n",
       "415        0        1        0        0  \n",
       "416        0        1        0        0  \n",
       "417        0        1        0        0  \n",
       "\n",
       "[418 rows x 12 columns]"
      ],
      "text/html": "<div>\n<style scoped>\n    .dataframe tbody tr th:only-of-type {\n        vertical-align: middle;\n    }\n\n    .dataframe tbody tr th {\n        vertical-align: top;\n    }\n\n    .dataframe thead th {\n        text-align: right;\n    }\n</style>\n<table border=\"1\" class=\"dataframe\">\n  <thead>\n    <tr style=\"text-align: right;\">\n      <th></th>\n      <th>Pclass</th>\n      <th>Age</th>\n      <th>isMan</th>\n      <th>isWoman</th>\n      <th>Cabin_A</th>\n      <th>Cabin_B</th>\n      <th>Cabin_C</th>\n      <th>Cabin_D</th>\n      <th>Cabin_E</th>\n      <th>Cabin_F</th>\n      <th>Cabin_G</th>\n      <th>Cabin_T</th>\n    </tr>\n  </thead>\n  <tbody>\n    <tr>\n      <th>0</th>\n      <td>3</td>\n      <td>34.500000</td>\n      <td>1</td>\n      <td>0</td>\n      <td>0</td>\n      <td>0</td>\n      <td>0</td>\n      <td>0</td>\n      <td>0</td>\n      <td>1</td>\n      <td>0</td>\n      <td>0</td>\n    </tr>\n    <tr>\n      <th>1</th>\n      <td>3</td>\n      <td>47.000000</td>\n      <td>0</td>\n      <td>1</td>\n      <td>0</td>\n      <td>0</td>\n      <td>0</td>\n      <td>0</td>\n      <td>0</td>\n      <td>1</td>\n      <td>0</td>\n      <td>0</td>\n    </tr>\n    <tr>\n      <th>2</th>\n      <td>2</td>\n      <td>62.000000</td>\n      <td>1</td>\n      <td>0</td>\n      <td>0</td>\n      <td>0</td>\n      <td>0</td>\n      <td>0</td>\n      <td>0</td>\n      <td>1</td>\n      <td>0</td>\n      <td>0</td>\n    </tr>\n    <tr>\n      <th>3</th>\n      <td>3</td>\n      <td>27.000000</td>\n      <td>1</td>\n      <td>0</td>\n      <td>0</td>\n      <td>0</td>\n      <td>0</td>\n      <td>0</td>\n      <td>0</td>\n      <td>1</td>\n      <td>0</td>\n      <td>0</td>\n    </tr>\n    <tr>\n      <th>4</th>\n      <td>3</td>\n      <td>22.000000</td>\n      <td>0</td>\n      <td>1</td>\n      <td>0</td>\n      <td>0</td>\n      <td>0</td>\n      <td>0</td>\n      <td>0</td>\n      <td>0</td>\n      <td>1</td>\n      <td>0</td>\n    </tr>\n    <tr>\n      <th>...</th>\n      <td>...</td>\n      <td>...</td>\n      <td>...</td>\n      <td>...</td>\n      <td>...</td>\n      <td>...</td>\n      <td>...</td>\n      <td>...</td>\n      <td>...</td>\n      <td>...</td>\n      <td>...</td>\n      <td>...</td>\n    </tr>\n    <tr>\n      <th>413</th>\n      <td>3</td>\n      <td>33.214286</td>\n      <td>1</td>\n      <td>0</td>\n      <td>0</td>\n      <td>0</td>\n      <td>0</td>\n      <td>0</td>\n      <td>0</td>\n      <td>1</td>\n      <td>0</td>\n      <td>0</td>\n    </tr>\n    <tr>\n      <th>414</th>\n      <td>1</td>\n      <td>39.000000</td>\n      <td>0</td>\n      <td>1</td>\n      <td>0</td>\n      <td>0</td>\n      <td>1</td>\n      <td>0</td>\n      <td>0</td>\n      <td>0</td>\n      <td>0</td>\n      <td>0</td>\n    </tr>\n    <tr>\n      <th>415</th>\n      <td>3</td>\n      <td>38.500000</td>\n      <td>1</td>\n      <td>0</td>\n      <td>0</td>\n      <td>0</td>\n      <td>0</td>\n      <td>0</td>\n      <td>0</td>\n      <td>1</td>\n      <td>0</td>\n      <td>0</td>\n    </tr>\n    <tr>\n      <th>416</th>\n      <td>3</td>\n      <td>22.538462</td>\n      <td>1</td>\n      <td>0</td>\n      <td>0</td>\n      <td>0</td>\n      <td>0</td>\n      <td>0</td>\n      <td>0</td>\n      <td>1</td>\n      <td>0</td>\n      <td>0</td>\n    </tr>\n    <tr>\n      <th>417</th>\n      <td>3</td>\n      <td>22.538462</td>\n      <td>1</td>\n      <td>0</td>\n      <td>0</td>\n      <td>0</td>\n      <td>0</td>\n      <td>0</td>\n      <td>0</td>\n      <td>1</td>\n      <td>0</td>\n      <td>0</td>\n    </tr>\n  </tbody>\n</table>\n<p>418 rows × 12 columns</p>\n</div>"
     },
     "metadata": {},
     "execution_count": 69
    }
   ],
   "source": [
    "test"
   ]
  },
  {
   "source": [
    "### 3-2-3. 객실 등급 데이터\n",
    "<br>\n",
    "이제 객실 등급 데이터를 가공하자. 앞서 확인했든 객실 등급은 생존 분류에 큰 영향을 미친다.\n",
    "<br>\n",
    "그러니 Pclass_1, Pclass_2, Pclass_3으로 만들고 해당되는 값에 1을 넣어준다."
   ],
   "cell_type": "markdown",
   "metadata": {}
  },
  {
   "cell_type": "code",
   "execution_count": 70,
   "metadata": {},
   "outputs": [],
   "source": [
    "train['Pclass_1'] = 0\n",
    "train['Pclass_2'] = 0\n",
    "train['Pclass_3'] = 0\n",
    "\n",
    "for i in range(0, len(train)):\n",
    "    if train['Pclass'][i] == 1:\n",
    "        train['Pclass_1'][i] = 1\n",
    "    elif train['Pclass'][i] == 2:\n",
    "        train['Pclass_2'][i] = 1\n",
    "    elif train['Pclass'][i] == 3:\n",
    "        train['Pclass_3'][i] = 1\n",
    "\n",
    "test['Pclass_1'] = 0\n",
    "test['Pclass_2'] = 0\n",
    "test['Pclass_3'] = 0\n",
    "\n",
    "for i in range(0, len(test)):\n",
    "    if test['Pclass'][i] == 1:\n",
    "        test['Pclass_1'][i] = 1\n",
    "    elif test['Pclass'][i] == 2:\n",
    "        test['Pclass_2'][i] = 1\n",
    "    elif test['Pclass'][i] == 3:\n",
    "        test['Pclass_3'][i] = 1\n",
    "\n",
    "# 'Embarked' 특성 드랍\n",
    "train.drop('Pclass', axis=1, inplace=True)\n",
    "test.drop('Pclass', axis=1, inplace=True)"
   ]
  },
  {
   "source": [
    "데이터를 확인해보자"
   ],
   "cell_type": "markdown",
   "metadata": {}
  },
  {
   "cell_type": "code",
   "execution_count": 71,
   "metadata": {},
   "outputs": [
    {
     "output_type": "execute_result",
     "data": {
      "text/plain": [
       "     Survived        Age  isMan  isWoman  Cabin_A  Cabin_B  Cabin_C  Cabin_D  \\\n",
       "0           0  22.000000      1        0        0        0        0        0   \n",
       "1           1  38.000000      0        1        0        0        1        0   \n",
       "2           1  26.000000      0        1        0        0        0        0   \n",
       "3           1  35.000000      0        1        0        0        1        0   \n",
       "4           0  35.000000      1        0        0        0        0        0   \n",
       "..        ...        ...    ...      ...      ...      ...      ...      ...   \n",
       "886         0  27.000000      1        0        0        0        0        0   \n",
       "887         1  19.000000      0        1        0        1        0        0   \n",
       "888         0  23.315705      0        1        0        0        0        0   \n",
       "889         1  26.000000      1        0        0        0        1        0   \n",
       "890         0  32.000000      1        0        0        0        0        0   \n",
       "\n",
       "     Cabin_E  Cabin_F  Cabin_G  Cabin_T  Pclass_1  Pclass_2  Pclass_3  \n",
       "0          0        0        1        0         0         0         1  \n",
       "1          0        0        0        0         1         0         0  \n",
       "2          1        0        0        0         0         0         1  \n",
       "3          0        0        0        0         1         0         0  \n",
       "4          1        0        0        0         0         0         1  \n",
       "..       ...      ...      ...      ...       ...       ...       ...  \n",
       "886        1        0        0        0         0         1         0  \n",
       "887        0        0        0        0         1         0         0  \n",
       "888        0        1        0        0         0         0         1  \n",
       "889        0        0        0        0         1         0         0  \n",
       "890        0        1        0        0         0         0         1  \n",
       "\n",
       "[891 rows x 15 columns]"
      ],
      "text/html": "<div>\n<style scoped>\n    .dataframe tbody tr th:only-of-type {\n        vertical-align: middle;\n    }\n\n    .dataframe tbody tr th {\n        vertical-align: top;\n    }\n\n    .dataframe thead th {\n        text-align: right;\n    }\n</style>\n<table border=\"1\" class=\"dataframe\">\n  <thead>\n    <tr style=\"text-align: right;\">\n      <th></th>\n      <th>Survived</th>\n      <th>Age</th>\n      <th>isMan</th>\n      <th>isWoman</th>\n      <th>Cabin_A</th>\n      <th>Cabin_B</th>\n      <th>Cabin_C</th>\n      <th>Cabin_D</th>\n      <th>Cabin_E</th>\n      <th>Cabin_F</th>\n      <th>Cabin_G</th>\n      <th>Cabin_T</th>\n      <th>Pclass_1</th>\n      <th>Pclass_2</th>\n      <th>Pclass_3</th>\n    </tr>\n  </thead>\n  <tbody>\n    <tr>\n      <th>0</th>\n      <td>0</td>\n      <td>22.000000</td>\n      <td>1</td>\n      <td>0</td>\n      <td>0</td>\n      <td>0</td>\n      <td>0</td>\n      <td>0</td>\n      <td>0</td>\n      <td>0</td>\n      <td>1</td>\n      <td>0</td>\n      <td>0</td>\n      <td>0</td>\n      <td>1</td>\n    </tr>\n    <tr>\n      <th>1</th>\n      <td>1</td>\n      <td>38.000000</td>\n      <td>0</td>\n      <td>1</td>\n      <td>0</td>\n      <td>0</td>\n      <td>1</td>\n      <td>0</td>\n      <td>0</td>\n      <td>0</td>\n      <td>0</td>\n      <td>0</td>\n      <td>1</td>\n      <td>0</td>\n      <td>0</td>\n    </tr>\n    <tr>\n      <th>2</th>\n      <td>1</td>\n      <td>26.000000</td>\n      <td>0</td>\n      <td>1</td>\n      <td>0</td>\n      <td>0</td>\n      <td>0</td>\n      <td>0</td>\n      <td>1</td>\n      <td>0</td>\n      <td>0</td>\n      <td>0</td>\n      <td>0</td>\n      <td>0</td>\n      <td>1</td>\n    </tr>\n    <tr>\n      <th>3</th>\n      <td>1</td>\n      <td>35.000000</td>\n      <td>0</td>\n      <td>1</td>\n      <td>0</td>\n      <td>0</td>\n      <td>1</td>\n      <td>0</td>\n      <td>0</td>\n      <td>0</td>\n      <td>0</td>\n      <td>0</td>\n      <td>1</td>\n      <td>0</td>\n      <td>0</td>\n    </tr>\n    <tr>\n      <th>4</th>\n      <td>0</td>\n      <td>35.000000</td>\n      <td>1</td>\n      <td>0</td>\n      <td>0</td>\n      <td>0</td>\n      <td>0</td>\n      <td>0</td>\n      <td>1</td>\n      <td>0</td>\n      <td>0</td>\n      <td>0</td>\n      <td>0</td>\n      <td>0</td>\n      <td>1</td>\n    </tr>\n    <tr>\n      <th>...</th>\n      <td>...</td>\n      <td>...</td>\n      <td>...</td>\n      <td>...</td>\n      <td>...</td>\n      <td>...</td>\n      <td>...</td>\n      <td>...</td>\n      <td>...</td>\n      <td>...</td>\n      <td>...</td>\n      <td>...</td>\n      <td>...</td>\n      <td>...</td>\n      <td>...</td>\n    </tr>\n    <tr>\n      <th>886</th>\n      <td>0</td>\n      <td>27.000000</td>\n      <td>1</td>\n      <td>0</td>\n      <td>0</td>\n      <td>0</td>\n      <td>0</td>\n      <td>0</td>\n      <td>1</td>\n      <td>0</td>\n      <td>0</td>\n      <td>0</td>\n      <td>0</td>\n      <td>1</td>\n      <td>0</td>\n    </tr>\n    <tr>\n      <th>887</th>\n      <td>1</td>\n      <td>19.000000</td>\n      <td>0</td>\n      <td>1</td>\n      <td>0</td>\n      <td>1</td>\n      <td>0</td>\n      <td>0</td>\n      <td>0</td>\n      <td>0</td>\n      <td>0</td>\n      <td>0</td>\n      <td>1</td>\n      <td>0</td>\n      <td>0</td>\n    </tr>\n    <tr>\n      <th>888</th>\n      <td>0</td>\n      <td>23.315705</td>\n      <td>0</td>\n      <td>1</td>\n      <td>0</td>\n      <td>0</td>\n      <td>0</td>\n      <td>0</td>\n      <td>0</td>\n      <td>1</td>\n      <td>0</td>\n      <td>0</td>\n      <td>0</td>\n      <td>0</td>\n      <td>1</td>\n    </tr>\n    <tr>\n      <th>889</th>\n      <td>1</td>\n      <td>26.000000</td>\n      <td>1</td>\n      <td>0</td>\n      <td>0</td>\n      <td>0</td>\n      <td>1</td>\n      <td>0</td>\n      <td>0</td>\n      <td>0</td>\n      <td>0</td>\n      <td>0</td>\n      <td>1</td>\n      <td>0</td>\n      <td>0</td>\n    </tr>\n    <tr>\n      <th>890</th>\n      <td>0</td>\n      <td>32.000000</td>\n      <td>1</td>\n      <td>0</td>\n      <td>0</td>\n      <td>0</td>\n      <td>0</td>\n      <td>0</td>\n      <td>0</td>\n      <td>1</td>\n      <td>0</td>\n      <td>0</td>\n      <td>0</td>\n      <td>0</td>\n      <td>1</td>\n    </tr>\n  </tbody>\n</table>\n<p>891 rows × 15 columns</p>\n</div>"
     },
     "metadata": {},
     "execution_count": 71
    }
   ],
   "source": [
    "train"
   ]
  },
  {
   "cell_type": "code",
   "execution_count": 72,
   "metadata": {},
   "outputs": [
    {
     "output_type": "execute_result",
     "data": {
      "text/plain": [
       "           Age  isMan  isWoman  Cabin_A  Cabin_B  Cabin_C  Cabin_D  Cabin_E  \\\n",
       "0    34.500000      1        0        0        0        0        0        0   \n",
       "1    47.000000      0        1        0        0        0        0        0   \n",
       "2    62.000000      1        0        0        0        0        0        0   \n",
       "3    27.000000      1        0        0        0        0        0        0   \n",
       "4    22.000000      0        1        0        0        0        0        0   \n",
       "..         ...    ...      ...      ...      ...      ...      ...      ...   \n",
       "413  33.214286      1        0        0        0        0        0        0   \n",
       "414  39.000000      0        1        0        0        1        0        0   \n",
       "415  38.500000      1        0        0        0        0        0        0   \n",
       "416  22.538462      1        0        0        0        0        0        0   \n",
       "417  22.538462      1        0        0        0        0        0        0   \n",
       "\n",
       "     Cabin_F  Cabin_G  Cabin_T  Pclass_1  Pclass_2  Pclass_3  \n",
       "0          1        0        0         0         0         1  \n",
       "1          1        0        0         0         0         1  \n",
       "2          1        0        0         0         1         0  \n",
       "3          1        0        0         0         0         1  \n",
       "4          0        1        0         0         0         1  \n",
       "..       ...      ...      ...       ...       ...       ...  \n",
       "413        1        0        0         0         0         1  \n",
       "414        0        0        0         1         0         0  \n",
       "415        1        0        0         0         0         1  \n",
       "416        1        0        0         0         0         1  \n",
       "417        1        0        0         0         0         1  \n",
       "\n",
       "[418 rows x 14 columns]"
      ],
      "text/html": "<div>\n<style scoped>\n    .dataframe tbody tr th:only-of-type {\n        vertical-align: middle;\n    }\n\n    .dataframe tbody tr th {\n        vertical-align: top;\n    }\n\n    .dataframe thead th {\n        text-align: right;\n    }\n</style>\n<table border=\"1\" class=\"dataframe\">\n  <thead>\n    <tr style=\"text-align: right;\">\n      <th></th>\n      <th>Age</th>\n      <th>isMan</th>\n      <th>isWoman</th>\n      <th>Cabin_A</th>\n      <th>Cabin_B</th>\n      <th>Cabin_C</th>\n      <th>Cabin_D</th>\n      <th>Cabin_E</th>\n      <th>Cabin_F</th>\n      <th>Cabin_G</th>\n      <th>Cabin_T</th>\n      <th>Pclass_1</th>\n      <th>Pclass_2</th>\n      <th>Pclass_3</th>\n    </tr>\n  </thead>\n  <tbody>\n    <tr>\n      <th>0</th>\n      <td>34.500000</td>\n      <td>1</td>\n      <td>0</td>\n      <td>0</td>\n      <td>0</td>\n      <td>0</td>\n      <td>0</td>\n      <td>0</td>\n      <td>1</td>\n      <td>0</td>\n      <td>0</td>\n      <td>0</td>\n      <td>0</td>\n      <td>1</td>\n    </tr>\n    <tr>\n      <th>1</th>\n      <td>47.000000</td>\n      <td>0</td>\n      <td>1</td>\n      <td>0</td>\n      <td>0</td>\n      <td>0</td>\n      <td>0</td>\n      <td>0</td>\n      <td>1</td>\n      <td>0</td>\n      <td>0</td>\n      <td>0</td>\n      <td>0</td>\n      <td>1</td>\n    </tr>\n    <tr>\n      <th>2</th>\n      <td>62.000000</td>\n      <td>1</td>\n      <td>0</td>\n      <td>0</td>\n      <td>0</td>\n      <td>0</td>\n      <td>0</td>\n      <td>0</td>\n      <td>1</td>\n      <td>0</td>\n      <td>0</td>\n      <td>0</td>\n      <td>1</td>\n      <td>0</td>\n    </tr>\n    <tr>\n      <th>3</th>\n      <td>27.000000</td>\n      <td>1</td>\n      <td>0</td>\n      <td>0</td>\n      <td>0</td>\n      <td>0</td>\n      <td>0</td>\n      <td>0</td>\n      <td>1</td>\n      <td>0</td>\n      <td>0</td>\n      <td>0</td>\n      <td>0</td>\n      <td>1</td>\n    </tr>\n    <tr>\n      <th>4</th>\n      <td>22.000000</td>\n      <td>0</td>\n      <td>1</td>\n      <td>0</td>\n      <td>0</td>\n      <td>0</td>\n      <td>0</td>\n      <td>0</td>\n      <td>0</td>\n      <td>1</td>\n      <td>0</td>\n      <td>0</td>\n      <td>0</td>\n      <td>1</td>\n    </tr>\n    <tr>\n      <th>...</th>\n      <td>...</td>\n      <td>...</td>\n      <td>...</td>\n      <td>...</td>\n      <td>...</td>\n      <td>...</td>\n      <td>...</td>\n      <td>...</td>\n      <td>...</td>\n      <td>...</td>\n      <td>...</td>\n      <td>...</td>\n      <td>...</td>\n      <td>...</td>\n    </tr>\n    <tr>\n      <th>413</th>\n      <td>33.214286</td>\n      <td>1</td>\n      <td>0</td>\n      <td>0</td>\n      <td>0</td>\n      <td>0</td>\n      <td>0</td>\n      <td>0</td>\n      <td>1</td>\n      <td>0</td>\n      <td>0</td>\n      <td>0</td>\n      <td>0</td>\n      <td>1</td>\n    </tr>\n    <tr>\n      <th>414</th>\n      <td>39.000000</td>\n      <td>0</td>\n      <td>1</td>\n      <td>0</td>\n      <td>0</td>\n      <td>1</td>\n      <td>0</td>\n      <td>0</td>\n      <td>0</td>\n      <td>0</td>\n      <td>0</td>\n      <td>1</td>\n      <td>0</td>\n      <td>0</td>\n    </tr>\n    <tr>\n      <th>415</th>\n      <td>38.500000</td>\n      <td>1</td>\n      <td>0</td>\n      <td>0</td>\n      <td>0</td>\n      <td>0</td>\n      <td>0</td>\n      <td>0</td>\n      <td>1</td>\n      <td>0</td>\n      <td>0</td>\n      <td>0</td>\n      <td>0</td>\n      <td>1</td>\n    </tr>\n    <tr>\n      <th>416</th>\n      <td>22.538462</td>\n      <td>1</td>\n      <td>0</td>\n      <td>0</td>\n      <td>0</td>\n      <td>0</td>\n      <td>0</td>\n      <td>0</td>\n      <td>1</td>\n      <td>0</td>\n      <td>0</td>\n      <td>0</td>\n      <td>0</td>\n      <td>1</td>\n    </tr>\n    <tr>\n      <th>417</th>\n      <td>22.538462</td>\n      <td>1</td>\n      <td>0</td>\n      <td>0</td>\n      <td>0</td>\n      <td>0</td>\n      <td>0</td>\n      <td>0</td>\n      <td>1</td>\n      <td>0</td>\n      <td>0</td>\n      <td>0</td>\n      <td>0</td>\n      <td>1</td>\n    </tr>\n  </tbody>\n</table>\n<p>418 rows × 14 columns</p>\n</div>"
     },
     "metadata": {},
     "execution_count": 72
    }
   ],
   "source": [
    "test"
   ]
  },
  {
   "source": [
    "### 3-2-4. 나이 데이터\n",
    "<br>\n",
    "마지막으로 나이 데이터를 가공하자. 앞서 말했듯  미성년(0~17), 청년(18~38), 중년(39~60), 노년(61~)으로 구분할거다"
   ],
   "cell_type": "markdown",
   "metadata": {}
  },
  {
   "cell_type": "code",
   "execution_count": 73,
   "metadata": {},
   "outputs": [],
   "source": [
    "train['isYoung'] = 0 # 미성년 \n",
    "train['isyouth'] = 0 # 청년\n",
    "train['isMiddleAge'] = 0 # 중년\n",
    "train['isOldAge'] = 0 # 노년\n",
    "\n",
    "\n",
    "for i in range(0, len(train)):\n",
    "    if train['Age'][i] < 17:\n",
    "        train['isYoung'][i] = 1\n",
    "    elif train['Age'][i] >= 18 and train['Age'][i] < 39 :\n",
    "        train['isyouth'][i] = 1\n",
    "    elif train['Age'][i] >= 39 and train['Age'][i] < 61:\n",
    "        train['isMiddleAge'][i] = 1\n",
    "    elif train['Age'][i] >= 61:\n",
    "        train['isOldAge'][i] = 1\n",
    "\n",
    "test['isYoung'] = 0 # 미성년 \n",
    "test['isyouth'] = 0 # 청년\n",
    "test['isMiddleAge'] = 0 # 중년\n",
    "test['isOldAge'] = 0 # 노년\n",
    "\n",
    "\n",
    "for i in range(0, len(test)):\n",
    "    if test['Age'][i] < 17:\n",
    "        test['isYoung'][i] = 1\n",
    "    elif test['Age'][i] >= 18 and test['Age'][i] < 39 :\n",
    "        test['isyouth'][i] = 1\n",
    "    elif test['Age'][i] >= 39 and test['Age'][i] < 61:\n",
    "        test['isMiddleAge'][i] = 1\n",
    "    elif test['Age'][i] >= 61:\n",
    "        test['isOldAge'][i] = 1\n",
    "\n",
    "# 'Embarked' 특성 드랍\n",
    "train.drop('Age', axis=1, inplace=True)\n",
    "test.drop('Age', axis=1, inplace=True)"
   ]
  },
  {
   "source": [
    "데이터를 확인해보자"
   ],
   "cell_type": "markdown",
   "metadata": {}
  },
  {
   "cell_type": "code",
   "execution_count": 74,
   "metadata": {},
   "outputs": [
    {
     "output_type": "execute_result",
     "data": {
      "text/plain": [
       "     Survived  isMan  isWoman  Cabin_A  Cabin_B  Cabin_C  Cabin_D  Cabin_E  \\\n",
       "0           0      1        0        0        0        0        0        0   \n",
       "1           1      0        1        0        0        1        0        0   \n",
       "2           1      0        1        0        0        0        0        1   \n",
       "3           1      0        1        0        0        1        0        0   \n",
       "4           0      1        0        0        0        0        0        1   \n",
       "..        ...    ...      ...      ...      ...      ...      ...      ...   \n",
       "886         0      1        0        0        0        0        0        1   \n",
       "887         1      0        1        0        1        0        0        0   \n",
       "888         0      0        1        0        0        0        0        0   \n",
       "889         1      1        0        0        0        1        0        0   \n",
       "890         0      1        0        0        0        0        0        0   \n",
       "\n",
       "     Cabin_F  Cabin_G  Cabin_T  Pclass_1  Pclass_2  Pclass_3  isYoung  \\\n",
       "0          0        1        0         0         0         1        0   \n",
       "1          0        0        0         1         0         0        0   \n",
       "2          0        0        0         0         0         1        0   \n",
       "3          0        0        0         1         0         0        0   \n",
       "4          0        0        0         0         0         1        0   \n",
       "..       ...      ...      ...       ...       ...       ...      ...   \n",
       "886        0        0        0         0         1         0        0   \n",
       "887        0        0        0         1         0         0        0   \n",
       "888        1        0        0         0         0         1        0   \n",
       "889        0        0        0         1         0         0        0   \n",
       "890        1        0        0         0         0         1        0   \n",
       "\n",
       "     isyouth  isMiddleAge  isOldAge  \n",
       "0          1            0         0  \n",
       "1          1            0         0  \n",
       "2          1            0         0  \n",
       "3          1            0         0  \n",
       "4          1            0         0  \n",
       "..       ...          ...       ...  \n",
       "886        1            0         0  \n",
       "887        1            0         0  \n",
       "888        1            0         0  \n",
       "889        1            0         0  \n",
       "890        1            0         0  \n",
       "\n",
       "[891 rows x 18 columns]"
      ],
      "text/html": "<div>\n<style scoped>\n    .dataframe tbody tr th:only-of-type {\n        vertical-align: middle;\n    }\n\n    .dataframe tbody tr th {\n        vertical-align: top;\n    }\n\n    .dataframe thead th {\n        text-align: right;\n    }\n</style>\n<table border=\"1\" class=\"dataframe\">\n  <thead>\n    <tr style=\"text-align: right;\">\n      <th></th>\n      <th>Survived</th>\n      <th>isMan</th>\n      <th>isWoman</th>\n      <th>Cabin_A</th>\n      <th>Cabin_B</th>\n      <th>Cabin_C</th>\n      <th>Cabin_D</th>\n      <th>Cabin_E</th>\n      <th>Cabin_F</th>\n      <th>Cabin_G</th>\n      <th>Cabin_T</th>\n      <th>Pclass_1</th>\n      <th>Pclass_2</th>\n      <th>Pclass_3</th>\n      <th>isYoung</th>\n      <th>isyouth</th>\n      <th>isMiddleAge</th>\n      <th>isOldAge</th>\n    </tr>\n  </thead>\n  <tbody>\n    <tr>\n      <th>0</th>\n      <td>0</td>\n      <td>1</td>\n      <td>0</td>\n      <td>0</td>\n      <td>0</td>\n      <td>0</td>\n      <td>0</td>\n      <td>0</td>\n      <td>0</td>\n      <td>1</td>\n      <td>0</td>\n      <td>0</td>\n      <td>0</td>\n      <td>1</td>\n      <td>0</td>\n      <td>1</td>\n      <td>0</td>\n      <td>0</td>\n    </tr>\n    <tr>\n      <th>1</th>\n      <td>1</td>\n      <td>0</td>\n      <td>1</td>\n      <td>0</td>\n      <td>0</td>\n      <td>1</td>\n      <td>0</td>\n      <td>0</td>\n      <td>0</td>\n      <td>0</td>\n      <td>0</td>\n      <td>1</td>\n      <td>0</td>\n      <td>0</td>\n      <td>0</td>\n      <td>1</td>\n      <td>0</td>\n      <td>0</td>\n    </tr>\n    <tr>\n      <th>2</th>\n      <td>1</td>\n      <td>0</td>\n      <td>1</td>\n      <td>0</td>\n      <td>0</td>\n      <td>0</td>\n      <td>0</td>\n      <td>1</td>\n      <td>0</td>\n      <td>0</td>\n      <td>0</td>\n      <td>0</td>\n      <td>0</td>\n      <td>1</td>\n      <td>0</td>\n      <td>1</td>\n      <td>0</td>\n      <td>0</td>\n    </tr>\n    <tr>\n      <th>3</th>\n      <td>1</td>\n      <td>0</td>\n      <td>1</td>\n      <td>0</td>\n      <td>0</td>\n      <td>1</td>\n      <td>0</td>\n      <td>0</td>\n      <td>0</td>\n      <td>0</td>\n      <td>0</td>\n      <td>1</td>\n      <td>0</td>\n      <td>0</td>\n      <td>0</td>\n      <td>1</td>\n      <td>0</td>\n      <td>0</td>\n    </tr>\n    <tr>\n      <th>4</th>\n      <td>0</td>\n      <td>1</td>\n      <td>0</td>\n      <td>0</td>\n      <td>0</td>\n      <td>0</td>\n      <td>0</td>\n      <td>1</td>\n      <td>0</td>\n      <td>0</td>\n      <td>0</td>\n      <td>0</td>\n      <td>0</td>\n      <td>1</td>\n      <td>0</td>\n      <td>1</td>\n      <td>0</td>\n      <td>0</td>\n    </tr>\n    <tr>\n      <th>...</th>\n      <td>...</td>\n      <td>...</td>\n      <td>...</td>\n      <td>...</td>\n      <td>...</td>\n      <td>...</td>\n      <td>...</td>\n      <td>...</td>\n      <td>...</td>\n      <td>...</td>\n      <td>...</td>\n      <td>...</td>\n      <td>...</td>\n      <td>...</td>\n      <td>...</td>\n      <td>...</td>\n      <td>...</td>\n      <td>...</td>\n    </tr>\n    <tr>\n      <th>886</th>\n      <td>0</td>\n      <td>1</td>\n      <td>0</td>\n      <td>0</td>\n      <td>0</td>\n      <td>0</td>\n      <td>0</td>\n      <td>1</td>\n      <td>0</td>\n      <td>0</td>\n      <td>0</td>\n      <td>0</td>\n      <td>1</td>\n      <td>0</td>\n      <td>0</td>\n      <td>1</td>\n      <td>0</td>\n      <td>0</td>\n    </tr>\n    <tr>\n      <th>887</th>\n      <td>1</td>\n      <td>0</td>\n      <td>1</td>\n      <td>0</td>\n      <td>1</td>\n      <td>0</td>\n      <td>0</td>\n      <td>0</td>\n      <td>0</td>\n      <td>0</td>\n      <td>0</td>\n      <td>1</td>\n      <td>0</td>\n      <td>0</td>\n      <td>0</td>\n      <td>1</td>\n      <td>0</td>\n      <td>0</td>\n    </tr>\n    <tr>\n      <th>888</th>\n      <td>0</td>\n      <td>0</td>\n      <td>1</td>\n      <td>0</td>\n      <td>0</td>\n      <td>0</td>\n      <td>0</td>\n      <td>0</td>\n      <td>1</td>\n      <td>0</td>\n      <td>0</td>\n      <td>0</td>\n      <td>0</td>\n      <td>1</td>\n      <td>0</td>\n      <td>1</td>\n      <td>0</td>\n      <td>0</td>\n    </tr>\n    <tr>\n      <th>889</th>\n      <td>1</td>\n      <td>1</td>\n      <td>0</td>\n      <td>0</td>\n      <td>0</td>\n      <td>1</td>\n      <td>0</td>\n      <td>0</td>\n      <td>0</td>\n      <td>0</td>\n      <td>0</td>\n      <td>1</td>\n      <td>0</td>\n      <td>0</td>\n      <td>0</td>\n      <td>1</td>\n      <td>0</td>\n      <td>0</td>\n    </tr>\n    <tr>\n      <th>890</th>\n      <td>0</td>\n      <td>1</td>\n      <td>0</td>\n      <td>0</td>\n      <td>0</td>\n      <td>0</td>\n      <td>0</td>\n      <td>0</td>\n      <td>1</td>\n      <td>0</td>\n      <td>0</td>\n      <td>0</td>\n      <td>0</td>\n      <td>1</td>\n      <td>0</td>\n      <td>1</td>\n      <td>0</td>\n      <td>0</td>\n    </tr>\n  </tbody>\n</table>\n<p>891 rows × 18 columns</p>\n</div>"
     },
     "metadata": {},
     "execution_count": 74
    }
   ],
   "source": [
    "train"
   ]
  },
  {
   "cell_type": "code",
   "execution_count": 75,
   "metadata": {},
   "outputs": [
    {
     "output_type": "execute_result",
     "data": {
      "text/plain": [
       "     isMan  isWoman  Cabin_A  Cabin_B  Cabin_C  Cabin_D  Cabin_E  Cabin_F  \\\n",
       "0        1        0        0        0        0        0        0        1   \n",
       "1        0        1        0        0        0        0        0        1   \n",
       "2        1        0        0        0        0        0        0        1   \n",
       "3        1        0        0        0        0        0        0        1   \n",
       "4        0        1        0        0        0        0        0        0   \n",
       "..     ...      ...      ...      ...      ...      ...      ...      ...   \n",
       "413      1        0        0        0        0        0        0        1   \n",
       "414      0        1        0        0        1        0        0        0   \n",
       "415      1        0        0        0        0        0        0        1   \n",
       "416      1        0        0        0        0        0        0        1   \n",
       "417      1        0        0        0        0        0        0        1   \n",
       "\n",
       "     Cabin_G  Cabin_T  Pclass_1  Pclass_2  Pclass_3  isYoung  isyouth  \\\n",
       "0          0        0         0         0         1        0        1   \n",
       "1          0        0         0         0         1        0        0   \n",
       "2          0        0         0         1         0        0        0   \n",
       "3          0        0         0         0         1        0        1   \n",
       "4          1        0         0         0         1        0        1   \n",
       "..       ...      ...       ...       ...       ...      ...      ...   \n",
       "413        0        0         0         0         1        0        1   \n",
       "414        0        0         1         0         0        0        0   \n",
       "415        0        0         0         0         1        0        1   \n",
       "416        0        0         0         0         1        0        1   \n",
       "417        0        0         0         0         1        0        1   \n",
       "\n",
       "     isMiddleAge  isOldAge  \n",
       "0              0         0  \n",
       "1              1         0  \n",
       "2              0         1  \n",
       "3              0         0  \n",
       "4              0         0  \n",
       "..           ...       ...  \n",
       "413            0         0  \n",
       "414            1         0  \n",
       "415            0         0  \n",
       "416            0         0  \n",
       "417            0         0  \n",
       "\n",
       "[418 rows x 17 columns]"
      ],
      "text/html": "<div>\n<style scoped>\n    .dataframe tbody tr th:only-of-type {\n        vertical-align: middle;\n    }\n\n    .dataframe tbody tr th {\n        vertical-align: top;\n    }\n\n    .dataframe thead th {\n        text-align: right;\n    }\n</style>\n<table border=\"1\" class=\"dataframe\">\n  <thead>\n    <tr style=\"text-align: right;\">\n      <th></th>\n      <th>isMan</th>\n      <th>isWoman</th>\n      <th>Cabin_A</th>\n      <th>Cabin_B</th>\n      <th>Cabin_C</th>\n      <th>Cabin_D</th>\n      <th>Cabin_E</th>\n      <th>Cabin_F</th>\n      <th>Cabin_G</th>\n      <th>Cabin_T</th>\n      <th>Pclass_1</th>\n      <th>Pclass_2</th>\n      <th>Pclass_3</th>\n      <th>isYoung</th>\n      <th>isyouth</th>\n      <th>isMiddleAge</th>\n      <th>isOldAge</th>\n    </tr>\n  </thead>\n  <tbody>\n    <tr>\n      <th>0</th>\n      <td>1</td>\n      <td>0</td>\n      <td>0</td>\n      <td>0</td>\n      <td>0</td>\n      <td>0</td>\n      <td>0</td>\n      <td>1</td>\n      <td>0</td>\n      <td>0</td>\n      <td>0</td>\n      <td>0</td>\n      <td>1</td>\n      <td>0</td>\n      <td>1</td>\n      <td>0</td>\n      <td>0</td>\n    </tr>\n    <tr>\n      <th>1</th>\n      <td>0</td>\n      <td>1</td>\n      <td>0</td>\n      <td>0</td>\n      <td>0</td>\n      <td>0</td>\n      <td>0</td>\n      <td>1</td>\n      <td>0</td>\n      <td>0</td>\n      <td>0</td>\n      <td>0</td>\n      <td>1</td>\n      <td>0</td>\n      <td>0</td>\n      <td>1</td>\n      <td>0</td>\n    </tr>\n    <tr>\n      <th>2</th>\n      <td>1</td>\n      <td>0</td>\n      <td>0</td>\n      <td>0</td>\n      <td>0</td>\n      <td>0</td>\n      <td>0</td>\n      <td>1</td>\n      <td>0</td>\n      <td>0</td>\n      <td>0</td>\n      <td>1</td>\n      <td>0</td>\n      <td>0</td>\n      <td>0</td>\n      <td>0</td>\n      <td>1</td>\n    </tr>\n    <tr>\n      <th>3</th>\n      <td>1</td>\n      <td>0</td>\n      <td>0</td>\n      <td>0</td>\n      <td>0</td>\n      <td>0</td>\n      <td>0</td>\n      <td>1</td>\n      <td>0</td>\n      <td>0</td>\n      <td>0</td>\n      <td>0</td>\n      <td>1</td>\n      <td>0</td>\n      <td>1</td>\n      <td>0</td>\n      <td>0</td>\n    </tr>\n    <tr>\n      <th>4</th>\n      <td>0</td>\n      <td>1</td>\n      <td>0</td>\n      <td>0</td>\n      <td>0</td>\n      <td>0</td>\n      <td>0</td>\n      <td>0</td>\n      <td>1</td>\n      <td>0</td>\n      <td>0</td>\n      <td>0</td>\n      <td>1</td>\n      <td>0</td>\n      <td>1</td>\n      <td>0</td>\n      <td>0</td>\n    </tr>\n    <tr>\n      <th>...</th>\n      <td>...</td>\n      <td>...</td>\n      <td>...</td>\n      <td>...</td>\n      <td>...</td>\n      <td>...</td>\n      <td>...</td>\n      <td>...</td>\n      <td>...</td>\n      <td>...</td>\n      <td>...</td>\n      <td>...</td>\n      <td>...</td>\n      <td>...</td>\n      <td>...</td>\n      <td>...</td>\n      <td>...</td>\n    </tr>\n    <tr>\n      <th>413</th>\n      <td>1</td>\n      <td>0</td>\n      <td>0</td>\n      <td>0</td>\n      <td>0</td>\n      <td>0</td>\n      <td>0</td>\n      <td>1</td>\n      <td>0</td>\n      <td>0</td>\n      <td>0</td>\n      <td>0</td>\n      <td>1</td>\n      <td>0</td>\n      <td>1</td>\n      <td>0</td>\n      <td>0</td>\n    </tr>\n    <tr>\n      <th>414</th>\n      <td>0</td>\n      <td>1</td>\n      <td>0</td>\n      <td>0</td>\n      <td>1</td>\n      <td>0</td>\n      <td>0</td>\n      <td>0</td>\n      <td>0</td>\n      <td>0</td>\n      <td>1</td>\n      <td>0</td>\n      <td>0</td>\n      <td>0</td>\n      <td>0</td>\n      <td>1</td>\n      <td>0</td>\n    </tr>\n    <tr>\n      <th>415</th>\n      <td>1</td>\n      <td>0</td>\n      <td>0</td>\n      <td>0</td>\n      <td>0</td>\n      <td>0</td>\n      <td>0</td>\n      <td>1</td>\n      <td>0</td>\n      <td>0</td>\n      <td>0</td>\n      <td>0</td>\n      <td>1</td>\n      <td>0</td>\n      <td>1</td>\n      <td>0</td>\n      <td>0</td>\n    </tr>\n    <tr>\n      <th>416</th>\n      <td>1</td>\n      <td>0</td>\n      <td>0</td>\n      <td>0</td>\n      <td>0</td>\n      <td>0</td>\n      <td>0</td>\n      <td>1</td>\n      <td>0</td>\n      <td>0</td>\n      <td>0</td>\n      <td>0</td>\n      <td>1</td>\n      <td>0</td>\n      <td>1</td>\n      <td>0</td>\n      <td>0</td>\n    </tr>\n    <tr>\n      <th>417</th>\n      <td>1</td>\n      <td>0</td>\n      <td>0</td>\n      <td>0</td>\n      <td>0</td>\n      <td>0</td>\n      <td>0</td>\n      <td>1</td>\n      <td>0</td>\n      <td>0</td>\n      <td>0</td>\n      <td>0</td>\n      <td>1</td>\n      <td>0</td>\n      <td>1</td>\n      <td>0</td>\n      <td>0</td>\n    </tr>\n  </tbody>\n</table>\n<p>418 rows × 17 columns</p>\n</div>"
     },
     "metadata": {},
     "execution_count": 75
    }
   ],
   "source": [
    "test"
   ]
  },
  {
   "source": [
    "# 4.훈련 데이터를 x, y로 나누기\n",
    "<br>\n",
    "데이터의 가공이 모두 끝났다. 이제 훈련 데이터를 x, y로 나눠주자"
   ],
   "cell_type": "markdown",
   "metadata": {}
  },
  {
   "cell_type": "code",
   "execution_count": 76,
   "metadata": {},
   "outputs": [],
   "source": [
    "# 이제 train에서 'Survive'와 나머지 항목을 분리해주자\n",
    "x_train = train.drop('Survived', axis=1)\n",
    "y = train['Survived']"
   ]
  },
  {
   "source": [
    "최종 데이터 확인. 잘 정리되어있는 데이터를 확인할 수 있다. "
   ],
   "cell_type": "markdown",
   "metadata": {}
  },
  {
   "cell_type": "code",
   "execution_count": 77,
   "metadata": {},
   "outputs": [
    {
     "output_type": "execute_result",
     "data": {
      "text/plain": [
       "     isMan  isWoman  Cabin_A  Cabin_B  Cabin_C  Cabin_D  Cabin_E  Cabin_F  \\\n",
       "0        1        0        0        0        0        0        0        0   \n",
       "1        0        1        0        0        1        0        0        0   \n",
       "2        0        1        0        0        0        0        1        0   \n",
       "3        0        1        0        0        1        0        0        0   \n",
       "4        1        0        0        0        0        0        1        0   \n",
       "..     ...      ...      ...      ...      ...      ...      ...      ...   \n",
       "886      1        0        0        0        0        0        1        0   \n",
       "887      0        1        0        1        0        0        0        0   \n",
       "888      0        1        0        0        0        0        0        1   \n",
       "889      1        0        0        0        1        0        0        0   \n",
       "890      1        0        0        0        0        0        0        1   \n",
       "\n",
       "     Cabin_G  Cabin_T  Pclass_1  Pclass_2  Pclass_3  isYoung  isyouth  \\\n",
       "0          1        0         0         0         1        0        1   \n",
       "1          0        0         1         0         0        0        1   \n",
       "2          0        0         0         0         1        0        1   \n",
       "3          0        0         1         0         0        0        1   \n",
       "4          0        0         0         0         1        0        1   \n",
       "..       ...      ...       ...       ...       ...      ...      ...   \n",
       "886        0        0         0         1         0        0        1   \n",
       "887        0        0         1         0         0        0        1   \n",
       "888        0        0         0         0         1        0        1   \n",
       "889        0        0         1         0         0        0        1   \n",
       "890        0        0         0         0         1        0        1   \n",
       "\n",
       "     isMiddleAge  isOldAge  \n",
       "0              0         0  \n",
       "1              0         0  \n",
       "2              0         0  \n",
       "3              0         0  \n",
       "4              0         0  \n",
       "..           ...       ...  \n",
       "886            0         0  \n",
       "887            0         0  \n",
       "888            0         0  \n",
       "889            0         0  \n",
       "890            0         0  \n",
       "\n",
       "[891 rows x 17 columns]"
      ],
      "text/html": "<div>\n<style scoped>\n    .dataframe tbody tr th:only-of-type {\n        vertical-align: middle;\n    }\n\n    .dataframe tbody tr th {\n        vertical-align: top;\n    }\n\n    .dataframe thead th {\n        text-align: right;\n    }\n</style>\n<table border=\"1\" class=\"dataframe\">\n  <thead>\n    <tr style=\"text-align: right;\">\n      <th></th>\n      <th>isMan</th>\n      <th>isWoman</th>\n      <th>Cabin_A</th>\n      <th>Cabin_B</th>\n      <th>Cabin_C</th>\n      <th>Cabin_D</th>\n      <th>Cabin_E</th>\n      <th>Cabin_F</th>\n      <th>Cabin_G</th>\n      <th>Cabin_T</th>\n      <th>Pclass_1</th>\n      <th>Pclass_2</th>\n      <th>Pclass_3</th>\n      <th>isYoung</th>\n      <th>isyouth</th>\n      <th>isMiddleAge</th>\n      <th>isOldAge</th>\n    </tr>\n  </thead>\n  <tbody>\n    <tr>\n      <th>0</th>\n      <td>1</td>\n      <td>0</td>\n      <td>0</td>\n      <td>0</td>\n      <td>0</td>\n      <td>0</td>\n      <td>0</td>\n      <td>0</td>\n      <td>1</td>\n      <td>0</td>\n      <td>0</td>\n      <td>0</td>\n      <td>1</td>\n      <td>0</td>\n      <td>1</td>\n      <td>0</td>\n      <td>0</td>\n    </tr>\n    <tr>\n      <th>1</th>\n      <td>0</td>\n      <td>1</td>\n      <td>0</td>\n      <td>0</td>\n      <td>1</td>\n      <td>0</td>\n      <td>0</td>\n      <td>0</td>\n      <td>0</td>\n      <td>0</td>\n      <td>1</td>\n      <td>0</td>\n      <td>0</td>\n      <td>0</td>\n      <td>1</td>\n      <td>0</td>\n      <td>0</td>\n    </tr>\n    <tr>\n      <th>2</th>\n      <td>0</td>\n      <td>1</td>\n      <td>0</td>\n      <td>0</td>\n      <td>0</td>\n      <td>0</td>\n      <td>1</td>\n      <td>0</td>\n      <td>0</td>\n      <td>0</td>\n      <td>0</td>\n      <td>0</td>\n      <td>1</td>\n      <td>0</td>\n      <td>1</td>\n      <td>0</td>\n      <td>0</td>\n    </tr>\n    <tr>\n      <th>3</th>\n      <td>0</td>\n      <td>1</td>\n      <td>0</td>\n      <td>0</td>\n      <td>1</td>\n      <td>0</td>\n      <td>0</td>\n      <td>0</td>\n      <td>0</td>\n      <td>0</td>\n      <td>1</td>\n      <td>0</td>\n      <td>0</td>\n      <td>0</td>\n      <td>1</td>\n      <td>0</td>\n      <td>0</td>\n    </tr>\n    <tr>\n      <th>4</th>\n      <td>1</td>\n      <td>0</td>\n      <td>0</td>\n      <td>0</td>\n      <td>0</td>\n      <td>0</td>\n      <td>1</td>\n      <td>0</td>\n      <td>0</td>\n      <td>0</td>\n      <td>0</td>\n      <td>0</td>\n      <td>1</td>\n      <td>0</td>\n      <td>1</td>\n      <td>0</td>\n      <td>0</td>\n    </tr>\n    <tr>\n      <th>...</th>\n      <td>...</td>\n      <td>...</td>\n      <td>...</td>\n      <td>...</td>\n      <td>...</td>\n      <td>...</td>\n      <td>...</td>\n      <td>...</td>\n      <td>...</td>\n      <td>...</td>\n      <td>...</td>\n      <td>...</td>\n      <td>...</td>\n      <td>...</td>\n      <td>...</td>\n      <td>...</td>\n      <td>...</td>\n    </tr>\n    <tr>\n      <th>886</th>\n      <td>1</td>\n      <td>0</td>\n      <td>0</td>\n      <td>0</td>\n      <td>0</td>\n      <td>0</td>\n      <td>1</td>\n      <td>0</td>\n      <td>0</td>\n      <td>0</td>\n      <td>0</td>\n      <td>1</td>\n      <td>0</td>\n      <td>0</td>\n      <td>1</td>\n      <td>0</td>\n      <td>0</td>\n    </tr>\n    <tr>\n      <th>887</th>\n      <td>0</td>\n      <td>1</td>\n      <td>0</td>\n      <td>1</td>\n      <td>0</td>\n      <td>0</td>\n      <td>0</td>\n      <td>0</td>\n      <td>0</td>\n      <td>0</td>\n      <td>1</td>\n      <td>0</td>\n      <td>0</td>\n      <td>0</td>\n      <td>1</td>\n      <td>0</td>\n      <td>0</td>\n    </tr>\n    <tr>\n      <th>888</th>\n      <td>0</td>\n      <td>1</td>\n      <td>0</td>\n      <td>0</td>\n      <td>0</td>\n      <td>0</td>\n      <td>0</td>\n      <td>1</td>\n      <td>0</td>\n      <td>0</td>\n      <td>0</td>\n      <td>0</td>\n      <td>1</td>\n      <td>0</td>\n      <td>1</td>\n      <td>0</td>\n      <td>0</td>\n    </tr>\n    <tr>\n      <th>889</th>\n      <td>1</td>\n      <td>0</td>\n      <td>0</td>\n      <td>0</td>\n      <td>1</td>\n      <td>0</td>\n      <td>0</td>\n      <td>0</td>\n      <td>0</td>\n      <td>0</td>\n      <td>1</td>\n      <td>0</td>\n      <td>0</td>\n      <td>0</td>\n      <td>1</td>\n      <td>0</td>\n      <td>0</td>\n    </tr>\n    <tr>\n      <th>890</th>\n      <td>1</td>\n      <td>0</td>\n      <td>0</td>\n      <td>0</td>\n      <td>0</td>\n      <td>0</td>\n      <td>0</td>\n      <td>1</td>\n      <td>0</td>\n      <td>0</td>\n      <td>0</td>\n      <td>0</td>\n      <td>1</td>\n      <td>0</td>\n      <td>1</td>\n      <td>0</td>\n      <td>0</td>\n    </tr>\n  </tbody>\n</table>\n<p>891 rows × 17 columns</p>\n</div>"
     },
     "metadata": {},
     "execution_count": 77
    }
   ],
   "source": [
    "x_train"
   ]
  },
  {
   "cell_type": "code",
   "execution_count": 78,
   "metadata": {},
   "outputs": [
    {
     "output_type": "execute_result",
     "data": {
      "text/plain": [
       "     isMan  isWoman  Cabin_A  Cabin_B  Cabin_C  Cabin_D  Cabin_E  Cabin_F  \\\n",
       "0        1        0        0        0        0        0        0        1   \n",
       "1        0        1        0        0        0        0        0        1   \n",
       "2        1        0        0        0        0        0        0        1   \n",
       "3        1        0        0        0        0        0        0        1   \n",
       "4        0        1        0        0        0        0        0        0   \n",
       "..     ...      ...      ...      ...      ...      ...      ...      ...   \n",
       "413      1        0        0        0        0        0        0        1   \n",
       "414      0        1        0        0        1        0        0        0   \n",
       "415      1        0        0        0        0        0        0        1   \n",
       "416      1        0        0        0        0        0        0        1   \n",
       "417      1        0        0        0        0        0        0        1   \n",
       "\n",
       "     Cabin_G  Cabin_T  Pclass_1  Pclass_2  Pclass_3  isYoung  isyouth  \\\n",
       "0          0        0         0         0         1        0        1   \n",
       "1          0        0         0         0         1        0        0   \n",
       "2          0        0         0         1         0        0        0   \n",
       "3          0        0         0         0         1        0        1   \n",
       "4          1        0         0         0         1        0        1   \n",
       "..       ...      ...       ...       ...       ...      ...      ...   \n",
       "413        0        0         0         0         1        0        1   \n",
       "414        0        0         1         0         0        0        0   \n",
       "415        0        0         0         0         1        0        1   \n",
       "416        0        0         0         0         1        0        1   \n",
       "417        0        0         0         0         1        0        1   \n",
       "\n",
       "     isMiddleAge  isOldAge  \n",
       "0              0         0  \n",
       "1              1         0  \n",
       "2              0         1  \n",
       "3              0         0  \n",
       "4              0         0  \n",
       "..           ...       ...  \n",
       "413            0         0  \n",
       "414            1         0  \n",
       "415            0         0  \n",
       "416            0         0  \n",
       "417            0         0  \n",
       "\n",
       "[418 rows x 17 columns]"
      ],
      "text/html": "<div>\n<style scoped>\n    .dataframe tbody tr th:only-of-type {\n        vertical-align: middle;\n    }\n\n    .dataframe tbody tr th {\n        vertical-align: top;\n    }\n\n    .dataframe thead th {\n        text-align: right;\n    }\n</style>\n<table border=\"1\" class=\"dataframe\">\n  <thead>\n    <tr style=\"text-align: right;\">\n      <th></th>\n      <th>isMan</th>\n      <th>isWoman</th>\n      <th>Cabin_A</th>\n      <th>Cabin_B</th>\n      <th>Cabin_C</th>\n      <th>Cabin_D</th>\n      <th>Cabin_E</th>\n      <th>Cabin_F</th>\n      <th>Cabin_G</th>\n      <th>Cabin_T</th>\n      <th>Pclass_1</th>\n      <th>Pclass_2</th>\n      <th>Pclass_3</th>\n      <th>isYoung</th>\n      <th>isyouth</th>\n      <th>isMiddleAge</th>\n      <th>isOldAge</th>\n    </tr>\n  </thead>\n  <tbody>\n    <tr>\n      <th>0</th>\n      <td>1</td>\n      <td>0</td>\n      <td>0</td>\n      <td>0</td>\n      <td>0</td>\n      <td>0</td>\n      <td>0</td>\n      <td>1</td>\n      <td>0</td>\n      <td>0</td>\n      <td>0</td>\n      <td>0</td>\n      <td>1</td>\n      <td>0</td>\n      <td>1</td>\n      <td>0</td>\n      <td>0</td>\n    </tr>\n    <tr>\n      <th>1</th>\n      <td>0</td>\n      <td>1</td>\n      <td>0</td>\n      <td>0</td>\n      <td>0</td>\n      <td>0</td>\n      <td>0</td>\n      <td>1</td>\n      <td>0</td>\n      <td>0</td>\n      <td>0</td>\n      <td>0</td>\n      <td>1</td>\n      <td>0</td>\n      <td>0</td>\n      <td>1</td>\n      <td>0</td>\n    </tr>\n    <tr>\n      <th>2</th>\n      <td>1</td>\n      <td>0</td>\n      <td>0</td>\n      <td>0</td>\n      <td>0</td>\n      <td>0</td>\n      <td>0</td>\n      <td>1</td>\n      <td>0</td>\n      <td>0</td>\n      <td>0</td>\n      <td>1</td>\n      <td>0</td>\n      <td>0</td>\n      <td>0</td>\n      <td>0</td>\n      <td>1</td>\n    </tr>\n    <tr>\n      <th>3</th>\n      <td>1</td>\n      <td>0</td>\n      <td>0</td>\n      <td>0</td>\n      <td>0</td>\n      <td>0</td>\n      <td>0</td>\n      <td>1</td>\n      <td>0</td>\n      <td>0</td>\n      <td>0</td>\n      <td>0</td>\n      <td>1</td>\n      <td>0</td>\n      <td>1</td>\n      <td>0</td>\n      <td>0</td>\n    </tr>\n    <tr>\n      <th>4</th>\n      <td>0</td>\n      <td>1</td>\n      <td>0</td>\n      <td>0</td>\n      <td>0</td>\n      <td>0</td>\n      <td>0</td>\n      <td>0</td>\n      <td>1</td>\n      <td>0</td>\n      <td>0</td>\n      <td>0</td>\n      <td>1</td>\n      <td>0</td>\n      <td>1</td>\n      <td>0</td>\n      <td>0</td>\n    </tr>\n    <tr>\n      <th>...</th>\n      <td>...</td>\n      <td>...</td>\n      <td>...</td>\n      <td>...</td>\n      <td>...</td>\n      <td>...</td>\n      <td>...</td>\n      <td>...</td>\n      <td>...</td>\n      <td>...</td>\n      <td>...</td>\n      <td>...</td>\n      <td>...</td>\n      <td>...</td>\n      <td>...</td>\n      <td>...</td>\n      <td>...</td>\n    </tr>\n    <tr>\n      <th>413</th>\n      <td>1</td>\n      <td>0</td>\n      <td>0</td>\n      <td>0</td>\n      <td>0</td>\n      <td>0</td>\n      <td>0</td>\n      <td>1</td>\n      <td>0</td>\n      <td>0</td>\n      <td>0</td>\n      <td>0</td>\n      <td>1</td>\n      <td>0</td>\n      <td>1</td>\n      <td>0</td>\n      <td>0</td>\n    </tr>\n    <tr>\n      <th>414</th>\n      <td>0</td>\n      <td>1</td>\n      <td>0</td>\n      <td>0</td>\n      <td>1</td>\n      <td>0</td>\n      <td>0</td>\n      <td>0</td>\n      <td>0</td>\n      <td>0</td>\n      <td>1</td>\n      <td>0</td>\n      <td>0</td>\n      <td>0</td>\n      <td>0</td>\n      <td>1</td>\n      <td>0</td>\n    </tr>\n    <tr>\n      <th>415</th>\n      <td>1</td>\n      <td>0</td>\n      <td>0</td>\n      <td>0</td>\n      <td>0</td>\n      <td>0</td>\n      <td>0</td>\n      <td>1</td>\n      <td>0</td>\n      <td>0</td>\n      <td>0</td>\n      <td>0</td>\n      <td>1</td>\n      <td>0</td>\n      <td>1</td>\n      <td>0</td>\n      <td>0</td>\n    </tr>\n    <tr>\n      <th>416</th>\n      <td>1</td>\n      <td>0</td>\n      <td>0</td>\n      <td>0</td>\n      <td>0</td>\n      <td>0</td>\n      <td>0</td>\n      <td>1</td>\n      <td>0</td>\n      <td>0</td>\n      <td>0</td>\n      <td>0</td>\n      <td>1</td>\n      <td>0</td>\n      <td>1</td>\n      <td>0</td>\n      <td>0</td>\n    </tr>\n    <tr>\n      <th>417</th>\n      <td>1</td>\n      <td>0</td>\n      <td>0</td>\n      <td>0</td>\n      <td>0</td>\n      <td>0</td>\n      <td>0</td>\n      <td>1</td>\n      <td>0</td>\n      <td>0</td>\n      <td>0</td>\n      <td>0</td>\n      <td>1</td>\n      <td>0</td>\n      <td>1</td>\n      <td>0</td>\n      <td>0</td>\n    </tr>\n  </tbody>\n</table>\n<p>418 rows × 17 columns</p>\n</div>"
     },
     "metadata": {},
     "execution_count": 78
    }
   ],
   "source": [
    "test"
   ]
  },
  {
   "cell_type": "code",
   "execution_count": 79,
   "metadata": {},
   "outputs": [
    {
     "output_type": "execute_result",
     "data": {
      "text/plain": [
       "0      0\n",
       "1      1\n",
       "2      1\n",
       "3      1\n",
       "4      0\n",
       "      ..\n",
       "886    0\n",
       "887    1\n",
       "888    0\n",
       "889    1\n",
       "890    0\n",
       "Name: Survived, Length: 891, dtype: int64"
      ]
     },
     "metadata": {},
     "execution_count": 79
    }
   ],
   "source": [
    "y"
   ]
  },
  {
   "source": [
    "## 넘파이 배열로 만들기\n",
    "텐서플로우를 이용해 모델을 만들거다. 텐서플로우는 넘파이를 선호하므로 입력값을 넘파이 배열로 만들어주자"
   ],
   "cell_type": "markdown",
   "metadata": {}
  },
  {
   "cell_type": "code",
   "execution_count": 80,
   "metadata": {},
   "outputs": [],
   "source": [
    "x_train_np = np.array(x_train)\n",
    "y_np = np.array(y)\n",
    "\n",
    "x_test = np.array(test)"
   ]
  },
  {
   "source": [
    "# 5. 모델 생성\n",
    "<br>\n",
    "이제 텐서플로우로 모델을 만들자"
   ],
   "cell_type": "markdown",
   "metadata": {}
  },
  {
   "cell_type": "code",
   "execution_count": 108,
   "metadata": {},
   "outputs": [],
   "source": [
    "# 에포크랑 배치 사이즈를 지정한다. \n",
    "EPOCH = 200\n",
    "BATCH_SIZE = 891 # 배치 사이즈 = 데이터 크기\n",
    "\n",
    "# 최적의 모델만 저장하는 함수를 매번 에포크를 끝낼 때마다 호출한다. 콜백 함수로 지정한다. \n",
    "filename = 'checkpoint-epoch-{}-batch-{}-trial-001.h5'.format(EPOCH, BATCH_SIZE)\n",
    "checkpoint = ModelCheckpoint(filename,             # 파일 이름\n",
    "                             monitor='val_loss',   # val_loss 값이 개선되면 개선 모델을 filename으로 저장\n",
    "                             verbose=1,            # 로그 출력\n",
    "                             save_best_only=True,  # 가장 최고의 val_loss를 보이는 모델만 저장\n",
    "                             mode='auto'           # auto 모드. 자동으로 최고의 모델을 찾는다\n",
    "                            )\n",
    "# 모델을 만든다. \n",
    "model = tf.keras.Sequential()\n",
    "\n",
    "model.add(tf.keras.layers.Dense(512, activation='relu', input_shape = x_train_np[0].shape))\n",
    "model.add(tf.keras.layers.Dropout(0.4))\n",
    "model.add(Dense(256, activation='relu'))\n",
    "model.add(tf.keras.layers.Dropout(0.4))\n",
    "model.add(Dense(128, activation='relu'))\n",
    "model.add(tf.keras.layers.Dropout(0.4))\n",
    "model.add(Dense(128, activation='relu'))\n",
    "model.add(tf.keras.layers.Dropout(0.4))\n",
    "model.add(Dense(64, activation='relu'))\n",
    "model.add(tf.keras.layers.Dropout(0.4))\n",
    "model.add(Dense(1, activation='sigmoid')) # 이진 분류 모델이기 때문에 sigmoid 활성화 함수를 사용한다.\n"
   ]
  },
  {
   "source": [
    "## 컴파일 설정\n",
    "모델을 만들었다. 이제 컴파일 방식을 지정하자. 최적화 방식, 손실 함수, 훈련 과정 저장 양식을 지정할 수 있다. \n",
    "<br>\n",
    "훈련을 시행하며 가장 검증 손실이 낮은 모델을 찾기 위해 훈련률(lr)을 수정한다. "
   ],
   "cell_type": "markdown",
   "metadata": {}
  },
  {
   "cell_type": "code",
   "execution_count": 109,
   "metadata": {},
   "outputs": [],
   "source": [
    "# 컴파일(학습 방법 지정)\n",
    "from tensorflow.keras.optimizers import RMSprop\n",
    "\n",
    "model.compile(optimizer=RMSprop(lr=1e-3), loss='binary_crossentropy', metrics = ['accuracy'])"
   ]
  },
  {
   "cell_type": "code",
   "execution_count": 110,
   "metadata": {},
   "outputs": [
    {
     "output_type": "stream",
     "name": "stdout",
     "text": [
      "Model: \"sequential_6\"\n_________________________________________________________________\nLayer (type)                 Output Shape              Param #   \n=================================================================\ndense_36 (Dense)             (None, 512)               9216      \n_________________________________________________________________\ndropout_30 (Dropout)         (None, 512)               0         \n_________________________________________________________________\ndense_37 (Dense)             (None, 256)               131328    \n_________________________________________________________________\ndropout_31 (Dropout)         (None, 256)               0         \n_________________________________________________________________\ndense_38 (Dense)             (None, 128)               32896     \n_________________________________________________________________\ndropout_32 (Dropout)         (None, 128)               0         \n_________________________________________________________________\ndense_39 (Dense)             (None, 128)               16512     \n_________________________________________________________________\ndropout_33 (Dropout)         (None, 128)               0         \n_________________________________________________________________\ndense_40 (Dense)             (None, 64)                8256      \n_________________________________________________________________\ndropout_34 (Dropout)         (None, 64)                0         \n_________________________________________________________________\ndense_41 (Dense)             (None, 1)                 65        \n=================================================================\nTotal params: 198,273\nTrainable params: 198,273\nNon-trainable params: 0\n_________________________________________________________________\n"
     ]
    }
   ],
   "source": [
    "model.summary() # 모델의 간략 정보 출력."
   ]
  },
  {
   "source": [
    "## 훈련\n",
    "<br>\n",
    "모델을 훈련시키자. 훈련 기록을 history에 저장한다."
   ],
   "cell_type": "markdown",
   "metadata": {}
  },
  {
   "cell_type": "code",
   "execution_count": 111,
   "metadata": {
    "tags": [
     "outputPrepend"
    ]
   },
   "outputs": [
    {
     "output_type": "stream",
     "name": "stdout",
     "text": [
      "mprove from 0.37207\n",
      "Epoch 98/200\n",
      "1/1 [==============================] - 0s 57ms/step - loss: 0.3848 - accuracy: 0.8399 - val_loss: 0.4350 - val_accuracy: 0.8492\n",
      "\n",
      "Epoch 00098: val_loss did not improve from 0.37207\n",
      "Epoch 99/200\n",
      "1/1 [==============================] - 0s 53ms/step - loss: 0.3928 - accuracy: 0.8329 - val_loss: 0.4477 - val_accuracy: 0.8436\n",
      "\n",
      "Epoch 00099: val_loss did not improve from 0.37207\n",
      "Epoch 100/200\n",
      "1/1 [==============================] - 0s 58ms/step - loss: 0.3992 - accuracy: 0.8427 - val_loss: 0.4279 - val_accuracy: 0.8492\n",
      "\n",
      "Epoch 00100: val_loss did not improve from 0.37207\n",
      "Epoch 101/200\n",
      "1/1 [==============================] - 0s 62ms/step - loss: 0.3915 - accuracy: 0.8357 - val_loss: 0.4394 - val_accuracy: 0.8492\n",
      "\n",
      "Epoch 00101: val_loss did not improve from 0.37207\n",
      "Epoch 102/200\n",
      "1/1 [==============================] - 0s 56ms/step - loss: 0.3996 - accuracy: 0.8329 - val_loss: 0.4436 - val_accuracy: 0.8492\n",
      "\n",
      "Epoch 00102: val_loss did not improve from 0.37207\n",
      "Epoch 103/200\n",
      "1/1 [==============================] - 0s 56ms/step - loss: 0.3913 - accuracy: 0.8441 - val_loss: 0.4355 - val_accuracy: 0.8492\n",
      "\n",
      "Epoch 00103: val_loss did not improve from 0.37207\n",
      "Epoch 104/200\n",
      "1/1 [==============================] - 0s 59ms/step - loss: 0.4154 - accuracy: 0.8315 - val_loss: 0.4372 - val_accuracy: 0.8436\n",
      "\n",
      "Epoch 00104: val_loss did not improve from 0.37207\n",
      "Epoch 105/200\n",
      "1/1 [==============================] - 0s 54ms/step - loss: 0.3859 - accuracy: 0.8385 - val_loss: 0.4396 - val_accuracy: 0.8436\n",
      "\n",
      "Epoch 00105: val_loss did not improve from 0.37207\n",
      "Epoch 106/200\n",
      "1/1 [==============================] - 0s 58ms/step - loss: 0.4006 - accuracy: 0.8301 - val_loss: 0.4298 - val_accuracy: 0.8492\n",
      "\n",
      "Epoch 00106: val_loss did not improve from 0.37207\n",
      "Epoch 107/200\n",
      "1/1 [==============================] - 0s 53ms/step - loss: 0.3960 - accuracy: 0.8385 - val_loss: 0.4471 - val_accuracy: 0.8436\n",
      "\n",
      "Epoch 00107: val_loss did not improve from 0.37207\n",
      "Epoch 108/200\n",
      "1/1 [==============================] - 0s 55ms/step - loss: 0.4008 - accuracy: 0.8343 - val_loss: 0.4321 - val_accuracy: 0.8492\n",
      "\n",
      "Epoch 00108: val_loss did not improve from 0.37207\n",
      "Epoch 109/200\n",
      "1/1 [==============================] - 0s 57ms/step - loss: 0.3978 - accuracy: 0.8385 - val_loss: 0.4502 - val_accuracy: 0.8436\n",
      "\n",
      "Epoch 00109: val_loss did not improve from 0.37207\n",
      "Epoch 110/200\n",
      "1/1 [==============================] - 0s 60ms/step - loss: 0.3867 - accuracy: 0.8385 - val_loss: 0.4281 - val_accuracy: 0.8492\n",
      "\n",
      "Epoch 00110: val_loss did not improve from 0.37207\n",
      "Epoch 111/200\n",
      "1/1 [==============================] - 0s 53ms/step - loss: 0.3981 - accuracy: 0.8329 - val_loss: 0.4499 - val_accuracy: 0.8492\n",
      "\n",
      "Epoch 00111: val_loss did not improve from 0.37207\n",
      "Epoch 112/200\n",
      "1/1 [==============================] - 0s 54ms/step - loss: 0.3938 - accuracy: 0.8371 - val_loss: 0.4377 - val_accuracy: 0.8492\n",
      "\n",
      "Epoch 00112: val_loss did not improve from 0.37207\n",
      "Epoch 113/200\n",
      "1/1 [==============================] - 0s 55ms/step - loss: 0.3867 - accuracy: 0.8427 - val_loss: 0.4444 - val_accuracy: 0.8492\n",
      "\n",
      "Epoch 00113: val_loss did not improve from 0.37207\n",
      "Epoch 114/200\n",
      "1/1 [==============================] - 0s 54ms/step - loss: 0.3990 - accuracy: 0.8343 - val_loss: 0.4305 - val_accuracy: 0.8492\n",
      "\n",
      "Epoch 00114: val_loss did not improve from 0.37207\n",
      "Epoch 115/200\n",
      "1/1 [==============================] - 0s 58ms/step - loss: 0.3914 - accuracy: 0.8371 - val_loss: 0.4496 - val_accuracy: 0.8492\n",
      "\n",
      "Epoch 00115: val_loss did not improve from 0.37207\n",
      "Epoch 116/200\n",
      "1/1 [==============================] - 0s 60ms/step - loss: 0.4044 - accuracy: 0.8399 - val_loss: 0.4489 - val_accuracy: 0.8492\n",
      "\n",
      "Epoch 00116: val_loss did not improve from 0.37207\n",
      "Epoch 117/200\n",
      "1/1 [==============================] - 0s 55ms/step - loss: 0.4001 - accuracy: 0.8413 - val_loss: 0.4398 - val_accuracy: 0.8492\n",
      "\n",
      "Epoch 00117: val_loss did not improve from 0.37207\n",
      "Epoch 118/200\n",
      "1/1 [==============================] - 0s 55ms/step - loss: 0.3921 - accuracy: 0.8329 - val_loss: 0.4485 - val_accuracy: 0.8492\n",
      "\n",
      "Epoch 00118: val_loss did not improve from 0.37207\n",
      "Epoch 119/200\n",
      "1/1 [==============================] - 0s 60ms/step - loss: 0.3980 - accuracy: 0.8385 - val_loss: 0.4474 - val_accuracy: 0.8492\n",
      "\n",
      "Epoch 00119: val_loss did not improve from 0.37207\n",
      "Epoch 120/200\n",
      "1/1 [==============================] - 0s 57ms/step - loss: 0.3997 - accuracy: 0.8385 - val_loss: 0.4444 - val_accuracy: 0.8436\n",
      "\n",
      "Epoch 00120: val_loss did not improve from 0.37207\n",
      "Epoch 121/200\n",
      "1/1 [==============================] - 0s 56ms/step - loss: 0.3951 - accuracy: 0.8371 - val_loss: 0.4427 - val_accuracy: 0.8436\n",
      "\n",
      "Epoch 00121: val_loss did not improve from 0.37207\n",
      "Epoch 122/200\n",
      "1/1 [==============================] - 0s 55ms/step - loss: 0.3994 - accuracy: 0.8427 - val_loss: 0.4564 - val_accuracy: 0.8380\n",
      "\n",
      "Epoch 00122: val_loss did not improve from 0.37207\n",
      "Epoch 123/200\n",
      "1/1 [==============================] - 0s 54ms/step - loss: 0.3902 - accuracy: 0.8357 - val_loss: 0.4457 - val_accuracy: 0.8380\n",
      "\n",
      "Epoch 00123: val_loss did not improve from 0.37207\n",
      "Epoch 124/200\n",
      "1/1 [==============================] - 0s 61ms/step - loss: 0.3876 - accuracy: 0.8385 - val_loss: 0.4587 - val_accuracy: 0.8380\n",
      "\n",
      "Epoch 00124: val_loss did not improve from 0.37207\n",
      "Epoch 125/200\n",
      "1/1 [==============================] - 0s 60ms/step - loss: 0.3934 - accuracy: 0.8357 - val_loss: 0.4470 - val_accuracy: 0.8492\n",
      "\n",
      "Epoch 00125: val_loss did not improve from 0.37207\n",
      "Epoch 126/200\n",
      "1/1 [==============================] - 0s 56ms/step - loss: 0.3886 - accuracy: 0.8343 - val_loss: 0.4571 - val_accuracy: 0.8380\n",
      "\n",
      "Epoch 00126: val_loss did not improve from 0.37207\n",
      "Epoch 127/200\n",
      "1/1 [==============================] - 0s 54ms/step - loss: 0.4116 - accuracy: 0.8399 - val_loss: 0.4465 - val_accuracy: 0.8436\n",
      "\n",
      "Epoch 00127: val_loss did not improve from 0.37207\n",
      "Epoch 128/200\n",
      "1/1 [==============================] - 0s 57ms/step - loss: 0.3795 - accuracy: 0.8455 - val_loss: 0.4647 - val_accuracy: 0.8380\n",
      "\n",
      "Epoch 00128: val_loss did not improve from 0.37207\n",
      "Epoch 129/200\n",
      "1/1 [==============================] - 0s 61ms/step - loss: 0.4003 - accuracy: 0.8343 - val_loss: 0.4535 - val_accuracy: 0.8380\n",
      "\n",
      "Epoch 00129: val_loss did not improve from 0.37207\n",
      "Epoch 130/200\n",
      "1/1 [==============================] - 0s 57ms/step - loss: 0.3986 - accuracy: 0.8315 - val_loss: 0.4532 - val_accuracy: 0.8492\n",
      "\n",
      "Epoch 00130: val_loss did not improve from 0.37207\n",
      "Epoch 131/200\n",
      "1/1 [==============================] - 0s 56ms/step - loss: 0.3844 - accuracy: 0.8413 - val_loss: 0.4645 - val_accuracy: 0.8436\n",
      "\n",
      "Epoch 00131: val_loss did not improve from 0.37207\n",
      "Epoch 132/200\n",
      "1/1 [==============================] - 0s 56ms/step - loss: 0.3922 - accuracy: 0.8455 - val_loss: 0.4630 - val_accuracy: 0.8492\n",
      "\n",
      "Epoch 00132: val_loss did not improve from 0.37207\n",
      "Epoch 133/200\n",
      "1/1 [==============================] - 0s 58ms/step - loss: 0.3876 - accuracy: 0.8343 - val_loss: 0.4597 - val_accuracy: 0.8492\n",
      "\n",
      "Epoch 00133: val_loss did not improve from 0.37207\n",
      "Epoch 134/200\n",
      "1/1 [==============================] - 0s 53ms/step - loss: 0.3914 - accuracy: 0.8413 - val_loss: 0.4770 - val_accuracy: 0.8380\n",
      "\n",
      "Epoch 00134: val_loss did not improve from 0.37207\n",
      "Epoch 135/200\n",
      "1/1 [==============================] - 0s 55ms/step - loss: 0.4009 - accuracy: 0.8357 - val_loss: 0.4484 - val_accuracy: 0.8492\n",
      "\n",
      "Epoch 00135: val_loss did not improve from 0.37207\n",
      "Epoch 136/200\n",
      "1/1 [==============================] - 0s 57ms/step - loss: 0.3902 - accuracy: 0.8343 - val_loss: 0.4735 - val_accuracy: 0.8436\n",
      "\n",
      "Epoch 00136: val_loss did not improve from 0.37207\n",
      "Epoch 137/200\n",
      "1/1 [==============================] - 0s 51ms/step - loss: 0.3999 - accuracy: 0.8357 - val_loss: 0.4530 - val_accuracy: 0.8436\n",
      "\n",
      "Epoch 00137: val_loss did not improve from 0.37207\n",
      "Epoch 138/200\n",
      "1/1 [==============================] - 0s 54ms/step - loss: 0.3956 - accuracy: 0.8315 - val_loss: 0.4651 - val_accuracy: 0.8436\n",
      "\n",
      "Epoch 00138: val_loss did not improve from 0.37207\n",
      "Epoch 139/200\n",
      "1/1 [==============================] - 0s 52ms/step - loss: 0.3898 - accuracy: 0.8399 - val_loss: 0.4538 - val_accuracy: 0.8436\n",
      "\n",
      "Epoch 00139: val_loss did not improve from 0.37207\n",
      "Epoch 140/200\n",
      "1/1 [==============================] - 0s 51ms/step - loss: 0.3944 - accuracy: 0.8413 - val_loss: 0.4803 - val_accuracy: 0.8380\n",
      "\n",
      "Epoch 00140: val_loss did not improve from 0.37207\n",
      "Epoch 141/200\n",
      "1/1 [==============================] - 0s 53ms/step - loss: 0.4105 - accuracy: 0.8343 - val_loss: 0.4501 - val_accuracy: 0.8436\n",
      "\n",
      "Epoch 00141: val_loss did not improve from 0.37207\n",
      "Epoch 142/200\n",
      "1/1 [==============================] - 0s 53ms/step - loss: 0.4044 - accuracy: 0.8301 - val_loss: 0.4731 - val_accuracy: 0.8436\n",
      "\n",
      "Epoch 00142: val_loss did not improve from 0.37207\n",
      "Epoch 143/200\n",
      "1/1 [==============================] - 0s 52ms/step - loss: 0.3843 - accuracy: 0.8357 - val_loss: 0.4538 - val_accuracy: 0.8436\n",
      "\n",
      "Epoch 00143: val_loss did not improve from 0.37207\n",
      "Epoch 144/200\n",
      "1/1 [==============================] - 0s 57ms/step - loss: 0.3937 - accuracy: 0.8371 - val_loss: 0.4733 - val_accuracy: 0.8436\n",
      "\n",
      "Epoch 00144: val_loss did not improve from 0.37207\n",
      "Epoch 145/200\n",
      "1/1 [==============================] - 0s 53ms/step - loss: 0.3895 - accuracy: 0.8413 - val_loss: 0.4610 - val_accuracy: 0.8436\n",
      "\n",
      "Epoch 00145: val_loss did not improve from 0.37207\n",
      "Epoch 146/200\n",
      "1/1 [==============================] - 0s 53ms/step - loss: 0.3812 - accuracy: 0.8427 - val_loss: 0.4865 - val_accuracy: 0.8380\n",
      "\n",
      "Epoch 00146: val_loss did not improve from 0.37207\n",
      "Epoch 147/200\n",
      "1/1 [==============================] - 0s 51ms/step - loss: 0.4057 - accuracy: 0.8244 - val_loss: 0.4566 - val_accuracy: 0.8492\n",
      "\n",
      "Epoch 00147: val_loss did not improve from 0.37207\n",
      "Epoch 148/200\n",
      "1/1 [==============================] - 0s 55ms/step - loss: 0.4107 - accuracy: 0.8287 - val_loss: 0.4820 - val_accuracy: 0.8436\n",
      "\n",
      "Epoch 00148: val_loss did not improve from 0.37207\n",
      "Epoch 149/200\n",
      "1/1 [==============================] - 0s 51ms/step - loss: 0.4000 - accuracy: 0.8343 - val_loss: 0.4641 - val_accuracy: 0.8436\n",
      "\n",
      "Epoch 00149: val_loss did not improve from 0.37207\n",
      "Epoch 150/200\n",
      "1/1 [==============================] - 0s 53ms/step - loss: 0.3755 - accuracy: 0.8413 - val_loss: 0.4769 - val_accuracy: 0.8436\n",
      "\n",
      "Epoch 00150: val_loss did not improve from 0.37207\n",
      "Epoch 151/200\n",
      "1/1 [==============================] - 0s 58ms/step - loss: 0.3779 - accuracy: 0.8413 - val_loss: 0.4751 - val_accuracy: 0.8436\n",
      "\n",
      "Epoch 00151: val_loss did not improve from 0.37207\n",
      "Epoch 152/200\n",
      "1/1 [==============================] - 0s 53ms/step - loss: 0.3865 - accuracy: 0.8441 - val_loss: 0.4824 - val_accuracy: 0.8436\n",
      "\n",
      "Epoch 00152: val_loss did not improve from 0.37207\n",
      "Epoch 153/200\n",
      "1/1 [==============================] - 0s 55ms/step - loss: 0.3915 - accuracy: 0.8371 - val_loss: 0.4681 - val_accuracy: 0.8492\n",
      "\n",
      "Epoch 00153: val_loss did not improve from 0.37207\n",
      "Epoch 154/200\n",
      "1/1 [==============================] - 0s 52ms/step - loss: 0.3901 - accuracy: 0.8455 - val_loss: 0.4914 - val_accuracy: 0.8380\n",
      "\n",
      "Epoch 00154: val_loss did not improve from 0.37207\n",
      "Epoch 155/200\n",
      "1/1 [==============================] - 0s 58ms/step - loss: 0.3955 - accuracy: 0.8287 - val_loss: 0.4533 - val_accuracy: 0.8492\n",
      "\n",
      "Epoch 00155: val_loss did not improve from 0.37207\n",
      "Epoch 156/200\n",
      "1/1 [==============================] - 0s 52ms/step - loss: 0.3826 - accuracy: 0.8385 - val_loss: 0.4921 - val_accuracy: 0.8380\n",
      "\n",
      "Epoch 00156: val_loss did not improve from 0.37207\n",
      "Epoch 157/200\n",
      "1/1 [==============================] - 0s 55ms/step - loss: 0.3836 - accuracy: 0.8399 - val_loss: 0.4721 - val_accuracy: 0.8492\n",
      "\n",
      "Epoch 00157: val_loss did not improve from 0.37207\n",
      "Epoch 158/200\n",
      "1/1 [==============================] - 0s 50ms/step - loss: 0.3782 - accuracy: 0.8455 - val_loss: 0.4862 - val_accuracy: 0.8492\n",
      "\n",
      "Epoch 00158: val_loss did not improve from 0.37207\n",
      "Epoch 159/200\n",
      "1/1 [==============================] - 0s 55ms/step - loss: 0.3871 - accuracy: 0.8385 - val_loss: 0.4854 - val_accuracy: 0.8380\n",
      "\n",
      "Epoch 00159: val_loss did not improve from 0.37207\n",
      "Epoch 160/200\n",
      "1/1 [==============================] - 0s 55ms/step - loss: 0.3906 - accuracy: 0.8399 - val_loss: 0.4835 - val_accuracy: 0.8380\n",
      "\n",
      "Epoch 00160: val_loss did not improve from 0.37207\n",
      "Epoch 161/200\n",
      "1/1 [==============================] - 0s 52ms/step - loss: 0.3751 - accuracy: 0.8371 - val_loss: 0.4874 - val_accuracy: 0.8380\n",
      "\n",
      "Epoch 00161: val_loss did not improve from 0.37207\n",
      "Epoch 162/200\n",
      "1/1 [==============================] - 0s 51ms/step - loss: 0.3937 - accuracy: 0.8329 - val_loss: 0.4745 - val_accuracy: 0.8492\n",
      "\n",
      "Epoch 00162: val_loss did not improve from 0.37207\n",
      "Epoch 163/200\n",
      "1/1 [==============================] - 0s 53ms/step - loss: 0.3919 - accuracy: 0.8469 - val_loss: 0.4824 - val_accuracy: 0.8380\n",
      "\n",
      "Epoch 00163: val_loss did not improve from 0.37207\n",
      "Epoch 164/200\n",
      "1/1 [==============================] - 0s 56ms/step - loss: 0.3935 - accuracy: 0.8427 - val_loss: 0.4639 - val_accuracy: 0.8436\n",
      "\n",
      "Epoch 00164: val_loss did not improve from 0.37207\n",
      "Epoch 165/200\n",
      "1/1 [==============================] - 0s 66ms/step - loss: 0.3818 - accuracy: 0.8385 - val_loss: 0.4813 - val_accuracy: 0.8436\n",
      "\n",
      "Epoch 00165: val_loss did not improve from 0.37207\n",
      "Epoch 166/200\n",
      "1/1 [==============================] - 0s 57ms/step - loss: 0.3841 - accuracy: 0.8413 - val_loss: 0.4801 - val_accuracy: 0.8436\n",
      "\n",
      "Epoch 00166: val_loss did not improve from 0.37207\n",
      "Epoch 167/200\n",
      "1/1 [==============================] - 0s 53ms/step - loss: 0.3876 - accuracy: 0.8441 - val_loss: 0.4831 - val_accuracy: 0.8436\n",
      "\n",
      "Epoch 00167: val_loss did not improve from 0.37207\n",
      "Epoch 168/200\n",
      "1/1 [==============================] - 0s 52ms/step - loss: 0.3702 - accuracy: 0.8413 - val_loss: 0.4798 - val_accuracy: 0.8492\n",
      "\n",
      "Epoch 00168: val_loss did not improve from 0.37207\n",
      "Epoch 169/200\n",
      "1/1 [==============================] - 0s 52ms/step - loss: 0.3893 - accuracy: 0.8385 - val_loss: 0.4649 - val_accuracy: 0.8492\n",
      "\n",
      "Epoch 00169: val_loss did not improve from 0.37207\n",
      "Epoch 170/200\n",
      "1/1 [==============================] - 0s 54ms/step - loss: 0.3920 - accuracy: 0.8287 - val_loss: 0.4733 - val_accuracy: 0.8436\n",
      "\n",
      "Epoch 00170: val_loss did not improve from 0.37207\n",
      "Epoch 171/200\n",
      "1/1 [==============================] - 0s 53ms/step - loss: 0.4002 - accuracy: 0.8343 - val_loss: 0.4576 - val_accuracy: 0.8492\n",
      "\n",
      "Epoch 00171: val_loss did not improve from 0.37207\n",
      "Epoch 172/200\n",
      "1/1 [==============================] - 0s 53ms/step - loss: 0.4018 - accuracy: 0.8371 - val_loss: 0.4749 - val_accuracy: 0.8436\n",
      "\n",
      "Epoch 00172: val_loss did not improve from 0.37207\n",
      "Epoch 173/200\n",
      "1/1 [==============================] - 0s 53ms/step - loss: 0.3884 - accuracy: 0.8371 - val_loss: 0.4849 - val_accuracy: 0.8436\n",
      "\n",
      "Epoch 00173: val_loss did not improve from 0.37207\n",
      "Epoch 174/200\n",
      "1/1 [==============================] - 0s 56ms/step - loss: 0.3818 - accuracy: 0.8413 - val_loss: 0.4792 - val_accuracy: 0.8436\n",
      "\n",
      "Epoch 00174: val_loss did not improve from 0.37207\n",
      "Epoch 175/200\n",
      "1/1 [==============================] - 0s 51ms/step - loss: 0.3772 - accuracy: 0.8497 - val_loss: 0.4687 - val_accuracy: 0.8492\n",
      "\n",
      "Epoch 00175: val_loss did not improve from 0.37207\n",
      "Epoch 176/200\n",
      "1/1 [==============================] - 0s 51ms/step - loss: 0.3741 - accuracy: 0.8427 - val_loss: 0.4755 - val_accuracy: 0.8436\n",
      "\n",
      "Epoch 00176: val_loss did not improve from 0.37207\n",
      "Epoch 177/200\n",
      "1/1 [==============================] - 0s 56ms/step - loss: 0.3921 - accuracy: 0.8357 - val_loss: 0.4816 - val_accuracy: 0.8436\n",
      "\n",
      "Epoch 00177: val_loss did not improve from 0.37207\n",
      "Epoch 178/200\n",
      "1/1 [==============================] - 0s 56ms/step - loss: 0.3979 - accuracy: 0.8357 - val_loss: 0.4799 - val_accuracy: 0.8436\n",
      "\n",
      "Epoch 00178: val_loss did not improve from 0.37207\n",
      "Epoch 179/200\n",
      "1/1 [==============================] - 0s 57ms/step - loss: 0.3782 - accuracy: 0.8399 - val_loss: 0.4921 - val_accuracy: 0.8436\n",
      "\n",
      "Epoch 00179: val_loss did not improve from 0.37207\n",
      "Epoch 180/200\n",
      "1/1 [==============================] - 0s 53ms/step - loss: 0.3794 - accuracy: 0.8399 - val_loss: 0.4784 - val_accuracy: 0.8436\n",
      "\n",
      "Epoch 00180: val_loss did not improve from 0.37207\n",
      "Epoch 181/200\n",
      "1/1 [==============================] - 0s 50ms/step - loss: 0.3853 - accuracy: 0.8413 - val_loss: 0.4851 - val_accuracy: 0.8436\n",
      "\n",
      "Epoch 00181: val_loss did not improve from 0.37207\n",
      "Epoch 182/200\n",
      "1/1 [==============================] - 0s 54ms/step - loss: 0.3846 - accuracy: 0.8469 - val_loss: 0.4824 - val_accuracy: 0.8436\n",
      "\n",
      "Epoch 00182: val_loss did not improve from 0.37207\n",
      "Epoch 183/200\n",
      "1/1 [==============================] - 0s 53ms/step - loss: 0.3829 - accuracy: 0.8427 - val_loss: 0.4762 - val_accuracy: 0.8436\n",
      "\n",
      "Epoch 00183: val_loss did not improve from 0.37207\n",
      "Epoch 184/200\n",
      "1/1 [==============================] - 0s 62ms/step - loss: 0.3833 - accuracy: 0.8385 - val_loss: 0.4886 - val_accuracy: 0.8436\n",
      "\n",
      "Epoch 00184: val_loss did not improve from 0.37207\n",
      "Epoch 185/200\n",
      "1/1 [==============================] - 0s 53ms/step - loss: 0.3769 - accuracy: 0.8427 - val_loss: 0.4832 - val_accuracy: 0.8436\n",
      "\n",
      "Epoch 00185: val_loss did not improve from 0.37207\n",
      "Epoch 186/200\n",
      "1/1 [==============================] - 0s 56ms/step - loss: 0.3787 - accuracy: 0.8427 - val_loss: 0.4967 - val_accuracy: 0.8436\n",
      "\n",
      "Epoch 00186: val_loss did not improve from 0.37207\n",
      "Epoch 187/200\n",
      "1/1 [==============================] - 0s 55ms/step - loss: 0.3836 - accuracy: 0.8413 - val_loss: 0.4833 - val_accuracy: 0.8436\n",
      "\n",
      "Epoch 00187: val_loss did not improve from 0.37207\n",
      "Epoch 188/200\n",
      "1/1 [==============================] - 0s 53ms/step - loss: 0.3850 - accuracy: 0.8413 - val_loss: 0.4978 - val_accuracy: 0.8436\n",
      "\n",
      "Epoch 00188: val_loss did not improve from 0.37207\n",
      "Epoch 189/200\n",
      "1/1 [==============================] - 0s 51ms/step - loss: 0.3724 - accuracy: 0.8427 - val_loss: 0.4926 - val_accuracy: 0.8492\n",
      "\n",
      "Epoch 00189: val_loss did not improve from 0.37207\n",
      "Epoch 190/200\n",
      "1/1 [==============================] - 0s 59ms/step - loss: 0.3898 - accuracy: 0.8371 - val_loss: 0.5164 - val_accuracy: 0.8436\n",
      "\n",
      "Epoch 00190: val_loss did not improve from 0.37207\n",
      "Epoch 191/200\n",
      "1/1 [==============================] - 0s 54ms/step - loss: 0.3749 - accuracy: 0.8371 - val_loss: 0.4962 - val_accuracy: 0.8492\n",
      "\n",
      "Epoch 00191: val_loss did not improve from 0.37207\n",
      "Epoch 192/200\n",
      "1/1 [==============================] - 0s 54ms/step - loss: 0.3867 - accuracy: 0.8385 - val_loss: 0.5131 - val_accuracy: 0.8436\n",
      "\n",
      "Epoch 00192: val_loss did not improve from 0.37207\n",
      "Epoch 193/200\n",
      "1/1 [==============================] - 0s 50ms/step - loss: 0.3846 - accuracy: 0.8427 - val_loss: 0.4930 - val_accuracy: 0.8492\n",
      "\n",
      "Epoch 00193: val_loss did not improve from 0.37207\n",
      "Epoch 194/200\n",
      "1/1 [==============================] - 0s 51ms/step - loss: 0.3842 - accuracy: 0.8357 - val_loss: 0.5018 - val_accuracy: 0.8436\n",
      "\n",
      "Epoch 00194: val_loss did not improve from 0.37207\n",
      "Epoch 195/200\n",
      "1/1 [==============================] - 0s 53ms/step - loss: 0.3768 - accuracy: 0.8469 - val_loss: 0.5070 - val_accuracy: 0.8436\n",
      "\n",
      "Epoch 00195: val_loss did not improve from 0.37207\n",
      "Epoch 196/200\n",
      "1/1 [==============================] - 0s 54ms/step - loss: 0.3824 - accuracy: 0.8455 - val_loss: 0.5033 - val_accuracy: 0.8492\n",
      "\n",
      "Epoch 00196: val_loss did not improve from 0.37207\n",
      "Epoch 197/200\n",
      "1/1 [==============================] - 0s 52ms/step - loss: 0.3803 - accuracy: 0.8427 - val_loss: 0.5075 - val_accuracy: 0.8492\n",
      "\n",
      "Epoch 00197: val_loss did not improve from 0.37207\n",
      "Epoch 198/200\n",
      "1/1 [==============================] - 0s 51ms/step - loss: 0.3754 - accuracy: 0.8385 - val_loss: 0.5106 - val_accuracy: 0.8492\n",
      "\n",
      "Epoch 00198: val_loss did not improve from 0.37207\n",
      "Epoch 199/200\n",
      "1/1 [==============================] - 0s 52ms/step - loss: 0.3867 - accuracy: 0.8455 - val_loss: 0.4983 - val_accuracy: 0.8492\n",
      "\n",
      "Epoch 00199: val_loss did not improve from 0.37207\n",
      "Epoch 200/200\n",
      "1/1 [==============================] - 0s 50ms/step - loss: 0.3928 - accuracy: 0.8399 - val_loss: 0.5047 - val_accuracy: 0.8492\n",
      "\n",
      "Epoch 00200: val_loss did not improve from 0.37207\n"
     ]
    }
   ],
   "source": [
    "history = model.fit(x_train_np, y_np, epochs=EPOCH, batch_size=BATCH_SIZE, validation_split=0.2, callbacks=[checkpoint]) \n",
    "# callbacks에 checkpoint를 넣는다. 그러면 내가 설정한 기준(val_loss)가 최저인 모델을 저장한다."
   ]
  },
  {
   "source": [
    "## 에포크 당 모델 성능 확인\n",
    "<br>\n",
    "훈련을 거치며 모델의 정확도, 손실의 변화 과정을 관찰한다. \n",
    "<br>\n",
    "이는 하이퍼 파라미터(에포크, 훈련률, 레이어 당 유닛 개수 등)을 조절하는데 큰 도움이 된다. 그래프를 보고 어떤 지점에서 오버피팅이 일어났는지 확인할 수 있기 때문이다."
   ],
   "cell_type": "markdown",
   "metadata": {}
  },
  {
   "cell_type": "code",
   "execution_count": 112,
   "metadata": {},
   "outputs": [
    {
     "output_type": "execute_result",
     "data": {
      "text/plain": [
       "Text(0.5, 1.0, 'Training and validation loss')"
      ]
     },
     "metadata": {},
     "execution_count": 112
    },
    {
     "output_type": "display_data",
     "data": {
      "text/plain": "<Figure size 432x288 with 1 Axes>",
      "image/svg+xml": "<?xml version=\"1.0\" encoding=\"utf-8\" standalone=\"no\"?>\n<!DOCTYPE svg PUBLIC \"-//W3C//DTD SVG 1.1//EN\"\n  \"http://www.w3.org/Graphics/SVG/1.1/DTD/svg11.dtd\">\n<!-- Created with matplotlib (https://matplotlib.org/) -->\n<svg height=\"263.63625pt\" version=\"1.1\" viewBox=\"0 0 378.465625 263.63625\" width=\"378.465625pt\" xmlns=\"http://www.w3.org/2000/svg\" xmlns:xlink=\"http://www.w3.org/1999/xlink\">\n <metadata>\n  <rdf:RDF xmlns:cc=\"http://creativecommons.org/ns#\" xmlns:dc=\"http://purl.org/dc/elements/1.1/\" xmlns:rdf=\"http://www.w3.org/1999/02/22-rdf-syntax-ns#\">\n   <cc:Work>\n    <dc:type rdf:resource=\"http://purl.org/dc/dcmitype/StillImage\"/>\n    <dc:date>2021-02-12T00:19:56.273508</dc:date>\n    <dc:format>image/svg+xml</dc:format>\n    <dc:creator>\n     <cc:Agent>\n      <dc:title>Matplotlib v3.3.2, https://matplotlib.org/</dc:title>\n     </cc:Agent>\n    </dc:creator>\n   </cc:Work>\n  </rdf:RDF>\n </metadata>\n <defs>\n  <style type=\"text/css\">*{stroke-linecap:butt;stroke-linejoin:round;}</style>\n </defs>\n <g id=\"figure_1\">\n  <g id=\"patch_1\">\n   <path d=\"M 0 263.63625 \nL 378.465625 263.63625 \nL 378.465625 0 \nL 0 0 \nz\n\" style=\"fill:none;\"/>\n  </g>\n  <g id=\"axes_1\">\n   <g id=\"patch_2\">\n    <path d=\"M 36.465625 239.758125 \nL 371.265625 239.758125 \nL 371.265625 22.318125 \nL 36.465625 22.318125 \nz\n\" style=\"fill:#ffffff;\"/>\n   </g>\n   <g id=\"matplotlib.axis_1\">\n    <g id=\"xtick_1\">\n     <g id=\"line2d_1\">\n      <defs>\n       <path d=\"M 0 0 \nL 0 3.5 \n\" id=\"m5cc81bddb2\" style=\"stroke:#000000;stroke-width:0.8;\"/>\n      </defs>\n      <g>\n       <use style=\"stroke:#000000;stroke-width:0.8;\" x=\"51.683807\" xlink:href=\"#m5cc81bddb2\" y=\"239.758125\"/>\n      </g>\n     </g>\n     <g id=\"text_1\">\n      <!-- 0 -->\n      <g transform=\"translate(48.502557 254.356563)scale(0.1 -0.1)\">\n       <defs>\n        <path d=\"M 31.78125 66.40625 \nQ 24.171875 66.40625 20.328125 58.90625 \nQ 16.5 51.421875 16.5 36.375 \nQ 16.5 21.390625 20.328125 13.890625 \nQ 24.171875 6.390625 31.78125 6.390625 \nQ 39.453125 6.390625 43.28125 13.890625 \nQ 47.125 21.390625 47.125 36.375 \nQ 47.125 51.421875 43.28125 58.90625 \nQ 39.453125 66.40625 31.78125 66.40625 \nz\nM 31.78125 74.21875 \nQ 44.046875 74.21875 50.515625 64.515625 \nQ 56.984375 54.828125 56.984375 36.375 \nQ 56.984375 17.96875 50.515625 8.265625 \nQ 44.046875 -1.421875 31.78125 -1.421875 \nQ 19.53125 -1.421875 13.0625 8.265625 \nQ 6.59375 17.96875 6.59375 36.375 \nQ 6.59375 54.828125 13.0625 64.515625 \nQ 19.53125 74.21875 31.78125 74.21875 \nz\n\" id=\"DejaVuSans-48\"/>\n       </defs>\n       <use xlink:href=\"#DejaVuSans-48\"/>\n      </g>\n     </g>\n    </g>\n    <g id=\"xtick_2\">\n     <g id=\"line2d_2\">\n      <g>\n       <use style=\"stroke:#000000;stroke-width:0.8;\" x=\"89.920445\" xlink:href=\"#m5cc81bddb2\" y=\"239.758125\"/>\n      </g>\n     </g>\n     <g id=\"text_2\">\n      <!-- 25 -->\n      <g transform=\"translate(83.557945 254.356563)scale(0.1 -0.1)\">\n       <defs>\n        <path d=\"M 19.1875 8.296875 \nL 53.609375 8.296875 \nL 53.609375 0 \nL 7.328125 0 \nL 7.328125 8.296875 \nQ 12.9375 14.109375 22.625 23.890625 \nQ 32.328125 33.6875 34.8125 36.53125 \nQ 39.546875 41.84375 41.421875 45.53125 \nQ 43.3125 49.21875 43.3125 52.78125 \nQ 43.3125 58.59375 39.234375 62.25 \nQ 35.15625 65.921875 28.609375 65.921875 \nQ 23.96875 65.921875 18.8125 64.3125 \nQ 13.671875 62.703125 7.8125 59.421875 \nL 7.8125 69.390625 \nQ 13.765625 71.78125 18.9375 73 \nQ 24.125 74.21875 28.421875 74.21875 \nQ 39.75 74.21875 46.484375 68.546875 \nQ 53.21875 62.890625 53.21875 53.421875 \nQ 53.21875 48.921875 51.53125 44.890625 \nQ 49.859375 40.875 45.40625 35.40625 \nQ 44.1875 33.984375 37.640625 27.21875 \nQ 31.109375 20.453125 19.1875 8.296875 \nz\n\" id=\"DejaVuSans-50\"/>\n        <path d=\"M 10.796875 72.90625 \nL 49.515625 72.90625 \nL 49.515625 64.59375 \nL 19.828125 64.59375 \nL 19.828125 46.734375 \nQ 21.96875 47.46875 24.109375 47.828125 \nQ 26.265625 48.1875 28.421875 48.1875 \nQ 40.625 48.1875 47.75 41.5 \nQ 54.890625 34.8125 54.890625 23.390625 \nQ 54.890625 11.625 47.5625 5.09375 \nQ 40.234375 -1.421875 26.90625 -1.421875 \nQ 22.3125 -1.421875 17.546875 -0.640625 \nQ 12.796875 0.140625 7.71875 1.703125 \nL 7.71875 11.625 \nQ 12.109375 9.234375 16.796875 8.0625 \nQ 21.484375 6.890625 26.703125 6.890625 \nQ 35.15625 6.890625 40.078125 11.328125 \nQ 45.015625 15.765625 45.015625 23.390625 \nQ 45.015625 31 40.078125 35.4375 \nQ 35.15625 39.890625 26.703125 39.890625 \nQ 22.75 39.890625 18.8125 39.015625 \nQ 14.890625 38.140625 10.796875 36.28125 \nz\n\" id=\"DejaVuSans-53\"/>\n       </defs>\n       <use xlink:href=\"#DejaVuSans-50\"/>\n       <use x=\"63.623047\" xlink:href=\"#DejaVuSans-53\"/>\n      </g>\n     </g>\n    </g>\n    <g id=\"xtick_3\">\n     <g id=\"line2d_3\">\n      <g>\n       <use style=\"stroke:#000000;stroke-width:0.8;\" x=\"128.157082\" xlink:href=\"#m5cc81bddb2\" y=\"239.758125\"/>\n      </g>\n     </g>\n     <g id=\"text_3\">\n      <!-- 50 -->\n      <g transform=\"translate(121.794582 254.356563)scale(0.1 -0.1)\">\n       <use xlink:href=\"#DejaVuSans-53\"/>\n       <use x=\"63.623047\" xlink:href=\"#DejaVuSans-48\"/>\n      </g>\n     </g>\n    </g>\n    <g id=\"xtick_4\">\n     <g id=\"line2d_4\">\n      <g>\n       <use style=\"stroke:#000000;stroke-width:0.8;\" x=\"166.39372\" xlink:href=\"#m5cc81bddb2\" y=\"239.758125\"/>\n      </g>\n     </g>\n     <g id=\"text_4\">\n      <!-- 75 -->\n      <g transform=\"translate(160.03122 254.356563)scale(0.1 -0.1)\">\n       <defs>\n        <path d=\"M 8.203125 72.90625 \nL 55.078125 72.90625 \nL 55.078125 68.703125 \nL 28.609375 0 \nL 18.3125 0 \nL 43.21875 64.59375 \nL 8.203125 64.59375 \nz\n\" id=\"DejaVuSans-55\"/>\n       </defs>\n       <use xlink:href=\"#DejaVuSans-55\"/>\n       <use x=\"63.623047\" xlink:href=\"#DejaVuSans-53\"/>\n      </g>\n     </g>\n    </g>\n    <g id=\"xtick_5\">\n     <g id=\"line2d_5\">\n      <g>\n       <use style=\"stroke:#000000;stroke-width:0.8;\" x=\"204.630358\" xlink:href=\"#m5cc81bddb2\" y=\"239.758125\"/>\n      </g>\n     </g>\n     <g id=\"text_5\">\n      <!-- 100 -->\n      <g transform=\"translate(195.086608 254.356563)scale(0.1 -0.1)\">\n       <defs>\n        <path d=\"M 12.40625 8.296875 \nL 28.515625 8.296875 \nL 28.515625 63.921875 \nL 10.984375 60.40625 \nL 10.984375 69.390625 \nL 28.421875 72.90625 \nL 38.28125 72.90625 \nL 38.28125 8.296875 \nL 54.390625 8.296875 \nL 54.390625 0 \nL 12.40625 0 \nz\n\" id=\"DejaVuSans-49\"/>\n       </defs>\n       <use xlink:href=\"#DejaVuSans-49\"/>\n       <use x=\"63.623047\" xlink:href=\"#DejaVuSans-48\"/>\n       <use x=\"127.246094\" xlink:href=\"#DejaVuSans-48\"/>\n      </g>\n     </g>\n    </g>\n    <g id=\"xtick_6\">\n     <g id=\"line2d_6\">\n      <g>\n       <use style=\"stroke:#000000;stroke-width:0.8;\" x=\"242.866995\" xlink:href=\"#m5cc81bddb2\" y=\"239.758125\"/>\n      </g>\n     </g>\n     <g id=\"text_6\">\n      <!-- 125 -->\n      <g transform=\"translate(233.323245 254.356563)scale(0.1 -0.1)\">\n       <use xlink:href=\"#DejaVuSans-49\"/>\n       <use x=\"63.623047\" xlink:href=\"#DejaVuSans-50\"/>\n       <use x=\"127.246094\" xlink:href=\"#DejaVuSans-53\"/>\n      </g>\n     </g>\n    </g>\n    <g id=\"xtick_7\">\n     <g id=\"line2d_7\">\n      <g>\n       <use style=\"stroke:#000000;stroke-width:0.8;\" x=\"281.103633\" xlink:href=\"#m5cc81bddb2\" y=\"239.758125\"/>\n      </g>\n     </g>\n     <g id=\"text_7\">\n      <!-- 150 -->\n      <g transform=\"translate(271.559883 254.356563)scale(0.1 -0.1)\">\n       <use xlink:href=\"#DejaVuSans-49\"/>\n       <use x=\"63.623047\" xlink:href=\"#DejaVuSans-53\"/>\n       <use x=\"127.246094\" xlink:href=\"#DejaVuSans-48\"/>\n      </g>\n     </g>\n    </g>\n    <g id=\"xtick_8\">\n     <g id=\"line2d_8\">\n      <g>\n       <use style=\"stroke:#000000;stroke-width:0.8;\" x=\"319.340271\" xlink:href=\"#m5cc81bddb2\" y=\"239.758125\"/>\n      </g>\n     </g>\n     <g id=\"text_8\">\n      <!-- 175 -->\n      <g transform=\"translate(309.796521 254.356563)scale(0.1 -0.1)\">\n       <use xlink:href=\"#DejaVuSans-49\"/>\n       <use x=\"63.623047\" xlink:href=\"#DejaVuSans-55\"/>\n       <use x=\"127.246094\" xlink:href=\"#DejaVuSans-53\"/>\n      </g>\n     </g>\n    </g>\n    <g id=\"xtick_9\">\n     <g id=\"line2d_9\">\n      <g>\n       <use style=\"stroke:#000000;stroke-width:0.8;\" x=\"357.576909\" xlink:href=\"#m5cc81bddb2\" y=\"239.758125\"/>\n      </g>\n     </g>\n     <g id=\"text_9\">\n      <!-- 200 -->\n      <g transform=\"translate(348.033159 254.356563)scale(0.1 -0.1)\">\n       <use xlink:href=\"#DejaVuSans-50\"/>\n       <use x=\"63.623047\" xlink:href=\"#DejaVuSans-48\"/>\n       <use x=\"127.246094\" xlink:href=\"#DejaVuSans-48\"/>\n      </g>\n     </g>\n    </g>\n   </g>\n   <g id=\"matplotlib.axis_2\">\n    <g id=\"ytick_1\">\n     <g id=\"line2d_10\">\n      <defs>\n       <path d=\"M 0 0 \nL -3.5 0 \n\" id=\"m7a6060c895\" style=\"stroke:#000000;stroke-width:0.8;\"/>\n      </defs>\n      <g>\n       <use style=\"stroke:#000000;stroke-width:0.8;\" x=\"36.465625\" xlink:href=\"#m7a6060c895\" y=\"217.241272\"/>\n      </g>\n     </g>\n     <g id=\"text_10\">\n      <!-- 0.50 -->\n      <g transform=\"translate(7.2 221.040491)scale(0.1 -0.1)\">\n       <defs>\n        <path d=\"M 10.6875 12.40625 \nL 21 12.40625 \nL 21 0 \nL 10.6875 0 \nz\n\" id=\"DejaVuSans-46\"/>\n       </defs>\n       <use xlink:href=\"#DejaVuSans-48\"/>\n       <use x=\"63.623047\" xlink:href=\"#DejaVuSans-46\"/>\n       <use x=\"95.410156\" xlink:href=\"#DejaVuSans-53\"/>\n       <use x=\"159.033203\" xlink:href=\"#DejaVuSans-48\"/>\n      </g>\n     </g>\n    </g>\n    <g id=\"ytick_2\">\n     <g id=\"line2d_11\">\n      <g>\n       <use style=\"stroke:#000000;stroke-width:0.8;\" x=\"36.465625\" xlink:href=\"#m7a6060c895\" y=\"190.785825\"/>\n      </g>\n     </g>\n     <g id=\"text_11\">\n      <!-- 0.55 -->\n      <g transform=\"translate(7.2 194.585043)scale(0.1 -0.1)\">\n       <use xlink:href=\"#DejaVuSans-48\"/>\n       <use x=\"63.623047\" xlink:href=\"#DejaVuSans-46\"/>\n       <use x=\"95.410156\" xlink:href=\"#DejaVuSans-53\"/>\n       <use x=\"159.033203\" xlink:href=\"#DejaVuSans-53\"/>\n      </g>\n     </g>\n    </g>\n    <g id=\"ytick_3\">\n     <g id=\"line2d_12\">\n      <g>\n       <use style=\"stroke:#000000;stroke-width:0.8;\" x=\"36.465625\" xlink:href=\"#m7a6060c895\" y=\"164.330377\"/>\n      </g>\n     </g>\n     <g id=\"text_12\">\n      <!-- 0.60 -->\n      <g transform=\"translate(7.2 168.129596)scale(0.1 -0.1)\">\n       <defs>\n        <path d=\"M 33.015625 40.375 \nQ 26.375 40.375 22.484375 35.828125 \nQ 18.609375 31.296875 18.609375 23.390625 \nQ 18.609375 15.53125 22.484375 10.953125 \nQ 26.375 6.390625 33.015625 6.390625 \nQ 39.65625 6.390625 43.53125 10.953125 \nQ 47.40625 15.53125 47.40625 23.390625 \nQ 47.40625 31.296875 43.53125 35.828125 \nQ 39.65625 40.375 33.015625 40.375 \nz\nM 52.59375 71.296875 \nL 52.59375 62.3125 \nQ 48.875 64.0625 45.09375 64.984375 \nQ 41.3125 65.921875 37.59375 65.921875 \nQ 27.828125 65.921875 22.671875 59.328125 \nQ 17.53125 52.734375 16.796875 39.40625 \nQ 19.671875 43.65625 24.015625 45.921875 \nQ 28.375 48.1875 33.59375 48.1875 \nQ 44.578125 48.1875 50.953125 41.515625 \nQ 57.328125 34.859375 57.328125 23.390625 \nQ 57.328125 12.15625 50.6875 5.359375 \nQ 44.046875 -1.421875 33.015625 -1.421875 \nQ 20.359375 -1.421875 13.671875 8.265625 \nQ 6.984375 17.96875 6.984375 36.375 \nQ 6.984375 53.65625 15.1875 63.9375 \nQ 23.390625 74.21875 37.203125 74.21875 \nQ 40.921875 74.21875 44.703125 73.484375 \nQ 48.484375 72.75 52.59375 71.296875 \nz\n\" id=\"DejaVuSans-54\"/>\n       </defs>\n       <use xlink:href=\"#DejaVuSans-48\"/>\n       <use x=\"63.623047\" xlink:href=\"#DejaVuSans-46\"/>\n       <use x=\"95.410156\" xlink:href=\"#DejaVuSans-54\"/>\n       <use x=\"159.033203\" xlink:href=\"#DejaVuSans-48\"/>\n      </g>\n     </g>\n    </g>\n    <g id=\"ytick_4\">\n     <g id=\"line2d_13\">\n      <g>\n       <use style=\"stroke:#000000;stroke-width:0.8;\" x=\"36.465625\" xlink:href=\"#m7a6060c895\" y=\"137.874929\"/>\n      </g>\n     </g>\n     <g id=\"text_13\">\n      <!-- 0.65 -->\n      <g transform=\"translate(7.2 141.674148)scale(0.1 -0.1)\">\n       <use xlink:href=\"#DejaVuSans-48\"/>\n       <use x=\"63.623047\" xlink:href=\"#DejaVuSans-46\"/>\n       <use x=\"95.410156\" xlink:href=\"#DejaVuSans-54\"/>\n       <use x=\"159.033203\" xlink:href=\"#DejaVuSans-53\"/>\n      </g>\n     </g>\n    </g>\n    <g id=\"ytick_5\">\n     <g id=\"line2d_14\">\n      <g>\n       <use style=\"stroke:#000000;stroke-width:0.8;\" x=\"36.465625\" xlink:href=\"#m7a6060c895\" y=\"111.419482\"/>\n      </g>\n     </g>\n     <g id=\"text_14\">\n      <!-- 0.70 -->\n      <g transform=\"translate(7.2 115.2187)scale(0.1 -0.1)\">\n       <use xlink:href=\"#DejaVuSans-48\"/>\n       <use x=\"63.623047\" xlink:href=\"#DejaVuSans-46\"/>\n       <use x=\"95.410156\" xlink:href=\"#DejaVuSans-55\"/>\n       <use x=\"159.033203\" xlink:href=\"#DejaVuSans-48\"/>\n      </g>\n     </g>\n    </g>\n    <g id=\"ytick_6\">\n     <g id=\"line2d_15\">\n      <g>\n       <use style=\"stroke:#000000;stroke-width:0.8;\" x=\"36.465625\" xlink:href=\"#m7a6060c895\" y=\"84.964034\"/>\n      </g>\n     </g>\n     <g id=\"text_15\">\n      <!-- 0.75 -->\n      <g transform=\"translate(7.2 88.763253)scale(0.1 -0.1)\">\n       <use xlink:href=\"#DejaVuSans-48\"/>\n       <use x=\"63.623047\" xlink:href=\"#DejaVuSans-46\"/>\n       <use x=\"95.410156\" xlink:href=\"#DejaVuSans-55\"/>\n       <use x=\"159.033203\" xlink:href=\"#DejaVuSans-53\"/>\n      </g>\n     </g>\n    </g>\n    <g id=\"ytick_7\">\n     <g id=\"line2d_16\">\n      <g>\n       <use style=\"stroke:#000000;stroke-width:0.8;\" x=\"36.465625\" xlink:href=\"#m7a6060c895\" y=\"58.508586\"/>\n      </g>\n     </g>\n     <g id=\"text_16\">\n      <!-- 0.80 -->\n      <g transform=\"translate(7.2 62.307805)scale(0.1 -0.1)\">\n       <defs>\n        <path d=\"M 31.78125 34.625 \nQ 24.75 34.625 20.71875 30.859375 \nQ 16.703125 27.09375 16.703125 20.515625 \nQ 16.703125 13.921875 20.71875 10.15625 \nQ 24.75 6.390625 31.78125 6.390625 \nQ 38.8125 6.390625 42.859375 10.171875 \nQ 46.921875 13.96875 46.921875 20.515625 \nQ 46.921875 27.09375 42.890625 30.859375 \nQ 38.875 34.625 31.78125 34.625 \nz\nM 21.921875 38.8125 \nQ 15.578125 40.375 12.03125 44.71875 \nQ 8.5 49.078125 8.5 55.328125 \nQ 8.5 64.0625 14.71875 69.140625 \nQ 20.953125 74.21875 31.78125 74.21875 \nQ 42.671875 74.21875 48.875 69.140625 \nQ 55.078125 64.0625 55.078125 55.328125 \nQ 55.078125 49.078125 51.53125 44.71875 \nQ 48 40.375 41.703125 38.8125 \nQ 48.828125 37.15625 52.796875 32.3125 \nQ 56.78125 27.484375 56.78125 20.515625 \nQ 56.78125 9.90625 50.3125 4.234375 \nQ 43.84375 -1.421875 31.78125 -1.421875 \nQ 19.734375 -1.421875 13.25 4.234375 \nQ 6.78125 9.90625 6.78125 20.515625 \nQ 6.78125 27.484375 10.78125 32.3125 \nQ 14.796875 37.15625 21.921875 38.8125 \nz\nM 18.3125 54.390625 \nQ 18.3125 48.734375 21.84375 45.5625 \nQ 25.390625 42.390625 31.78125 42.390625 \nQ 38.140625 42.390625 41.71875 45.5625 \nQ 45.3125 48.734375 45.3125 54.390625 \nQ 45.3125 60.0625 41.71875 63.234375 \nQ 38.140625 66.40625 31.78125 66.40625 \nQ 25.390625 66.40625 21.84375 63.234375 \nQ 18.3125 60.0625 18.3125 54.390625 \nz\n\" id=\"DejaVuSans-56\"/>\n       </defs>\n       <use xlink:href=\"#DejaVuSans-48\"/>\n       <use x=\"63.623047\" xlink:href=\"#DejaVuSans-46\"/>\n       <use x=\"95.410156\" xlink:href=\"#DejaVuSans-56\"/>\n       <use x=\"159.033203\" xlink:href=\"#DejaVuSans-48\"/>\n      </g>\n     </g>\n    </g>\n    <g id=\"ytick_8\">\n     <g id=\"line2d_17\">\n      <g>\n       <use style=\"stroke:#000000;stroke-width:0.8;\" x=\"36.465625\" xlink:href=\"#m7a6060c895\" y=\"32.053138\"/>\n      </g>\n     </g>\n     <g id=\"text_17\">\n      <!-- 0.85 -->\n      <g transform=\"translate(7.2 35.852357)scale(0.1 -0.1)\">\n       <use xlink:href=\"#DejaVuSans-48\"/>\n       <use x=\"63.623047\" xlink:href=\"#DejaVuSans-46\"/>\n       <use x=\"95.410156\" xlink:href=\"#DejaVuSans-56\"/>\n       <use x=\"159.033203\" xlink:href=\"#DejaVuSans-53\"/>\n      </g>\n     </g>\n    </g>\n   </g>\n   <g id=\"line2d_18\">\n    <path clip-path=\"url(#p279a175de2)\" d=\"M 51.683807 229.874489 \nL 53.213272 157.790842 \nL 54.742738 153.33206 \nL 56.272203 127.322481 \nL 57.801669 122.120553 \nL 59.331134 81.991512 \nL 60.8606 67.872019 \nL 62.390065 64.899498 \nL 63.919531 56.72508 \nL 65.448996 73.073948 \nL 66.978462 61.926976 \nL 68.507927 58.21134 \nL 70.037393 53.009412 \nL 71.566858 68.615166 \nL 73.096324 53.009412 \nL 74.625789 47.807515 \nL 76.155255 51.523151 \nL 77.68472 47.064369 \nL 79.214186 47.064369 \nL 80.743651 53.752558 \nL 82.273117 47.064369 \nL 83.802583 47.064369 \nL 86.861514 44.091847 \nL 88.390979 47.064369 \nL 89.920445 40.376211 \nL 91.44991 42.605587 \nL 92.979376 41.119326 \nL 94.508841 47.807515 \nL 97.567772 41.862472 \nL 99.097238 47.807515 \nL 100.626703 43.348733 \nL 102.156169 45.578108 \nL 103.685634 44.091847 \nL 105.2151 39.633065 \nL 106.744565 41.119326 \nL 108.274031 40.376211 \nL 109.803496 35.174283 \nL 111.332962 45.578108 \nL 112.862427 38.889951 \nL 114.391893 41.119326 \nL 115.921358 51.523151 \nL 117.450824 44.091847 \nL 118.980289 44.834994 \nL 120.509755 39.633065 \nL 122.03922 40.376211 \nL 123.568686 43.348733 \nL 125.098151 44.091847 \nL 126.627617 38.889951 \nL 128.157082 44.834994 \nL 129.686548 38.146804 \nL 131.216013 44.091847 \nL 132.745479 40.376211 \nL 134.274944 37.40369 \nL 135.80441 41.119326 \nL 137.333875 41.119326 \nL 138.863341 44.091847 \nL 140.392806 36.660544 \nL 141.922272 41.862472 \nL 143.451737 43.348733 \nL 144.981203 41.119326 \nL 146.510668 40.376211 \nL 148.040134 38.889951 \nL 149.569599 41.119326 \nL 151.099065 41.862472 \nL 152.62853 39.633065 \nL 154.157996 46.321254 \nL 155.687461 37.40369 \nL 157.216927 38.889951 \nL 158.746392 41.119326 \nL 160.275858 41.119326 \nL 161.805323 35.917429 \nL 163.334789 39.633065 \nL 164.864255 37.40369 \nL 166.39372 37.40369 \nL 167.923186 42.605587 \nL 170.982117 33.688022 \nL 172.511582 43.348733 \nL 174.041048 39.633065 \nL 175.570513 44.091847 \nL 177.099979 42.605587 \nL 178.629444 39.633065 \nL 180.15891 37.40369 \nL 181.688375 38.146804 \nL 183.217841 39.633065 \nL 184.747306 38.889951 \nL 186.276772 35.174283 \nL 187.806237 38.146804 \nL 189.335703 43.348733 \nL 190.865168 38.889951 \nL 192.394634 33.688022 \nL 193.924099 38.889951 \nL 195.453565 38.146804 \nL 196.98303 40.376211 \nL 198.512496 43.348733 \nL 200.041961 37.40369 \nL 201.571427 41.119326 \nL 203.100892 35.917429 \nL 204.630358 39.633065 \nL 206.159823 41.119326 \nL 207.689289 35.174283 \nL 209.218754 41.862472 \nL 210.74822 38.146804 \nL 212.277685 42.605587 \nL 213.807151 38.146804 \nL 215.336616 40.376211 \nL 216.866082 38.146804 \nL 218.395547 38.146804 \nL 219.925013 41.119326 \nL 221.454478 38.889951 \nL 222.983944 35.917429 \nL 224.513409 40.376211 \nL 227.57234 37.40369 \nL 229.101806 36.660544 \nL 230.631271 41.119326 \nL 232.160737 38.146804 \nL 233.690202 38.146804 \nL 235.219668 38.889951 \nL 236.749133 35.917429 \nL 238.278599 39.633065 \nL 239.808064 38.146804 \nL 241.33753 39.633065 \nL 242.866995 40.376211 \nL 245.925927 34.431168 \nL 247.455392 40.376211 \nL 248.984858 41.862472 \nL 250.514323 36.660544 \nL 252.043789 34.431168 \nL 253.573254 40.376211 \nL 255.10272 36.660544 \nL 256.632185 39.633065 \nL 258.161651 40.376211 \nL 259.691116 39.633065 \nL 261.220582 41.862472 \nL 262.750047 37.40369 \nL 264.279513 36.660544 \nL 265.808978 40.376211 \nL 267.338444 42.605587 \nL 268.867909 39.633065 \nL 270.397375 38.889951 \nL 271.92684 36.660544 \nL 273.456306 35.917429 \nL 274.985771 45.578108 \nL 276.515237 43.348733 \nL 278.044702 40.376211 \nL 279.574168 36.660544 \nL 281.103633 36.660544 \nL 282.633099 35.174283 \nL 284.162564 38.889951 \nL 285.69203 34.431168 \nL 287.221495 43.348733 \nL 288.750961 38.146804 \nL 290.280426 37.40369 \nL 291.809892 34.431168 \nL 293.339357 38.146804 \nL 294.868823 37.40369 \nL 296.398288 38.889951 \nL 297.927754 41.119326 \nL 299.457219 33.688022 \nL 302.51615 38.146804 \nL 305.575081 35.174283 \nL 308.634012 38.146804 \nL 310.163478 43.348733 \nL 311.692943 40.376211 \nL 313.222409 38.889951 \nL 314.751874 38.889951 \nL 316.28134 36.660544 \nL 317.810805 32.201761 \nL 320.869736 39.633065 \nL 322.399202 39.633065 \nL 323.928667 37.40369 \nL 325.458133 37.40369 \nL 326.987599 36.660544 \nL 328.517064 33.688022 \nL 331.575995 38.146804 \nL 333.105461 35.917429 \nL 334.634926 35.917429 \nL 336.164392 36.660544 \nL 337.693857 36.660544 \nL 339.223323 35.917429 \nL 340.752788 38.889951 \nL 342.282254 38.889951 \nL 343.811719 38.146804 \nL 345.341185 35.917429 \nL 346.87065 39.633065 \nL 348.400116 33.688022 \nL 349.929581 34.431168 \nL 351.459047 35.917429 \nL 352.988512 38.146804 \nL 354.517978 34.431168 \nL 356.047443 37.40369 \nL 356.047443 37.40369 \n\" style=\"fill:none;stroke:#1f77b4;stroke-linecap:square;stroke-width:1.5;\"/>\n   </g>\n   <g id=\"line2d_19\">\n    <path clip-path=\"url(#p279a175de2)\" d=\"M 51.683807 141.865426 \nL 53.213272 141.865426 \nL 54.742738 62.05568 \nL 56.272203 50.232012 \nL 57.801669 59.099779 \nL 59.331134 35.452442 \nL 60.8606 62.05568 \nL 62.390065 50.232012 \nL 63.919531 56.143846 \nL 65.448996 35.452442 \nL 66.978462 59.099779 \nL 68.507927 35.452442 \nL 70.037393 62.05568 \nL 71.566858 35.452442 \nL 73.096324 38.408344 \nL 74.625789 35.452442 \nL 76.155255 38.408344 \nL 77.68472 32.496541 \nL 79.214186 35.452442 \nL 82.273117 35.452442 \nL 83.802583 32.496541 \nL 85.332048 35.452442 \nL 96.038307 35.452442 \nL 97.567772 32.496541 \nL 99.097238 38.408344 \nL 100.626703 32.496541 \nL 102.156169 35.452442 \nL 109.803496 35.452442 \nL 111.332962 32.496541 \nL 112.862427 35.452442 \nL 114.391893 32.496541 \nL 115.921358 35.452442 \nL 117.450824 32.496541 \nL 118.980289 35.452442 \nL 120.509755 32.496541 \nL 122.03922 35.452442 \nL 123.568686 32.496541 \nL 125.098151 35.452442 \nL 126.627617 32.496541 \nL 128.157082 38.408344 \nL 129.686548 32.496541 \nL 131.216013 35.452442 \nL 132.745479 32.496541 \nL 134.274944 35.452442 \nL 135.80441 32.496541 \nL 137.333875 32.496541 \nL 138.863341 35.452442 \nL 143.451737 35.452442 \nL 144.981203 38.408344 \nL 146.510668 32.496541 \nL 148.040134 38.408344 \nL 149.569599 32.496541 \nL 151.099065 38.408344 \nL 154.157996 32.496541 \nL 155.687461 38.408344 \nL 157.216927 32.496541 \nL 158.746392 38.408344 \nL 160.275858 38.408344 \nL 161.805323 35.452442 \nL 163.334789 38.408344 \nL 164.864255 35.452442 \nL 166.39372 38.408344 \nL 167.923186 32.496541 \nL 169.452651 35.452442 \nL 170.982117 35.452442 \nL 172.511582 32.496541 \nL 174.041048 35.452442 \nL 175.570513 32.496541 \nL 177.099979 38.408344 \nL 178.629444 32.496541 \nL 181.688375 32.496541 \nL 183.217841 38.408344 \nL 184.747306 32.496541 \nL 186.276772 35.452442 \nL 187.806237 32.496541 \nL 189.335703 35.452442 \nL 190.865168 32.496541 \nL 192.394634 35.452442 \nL 193.924099 32.496541 \nL 195.453565 35.452442 \nL 196.98303 32.496541 \nL 200.041961 32.496541 \nL 201.571427 35.452442 \nL 203.100892 32.496541 \nL 207.689289 32.496541 \nL 209.218754 35.452442 \nL 210.74822 35.452442 \nL 212.277685 32.496541 \nL 213.807151 35.452442 \nL 215.336616 32.496541 \nL 216.866082 35.452442 \nL 218.395547 32.496541 \nL 232.160737 32.496541 \nL 233.690202 35.452442 \nL 235.219668 35.452442 \nL 236.749133 38.408344 \nL 239.808064 38.408344 \nL 241.33753 32.496541 \nL 242.866995 38.408344 \nL 244.396461 35.452442 \nL 245.925927 38.408344 \nL 247.455392 38.408344 \nL 248.984858 32.496541 \nL 250.514323 35.452442 \nL 252.043789 32.496541 \nL 253.573254 32.496541 \nL 255.10272 38.408344 \nL 256.632185 32.496541 \nL 258.161651 35.452442 \nL 262.750047 35.452442 \nL 264.279513 38.408344 \nL 265.808978 35.452442 \nL 271.92684 35.452442 \nL 273.456306 38.408344 \nL 274.985771 32.496541 \nL 276.515237 35.452442 \nL 282.633099 35.452442 \nL 284.162564 32.496541 \nL 285.69203 38.408344 \nL 287.221495 32.496541 \nL 288.750961 38.408344 \nL 290.280426 32.496541 \nL 291.809892 32.496541 \nL 293.339357 38.408344 \nL 296.398288 38.408344 \nL 297.927754 32.496541 \nL 299.457219 38.408344 \nL 300.986685 35.452442 \nL 305.575081 35.452442 \nL 307.104547 32.496541 \nL 308.634012 32.496541 \nL 310.163478 35.452442 \nL 311.692943 32.496541 \nL 313.222409 35.452442 \nL 316.28134 35.452442 \nL 317.810805 32.496541 \nL 319.340271 35.452442 \nL 337.693857 35.452442 \nL 339.223323 32.496541 \nL 340.752788 35.452442 \nL 342.282254 32.496541 \nL 343.811719 35.452442 \nL 345.341185 32.496541 \nL 346.87065 35.452442 \nL 348.400116 35.452442 \nL 349.929581 32.496541 \nL 356.047443 32.496541 \nL 356.047443 32.496541 \n\" style=\"fill:none;stroke:#ff7f0e;stroke-linecap:square;stroke-width:1.5;\"/>\n   </g>\n   <g id=\"patch_3\">\n    <path d=\"M 36.465625 239.758125 \nL 36.465625 22.318125 \n\" style=\"fill:none;stroke:#000000;stroke-linecap:square;stroke-linejoin:miter;stroke-width:0.8;\"/>\n   </g>\n   <g id=\"patch_4\">\n    <path d=\"M 371.265625 239.758125 \nL 371.265625 22.318125 \n\" style=\"fill:none;stroke:#000000;stroke-linecap:square;stroke-linejoin:miter;stroke-width:0.8;\"/>\n   </g>\n   <g id=\"patch_5\">\n    <path d=\"M 36.465625 239.758125 \nL 371.265625 239.758125 \n\" style=\"fill:none;stroke:#000000;stroke-linecap:square;stroke-linejoin:miter;stroke-width:0.8;\"/>\n   </g>\n   <g id=\"patch_6\">\n    <path d=\"M 36.465625 22.318125 \nL 371.265625 22.318125 \n\" style=\"fill:none;stroke:#000000;stroke-linecap:square;stroke-linejoin:miter;stroke-width:0.8;\"/>\n   </g>\n   <g id=\"text_18\">\n    <!-- Training and validation accuracy -->\n    <g transform=\"translate(106.57375 16.318125)scale(0.12 -0.12)\">\n     <defs>\n      <path d=\"M -0.296875 72.90625 \nL 61.375 72.90625 \nL 61.375 64.59375 \nL 35.5 64.59375 \nL 35.5 0 \nL 25.59375 0 \nL 25.59375 64.59375 \nL -0.296875 64.59375 \nz\n\" id=\"DejaVuSans-84\"/>\n      <path d=\"M 41.109375 46.296875 \nQ 39.59375 47.171875 37.8125 47.578125 \nQ 36.03125 48 33.890625 48 \nQ 26.265625 48 22.1875 43.046875 \nQ 18.109375 38.09375 18.109375 28.8125 \nL 18.109375 0 \nL 9.078125 0 \nL 9.078125 54.6875 \nL 18.109375 54.6875 \nL 18.109375 46.1875 \nQ 20.953125 51.171875 25.484375 53.578125 \nQ 30.03125 56 36.53125 56 \nQ 37.453125 56 38.578125 55.875 \nQ 39.703125 55.765625 41.0625 55.515625 \nz\n\" id=\"DejaVuSans-114\"/>\n      <path d=\"M 34.28125 27.484375 \nQ 23.390625 27.484375 19.1875 25 \nQ 14.984375 22.515625 14.984375 16.5 \nQ 14.984375 11.71875 18.140625 8.90625 \nQ 21.296875 6.109375 26.703125 6.109375 \nQ 34.1875 6.109375 38.703125 11.40625 \nQ 43.21875 16.703125 43.21875 25.484375 \nL 43.21875 27.484375 \nz\nM 52.203125 31.203125 \nL 52.203125 0 \nL 43.21875 0 \nL 43.21875 8.296875 \nQ 40.140625 3.328125 35.546875 0.953125 \nQ 30.953125 -1.421875 24.3125 -1.421875 \nQ 15.921875 -1.421875 10.953125 3.296875 \nQ 6 8.015625 6 15.921875 \nQ 6 25.140625 12.171875 29.828125 \nQ 18.359375 34.515625 30.609375 34.515625 \nL 43.21875 34.515625 \nL 43.21875 35.40625 \nQ 43.21875 41.609375 39.140625 45 \nQ 35.0625 48.390625 27.6875 48.390625 \nQ 23 48.390625 18.546875 47.265625 \nQ 14.109375 46.140625 10.015625 43.890625 \nL 10.015625 52.203125 \nQ 14.9375 54.109375 19.578125 55.046875 \nQ 24.21875 56 28.609375 56 \nQ 40.484375 56 46.34375 49.84375 \nQ 52.203125 43.703125 52.203125 31.203125 \nz\n\" id=\"DejaVuSans-97\"/>\n      <path d=\"M 9.421875 54.6875 \nL 18.40625 54.6875 \nL 18.40625 0 \nL 9.421875 0 \nz\nM 9.421875 75.984375 \nL 18.40625 75.984375 \nL 18.40625 64.59375 \nL 9.421875 64.59375 \nz\n\" id=\"DejaVuSans-105\"/>\n      <path d=\"M 54.890625 33.015625 \nL 54.890625 0 \nL 45.90625 0 \nL 45.90625 32.71875 \nQ 45.90625 40.484375 42.875 44.328125 \nQ 39.84375 48.1875 33.796875 48.1875 \nQ 26.515625 48.1875 22.3125 43.546875 \nQ 18.109375 38.921875 18.109375 30.90625 \nL 18.109375 0 \nL 9.078125 0 \nL 9.078125 54.6875 \nL 18.109375 54.6875 \nL 18.109375 46.1875 \nQ 21.34375 51.125 25.703125 53.5625 \nQ 30.078125 56 35.796875 56 \nQ 45.21875 56 50.046875 50.171875 \nQ 54.890625 44.34375 54.890625 33.015625 \nz\n\" id=\"DejaVuSans-110\"/>\n      <path d=\"M 45.40625 27.984375 \nQ 45.40625 37.75 41.375 43.109375 \nQ 37.359375 48.484375 30.078125 48.484375 \nQ 22.859375 48.484375 18.828125 43.109375 \nQ 14.796875 37.75 14.796875 27.984375 \nQ 14.796875 18.265625 18.828125 12.890625 \nQ 22.859375 7.515625 30.078125 7.515625 \nQ 37.359375 7.515625 41.375 12.890625 \nQ 45.40625 18.265625 45.40625 27.984375 \nz\nM 54.390625 6.78125 \nQ 54.390625 -7.171875 48.1875 -13.984375 \nQ 42 -20.796875 29.203125 -20.796875 \nQ 24.46875 -20.796875 20.265625 -20.09375 \nQ 16.0625 -19.390625 12.109375 -17.921875 \nL 12.109375 -9.1875 \nQ 16.0625 -11.328125 19.921875 -12.34375 \nQ 23.78125 -13.375 27.78125 -13.375 \nQ 36.625 -13.375 41.015625 -8.765625 \nQ 45.40625 -4.15625 45.40625 5.171875 \nL 45.40625 9.625 \nQ 42.625 4.78125 38.28125 2.390625 \nQ 33.9375 0 27.875 0 \nQ 17.828125 0 11.671875 7.65625 \nQ 5.515625 15.328125 5.515625 27.984375 \nQ 5.515625 40.671875 11.671875 48.328125 \nQ 17.828125 56 27.875 56 \nQ 33.9375 56 38.28125 53.609375 \nQ 42.625 51.21875 45.40625 46.390625 \nL 45.40625 54.6875 \nL 54.390625 54.6875 \nz\n\" id=\"DejaVuSans-103\"/>\n      <path id=\"DejaVuSans-32\"/>\n      <path d=\"M 45.40625 46.390625 \nL 45.40625 75.984375 \nL 54.390625 75.984375 \nL 54.390625 0 \nL 45.40625 0 \nL 45.40625 8.203125 \nQ 42.578125 3.328125 38.25 0.953125 \nQ 33.9375 -1.421875 27.875 -1.421875 \nQ 17.96875 -1.421875 11.734375 6.484375 \nQ 5.515625 14.40625 5.515625 27.296875 \nQ 5.515625 40.1875 11.734375 48.09375 \nQ 17.96875 56 27.875 56 \nQ 33.9375 56 38.25 53.625 \nQ 42.578125 51.265625 45.40625 46.390625 \nz\nM 14.796875 27.296875 \nQ 14.796875 17.390625 18.875 11.75 \nQ 22.953125 6.109375 30.078125 6.109375 \nQ 37.203125 6.109375 41.296875 11.75 \nQ 45.40625 17.390625 45.40625 27.296875 \nQ 45.40625 37.203125 41.296875 42.84375 \nQ 37.203125 48.484375 30.078125 48.484375 \nQ 22.953125 48.484375 18.875 42.84375 \nQ 14.796875 37.203125 14.796875 27.296875 \nz\n\" id=\"DejaVuSans-100\"/>\n      <path d=\"M 2.984375 54.6875 \nL 12.5 54.6875 \nL 29.59375 8.796875 \nL 46.6875 54.6875 \nL 56.203125 54.6875 \nL 35.6875 0 \nL 23.484375 0 \nz\n\" id=\"DejaVuSans-118\"/>\n      <path d=\"M 9.421875 75.984375 \nL 18.40625 75.984375 \nL 18.40625 0 \nL 9.421875 0 \nz\n\" id=\"DejaVuSans-108\"/>\n      <path d=\"M 18.3125 70.21875 \nL 18.3125 54.6875 \nL 36.8125 54.6875 \nL 36.8125 47.703125 \nL 18.3125 47.703125 \nL 18.3125 18.015625 \nQ 18.3125 11.328125 20.140625 9.421875 \nQ 21.96875 7.515625 27.59375 7.515625 \nL 36.8125 7.515625 \nL 36.8125 0 \nL 27.59375 0 \nQ 17.1875 0 13.234375 3.875 \nQ 9.28125 7.765625 9.28125 18.015625 \nL 9.28125 47.703125 \nL 2.6875 47.703125 \nL 2.6875 54.6875 \nL 9.28125 54.6875 \nL 9.28125 70.21875 \nz\n\" id=\"DejaVuSans-116\"/>\n      <path d=\"M 30.609375 48.390625 \nQ 23.390625 48.390625 19.1875 42.75 \nQ 14.984375 37.109375 14.984375 27.296875 \nQ 14.984375 17.484375 19.15625 11.84375 \nQ 23.34375 6.203125 30.609375 6.203125 \nQ 37.796875 6.203125 41.984375 11.859375 \nQ 46.1875 17.53125 46.1875 27.296875 \nQ 46.1875 37.015625 41.984375 42.703125 \nQ 37.796875 48.390625 30.609375 48.390625 \nz\nM 30.609375 56 \nQ 42.328125 56 49.015625 48.375 \nQ 55.71875 40.765625 55.71875 27.296875 \nQ 55.71875 13.875 49.015625 6.21875 \nQ 42.328125 -1.421875 30.609375 -1.421875 \nQ 18.84375 -1.421875 12.171875 6.21875 \nQ 5.515625 13.875 5.515625 27.296875 \nQ 5.515625 40.765625 12.171875 48.375 \nQ 18.84375 56 30.609375 56 \nz\n\" id=\"DejaVuSans-111\"/>\n      <path d=\"M 48.78125 52.59375 \nL 48.78125 44.1875 \nQ 44.96875 46.296875 41.140625 47.34375 \nQ 37.3125 48.390625 33.40625 48.390625 \nQ 24.65625 48.390625 19.8125 42.84375 \nQ 14.984375 37.3125 14.984375 27.296875 \nQ 14.984375 17.28125 19.8125 11.734375 \nQ 24.65625 6.203125 33.40625 6.203125 \nQ 37.3125 6.203125 41.140625 7.25 \nQ 44.96875 8.296875 48.78125 10.40625 \nL 48.78125 2.09375 \nQ 45.015625 0.34375 40.984375 -0.53125 \nQ 36.96875 -1.421875 32.421875 -1.421875 \nQ 20.0625 -1.421875 12.78125 6.34375 \nQ 5.515625 14.109375 5.515625 27.296875 \nQ 5.515625 40.671875 12.859375 48.328125 \nQ 20.21875 56 33.015625 56 \nQ 37.15625 56 41.109375 55.140625 \nQ 45.0625 54.296875 48.78125 52.59375 \nz\n\" id=\"DejaVuSans-99\"/>\n      <path d=\"M 8.5 21.578125 \nL 8.5 54.6875 \nL 17.484375 54.6875 \nL 17.484375 21.921875 \nQ 17.484375 14.15625 20.5 10.265625 \nQ 23.53125 6.390625 29.59375 6.390625 \nQ 36.859375 6.390625 41.078125 11.03125 \nQ 45.3125 15.671875 45.3125 23.6875 \nL 45.3125 54.6875 \nL 54.296875 54.6875 \nL 54.296875 0 \nL 45.3125 0 \nL 45.3125 8.40625 \nQ 42.046875 3.421875 37.71875 1 \nQ 33.40625 -1.421875 27.6875 -1.421875 \nQ 18.265625 -1.421875 13.375 4.4375 \nQ 8.5 10.296875 8.5 21.578125 \nz\nM 31.109375 56 \nz\n\" id=\"DejaVuSans-117\"/>\n      <path d=\"M 32.171875 -5.078125 \nQ 28.375 -14.84375 24.75 -17.8125 \nQ 21.140625 -20.796875 15.09375 -20.796875 \nL 7.90625 -20.796875 \nL 7.90625 -13.28125 \nL 13.1875 -13.28125 \nQ 16.890625 -13.28125 18.9375 -11.515625 \nQ 21 -9.765625 23.484375 -3.21875 \nL 25.09375 0.875 \nL 2.984375 54.6875 \nL 12.5 54.6875 \nL 29.59375 11.921875 \nL 46.6875 54.6875 \nL 56.203125 54.6875 \nz\n\" id=\"DejaVuSans-121\"/>\n     </defs>\n     <use xlink:href=\"#DejaVuSans-84\"/>\n     <use x=\"46.333984\" xlink:href=\"#DejaVuSans-114\"/>\n     <use x=\"87.447266\" xlink:href=\"#DejaVuSans-97\"/>\n     <use x=\"148.726562\" xlink:href=\"#DejaVuSans-105\"/>\n     <use x=\"176.509766\" xlink:href=\"#DejaVuSans-110\"/>\n     <use x=\"239.888672\" xlink:href=\"#DejaVuSans-105\"/>\n     <use x=\"267.671875\" xlink:href=\"#DejaVuSans-110\"/>\n     <use x=\"331.050781\" xlink:href=\"#DejaVuSans-103\"/>\n     <use x=\"394.527344\" xlink:href=\"#DejaVuSans-32\"/>\n     <use x=\"426.314453\" xlink:href=\"#DejaVuSans-97\"/>\n     <use x=\"487.59375\" xlink:href=\"#DejaVuSans-110\"/>\n     <use x=\"550.972656\" xlink:href=\"#DejaVuSans-100\"/>\n     <use x=\"614.449219\" xlink:href=\"#DejaVuSans-32\"/>\n     <use x=\"646.236328\" xlink:href=\"#DejaVuSans-118\"/>\n     <use x=\"705.416016\" xlink:href=\"#DejaVuSans-97\"/>\n     <use x=\"766.695312\" xlink:href=\"#DejaVuSans-108\"/>\n     <use x=\"794.478516\" xlink:href=\"#DejaVuSans-105\"/>\n     <use x=\"822.261719\" xlink:href=\"#DejaVuSans-100\"/>\n     <use x=\"885.738281\" xlink:href=\"#DejaVuSans-97\"/>\n     <use x=\"947.017578\" xlink:href=\"#DejaVuSans-116\"/>\n     <use x=\"986.226562\" xlink:href=\"#DejaVuSans-105\"/>\n     <use x=\"1014.009766\" xlink:href=\"#DejaVuSans-111\"/>\n     <use x=\"1075.191406\" xlink:href=\"#DejaVuSans-110\"/>\n     <use x=\"1138.570312\" xlink:href=\"#DejaVuSans-32\"/>\n     <use x=\"1170.357422\" xlink:href=\"#DejaVuSans-97\"/>\n     <use x=\"1231.636719\" xlink:href=\"#DejaVuSans-99\"/>\n     <use x=\"1286.617188\" xlink:href=\"#DejaVuSans-99\"/>\n     <use x=\"1341.597656\" xlink:href=\"#DejaVuSans-117\"/>\n     <use x=\"1404.976562\" xlink:href=\"#DejaVuSans-114\"/>\n     <use x=\"1446.089844\" xlink:href=\"#DejaVuSans-97\"/>\n     <use x=\"1507.369141\" xlink:href=\"#DejaVuSans-99\"/>\n     <use x=\"1562.349609\" xlink:href=\"#DejaVuSans-121\"/>\n    </g>\n   </g>\n  </g>\n </g>\n <defs>\n  <clipPath id=\"p279a175de2\">\n   <rect height=\"217.44\" width=\"334.8\" x=\"36.465625\" y=\"22.318125\"/>\n  </clipPath>\n </defs>\n</svg>\n",
      "image/png": "[encoded data removed]"
     },
     "metadata": {
      "needs_background": "light"
     }
    },
    {
     "output_type": "display_data",
     "data": {
      "text/plain": "<Figure size 432x288 with 1 Axes>",
      "image/svg+xml": "<?xml version=\"1.0\" encoding=\"utf-8\" standalone=\"no\"?>\n<!DOCTYPE svg PUBLIC \"-//W3C//DTD SVG 1.1//EN\"\n  \"http://www.w3.org/Graphics/SVG/1.1/DTD/svg11.dtd\">\n<!-- Created with matplotlib (https://matplotlib.org/) -->\n<svg height=\"263.63625pt\" version=\"1.1\" viewBox=\"0 0 378.465625 263.63625\" width=\"378.465625pt\" xmlns=\"http://www.w3.org/2000/svg\" xmlns:xlink=\"http://www.w3.org/1999/xlink\">\n <metadata>\n  <rdf:RDF xmlns:cc=\"http://creativecommons.org/ns#\" xmlns:dc=\"http://purl.org/dc/elements/1.1/\" xmlns:rdf=\"http://www.w3.org/1999/02/22-rdf-syntax-ns#\">\n   <cc:Work>\n    <dc:type rdf:resource=\"http://purl.org/dc/dcmitype/StillImage\"/>\n    <dc:date>2021-02-12T00:19:56.560093</dc:date>\n    <dc:format>image/svg+xml</dc:format>\n    <dc:creator>\n     <cc:Agent>\n      <dc:title>Matplotlib v3.3.2, https://matplotlib.org/</dc:title>\n     </cc:Agent>\n    </dc:creator>\n   </cc:Work>\n  </rdf:RDF>\n </metadata>\n <defs>\n  <style type=\"text/css\">*{stroke-linecap:butt;stroke-linejoin:round;}</style>\n </defs>\n <g id=\"figure_1\">\n  <g id=\"patch_1\">\n   <path d=\"M 0 263.63625 \nL 378.465625 263.63625 \nL 378.465625 0 \nL 0 0 \nz\n\" style=\"fill:none;\"/>\n  </g>\n  <g id=\"axes_1\">\n   <g id=\"patch_2\">\n    <path d=\"M 36.465625 239.758125 \nL 371.265625 239.758125 \nL 371.265625 22.318125 \nL 36.465625 22.318125 \nz\n\" style=\"fill:#ffffff;\"/>\n   </g>\n   <g id=\"matplotlib.axis_1\">\n    <g id=\"xtick_1\">\n     <g id=\"line2d_1\">\n      <defs>\n       <path d=\"M 0 0 \nL 0 3.5 \n\" id=\"m615d7aeb7e\" style=\"stroke:#000000;stroke-width:0.8;\"/>\n      </defs>\n      <g>\n       <use style=\"stroke:#000000;stroke-width:0.8;\" x=\"51.683807\" xlink:href=\"#m615d7aeb7e\" y=\"239.758125\"/>\n      </g>\n     </g>\n     <g id=\"text_1\">\n      <!-- 0 -->\n      <g transform=\"translate(48.502557 254.356563)scale(0.1 -0.1)\">\n       <defs>\n        <path d=\"M 31.78125 66.40625 \nQ 24.171875 66.40625 20.328125 58.90625 \nQ 16.5 51.421875 16.5 36.375 \nQ 16.5 21.390625 20.328125 13.890625 \nQ 24.171875 6.390625 31.78125 6.390625 \nQ 39.453125 6.390625 43.28125 13.890625 \nQ 47.125 21.390625 47.125 36.375 \nQ 47.125 51.421875 43.28125 58.90625 \nQ 39.453125 66.40625 31.78125 66.40625 \nz\nM 31.78125 74.21875 \nQ 44.046875 74.21875 50.515625 64.515625 \nQ 56.984375 54.828125 56.984375 36.375 \nQ 56.984375 17.96875 50.515625 8.265625 \nQ 44.046875 -1.421875 31.78125 -1.421875 \nQ 19.53125 -1.421875 13.0625 8.265625 \nQ 6.59375 17.96875 6.59375 36.375 \nQ 6.59375 54.828125 13.0625 64.515625 \nQ 19.53125 74.21875 31.78125 74.21875 \nz\n\" id=\"DejaVuSans-48\"/>\n       </defs>\n       <use xlink:href=\"#DejaVuSans-48\"/>\n      </g>\n     </g>\n    </g>\n    <g id=\"xtick_2\">\n     <g id=\"line2d_2\">\n      <g>\n       <use style=\"stroke:#000000;stroke-width:0.8;\" x=\"89.920445\" xlink:href=\"#m615d7aeb7e\" y=\"239.758125\"/>\n      </g>\n     </g>\n     <g id=\"text_2\">\n      <!-- 25 -->\n      <g transform=\"translate(83.557945 254.356563)scale(0.1 -0.1)\">\n       <defs>\n        <path d=\"M 19.1875 8.296875 \nL 53.609375 8.296875 \nL 53.609375 0 \nL 7.328125 0 \nL 7.328125 8.296875 \nQ 12.9375 14.109375 22.625 23.890625 \nQ 32.328125 33.6875 34.8125 36.53125 \nQ 39.546875 41.84375 41.421875 45.53125 \nQ 43.3125 49.21875 43.3125 52.78125 \nQ 43.3125 58.59375 39.234375 62.25 \nQ 35.15625 65.921875 28.609375 65.921875 \nQ 23.96875 65.921875 18.8125 64.3125 \nQ 13.671875 62.703125 7.8125 59.421875 \nL 7.8125 69.390625 \nQ 13.765625 71.78125 18.9375 73 \nQ 24.125 74.21875 28.421875 74.21875 \nQ 39.75 74.21875 46.484375 68.546875 \nQ 53.21875 62.890625 53.21875 53.421875 \nQ 53.21875 48.921875 51.53125 44.890625 \nQ 49.859375 40.875 45.40625 35.40625 \nQ 44.1875 33.984375 37.640625 27.21875 \nQ 31.109375 20.453125 19.1875 8.296875 \nz\n\" id=\"DejaVuSans-50\"/>\n        <path d=\"M 10.796875 72.90625 \nL 49.515625 72.90625 \nL 49.515625 64.59375 \nL 19.828125 64.59375 \nL 19.828125 46.734375 \nQ 21.96875 47.46875 24.109375 47.828125 \nQ 26.265625 48.1875 28.421875 48.1875 \nQ 40.625 48.1875 47.75 41.5 \nQ 54.890625 34.8125 54.890625 23.390625 \nQ 54.890625 11.625 47.5625 5.09375 \nQ 40.234375 -1.421875 26.90625 -1.421875 \nQ 22.3125 -1.421875 17.546875 -0.640625 \nQ 12.796875 0.140625 7.71875 1.703125 \nL 7.71875 11.625 \nQ 12.109375 9.234375 16.796875 8.0625 \nQ 21.484375 6.890625 26.703125 6.890625 \nQ 35.15625 6.890625 40.078125 11.328125 \nQ 45.015625 15.765625 45.015625 23.390625 \nQ 45.015625 31 40.078125 35.4375 \nQ 35.15625 39.890625 26.703125 39.890625 \nQ 22.75 39.890625 18.8125 39.015625 \nQ 14.890625 38.140625 10.796875 36.28125 \nz\n\" id=\"DejaVuSans-53\"/>\n       </defs>\n       <use xlink:href=\"#DejaVuSans-50\"/>\n       <use x=\"63.623047\" xlink:href=\"#DejaVuSans-53\"/>\n      </g>\n     </g>\n    </g>\n    <g id=\"xtick_3\">\n     <g id=\"line2d_3\">\n      <g>\n       <use style=\"stroke:#000000;stroke-width:0.8;\" x=\"128.157082\" xlink:href=\"#m615d7aeb7e\" y=\"239.758125\"/>\n      </g>\n     </g>\n     <g id=\"text_3\">\n      <!-- 50 -->\n      <g transform=\"translate(121.794582 254.356563)scale(0.1 -0.1)\">\n       <use xlink:href=\"#DejaVuSans-53\"/>\n       <use x=\"63.623047\" xlink:href=\"#DejaVuSans-48\"/>\n      </g>\n     </g>\n    </g>\n    <g id=\"xtick_4\">\n     <g id=\"line2d_4\">\n      <g>\n       <use style=\"stroke:#000000;stroke-width:0.8;\" x=\"166.39372\" xlink:href=\"#m615d7aeb7e\" y=\"239.758125\"/>\n      </g>\n     </g>\n     <g id=\"text_4\">\n      <!-- 75 -->\n      <g transform=\"translate(160.03122 254.356563)scale(0.1 -0.1)\">\n       <defs>\n        <path d=\"M 8.203125 72.90625 \nL 55.078125 72.90625 \nL 55.078125 68.703125 \nL 28.609375 0 \nL 18.3125 0 \nL 43.21875 64.59375 \nL 8.203125 64.59375 \nz\n\" id=\"DejaVuSans-55\"/>\n       </defs>\n       <use xlink:href=\"#DejaVuSans-55\"/>\n       <use x=\"63.623047\" xlink:href=\"#DejaVuSans-53\"/>\n      </g>\n     </g>\n    </g>\n    <g id=\"xtick_5\">\n     <g id=\"line2d_5\">\n      <g>\n       <use style=\"stroke:#000000;stroke-width:0.8;\" x=\"204.630358\" xlink:href=\"#m615d7aeb7e\" y=\"239.758125\"/>\n      </g>\n     </g>\n     <g id=\"text_5\">\n      <!-- 100 -->\n      <g transform=\"translate(195.086608 254.356563)scale(0.1 -0.1)\">\n       <defs>\n        <path d=\"M 12.40625 8.296875 \nL 28.515625 8.296875 \nL 28.515625 63.921875 \nL 10.984375 60.40625 \nL 10.984375 69.390625 \nL 28.421875 72.90625 \nL 38.28125 72.90625 \nL 38.28125 8.296875 \nL 54.390625 8.296875 \nL 54.390625 0 \nL 12.40625 0 \nz\n\" id=\"DejaVuSans-49\"/>\n       </defs>\n       <use xlink:href=\"#DejaVuSans-49\"/>\n       <use x=\"63.623047\" xlink:href=\"#DejaVuSans-48\"/>\n       <use x=\"127.246094\" xlink:href=\"#DejaVuSans-48\"/>\n      </g>\n     </g>\n    </g>\n    <g id=\"xtick_6\">\n     <g id=\"line2d_6\">\n      <g>\n       <use style=\"stroke:#000000;stroke-width:0.8;\" x=\"242.866995\" xlink:href=\"#m615d7aeb7e\" y=\"239.758125\"/>\n      </g>\n     </g>\n     <g id=\"text_6\">\n      <!-- 125 -->\n      <g transform=\"translate(233.323245 254.356563)scale(0.1 -0.1)\">\n       <use xlink:href=\"#DejaVuSans-49\"/>\n       <use x=\"63.623047\" xlink:href=\"#DejaVuSans-50\"/>\n       <use x=\"127.246094\" xlink:href=\"#DejaVuSans-53\"/>\n      </g>\n     </g>\n    </g>\n    <g id=\"xtick_7\">\n     <g id=\"line2d_7\">\n      <g>\n       <use style=\"stroke:#000000;stroke-width:0.8;\" x=\"281.103633\" xlink:href=\"#m615d7aeb7e\" y=\"239.758125\"/>\n      </g>\n     </g>\n     <g id=\"text_7\">\n      <!-- 150 -->\n      <g transform=\"translate(271.559883 254.356563)scale(0.1 -0.1)\">\n       <use xlink:href=\"#DejaVuSans-49\"/>\n       <use x=\"63.623047\" xlink:href=\"#DejaVuSans-53\"/>\n       <use x=\"127.246094\" xlink:href=\"#DejaVuSans-48\"/>\n      </g>\n     </g>\n    </g>\n    <g id=\"xtick_8\">\n     <g id=\"line2d_8\">\n      <g>\n       <use style=\"stroke:#000000;stroke-width:0.8;\" x=\"319.340271\" xlink:href=\"#m615d7aeb7e\" y=\"239.758125\"/>\n      </g>\n     </g>\n     <g id=\"text_8\">\n      <!-- 175 -->\n      <g transform=\"translate(309.796521 254.356563)scale(0.1 -0.1)\">\n       <use xlink:href=\"#DejaVuSans-49\"/>\n       <use x=\"63.623047\" xlink:href=\"#DejaVuSans-55\"/>\n       <use x=\"127.246094\" xlink:href=\"#DejaVuSans-53\"/>\n      </g>\n     </g>\n    </g>\n    <g id=\"xtick_9\">\n     <g id=\"line2d_9\">\n      <g>\n       <use style=\"stroke:#000000;stroke-width:0.8;\" x=\"357.576909\" xlink:href=\"#m615d7aeb7e\" y=\"239.758125\"/>\n      </g>\n     </g>\n     <g id=\"text_9\">\n      <!-- 200 -->\n      <g transform=\"translate(348.033159 254.356563)scale(0.1 -0.1)\">\n       <use xlink:href=\"#DejaVuSans-50\"/>\n       <use x=\"63.623047\" xlink:href=\"#DejaVuSans-48\"/>\n       <use x=\"127.246094\" xlink:href=\"#DejaVuSans-48\"/>\n      </g>\n     </g>\n    </g>\n   </g>\n   <g id=\"matplotlib.axis_2\">\n    <g id=\"ytick_1\">\n     <g id=\"line2d_10\">\n      <defs>\n       <path d=\"M 0 0 \nL -3.5 0 \n\" id=\"m70c51864e4\" style=\"stroke:#000000;stroke-width:0.8;\"/>\n      </defs>\n      <g>\n       <use style=\"stroke:#000000;stroke-width:0.8;\" x=\"36.465625\" xlink:href=\"#m70c51864e4\" y=\"211.894766\"/>\n      </g>\n     </g>\n     <g id=\"text_10\">\n      <!-- 0.40 -->\n      <g transform=\"translate(7.2 215.693985)scale(0.1 -0.1)\">\n       <defs>\n        <path d=\"M 10.6875 12.40625 \nL 21 12.40625 \nL 21 0 \nL 10.6875 0 \nz\n\" id=\"DejaVuSans-46\"/>\n        <path d=\"M 37.796875 64.3125 \nL 12.890625 25.390625 \nL 37.796875 25.390625 \nz\nM 35.203125 72.90625 \nL 47.609375 72.90625 \nL 47.609375 25.390625 \nL 58.015625 25.390625 \nL 58.015625 17.1875 \nL 47.609375 17.1875 \nL 47.609375 0 \nL 37.796875 0 \nL 37.796875 17.1875 \nL 4.890625 17.1875 \nL 4.890625 26.703125 \nz\n\" id=\"DejaVuSans-52\"/>\n       </defs>\n       <use xlink:href=\"#DejaVuSans-48\"/>\n       <use x=\"63.623047\" xlink:href=\"#DejaVuSans-46\"/>\n       <use x=\"95.410156\" xlink:href=\"#DejaVuSans-52\"/>\n       <use x=\"159.033203\" xlink:href=\"#DejaVuSans-48\"/>\n      </g>\n     </g>\n    </g>\n    <g id=\"ytick_2\">\n     <g id=\"line2d_11\">\n      <g>\n       <use style=\"stroke:#000000;stroke-width:0.8;\" x=\"36.465625\" xlink:href=\"#m70c51864e4\" y=\"181.740586\"/>\n      </g>\n     </g>\n     <g id=\"text_11\">\n      <!-- 0.45 -->\n      <g transform=\"translate(7.2 185.539804)scale(0.1 -0.1)\">\n       <use xlink:href=\"#DejaVuSans-48\"/>\n       <use x=\"63.623047\" xlink:href=\"#DejaVuSans-46\"/>\n       <use x=\"95.410156\" xlink:href=\"#DejaVuSans-52\"/>\n       <use x=\"159.033203\" xlink:href=\"#DejaVuSans-53\"/>\n      </g>\n     </g>\n    </g>\n    <g id=\"ytick_3\">\n     <g id=\"line2d_12\">\n      <g>\n       <use style=\"stroke:#000000;stroke-width:0.8;\" x=\"36.465625\" xlink:href=\"#m70c51864e4\" y=\"151.586406\"/>\n      </g>\n     </g>\n     <g id=\"text_12\">\n      <!-- 0.50 -->\n      <g transform=\"translate(7.2 155.385624)scale(0.1 -0.1)\">\n       <use xlink:href=\"#DejaVuSans-48\"/>\n       <use x=\"63.623047\" xlink:href=\"#DejaVuSans-46\"/>\n       <use x=\"95.410156\" xlink:href=\"#DejaVuSans-53\"/>\n       <use x=\"159.033203\" xlink:href=\"#DejaVuSans-48\"/>\n      </g>\n     </g>\n    </g>\n    <g id=\"ytick_4\">\n     <g id=\"line2d_13\">\n      <g>\n       <use style=\"stroke:#000000;stroke-width:0.8;\" x=\"36.465625\" xlink:href=\"#m70c51864e4\" y=\"121.432225\"/>\n      </g>\n     </g>\n     <g id=\"text_13\">\n      <!-- 0.55 -->\n      <g transform=\"translate(7.2 125.231444)scale(0.1 -0.1)\">\n       <use xlink:href=\"#DejaVuSans-48\"/>\n       <use x=\"63.623047\" xlink:href=\"#DejaVuSans-46\"/>\n       <use x=\"95.410156\" xlink:href=\"#DejaVuSans-53\"/>\n       <use x=\"159.033203\" xlink:href=\"#DejaVuSans-53\"/>\n      </g>\n     </g>\n    </g>\n    <g id=\"ytick_5\">\n     <g id=\"line2d_14\">\n      <g>\n       <use style=\"stroke:#000000;stroke-width:0.8;\" x=\"36.465625\" xlink:href=\"#m70c51864e4\" y=\"91.278045\"/>\n      </g>\n     </g>\n     <g id=\"text_14\">\n      <!-- 0.60 -->\n      <g transform=\"translate(7.2 95.077264)scale(0.1 -0.1)\">\n       <defs>\n        <path d=\"M 33.015625 40.375 \nQ 26.375 40.375 22.484375 35.828125 \nQ 18.609375 31.296875 18.609375 23.390625 \nQ 18.609375 15.53125 22.484375 10.953125 \nQ 26.375 6.390625 33.015625 6.390625 \nQ 39.65625 6.390625 43.53125 10.953125 \nQ 47.40625 15.53125 47.40625 23.390625 \nQ 47.40625 31.296875 43.53125 35.828125 \nQ 39.65625 40.375 33.015625 40.375 \nz\nM 52.59375 71.296875 \nL 52.59375 62.3125 \nQ 48.875 64.0625 45.09375 64.984375 \nQ 41.3125 65.921875 37.59375 65.921875 \nQ 27.828125 65.921875 22.671875 59.328125 \nQ 17.53125 52.734375 16.796875 39.40625 \nQ 19.671875 43.65625 24.015625 45.921875 \nQ 28.375 48.1875 33.59375 48.1875 \nQ 44.578125 48.1875 50.953125 41.515625 \nQ 57.328125 34.859375 57.328125 23.390625 \nQ 57.328125 12.15625 50.6875 5.359375 \nQ 44.046875 -1.421875 33.015625 -1.421875 \nQ 20.359375 -1.421875 13.671875 8.265625 \nQ 6.984375 17.96875 6.984375 36.375 \nQ 6.984375 53.65625 15.1875 63.9375 \nQ 23.390625 74.21875 37.203125 74.21875 \nQ 40.921875 74.21875 44.703125 73.484375 \nQ 48.484375 72.75 52.59375 71.296875 \nz\n\" id=\"DejaVuSans-54\"/>\n       </defs>\n       <use xlink:href=\"#DejaVuSans-48\"/>\n       <use x=\"63.623047\" xlink:href=\"#DejaVuSans-46\"/>\n       <use x=\"95.410156\" xlink:href=\"#DejaVuSans-54\"/>\n       <use x=\"159.033203\" xlink:href=\"#DejaVuSans-48\"/>\n      </g>\n     </g>\n    </g>\n    <g id=\"ytick_6\">\n     <g id=\"line2d_15\">\n      <g>\n       <use style=\"stroke:#000000;stroke-width:0.8;\" x=\"36.465625\" xlink:href=\"#m70c51864e4\" y=\"61.123865\"/>\n      </g>\n     </g>\n     <g id=\"text_15\">\n      <!-- 0.65 -->\n      <g transform=\"translate(7.2 64.923084)scale(0.1 -0.1)\">\n       <use xlink:href=\"#DejaVuSans-48\"/>\n       <use x=\"63.623047\" xlink:href=\"#DejaVuSans-46\"/>\n       <use x=\"95.410156\" xlink:href=\"#DejaVuSans-54\"/>\n       <use x=\"159.033203\" xlink:href=\"#DejaVuSans-53\"/>\n      </g>\n     </g>\n    </g>\n    <g id=\"ytick_7\">\n     <g id=\"line2d_16\">\n      <g>\n       <use style=\"stroke:#000000;stroke-width:0.8;\" x=\"36.465625\" xlink:href=\"#m70c51864e4\" y=\"30.969685\"/>\n      </g>\n     </g>\n     <g id=\"text_16\">\n      <!-- 0.70 -->\n      <g transform=\"translate(7.2 34.768904)scale(0.1 -0.1)\">\n       <use xlink:href=\"#DejaVuSans-48\"/>\n       <use x=\"63.623047\" xlink:href=\"#DejaVuSans-46\"/>\n       <use x=\"95.410156\" xlink:href=\"#DejaVuSans-55\"/>\n       <use x=\"159.033203\" xlink:href=\"#DejaVuSans-48\"/>\n      </g>\n     </g>\n    </g>\n   </g>\n   <g id=\"line2d_17\">\n    <path clip-path=\"url(#pd699379436)\" d=\"M 51.683807 32.201761 \nL 53.213272 56.066303 \nL 54.742738 68.915805 \nL 56.272203 94.936279 \nL 57.801669 109.925789 \nL 59.331134 116.505236 \nL 60.8606 140.268588 \nL 62.390065 135.835763 \nL 63.919531 159.286577 \nL 65.448996 150.43101 \nL 66.978462 155.051746 \nL 68.507927 164.703979 \nL 70.037393 153.754506 \nL 71.566858 152.731017 \nL 73.096324 172.16072 \nL 74.625789 188.038398 \nL 76.155255 173.602484 \nL 77.68472 181.564059 \nL 79.214186 182.871257 \nL 80.743651 168.990429 \nL 82.273117 186.546274 \nL 83.802583 182.130703 \nL 85.332048 190.243362 \nL 86.861514 182.881807 \nL 88.390979 194.374092 \nL 89.920445 185.566568 \nL 91.44991 188.913087 \nL 92.979376 189.057862 \nL 94.508841 195.549689 \nL 96.038307 180.850286 \nL 97.567772 187.818837 \nL 99.097238 176.175792 \nL 100.626703 182.488767 \nL 102.156169 182.437921 \nL 103.685634 186.671332 \nL 105.2151 199.067404 \nL 106.744565 200.426346 \nL 108.274031 209.36299 \nL 111.332962 189.088991 \nL 112.862427 199.886303 \nL 114.391893 198.955214 \nL 115.921358 203.064736 \nL 117.450824 205.38444 \nL 118.980289 196.418733 \nL 120.509755 199.491987 \nL 122.03922 197.914884 \nL 123.568686 202.521169 \nL 125.098151 195.85324 \nL 126.627617 201.831318 \nL 128.157082 196.271442 \nL 129.686548 202.840015 \nL 131.216013 198.404692 \nL 132.745479 210.579513 \nL 134.274944 205.688225 \nL 135.80441 206.49244 \nL 137.333875 209.458465 \nL 138.863341 192.153563 \nL 140.392806 209.524139 \nL 141.922272 209.102 \nL 143.451737 206.594151 \nL 146.510668 200.815072 \nL 148.040134 205.21524 \nL 149.569599 204.96471 \nL 151.099065 210.041932 \nL 152.62853 208.027988 \nL 154.157996 206.56002 \nL 155.687461 214.994041 \nL 157.216927 210.589811 \nL 158.746392 207.741997 \nL 160.275858 207.385946 \nL 161.805323 211.770261 \nL 163.334789 205.874806 \nL 164.864255 215.093361 \nL 166.39372 214.606105 \nL 167.923186 204.034287 \nL 169.452651 212.218299 \nL 170.982117 213.469259 \nL 172.511582 208.474013 \nL 174.041048 216.99294 \nL 175.570513 211.331875 \nL 177.099979 207.25422 \nL 178.629444 212.964137 \nL 180.15891 210.860076 \nL 181.688375 212.855435 \nL 183.217841 213.673507 \nL 184.747306 207.24491 \nL 186.276772 211.576797 \nL 187.806237 212.797669 \nL 189.335703 215.823023 \nL 190.865168 211.274917 \nL 192.394634 211.434376 \nL 193.924099 211.445358 \nL 195.453565 205.423622 \nL 196.98303 215.583277 \nL 198.512496 206.380412 \nL 200.041961 221.077299 \nL 201.571427 216.213924 \nL 203.100892 212.389064 \nL 204.630358 217.044092 \nL 206.159823 212.133322 \nL 207.689289 217.116579 \nL 209.218754 202.582171 \nL 210.74822 220.424815 \nL 212.277685 211.523524 \nL 213.807151 214.321804 \nL 215.336616 211.385363 \nL 216.866082 213.205698 \nL 218.395547 219.896508 \nL 219.925013 213.054345 \nL 221.454478 215.664013 \nL 222.983944 219.928716 \nL 224.513409 212.517932 \nL 226.042875 217.058183 \nL 227.57234 209.262753 \nL 229.101806 211.847942 \nL 230.631271 216.669205 \nL 232.160737 213.091748 \nL 233.690202 212.049746 \nL 235.219668 214.83158 \nL 236.749133 212.26131 \nL 238.278599 217.83152 \nL 239.808064 219.362234 \nL 241.33753 215.877967 \nL 242.866995 218.74575 \nL 244.396461 204.919525 \nL 245.925927 224.259758 \nL 247.455392 211.705144 \nL 248.984858 212.756204 \nL 250.514323 221.307052 \nL 252.043789 216.587858 \nL 253.573254 219.376576 \nL 255.10272 217.060179 \nL 256.632185 211.329143 \nL 258.161651 217.792015 \nL 259.691116 211.977835 \nL 261.220582 214.528173 \nL 262.750047 218.042599 \nL 264.279513 215.250735 \nL 265.808978 205.547243 \nL 267.338444 209.221792 \nL 268.867909 221.352129 \nL 270.397375 215.714356 \nL 271.92684 218.19884 \nL 273.456306 223.252948 \nL 274.985771 208.44664 \nL 276.515237 205.461474 \nL 278.044702 211.881857 \nL 279.574168 226.693144 \nL 281.103633 225.243185 \nL 282.633099 220.058896 \nL 284.162564 216.997901 \nL 285.69203 217.872356 \nL 287.221495 214.613241 \nL 288.750961 222.374162 \nL 290.280426 221.768786 \nL 291.809892 225.0609 \nL 293.339357 219.696429 \nL 294.868823 217.547039 \nL 296.398288 226.933806 \nL 297.927754 215.664445 \nL 299.457219 216.800051 \nL 300.986685 215.820956 \nL 302.51615 222.884262 \nL 304.045616 221.46013 \nL 305.575081 219.39534 \nL 307.104547 229.874489 \nL 308.634012 218.353537 \nL 310.163478 216.74667 \nL 311.692943 211.769614 \nL 313.222409 210.839191 \nL 314.751874 218.863061 \nL 316.28134 222.84109 \nL 317.810805 225.653138 \nL 319.340271 227.502895 \nL 320.869736 216.661189 \nL 322.399202 213.174676 \nL 323.928667 225.033634 \nL 325.458133 224.291661 \nL 326.987599 220.770962 \nL 328.517064 221.18406 \nL 330.04653 222.225685 \nL 331.575995 221.973627 \nL 333.105461 225.815904 \nL 334.634926 224.751364 \nL 336.164392 221.7683 \nL 337.693857 220.933135 \nL 339.223323 228.569933 \nL 340.752788 218.024877 \nL 342.282254 227.038573 \nL 343.811719 219.894908 \nL 345.341185 221.170634 \nL 346.87065 221.417534 \nL 348.400116 225.875952 \nL 349.929581 222.532147 \nL 351.459047 223.772574 \nL 352.988512 226.706121 \nL 354.517978 219.937379 \nL 356.047443 216.223378 \nL 356.047443 216.223378 \n\" style=\"fill:none;stroke:#1f77b4;stroke-linecap:square;stroke-width:1.5;\"/>\n   </g>\n   <g id=\"line2d_18\">\n    <path clip-path=\"url(#pd699379436)\" d=\"M 51.683807 65.09702 \nL 53.213272 104.185335 \nL 54.742738 125.877912 \nL 56.272203 152.39497 \nL 57.801669 150.53522 \nL 59.331134 175.87731 \nL 60.8606 180.578512 \nL 62.390065 196.436581 \nL 65.448996 210.059545 \nL 66.978462 200.588052 \nL 68.507927 216.621343 \nL 70.037393 194.564141 \nL 71.566858 218.436537 \nL 73.096324 216.888929 \nL 74.625789 226.725532 \nL 76.155255 221.743012 \nL 77.68472 227.058901 \nL 79.214186 221.614719 \nL 80.743651 224.216892 \nL 82.273117 221.190279 \nL 83.802583 228.740859 \nL 85.332048 219.984343 \nL 86.861514 226.516395 \nL 88.390979 226.664782 \nL 89.920445 218.53167 \nL 91.44991 226.294299 \nL 92.979376 218.047793 \nL 94.508841 227.573296 \nL 96.038307 210.175563 \nL 97.567772 228.268072 \nL 99.097238 207.169188 \nL 100.626703 226.150566 \nL 102.156169 211.13282 \nL 103.685634 222.679888 \nL 105.2151 220.837949 \nL 106.744565 220.43772 \nL 108.274031 224.533401 \nL 109.803496 217.204738 \nL 111.332962 224.528279 \nL 112.862427 212.41827 \nL 114.391893 223.003425 \nL 115.921358 209.066341 \nL 117.450824 221.8318 \nL 118.980289 215.728825 \nL 120.509755 218.860006 \nL 122.03922 211.257789 \nL 123.568686 218.885384 \nL 125.098151 203.381047 \nL 126.627617 221.414352 \nL 128.157082 203.965809 \nL 129.686548 220.828657 \nL 131.216013 208.911681 \nL 132.745479 214.44395 \nL 134.274944 208.148122 \nL 135.80441 214.070717 \nL 137.333875 208.841262 \nL 138.863341 202.394008 \nL 140.392806 214.462175 \nL 141.922272 210.477335 \nL 143.451737 214.975025 \nL 144.981203 205.871984 \nL 146.510668 217.757812 \nL 148.040134 203.136143 \nL 149.569599 214.626379 \nL 151.099065 201.945772 \nL 152.62853 209.312647 \nL 154.157996 209.231282 \nL 155.687461 201.804448 \nL 157.216927 209.530537 \nL 158.746392 198.205638 \nL 160.275858 205.7672 \nL 161.805323 211.913688 \nL 163.334789 197.922253 \nL 164.864255 204.831654 \nL 166.39372 199.222423 \nL 167.923186 204.257641 \nL 169.452651 196.101109 \nL 170.982117 197.15172 \nL 172.511582 200.843686 \nL 174.041048 189.918135 \nL 175.570513 200.780294 \nL 177.099979 191.672113 \nL 178.629444 198.276201 \nL 180.15891 191.331609 \nL 181.688375 201.448505 \nL 183.217841 174.610786 \nL 184.747306 200.906557 \nL 186.276772 181.861859 \nL 187.806237 198.412133 \nL 189.335703 187.736645 \nL 190.865168 200.061093 \nL 192.394634 185.069193 \nL 193.924099 199.771202 \nL 195.453565 182.173785 \nL 196.98303 193.505407 \nL 198.512496 194.465001 \nL 200.041961 190.78328 \nL 201.571427 183.143013 \nL 203.100892 195.072156 \nL 204.630358 188.128535 \nL 206.159823 185.624747 \nL 207.689289 190.477176 \nL 209.218754 189.48142 \nL 210.74822 188.019598 \nL 212.277685 193.930259 \nL 213.807151 183.515563 \nL 215.336616 192.541607 \nL 216.866082 181.639817 \nL 218.395547 194.919419 \nL 219.925013 181.813133 \nL 221.454478 189.137375 \nL 222.983944 185.133124 \nL 224.513409 193.520738 \nL 226.042875 181.97421 \nL 227.57234 182.389716 \nL 229.101806 187.870079 \nL 230.631271 182.637909 \nL 232.160737 183.292838 \nL 233.690202 185.13174 \nL 235.219668 186.152982 \nL 236.749133 177.856906 \nL 238.278599 184.332809 \nL 239.808064 176.513295 \nL 241.33753 183.557243 \nL 242.866995 177.471073 \nL 244.396461 183.842767 \nL 245.925927 172.899279 \nL 247.455392 179.612789 \nL 248.984858 179.784739 \nL 250.514323 173.018064 \nL 252.043789 173.894874 \nL 253.573254 175.911675 \nL 255.10272 165.476489 \nL 256.632185 182.731802 \nL 258.161651 167.562883 \nL 259.691116 179.933702 \nL 261.220582 172.620477 \nL 262.750047 179.467007 \nL 264.279513 163.489362 \nL 265.808978 181.701735 \nL 267.338444 167.795655 \nL 268.867909 179.466989 \nL 270.397375 167.708089 \nL 271.92684 175.101403 \nL 273.456306 159.756777 \nL 274.985771 177.783647 \nL 276.515237 162.470833 \nL 278.044702 173.239423 \nL 279.574168 165.497644 \nL 281.103633 166.615816 \nL 282.633099 162.21173 \nL 284.162564 170.802694 \nL 285.69203 156.786726 \nL 287.221495 179.752675 \nL 288.750961 156.379038 \nL 290.280426 168.404446 \nL 291.809892 159.936725 \nL 293.339357 160.372847 \nL 294.868823 161.525636 \nL 296.398288 159.164628 \nL 297.927754 166.953157 \nL 299.457219 162.195213 \nL 300.986685 173.374403 \nL 302.51615 162.864161 \nL 304.045616 163.611868 \nL 305.575081 161.749601 \nL 307.104547 163.768775 \nL 308.634012 172.779918 \nL 310.163478 167.66179 \nL 311.692943 177.183914 \nL 313.222409 166.706366 \nL 314.751874 160.70449 \nL 316.28134 164.125041 \nL 317.810805 170.478906 \nL 319.340271 166.338398 \nL 320.869736 162.678784 \nL 322.399202 163.718881 \nL 323.928667 156.340485 \nL 325.458133 164.621554 \nL 326.987599 160.562807 \nL 328.517064 162.187664 \nL 330.04653 165.910796 \nL 331.575995 158.491493 \nL 333.105461 161.713816 \nL 334.634926 153.571663 \nL 336.164392 161.683513 \nL 337.693857 152.93496 \nL 339.223323 156.078884 \nL 340.752788 141.702892 \nL 342.282254 153.899586 \nL 343.811719 143.66004 \nL 345.341185 155.808044 \nL 346.87065 150.477597 \nL 348.400116 147.384969 \nL 349.929581 149.580191 \nL 351.459047 147.083269 \nL 352.988512 145.211818 \nL 354.517978 152.629989 \nL 356.047443 148.76672 \nL 356.047443 148.76672 \n\" style=\"fill:none;stroke:#ff7f0e;stroke-linecap:square;stroke-width:1.5;\"/>\n   </g>\n   <g id=\"patch_3\">\n    <path d=\"M 36.465625 239.758125 \nL 36.465625 22.318125 \n\" style=\"fill:none;stroke:#000000;stroke-linecap:square;stroke-linejoin:miter;stroke-width:0.8;\"/>\n   </g>\n   <g id=\"patch_4\">\n    <path d=\"M 371.265625 239.758125 \nL 371.265625 22.318125 \n\" style=\"fill:none;stroke:#000000;stroke-linecap:square;stroke-linejoin:miter;stroke-width:0.8;\"/>\n   </g>\n   <g id=\"patch_5\">\n    <path d=\"M 36.465625 239.758125 \nL 371.265625 239.758125 \n\" style=\"fill:none;stroke:#000000;stroke-linecap:square;stroke-linejoin:miter;stroke-width:0.8;\"/>\n   </g>\n   <g id=\"patch_6\">\n    <path d=\"M 36.465625 22.318125 \nL 371.265625 22.318125 \n\" style=\"fill:none;stroke:#000000;stroke-linecap:square;stroke-linejoin:miter;stroke-width:0.8;\"/>\n   </g>\n   <g id=\"text_17\">\n    <!-- Training and validation loss -->\n    <g transform=\"translate(122.055625 16.318125)scale(0.12 -0.12)\">\n     <defs>\n      <path d=\"M -0.296875 72.90625 \nL 61.375 72.90625 \nL 61.375 64.59375 \nL 35.5 64.59375 \nL 35.5 0 \nL 25.59375 0 \nL 25.59375 64.59375 \nL -0.296875 64.59375 \nz\n\" id=\"DejaVuSans-84\"/>\n      <path d=\"M 41.109375 46.296875 \nQ 39.59375 47.171875 37.8125 47.578125 \nQ 36.03125 48 33.890625 48 \nQ 26.265625 48 22.1875 43.046875 \nQ 18.109375 38.09375 18.109375 28.8125 \nL 18.109375 0 \nL 9.078125 0 \nL 9.078125 54.6875 \nL 18.109375 54.6875 \nL 18.109375 46.1875 \nQ 20.953125 51.171875 25.484375 53.578125 \nQ 30.03125 56 36.53125 56 \nQ 37.453125 56 38.578125 55.875 \nQ 39.703125 55.765625 41.0625 55.515625 \nz\n\" id=\"DejaVuSans-114\"/>\n      <path d=\"M 34.28125 27.484375 \nQ 23.390625 27.484375 19.1875 25 \nQ 14.984375 22.515625 14.984375 16.5 \nQ 14.984375 11.71875 18.140625 8.90625 \nQ 21.296875 6.109375 26.703125 6.109375 \nQ 34.1875 6.109375 38.703125 11.40625 \nQ 43.21875 16.703125 43.21875 25.484375 \nL 43.21875 27.484375 \nz\nM 52.203125 31.203125 \nL 52.203125 0 \nL 43.21875 0 \nL 43.21875 8.296875 \nQ 40.140625 3.328125 35.546875 0.953125 \nQ 30.953125 -1.421875 24.3125 -1.421875 \nQ 15.921875 -1.421875 10.953125 3.296875 \nQ 6 8.015625 6 15.921875 \nQ 6 25.140625 12.171875 29.828125 \nQ 18.359375 34.515625 30.609375 34.515625 \nL 43.21875 34.515625 \nL 43.21875 35.40625 \nQ 43.21875 41.609375 39.140625 45 \nQ 35.0625 48.390625 27.6875 48.390625 \nQ 23 48.390625 18.546875 47.265625 \nQ 14.109375 46.140625 10.015625 43.890625 \nL 10.015625 52.203125 \nQ 14.9375 54.109375 19.578125 55.046875 \nQ 24.21875 56 28.609375 56 \nQ 40.484375 56 46.34375 49.84375 \nQ 52.203125 43.703125 52.203125 31.203125 \nz\n\" id=\"DejaVuSans-97\"/>\n      <path d=\"M 9.421875 54.6875 \nL 18.40625 54.6875 \nL 18.40625 0 \nL 9.421875 0 \nz\nM 9.421875 75.984375 \nL 18.40625 75.984375 \nL 18.40625 64.59375 \nL 9.421875 64.59375 \nz\n\" id=\"DejaVuSans-105\"/>\n      <path d=\"M 54.890625 33.015625 \nL 54.890625 0 \nL 45.90625 0 \nL 45.90625 32.71875 \nQ 45.90625 40.484375 42.875 44.328125 \nQ 39.84375 48.1875 33.796875 48.1875 \nQ 26.515625 48.1875 22.3125 43.546875 \nQ 18.109375 38.921875 18.109375 30.90625 \nL 18.109375 0 \nL 9.078125 0 \nL 9.078125 54.6875 \nL 18.109375 54.6875 \nL 18.109375 46.1875 \nQ 21.34375 51.125 25.703125 53.5625 \nQ 30.078125 56 35.796875 56 \nQ 45.21875 56 50.046875 50.171875 \nQ 54.890625 44.34375 54.890625 33.015625 \nz\n\" id=\"DejaVuSans-110\"/>\n      <path d=\"M 45.40625 27.984375 \nQ 45.40625 37.75 41.375 43.109375 \nQ 37.359375 48.484375 30.078125 48.484375 \nQ 22.859375 48.484375 18.828125 43.109375 \nQ 14.796875 37.75 14.796875 27.984375 \nQ 14.796875 18.265625 18.828125 12.890625 \nQ 22.859375 7.515625 30.078125 7.515625 \nQ 37.359375 7.515625 41.375 12.890625 \nQ 45.40625 18.265625 45.40625 27.984375 \nz\nM 54.390625 6.78125 \nQ 54.390625 -7.171875 48.1875 -13.984375 \nQ 42 -20.796875 29.203125 -20.796875 \nQ 24.46875 -20.796875 20.265625 -20.09375 \nQ 16.0625 -19.390625 12.109375 -17.921875 \nL 12.109375 -9.1875 \nQ 16.0625 -11.328125 19.921875 -12.34375 \nQ 23.78125 -13.375 27.78125 -13.375 \nQ 36.625 -13.375 41.015625 -8.765625 \nQ 45.40625 -4.15625 45.40625 5.171875 \nL 45.40625 9.625 \nQ 42.625 4.78125 38.28125 2.390625 \nQ 33.9375 0 27.875 0 \nQ 17.828125 0 11.671875 7.65625 \nQ 5.515625 15.328125 5.515625 27.984375 \nQ 5.515625 40.671875 11.671875 48.328125 \nQ 17.828125 56 27.875 56 \nQ 33.9375 56 38.28125 53.609375 \nQ 42.625 51.21875 45.40625 46.390625 \nL 45.40625 54.6875 \nL 54.390625 54.6875 \nz\n\" id=\"DejaVuSans-103\"/>\n      <path id=\"DejaVuSans-32\"/>\n      <path d=\"M 45.40625 46.390625 \nL 45.40625 75.984375 \nL 54.390625 75.984375 \nL 54.390625 0 \nL 45.40625 0 \nL 45.40625 8.203125 \nQ 42.578125 3.328125 38.25 0.953125 \nQ 33.9375 -1.421875 27.875 -1.421875 \nQ 17.96875 -1.421875 11.734375 6.484375 \nQ 5.515625 14.40625 5.515625 27.296875 \nQ 5.515625 40.1875 11.734375 48.09375 \nQ 17.96875 56 27.875 56 \nQ 33.9375 56 38.25 53.625 \nQ 42.578125 51.265625 45.40625 46.390625 \nz\nM 14.796875 27.296875 \nQ 14.796875 17.390625 18.875 11.75 \nQ 22.953125 6.109375 30.078125 6.109375 \nQ 37.203125 6.109375 41.296875 11.75 \nQ 45.40625 17.390625 45.40625 27.296875 \nQ 45.40625 37.203125 41.296875 42.84375 \nQ 37.203125 48.484375 30.078125 48.484375 \nQ 22.953125 48.484375 18.875 42.84375 \nQ 14.796875 37.203125 14.796875 27.296875 \nz\n\" id=\"DejaVuSans-100\"/>\n      <path d=\"M 2.984375 54.6875 \nL 12.5 54.6875 \nL 29.59375 8.796875 \nL 46.6875 54.6875 \nL 56.203125 54.6875 \nL 35.6875 0 \nL 23.484375 0 \nz\n\" id=\"DejaVuSans-118\"/>\n      <path d=\"M 9.421875 75.984375 \nL 18.40625 75.984375 \nL 18.40625 0 \nL 9.421875 0 \nz\n\" id=\"DejaVuSans-108\"/>\n      <path d=\"M 18.3125 70.21875 \nL 18.3125 54.6875 \nL 36.8125 54.6875 \nL 36.8125 47.703125 \nL 18.3125 47.703125 \nL 18.3125 18.015625 \nQ 18.3125 11.328125 20.140625 9.421875 \nQ 21.96875 7.515625 27.59375 7.515625 \nL 36.8125 7.515625 \nL 36.8125 0 \nL 27.59375 0 \nQ 17.1875 0 13.234375 3.875 \nQ 9.28125 7.765625 9.28125 18.015625 \nL 9.28125 47.703125 \nL 2.6875 47.703125 \nL 2.6875 54.6875 \nL 9.28125 54.6875 \nL 9.28125 70.21875 \nz\n\" id=\"DejaVuSans-116\"/>\n      <path d=\"M 30.609375 48.390625 \nQ 23.390625 48.390625 19.1875 42.75 \nQ 14.984375 37.109375 14.984375 27.296875 \nQ 14.984375 17.484375 19.15625 11.84375 \nQ 23.34375 6.203125 30.609375 6.203125 \nQ 37.796875 6.203125 41.984375 11.859375 \nQ 46.1875 17.53125 46.1875 27.296875 \nQ 46.1875 37.015625 41.984375 42.703125 \nQ 37.796875 48.390625 30.609375 48.390625 \nz\nM 30.609375 56 \nQ 42.328125 56 49.015625 48.375 \nQ 55.71875 40.765625 55.71875 27.296875 \nQ 55.71875 13.875 49.015625 6.21875 \nQ 42.328125 -1.421875 30.609375 -1.421875 \nQ 18.84375 -1.421875 12.171875 6.21875 \nQ 5.515625 13.875 5.515625 27.296875 \nQ 5.515625 40.765625 12.171875 48.375 \nQ 18.84375 56 30.609375 56 \nz\n\" id=\"DejaVuSans-111\"/>\n      <path d=\"M 44.28125 53.078125 \nL 44.28125 44.578125 \nQ 40.484375 46.53125 36.375 47.5 \nQ 32.28125 48.484375 27.875 48.484375 \nQ 21.1875 48.484375 17.84375 46.4375 \nQ 14.5 44.390625 14.5 40.28125 \nQ 14.5 37.15625 16.890625 35.375 \nQ 19.28125 33.59375 26.515625 31.984375 \nL 29.59375 31.296875 \nQ 39.15625 29.25 43.1875 25.515625 \nQ 47.21875 21.78125 47.21875 15.09375 \nQ 47.21875 7.46875 41.1875 3.015625 \nQ 35.15625 -1.421875 24.609375 -1.421875 \nQ 20.21875 -1.421875 15.453125 -0.5625 \nQ 10.6875 0.296875 5.421875 2 \nL 5.421875 11.28125 \nQ 10.40625 8.6875 15.234375 7.390625 \nQ 20.0625 6.109375 24.8125 6.109375 \nQ 31.15625 6.109375 34.5625 8.28125 \nQ 37.984375 10.453125 37.984375 14.40625 \nQ 37.984375 18.0625 35.515625 20.015625 \nQ 33.0625 21.96875 24.703125 23.78125 \nL 21.578125 24.515625 \nQ 13.234375 26.265625 9.515625 29.90625 \nQ 5.8125 33.546875 5.8125 39.890625 \nQ 5.8125 47.609375 11.28125 51.796875 \nQ 16.75 56 26.8125 56 \nQ 31.78125 56 36.171875 55.265625 \nQ 40.578125 54.546875 44.28125 53.078125 \nz\n\" id=\"DejaVuSans-115\"/>\n     </defs>\n     <use xlink:href=\"#DejaVuSans-84\"/>\n     <use x=\"46.333984\" xlink:href=\"#DejaVuSans-114\"/>\n     <use x=\"87.447266\" xlink:href=\"#DejaVuSans-97\"/>\n     <use x=\"148.726562\" xlink:href=\"#DejaVuSans-105\"/>\n     <use x=\"176.509766\" xlink:href=\"#DejaVuSans-110\"/>\n     <use x=\"239.888672\" xlink:href=\"#DejaVuSans-105\"/>\n     <use x=\"267.671875\" xlink:href=\"#DejaVuSans-110\"/>\n     <use x=\"331.050781\" xlink:href=\"#DejaVuSans-103\"/>\n     <use x=\"394.527344\" xlink:href=\"#DejaVuSans-32\"/>\n     <use x=\"426.314453\" xlink:href=\"#DejaVuSans-97\"/>\n     <use x=\"487.59375\" xlink:href=\"#DejaVuSans-110\"/>\n     <use x=\"550.972656\" xlink:href=\"#DejaVuSans-100\"/>\n     <use x=\"614.449219\" xlink:href=\"#DejaVuSans-32\"/>\n     <use x=\"646.236328\" xlink:href=\"#DejaVuSans-118\"/>\n     <use x=\"705.416016\" xlink:href=\"#DejaVuSans-97\"/>\n     <use x=\"766.695312\" xlink:href=\"#DejaVuSans-108\"/>\n     <use x=\"794.478516\" xlink:href=\"#DejaVuSans-105\"/>\n     <use x=\"822.261719\" xlink:href=\"#DejaVuSans-100\"/>\n     <use x=\"885.738281\" xlink:href=\"#DejaVuSans-97\"/>\n     <use x=\"947.017578\" xlink:href=\"#DejaVuSans-116\"/>\n     <use x=\"986.226562\" xlink:href=\"#DejaVuSans-105\"/>\n     <use x=\"1014.009766\" xlink:href=\"#DejaVuSans-111\"/>\n     <use x=\"1075.191406\" xlink:href=\"#DejaVuSans-110\"/>\n     <use x=\"1138.570312\" xlink:href=\"#DejaVuSans-32\"/>\n     <use x=\"1170.357422\" xlink:href=\"#DejaVuSans-108\"/>\n     <use x=\"1198.140625\" xlink:href=\"#DejaVuSans-111\"/>\n     <use x=\"1259.322266\" xlink:href=\"#DejaVuSans-115\"/>\n     <use x=\"1311.421875\" xlink:href=\"#DejaVuSans-115\"/>\n    </g>\n   </g>\n  </g>\n </g>\n <defs>\n  <clipPath id=\"pd699379436\">\n   <rect height=\"217.44\" width=\"334.8\" x=\"36.465625\" y=\"22.318125\"/>\n  </clipPath>\n </defs>\n</svg>\n",
      "image/png": "[encoded data removed]"
     },
     "metadata": {
      "needs_background": "light"
     }
    }
   ],
   "source": [
    "# 에포크에 따른 모델의 변화를 확인. 진동이 심하다는 걸 확인할 수 있다. \n",
    "# 파란색이 훈련 데이터, 노란색이 검증 데이터에 대한 정확도, 손실 그래프다\n",
    "\n",
    "acc      = history.history['accuracy']\n",
    "val_acc  = history.history['val_accuracy']\n",
    "loss     = history.history['loss']\n",
    "val_loss = history.history['val_loss']\n",
    "\n",
    "epochs   = range(len(acc)) # Get number of epochs\n",
    "\n",
    "#------------------------------------------------\n",
    "# 훈련 데이터, 검증 데이터에 대한 에포크당 정확도\n",
    "#------------------------------------------------\n",
    "plt.plot  ( epochs,     acc )\n",
    "plt.plot  ( epochs, val_acc )\n",
    "plt.title ('Training and validation accuracy')\n",
    "plt.figure()\n",
    "\n",
    "#------------------------------------------------\n",
    "# 훈련 데이터, 검증 데이터에 대한 에포크당 손실률\n",
    "#------------------------------------------------\n",
    "plt.plot  ( epochs,     loss )\n",
    "plt.plot  ( epochs, val_loss )\n",
    "plt.title ('Training and validation loss'   )\n",
    "\n"
   ]
  },
  {
   "source": [
    "손실 부분에서 진동이 계속 일어났다."
   ],
   "cell_type": "markdown",
   "metadata": {}
  },
  {
   "source": [
    "# 5. 예측하기\n",
    "<br>\n",
    "가장 훈련이 잘된 모델로 값을 예측해보자"
   ],
   "cell_type": "markdown",
   "metadata": {}
  },
  {
   "cell_type": "code",
   "execution_count": 113,
   "metadata": {},
   "outputs": [],
   "source": [
    "model.load_weights(filename)\n",
    "prediction = np.where(model.predict(x_test) > 0.5, 1, 0) # 생존 여부(생존 : 1, 사망 : 0)를 확인해야하기 때문에 예측값이 0.5를 넘기면 1, 아니면 0으로 했다. "
   ]
  },
  {
   "cell_type": "code",
   "execution_count": 114,
   "metadata": {},
   "outputs": [
    {
     "output_type": "execute_result",
     "data": {
      "text/plain": [
       "array([0, 0, 0, 0, 0, 0, 0, 0, 0, 0, 0, 0, 1, 0, 1, 1, 0, 0, 0, 0, 0, 0,\n",
       "       1, 0, 1, 0, 1, 0, 0, 0, 0, 0, 0, 0, 0, 0, 0, 0, 0, 0, 0, 0, 0, 1,\n",
       "       1, 0, 0, 0, 1, 0, 0, 0, 1, 1, 0, 0, 0, 0, 0, 1, 0, 0, 0, 0, 1, 1,\n",
       "       0, 0, 0, 1, 0, 0, 0, 0, 1, 0, 0, 1, 0, 0, 0, 0, 0, 0, 0, 0, 0, 0,\n",
       "       0, 1, 0, 0, 1, 0, 0, 0, 1, 0, 0, 0, 1, 0, 0, 0, 1, 0, 0, 0, 0, 0,\n",
       "       0, 0, 1, 0, 1, 0, 0, 1, 0, 1, 1, 0, 1, 0, 0, 1, 0, 0, 0, 0, 0, 0,\n",
       "       0, 0, 0, 0, 0, 0, 0, 0, 1, 1, 0, 0, 0, 0, 0, 0, 0, 0, 1, 0, 0, 0,\n",
       "       0, 0, 1, 0, 0, 0, 0, 0, 1, 0, 0, 0, 0, 0, 1, 0, 0, 0, 0, 0, 0, 1,\n",
       "       1, 0, 1, 1, 0, 0, 1, 0, 1, 0, 1, 0, 0, 0, 0, 0, 0, 0, 1, 0, 1, 0,\n",
       "       0, 0, 0, 0, 0, 1, 0, 0, 0, 0, 1, 0, 0, 0, 0, 1, 0, 0, 0, 0, 1, 0,\n",
       "       1, 0, 1, 0, 1, 0, 0, 0, 0, 0, 1, 1, 0, 0, 0, 0, 0, 0, 1, 1, 1, 1,\n",
       "       0, 0, 0, 0, 1, 0, 1, 0, 1, 0, 0, 0, 0, 0, 0, 0, 1, 0, 0, 0, 1, 1,\n",
       "       0, 0, 1, 0, 0, 0, 0, 0, 1, 0, 0, 1, 0, 0, 0, 0, 0, 0, 0, 1, 1, 0,\n",
       "       0, 0, 0, 0, 0, 0, 0, 0, 0, 0, 1, 0, 0, 0, 0, 0, 0, 0, 0, 1, 0, 0,\n",
       "       0, 0, 0, 0, 0, 0, 1, 1, 0, 0, 0, 0, 0, 0, 0, 0, 1, 0, 1, 0, 0, 0,\n",
       "       1, 0, 0, 0, 0, 0, 0, 0, 0, 0, 0, 0, 0, 1, 0, 1, 0, 0, 0, 1, 1, 0,\n",
       "       0, 0, 1, 0, 1, 0, 0, 0, 0, 1, 1, 0, 1, 0, 0, 0, 1, 0, 0, 1, 0, 0,\n",
       "       1, 1, 0, 0, 0, 0, 0, 0, 0, 0, 0, 1, 0, 0, 0, 0, 0, 1, 0, 0, 0, 1,\n",
       "       0, 1, 0, 0, 1, 0, 1, 0, 0, 0, 0, 0, 0, 1, 0, 1, 0, 0, 1, 0, 0, 0])"
      ]
     },
     "metadata": {},
     "execution_count": 114
    }
   ],
   "source": [
    "prediction.reshape(418)"
   ]
  },
  {
   "source": [
    "## csv파일 생성\n",
    "<br>\n",
    "에측값과 앞서 저장한 승객 번호를 submission 파일 생성에 사용한다. "
   ],
   "cell_type": "markdown",
   "metadata": {}
  },
  {
   "cell_type": "code",
   "execution_count": 115,
   "metadata": {},
   "outputs": [],
   "source": [
    "predict_toCsv = {\"PassengerId\": test_PassengerId, \"Survived\": prediction}"
   ]
  },
  {
   "cell_type": "code",
   "execution_count": 116,
   "metadata": {},
   "outputs": [],
   "source": [
    "#csv파일 생성\n",
    "submission = pd.DataFrame()\n",
    "\n",
    "submission['PassengerId'] = 0\n",
    "submission['Survived'] = 0\n",
    "\n",
    "submission['PassengerId'] = predict_toCsv[\"PassengerId\"]\n",
    "submission['Survived'] = predict_toCsv[\"Survived\"]"
   ]
  },
  {
   "cell_type": "code",
   "execution_count": 117,
   "metadata": {},
   "outputs": [],
   "source": [
    "submission.to_csv('submission.csv', index=False) # 파일 저장"
   ]
  },
  {
   "cell_type": "code",
   "execution_count": null,
   "metadata": {},
   "outputs": [],
   "source": []
  }
 ]
}