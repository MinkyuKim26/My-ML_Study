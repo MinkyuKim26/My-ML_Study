{
 "metadata": {
  "language_info": {
   "codemirror_mode": {
    "name": "ipython",
    "version": 3
   },
   "file_extension": ".py",
   "mimetype": "text/x-python",
   "name": "python",
   "nbconvert_exporter": "python",
   "pygments_lexer": "ipython3",
   "version": "3.8.5-final"
  },
  "orig_nbformat": 2,
  "kernelspec": {
   "name": "python3",
   "display_name": "Python 3",
   "language": "python"
  }
 },
 "nbformat": 4,
 "nbformat_minor": 2,
 "cells": [
  {
   "source": [
    "# 0. 라이브러리 임포트"
   ],
   "cell_type": "markdown",
   "metadata": {}
  },
  {
   "source": [
    "Name을 아직 써먹지 못했다. 써먹어봐야한다"
   ],
   "cell_type": "markdown",
   "metadata": {}
  },
  {
   "cell_type": "code",
   "execution_count": 1,
   "metadata": {},
   "outputs": [],
   "source": [
    "import numpy as np # 넘파이\n",
    "import matplotlib.pyplot as plt # 매트플롯립\n",
    "import pandas as pd # 판다스(csv)\n",
    "\n",
    "# 텐서플로우\n",
    "import tensorflow as tf\n",
    "from tensorflow import keras\n",
    "from tensorflow.keras.callbacks import ModelCheckpoint\n",
    "from tensorflow.keras.models import Sequential\n",
    "from tensorflow.keras.layers import Dense\n",
    "from tqdm import tqdm"
   ]
  },
  {
   "cell_type": "code",
   "execution_count": null,
   "metadata": {},
   "outputs": [],
   "source": []
  },
  {
   "source": [
    "# 1. 데이터 살펴보기"
   ],
   "cell_type": "markdown",
   "metadata": {}
  },
  {
   "cell_type": "code",
   "execution_count": 2,
   "metadata": {},
   "outputs": [
    {
     "output_type": "stream",
     "name": "stdout",
     "text": [
      "(891, 12) (418, 11)\n"
     ]
    }
   ],
   "source": [
    "# 불러오기\n",
    "train = pd.read_csv('train.csv')\n",
    "test = pd.read_csv('test.csv')\n",
    "print(train.shape, test.shape)"
   ]
  },
  {
   "source": [
    "\n",
    "승객 번호(PassengerId), 생존 여부(Survived), 객실 등급(Pclass), 이름(Name), 성별(Sex), 나이(Age), 친구 & 배우자 동행 여부(SipSp), 부모 & 자식 동행 여부(Parch), 티켓(Ticket), 요금(Fare), 객실 번호(Cabin), 출발 지점(Embarked)이라는 특성이 있음을 알 수 있다\n",
    "\n"
   ],
   "cell_type": "markdown",
   "metadata": {}
  },
  {
   "cell_type": "code",
   "execution_count": 3,
   "metadata": {},
   "outputs": [
    {
     "output_type": "stream",
     "name": "stdout",
     "text": [
      "<class 'pandas.core.frame.DataFrame'>\nRangeIndex: 891 entries, 0 to 890\nData columns (total 12 columns):\n #   Column       Non-Null Count  Dtype  \n---  ------       --------------  -----  \n 0   PassengerId  891 non-null    int64  \n 1   Survived     891 non-null    int64  \n 2   Pclass       891 non-null    int64  \n 3   Name         891 non-null    object \n 4   Sex          891 non-null    object \n 5   Age          714 non-null    float64\n 6   SibSp        891 non-null    int64  \n 7   Parch        891 non-null    int64  \n 8   Ticket       891 non-null    object \n 9   Fare         891 non-null    float64\n 10  Cabin        204 non-null    object \n 11  Embarked     889 non-null    object \ndtypes: float64(2), int64(5), object(5)\nmemory usage: 83.7+ KB\n"
     ]
    }
   ],
   "source": [
    "train.info() # 간단하게 데이터를 살펴본다"
   ]
  },
  {
   "source": [
    "Train의 샘플이 891개가 있는데 'Age', 'Cabin', 'Embarked' 특성값이 샘플 갯수보다 적다는 사실을 알 수 있다. \n",
    "<br>\n",
    "=> Train에서 'Age', 'Cabin', 'Embarked' 특성에 결측치가 있다"
   ],
   "cell_type": "markdown",
   "metadata": {}
  },
  {
   "cell_type": "code",
   "execution_count": 4,
   "metadata": {},
   "outputs": [
    {
     "output_type": "stream",
     "name": "stdout",
     "text": [
      "<class 'pandas.core.frame.DataFrame'>\nRangeIndex: 418 entries, 0 to 417\nData columns (total 11 columns):\n #   Column       Non-Null Count  Dtype  \n---  ------       --------------  -----  \n 0   PassengerId  418 non-null    int64  \n 1   Pclass       418 non-null    int64  \n 2   Name         418 non-null    object \n 3   Sex          418 non-null    object \n 4   Age          332 non-null    float64\n 5   SibSp        418 non-null    int64  \n 6   Parch        418 non-null    int64  \n 7   Ticket       418 non-null    object \n 8   Fare         417 non-null    float64\n 9   Cabin        91 non-null     object \n 10  Embarked     418 non-null    object \ndtypes: float64(2), int64(4), object(5)\nmemory usage: 36.0+ KB\n"
     ]
    }
   ],
   "source": [
    "test.info() # 테스트용 데이터 확인"
   ]
  },
  {
   "source": [
    "Test의 샘플이 418개가 있다. 그런데 'Age', 'Fare', 'Cabin' 특성값이 샘플 갯수보다 적다는 사실을 알 수 있다. \n",
    "<br>\n",
    "=>Test에서 'Age', 'Fare', 'Cabin' 특성에 결측치가 있다. \n",
    "\n",
    "\n",
    "데이터를 보니 결측치가 많이 있다. 결측치들을 어떻게 채우면 좋을까?\n",
    "<br>\n",
    "데이터를 더 살펴보며 어떻게 결측치를 채울지 알아보자"
   ],
   "cell_type": "markdown",
   "metadata": {}
  },
  {
   "source": [
    "## 숫자 데이터 살펴보기\n",
    "<br>\n",
    "앞서 상관관계에서 볼 수 있던 특성들(나이, 객실 등급 등)을 좀 더 자세히 살펴보자"
   ],
   "cell_type": "markdown",
   "metadata": {}
  },
  {
   "source": [
    "### 객실 등급\n",
    "<br>\n",
    "먼저 객실 등급을 기준으로 데이터를 살펴보자."
   ],
   "cell_type": "markdown",
   "metadata": {}
  },
  {
   "cell_type": "code",
   "execution_count": 5,
   "metadata": {},
   "outputs": [
    {
     "output_type": "execute_result",
     "data": {
      "text/plain": [
       "3    491\n",
       "1    216\n",
       "2    184\n",
       "Name: Pclass, dtype: int64"
      ]
     },
     "metadata": {},
     "execution_count": 5
    }
   ],
   "source": [
    "train['Pclass'].value_counts() # 3, 1, 2등급 순으로 객실 승객이 많다."
   ]
  },
  {
   "cell_type": "code",
   "execution_count": 6,
   "metadata": {},
   "outputs": [
    {
     "output_type": "execute_result",
     "data": {
      "text/plain": [
       "   Pclass  PassengerId  Survived        Age     SibSp     Parch       Fare\n",
       "0       1   461.597222  0.629630  38.233441  0.416667  0.356481  84.154687\n",
       "1       2   445.956522  0.472826  29.877630  0.402174  0.380435  20.662183\n",
       "2       3   439.154786  0.242363  25.140620  0.615071  0.393075  13.675550"
      ],
      "text/html": "<div>\n<style scoped>\n    .dataframe tbody tr th:only-of-type {\n        vertical-align: middle;\n    }\n\n    .dataframe tbody tr th {\n        vertical-align: top;\n    }\n\n    .dataframe thead th {\n        text-align: right;\n    }\n</style>\n<table border=\"1\" class=\"dataframe\">\n  <thead>\n    <tr style=\"text-align: right;\">\n      <th></th>\n      <th>Pclass</th>\n      <th>PassengerId</th>\n      <th>Survived</th>\n      <th>Age</th>\n      <th>SibSp</th>\n      <th>Parch</th>\n      <th>Fare</th>\n    </tr>\n  </thead>\n  <tbody>\n    <tr>\n      <th>0</th>\n      <td>1</td>\n      <td>461.597222</td>\n      <td>0.629630</td>\n      <td>38.233441</td>\n      <td>0.416667</td>\n      <td>0.356481</td>\n      <td>84.154687</td>\n    </tr>\n    <tr>\n      <th>1</th>\n      <td>2</td>\n      <td>445.956522</td>\n      <td>0.472826</td>\n      <td>29.877630</td>\n      <td>0.402174</td>\n      <td>0.380435</td>\n      <td>20.662183</td>\n    </tr>\n    <tr>\n      <th>2</th>\n      <td>3</td>\n      <td>439.154786</td>\n      <td>0.242363</td>\n      <td>25.140620</td>\n      <td>0.615071</td>\n      <td>0.393075</td>\n      <td>13.675550</td>\n    </tr>\n  </tbody>\n</table>\n</div>"
     },
     "metadata": {},
     "execution_count": 6
    }
   ],
   "source": [
    "train.groupby(['Pclass'], as_index=False).mean() # 객실 등급별 승객들의 평균값. 객실 등급에 따라 생존률과 요금에 차이가 난다는 사실을 확인할 수 있다. "
   ]
  },
  {
   "source": [
    "### 동행한 형제/자매 혹은 배우자\n",
    "<br>\n",
    "이제 SibSp 항목을 살펴보자. SibSp는 '동행한 형제/자매 혹은 배우자 수'를 말한다."
   ],
   "cell_type": "markdown",
   "metadata": {}
  },
  {
   "cell_type": "code",
   "execution_count": 7,
   "metadata": {},
   "outputs": [
    {
     "output_type": "execute_result",
     "data": {
      "text/plain": [
       "0    608\n",
       "1    209\n",
       "2     28\n",
       "4     18\n",
       "3     16\n",
       "8      7\n",
       "5      5\n",
       "Name: SibSp, dtype: int64"
      ]
     },
     "metadata": {},
     "execution_count": 7
    }
   ],
   "source": [
    "train['SibSp'].value_counts()"
   ]
  },
  {
   "source": [
    "혼자 탑승한 승객이 제일 많았다. 그 다음은 1명과 동행한 승객인데 아마 형제끼리 여행한 것 보다는 부부가 함께 탑승한 경우가 많지 않을까 싶다. \n",
    "<br>\n",
    "이들 역시 종류별 평균값을 살펴보자"
   ],
   "cell_type": "markdown",
   "metadata": {}
  },
  {
   "cell_type": "code",
   "execution_count": 8,
   "metadata": {},
   "outputs": [
    {
     "output_type": "execute_result",
     "data": {
      "text/plain": [
       "   SibSp  PassengerId  Survived    Pclass        Age     Parch       Fare\n",
       "0      0   455.370066  0.345395  2.351974  31.397558  0.185855  25.692028\n",
       "1      1   439.727273  0.535885  2.057416  30.089727  0.655502  44.147370\n",
       "2      2   412.428571  0.464286  2.357143  22.620000  0.642857  51.753718\n",
       "3      3   321.562500  0.250000  2.562500  13.916667  1.312500  68.908862\n",
       "4      4   381.611111  0.166667  3.000000   7.055556  1.500000  31.855556\n",
       "5      5   336.800000  0.000000  3.000000  10.200000  2.000000  46.900000\n",
       "6      8   481.714286  0.000000  3.000000        NaN  2.000000  69.550000"
      ],
      "text/html": "<div>\n<style scoped>\n    .dataframe tbody tr th:only-of-type {\n        vertical-align: middle;\n    }\n\n    .dataframe tbody tr th {\n        vertical-align: top;\n    }\n\n    .dataframe thead th {\n        text-align: right;\n    }\n</style>\n<table border=\"1\" class=\"dataframe\">\n  <thead>\n    <tr style=\"text-align: right;\">\n      <th></th>\n      <th>SibSp</th>\n      <th>PassengerId</th>\n      <th>Survived</th>\n      <th>Pclass</th>\n      <th>Age</th>\n      <th>Parch</th>\n      <th>Fare</th>\n    </tr>\n  </thead>\n  <tbody>\n    <tr>\n      <th>0</th>\n      <td>0</td>\n      <td>455.370066</td>\n      <td>0.345395</td>\n      <td>2.351974</td>\n      <td>31.397558</td>\n      <td>0.185855</td>\n      <td>25.692028</td>\n    </tr>\n    <tr>\n      <th>1</th>\n      <td>1</td>\n      <td>439.727273</td>\n      <td>0.535885</td>\n      <td>2.057416</td>\n      <td>30.089727</td>\n      <td>0.655502</td>\n      <td>44.147370</td>\n    </tr>\n    <tr>\n      <th>2</th>\n      <td>2</td>\n      <td>412.428571</td>\n      <td>0.464286</td>\n      <td>2.357143</td>\n      <td>22.620000</td>\n      <td>0.642857</td>\n      <td>51.753718</td>\n    </tr>\n    <tr>\n      <th>3</th>\n      <td>3</td>\n      <td>321.562500</td>\n      <td>0.250000</td>\n      <td>2.562500</td>\n      <td>13.916667</td>\n      <td>1.312500</td>\n      <td>68.908862</td>\n    </tr>\n    <tr>\n      <th>4</th>\n      <td>4</td>\n      <td>381.611111</td>\n      <td>0.166667</td>\n      <td>3.000000</td>\n      <td>7.055556</td>\n      <td>1.500000</td>\n      <td>31.855556</td>\n    </tr>\n    <tr>\n      <th>5</th>\n      <td>5</td>\n      <td>336.800000</td>\n      <td>0.000000</td>\n      <td>3.000000</td>\n      <td>10.200000</td>\n      <td>2.000000</td>\n      <td>46.900000</td>\n    </tr>\n    <tr>\n      <th>6</th>\n      <td>8</td>\n      <td>481.714286</td>\n      <td>0.000000</td>\n      <td>3.000000</td>\n      <td>NaN</td>\n      <td>2.000000</td>\n      <td>69.550000</td>\n    </tr>\n  </tbody>\n</table>\n</div>"
     },
     "metadata": {},
     "execution_count": 8
    }
   ],
   "source": [
    "train.groupby(['SibSp'], as_index=False).mean()  "
   ]
  },
  {
   "source": [
    "SibSp가 5이상인 승객들은 모두 사망했다. 그리고 SibSp가 8인 사람들은 모두 나이 데이터가 없다는 것을 알 수 있다. \n",
    "<br>\n",
    "나에게 있어 가장 눈에 띄는 특성은 '나이'다. SibSp에 따라서 나이 차이가 꽤 많이 난다는 사실을 알 수 있다. 후에 나이 결측치를 채울 때 사용해야겠다. \n",
    "<br>\n",
    "그리고 요금도 차이가 난다. 동행한 사람들끼리 더 넓은 객실을 사용해서 그런가 싶다."
   ],
   "cell_type": "markdown",
   "metadata": {}
  },
  {
   "source": [
    "### 동행한 부모/자식\n",
    "<br>\n",
    "이제 동행한 부모/자식의 수를 나타내는 'Parch'항목을 살펴보자. "
   ],
   "cell_type": "markdown",
   "metadata": {}
  },
  {
   "cell_type": "code",
   "execution_count": 9,
   "metadata": {},
   "outputs": [
    {
     "output_type": "execute_result",
     "data": {
      "text/plain": [
       "0    678\n",
       "1    118\n",
       "2     80\n",
       "3      5\n",
       "5      5\n",
       "4      4\n",
       "6      1\n",
       "Name: Parch, dtype: int64"
      ]
     },
     "metadata": {},
     "execution_count": 9
    }
   ],
   "source": [
    "train['Parch'].value_counts()  "
   ]
  },
  {
   "source": [
    "부모/자식의 동행 없이 온 사람이 제일 많다. 이제 각 항목별 평균값을 살펴보자"
   ],
   "cell_type": "markdown",
   "metadata": {}
  },
  {
   "cell_type": "code",
   "execution_count": 4,
   "metadata": {},
   "outputs": [
    {
     "output_type": "execute_result",
     "data": {
      "text/plain": [
       "   Parch  PassengerId  Survived    Pclass        Age     SibSp       Fare\n",
       "0      0   445.255162  0.343658  2.321534  32.178503  0.237463  25.586774\n",
       "1      1   465.110169  0.550847  2.203390  24.422000  1.084746  46.778180\n",
       "2      2   416.662500  0.500000  2.275000  17.216912  2.062500  64.337604\n",
       "3      3   579.200000  0.600000  2.600000  33.200000  1.000000  25.951660\n",
       "4      4   384.000000  0.000000  2.500000  44.500000  0.750000  84.968750\n",
       "5      5   435.200000  0.200000  3.000000  39.200000  0.600000  32.550000\n",
       "6      6   679.000000  0.000000  3.000000  43.000000  1.000000  46.900000"
      ],
      "text/html": "<div>\n<style scoped>\n    .dataframe tbody tr th:only-of-type {\n        vertical-align: middle;\n    }\n\n    .dataframe tbody tr th {\n        vertical-align: top;\n    }\n\n    .dataframe thead th {\n        text-align: right;\n    }\n</style>\n<table border=\"1\" class=\"dataframe\">\n  <thead>\n    <tr style=\"text-align: right;\">\n      <th></th>\n      <th>Parch</th>\n      <th>PassengerId</th>\n      <th>Survived</th>\n      <th>Pclass</th>\n      <th>Age</th>\n      <th>SibSp</th>\n      <th>Fare</th>\n    </tr>\n  </thead>\n  <tbody>\n    <tr>\n      <th>0</th>\n      <td>0</td>\n      <td>445.255162</td>\n      <td>0.343658</td>\n      <td>2.321534</td>\n      <td>32.178503</td>\n      <td>0.237463</td>\n      <td>25.586774</td>\n    </tr>\n    <tr>\n      <th>1</th>\n      <td>1</td>\n      <td>465.110169</td>\n      <td>0.550847</td>\n      <td>2.203390</td>\n      <td>24.422000</td>\n      <td>1.084746</td>\n      <td>46.778180</td>\n    </tr>\n    <tr>\n      <th>2</th>\n      <td>2</td>\n      <td>416.662500</td>\n      <td>0.500000</td>\n      <td>2.275000</td>\n      <td>17.216912</td>\n      <td>2.062500</td>\n      <td>64.337604</td>\n    </tr>\n    <tr>\n      <th>3</th>\n      <td>3</td>\n      <td>579.200000</td>\n      <td>0.600000</td>\n      <td>2.600000</td>\n      <td>33.200000</td>\n      <td>1.000000</td>\n      <td>25.951660</td>\n    </tr>\n    <tr>\n      <th>4</th>\n      <td>4</td>\n      <td>384.000000</td>\n      <td>0.000000</td>\n      <td>2.500000</td>\n      <td>44.500000</td>\n      <td>0.750000</td>\n      <td>84.968750</td>\n    </tr>\n    <tr>\n      <th>5</th>\n      <td>5</td>\n      <td>435.200000</td>\n      <td>0.200000</td>\n      <td>3.000000</td>\n      <td>39.200000</td>\n      <td>0.600000</td>\n      <td>32.550000</td>\n    </tr>\n    <tr>\n      <th>6</th>\n      <td>6</td>\n      <td>679.000000</td>\n      <td>0.000000</td>\n      <td>3.000000</td>\n      <td>43.000000</td>\n      <td>1.000000</td>\n      <td>46.900000</td>\n    </tr>\n  </tbody>\n</table>\n</div>"
     },
     "metadata": {},
     "execution_count": 4
    }
   ],
   "source": [
    "train.groupby(['Parch'], as_index=False).mean() "
   ]
  },
  {
   "source": [
    "역시 나이에서 꽤나 차이가 난다. 그리고 요금도 차이가 난다. 이 역시 나이 결측치를 채울 때 참고해야겠다."
   ],
   "cell_type": "markdown",
   "metadata": {}
  },
  {
   "source": [
    "## 종류로 분류되는 데이터 살펴보기\n",
    "<br>\n",
    "숫자로 표현되지 않는 정보들(성별, 객실 등)을 살펴보자"
   ],
   "cell_type": "markdown",
   "metadata": {}
  },
  {
   "source": [
    "### 이름 데이터\n",
    "<br>\n",
    "우선 이름 데이터들을 살펴보자."
   ],
   "cell_type": "markdown",
   "metadata": {}
  },
  {
   "cell_type": "code",
   "execution_count": 6,
   "metadata": {},
   "outputs": [
    {
     "output_type": "execute_result",
     "data": {
      "text/plain": [
       "0                                Braund, Mr. Owen Harris\n",
       "1      Cumings, Mrs. John Bradley (Florence Briggs Th...\n",
       "2                                 Heikkinen, Miss. Laina\n",
       "3           Futrelle, Mrs. Jacques Heath (Lily May Peel)\n",
       "4                               Allen, Mr. William Henry\n",
       "                             ...                        \n",
       "886                                Montvila, Rev. Juozas\n",
       "887                         Graham, Miss. Margaret Edith\n",
       "888             Johnston, Miss. Catherine Helen \"Carrie\"\n",
       "889                                Behr, Mr. Karl Howell\n",
       "890                                  Dooley, Mr. Patrick\n",
       "Name: Name, Length: 891, dtype: object"
      ]
     },
     "metadata": {},
     "execution_count": 6
    }
   ],
   "source": [
    "train['Name']"
   ]
  },
  {
   "source": [
    "이름을 보면 공통점이 있다. 바로 Mr. Mrs...등의 이름이 붙는다는 것이다. \n",
    "<br>\n",
    "이를 생존자 분류에 이용할 수 있지 않을까 싶다. 이름 데이터는 결측치가 없으니 후에 데이터 전처리할 때 처리해야겠다. "
   ],
   "cell_type": "markdown",
   "metadata": {}
  },
  {
   "source": [
    "### 티켓 데이터\n",
    "<br>\n",
    "티켓 데이터를 살펴보자. "
   ],
   "cell_type": "markdown",
   "metadata": {}
  },
  {
   "cell_type": "code",
   "execution_count": 19,
   "metadata": {},
   "outputs": [
    {
     "output_type": "execute_result",
     "data": {
      "text/plain": [
       "0             A/5 21171\n",
       "1              PC 17599\n",
       "2      STON/O2. 3101282\n",
       "3                113803\n",
       "4                373450\n",
       "             ...       \n",
       "886              211536\n",
       "887              112053\n",
       "888          W./C. 6607\n",
       "889              111369\n",
       "890              370376\n",
       "Name: Ticket, Length: 891, dtype: object"
      ]
     },
     "metadata": {},
     "execution_count": 19
    }
   ],
   "source": [
    "train['Ticket']"
   ]
  },
  {
   "source": [
    "티켓 데이터를 기준으로 생존자를 분류하기는 쉽지 않을거 같다. "
   ],
   "cell_type": "markdown",
   "metadata": {}
  },
  {
   "source": [
    "### 승객번호 데이터\n",
    "<br>\n",
    "승객번호 데이터를 살펴보자"
   ],
   "cell_type": "markdown",
   "metadata": {}
  },
  {
   "cell_type": "code",
   "execution_count": 20,
   "metadata": {},
   "outputs": [
    {
     "output_type": "execute_result",
     "data": {
      "text/plain": [
       "0        1\n",
       "1        2\n",
       "2        3\n",
       "3        4\n",
       "4        5\n",
       "      ... \n",
       "886    887\n",
       "887    888\n",
       "888    889\n",
       "889    890\n",
       "890    891\n",
       "Name: PassengerId, Length: 891, dtype: int64"
      ]
     },
     "metadata": {},
     "execution_count": 20
    }
   ],
   "source": [
    "train['PassengerId']"
   ]
  },
  {
   "source": [
    "그냥 index번호다. 이걸로도 생존자를 분류하기는 쉽지 않아보인다. "
   ],
   "cell_type": "markdown",
   "metadata": {}
  },
  {
   "source": [
    "### 성별 데이터\n",
    "<br>\n",
    "성별 데이터를 살펴보자"
   ],
   "cell_type": "markdown",
   "metadata": {}
  },
  {
   "cell_type": "code",
   "execution_count": 11,
   "metadata": {},
   "outputs": [
    {
     "output_type": "execute_result",
     "data": {
      "text/plain": [
       "male      577\n",
       "female    314\n",
       "Name: Sex, dtype: int64"
      ]
     },
     "metadata": {},
     "execution_count": 11
    }
   ],
   "source": [
    "train['Sex'].value_counts() # 전체 탑승객을 성별로 분류"
   ]
  },
  {
   "source": [
    "남자 승객이 더 많다는 사실을 알 수 있다.\n",
    "<br>\n",
    "이제 생존한 승객들을 살펴보자."
   ],
   "cell_type": "markdown",
   "metadata": {}
  },
  {
   "cell_type": "code",
   "execution_count": 12,
   "metadata": {},
   "outputs": [
    {
     "output_type": "execute_result",
     "data": {
      "text/plain": [
       "female    233\n",
       "male      109\n",
       "Name: Sex, dtype: int64"
      ]
     },
     "metadata": {},
     "execution_count": 12
    }
   ],
   "source": [
    "train[train['Survived']==1]['Sex'].value_counts() # 생존한 탑승객 카운트"
   ]
  },
  {
   "source": [
    "남자는 109/577 ~= 19%, 여자는 233/314 ~= 74%의 생존률을 보인다. 차이가 심하다. 생존자를 판별할 때 유용하게 사용할 수 있는 특성이라고 본다. 성별만 입력값으로 넣고 판단해도 꽤 높은 정확도를 보이지 않을까 싶을 정도다. \n",
    "<br>\n",
    "남성, 여성은 0,1 같은 이진수 값으로 처리하는게 좋을거 같다. 그래서 나중에 isMan, isWoman항목으로 바꿀거다."
   ],
   "cell_type": "markdown",
   "metadata": {}
  },
  {
   "source": [
    "### 출발 지점 데이터\n",
    "<br>\n",
    "출발 지점 데이터(Embarked)를 살펴보자"
   ],
   "cell_type": "markdown",
   "metadata": {}
  },
  {
   "cell_type": "code",
   "execution_count": 13,
   "metadata": {},
   "outputs": [
    {
     "output_type": "execute_result",
     "data": {
      "text/plain": [
       "S    644\n",
       "C    168\n",
       "Q     77\n",
       "Name: Embarked, dtype: int64"
      ]
     },
     "metadata": {},
     "execution_count": 13
    }
   ],
   "source": [
    "train['Embarked'].value_counts() "
   ]
  },
  {
   "source": [
    "S에서 탑승한 승객들이 많다. 이제 각 승객별 평균값을 살펴보자"
   ],
   "cell_type": "markdown",
   "metadata": {}
  },
  {
   "cell_type": "code",
   "execution_count": 14,
   "metadata": {},
   "outputs": [
    {
     "output_type": "execute_result",
     "data": {
      "text/plain": [
       "  Embarked  PassengerId  Survived    Pclass        Age     SibSp     Parch  \\\n",
       "0        C   445.357143  0.553571  1.886905  30.814769  0.386905  0.363095   \n",
       "1        Q   417.896104  0.389610  2.909091  28.089286  0.428571  0.168831   \n",
       "2        S   449.527950  0.336957  2.350932  29.445397  0.571429  0.413043   \n",
       "\n",
       "        Fare  \n",
       "0  59.954144  \n",
       "1  13.276030  \n",
       "2  27.079812  "
      ],
      "text/html": "<div>\n<style scoped>\n    .dataframe tbody tr th:only-of-type {\n        vertical-align: middle;\n    }\n\n    .dataframe tbody tr th {\n        vertical-align: top;\n    }\n\n    .dataframe thead th {\n        text-align: right;\n    }\n</style>\n<table border=\"1\" class=\"dataframe\">\n  <thead>\n    <tr style=\"text-align: right;\">\n      <th></th>\n      <th>Embarked</th>\n      <th>PassengerId</th>\n      <th>Survived</th>\n      <th>Pclass</th>\n      <th>Age</th>\n      <th>SibSp</th>\n      <th>Parch</th>\n      <th>Fare</th>\n    </tr>\n  </thead>\n  <tbody>\n    <tr>\n      <th>0</th>\n      <td>C</td>\n      <td>445.357143</td>\n      <td>0.553571</td>\n      <td>1.886905</td>\n      <td>30.814769</td>\n      <td>0.386905</td>\n      <td>0.363095</td>\n      <td>59.954144</td>\n    </tr>\n    <tr>\n      <th>1</th>\n      <td>Q</td>\n      <td>417.896104</td>\n      <td>0.389610</td>\n      <td>2.909091</td>\n      <td>28.089286</td>\n      <td>0.428571</td>\n      <td>0.168831</td>\n      <td>13.276030</td>\n    </tr>\n    <tr>\n      <th>2</th>\n      <td>S</td>\n      <td>449.527950</td>\n      <td>0.336957</td>\n      <td>2.350932</td>\n      <td>29.445397</td>\n      <td>0.571429</td>\n      <td>0.413043</td>\n      <td>27.079812</td>\n    </tr>\n  </tbody>\n</table>\n</div>"
     },
     "metadata": {},
     "execution_count": 14
    }
   ],
   "source": [
    "train.groupby(['Embarked'], as_index=False).mean() "
   ]
  },
  {
   "source": [
    "요금에서 차이가 많이 난다. 그런데 평균 객실 등급을 보아 C에서 탑승한 승객들 중 1등급 객실에 탑승한 사람들의 비율이 높아서 그런게 아닐까 추측해본다. "
   ],
   "cell_type": "markdown",
   "metadata": {}
  },
  {
   "source": [
    "### 객실 데이터\n",
    "<br>\n",
    "객실 데이터를 살펴보자"
   ],
   "cell_type": "markdown",
   "metadata": {}
  },
  {
   "cell_type": "code",
   "execution_count": 15,
   "metadata": {},
   "outputs": [
    {
     "output_type": "execute_result",
     "data": {
      "text/plain": [
       "G6             4\n",
       "C23 C25 C27    4\n",
       "B96 B98        4\n",
       "D              3\n",
       "C22 C26        3\n",
       "              ..\n",
       "D6             1\n",
       "E58            1\n",
       "E10            1\n",
       "F38            1\n",
       "C32            1\n",
       "Name: Cabin, Length: 147, dtype: int64"
      ]
     },
     "metadata": {},
     "execution_count": 15
    }
   ],
   "source": [
    "train['Cabin'].value_counts()"
   ]
  },
  {
   "source": [
    "종류가 엄청 많다. 2개 이상의 객실이 적힌 자료도 있다는 사실을 알 수 있다. \n",
    "<br>\n",
    "이상태로는 사용하기 힘든 종류의 데이터라 판단된다.\n",
    "<br>\n",
    "<br>\n",
    "데이터를 전체적으로 둘러보았다. 이제 결측치를 채우며 데이터를 더 자세히 관찰하는 시간을 가져보자"
   ],
   "cell_type": "markdown",
   "metadata": {}
  },
  {
   "source": [
    "# 2. 결측치 채우기"
   ],
   "cell_type": "markdown",
   "metadata": {}
  },
  {
   "source": [
    "결측치를 채워보자. 우리가 결측치를 채워야할 데이터는 훈련 데이터는 'Age', 'Cabin', 'Embarked'고 테스트 데이터는 'Age', 'Fare', 'Cabin' 항목이다."
   ],
   "cell_type": "markdown",
   "metadata": {}
  },
  {
   "source": [
    "## 2-1. 출발지점 결측치 채우기\n",
    "<br>\n",
    "우선 train의 출발지점(Embarked) 정보부터 채워보도록 하자. 출발지점이 누락된 승객은 2명밖에 없다.\n",
    "<br>\n",
    "이들의 정보를 살펴보자\n"
   ],
   "cell_type": "markdown",
   "metadata": {}
  },
  {
   "cell_type": "code",
   "execution_count": 16,
   "metadata": {},
   "outputs": [
    {
     "output_type": "execute_result",
     "data": {
      "text/plain": [
       "     PassengerId  Survived  Pclass                                       Name  \\\n",
       "61            62         1       1                        Icard, Miss. Amelie   \n",
       "829          830         1       1  Stone, Mrs. George Nelson (Martha Evelyn)   \n",
       "\n",
       "        Sex   Age  SibSp  Parch  Ticket  Fare Cabin Embarked  \n",
       "61   female  38.0      0      0  113572  80.0   B28      NaN  \n",
       "829  female  62.0      0      0  113572  80.0   B28      NaN  "
      ],
      "text/html": "<div>\n<style scoped>\n    .dataframe tbody tr th:only-of-type {\n        vertical-align: middle;\n    }\n\n    .dataframe tbody tr th {\n        vertical-align: top;\n    }\n\n    .dataframe thead th {\n        text-align: right;\n    }\n</style>\n<table border=\"1\" class=\"dataframe\">\n  <thead>\n    <tr style=\"text-align: right;\">\n      <th></th>\n      <th>PassengerId</th>\n      <th>Survived</th>\n      <th>Pclass</th>\n      <th>Name</th>\n      <th>Sex</th>\n      <th>Age</th>\n      <th>SibSp</th>\n      <th>Parch</th>\n      <th>Ticket</th>\n      <th>Fare</th>\n      <th>Cabin</th>\n      <th>Embarked</th>\n    </tr>\n  </thead>\n  <tbody>\n    <tr>\n      <th>61</th>\n      <td>62</td>\n      <td>1</td>\n      <td>1</td>\n      <td>Icard, Miss. Amelie</td>\n      <td>female</td>\n      <td>38.0</td>\n      <td>0</td>\n      <td>0</td>\n      <td>113572</td>\n      <td>80.0</td>\n      <td>B28</td>\n      <td>NaN</td>\n    </tr>\n    <tr>\n      <th>829</th>\n      <td>830</td>\n      <td>1</td>\n      <td>1</td>\n      <td>Stone, Mrs. George Nelson (Martha Evelyn)</td>\n      <td>female</td>\n      <td>62.0</td>\n      <td>0</td>\n      <td>0</td>\n      <td>113572</td>\n      <td>80.0</td>\n      <td>B28</td>\n      <td>NaN</td>\n    </tr>\n  </tbody>\n</table>\n</div>"
     },
     "metadata": {},
     "execution_count": 16
    }
   ],
   "source": [
    " train[train['Embarked'].isna()]"
   ]
  },
  {
   "source": [
    "두 명 모두 1등급 객실을 사용했고 생존에 성공했고 동행한 형제/자매나 배우자가 없으며 부모/자식과도 같이 동행하지 않았음을 알 수 있다. \n",
    "<br>\n",
    "그런데 같은 객실을 사용한 것으로 보아 어떠한 인연이 있던게 아닌가 추측된다. "
   ],
   "cell_type": "markdown",
   "metadata": {}
  },
  {
   "source": [
    "결측치를 채우기 위해 동행인 없이 'B'가 객실 정보에 들어있는 1등급 객실 승객들을 살펴보자"
   ],
   "cell_type": "markdown",
   "metadata": {}
  },
  {
   "cell_type": "code",
   "execution_count": 17,
   "metadata": {},
   "outputs": [
    {
     "output_type": "execute_result",
     "data": {
      "text/plain": [
       "  Embarked        Fare\n",
       "0        C  115.974533\n",
       "1        S   59.944318"
      ],
      "text/html": "<div>\n<style scoped>\n    .dataframe tbody tr th:only-of-type {\n        vertical-align: middle;\n    }\n\n    .dataframe tbody tr th {\n        vertical-align: top;\n    }\n\n    .dataframe thead th {\n        text-align: right;\n    }\n</style>\n<table border=\"1\" class=\"dataframe\">\n  <thead>\n    <tr style=\"text-align: right;\">\n      <th></th>\n      <th>Embarked</th>\n      <th>Fare</th>\n    </tr>\n  </thead>\n  <tbody>\n    <tr>\n      <th>0</th>\n      <td>C</td>\n      <td>115.974533</td>\n    </tr>\n    <tr>\n      <th>1</th>\n      <td>S</td>\n      <td>59.944318</td>\n    </tr>\n  </tbody>\n</table>\n</div>"
     },
     "metadata": {},
     "execution_count": 17
    }
   ],
   "source": [
    "train[(train['Pclass']==1) & (train['Cabin'].str.contains(\"B\") == True) & (train['Parch']==0) & (train['SibSp']==0)].groupby(['Embarked'], as_index=False)['Fare'].mean()"
   ]
  },
  {
   "source": [
    "차이가 많이 난다. 115.97453 - 80 = 35.97453이고 80 - 59.944318 ~= 20이므로 비교적 더 가까운 S에서 출발했다고 가정하자."
   ],
   "cell_type": "markdown",
   "metadata": {}
  },
  {
   "cell_type": "code",
   "execution_count": 7,
   "metadata": {},
   "outputs": [],
   "source": [
    "train['Embarked'].fillna('S', inplace=True) # 결측치를 S로 채웠다. "
   ]
  },
  {
   "source": [
    "## 2-2. 객실 결측치 채우기\n",
    "<br>\n",
    "이제 가장 결측치가 많은 'Cabin' 특성을 채우자. 앞서 확인했듯 객실종류가 굉장히 많았다. B20, C27, F 등등...\n",
    "<br>\n",
    "그러나 이들 데이터가 갖고 있는 공통점이 있다. 바로 숫자 앞에 있는 알파벳이다. 숫자의 공통점 보다는 영어의 공통점을 더 많이 발견할 수 있었다.\n",
    "<br>\n",
    "고로 나는 데이터의 원활한 분류를 위해 객실 데이터를 앞의 영어만 남겨놓고 다 지울거다."
   ],
   "cell_type": "markdown",
   "metadata": {}
  },
  {
   "cell_type": "code",
   "execution_count": 8,
   "metadata": {},
   "outputs": [],
   "source": [
    "# 객실 번호를 영어만 남겨놓기\n",
    "train['Cabin'] = train['Cabin'].str[0]\n",
    "test['Cabin'] = test['Cabin'].str[0]"
   ]
  },
  {
   "source": [
    "앞에 알파벳만 남겨진 객실 데이터 자료를 살펴보자"
   ],
   "cell_type": "markdown",
   "metadata": {}
  },
  {
   "cell_type": "code",
   "execution_count": 20,
   "metadata": {},
   "outputs": [
    {
     "output_type": "execute_result",
     "data": {
      "text/plain": [
       "C    59\n",
       "B    47\n",
       "D    33\n",
       "E    32\n",
       "A    15\n",
       "F    13\n",
       "G     4\n",
       "T     1\n",
       "Name: Cabin, dtype: int64"
      ]
     },
     "metadata": {},
     "execution_count": 20
    }
   ],
   "source": [
    "train['Cabin'].value_counts()"
   ]
  },
  {
   "source": [
    "깔끔하게 분류된다. 이제 객실 등급별로 데이터를 살펴보자"
   ],
   "cell_type": "markdown",
   "metadata": {}
  },
  {
   "cell_type": "code",
   "execution_count": 21,
   "metadata": {},
   "outputs": [
    {
     "output_type": "execute_result",
     "data": {
      "text/plain": [
       "  Cabin  PassengerId  Survived  Pclass        Age     SibSp     Parch  \\\n",
       "0     A   439.600000  0.466667     1.0  44.833333  0.133333  0.133333   \n",
       "1     B   521.808511  0.744681     1.0  34.955556  0.361702  0.574468   \n",
       "2     C   406.440678  0.593220     1.0  36.086667  0.644068  0.474576   \n",
       "3     D   503.068966  0.758621     1.0  40.037037  0.482759  0.344828   \n",
       "4     E   486.120000  0.720000     1.0  40.083333  0.400000  0.320000   \n",
       "5     T   340.000000  0.000000     1.0  45.000000  0.000000  0.000000   \n",
       "\n",
       "         Fare  \n",
       "0   39.623887  \n",
       "1  113.505764  \n",
       "2  100.151341  \n",
       "3   63.324286  \n",
       "4   55.740168  \n",
       "5   35.500000  "
      ],
      "text/html": "<div>\n<style scoped>\n    .dataframe tbody tr th:only-of-type {\n        vertical-align: middle;\n    }\n\n    .dataframe tbody tr th {\n        vertical-align: top;\n    }\n\n    .dataframe thead th {\n        text-align: right;\n    }\n</style>\n<table border=\"1\" class=\"dataframe\">\n  <thead>\n    <tr style=\"text-align: right;\">\n      <th></th>\n      <th>Cabin</th>\n      <th>PassengerId</th>\n      <th>Survived</th>\n      <th>Pclass</th>\n      <th>Age</th>\n      <th>SibSp</th>\n      <th>Parch</th>\n      <th>Fare</th>\n    </tr>\n  </thead>\n  <tbody>\n    <tr>\n      <th>0</th>\n      <td>A</td>\n      <td>439.600000</td>\n      <td>0.466667</td>\n      <td>1.0</td>\n      <td>44.833333</td>\n      <td>0.133333</td>\n      <td>0.133333</td>\n      <td>39.623887</td>\n    </tr>\n    <tr>\n      <th>1</th>\n      <td>B</td>\n      <td>521.808511</td>\n      <td>0.744681</td>\n      <td>1.0</td>\n      <td>34.955556</td>\n      <td>0.361702</td>\n      <td>0.574468</td>\n      <td>113.505764</td>\n    </tr>\n    <tr>\n      <th>2</th>\n      <td>C</td>\n      <td>406.440678</td>\n      <td>0.593220</td>\n      <td>1.0</td>\n      <td>36.086667</td>\n      <td>0.644068</td>\n      <td>0.474576</td>\n      <td>100.151341</td>\n    </tr>\n    <tr>\n      <th>3</th>\n      <td>D</td>\n      <td>503.068966</td>\n      <td>0.758621</td>\n      <td>1.0</td>\n      <td>40.037037</td>\n      <td>0.482759</td>\n      <td>0.344828</td>\n      <td>63.324286</td>\n    </tr>\n    <tr>\n      <th>4</th>\n      <td>E</td>\n      <td>486.120000</td>\n      <td>0.720000</td>\n      <td>1.0</td>\n      <td>40.083333</td>\n      <td>0.400000</td>\n      <td>0.320000</td>\n      <td>55.740168</td>\n    </tr>\n    <tr>\n      <th>5</th>\n      <td>T</td>\n      <td>340.000000</td>\n      <td>0.000000</td>\n      <td>1.0</td>\n      <td>45.000000</td>\n      <td>0.000000</td>\n      <td>0.000000</td>\n      <td>35.500000</td>\n    </tr>\n  </tbody>\n</table>\n</div>"
     },
     "metadata": {},
     "execution_count": 21
    }
   ],
   "source": [
    "train[train['Pclass'] == 1].groupby(['Cabin'], as_index=False).mean()"
   ]
  },
  {
   "cell_type": "code",
   "execution_count": 22,
   "metadata": {},
   "outputs": [
    {
     "output_type": "execute_result",
     "data": {
      "text/plain": [
       "  Cabin  PassengerId  Survived  Pclass        Age  SibSp  Parch       Fare\n",
       "0     D      279.250     0.750     2.0  32.250000   0.00   0.00  13.166675\n",
       "1     E      479.750     0.750     2.0  38.833333   0.00   0.00  11.587500\n",
       "2     F      302.125     0.875     2.0  16.687500   0.75   0.75  23.750000"
      ],
      "text/html": "<div>\n<style scoped>\n    .dataframe tbody tr th:only-of-type {\n        vertical-align: middle;\n    }\n\n    .dataframe tbody tr th {\n        vertical-align: top;\n    }\n\n    .dataframe thead th {\n        text-align: right;\n    }\n</style>\n<table border=\"1\" class=\"dataframe\">\n  <thead>\n    <tr style=\"text-align: right;\">\n      <th></th>\n      <th>Cabin</th>\n      <th>PassengerId</th>\n      <th>Survived</th>\n      <th>Pclass</th>\n      <th>Age</th>\n      <th>SibSp</th>\n      <th>Parch</th>\n      <th>Fare</th>\n    </tr>\n  </thead>\n  <tbody>\n    <tr>\n      <th>0</th>\n      <td>D</td>\n      <td>279.250</td>\n      <td>0.750</td>\n      <td>2.0</td>\n      <td>32.250000</td>\n      <td>0.00</td>\n      <td>0.00</td>\n      <td>13.166675</td>\n    </tr>\n    <tr>\n      <th>1</th>\n      <td>E</td>\n      <td>479.750</td>\n      <td>0.750</td>\n      <td>2.0</td>\n      <td>38.833333</td>\n      <td>0.00</td>\n      <td>0.00</td>\n      <td>11.587500</td>\n    </tr>\n    <tr>\n      <th>2</th>\n      <td>F</td>\n      <td>302.125</td>\n      <td>0.875</td>\n      <td>2.0</td>\n      <td>16.687500</td>\n      <td>0.75</td>\n      <td>0.75</td>\n      <td>23.750000</td>\n    </tr>\n  </tbody>\n</table>\n</div>"
     },
     "metadata": {},
     "execution_count": 22
    }
   ],
   "source": [
    "train[train['Pclass'] == 2].groupby(['Cabin'], as_index=False).mean()"
   ]
  },
  {
   "cell_type": "code",
   "execution_count": 23,
   "metadata": {},
   "outputs": [
    {
     "output_type": "execute_result",
     "data": {
      "text/plain": [
       "  Cabin  PassengerId  Survived  Pclass        Age  SibSp     Parch      Fare\n",
       "0     E   668.666667       1.0     3.0  21.666667    0.0  0.666667  11.00000\n",
       "1     F   479.600000       0.2     3.0  28.666667    0.2  0.200000  10.61166\n",
       "2     G   216.000000       0.5     3.0  14.750000    0.5  1.250000  13.58125"
      ],
      "text/html": "<div>\n<style scoped>\n    .dataframe tbody tr th:only-of-type {\n        vertical-align: middle;\n    }\n\n    .dataframe tbody tr th {\n        vertical-align: top;\n    }\n\n    .dataframe thead th {\n        text-align: right;\n    }\n</style>\n<table border=\"1\" class=\"dataframe\">\n  <thead>\n    <tr style=\"text-align: right;\">\n      <th></th>\n      <th>Cabin</th>\n      <th>PassengerId</th>\n      <th>Survived</th>\n      <th>Pclass</th>\n      <th>Age</th>\n      <th>SibSp</th>\n      <th>Parch</th>\n      <th>Fare</th>\n    </tr>\n  </thead>\n  <tbody>\n    <tr>\n      <th>0</th>\n      <td>E</td>\n      <td>668.666667</td>\n      <td>1.0</td>\n      <td>3.0</td>\n      <td>21.666667</td>\n      <td>0.0</td>\n      <td>0.666667</td>\n      <td>11.00000</td>\n    </tr>\n    <tr>\n      <th>1</th>\n      <td>F</td>\n      <td>479.600000</td>\n      <td>0.2</td>\n      <td>3.0</td>\n      <td>28.666667</td>\n      <td>0.2</td>\n      <td>0.200000</td>\n      <td>10.61166</td>\n    </tr>\n    <tr>\n      <th>2</th>\n      <td>G</td>\n      <td>216.000000</td>\n      <td>0.5</td>\n      <td>3.0</td>\n      <td>14.750000</td>\n      <td>0.5</td>\n      <td>1.250000</td>\n      <td>13.58125</td>\n    </tr>\n  </tbody>\n</table>\n</div>"
     },
     "metadata": {},
     "execution_count": 23
    }
   ],
   "source": [
    "train[train['Pclass'] == 3].groupby(['Cabin'], as_index=False).mean()"
   ]
  },
  {
   "source": [
    "같은 객실 등급일 때, 객실 종류별로 가격이 다르다. \n",
    "<br>\n",
    "이제 같은 출발지점, 객실 종류일 때 출발지점 별로 평균 요금 차이를 살펴보자. 다 살펴보면 너무 많으니  1등급 'C' 객실 승객에 대해서만 살펴보자"
   ],
   "cell_type": "markdown",
   "metadata": {}
  },
  {
   "cell_type": "code",
   "execution_count": 24,
   "metadata": {},
   "outputs": [
    {
     "output_type": "execute_result",
     "data": {
      "text/plain": [
       "  Embarked  PassengerId  Survived  Pclass        Age     SibSp     Parch  \\\n",
       "0        C   531.238095  0.666667     1.0  33.842105  0.428571  0.380952   \n",
       "1        Q   329.500000  0.500000     1.0  38.500000  1.500000  0.000000   \n",
       "2        S   337.916667  0.555556     1.0  37.347333  0.722222  0.555556   \n",
       "\n",
       "         Fare  \n",
       "0   98.582533  \n",
       "1   90.000000  \n",
       "2  101.630442  "
      ],
      "text/html": "<div>\n<style scoped>\n    .dataframe tbody tr th:only-of-type {\n        vertical-align: middle;\n    }\n\n    .dataframe tbody tr th {\n        vertical-align: top;\n    }\n\n    .dataframe thead th {\n        text-align: right;\n    }\n</style>\n<table border=\"1\" class=\"dataframe\">\n  <thead>\n    <tr style=\"text-align: right;\">\n      <th></th>\n      <th>Embarked</th>\n      <th>PassengerId</th>\n      <th>Survived</th>\n      <th>Pclass</th>\n      <th>Age</th>\n      <th>SibSp</th>\n      <th>Parch</th>\n      <th>Fare</th>\n    </tr>\n  </thead>\n  <tbody>\n    <tr>\n      <th>0</th>\n      <td>C</td>\n      <td>531.238095</td>\n      <td>0.666667</td>\n      <td>1.0</td>\n      <td>33.842105</td>\n      <td>0.428571</td>\n      <td>0.380952</td>\n      <td>98.582533</td>\n    </tr>\n    <tr>\n      <th>1</th>\n      <td>Q</td>\n      <td>329.500000</td>\n      <td>0.500000</td>\n      <td>1.0</td>\n      <td>38.500000</td>\n      <td>1.500000</td>\n      <td>0.000000</td>\n      <td>90.000000</td>\n    </tr>\n    <tr>\n      <th>2</th>\n      <td>S</td>\n      <td>337.916667</td>\n      <td>0.555556</td>\n      <td>1.0</td>\n      <td>37.347333</td>\n      <td>0.722222</td>\n      <td>0.555556</td>\n      <td>101.630442</td>\n    </tr>\n  </tbody>\n</table>\n</div>"
     },
     "metadata": {},
     "execution_count": 24
    }
   ],
   "source": [
    "train[(train['Pclass'] == 1) & (train['Cabin'] == 'C')].groupby(['Embarked'], as_index=False).mean()"
   ]
  },
  {
   "source": [
    "요금 차이가 난다는 사실을 알 수 있다. 이제 'S'에서 탑승한 1등급 객실 승객의 객실 종류별 평균 데이터를 살펴보자"
   ],
   "cell_type": "markdown",
   "metadata": {}
  },
  {
   "cell_type": "code",
   "execution_count": 25,
   "metadata": {},
   "outputs": [
    {
     "output_type": "execute_result",
     "data": {
      "text/plain": [
       "  Cabin  PassengerId  Survived  Pclass        Age     SibSp     Parch  \\\n",
       "0     A   465.375000  0.375000     1.0  36.400000  0.000000  0.250000   \n",
       "1     B   613.320000  0.720000     1.0  34.500000  0.360000  0.560000   \n",
       "2     C   337.916667  0.555556     1.0  37.347333  0.722222  0.555556   \n",
       "3     D   564.722222  0.666667     1.0  39.000000  0.388889  0.388889   \n",
       "4     E   498.900000  0.650000     1.0  41.421053  0.350000  0.300000   \n",
       "5     T   340.000000  0.000000     1.0  45.000000  0.000000  0.000000   \n",
       "\n",
       "         Fare  \n",
       "0   40.731763  \n",
       "1   84.942500  \n",
       "2  101.630442  \n",
       "3   49.719906  \n",
       "4   46.448750  \n",
       "5   35.500000  "
      ],
      "text/html": "<div>\n<style scoped>\n    .dataframe tbody tr th:only-of-type {\n        vertical-align: middle;\n    }\n\n    .dataframe tbody tr th {\n        vertical-align: top;\n    }\n\n    .dataframe thead th {\n        text-align: right;\n    }\n</style>\n<table border=\"1\" class=\"dataframe\">\n  <thead>\n    <tr style=\"text-align: right;\">\n      <th></th>\n      <th>Cabin</th>\n      <th>PassengerId</th>\n      <th>Survived</th>\n      <th>Pclass</th>\n      <th>Age</th>\n      <th>SibSp</th>\n      <th>Parch</th>\n      <th>Fare</th>\n    </tr>\n  </thead>\n  <tbody>\n    <tr>\n      <th>0</th>\n      <td>A</td>\n      <td>465.375000</td>\n      <td>0.375000</td>\n      <td>1.0</td>\n      <td>36.400000</td>\n      <td>0.000000</td>\n      <td>0.250000</td>\n      <td>40.731763</td>\n    </tr>\n    <tr>\n      <th>1</th>\n      <td>B</td>\n      <td>613.320000</td>\n      <td>0.720000</td>\n      <td>1.0</td>\n      <td>34.500000</td>\n      <td>0.360000</td>\n      <td>0.560000</td>\n      <td>84.942500</td>\n    </tr>\n    <tr>\n      <th>2</th>\n      <td>C</td>\n      <td>337.916667</td>\n      <td>0.555556</td>\n      <td>1.0</td>\n      <td>37.347333</td>\n      <td>0.722222</td>\n      <td>0.555556</td>\n      <td>101.630442</td>\n    </tr>\n    <tr>\n      <th>3</th>\n      <td>D</td>\n      <td>564.722222</td>\n      <td>0.666667</td>\n      <td>1.0</td>\n      <td>39.000000</td>\n      <td>0.388889</td>\n      <td>0.388889</td>\n      <td>49.719906</td>\n    </tr>\n    <tr>\n      <th>4</th>\n      <td>E</td>\n      <td>498.900000</td>\n      <td>0.650000</td>\n      <td>1.0</td>\n      <td>41.421053</td>\n      <td>0.350000</td>\n      <td>0.300000</td>\n      <td>46.448750</td>\n    </tr>\n    <tr>\n      <th>5</th>\n      <td>T</td>\n      <td>340.000000</td>\n      <td>0.000000</td>\n      <td>1.0</td>\n      <td>45.000000</td>\n      <td>0.000000</td>\n      <td>0.000000</td>\n      <td>35.500000</td>\n    </tr>\n  </tbody>\n</table>\n</div>"
     },
     "metadata": {},
     "execution_count": 25
    }
   ],
   "source": [
    "train[(train['Pclass'] == 1) & (train['Embarked'] == 'S')].groupby(['Cabin'], as_index=False).mean()"
   ]
  },
  {
   "source": [
    "앞서 동행한 사람의 여부에 따라서도 요금에 차이가 났다는 사실을 확인하였다. 같은 종류, 등급의 객실이고 같은 지점에서 출발했을 때 동행한 사람 별로 요금 차이가 얼마나 나는지 알아보자.\n",
    "<br>\n",
    "앞서 했듯 가장 표본이 많은 'C' 객실에 대해서만 알아보자"
   ],
   "cell_type": "markdown",
   "metadata": {}
  },
  {
   "cell_type": "code",
   "execution_count": 26,
   "metadata": {},
   "outputs": [
    {
     "output_type": "execute_result",
     "data": {
      "text/plain": [
       "   SibSp  PassengerId  Survived  Pclass        Age     Parch        Fare\n",
       "0      0   342.941176  0.529412     1.0  45.791667  0.235294   78.315688\n",
       "1      1   353.600000  0.533333     1.0  32.280000  0.666667   99.123333\n",
       "2      2   572.000000  1.000000     1.0  53.000000  0.000000   51.479200\n",
       "3      3   153.000000  0.666667     1.0  22.000000  2.000000  263.000000"
      ],
      "text/html": "<div>\n<style scoped>\n    .dataframe tbody tr th:only-of-type {\n        vertical-align: middle;\n    }\n\n    .dataframe tbody tr th {\n        vertical-align: top;\n    }\n\n    .dataframe thead th {\n        text-align: right;\n    }\n</style>\n<table border=\"1\" class=\"dataframe\">\n  <thead>\n    <tr style=\"text-align: right;\">\n      <th></th>\n      <th>SibSp</th>\n      <th>PassengerId</th>\n      <th>Survived</th>\n      <th>Pclass</th>\n      <th>Age</th>\n      <th>Parch</th>\n      <th>Fare</th>\n    </tr>\n  </thead>\n  <tbody>\n    <tr>\n      <th>0</th>\n      <td>0</td>\n      <td>342.941176</td>\n      <td>0.529412</td>\n      <td>1.0</td>\n      <td>45.791667</td>\n      <td>0.235294</td>\n      <td>78.315688</td>\n    </tr>\n    <tr>\n      <th>1</th>\n      <td>1</td>\n      <td>353.600000</td>\n      <td>0.533333</td>\n      <td>1.0</td>\n      <td>32.280000</td>\n      <td>0.666667</td>\n      <td>99.123333</td>\n    </tr>\n    <tr>\n      <th>2</th>\n      <td>2</td>\n      <td>572.000000</td>\n      <td>1.000000</td>\n      <td>1.0</td>\n      <td>53.000000</td>\n      <td>0.000000</td>\n      <td>51.479200</td>\n    </tr>\n    <tr>\n      <th>3</th>\n      <td>3</td>\n      <td>153.000000</td>\n      <td>0.666667</td>\n      <td>1.0</td>\n      <td>22.000000</td>\n      <td>2.000000</td>\n      <td>263.000000</td>\n    </tr>\n  </tbody>\n</table>\n</div>"
     },
     "metadata": {},
     "execution_count": 26
    }
   ],
   "source": [
    "train[(train['Pclass'] == 1) & (train['Embarked'] == 'S') & (train['Cabin'] == 'C')].groupby(['SibSp'], as_index=False).mean()"
   ]
  },
  {
   "cell_type": "code",
   "execution_count": 27,
   "metadata": {},
   "outputs": [
    {
     "output_type": "execute_result",
     "data": {
      "text/plain": [
       "   Parch  PassengerId  Survived  Pclass        Age     SibSp        Fare\n",
       "0      0   355.500000  0.576923     1.0  41.775000  0.500000   64.625162\n",
       "1      1   301.000000  0.500000     1.0  48.000000  0.000000  153.462500\n",
       "2      2   268.714286  0.571429     1.0  17.845714  1.714286  201.216671\n",
       "3      4   439.000000  0.000000     1.0  64.000000  1.000000  263.000000"
      ],
      "text/html": "<div>\n<style scoped>\n    .dataframe tbody tr th:only-of-type {\n        vertical-align: middle;\n    }\n\n    .dataframe tbody tr th {\n        vertical-align: top;\n    }\n\n    .dataframe thead th {\n        text-align: right;\n    }\n</style>\n<table border=\"1\" class=\"dataframe\">\n  <thead>\n    <tr style=\"text-align: right;\">\n      <th></th>\n      <th>Parch</th>\n      <th>PassengerId</th>\n      <th>Survived</th>\n      <th>Pclass</th>\n      <th>Age</th>\n      <th>SibSp</th>\n      <th>Fare</th>\n    </tr>\n  </thead>\n  <tbody>\n    <tr>\n      <th>0</th>\n      <td>0</td>\n      <td>355.500000</td>\n      <td>0.576923</td>\n      <td>1.0</td>\n      <td>41.775000</td>\n      <td>0.500000</td>\n      <td>64.625162</td>\n    </tr>\n    <tr>\n      <th>1</th>\n      <td>1</td>\n      <td>301.000000</td>\n      <td>0.500000</td>\n      <td>1.0</td>\n      <td>48.000000</td>\n      <td>0.000000</td>\n      <td>153.462500</td>\n    </tr>\n    <tr>\n      <th>2</th>\n      <td>2</td>\n      <td>268.714286</td>\n      <td>0.571429</td>\n      <td>1.0</td>\n      <td>17.845714</td>\n      <td>1.714286</td>\n      <td>201.216671</td>\n    </tr>\n    <tr>\n      <th>3</th>\n      <td>4</td>\n      <td>439.000000</td>\n      <td>0.000000</td>\n      <td>1.0</td>\n      <td>64.000000</td>\n      <td>1.000000</td>\n      <td>263.000000</td>\n    </tr>\n  </tbody>\n</table>\n</div>"
     },
     "metadata": {},
     "execution_count": 27
    }
   ],
   "source": [
    "train[(train['Pclass'] == 1) & (train['Embarked'] == 'S') & (train['Cabin'] == 'C')].groupby(['Parch'], as_index=False).mean()"
   ]
  },
  {
   "source": [
    "요금 차이가 꽤 많이 난다. 그런데 이들을 다 고려해 객실 결측치를 채우자니 너무 복잡해지고 Parch와 SibSp모두 1 이상의 값(예 : 가족 여행)일 때는 난감해지는 상황이 발생한다.\n",
    "<br>\n",
    "그래서 SibSp와 Parch를 합한 동행 숫자 'Accompany_num'이라는 특성을 만들거다. 'Accompany_num' = 'Sibsp' + 'Parch'가 되는 것."
   ],
   "cell_type": "markdown",
   "metadata": {}
  },
  {
   "cell_type": "code",
   "execution_count": 9,
   "metadata": {},
   "outputs": [],
   "source": [
    "train['Accompany_num'] = train['SibSp'] + train['Parch']\n",
    "test['Accompany_num'] = test['SibSp'] + test['Parch']\n",
    "\n",
    "train.drop('SibSp', axis=1, inplace=True)\n",
    "train.drop('Parch', axis=1, inplace=True)\n",
    "\n",
    "test.drop('SibSp', axis=1, inplace=True)\n",
    "test.drop('Parch', axis=1, inplace=True)"
   ]
  },
  {
   "source": [
    "데이터를 확인해본다"
   ],
   "cell_type": "markdown",
   "metadata": {}
  },
  {
   "cell_type": "code",
   "execution_count": 10,
   "metadata": {},
   "outputs": [
    {
     "output_type": "execute_result",
     "data": {
      "text/plain": [
       "     PassengerId  Survived  Pclass  \\\n",
       "0              1         0       3   \n",
       "1              2         1       1   \n",
       "2              3         1       3   \n",
       "3              4         1       1   \n",
       "4              5         0       3   \n",
       "..           ...       ...     ...   \n",
       "886          887         0       2   \n",
       "887          888         1       1   \n",
       "888          889         0       3   \n",
       "889          890         1       1   \n",
       "890          891         0       3   \n",
       "\n",
       "                                                  Name     Sex   Age  \\\n",
       "0                              Braund, Mr. Owen Harris    male  22.0   \n",
       "1    Cumings, Mrs. John Bradley (Florence Briggs Th...  female  38.0   \n",
       "2                               Heikkinen, Miss. Laina  female  26.0   \n",
       "3         Futrelle, Mrs. Jacques Heath (Lily May Peel)  female  35.0   \n",
       "4                             Allen, Mr. William Henry    male  35.0   \n",
       "..                                                 ...     ...   ...   \n",
       "886                              Montvila, Rev. Juozas    male  27.0   \n",
       "887                       Graham, Miss. Margaret Edith  female  19.0   \n",
       "888           Johnston, Miss. Catherine Helen \"Carrie\"  female   NaN   \n",
       "889                              Behr, Mr. Karl Howell    male  26.0   \n",
       "890                                Dooley, Mr. Patrick    male  32.0   \n",
       "\n",
       "               Ticket     Fare Cabin Embarked  Accompany_num  \n",
       "0           A/5 21171   7.2500   NaN        S              1  \n",
       "1            PC 17599  71.2833     C        C              1  \n",
       "2    STON/O2. 3101282   7.9250   NaN        S              0  \n",
       "3              113803  53.1000     C        S              1  \n",
       "4              373450   8.0500   NaN        S              0  \n",
       "..                ...      ...   ...      ...            ...  \n",
       "886            211536  13.0000   NaN        S              0  \n",
       "887            112053  30.0000     B        S              0  \n",
       "888        W./C. 6607  23.4500   NaN        S              3  \n",
       "889            111369  30.0000     C        C              0  \n",
       "890            370376   7.7500   NaN        Q              0  \n",
       "\n",
       "[891 rows x 11 columns]"
      ],
      "text/html": "<div>\n<style scoped>\n    .dataframe tbody tr th:only-of-type {\n        vertical-align: middle;\n    }\n\n    .dataframe tbody tr th {\n        vertical-align: top;\n    }\n\n    .dataframe thead th {\n        text-align: right;\n    }\n</style>\n<table border=\"1\" class=\"dataframe\">\n  <thead>\n    <tr style=\"text-align: right;\">\n      <th></th>\n      <th>PassengerId</th>\n      <th>Survived</th>\n      <th>Pclass</th>\n      <th>Name</th>\n      <th>Sex</th>\n      <th>Age</th>\n      <th>Ticket</th>\n      <th>Fare</th>\n      <th>Cabin</th>\n      <th>Embarked</th>\n      <th>Accompany_num</th>\n    </tr>\n  </thead>\n  <tbody>\n    <tr>\n      <th>0</th>\n      <td>1</td>\n      <td>0</td>\n      <td>3</td>\n      <td>Braund, Mr. Owen Harris</td>\n      <td>male</td>\n      <td>22.0</td>\n      <td>A/5 21171</td>\n      <td>7.2500</td>\n      <td>NaN</td>\n      <td>S</td>\n      <td>1</td>\n    </tr>\n    <tr>\n      <th>1</th>\n      <td>2</td>\n      <td>1</td>\n      <td>1</td>\n      <td>Cumings, Mrs. John Bradley (Florence Briggs Th...</td>\n      <td>female</td>\n      <td>38.0</td>\n      <td>PC 17599</td>\n      <td>71.2833</td>\n      <td>C</td>\n      <td>C</td>\n      <td>1</td>\n    </tr>\n    <tr>\n      <th>2</th>\n      <td>3</td>\n      <td>1</td>\n      <td>3</td>\n      <td>Heikkinen, Miss. Laina</td>\n      <td>female</td>\n      <td>26.0</td>\n      <td>STON/O2. 3101282</td>\n      <td>7.9250</td>\n      <td>NaN</td>\n      <td>S</td>\n      <td>0</td>\n    </tr>\n    <tr>\n      <th>3</th>\n      <td>4</td>\n      <td>1</td>\n      <td>1</td>\n      <td>Futrelle, Mrs. Jacques Heath (Lily May Peel)</td>\n      <td>female</td>\n      <td>35.0</td>\n      <td>113803</td>\n      <td>53.1000</td>\n      <td>C</td>\n      <td>S</td>\n      <td>1</td>\n    </tr>\n    <tr>\n      <th>4</th>\n      <td>5</td>\n      <td>0</td>\n      <td>3</td>\n      <td>Allen, Mr. William Henry</td>\n      <td>male</td>\n      <td>35.0</td>\n      <td>373450</td>\n      <td>8.0500</td>\n      <td>NaN</td>\n      <td>S</td>\n      <td>0</td>\n    </tr>\n    <tr>\n      <th>...</th>\n      <td>...</td>\n      <td>...</td>\n      <td>...</td>\n      <td>...</td>\n      <td>...</td>\n      <td>...</td>\n      <td>...</td>\n      <td>...</td>\n      <td>...</td>\n      <td>...</td>\n      <td>...</td>\n    </tr>\n    <tr>\n      <th>886</th>\n      <td>887</td>\n      <td>0</td>\n      <td>2</td>\n      <td>Montvila, Rev. Juozas</td>\n      <td>male</td>\n      <td>27.0</td>\n      <td>211536</td>\n      <td>13.0000</td>\n      <td>NaN</td>\n      <td>S</td>\n      <td>0</td>\n    </tr>\n    <tr>\n      <th>887</th>\n      <td>888</td>\n      <td>1</td>\n      <td>1</td>\n      <td>Graham, Miss. Margaret Edith</td>\n      <td>female</td>\n      <td>19.0</td>\n      <td>112053</td>\n      <td>30.0000</td>\n      <td>B</td>\n      <td>S</td>\n      <td>0</td>\n    </tr>\n    <tr>\n      <th>888</th>\n      <td>889</td>\n      <td>0</td>\n      <td>3</td>\n      <td>Johnston, Miss. Catherine Helen \"Carrie\"</td>\n      <td>female</td>\n      <td>NaN</td>\n      <td>W./C. 6607</td>\n      <td>23.4500</td>\n      <td>NaN</td>\n      <td>S</td>\n      <td>3</td>\n    </tr>\n    <tr>\n      <th>889</th>\n      <td>890</td>\n      <td>1</td>\n      <td>1</td>\n      <td>Behr, Mr. Karl Howell</td>\n      <td>male</td>\n      <td>26.0</td>\n      <td>111369</td>\n      <td>30.0000</td>\n      <td>C</td>\n      <td>C</td>\n      <td>0</td>\n    </tr>\n    <tr>\n      <th>890</th>\n      <td>891</td>\n      <td>0</td>\n      <td>3</td>\n      <td>Dooley, Mr. Patrick</td>\n      <td>male</td>\n      <td>32.0</td>\n      <td>370376</td>\n      <td>7.7500</td>\n      <td>NaN</td>\n      <td>Q</td>\n      <td>0</td>\n    </tr>\n  </tbody>\n</table>\n<p>891 rows × 11 columns</p>\n</div>"
     },
     "metadata": {},
     "execution_count": 10
    }
   ],
   "source": [
    "train"
   ]
  },
  {
   "cell_type": "code",
   "execution_count": 30,
   "metadata": {},
   "outputs": [
    {
     "output_type": "execute_result",
     "data": {
      "text/plain": [
       "     PassengerId  Pclass                                          Name  \\\n",
       "0            892       3                              Kelly, Mr. James   \n",
       "1            893       3              Wilkes, Mrs. James (Ellen Needs)   \n",
       "2            894       2                     Myles, Mr. Thomas Francis   \n",
       "3            895       3                              Wirz, Mr. Albert   \n",
       "4            896       3  Hirvonen, Mrs. Alexander (Helga E Lindqvist)   \n",
       "..           ...     ...                                           ...   \n",
       "413         1305       3                            Spector, Mr. Woolf   \n",
       "414         1306       1                  Oliva y Ocana, Dona. Fermina   \n",
       "415         1307       3                  Saether, Mr. Simon Sivertsen   \n",
       "416         1308       3                           Ware, Mr. Frederick   \n",
       "417         1309       3                      Peter, Master. Michael J   \n",
       "\n",
       "        Sex   Age              Ticket      Fare Cabin Embarked  Accompany_num  \n",
       "0      male  34.5              330911    7.8292   NaN        Q              0  \n",
       "1    female  47.0              363272    7.0000   NaN        S              1  \n",
       "2      male  62.0              240276    9.6875   NaN        Q              0  \n",
       "3      male  27.0              315154    8.6625   NaN        S              0  \n",
       "4    female  22.0             3101298   12.2875   NaN        S              2  \n",
       "..      ...   ...                 ...       ...   ...      ...            ...  \n",
       "413    male   NaN           A.5. 3236    8.0500   NaN        S              0  \n",
       "414  female  39.0            PC 17758  108.9000     C        C              0  \n",
       "415    male  38.5  SOTON/O.Q. 3101262    7.2500   NaN        S              0  \n",
       "416    male   NaN              359309    8.0500   NaN        S              0  \n",
       "417    male   NaN                2668   22.3583   NaN        C              2  \n",
       "\n",
       "[418 rows x 10 columns]"
      ],
      "text/html": "<div>\n<style scoped>\n    .dataframe tbody tr th:only-of-type {\n        vertical-align: middle;\n    }\n\n    .dataframe tbody tr th {\n        vertical-align: top;\n    }\n\n    .dataframe thead th {\n        text-align: right;\n    }\n</style>\n<table border=\"1\" class=\"dataframe\">\n  <thead>\n    <tr style=\"text-align: right;\">\n      <th></th>\n      <th>PassengerId</th>\n      <th>Pclass</th>\n      <th>Name</th>\n      <th>Sex</th>\n      <th>Age</th>\n      <th>Ticket</th>\n      <th>Fare</th>\n      <th>Cabin</th>\n      <th>Embarked</th>\n      <th>Accompany_num</th>\n    </tr>\n  </thead>\n  <tbody>\n    <tr>\n      <th>0</th>\n      <td>892</td>\n      <td>3</td>\n      <td>Kelly, Mr. James</td>\n      <td>male</td>\n      <td>34.5</td>\n      <td>330911</td>\n      <td>7.8292</td>\n      <td>NaN</td>\n      <td>Q</td>\n      <td>0</td>\n    </tr>\n    <tr>\n      <th>1</th>\n      <td>893</td>\n      <td>3</td>\n      <td>Wilkes, Mrs. James (Ellen Needs)</td>\n      <td>female</td>\n      <td>47.0</td>\n      <td>363272</td>\n      <td>7.0000</td>\n      <td>NaN</td>\n      <td>S</td>\n      <td>1</td>\n    </tr>\n    <tr>\n      <th>2</th>\n      <td>894</td>\n      <td>2</td>\n      <td>Myles, Mr. Thomas Francis</td>\n      <td>male</td>\n      <td>62.0</td>\n      <td>240276</td>\n      <td>9.6875</td>\n      <td>NaN</td>\n      <td>Q</td>\n      <td>0</td>\n    </tr>\n    <tr>\n      <th>3</th>\n      <td>895</td>\n      <td>3</td>\n      <td>Wirz, Mr. Albert</td>\n      <td>male</td>\n      <td>27.0</td>\n      <td>315154</td>\n      <td>8.6625</td>\n      <td>NaN</td>\n      <td>S</td>\n      <td>0</td>\n    </tr>\n    <tr>\n      <th>4</th>\n      <td>896</td>\n      <td>3</td>\n      <td>Hirvonen, Mrs. Alexander (Helga E Lindqvist)</td>\n      <td>female</td>\n      <td>22.0</td>\n      <td>3101298</td>\n      <td>12.2875</td>\n      <td>NaN</td>\n      <td>S</td>\n      <td>2</td>\n    </tr>\n    <tr>\n      <th>...</th>\n      <td>...</td>\n      <td>...</td>\n      <td>...</td>\n      <td>...</td>\n      <td>...</td>\n      <td>...</td>\n      <td>...</td>\n      <td>...</td>\n      <td>...</td>\n      <td>...</td>\n    </tr>\n    <tr>\n      <th>413</th>\n      <td>1305</td>\n      <td>3</td>\n      <td>Spector, Mr. Woolf</td>\n      <td>male</td>\n      <td>NaN</td>\n      <td>A.5. 3236</td>\n      <td>8.0500</td>\n      <td>NaN</td>\n      <td>S</td>\n      <td>0</td>\n    </tr>\n    <tr>\n      <th>414</th>\n      <td>1306</td>\n      <td>1</td>\n      <td>Oliva y Ocana, Dona. Fermina</td>\n      <td>female</td>\n      <td>39.0</td>\n      <td>PC 17758</td>\n      <td>108.9000</td>\n      <td>C</td>\n      <td>C</td>\n      <td>0</td>\n    </tr>\n    <tr>\n      <th>415</th>\n      <td>1307</td>\n      <td>3</td>\n      <td>Saether, Mr. Simon Sivertsen</td>\n      <td>male</td>\n      <td>38.5</td>\n      <td>SOTON/O.Q. 3101262</td>\n      <td>7.2500</td>\n      <td>NaN</td>\n      <td>S</td>\n      <td>0</td>\n    </tr>\n    <tr>\n      <th>416</th>\n      <td>1308</td>\n      <td>3</td>\n      <td>Ware, Mr. Frederick</td>\n      <td>male</td>\n      <td>NaN</td>\n      <td>359309</td>\n      <td>8.0500</td>\n      <td>NaN</td>\n      <td>S</td>\n      <td>0</td>\n    </tr>\n    <tr>\n      <th>417</th>\n      <td>1309</td>\n      <td>3</td>\n      <td>Peter, Master. Michael J</td>\n      <td>male</td>\n      <td>NaN</td>\n      <td>2668</td>\n      <td>22.3583</td>\n      <td>NaN</td>\n      <td>C</td>\n      <td>2</td>\n    </tr>\n  </tbody>\n</table>\n<p>418 rows × 10 columns</p>\n</div>"
     },
     "metadata": {},
     "execution_count": 30
    }
   ],
   "source": [
    "test"
   ]
  },
  {
   "source": [
    "데이터가 잘있다. 이제 Accompany_num을 기준으로 요금 평균값을 구해보자."
   ],
   "cell_type": "markdown",
   "metadata": {}
  },
  {
   "cell_type": "code",
   "execution_count": 31,
   "metadata": {},
   "outputs": [
    {
     "output_type": "execute_result",
     "data": {
      "text/plain": [
       "   Accompany_num  PassengerId  Survived  Pclass        Age        Fare\n",
       "0              0   350.642857  0.500000     1.0  46.944444   61.398214\n",
       "1              1   335.692308  0.615385     1.0  38.000000   82.778846\n",
       "2              2   445.500000  1.000000     1.0  42.000000  108.172950\n",
       "3              3   367.666667  0.333333     1.0   9.306667  151.550000\n",
       "4              5   224.500000  0.500000     1.0  32.500000  263.000000"
      ],
      "text/html": "<div>\n<style scoped>\n    .dataframe tbody tr th:only-of-type {\n        vertical-align: middle;\n    }\n\n    .dataframe tbody tr th {\n        vertical-align: top;\n    }\n\n    .dataframe thead th {\n        text-align: right;\n    }\n</style>\n<table border=\"1\" class=\"dataframe\">\n  <thead>\n    <tr style=\"text-align: right;\">\n      <th></th>\n      <th>Accompany_num</th>\n      <th>PassengerId</th>\n      <th>Survived</th>\n      <th>Pclass</th>\n      <th>Age</th>\n      <th>Fare</th>\n    </tr>\n  </thead>\n  <tbody>\n    <tr>\n      <th>0</th>\n      <td>0</td>\n      <td>350.642857</td>\n      <td>0.500000</td>\n      <td>1.0</td>\n      <td>46.944444</td>\n      <td>61.398214</td>\n    </tr>\n    <tr>\n      <th>1</th>\n      <td>1</td>\n      <td>335.692308</td>\n      <td>0.615385</td>\n      <td>1.0</td>\n      <td>38.000000</td>\n      <td>82.778846</td>\n    </tr>\n    <tr>\n      <th>2</th>\n      <td>2</td>\n      <td>445.500000</td>\n      <td>1.000000</td>\n      <td>1.0</td>\n      <td>42.000000</td>\n      <td>108.172950</td>\n    </tr>\n    <tr>\n      <th>3</th>\n      <td>3</td>\n      <td>367.666667</td>\n      <td>0.333333</td>\n      <td>1.0</td>\n      <td>9.306667</td>\n      <td>151.550000</td>\n    </tr>\n    <tr>\n      <th>4</th>\n      <td>5</td>\n      <td>224.500000</td>\n      <td>0.500000</td>\n      <td>1.0</td>\n      <td>32.500000</td>\n      <td>263.000000</td>\n    </tr>\n  </tbody>\n</table>\n</div>"
     },
     "metadata": {},
     "execution_count": 31
    }
   ],
   "source": [
    "train[(train['Pclass'] == 1) & (train['Embarked'] == 'S') & (train['Cabin'] == 'C')].groupby(['Accompany_num'], as_index=False).mean()"
   ]
  },
  {
   "cell_type": "code",
   "execution_count": 32,
   "metadata": {},
   "outputs": [
    {
     "output_type": "execute_result",
     "data": {
      "text/plain": [
       "  Cabin  PassengerId  Survived  Pclass        Age       Fare  Accompany_num\n",
       "0     A   468.142857  0.285714     1.0  44.500000  34.856543            0.0\n",
       "1     B   555.076923  0.615385     1.0  36.333333  63.029808            0.0\n",
       "2     C   350.642857  0.500000     1.0  46.944444  61.398214            0.0\n",
       "3     D   707.714286  0.571429     1.0  42.500000  36.594043            0.0\n",
       "4     E   540.500000  0.600000     1.0  46.100000  30.085000            0.0\n",
       "5     T   340.000000  0.000000     1.0  45.000000  35.500000            0.0"
      ],
      "text/html": "<div>\n<style scoped>\n    .dataframe tbody tr th:only-of-type {\n        vertical-align: middle;\n    }\n\n    .dataframe tbody tr th {\n        vertical-align: top;\n    }\n\n    .dataframe thead th {\n        text-align: right;\n    }\n</style>\n<table border=\"1\" class=\"dataframe\">\n  <thead>\n    <tr style=\"text-align: right;\">\n      <th></th>\n      <th>Cabin</th>\n      <th>PassengerId</th>\n      <th>Survived</th>\n      <th>Pclass</th>\n      <th>Age</th>\n      <th>Fare</th>\n      <th>Accompany_num</th>\n    </tr>\n  </thead>\n  <tbody>\n    <tr>\n      <th>0</th>\n      <td>A</td>\n      <td>468.142857</td>\n      <td>0.285714</td>\n      <td>1.0</td>\n      <td>44.500000</td>\n      <td>34.856543</td>\n      <td>0.0</td>\n    </tr>\n    <tr>\n      <th>1</th>\n      <td>B</td>\n      <td>555.076923</td>\n      <td>0.615385</td>\n      <td>1.0</td>\n      <td>36.333333</td>\n      <td>63.029808</td>\n      <td>0.0</td>\n    </tr>\n    <tr>\n      <th>2</th>\n      <td>C</td>\n      <td>350.642857</td>\n      <td>0.500000</td>\n      <td>1.0</td>\n      <td>46.944444</td>\n      <td>61.398214</td>\n      <td>0.0</td>\n    </tr>\n    <tr>\n      <th>3</th>\n      <td>D</td>\n      <td>707.714286</td>\n      <td>0.571429</td>\n      <td>1.0</td>\n      <td>42.500000</td>\n      <td>36.594043</td>\n      <td>0.0</td>\n    </tr>\n    <tr>\n      <th>4</th>\n      <td>E</td>\n      <td>540.500000</td>\n      <td>0.600000</td>\n      <td>1.0</td>\n      <td>46.100000</td>\n      <td>30.085000</td>\n      <td>0.0</td>\n    </tr>\n    <tr>\n      <th>5</th>\n      <td>T</td>\n      <td>340.000000</td>\n      <td>0.000000</td>\n      <td>1.0</td>\n      <td>45.000000</td>\n      <td>35.500000</td>\n      <td>0.0</td>\n    </tr>\n  </tbody>\n</table>\n</div>"
     },
     "metadata": {},
     "execution_count": 32
    }
   ],
   "source": [
    "train[(train['Pclass'] == 1) & (train['Embarked'] == 'S') & (train['Accompany_num'] == 0)].groupby(['Cabin'], as_index=False).mean()"
   ]
  },
  {
   "source": [
    "동행 숫자가 올라갈 수록 평균 요금이 올라가며 동행인이 같아도 객실 종류에 따라 평균 요금이 다르다. 그러니 동행 숫자도 객실 결측치를 채우는데 이용하자"
   ],
   "cell_type": "markdown",
   "metadata": {}
  },
  {
   "source": [
    "### 객실 결손치 채우는 함수 생성, 적용 \n",
    "<br>\n",
    "우리는 출발 지점, 동행 숫자, 객실 등급, 객실 종류에 따라 평균 요금이 다르다는 사실을 확인했다. \n",
    "<br>\n",
    "그래서 나는 객실 종류가 누락된 승객들의 요금과 출발 지점, 동행 숫자, 객실 등급, 객실 종류에 따른 평균 요금을 모두 비교해 가장 가까운 값에 해당하는 객실 종류를 결측치에 채워줄거다. "
   ],
   "cell_type": "markdown",
   "metadata": {}
  },
  {
   "cell_type": "code",
   "execution_count": 11,
   "metadata": {},
   "outputs": [],
   "source": [
    "# 객실 결측치를 채우는 함수.\n",
    "# 출발지점마다 각 승객의 요금을 각 객실의 평균값과 비교해 가장 가까이 있는 객실을 넣어준다.\n",
    "def Fill_Cabin(data):\n",
    "    for i in range(len(data)):\n",
    "\n",
    "        # 1등석\n",
    "        if ((data['Pclass'][i] == 1) & (data['Cabin'][i] not in ['A', 'B', 'C', 'D', 'E', 'F', 'G', 'T'])) : # 객실 정보가 없는 1등석 승객들의 자료만 if문 안에 들인다\n",
    "            if(data['Embarked'][i] == 'S') : # 만약 S에서 출발했으면\n",
    "                for j in range(0, train['Accompany_num'].max() + 1) : \n",
    "                    if(data['Accompany_num'][i] == j) : # 같은 동행 숫자에 대한 각 객실별 평균요금 구하기 위함\n",
    "                        diff_Cabin_A = data['Fare'][i] - data[(data['Pclass'] == 1) & (data['Cabin'] == 'A') & (data['Embarked'] == 'S') & (data['Accompany_num'] == j)]['Fare'].mean()\n",
    "                        diff_Cabin_B = data['Fare'][i] - data[(data['Pclass'] == 1) & (data['Cabin'] == 'B') & (data['Embarked'] == 'S') & (data['Accompany_num'] == j)]['Fare'].mean()\n",
    "                        diff_Cabin_C = data['Fare'][i] - data[(data['Pclass'] == 1) & (data['Cabin'] == 'C') & (data['Embarked'] == 'S') & (data['Accompany_num'] == j)]['Fare'].mean()\n",
    "                        diff_Cabin_D = data['Fare'][i] - data[(data['Pclass'] == 1) & (data['Cabin'] == 'D') & (data['Embarked'] == 'S') & (data['Accompany_num'] == j)]['Fare'].mean()\n",
    "                        diff_Cabin_E = data['Fare'][i] - data[(data['Pclass'] == 1) & (data['Cabin'] == 'E') & (data['Embarked'] == 'S') & (data['Accompany_num'] == j)]['Fare'].mean()\n",
    "                        diff_Cabin_T = data['Fare'][i] - data[(data['Pclass'] == 1) & (data['Cabin'] == 'T') & (data['Embarked'] == 'S') & (data['Accompany_num'] == j)]['Fare'].mean()\n",
    "\n",
    "                        # 다루기 쉽게 넘파이 배열로 만든 다음 NaN값을 제거해준다.\n",
    "                        diff_list = np.array([abs(diff_Cabin_A), abs(diff_Cabin_B), abs(diff_Cabin_C), abs(diff_Cabin_D), abs(diff_Cabin_E), abs(diff_Cabin_T)])\n",
    "                        diff_list = diff_list[~np.isnan(diff_list)]\n",
    "\n",
    "                        # 그리고 평균 요금과의 차이가 가장 적게 나는 객실을 구한 뒤 이를 넣어준다. 요금이 가장 적게차이나는 객실에 있었다고 가정하는 것이다. \n",
    "                        if(abs(diff_Cabin_A) == diff_list.min()):\n",
    "                            data['Cabin'][i] = 'A'\n",
    "                        elif(abs(diff_Cabin_B) == diff_list.min()):\n",
    "                            data['Cabin'][i] = 'B'\n",
    "                        elif(abs(diff_Cabin_C) == diff_list.min()):\n",
    "                            data['Cabin'][i] = 'C'\n",
    "                        elif(abs(diff_Cabin_D) == diff_list.min()):\n",
    "                            data['Cabin'][i] = 'D'\n",
    "                        elif(abs(diff_Cabin_E) == diff_list.min()):\n",
    "                            data['Cabin'][i] = 'E'\n",
    "                        elif(abs(diff_Cabin_T) == diff_list.min()):\n",
    "                            data['Cabin'][i] = 'T'\n",
    "                        break\n",
    "            # 나머지 자료에도 같은 과정을 적용한다. \n",
    "            elif(data['Embarked'][i] == 'Q') : \n",
    "                for j in range(0, train['Accompany_num'].max() + 1) : \n",
    "                    if(data['Accompany_num'][i] == j) :\n",
    "                        diff_Cabin_A = data['Fare'][i] - data[(data['Pclass'] == 1) & (data['Cabin'] == 'A') & (data['Embarked'] == 'Q') & (data['Accompany_num'] == j)]['Fare'].mean()\n",
    "                        diff_Cabin_B = data['Fare'][i] - data[(data['Pclass'] == 1) & (data['Cabin'] == 'B') & (data['Embarked'] == 'Q') & (data['Accompany_num'] == j)]['Fare'].mean()\n",
    "                        diff_Cabin_C = data['Fare'][i] - data[(data['Pclass'] == 1) & (data['Cabin'] == 'C') & (data['Embarked'] == 'Q') & (data['Accompany_num'] == j)]['Fare'].mean()\n",
    "                        diff_Cabin_D = data['Fare'][i] - data[(data['Pclass'] == 1) & (data['Cabin'] == 'D') & (data['Embarked'] == 'Q') & (data['Accompany_num'] == j)]['Fare'].mean()\n",
    "                        diff_Cabin_E = data['Fare'][i] - data[(data['Pclass'] == 1) & (data['Cabin'] == 'E') & (data['Embarked'] == 'Q') & (data['Accompany_num'] == j)]['Fare'].mean()\n",
    "                        diff_Cabin_T = data['Fare'][i] - data[(data['Pclass'] == 1) & (data['Cabin'] == 'T') & (data['Embarked'] == 'Q') & (data['Accompany_num'] == j)]['Fare'].mean()\n",
    "\n",
    "                        diff_list = np.array([abs(diff_Cabin_A), abs(diff_Cabin_B), abs(diff_Cabin_C), abs(diff_Cabin_D), abs(diff_Cabin_E), abs(diff_Cabin_T)])\n",
    "                        diff_list = diff_list[~np.isnan(diff_list)]\n",
    "                        \n",
    "                        if(abs(diff_Cabin_A) == diff_list.min()):\n",
    "                            data['Cabin'][i] = 'A'\n",
    "                        elif(abs(diff_Cabin_B) == diff_list.min()):\n",
    "                            data['Cabin'][i] = 'B'\n",
    "                        elif(abs(diff_Cabin_C) == diff_list.min()):\n",
    "                            data['Cabin'][i] = 'C'\n",
    "                        elif(abs(diff_Cabin_D) == diff_list.min()):\n",
    "                            data['Cabin'][i] = 'D'\n",
    "                        elif(abs(diff_Cabin_E) == diff_list.min()):\n",
    "                            data['Cabin'][i] = 'E'\n",
    "                        elif(abs(diff_Cabin_T) == diff_list.min()):\n",
    "                            data['Cabin'][i] = 'T'\n",
    "                        break\n",
    "\n",
    "            elif(data['Embarked'][i] == 'C') : \n",
    "                for j in range(0, train['Accompany_num'].max() + 1) : \n",
    "                    if(data['Accompany_num'][i] == j) :\n",
    "                        diff_Cabin_A = data['Fare'][i] - data[(data['Pclass'] == 1) & (data['Cabin'] == 'A') & (data['Embarked'] == 'C') & (data['Accompany_num'] == j)]['Fare'].mean()\n",
    "                        diff_Cabin_B = data['Fare'][i] - data[(data['Pclass'] == 1) & (data['Cabin'] == 'B') & (data['Embarked'] == 'C') & (data['Accompany_num'] == j)]['Fare'].mean()\n",
    "                        diff_Cabin_C = data['Fare'][i] - data[(data['Pclass'] == 1) & (data['Cabin'] == 'C') & (data['Embarked'] == 'C') & (data['Accompany_num'] == j)]['Fare'].mean()\n",
    "                        diff_Cabin_D = data['Fare'][i] - data[(data['Pclass'] == 1) & (data['Cabin'] == 'D') & (data['Embarked'] == 'C') & (data['Accompany_num'] == j)]['Fare'].mean()\n",
    "                        diff_Cabin_E = data['Fare'][i] - data[(data['Pclass'] == 1) & (data['Cabin'] == 'E') & (data['Embarked'] == 'C') & (data['Accompany_num'] == j)]['Fare'].mean()\n",
    "                        diff_Cabin_T = data['Fare'][i] - data[(data['Pclass'] == 1) & (data['Cabin'] == 'T') & (data['Embarked'] == 'C') & (data['Accompany_num'] == j)]['Fare'].mean()\n",
    "\n",
    "                        diff_list = np.array([abs(diff_Cabin_A), abs(diff_Cabin_B), abs(diff_Cabin_C), abs(diff_Cabin_D), abs(diff_Cabin_E), abs(diff_Cabin_T)])\n",
    "                        diff_list = diff_list[~np.isnan(diff_list)]\n",
    "                        \n",
    "                        if(abs(diff_Cabin_A) == diff_list.min()):\n",
    "                            data['Cabin'][i] = 'A'\n",
    "                        elif(abs(diff_Cabin_B) == diff_list.min()):\n",
    "                            data['Cabin'][i] = 'B'\n",
    "                        elif(abs(diff_Cabin_C) == diff_list.min()):\n",
    "                            data['Cabin'][i] = 'C'\n",
    "                        elif(abs(diff_Cabin_D) == diff_list.min()):\n",
    "                            data['Cabin'][i] = 'D'\n",
    "                        elif(abs(diff_Cabin_E) == diff_list.min()):\n",
    "                            data['Cabin'][i] = 'E'\n",
    "                        elif(abs(diff_Cabin_T) == diff_list.min()):\n",
    "                            data['Cabin'][i] = 'T'\n",
    "                        break\n",
    "        # 2등석\n",
    "        elif ((data['Pclass'][i] == 2) & (data['Cabin'][i] not in ['A', 'B', 'C', 'D', 'E', 'F', 'G', 'T'])) : \n",
    "            if(data['Embarked'][i] == 'S') : \n",
    "                for j in range(0, train['Accompany_num'].max() + 1) : \n",
    "                    if(data['Accompany_num'][i] == j) : # 같은 동행 숫자에 대한 각 객실별 평균요금 구하기 위함\n",
    "                        # 2등석은 F, D, E 객실만 사용했기에 F, D, E 객실에 대한 평균 요금만 구한 뒤 F, D, E 중 하나를 넣어준다. \n",
    "                        diff_Cabin_F = data['Fare'][i] - data[(data['Pclass'] == 2) & (data['Cabin'] == 'F') & (data['Embarked'] == 'S') & (data['Accompany_num'] == j)]['Fare'].mean()\n",
    "                        diff_Cabin_D = data['Fare'][i] - data[(data['Pclass'] == 2) & (data['Cabin'] == 'D') & (data['Embarked'] == 'S') & (data['Accompany_num'] == j)]['Fare'].mean()\n",
    "                        diff_Cabin_E = data['Fare'][i] - data[(data['Pclass'] == 2) & (data['Cabin'] == 'E') & (data['Embarked'] == 'S') & (data['Accompany_num'] == j)]['Fare'].mean()\n",
    "\n",
    "                        diff_list = np.array([abs(diff_Cabin_F), abs(diff_Cabin_D), abs(diff_Cabin_E)])\n",
    "                        diff_list = diff_list[~np.isnan(diff_list)]\n",
    "\n",
    "                        # 만약 요금의 평균값 자료가 없으면(자료가 부족하면) 가장 데이터가 많은 S 객실로 지정해준다\n",
    "                        if len(diff_list) == 0 : \n",
    "                            data['Cabin'][i] = 'F'\n",
    "                        else:\n",
    "                            if(abs(diff_Cabin_F) == diff_list.min()):\n",
    "                                data['Cabin'][i] = 'F'\n",
    "                            elif(abs(diff_Cabin_D) == diff_list.min()):\n",
    "                                data['Cabin'][i] = 'D'\n",
    "                            elif(abs(diff_Cabin_E) == diff_list.min()):\n",
    "                                data['Cabin'][i] = 'E'\n",
    "                        break\n",
    "            elif(data['Embarked'][i] == 'Q') : \n",
    "                for j in range(0, train['Accompany_num'].max() + 1) : \n",
    "                    if(data['Accompany_num'][i] == j) :\n",
    "                        diff_Cabin_F = data['Fare'][i] - data[(data['Pclass'] == 2) & (data['Cabin'] == 'F') & (data['Embarked'] == 'Q') & (data['Accompany_num'] == j)]['Fare'].mean()\n",
    "                        diff_Cabin_D = data['Fare'][i] - data[(data['Pclass'] == 2) & (data['Cabin'] == 'D') & (data['Embarked'] == 'Q') & (data['Accompany_num'] == j)]['Fare'].mean()\n",
    "                        diff_Cabin_E = data['Fare'][i] - data[(data['Pclass'] == 2) & (data['Cabin'] == 'E') & (data['Embarked'] == 'Q') & (data['Accompany_num'] == j)]['Fare'].mean()\n",
    "\n",
    "                        diff_list = np.array([abs(diff_Cabin_F), abs(diff_Cabin_D), abs(diff_Cabin_E)])\n",
    "                        diff_list = diff_list[~np.isnan(diff_list)]\n",
    "\n",
    "                        if len(diff_list) == 0 : \n",
    "                            data['Cabin'][i] = 'F'\n",
    "                        else:\n",
    "                            if(abs(diff_Cabin_F) == diff_list.min()):\n",
    "                                data['Cabin'][i] = 'F'\n",
    "                            elif(abs(diff_Cabin_D) == diff_list.min()):\n",
    "                                data['Cabin'][i] = 'D'\n",
    "                            elif(abs(diff_Cabin_E) == diff_list.min()):\n",
    "                                data['Cabin'][i] = 'E'\n",
    "                        break\n",
    "            elif(data['Embarked'][i] == 'C') : \n",
    "                for j in range(0, train['Accompany_num'].max() + 1) : \n",
    "                    if(data['Accompany_num'][i] == j) :\n",
    "                        diff_Cabin_F = data['Fare'][i] - data[(data['Pclass'] == 2) & (data['Cabin'] == 'F') & (data['Embarked'] == 'C') & (data['Accompany_num'] == j)]['Fare'].mean()\n",
    "                        diff_Cabin_D = data['Fare'][i] - data[(data['Pclass'] == 2) & (data['Cabin'] == 'D') & (data['Embarked'] == 'C') & (data['Accompany_num'] == j)]['Fare'].mean()\n",
    "                        diff_Cabin_E = data['Fare'][i] - data[(data['Pclass'] == 2) & (data['Cabin'] == 'E') & (data['Embarked'] == 'C') & (data['Accompany_num'] == j)]['Fare'].mean()\n",
    "\n",
    "                        diff_list = np.array([abs(diff_Cabin_F), abs(diff_Cabin_D), abs(diff_Cabin_E)])\n",
    "                        diff_list = diff_list[~np.isnan(diff_list)]\n",
    "\n",
    "                        if len(diff_list) == 0 : \n",
    "                            data['Cabin'][i] = 'F'\n",
    "                        else:\n",
    "                            if(abs(diff_Cabin_F) == diff_list.min()):\n",
    "                                data['Cabin'][i] = 'F'\n",
    "                            elif(abs(diff_Cabin_D) == diff_list.min()):\n",
    "                                data['Cabin'][i] = 'D'\n",
    "                            elif(abs(diff_Cabin_E) == diff_list.min()):\n",
    "                                data['Cabin'][i] = 'E'\n",
    "                        break\n",
    "        # 3등석\n",
    "        elif ((data['Pclass'][i] == 3) & (data['Cabin'][i] not in ['A', 'B', 'C', 'D', 'E', 'F', 'G', 'T'])) : \n",
    "            if(data['Embarked'][i] == 'S') : \n",
    "                for j in range(0, train['Accompany_num'].max() + 1) : \n",
    "                    if(data['Accompany_num'][i] == j) : # 같은 동행 숫자에 대한 각 객실별 평균요금 구하기 위함\n",
    "\n",
    "                        # 3등석은 F, G, E 객실만 존재했기에 F, G, E 객실에 대한 평균 요금만 구해 F, G, E 중 하나를 넣어준다. \n",
    "                        diff_Cabin_F = data['Fare'][i] - data[(data['Pclass'] == 3) & (data['Cabin'] == 'F') & (data['Embarked'] == 'S') & (data['Accompany_num'] == j)]['Fare'].mean()\n",
    "                        diff_Cabin_G = data['Fare'][i] - data[(data['Pclass'] == 3) & (data['Cabin'] == 'G') & (data['Embarked'] == 'S') & (data['Accompany_num'] == j)]['Fare'].mean()\n",
    "                        diff_Cabin_E = data['Fare'][i] - data[(data['Pclass'] == 3) & (data['Cabin'] == 'E') & (data['Embarked'] == 'S') & (data['Accompany_num'] == j)]['Fare'].mean()\n",
    "\n",
    "                        diff_list = np.array([abs(diff_Cabin_F), abs(diff_Cabin_G), abs(diff_Cabin_E)])\n",
    "                        diff_list = diff_list[~np.isnan(diff_list)]\n",
    "\n",
    "                        if len(diff_list) == 0 : \n",
    "                            data['Cabin'][i] = 'F'\n",
    "                        else:\n",
    "                            if(abs(diff_Cabin_F) == diff_list.min()):\n",
    "                                data['Cabin'][i] = 'F'\n",
    "                            elif(abs(diff_Cabin_G) == diff_list.min()):\n",
    "                                data['Cabin'][i] = 'G'\n",
    "                            elif(abs(diff_Cabin_E) == diff_list.min()):\n",
    "                                data['Cabin'][i] = 'E'\n",
    "                        break\n",
    "                \n",
    "            elif(data['Embarked'][i] == 'Q') : \n",
    "                for j in range(0, train['Accompany_num'].max() + 1) : \n",
    "                    if(data['Accompany_num'][i] == j) :\n",
    "                        diff_Cabin_F = data['Fare'][i] - data[(data['Pclass'] == 3) & (data['Cabin'] == 'F') & (data['Embarked'] == 'Q') & (data['Accompany_num'] == j)]['Fare'].mean()\n",
    "                        diff_Cabin_G = data['Fare'][i] - data[(data['Pclass'] == 3) & (data['Cabin'] == 'G') & (data['Embarked'] == 'Q') & (data['Accompany_num'] == j)]['Fare'].mean()\n",
    "                        diff_Cabin_E = data['Fare'][i] - data[(data['Pclass'] == 3) & (data['Cabin'] == 'E') & (data['Embarked'] == 'Q') & (data['Accompany_num'] == j)]['Fare'].mean()\n",
    "\n",
    "                        diff_list = np.array([abs(diff_Cabin_F), abs(diff_Cabin_G), abs(diff_Cabin_E)])\n",
    "                        diff_list = diff_list[~np.isnan(diff_list)]\n",
    "                        if len(diff_list) == 0 : \n",
    "                            data['Cabin'][i] = 'F'\n",
    "                        else:\n",
    "                            if(abs(diff_Cabin_F) == diff_list.min()):\n",
    "                                data['Cabin'][i] = 'F'\n",
    "                            elif(abs(diff_Cabin_G) == diff_list.min()):\n",
    "                                data['Cabin'][i] = 'G'\n",
    "                            elif(abs(diff_Cabin_E) == diff_list.min()):\n",
    "                                data['Cabin'][i] = 'E'\n",
    "                        break\n",
    "\n",
    "            elif(data['Embarked'][i] == 'C') : \n",
    "                for j in range(0, train['Accompany_num'].max() + 1) : \n",
    "                    if(data['Accompany_num'][i] == j) :\n",
    "                        diff_Cabin_F = data['Fare'][i] - data[(data['Pclass'] == 3) & (data['Cabin'] == 'F') & (data['Embarked'] == 'C') & (data['Accompany_num'] == j)]['Fare'].mean()\n",
    "                        diff_Cabin_G = data['Fare'][i] - data[(data['Pclass'] == 3) & (data['Cabin'] == 'G') & (data['Embarked'] == 'C') & (data['Accompany_num'] == j)]['Fare'].mean()\n",
    "                        diff_Cabin_E = data['Fare'][i] - data[(data['Pclass'] == 3) & (data['Cabin'] == 'E') & (data['Embarked'] == 'C') & (data['Accompany_num'] == j)]['Fare'].mean()\n",
    "\n",
    "                        diff_list = np.array([abs(diff_Cabin_F), abs(diff_Cabin_G), abs(diff_Cabin_E)])\n",
    "                        diff_list = diff_list[~np.isnan(diff_list)]\n",
    "                        if len(diff_list) == 0 : \n",
    "                            data['Cabin'][i] = 'F'\n",
    "                        else:\n",
    "                            if(abs(diff_Cabin_F) == diff_list.min()):\n",
    "                                data['Cabin'][i] = 'F'\n",
    "                            elif(abs(diff_Cabin_G) == diff_list.min()):\n",
    "                                data['Cabin'][i] = 'G'\n",
    "                            elif(abs(diff_Cabin_E) == diff_list.min()):\n",
    "                                data['Cabin'][i] = 'E'\n",
    "                        break"
   ]
  },
  {
   "cell_type": "code",
   "execution_count": 12,
   "metadata": {},
   "outputs": [],
   "source": [
    "Fill_Cabin(train) # 훈련 데이터의 결측치 채워주기\n",
    "Fill_Cabin(test) # 테스트 데이터도 결측치를 채워준다."
   ]
  },
  {
   "source": [
    "결측치가 제대로 채워졌는지 확인해보자"
   ],
   "cell_type": "markdown",
   "metadata": {}
  },
  {
   "cell_type": "code",
   "execution_count": 13,
   "metadata": {},
   "outputs": [
    {
     "output_type": "stream",
     "name": "stdout",
     "text": [
      "<class 'pandas.core.frame.DataFrame'>\nRangeIndex: 891 entries, 0 to 890\nData columns (total 11 columns):\n #   Column         Non-Null Count  Dtype  \n---  ------         --------------  -----  \n 0   PassengerId    891 non-null    int64  \n 1   Survived       891 non-null    int64  \n 2   Pclass         891 non-null    int64  \n 3   Name           891 non-null    object \n 4   Sex            891 non-null    object \n 5   Age            714 non-null    float64\n 6   Ticket         891 non-null    object \n 7   Fare           891 non-null    float64\n 8   Cabin          891 non-null    object \n 9   Embarked       891 non-null    object \n 10  Accompany_num  891 non-null    int64  \ndtypes: float64(2), int64(4), object(5)\nmemory usage: 76.7+ KB\n"
     ]
    }
   ],
   "source": [
    "train.info()"
   ]
  },
  {
   "cell_type": "code",
   "execution_count": 14,
   "metadata": {},
   "outputs": [
    {
     "output_type": "stream",
     "name": "stdout",
     "text": [
      "<class 'pandas.core.frame.DataFrame'>\nRangeIndex: 418 entries, 0 to 417\nData columns (total 10 columns):\n #   Column         Non-Null Count  Dtype  \n---  ------         --------------  -----  \n 0   PassengerId    418 non-null    int64  \n 1   Pclass         418 non-null    int64  \n 2   Name           418 non-null    object \n 3   Sex            418 non-null    object \n 4   Age            332 non-null    float64\n 5   Ticket         418 non-null    object \n 6   Fare           417 non-null    float64\n 7   Cabin          418 non-null    object \n 8   Embarked       418 non-null    object \n 9   Accompany_num  418 non-null    int64  \ndtypes: float64(2), int64(3), object(5)\nmemory usage: 32.8+ KB\n"
     ]
    }
   ],
   "source": [
    "test.info()"
   ]
  },
  {
   "source": [
    "제대로 채워졌다. \n",
    "<br>\n",
    "그런데 test의 요금값 특성에 결측치가 있었단 사실을 다시 깨달았다. 잘못하면 에러가 발생할뻔 했지만 요금 정보가 누락된 승객은 객실 정보가 있었기 때문에 에러가 발생하지 않았다. "
   ],
   "cell_type": "markdown",
   "metadata": {}
  },
  {
   "source": [
    "## 2-2-1. test의 요금 결측치 채우기\n",
    "<br>\n",
    "말이 나온김에 test의 요금 결측치를 먼저 채워주도록 하자. 우선 어떤 승객의 요금 정보가 누락되었는지 알아보자."
   ],
   "cell_type": "markdown",
   "metadata": {}
  },
  {
   "cell_type": "code",
   "execution_count": 37,
   "metadata": {},
   "outputs": [
    {
     "output_type": "execute_result",
     "data": {
      "text/plain": [
       "     PassengerId  Pclass                Name   Sex   Age Ticket  Fare Cabin  \\\n",
       "152         1044       3  Storey, Mr. Thomas  male  60.5   3701   NaN     F   \n",
       "\n",
       "    Embarked  Accompany_num  \n",
       "152        S              0  "
      ],
      "text/html": "<div>\n<style scoped>\n    .dataframe tbody tr th:only-of-type {\n        vertical-align: middle;\n    }\n\n    .dataframe tbody tr th {\n        vertical-align: top;\n    }\n\n    .dataframe thead th {\n        text-align: right;\n    }\n</style>\n<table border=\"1\" class=\"dataframe\">\n  <thead>\n    <tr style=\"text-align: right;\">\n      <th></th>\n      <th>PassengerId</th>\n      <th>Pclass</th>\n      <th>Name</th>\n      <th>Sex</th>\n      <th>Age</th>\n      <th>Ticket</th>\n      <th>Fare</th>\n      <th>Cabin</th>\n      <th>Embarked</th>\n      <th>Accompany_num</th>\n    </tr>\n  </thead>\n  <tbody>\n    <tr>\n      <th>152</th>\n      <td>1044</td>\n      <td>3</td>\n      <td>Storey, Mr. Thomas</td>\n      <td>male</td>\n      <td>60.5</td>\n      <td>3701</td>\n      <td>NaN</td>\n      <td>F</td>\n      <td>S</td>\n      <td>0</td>\n    </tr>\n  </tbody>\n</table>\n</div>"
     },
     "metadata": {},
     "execution_count": 37
    }
   ],
   "source": [
    "test[test['Fare'].isna()]"
   ]
  },
  {
   "source": [
    "'S'에서 출발해 F의 3등급 객실에 있던 승객이다. 그러니 'S'에서 출발해 F의 3등급 객실에 있으며 동행한 사람이 없는 승객들의 평균 요금을 넣기로 했다."
   ],
   "cell_type": "markdown",
   "metadata": {}
  },
  {
   "cell_type": "code",
   "execution_count": 15,
   "metadata": {},
   "outputs": [],
   "source": [
    "test['Fare'][152] =  test[(test['Cabin'] == 'F') & (test['Pclass'] == 3) & (test['Embarked'] == 'S') & (test['Accompany_num'] == 0)]['Fare'].mean() "
   ]
  },
  {
   "cell_type": "code",
   "execution_count": 39,
   "metadata": {},
   "outputs": [
    {
     "output_type": "stream",
     "name": "stdout",
     "text": [
      "<class 'pandas.core.frame.DataFrame'>\nRangeIndex: 418 entries, 0 to 417\nData columns (total 10 columns):\n #   Column         Non-Null Count  Dtype  \n---  ------         --------------  -----  \n 0   PassengerId    418 non-null    int64  \n 1   Pclass         418 non-null    int64  \n 2   Name           418 non-null    object \n 3   Sex            418 non-null    object \n 4   Age            332 non-null    float64\n 5   Ticket         418 non-null    object \n 6   Fare           418 non-null    float64\n 7   Cabin          418 non-null    object \n 8   Embarked       418 non-null    object \n 9   Accompany_num  418 non-null    int64  \ndtypes: float64(2), int64(3), object(5)\nmemory usage: 32.8+ KB\n"
     ]
    }
   ],
   "source": [
    "# 결측치가 채워졌는지 테스트 데이터를 확인해보자. 나이 데이터 빼고 다 잘채워졌다. \n",
    "test.info()"
   ]
  },
  {
   "source": [
    "## 2-3. 나이 결측치 채우기\n",
    "<br>\n",
    "이제 나이 결측치만 채우면 된다. \n",
    "<br>\n",
    "객실 등급, 객실 종류, 동행 여부에 따라 평균 나이가 다르다는 사실을 앞서 확인했다. 다시 한 번 확인해보자"
   ],
   "cell_type": "markdown",
   "metadata": {}
  },
  {
   "source": [
    "1등급 객실 승객들을 동행자 기준으로 분류한 뒤 평균값을 구해보자."
   ],
   "cell_type": "markdown",
   "metadata": {}
  },
  {
   "cell_type": "code",
   "execution_count": 40,
   "metadata": {},
   "outputs": [
    {
     "output_type": "execute_result",
     "data": {
      "text/plain": [
       "   Accompany_num  PassengerId  Survived  Pclass        Age        Fare\n",
       "0              0   478.458716  0.532110     1.0  41.005814   63.672514\n",
       "1              1   415.342857  0.728571     1.0  37.190476   91.848039\n",
       "2              2   542.875000  0.750000     1.0  39.500000   95.681075\n",
       "3              3   499.571429  0.714286     1.0  17.845714  133.521429\n",
       "4              4   527.500000  1.000000     1.0  19.500000  262.375000\n",
       "5              5   224.500000  0.500000     1.0  32.500000  263.000000"
      ],
      "text/html": "<div>\n<style scoped>\n    .dataframe tbody tr th:only-of-type {\n        vertical-align: middle;\n    }\n\n    .dataframe tbody tr th {\n        vertical-align: top;\n    }\n\n    .dataframe thead th {\n        text-align: right;\n    }\n</style>\n<table border=\"1\" class=\"dataframe\">\n  <thead>\n    <tr style=\"text-align: right;\">\n      <th></th>\n      <th>Accompany_num</th>\n      <th>PassengerId</th>\n      <th>Survived</th>\n      <th>Pclass</th>\n      <th>Age</th>\n      <th>Fare</th>\n    </tr>\n  </thead>\n  <tbody>\n    <tr>\n      <th>0</th>\n      <td>0</td>\n      <td>478.458716</td>\n      <td>0.532110</td>\n      <td>1.0</td>\n      <td>41.005814</td>\n      <td>63.672514</td>\n    </tr>\n    <tr>\n      <th>1</th>\n      <td>1</td>\n      <td>415.342857</td>\n      <td>0.728571</td>\n      <td>1.0</td>\n      <td>37.190476</td>\n      <td>91.848039</td>\n    </tr>\n    <tr>\n      <th>2</th>\n      <td>2</td>\n      <td>542.875000</td>\n      <td>0.750000</td>\n      <td>1.0</td>\n      <td>39.500000</td>\n      <td>95.681075</td>\n    </tr>\n    <tr>\n      <th>3</th>\n      <td>3</td>\n      <td>499.571429</td>\n      <td>0.714286</td>\n      <td>1.0</td>\n      <td>17.845714</td>\n      <td>133.521429</td>\n    </tr>\n    <tr>\n      <th>4</th>\n      <td>4</td>\n      <td>527.500000</td>\n      <td>1.000000</td>\n      <td>1.0</td>\n      <td>19.500000</td>\n      <td>262.375000</td>\n    </tr>\n    <tr>\n      <th>5</th>\n      <td>5</td>\n      <td>224.500000</td>\n      <td>0.500000</td>\n      <td>1.0</td>\n      <td>32.500000</td>\n      <td>263.000000</td>\n    </tr>\n  </tbody>\n</table>\n</div>"
     },
     "metadata": {},
     "execution_count": 40
    }
   ],
   "source": [
    "train[(train['Pclass'] == 1)].groupby(['Accompany_num'], as_index=False).mean()"
   ]
  },
  {
   "source": [
    "같은 객실 등급일 때 동행자 숫자에 따라 평균 나이에 큰 차이를 보이고 있다. 여러가지 기준을 추가해 데이터를 다시 한 번 확인해보자"
   ],
   "cell_type": "markdown",
   "metadata": {}
  },
  {
   "cell_type": "code",
   "execution_count": 41,
   "metadata": {},
   "outputs": [
    {
     "output_type": "execute_result",
     "data": {
      "text/plain": [
       "  Cabin  PassengerId  Survived  Pclass        Age        Fare  Accompany_num\n",
       "0     A   444.300000  0.300000     1.0  47.153846   33.824160            0.0\n",
       "1     B   499.285714  0.642857     1.0  35.692308  114.163243            0.0\n",
       "2     C   424.318182  0.590909     1.0  40.656250   66.889014            0.0\n",
       "3     D   566.583333  0.583333     1.0  38.000000   48.156600            0.0\n",
       "4     E   492.769231  0.538462     1.0  45.142857   37.781250            0.0\n",
       "5     T   340.000000  0.000000     1.0  45.000000   35.500000            0.0"
      ],
      "text/html": "<div>\n<style scoped>\n    .dataframe tbody tr th:only-of-type {\n        vertical-align: middle;\n    }\n\n    .dataframe tbody tr th {\n        vertical-align: top;\n    }\n\n    .dataframe thead th {\n        text-align: right;\n    }\n</style>\n<table border=\"1\" class=\"dataframe\">\n  <thead>\n    <tr style=\"text-align: right;\">\n      <th></th>\n      <th>Cabin</th>\n      <th>PassengerId</th>\n      <th>Survived</th>\n      <th>Pclass</th>\n      <th>Age</th>\n      <th>Fare</th>\n      <th>Accompany_num</th>\n    </tr>\n  </thead>\n  <tbody>\n    <tr>\n      <th>0</th>\n      <td>A</td>\n      <td>444.300000</td>\n      <td>0.300000</td>\n      <td>1.0</td>\n      <td>47.153846</td>\n      <td>33.824160</td>\n      <td>0.0</td>\n    </tr>\n    <tr>\n      <th>1</th>\n      <td>B</td>\n      <td>499.285714</td>\n      <td>0.642857</td>\n      <td>1.0</td>\n      <td>35.692308</td>\n      <td>114.163243</td>\n      <td>0.0</td>\n    </tr>\n    <tr>\n      <th>2</th>\n      <td>C</td>\n      <td>424.318182</td>\n      <td>0.590909</td>\n      <td>1.0</td>\n      <td>40.656250</td>\n      <td>66.889014</td>\n      <td>0.0</td>\n    </tr>\n    <tr>\n      <th>3</th>\n      <td>D</td>\n      <td>566.583333</td>\n      <td>0.583333</td>\n      <td>1.0</td>\n      <td>38.000000</td>\n      <td>48.156600</td>\n      <td>0.0</td>\n    </tr>\n    <tr>\n      <th>4</th>\n      <td>E</td>\n      <td>492.769231</td>\n      <td>0.538462</td>\n      <td>1.0</td>\n      <td>45.142857</td>\n      <td>37.781250</td>\n      <td>0.0</td>\n    </tr>\n    <tr>\n      <th>5</th>\n      <td>T</td>\n      <td>340.000000</td>\n      <td>0.000000</td>\n      <td>1.0</td>\n      <td>45.000000</td>\n      <td>35.500000</td>\n      <td>0.0</td>\n    </tr>\n  </tbody>\n</table>\n</div>"
     },
     "metadata": {},
     "execution_count": 41
    }
   ],
   "source": [
    "train[(train['Pclass'] == 1) & (train['Accompany_num'] == 0)].groupby(['Cabin'], as_index=False).mean()"
   ]
  },
  {
   "source": [
    "동행자 숫자, 객실 등급을 고정시킨 뒤 객실 종류를 기준으로 데이터를 분류한 뒤 평균값을 구했다. 객실 종류에 따라 평균 나이가 다르다는 사실을 확인할 수 있다."
   ],
   "cell_type": "markdown",
   "metadata": {}
  },
  {
   "source": [
    "이제 성별 기준으로 데이터를 나눠보자"
   ],
   "cell_type": "markdown",
   "metadata": {}
  },
  {
   "cell_type": "code",
   "execution_count": 42,
   "metadata": {},
   "outputs": [
    {
     "output_type": "execute_result",
     "data": {
      "text/plain": [
       "      Sex  PassengerId  Survived  Pclass        Age        Fare  Accompany_num\n",
       "0  female   465.676471  0.970588     1.0  34.937500  105.960538            0.0\n",
       "1    male   484.253333  0.333333     1.0  44.601852   44.501943            0.0"
      ],
      "text/html": "<div>\n<style scoped>\n    .dataframe tbody tr th:only-of-type {\n        vertical-align: middle;\n    }\n\n    .dataframe tbody tr th {\n        vertical-align: top;\n    }\n\n    .dataframe thead th {\n        text-align: right;\n    }\n</style>\n<table border=\"1\" class=\"dataframe\">\n  <thead>\n    <tr style=\"text-align: right;\">\n      <th></th>\n      <th>Sex</th>\n      <th>PassengerId</th>\n      <th>Survived</th>\n      <th>Pclass</th>\n      <th>Age</th>\n      <th>Fare</th>\n      <th>Accompany_num</th>\n    </tr>\n  </thead>\n  <tbody>\n    <tr>\n      <th>0</th>\n      <td>female</td>\n      <td>465.676471</td>\n      <td>0.970588</td>\n      <td>1.0</td>\n      <td>34.937500</td>\n      <td>105.960538</td>\n      <td>0.0</td>\n    </tr>\n    <tr>\n      <th>1</th>\n      <td>male</td>\n      <td>484.253333</td>\n      <td>0.333333</td>\n      <td>1.0</td>\n      <td>44.601852</td>\n      <td>44.501943</td>\n      <td>0.0</td>\n    </tr>\n  </tbody>\n</table>\n</div>"
     },
     "metadata": {},
     "execution_count": 42
    }
   ],
   "source": [
    "train[(train['Pclass'] == 1) & (train['Accompany_num'] == 0)].groupby(['Sex'], as_index=False).mean()"
   ]
  },
  {
   "source": [
    "앞서 구한 데이터를 남, 녀로 분류한 뒤 평균값을 다시 확인해보자. 나이 차이가 꽤 난다. "
   ],
   "cell_type": "markdown",
   "metadata": {}
  },
  {
   "source": [
    "이젠 출발지점에 따른 나이 평균값의 차이를 확인해보자. 약 4살의 차이를 보인다. "
   ],
   "cell_type": "markdown",
   "metadata": {}
  },
  {
   "cell_type": "code",
   "execution_count": 43,
   "metadata": {},
   "outputs": [
    {
     "output_type": "execute_result",
     "data": {
      "text/plain": [
       "  Embarked  PassengerId  Survived  Pclass        Age       Fare  Accompany_num\n",
       "0        C   450.000000  0.609756     1.0  38.393939  93.468595            0.0\n",
       "1        S   495.617647  0.485294     1.0  42.632075  45.707229            0.0"
      ],
      "text/html": "<div>\n<style scoped>\n    .dataframe tbody tr th:only-of-type {\n        vertical-align: middle;\n    }\n\n    .dataframe tbody tr th {\n        vertical-align: top;\n    }\n\n    .dataframe thead th {\n        text-align: right;\n    }\n</style>\n<table border=\"1\" class=\"dataframe\">\n  <thead>\n    <tr style=\"text-align: right;\">\n      <th></th>\n      <th>Embarked</th>\n      <th>PassengerId</th>\n      <th>Survived</th>\n      <th>Pclass</th>\n      <th>Age</th>\n      <th>Fare</th>\n      <th>Accompany_num</th>\n    </tr>\n  </thead>\n  <tbody>\n    <tr>\n      <th>0</th>\n      <td>C</td>\n      <td>450.000000</td>\n      <td>0.609756</td>\n      <td>1.0</td>\n      <td>38.393939</td>\n      <td>93.468595</td>\n      <td>0.0</td>\n    </tr>\n    <tr>\n      <th>1</th>\n      <td>S</td>\n      <td>495.617647</td>\n      <td>0.485294</td>\n      <td>1.0</td>\n      <td>42.632075</td>\n      <td>45.707229</td>\n      <td>0.0</td>\n    </tr>\n  </tbody>\n</table>\n</div>"
     },
     "metadata": {},
     "execution_count": 43
    }
   ],
   "source": [
    "train[(train['Pclass'] == 1) & (train['Accompany_num'] == 0)].groupby(['Embarked'], as_index=False).mean()"
   ]
  },
  {
   "source": [
    "이제 생존여부에 따른 나이 차이를 확인해보자."
   ],
   "cell_type": "markdown",
   "metadata": {}
  },
  {
   "cell_type": "code",
   "execution_count": 44,
   "metadata": {},
   "outputs": [
    {
     "output_type": "execute_result",
     "data": {
      "text/plain": [
       "   Survived  PassengerId  Pclass        Age       Fare  Accompany_num\n",
       "0         0   452.000000     1.0  47.585714  41.313722            0.0\n",
       "1         1   501.724138     1.0  36.490196  83.332831            0.0"
      ],
      "text/html": "<div>\n<style scoped>\n    .dataframe tbody tr th:only-of-type {\n        vertical-align: middle;\n    }\n\n    .dataframe tbody tr th {\n        vertical-align: top;\n    }\n\n    .dataframe thead th {\n        text-align: right;\n    }\n</style>\n<table border=\"1\" class=\"dataframe\">\n  <thead>\n    <tr style=\"text-align: right;\">\n      <th></th>\n      <th>Survived</th>\n      <th>PassengerId</th>\n      <th>Pclass</th>\n      <th>Age</th>\n      <th>Fare</th>\n      <th>Accompany_num</th>\n    </tr>\n  </thead>\n  <tbody>\n    <tr>\n      <th>0</th>\n      <td>0</td>\n      <td>452.000000</td>\n      <td>1.0</td>\n      <td>47.585714</td>\n      <td>41.313722</td>\n      <td>0.0</td>\n    </tr>\n    <tr>\n      <th>1</th>\n      <td>1</td>\n      <td>501.724138</td>\n      <td>1.0</td>\n      <td>36.490196</td>\n      <td>83.332831</td>\n      <td>0.0</td>\n    </tr>\n  </tbody>\n</table>\n</div>"
     },
     "metadata": {},
     "execution_count": 44
    }
   ],
   "source": [
    "train[(train['Pclass'] == 1) & (train['Accompany_num'] == 0)].groupby(['Survived'], as_index=False).mean()"
   ]
  },
  {
   "source": [
    "생존 여부에 따라서도 나이 차이가 났다. "
   ],
   "cell_type": "markdown",
   "metadata": {}
  },
  {
   "source": [
    "데이터를 살펴본 결과, 객실 종류, 성별, 생존여부, 객실, 동행자 수에 따라 평균 나이가 다르다는 사실을 알아냈다. \n",
    "<br>\n",
    "그래서 좌석, 성별, 생존여부, 객실에 따른 평균 나이를 결측치를 채우는데 사용하기로 했다"
   ],
   "cell_type": "markdown",
   "metadata": {}
  },
  {
   "cell_type": "code",
   "execution_count": 16,
   "metadata": {},
   "outputs": [],
   "source": [
    "# 좌석, 성별, 생존여부, 객실, 동행자 숫자, 출발 지점에 따른 평균 나이를 결측치에 채운다 \n",
    "# 데이터가 다 안채워진다.\n",
    "train['Age'].fillna( train.groupby([\"Pclass\", \"Survived\", \"Sex\", \"Cabin\", \"Accompany_num\", \"Embarked\"])[\"Age\"].transform(\"mean\"), inplace=True)\n",
    "test['Age'].fillna( train.groupby([\"Pclass\", \"Survived\", \"Sex\", \"Cabin\", \"Accompany_num\", \"Embarked\"])[\"Age\"].transform(\"mean\"), inplace=True)\n",
    "\n",
    "# 만약 이렇게 해도 데이터가 덜 채워져 있으면 기준을 조금 완화해서 결측치를 채워준다. \n",
    "train['Age'].fillna( train.groupby([\"Pclass\", \"Survived\", \"Sex\", \"Cabin\", \"Accompany_num\"])[\"Age\"].transform(\"mean\"), inplace=True)\n",
    "test['Age'].fillna( train.groupby([\"Pclass\", \"Survived\", \"Sex\", \"Cabin\", \"Accompany_num\"])[\"Age\"].transform(\"mean\"), inplace=True)\n",
    "\n",
    "train['Age'].fillna( train.groupby([\"Pclass\", \"Survived\", \"Sex\", \"Cabin\"])[\"Age\"].transform(\"mean\"), inplace=True)\n",
    "test['Age'].fillna( train.groupby([\"Pclass\", \"Survived\", \"Sex\", \"Cabin\"])[\"Age\"].transform(\"mean\"), inplace=True)"
   ]
  },
  {
   "source": [
    "결측치가 채워진걸 확인해보자"
   ],
   "cell_type": "markdown",
   "metadata": {}
  },
  {
   "cell_type": "code",
   "execution_count": 17,
   "metadata": {},
   "outputs": [
    {
     "output_type": "stream",
     "name": "stdout",
     "text": [
      "<class 'pandas.core.frame.DataFrame'>\nRangeIndex: 891 entries, 0 to 890\nData columns (total 11 columns):\n #   Column         Non-Null Count  Dtype  \n---  ------         --------------  -----  \n 0   PassengerId    891 non-null    int64  \n 1   Survived       891 non-null    int64  \n 2   Pclass         891 non-null    int64  \n 3   Name           891 non-null    object \n 4   Sex            891 non-null    object \n 5   Age            891 non-null    float64\n 6   Ticket         891 non-null    object \n 7   Fare           891 non-null    float64\n 8   Cabin          891 non-null    object \n 9   Embarked       891 non-null    object \n 10  Accompany_num  891 non-null    int64  \ndtypes: float64(2), int64(4), object(5)\nmemory usage: 76.7+ KB\n"
     ]
    }
   ],
   "source": [
    "train.info()"
   ]
  },
  {
   "cell_type": "code",
   "execution_count": 18,
   "metadata": {},
   "outputs": [
    {
     "output_type": "stream",
     "name": "stdout",
     "text": [
      "<class 'pandas.core.frame.DataFrame'>\nRangeIndex: 418 entries, 0 to 417\nData columns (total 10 columns):\n #   Column         Non-Null Count  Dtype  \n---  ------         --------------  -----  \n 0   PassengerId    418 non-null    int64  \n 1   Pclass         418 non-null    int64  \n 2   Name           418 non-null    object \n 3   Sex            418 non-null    object \n 4   Age            418 non-null    float64\n 5   Ticket         418 non-null    object \n 6   Fare           418 non-null    float64\n 7   Cabin          418 non-null    object \n 8   Embarked       418 non-null    object \n 9   Accompany_num  418 non-null    int64  \ndtypes: float64(2), int64(3), object(5)\nmemory usage: 32.8+ KB\n"
     ]
    }
   ],
   "source": [
    "test.info()"
   ]
  },
  {
   "source": [
    "결측치를 다 채웠다. 이제 모델이 사용할 수 있게 데이터를 가공해보자"
   ],
   "cell_type": "markdown",
   "metadata": {}
  },
  {
   "source": [
    "# 3. 데이터 전처리"
   ],
   "cell_type": "markdown",
   "metadata": {}
  },
  {
   "source": [
    "## 3-1. 모델 분류에 영향이 적은 데이터 드랍하기\n",
    "<br>\n",
    "모델이 사용하기 좋게 데이터를 가공하는 시간이다. 여기서 잘 가공해야 좋은 모델을 만들 수 있다.\n",
    "<br>\n",
    "우선 훈련에 도움 안되는 특징들을 선별해 드랍하자. 우선 PassengerId랑 Ticket 항목은 앞서 확인했듯 생존자 분류에 별 도움이 되지 않다는 걸 확인했다. 그러니 드랍하자.\n",
    "<br>\n",
    "테스트 데이터의 PassengerId는 추후 submmision에 저장해야하는 값이므로 추출 후 드랍한다."
   ],
   "cell_type": "markdown",
   "metadata": {}
  },
  {
   "cell_type": "code",
   "execution_count": 21,
   "metadata": {},
   "outputs": [],
   "source": [
    "Drop_target = ['PassengerId', 'Ticket']\n",
    "train.drop(Drop_target, axis=1, inplace=True)\n",
    "\n",
    "test_PassengerId = test['PassengerId']\n",
    "test.drop(Drop_target, axis=1, inplace=True)"
   ]
  },
  {
   "source": [
    "데이터를 확인해보자. 잘 지워졌다는 것을 알 수 있다. "
   ],
   "cell_type": "markdown",
   "metadata": {}
  },
  {
   "cell_type": "code",
   "execution_count": 22,
   "metadata": {},
   "outputs": [
    {
     "output_type": "execute_result",
     "data": {
      "text/plain": [
       "     Survived  Pclass                                               Name  \\\n",
       "0           0       3                            Braund, Mr. Owen Harris   \n",
       "1           1       1  Cumings, Mrs. John Bradley (Florence Briggs Th...   \n",
       "2           1       3                             Heikkinen, Miss. Laina   \n",
       "3           1       1       Futrelle, Mrs. Jacques Heath (Lily May Peel)   \n",
       "4           0       3                           Allen, Mr. William Henry   \n",
       "..        ...     ...                                                ...   \n",
       "886         0       2                              Montvila, Rev. Juozas   \n",
       "887         1       1                       Graham, Miss. Margaret Edith   \n",
       "888         0       3           Johnston, Miss. Catherine Helen \"Carrie\"   \n",
       "889         1       1                              Behr, Mr. Karl Howell   \n",
       "890         0       3                                Dooley, Mr. Patrick   \n",
       "\n",
       "        Sex        Age     Fare Cabin Embarked  Accompany_num  \n",
       "0      male  22.000000   7.2500     G        S              1  \n",
       "1    female  38.000000  71.2833     C        C              1  \n",
       "2    female  26.000000   7.9250     E        S              0  \n",
       "3    female  35.000000  53.1000     C        S              1  \n",
       "4      male  35.000000   8.0500     E        S              0  \n",
       "..      ...        ...      ...   ...      ...            ...  \n",
       "886    male  27.000000  13.0000     E        S              0  \n",
       "887  female  19.000000  30.0000     B        S              0  \n",
       "888  female  23.315705  23.4500     F        S              3  \n",
       "889    male  26.000000  30.0000     C        C              0  \n",
       "890    male  32.000000   7.7500     F        Q              0  \n",
       "\n",
       "[891 rows x 9 columns]"
      ],
      "text/html": "<div>\n<style scoped>\n    .dataframe tbody tr th:only-of-type {\n        vertical-align: middle;\n    }\n\n    .dataframe tbody tr th {\n        vertical-align: top;\n    }\n\n    .dataframe thead th {\n        text-align: right;\n    }\n</style>\n<table border=\"1\" class=\"dataframe\">\n  <thead>\n    <tr style=\"text-align: right;\">\n      <th></th>\n      <th>Survived</th>\n      <th>Pclass</th>\n      <th>Name</th>\n      <th>Sex</th>\n      <th>Age</th>\n      <th>Fare</th>\n      <th>Cabin</th>\n      <th>Embarked</th>\n      <th>Accompany_num</th>\n    </tr>\n  </thead>\n  <tbody>\n    <tr>\n      <th>0</th>\n      <td>0</td>\n      <td>3</td>\n      <td>Braund, Mr. Owen Harris</td>\n      <td>male</td>\n      <td>22.000000</td>\n      <td>7.2500</td>\n      <td>G</td>\n      <td>S</td>\n      <td>1</td>\n    </tr>\n    <tr>\n      <th>1</th>\n      <td>1</td>\n      <td>1</td>\n      <td>Cumings, Mrs. John Bradley (Florence Briggs Th...</td>\n      <td>female</td>\n      <td>38.000000</td>\n      <td>71.2833</td>\n      <td>C</td>\n      <td>C</td>\n      <td>1</td>\n    </tr>\n    <tr>\n      <th>2</th>\n      <td>1</td>\n      <td>3</td>\n      <td>Heikkinen, Miss. Laina</td>\n      <td>female</td>\n      <td>26.000000</td>\n      <td>7.9250</td>\n      <td>E</td>\n      <td>S</td>\n      <td>0</td>\n    </tr>\n    <tr>\n      <th>3</th>\n      <td>1</td>\n      <td>1</td>\n      <td>Futrelle, Mrs. Jacques Heath (Lily May Peel)</td>\n      <td>female</td>\n      <td>35.000000</td>\n      <td>53.1000</td>\n      <td>C</td>\n      <td>S</td>\n      <td>1</td>\n    </tr>\n    <tr>\n      <th>4</th>\n      <td>0</td>\n      <td>3</td>\n      <td>Allen, Mr. William Henry</td>\n      <td>male</td>\n      <td>35.000000</td>\n      <td>8.0500</td>\n      <td>E</td>\n      <td>S</td>\n      <td>0</td>\n    </tr>\n    <tr>\n      <th>...</th>\n      <td>...</td>\n      <td>...</td>\n      <td>...</td>\n      <td>...</td>\n      <td>...</td>\n      <td>...</td>\n      <td>...</td>\n      <td>...</td>\n      <td>...</td>\n    </tr>\n    <tr>\n      <th>886</th>\n      <td>0</td>\n      <td>2</td>\n      <td>Montvila, Rev. Juozas</td>\n      <td>male</td>\n      <td>27.000000</td>\n      <td>13.0000</td>\n      <td>E</td>\n      <td>S</td>\n      <td>0</td>\n    </tr>\n    <tr>\n      <th>887</th>\n      <td>1</td>\n      <td>1</td>\n      <td>Graham, Miss. Margaret Edith</td>\n      <td>female</td>\n      <td>19.000000</td>\n      <td>30.0000</td>\n      <td>B</td>\n      <td>S</td>\n      <td>0</td>\n    </tr>\n    <tr>\n      <th>888</th>\n      <td>0</td>\n      <td>3</td>\n      <td>Johnston, Miss. Catherine Helen \"Carrie\"</td>\n      <td>female</td>\n      <td>23.315705</td>\n      <td>23.4500</td>\n      <td>F</td>\n      <td>S</td>\n      <td>3</td>\n    </tr>\n    <tr>\n      <th>889</th>\n      <td>1</td>\n      <td>1</td>\n      <td>Behr, Mr. Karl Howell</td>\n      <td>male</td>\n      <td>26.000000</td>\n      <td>30.0000</td>\n      <td>C</td>\n      <td>C</td>\n      <td>0</td>\n    </tr>\n    <tr>\n      <th>890</th>\n      <td>0</td>\n      <td>3</td>\n      <td>Dooley, Mr. Patrick</td>\n      <td>male</td>\n      <td>32.000000</td>\n      <td>7.7500</td>\n      <td>F</td>\n      <td>Q</td>\n      <td>0</td>\n    </tr>\n  </tbody>\n</table>\n<p>891 rows × 9 columns</p>\n</div>"
     },
     "metadata": {},
     "execution_count": 22
    }
   ],
   "source": [
    "train"
   ]
  },
  {
   "cell_type": "code",
   "execution_count": 23,
   "metadata": {},
   "outputs": [
    {
     "output_type": "execute_result",
     "data": {
      "text/plain": [
       "     Pclass                                          Name     Sex        Age  \\\n",
       "0         3                              Kelly, Mr. James    male  34.500000   \n",
       "1         3              Wilkes, Mrs. James (Ellen Needs)  female  47.000000   \n",
       "2         2                     Myles, Mr. Thomas Francis    male  62.000000   \n",
       "3         3                              Wirz, Mr. Albert    male  27.000000   \n",
       "4         3  Hirvonen, Mrs. Alexander (Helga E Lindqvist)  female  22.000000   \n",
       "..      ...                                           ...     ...        ...   \n",
       "413       3                            Spector, Mr. Woolf    male  33.214286   \n",
       "414       1                  Oliva y Ocana, Dona. Fermina  female  39.000000   \n",
       "415       3                  Saether, Mr. Simon Sivertsen    male  38.500000   \n",
       "416       3                           Ware, Mr. Frederick    male  22.538462   \n",
       "417       3                      Peter, Master. Michael J    male  22.538462   \n",
       "\n",
       "         Fare Cabin Embarked  Accompany_num  \n",
       "0      7.8292     F        Q              0  \n",
       "1      7.0000     F        S              1  \n",
       "2      9.6875     F        Q              0  \n",
       "3      8.6625     F        S              0  \n",
       "4     12.2875     G        S              2  \n",
       "..        ...   ...      ...            ...  \n",
       "413    8.0500     F        S              0  \n",
       "414  108.9000     C        C              0  \n",
       "415    7.2500     F        S              0  \n",
       "416    8.0500     F        S              0  \n",
       "417   22.3583     F        C              2  \n",
       "\n",
       "[418 rows x 8 columns]"
      ],
      "text/html": "<div>\n<style scoped>\n    .dataframe tbody tr th:only-of-type {\n        vertical-align: middle;\n    }\n\n    .dataframe tbody tr th {\n        vertical-align: top;\n    }\n\n    .dataframe thead th {\n        text-align: right;\n    }\n</style>\n<table border=\"1\" class=\"dataframe\">\n  <thead>\n    <tr style=\"text-align: right;\">\n      <th></th>\n      <th>Pclass</th>\n      <th>Name</th>\n      <th>Sex</th>\n      <th>Age</th>\n      <th>Fare</th>\n      <th>Cabin</th>\n      <th>Embarked</th>\n      <th>Accompany_num</th>\n    </tr>\n  </thead>\n  <tbody>\n    <tr>\n      <th>0</th>\n      <td>3</td>\n      <td>Kelly, Mr. James</td>\n      <td>male</td>\n      <td>34.500000</td>\n      <td>7.8292</td>\n      <td>F</td>\n      <td>Q</td>\n      <td>0</td>\n    </tr>\n    <tr>\n      <th>1</th>\n      <td>3</td>\n      <td>Wilkes, Mrs. James (Ellen Needs)</td>\n      <td>female</td>\n      <td>47.000000</td>\n      <td>7.0000</td>\n      <td>F</td>\n      <td>S</td>\n      <td>1</td>\n    </tr>\n    <tr>\n      <th>2</th>\n      <td>2</td>\n      <td>Myles, Mr. Thomas Francis</td>\n      <td>male</td>\n      <td>62.000000</td>\n      <td>9.6875</td>\n      <td>F</td>\n      <td>Q</td>\n      <td>0</td>\n    </tr>\n    <tr>\n      <th>3</th>\n      <td>3</td>\n      <td>Wirz, Mr. Albert</td>\n      <td>male</td>\n      <td>27.000000</td>\n      <td>8.6625</td>\n      <td>F</td>\n      <td>S</td>\n      <td>0</td>\n    </tr>\n    <tr>\n      <th>4</th>\n      <td>3</td>\n      <td>Hirvonen, Mrs. Alexander (Helga E Lindqvist)</td>\n      <td>female</td>\n      <td>22.000000</td>\n      <td>12.2875</td>\n      <td>G</td>\n      <td>S</td>\n      <td>2</td>\n    </tr>\n    <tr>\n      <th>...</th>\n      <td>...</td>\n      <td>...</td>\n      <td>...</td>\n      <td>...</td>\n      <td>...</td>\n      <td>...</td>\n      <td>...</td>\n      <td>...</td>\n    </tr>\n    <tr>\n      <th>413</th>\n      <td>3</td>\n      <td>Spector, Mr. Woolf</td>\n      <td>male</td>\n      <td>33.214286</td>\n      <td>8.0500</td>\n      <td>F</td>\n      <td>S</td>\n      <td>0</td>\n    </tr>\n    <tr>\n      <th>414</th>\n      <td>1</td>\n      <td>Oliva y Ocana, Dona. Fermina</td>\n      <td>female</td>\n      <td>39.000000</td>\n      <td>108.9000</td>\n      <td>C</td>\n      <td>C</td>\n      <td>0</td>\n    </tr>\n    <tr>\n      <th>415</th>\n      <td>3</td>\n      <td>Saether, Mr. Simon Sivertsen</td>\n      <td>male</td>\n      <td>38.500000</td>\n      <td>7.2500</td>\n      <td>F</td>\n      <td>S</td>\n      <td>0</td>\n    </tr>\n    <tr>\n      <th>416</th>\n      <td>3</td>\n      <td>Ware, Mr. Frederick</td>\n      <td>male</td>\n      <td>22.538462</td>\n      <td>8.0500</td>\n      <td>F</td>\n      <td>S</td>\n      <td>0</td>\n    </tr>\n    <tr>\n      <th>417</th>\n      <td>3</td>\n      <td>Peter, Master. Michael J</td>\n      <td>male</td>\n      <td>22.538462</td>\n      <td>22.3583</td>\n      <td>F</td>\n      <td>C</td>\n      <td>2</td>\n    </tr>\n  </tbody>\n</table>\n<p>418 rows × 8 columns</p>\n</div>"
     },
     "metadata": {},
     "execution_count": 23
    }
   ],
   "source": [
    "test"
   ]
  },
  {
   "source": [
    "더 드랍할 특성은 없는지 확인해보자."
   ],
   "cell_type": "markdown",
   "metadata": {}
  },
  {
   "cell_type": "code",
   "execution_count": 51,
   "metadata": {},
   "outputs": [
    {
     "output_type": "execute_result",
     "data": {
      "text/plain": [
       "   Pclass  Survived\n",
       "0       1  0.629630\n",
       "1       2  0.472826\n",
       "2       3  0.242363"
      ],
      "text/html": "<div>\n<style scoped>\n    .dataframe tbody tr th:only-of-type {\n        vertical-align: middle;\n    }\n\n    .dataframe tbody tr th {\n        vertical-align: top;\n    }\n\n    .dataframe thead th {\n        text-align: right;\n    }\n</style>\n<table border=\"1\" class=\"dataframe\">\n  <thead>\n    <tr style=\"text-align: right;\">\n      <th></th>\n      <th>Pclass</th>\n      <th>Survived</th>\n    </tr>\n  </thead>\n  <tbody>\n    <tr>\n      <th>0</th>\n      <td>1</td>\n      <td>0.629630</td>\n    </tr>\n    <tr>\n      <th>1</th>\n      <td>2</td>\n      <td>0.472826</td>\n    </tr>\n    <tr>\n      <th>2</th>\n      <td>3</td>\n      <td>0.242363</td>\n    </tr>\n  </tbody>\n</table>\n</div>"
     },
     "metadata": {},
     "execution_count": 51
    }
   ],
   "source": [
    "train.groupby(['Pclass'], as_index=False)['Survived'].mean()"
   ]
  },
  {
   "cell_type": "code",
   "execution_count": 52,
   "metadata": {},
   "outputs": [
    {
     "output_type": "execute_result",
     "data": {
      "text/plain": [
       "      Sex  Survived\n",
       "0  female  0.742038\n",
       "1    male  0.188908"
      ],
      "text/html": "<div>\n<style scoped>\n    .dataframe tbody tr th:only-of-type {\n        vertical-align: middle;\n    }\n\n    .dataframe tbody tr th {\n        vertical-align: top;\n    }\n\n    .dataframe thead th {\n        text-align: right;\n    }\n</style>\n<table border=\"1\" class=\"dataframe\">\n  <thead>\n    <tr style=\"text-align: right;\">\n      <th></th>\n      <th>Sex</th>\n      <th>Survived</th>\n    </tr>\n  </thead>\n  <tbody>\n    <tr>\n      <th>0</th>\n      <td>female</td>\n      <td>0.742038</td>\n    </tr>\n    <tr>\n      <th>1</th>\n      <td>male</td>\n      <td>0.188908</td>\n    </tr>\n  </tbody>\n</table>\n</div>"
     },
     "metadata": {},
     "execution_count": 52
    }
   ],
   "source": [
    "train.groupby(['Sex'], as_index=False)['Survived'].mean()"
   ]
  },
  {
   "source": [
    "우선 객실 등급과 성별은 생존자 판정에 있어 중요한 특성이라는 걸 앞서 확인했다. 그러니 이 둘은 생존자 판정에 사용할거다"
   ],
   "cell_type": "markdown",
   "metadata": {}
  },
  {
   "source": [
    "승선 위치 특성을 다시 한 번 살펴보자. 성별과 객실 등급이 같은 승객들을 승선 위치 기준으로 구분 후 생존 평균값을 구해보자."
   ],
   "cell_type": "markdown",
   "metadata": {}
  },
  {
   "cell_type": "code",
   "execution_count": 53,
   "metadata": {},
   "outputs": [
    {
     "output_type": "execute_result",
     "data": {
      "text/plain": [
       "  Embarked  Survived\n",
       "0        C  0.404762\n",
       "1        Q  0.000000\n",
       "2        S  0.354430"
      ],
      "text/html": "<div>\n<style scoped>\n    .dataframe tbody tr th:only-of-type {\n        vertical-align: middle;\n    }\n\n    .dataframe tbody tr th {\n        vertical-align: top;\n    }\n\n    .dataframe thead th {\n        text-align: right;\n    }\n</style>\n<table border=\"1\" class=\"dataframe\">\n  <thead>\n    <tr style=\"text-align: right;\">\n      <th></th>\n      <th>Embarked</th>\n      <th>Survived</th>\n    </tr>\n  </thead>\n  <tbody>\n    <tr>\n      <th>0</th>\n      <td>C</td>\n      <td>0.404762</td>\n    </tr>\n    <tr>\n      <th>1</th>\n      <td>Q</td>\n      <td>0.000000</td>\n    </tr>\n    <tr>\n      <th>2</th>\n      <td>S</td>\n      <td>0.354430</td>\n    </tr>\n  </tbody>\n</table>\n</div>"
     },
     "metadata": {},
     "execution_count": 53
    }
   ],
   "source": [
    "train[(train['Pclass'] == 1) & (train['Sex'] == 'male')].groupby(['Embarked'], as_index=False)['Survived'].mean()"
   ]
  },
  {
   "cell_type": "code",
   "execution_count": 54,
   "metadata": {},
   "outputs": [
    {
     "output_type": "execute_result",
     "data": {
      "text/plain": [
       "  Embarked  Survived\n",
       "0        C  0.976744\n",
       "1        Q  1.000000\n",
       "2        S  0.960000"
      ],
      "text/html": "<div>\n<style scoped>\n    .dataframe tbody tr th:only-of-type {\n        vertical-align: middle;\n    }\n\n    .dataframe tbody tr th {\n        vertical-align: top;\n    }\n\n    .dataframe thead th {\n        text-align: right;\n    }\n</style>\n<table border=\"1\" class=\"dataframe\">\n  <thead>\n    <tr style=\"text-align: right;\">\n      <th></th>\n      <th>Embarked</th>\n      <th>Survived</th>\n    </tr>\n  </thead>\n  <tbody>\n    <tr>\n      <th>0</th>\n      <td>C</td>\n      <td>0.976744</td>\n    </tr>\n    <tr>\n      <th>1</th>\n      <td>Q</td>\n      <td>1.000000</td>\n    </tr>\n    <tr>\n      <th>2</th>\n      <td>S</td>\n      <td>0.960000</td>\n    </tr>\n  </tbody>\n</table>\n</div>"
     },
     "metadata": {},
     "execution_count": 54
    }
   ],
   "source": [
    "train[(train['Pclass'] == 1) & (train['Sex'] == 'female')].groupby(['Embarked'], as_index=False)['Survived'].mean()"
   ]
  },
  {
   "cell_type": "code",
   "execution_count": 55,
   "metadata": {},
   "outputs": [
    {
     "output_type": "execute_result",
     "data": {
      "text/plain": [
       "  Embarked  Survived\n",
       "0        C  0.200000\n",
       "1        Q  0.000000\n",
       "2        S  0.154639"
      ],
      "text/html": "<div>\n<style scoped>\n    .dataframe tbody tr th:only-of-type {\n        vertical-align: middle;\n    }\n\n    .dataframe tbody tr th {\n        vertical-align: top;\n    }\n\n    .dataframe thead th {\n        text-align: right;\n    }\n</style>\n<table border=\"1\" class=\"dataframe\">\n  <thead>\n    <tr style=\"text-align: right;\">\n      <th></th>\n      <th>Embarked</th>\n      <th>Survived</th>\n    </tr>\n  </thead>\n  <tbody>\n    <tr>\n      <th>0</th>\n      <td>C</td>\n      <td>0.200000</td>\n    </tr>\n    <tr>\n      <th>1</th>\n      <td>Q</td>\n      <td>0.000000</td>\n    </tr>\n    <tr>\n      <th>2</th>\n      <td>S</td>\n      <td>0.154639</td>\n    </tr>\n  </tbody>\n</table>\n</div>"
     },
     "metadata": {},
     "execution_count": 55
    }
   ],
   "source": [
    "train[(train['Pclass'] == 2) & (train['Sex'] == 'male')].groupby(['Embarked'], as_index=False)['Survived'].mean()"
   ]
  },
  {
   "cell_type": "code",
   "execution_count": 56,
   "metadata": {},
   "outputs": [
    {
     "output_type": "execute_result",
     "data": {
      "text/plain": [
       "  Embarked  Survived\n",
       "0        C  1.000000\n",
       "1        Q  1.000000\n",
       "2        S  0.910448"
      ],
      "text/html": "<div>\n<style scoped>\n    .dataframe tbody tr th:only-of-type {\n        vertical-align: middle;\n    }\n\n    .dataframe tbody tr th {\n        vertical-align: top;\n    }\n\n    .dataframe thead th {\n        text-align: right;\n    }\n</style>\n<table border=\"1\" class=\"dataframe\">\n  <thead>\n    <tr style=\"text-align: right;\">\n      <th></th>\n      <th>Embarked</th>\n      <th>Survived</th>\n    </tr>\n  </thead>\n  <tbody>\n    <tr>\n      <th>0</th>\n      <td>C</td>\n      <td>1.000000</td>\n    </tr>\n    <tr>\n      <th>1</th>\n      <td>Q</td>\n      <td>1.000000</td>\n    </tr>\n    <tr>\n      <th>2</th>\n      <td>S</td>\n      <td>0.910448</td>\n    </tr>\n  </tbody>\n</table>\n</div>"
     },
     "metadata": {},
     "execution_count": 56
    }
   ],
   "source": [
    "train[(train['Pclass'] == 2) & (train['Sex'] == 'female')].groupby(['Embarked'], as_index=False)['Survived'].mean()"
   ]
  },
  {
   "cell_type": "code",
   "execution_count": 57,
   "metadata": {},
   "outputs": [
    {
     "output_type": "execute_result",
     "data": {
      "text/plain": [
       "  Embarked  Survived\n",
       "0        C  0.232558\n",
       "1        Q  0.076923\n",
       "2        S  0.128302"
      ],
      "text/html": "<div>\n<style scoped>\n    .dataframe tbody tr th:only-of-type {\n        vertical-align: middle;\n    }\n\n    .dataframe tbody tr th {\n        vertical-align: top;\n    }\n\n    .dataframe thead th {\n        text-align: right;\n    }\n</style>\n<table border=\"1\" class=\"dataframe\">\n  <thead>\n    <tr style=\"text-align: right;\">\n      <th></th>\n      <th>Embarked</th>\n      <th>Survived</th>\n    </tr>\n  </thead>\n  <tbody>\n    <tr>\n      <th>0</th>\n      <td>C</td>\n      <td>0.232558</td>\n    </tr>\n    <tr>\n      <th>1</th>\n      <td>Q</td>\n      <td>0.076923</td>\n    </tr>\n    <tr>\n      <th>2</th>\n      <td>S</td>\n      <td>0.128302</td>\n    </tr>\n  </tbody>\n</table>\n</div>"
     },
     "metadata": {},
     "execution_count": 57
    }
   ],
   "source": [
    "train[(train['Pclass'] == 3) & (train['Sex'] == 'male')].groupby(['Embarked'], as_index=False)['Survived'].mean()"
   ]
  },
  {
   "cell_type": "code",
   "execution_count": 58,
   "metadata": {},
   "outputs": [
    {
     "output_type": "execute_result",
     "data": {
      "text/plain": [
       "  Embarked  Survived\n",
       "0        C  0.652174\n",
       "1        Q  0.727273\n",
       "2        S  0.375000"
      ],
      "text/html": "<div>\n<style scoped>\n    .dataframe tbody tr th:only-of-type {\n        vertical-align: middle;\n    }\n\n    .dataframe tbody tr th {\n        vertical-align: top;\n    }\n\n    .dataframe thead th {\n        text-align: right;\n    }\n</style>\n<table border=\"1\" class=\"dataframe\">\n  <thead>\n    <tr style=\"text-align: right;\">\n      <th></th>\n      <th>Embarked</th>\n      <th>Survived</th>\n    </tr>\n  </thead>\n  <tbody>\n    <tr>\n      <th>0</th>\n      <td>C</td>\n      <td>0.652174</td>\n    </tr>\n    <tr>\n      <th>1</th>\n      <td>Q</td>\n      <td>0.727273</td>\n    </tr>\n    <tr>\n      <th>2</th>\n      <td>S</td>\n      <td>0.375000</td>\n    </tr>\n  </tbody>\n</table>\n</div>"
     },
     "metadata": {},
     "execution_count": 58
    }
   ],
   "source": [
    "train[(train['Pclass'] == 3) & (train['Sex'] == 'female')].groupby(['Embarked'], as_index=False)['Survived'].mean()"
   ]
  },
  {
   "source": [
    "3등석에 탑승한 여성 승객인 경우를 제외하면 주목할만한 차이가 보이지 않았다. \n",
    "<br>\n",
    "탑승 위치 정보를 생존자 판별 기준으로 넣는다고 해도 큰 도움이 될 것 같지 않다고 판단된다. 그래서 나중에 드랍하기로 했다."
   ],
   "cell_type": "markdown",
   "metadata": {}
  },
  {
   "source": [
    "이제 '동행자 수' 데이터를 살펴보자"
   ],
   "cell_type": "markdown",
   "metadata": {}
  },
  {
   "cell_type": "code",
   "execution_count": 60,
   "metadata": {},
   "outputs": [
    {
     "output_type": "execute_result",
     "data": {
      "text/plain": [
       "   Accompany_num  Survived\n",
       "0              0  0.333333\n",
       "1              1  0.387097\n",
       "2              2  0.454545\n",
       "3              3  1.000000\n",
       "4              5  0.000000"
      ],
      "text/html": "<div>\n<style scoped>\n    .dataframe tbody tr th:only-of-type {\n        vertical-align: middle;\n    }\n\n    .dataframe tbody tr th {\n        vertical-align: top;\n    }\n\n    .dataframe thead th {\n        text-align: right;\n    }\n</style>\n<table border=\"1\" class=\"dataframe\">\n  <thead>\n    <tr style=\"text-align: right;\">\n      <th></th>\n      <th>Accompany_num</th>\n      <th>Survived</th>\n    </tr>\n  </thead>\n  <tbody>\n    <tr>\n      <th>0</th>\n      <td>0</td>\n      <td>0.333333</td>\n    </tr>\n    <tr>\n      <th>1</th>\n      <td>1</td>\n      <td>0.387097</td>\n    </tr>\n    <tr>\n      <th>2</th>\n      <td>2</td>\n      <td>0.454545</td>\n    </tr>\n    <tr>\n      <th>3</th>\n      <td>3</td>\n      <td>1.000000</td>\n    </tr>\n    <tr>\n      <th>4</th>\n      <td>5</td>\n      <td>0.000000</td>\n    </tr>\n  </tbody>\n</table>\n</div>"
     },
     "metadata": {},
     "execution_count": 60
    }
   ],
   "source": [
    "train[(train['Pclass'] == 1) & (train['Sex'] == 'male')].groupby(['Accompany_num'], as_index=False)['Survived'].mean()"
   ]
  },
  {
   "cell_type": "code",
   "execution_count": 61,
   "metadata": {},
   "outputs": [
    {
     "output_type": "execute_result",
     "data": {
      "text/plain": [
       "0    75\n",
       "1    31\n",
       "2    11\n",
       "3     3\n",
       "5     2\n",
       "Name: Accompany_num, dtype: int64"
      ]
     },
     "metadata": {},
     "execution_count": 61
    }
   ],
   "source": [
    "train[(train['Pclass'] == 1) & (train['Sex'] == 'male')]['Accompany_num'].value_counts()"
   ]
  },
  {
   "source": [
    "동행자가 3, 5명일 때 전부 생존하거나 전부 사망한 경우가 있는데 그 수가 매우 적다. 동행자가 3, 5명인 승객이 합쳐서 5명인데 그 중 1명이 산 것이다. "
   ],
   "cell_type": "markdown",
   "metadata": {}
  },
  {
   "cell_type": "code",
   "execution_count": 62,
   "metadata": {},
   "outputs": [
    {
     "output_type": "execute_result",
     "data": {
      "text/plain": [
       "   Accompany_num  Survived\n",
       "0              0  0.970588\n",
       "1              1  1.000000\n",
       "2              2  1.000000\n",
       "3              3  0.500000\n",
       "4              4  1.000000\n",
       "5              5  1.000000"
      ],
      "text/html": "<div>\n<style scoped>\n    .dataframe tbody tr th:only-of-type {\n        vertical-align: middle;\n    }\n\n    .dataframe tbody tr th {\n        vertical-align: top;\n    }\n\n    .dataframe thead th {\n        text-align: right;\n    }\n</style>\n<table border=\"1\" class=\"dataframe\">\n  <thead>\n    <tr style=\"text-align: right;\">\n      <th></th>\n      <th>Accompany_num</th>\n      <th>Survived</th>\n    </tr>\n  </thead>\n  <tbody>\n    <tr>\n      <th>0</th>\n      <td>0</td>\n      <td>0.970588</td>\n    </tr>\n    <tr>\n      <th>1</th>\n      <td>1</td>\n      <td>1.000000</td>\n    </tr>\n    <tr>\n      <th>2</th>\n      <td>2</td>\n      <td>1.000000</td>\n    </tr>\n    <tr>\n      <th>3</th>\n      <td>3</td>\n      <td>0.500000</td>\n    </tr>\n    <tr>\n      <th>4</th>\n      <td>4</td>\n      <td>1.000000</td>\n    </tr>\n    <tr>\n      <th>5</th>\n      <td>5</td>\n      <td>1.000000</td>\n    </tr>\n  </tbody>\n</table>\n</div>"
     },
     "metadata": {},
     "execution_count": 62
    }
   ],
   "source": [
    "train[(train['Pclass'] == 1) & (train['Sex'] == 'female')].groupby(['Accompany_num'], as_index=False)['Survived'].mean()"
   ]
  },
  {
   "cell_type": "code",
   "execution_count": 63,
   "metadata": {},
   "outputs": [
    {
     "output_type": "execute_result",
     "data": {
      "text/plain": [
       "1    39\n",
       "0    34\n",
       "2    13\n",
       "3     4\n",
       "4     2\n",
       "5     2\n",
       "Name: Accompany_num, dtype: int64"
      ]
     },
     "metadata": {},
     "execution_count": 63
    }
   ],
   "source": [
    "train[(train['Pclass'] == 1) & (train['Sex'] == 'female')]['Accompany_num'].value_counts()"
   ]
  },
  {
   "source": [
    "마찬가지로 생존 평균값이 0.5인 경우가 있는데 4명 중 2명이 살고 2명이 죽은거다. 수가 매우 적다."
   ],
   "cell_type": "markdown",
   "metadata": {}
  },
  {
   "cell_type": "code",
   "execution_count": 64,
   "metadata": {},
   "outputs": [
    {
     "output_type": "execute_result",
     "data": {
      "text/plain": [
       "   Accompany_num  Survived\n",
       "0              0  0.097222\n",
       "1              1  0.066667\n",
       "2              2  0.470588\n",
       "3              3  0.250000"
      ],
      "text/html": "<div>\n<style scoped>\n    .dataframe tbody tr th:only-of-type {\n        vertical-align: middle;\n    }\n\n    .dataframe tbody tr th {\n        vertical-align: top;\n    }\n\n    .dataframe thead th {\n        text-align: right;\n    }\n</style>\n<table border=\"1\" class=\"dataframe\">\n  <thead>\n    <tr style=\"text-align: right;\">\n      <th></th>\n      <th>Accompany_num</th>\n      <th>Survived</th>\n    </tr>\n  </thead>\n  <tbody>\n    <tr>\n      <th>0</th>\n      <td>0</td>\n      <td>0.097222</td>\n    </tr>\n    <tr>\n      <th>1</th>\n      <td>1</td>\n      <td>0.066667</td>\n    </tr>\n    <tr>\n      <th>2</th>\n      <td>2</td>\n      <td>0.470588</td>\n    </tr>\n    <tr>\n      <th>3</th>\n      <td>3</td>\n      <td>0.250000</td>\n    </tr>\n  </tbody>\n</table>\n</div>"
     },
     "metadata": {},
     "execution_count": 64
    }
   ],
   "source": [
    "train[(train['Pclass'] == 2) & (train['Sex'] == 'male')].groupby(['Accompany_num'], as_index=False)['Survived'].mean()"
   ]
  },
  {
   "cell_type": "code",
   "execution_count": 65,
   "metadata": {},
   "outputs": [
    {
     "output_type": "execute_result",
     "data": {
      "text/plain": [
       "0    72\n",
       "2    17\n",
       "1    15\n",
       "3     4\n",
       "Name: Accompany_num, dtype: int64"
      ]
     },
     "metadata": {},
     "execution_count": 65
    }
   ],
   "source": [
    "train[(train['Pclass'] == 2) & (train['Sex'] == 'male')]['Accompany_num'].value_counts()"
   ]
  },
  {
   "source": [
    "동행자가 2, 3명일 때 생존률이 비교적 많이 높다. 근데 역시 수가 적다."
   ],
   "cell_type": "markdown",
   "metadata": {}
  },
  {
   "cell_type": "code",
   "execution_count": 66,
   "metadata": {},
   "outputs": [
    {
     "output_type": "execute_result",
     "data": {
      "text/plain": [
       "   Accompany_num  Survived\n",
       "0              0  0.121212\n",
       "1              1  0.178571\n",
       "2              2  0.320000\n",
       "3              3  0.333333\n",
       "4              4  0.000000\n",
       "5              5  0.000000\n",
       "6              6  0.250000\n",
       "7              7  0.000000\n",
       "8             10  0.000000"
      ],
      "text/html": "<div>\n<style scoped>\n    .dataframe tbody tr th:only-of-type {\n        vertical-align: middle;\n    }\n\n    .dataframe tbody tr th {\n        vertical-align: top;\n    }\n\n    .dataframe thead th {\n        text-align: right;\n    }\n</style>\n<table border=\"1\" class=\"dataframe\">\n  <thead>\n    <tr style=\"text-align: right;\">\n      <th></th>\n      <th>Accompany_num</th>\n      <th>Survived</th>\n    </tr>\n  </thead>\n  <tbody>\n    <tr>\n      <th>0</th>\n      <td>0</td>\n      <td>0.121212</td>\n    </tr>\n    <tr>\n      <th>1</th>\n      <td>1</td>\n      <td>0.178571</td>\n    </tr>\n    <tr>\n      <th>2</th>\n      <td>2</td>\n      <td>0.320000</td>\n    </tr>\n    <tr>\n      <th>3</th>\n      <td>3</td>\n      <td>0.333333</td>\n    </tr>\n    <tr>\n      <th>4</th>\n      <td>4</td>\n      <td>0.000000</td>\n    </tr>\n    <tr>\n      <th>5</th>\n      <td>5</td>\n      <td>0.000000</td>\n    </tr>\n    <tr>\n      <th>6</th>\n      <td>6</td>\n      <td>0.250000</td>\n    </tr>\n    <tr>\n      <th>7</th>\n      <td>7</td>\n      <td>0.000000</td>\n    </tr>\n    <tr>\n      <th>8</th>\n      <td>10</td>\n      <td>0.000000</td>\n    </tr>\n  </tbody>\n</table>\n</div>"
     },
     "metadata": {},
     "execution_count": 66
    }
   ],
   "source": [
    "train[(train['Pclass'] == 3) & (train['Sex'] == 'male')].groupby(['Accompany_num'], as_index=False)['Survived'].mean()"
   ]
  },
  {
   "source": [
    "train[(train['Pclass'] == 3) & (train['Sex'] == 'female')].groupby(['Accompany_num'], as_index=False)['Survived'].mean()"
   ],
   "cell_type": "code",
   "metadata": {},
   "execution_count": 67,
   "outputs": [
    {
     "output_type": "execute_result",
     "data": {
      "text/plain": [
       "   Accompany_num  Survived\n",
       "0              0  0.616667\n",
       "1              1  0.517241\n",
       "2              2  0.545455\n",
       "3              3  0.833333\n",
       "4              4  0.000000\n",
       "5              5  0.000000\n",
       "6              6  0.375000\n",
       "7              7  0.000000\n",
       "8             10  0.000000"
      ],
      "text/html": "<div>\n<style scoped>\n    .dataframe tbody tr th:only-of-type {\n        vertical-align: middle;\n    }\n\n    .dataframe tbody tr th {\n        vertical-align: top;\n    }\n\n    .dataframe thead th {\n        text-align: right;\n    }\n</style>\n<table border=\"1\" class=\"dataframe\">\n  <thead>\n    <tr style=\"text-align: right;\">\n      <th></th>\n      <th>Accompany_num</th>\n      <th>Survived</th>\n    </tr>\n  </thead>\n  <tbody>\n    <tr>\n      <th>0</th>\n      <td>0</td>\n      <td>0.616667</td>\n    </tr>\n    <tr>\n      <th>1</th>\n      <td>1</td>\n      <td>0.517241</td>\n    </tr>\n    <tr>\n      <th>2</th>\n      <td>2</td>\n      <td>0.545455</td>\n    </tr>\n    <tr>\n      <th>3</th>\n      <td>3</td>\n      <td>0.833333</td>\n    </tr>\n    <tr>\n      <th>4</th>\n      <td>4</td>\n      <td>0.000000</td>\n    </tr>\n    <tr>\n      <th>5</th>\n      <td>5</td>\n      <td>0.000000</td>\n    </tr>\n    <tr>\n      <th>6</th>\n      <td>6</td>\n      <td>0.375000</td>\n    </tr>\n    <tr>\n      <th>7</th>\n      <td>7</td>\n      <td>0.000000</td>\n    </tr>\n    <tr>\n      <th>8</th>\n      <td>10</td>\n      <td>0.000000</td>\n    </tr>\n  </tbody>\n</table>\n</div>"
     },
     "metadata": {},
     "execution_count": 67
    }
   ]
  },
  {
   "source": [
    "train[(train['Pclass'] == 3) & (train['Sex'] == 'female')]['Accompany_num'].value_counts()"
   ],
   "cell_type": "code",
   "metadata": {},
   "execution_count": 68,
   "outputs": [
    {
     "output_type": "execute_result",
     "data": {
      "text/plain": [
       "0     60\n",
       "1     29\n",
       "2     22\n",
       "4      9\n",
       "6      8\n",
       "3      6\n",
       "5      5\n",
       "10     3\n",
       "7      2\n",
       "Name: Accompany_num, dtype: int64"
      ]
     },
     "metadata": {},
     "execution_count": 68
    }
   ]
  },
  {
   "source": [
    "동행자가 4,5,7명일 때 전부 사망했는데 다 합쳐서 16명이다. 수가 적다. "
   ],
   "cell_type": "markdown",
   "metadata": {}
  },
  {
   "source": [
    "동행 숫자 데이터를 생존과 연관지어 살펴봤다. \n",
    "<br>\n",
    "몇몇 부분에서 나머지 값보다 특별히 낮거나 높은 경우가 존재했으나 그 수가 매우 적었고 전체적으로 생존률에 큰 영향을 주지 못하는 것으로 판단된다. \n",
    "<br>\n",
    "그래서 동행자 숫자 역시 나중에 드랍하기로 했다. "
   ],
   "cell_type": "markdown",
   "metadata": {}
  },
  {
   "source": [
    "이제 요금 데이터를 확인하자\n",
    "<br>\n",
    "모든 조건이 다 같고 객실 등급만 다를 때 요금 차이와 생존률 차이를 알아보자"
   ],
   "cell_type": "markdown",
   "metadata": {}
  },
  {
   "cell_type": "code",
   "execution_count": 25,
   "metadata": {},
   "outputs": [
    {
     "output_type": "execute_result",
     "data": {
      "text/plain": [
       "   Pclass  Survived        Age       Fare  Accompany_num\n",
       "0       1  0.454545  47.757576  26.071591            0.0\n",
       "1       2  0.057143  33.828571  13.008571            0.0\n",
       "2       3  0.285714  27.178571  27.369033            0.0"
      ],
      "text/html": "<div>\n<style scoped>\n    .dataframe tbody tr th:only-of-type {\n        vertical-align: middle;\n    }\n\n    .dataframe tbody tr th {\n        vertical-align: top;\n    }\n\n    .dataframe thead th {\n        text-align: right;\n    }\n</style>\n<table border=\"1\" class=\"dataframe\">\n  <thead>\n    <tr style=\"text-align: right;\">\n      <th></th>\n      <th>Pclass</th>\n      <th>Survived</th>\n      <th>Age</th>\n      <th>Fare</th>\n      <th>Accompany_num</th>\n    </tr>\n  </thead>\n  <tbody>\n    <tr>\n      <th>0</th>\n      <td>1</td>\n      <td>0.454545</td>\n      <td>47.757576</td>\n      <td>26.071591</td>\n      <td>0.0</td>\n    </tr>\n    <tr>\n      <th>1</th>\n      <td>2</td>\n      <td>0.057143</td>\n      <td>33.828571</td>\n      <td>13.008571</td>\n      <td>0.0</td>\n    </tr>\n    <tr>\n      <th>2</th>\n      <td>3</td>\n      <td>0.285714</td>\n      <td>27.178571</td>\n      <td>27.369033</td>\n      <td>0.0</td>\n    </tr>\n  </tbody>\n</table>\n</div>"
     },
     "metadata": {},
     "execution_count": 25
    }
   ],
   "source": [
    "train[(train['Cabin'] == 'E') & (train['Embarked'] == 'S') & (train['Accompany_num'] == 0) & (train['Sex'] == 'male')].groupby(['Pclass'], as_index=False).mean() "
   ]
  },
  {
   "source": [
    "train[(train['Cabin'] == 'E') & (train['Embarked'] == 'S') & (train['Accompany_num'] == 0)].groupby(['Pclass'], as_index=False).mean() "
   ],
   "cell_type": "code",
   "metadata": {},
   "execution_count": 22,
   "outputs": [
    {
     "output_type": "execute_result",
     "data": {
      "text/plain": [
       "   Pclass  Survived        Age       Fare  Accompany_num\n",
       "0       1  0.454545  47.757576  26.071591            0.0\n",
       "1       2  0.294118  34.225490  12.964706            0.0\n",
       "2       3  0.333333  26.697917  25.125163            0.0"
      ],
      "text/html": "<div>\n<style scoped>\n    .dataframe tbody tr th:only-of-type {\n        vertical-align: middle;\n    }\n\n    .dataframe tbody tr th {\n        vertical-align: top;\n    }\n\n    .dataframe thead th {\n        text-align: right;\n    }\n</style>\n<table border=\"1\" class=\"dataframe\">\n  <thead>\n    <tr style=\"text-align: right;\">\n      <th></th>\n      <th>Pclass</th>\n      <th>Survived</th>\n      <th>Age</th>\n      <th>Fare</th>\n      <th>Accompany_num</th>\n    </tr>\n  </thead>\n  <tbody>\n    <tr>\n      <th>0</th>\n      <td>1</td>\n      <td>0.454545</td>\n      <td>47.757576</td>\n      <td>26.071591</td>\n      <td>0.0</td>\n    </tr>\n    <tr>\n      <th>1</th>\n      <td>2</td>\n      <td>0.294118</td>\n      <td>34.225490</td>\n      <td>12.964706</td>\n      <td>0.0</td>\n    </tr>\n    <tr>\n      <th>2</th>\n      <td>3</td>\n      <td>0.333333</td>\n      <td>26.697917</td>\n      <td>25.125163</td>\n      <td>0.0</td>\n    </tr>\n  </tbody>\n</table>\n</div>"
     },
     "metadata": {},
     "execution_count": 22
    }
   ]
  },
  {
   "source": [
    "성별에 따른 요금 차이가 살짝 있는데 매우 작은 값이라 성별에 따른 요금 차이는 고려하지 않아도 될 것 같다. \n",
    "<br>\n",
    "그러니 요금을 비행기와 같이 퍼스트(1등석), 비즈니스(2등석), 이코노미(3등석)로 나누자"
   ],
   "cell_type": "markdown",
   "metadata": {}
  },
  {
   "source": [
    "케이스가 너무 많다. \n",
    "<br>\n",
    "그리고 앞서 요금에 따라 객석 등급, 종류가 다르다는 걸 확인했고 객석 등급, 종류가 생존에 끼치는 영향이 큰 것을 확인했다. 그래서 요금을 기준으로 객석 등급, 종류를 판단해 결측치를 채웠다. \n",
    "<br>\n",
    "요금 항목으로 만든 수치에 더해 요금 항목까지 모델 판별에 쓰면 좋을거 같아 일반화해서 쓸거다"
   ],
   "cell_type": "markdown",
   "metadata": {}
  },
  {
   "source": [
    "마지막으로 나이를 살펴보자. 우선 연령대 별(10대, 20대...)로 데이터를 분리한 뒤 평균 생존값을 살펴보자"
   ],
   "cell_type": "markdown",
   "metadata": {}
  },
  {
   "cell_type": "code",
   "execution_count": 14,
   "metadata": {},
   "outputs": [
    {
     "output_type": "stream",
     "name": "stdout",
     "text": [
      "80.0\n76.0\n"
     ]
    }
   ],
   "source": [
    "# 나이 최대값 확인. 두 데이터 통틀어서 80세가 최대다. \n",
    "print(train['Age'].max())\n",
    "print(test['Age'].max())"
   ]
  },
  {
   "cell_type": "code",
   "execution_count": 15,
   "metadata": {},
   "outputs": [],
   "source": [
    "# 각 연령별로 데이터 추출 후 저장\n",
    "train_0s = train[train['Age'] < 10.0]\n",
    "train_10s = train[(train['Age'] < 20.0) & (train['Age'] >= 10.0)]\n",
    "train_20s = train[(train['Age'] < 30.0) & (train['Age'] >= 20.0)]\n",
    "train_30s = train[(train['Age'] < 40.0) & (train['Age'] >= 30.0)]\n",
    "train_40s = train[(train['Age'] < 50.0) & (train['Age'] >= 40.0)]\n",
    "train_50s = train[(train['Age'] < 60.0) & (train['Age'] >= 50.0)]\n",
    "train_60s = train[(train['Age'] < 70.0) & (train['Age'] >= 60.0)]\n",
    "train_70s = train[(train['Age'] < 80.0) & (train['Age'] >= 70.0)]\n",
    "train_80s = train[(train['Age'] < 90.0) & (train['Age'] >= 80.0)]"
   ]
  },
  {
   "cell_type": "code",
   "execution_count": 16,
   "metadata": {},
   "outputs": [
    {
     "output_type": "stream",
     "name": "stdout",
     "text": [
      "0~9세 평균 생존률 : 0.59375, 0~9세 인구 : 64\n10~19세 평균 생존률 : 0.49612403100775193, 10~19세 인구 : 129\n20~29세 평균 생존률 : 0.2908496732026144, 20~29세 인구 : 306\n30~39세 평균 생존률 : 0.40375586854460094, 30~39세 인구 : 213\n40~49세 평균 생존률 : 0.4, 40~49세 인구 : 95\n50~59세 평균 생존률 : 0.3448275862068966, 50~59세 인구 : 58\n60~69세 평균 생존률 : 0.3157894736842105, 60~69세 인구 : 19\n70~79세 평균 생존률 : 0.0, 70~79세 인구 : 6\n80~89세 평균 생존률 : 1.0, 80~89세 인구 : 1\n"
     ]
    }
   ],
   "source": [
    "print(\"0~9세 평균 생존률 : \" + str(train_0s['Survived'].mean()) + \", 0~9세 인구 : \" + str(len(train_0s)))\n",
    "print(\"10~19세 평균 생존률 : \" + str(train_10s['Survived'].mean()) + \", 10~19세 인구 : \" + str(len(train_10s)))\n",
    "print(\"20~29세 평균 생존률 : \" + str(train_20s['Survived'].mean()) + \", 20~29세 인구 : \" + str(len(train_20s)))\n",
    "print(\"30~39세 평균 생존률 : \" + str(train_30s['Survived'].mean()) + \", 30~39세 인구 : \" + str(len(train_30s)))\n",
    "print(\"40~49세 평균 생존률 : \" + str(train_40s['Survived'].mean()) + \", 40~49세 인구 : \" + str(len(train_40s)))\n",
    "print(\"50~59세 평균 생존률 : \" + str(train_50s['Survived'].mean()) + \", 50~59세 인구 : \" + str(len(train_50s)))\n",
    "print(\"60~69세 평균 생존률 : \" + str(train_60s['Survived'].mean()) + \", 60~69세 인구 : \" + str(len(train_60s)))\n",
    "print(\"70~79세 평균 생존률 : \" + str(train_70s['Survived'].mean()) + \", 70~79세 인구 : \" + str(len(train_70s)))\n",
    "print(\"80~89세 평균 생존률 : \" + str(train_80s['Survived'].mean()) + \", 80~89세 인구 : \" + str(len(train_80s)))\n"
   ]
  },
  {
   "source": [
    "연령별로 차이가 나는데 선형으로 증가/감소하지 않고 특정 연령대에서 낮고 높음이 드러난다.\n",
    "<br>\n",
    "앞서 성별을 isMan, isWoman로 구분하듯 연령대를 구분지은 다음 1이나 0을 대입하는 방식을 사용하면 좋다고 본다. \n",
    "<br>\n",
    "그럼 중요한 것은 연령별 구분을 어떻게 할 것이냐다. "
   ],
   "cell_type": "markdown",
   "metadata": {}
  },
  {
   "source": [
    "미성년, 청년, 중년, 노년으로 나눠보기로 했다. \n",
    "<br>\n",
    "0~17세를 미성년, 18~40을 청년, 41~60을 중년, 61~을 노년으로 나눈 뒤 평균 생존률을 구해보겠다. "
   ],
   "cell_type": "markdown",
   "metadata": {}
  },
  {
   "cell_type": "code",
   "execution_count": 76,
   "metadata": {},
   "outputs": [
    {
     "output_type": "stream",
     "name": "stdout",
     "text": [
      "0~17세 평균 생존률 : 0.60431654676259\n18~40세 평균 생존률 : 0.34067796610169493\n41~60세 평균 생존률 : 0.37142857142857144\n61~세 평균 생존률 : 0.22727272727272727\n"
     ]
    }
   ],
   "source": [
    "print(\"0~17세 평균 생존률 : \" + str(train[train['Age'] < 18]['Survived'].mean()))\n",
    "print(\"18~40세 평균 생존률 : \" + str(train[(train['Age'] >= 18.0) & (train['Age'] < 41)]['Survived'].mean()))\n",
    "print(\"41~60세 평균 생존률 : \" + str(train[(train['Age'] >= 41.0) & (train['Age'] < 61)]['Survived'].mean()))\n",
    "print(\"61~세 평균 생존률 : \" + str(train[train['Age'] >= 61.0]['Survived'].mean()))"
   ]
  },
  {
   "source": [
    "미성년, 청년은 구분이 잘되는데 청년, 중년 구분이 잘 안되서 아쉽다. 구분이 되게끔 경계값(기존 값 40)을 조정해보자 "
   ],
   "cell_type": "markdown",
   "metadata": {}
  },
  {
   "cell_type": "code",
   "execution_count": 77,
   "metadata": {},
   "outputs": [
    {
     "output_type": "stream",
     "name": "stdout",
     "text": [
      "18~36세 평균 생존률 : 0.34615384615384615\n37~60세 평균 생존률 : 0.3476190476190476\n\n18~37세 평균 생존률 : 0.3446969696969697\n38~60세 평균 생존률 : 0.35148514851485146\n\n18~38세 평균 생존률 : 0.33512544802867383\n39~60세 평균 생존률 : 0.38372093023255816\n\n18~39세 평균 생존률 : 0.3368237347294939\n40~60세 평균 생존률 : 0.3821656050955414\n"
     ]
    }
   ],
   "source": [
    "print(\"18~36세 평균 생존률 : \" + str(train[(train['Age'] >= 18.0) & (train['Age'] < 37)]['Survived'].mean()))\n",
    "print(\"37~60세 평균 생존률 : \" + str(train[(train['Age'] >= 37.0) & (train['Age'] < 61)]['Survived'].mean()))\n",
    "print()\n",
    "print(\"18~37세 평균 생존률 : \" + str(train[(train['Age'] >= 18.0) & (train['Age'] < 38)]['Survived'].mean()))\n",
    "print(\"38~60세 평균 생존률 : \" + str(train[(train['Age'] >= 38.0) & (train['Age'] < 61)]['Survived'].mean()))\n",
    "print()\n",
    "print(\"18~38세 평균 생존률 : \" + str(train[(train['Age'] >= 18.0) & (train['Age'] < 39)]['Survived'].mean()))\n",
    "print(\"39~60세 평균 생존률 : \" + str(train[(train['Age'] >= 39.0) & (train['Age'] < 61)]['Survived'].mean()))\n",
    "print()\n",
    "print(\"18~39세 평균 생존률 : \" + str(train[(train['Age'] >= 18.0) & (train['Age'] < 40)]['Survived'].mean()))\n",
    "print(\"40~60세 평균 생존률 : \" + str(train[(train['Age'] >= 40.0) & (train['Age'] < 61)]['Survived'].mean()))"
   ]
  },
  {
   "source": [
    "청년~중년 구분을 38세로 했을 때 가장 큰 차이가 난다. 그러니 38세로 하자. "
   ],
   "cell_type": "markdown",
   "metadata": {}
  },
  {
   "source": [
    "print(\"0~17세 평균 생존률 : \" + str(train[train['Age'] < 18]['Survived'].mean()))\n",
    "print(\"18~38세 평균 생존률 : \" + str(train[(train['Age'] >= 18.0) & (train['Age'] < 39)]['Survived'].mean()))\n",
    "print(\"39~60세 평균 생존률 : \" + str(train[(train['Age'] >= 39.0) & (train['Age'] < 61)]['Survived'].mean()))\n",
    "print(\"61~세 평균 생존률 : \" + str(train[train['Age'] >= 61.0]['Survived'].mean()))"
   ],
   "cell_type": "code",
   "metadata": {},
   "execution_count": 78,
   "outputs": [
    {
     "output_type": "stream",
     "name": "stdout",
     "text": [
      "0~17세 평균 생존률 : 0.60431654676259\n18~38세 평균 생존률 : 0.33512544802867383\n39~60세 평균 생존률 : 0.38372093023255816\n61~세 평균 생존률 : 0.22727272727272727\n"
     ]
    }
   ]
  },
  {
   "source": [
    "혹시 모르니 미성년~청년, 중년~노년 경계도 조정해보자"
   ],
   "cell_type": "markdown",
   "metadata": {}
  },
  {
   "cell_type": "code",
   "execution_count": 79,
   "metadata": {},
   "outputs": [
    {
     "output_type": "stream",
     "name": "stdout",
     "text": [
      "0~14세 평균 생존률 : 0.5930232558139535\n37~60세 평균 생존률 : 0.37005163511187605\n\n0~15세 평균 생존률 : 0.6170212765957447\n38~60세 평균 생존률 : 0.36300174520069806\n\n0~16세 평균 생존률 : 0.5714285714285714\n39~60세 평균 생존률 : 0.36396396396396397\n\n0~17세 평균 생존률 : 0.60431654676259\n18~36세 평균 생존률 : 0.3446969696969697\n"
     ]
    }
   ],
   "source": [
    "print(\"0~14세 평균 생존률 : \" + str(train[train['Age'] < 15]['Survived'].mean()))\n",
    "print(\"37~60세 평균 생존률 : \" + str(train[(train['Age'] >= 15.0) & (train['Age'] < 38)]['Survived'].mean()))\n",
    "print()\n",
    "print(\"0~15세 평균 생존률 : \" + str(train[train['Age'] < 16]['Survived'].mean()))\n",
    "print(\"38~60세 평균 생존률 : \" + str(train[(train['Age'] >= 16.0) & (train['Age'] < 38)]['Survived'].mean()))\n",
    "print()\n",
    "print(\"0~16세 평균 생존률 : \" + str(train[train['Age'] < 17]['Survived'].mean()))\n",
    "print(\"39~60세 평균 생존률 : \" + str(train[(train['Age'] >= 17.0) & (train['Age'] < 38)]['Survived'].mean()))\n",
    "print()\n",
    "print(\"0~17세 평균 생존률 : \" + str(train[train['Age'] < 18]['Survived'].mean()))\n",
    "print(\"18~36세 평균 생존률 : \" + str(train[(train['Age'] >= 18.0) & (train['Age'] < 38)]['Survived'].mean()))"
   ]
  },
  {
   "source": [
    "처음 설정한 나이(18세)가 가장 구분이 잘된다. 이제 노년을 보자"
   ],
   "cell_type": "markdown",
   "metadata": {}
  },
  {
   "cell_type": "code",
   "execution_count": 80,
   "metadata": {},
   "outputs": [
    {
     "output_type": "stream",
     "name": "stdout",
     "text": [
      "39~57세 평균 생존률 : 0.37888198757763975\n58~세 평균 생존률 : 0.30303030303030304\n\n39~58세 평균 생존률 : 0.3855421686746988\n59~세 평균 생존률 : 0.25\n\n39~59세 평균 생존률 : 0.38095238095238093\n60~세 평균 생존률 : 0.2692307692307692\n\n39~60세 평균 생존률 : 0.38372093023255816\n61~세 평균 생존률 : 0.22727272727272727\n\n39~61세 평균 생존률 : 0.37714285714285717\n62~세 평균 생존률 : 0.2631578947368421\n\n39~62세 평균 생존률 : 0.37988826815642457\n63~세 평균 생존률 : 0.2\n\n39~63세 평균 생존률 : 0.3867403314917127\n64~세 평균 생존률 : 0.07692307692307693\n\n39~64세 평균 생존률 : 0.3825136612021858\n65~세 평균 생존률 : 0.09090909090909091\n\n39~65세 평균 생존률 : 0.3763440860215054\n66~세 평균 생존률 : 0.125\n"
     ]
    }
   ],
   "source": [
    "print(\"39~57세 평균 생존률 : \" + str(train[(train['Age'] >= 39.0) & (train['Age'] < 58)]['Survived'].mean()))\n",
    "print(\"58~세 평균 생존률 : \" + str(train[train['Age'] >= 58.0]['Survived'].mean()))\n",
    "print()\n",
    "print(\"39~58세 평균 생존률 : \" + str(train[(train['Age'] >= 39.0) & (train['Age'] < 59)]['Survived'].mean()))\n",
    "print(\"59~세 평균 생존률 : \" + str(train[train['Age'] >= 59.0]['Survived'].mean()))\n",
    "print()\n",
    "print(\"39~59세 평균 생존률 : \" + str(train[(train['Age'] >= 39.0) & (train['Age'] < 60)]['Survived'].mean()))\n",
    "print(\"60~세 평균 생존률 : \" + str(train[train['Age'] >= 60.0]['Survived'].mean()))\n",
    "print()\n",
    "print(\"39~60세 평균 생존률 : \" + str(train[(train['Age'] >= 39.0) & (train['Age'] < 61)]['Survived'].mean()))\n",
    "print(\"61~세 평균 생존률 : \" + str(train[train['Age'] >= 61.0]['Survived'].mean()))\n",
    "print()\n",
    "print(\"39~61세 평균 생존률 : \" + str(train[(train['Age'] >= 39.0) & (train['Age'] < 62)]['Survived'].mean()))\n",
    "print(\"62~세 평균 생존률 : \" + str(train[train['Age'] >= 62.0]['Survived'].mean()))\n",
    "print()\n",
    "print(\"39~62세 평균 생존률 : \" + str(train[(train['Age'] >= 39.0) & (train['Age'] < 63)]['Survived'].mean()))\n",
    "print(\"63~세 평균 생존률 : \" + str(train[train['Age'] >= 63.0]['Survived'].mean()))\n",
    "print()\n",
    "print(\"39~63세 평균 생존률 : \" + str(train[(train['Age'] >= 39.0) & (train['Age'] < 64)]['Survived'].mean()))\n",
    "print(\"64~세 평균 생존률 : \" + str(train[train['Age'] >= 64.0]['Survived'].mean()))\n",
    "print()\n",
    "print(\"39~64세 평균 생존률 : \" + str(train[(train['Age'] >= 39.0) & (train['Age'] < 65)]['Survived'].mean()))\n",
    "print(\"65~세 평균 생존률 : \" + str(train[train['Age'] >= 65.0]['Survived'].mean()))\n",
    "print()\n",
    "print(\"39~65세 평균 생존률 : \" + str(train[(train['Age'] >= 39.0) & (train['Age'] < 66)]['Survived'].mean()))\n",
    "print(\"66~세 평균 생존률 : \" + str(train[train['Age'] >= 66.0]['Survived'].mean()))"
   ]
  },
  {
   "source": [
    "64세를 중~노년 기준으로 했을 때 가장 크게 차이가 난다. 허나 60세 이상의 승객 수가 적은 점(891명 중 26명에 해당), 경계를 조정할 수록 값의 차이가 들쑥날쑥 한다는 점 등을 고려해 기존에 정한 60세로 하기로 했다. "
   ],
   "cell_type": "markdown",
   "metadata": {}
  },
  {
   "source": [
    "즉, 나이 데이터도 요금 데이터처럼 미성년(0~17), 청년(18~38), 중년(39~60), 노년(61~)으로 그룹을 나눌거다. "
   ],
   "cell_type": "markdown",
   "metadata": {}
  },
  {
   "source": [
    "마지막으로 이름 데이터를 확인해보자. 앞서 이름에 Mr. Mrs. 등 이름 앞에 공통적으로 붙는 것들이 있었다. 이들만 따로 추출해 생존률과의 연관성을 확인해보도록 하겠다. "
   ],
   "cell_type": "markdown",
   "metadata": {}
  },
  {
   "cell_type": "code",
   "execution_count": 26,
   "metadata": {},
   "outputs": [],
   "source": [
    "# 이름 앞 title만 따로 추출하는 함수\n",
    "def get_title(name):\n",
    "    if '.' in name:\n",
    "        return name.split(',')[1].split('.')[0].strip()\n",
    "    else:\n",
    "        return 'Unknown'"
   ]
  },
  {
   "cell_type": "code",
   "execution_count": 28,
   "metadata": {},
   "outputs": [],
   "source": [
    "train['Title'] = 0\n",
    "\n",
    "for i in range(0, len(train)):\n",
    "    train['Title'][i] = get_title(train['Name'][i])\n",
    "\n",
    "test['Title'] = 0\n",
    "\n",
    "for i in range(0, len(test)):\n",
    "    test['Title'][i] = get_title(test['Name'][i])\n"
   ]
  },
  {
   "source": [
    "결과물을 확인해보자."
   ],
   "cell_type": "markdown",
   "metadata": {}
  },
  {
   "cell_type": "code",
   "execution_count": 35,
   "metadata": {},
   "outputs": [
    {
     "output_type": "execute_result",
     "data": {
      "text/plain": [
       "Mr              517\n",
       "Miss            182\n",
       "Mrs             125\n",
       "Master           40\n",
       "Dr                7\n",
       "Rev               6\n",
       "Major             2\n",
       "Mlle              2\n",
       "Col               2\n",
       "Mme               1\n",
       "Don               1\n",
       "Jonkheer          1\n",
       "the Countess      1\n",
       "Sir               1\n",
       "Capt              1\n",
       "Lady              1\n",
       "Ms                1\n",
       "Name: Title, dtype: int64"
      ]
     },
     "metadata": {},
     "execution_count": 35
    }
   ],
   "source": [
    "train['Title'].value_counts()"
   ]
  },
  {
   "cell_type": "code",
   "execution_count": 38,
   "metadata": {},
   "outputs": [
    {
     "output_type": "execute_result",
     "data": {
      "text/plain": [
       "    Sex  Survived  Pclass       Age       Fare  Accompany_num\n",
       "0  male     0.575   2.625  6.047457  34.703125          3.675"
      ],
      "text/html": "<div>\n<style scoped>\n    .dataframe tbody tr th:only-of-type {\n        vertical-align: middle;\n    }\n\n    .dataframe tbody tr th {\n        vertical-align: top;\n    }\n\n    .dataframe thead th {\n        text-align: right;\n    }\n</style>\n<table border=\"1\" class=\"dataframe\">\n  <thead>\n    <tr style=\"text-align: right;\">\n      <th></th>\n      <th>Sex</th>\n      <th>Survived</th>\n      <th>Pclass</th>\n      <th>Age</th>\n      <th>Fare</th>\n      <th>Accompany_num</th>\n    </tr>\n  </thead>\n  <tbody>\n    <tr>\n      <th>0</th>\n      <td>male</td>\n      <td>0.575</td>\n      <td>2.625</td>\n      <td>6.047457</td>\n      <td>34.703125</td>\n      <td>3.675</td>\n    </tr>\n  </tbody>\n</table>\n</div>"
     },
     "metadata": {},
     "execution_count": 38
    }
   ],
   "source": [
    "train[train['Title'] == 'Master'].groupby(['Sex'], as_index=False).mean()"
   ]
  },
  {
   "cell_type": "code",
   "execution_count": 39,
   "metadata": {},
   "outputs": [
    {
     "output_type": "execute_result",
     "data": {
      "text/plain": [
       "      Sex  Survived    Pclass        Age       Fare  Accompany_num\n",
       "0  female  1.000000  1.000000  49.000000  25.929200       0.000000\n",
       "1    male  0.333333  1.333333  42.966667  53.041667       0.666667"
      ],
      "text/html": "<div>\n<style scoped>\n    .dataframe tbody tr th:only-of-type {\n        vertical-align: middle;\n    }\n\n    .dataframe tbody tr th {\n        vertical-align: top;\n    }\n\n    .dataframe thead th {\n        text-align: right;\n    }\n</style>\n<table border=\"1\" class=\"dataframe\">\n  <thead>\n    <tr style=\"text-align: right;\">\n      <th></th>\n      <th>Sex</th>\n      <th>Survived</th>\n      <th>Pclass</th>\n      <th>Age</th>\n      <th>Fare</th>\n      <th>Accompany_num</th>\n    </tr>\n  </thead>\n  <tbody>\n    <tr>\n      <th>0</th>\n      <td>female</td>\n      <td>1.000000</td>\n      <td>1.000000</td>\n      <td>49.000000</td>\n      <td>25.929200</td>\n      <td>0.000000</td>\n    </tr>\n    <tr>\n      <th>1</th>\n      <td>male</td>\n      <td>0.333333</td>\n      <td>1.333333</td>\n      <td>42.966667</td>\n      <td>53.041667</td>\n      <td>0.666667</td>\n    </tr>\n  </tbody>\n</table>\n</div>"
     },
     "metadata": {},
     "execution_count": 39
    }
   ],
   "source": [
    "train[train['Title'] == 'Dr'].groupby(['Sex'], as_index=False).mean()"
   ]
  },
  {
   "cell_type": "code",
   "execution_count": 40,
   "metadata": {},
   "outputs": [
    {
     "output_type": "execute_result",
     "data": {
      "text/plain": [
       "    Sex  Survived  Pclass        Age     Fare  Accompany_num\n",
       "0  male       0.0     2.0  43.166667  18.3125       0.333333"
      ],
      "text/html": "<div>\n<style scoped>\n    .dataframe tbody tr th:only-of-type {\n        vertical-align: middle;\n    }\n\n    .dataframe tbody tr th {\n        vertical-align: top;\n    }\n\n    .dataframe thead th {\n        text-align: right;\n    }\n</style>\n<table border=\"1\" class=\"dataframe\">\n  <thead>\n    <tr style=\"text-align: right;\">\n      <th></th>\n      <th>Sex</th>\n      <th>Survived</th>\n      <th>Pclass</th>\n      <th>Age</th>\n      <th>Fare</th>\n      <th>Accompany_num</th>\n    </tr>\n  </thead>\n  <tbody>\n    <tr>\n      <th>0</th>\n      <td>male</td>\n      <td>0.0</td>\n      <td>2.0</td>\n      <td>43.166667</td>\n      <td>18.3125</td>\n      <td>0.333333</td>\n    </tr>\n  </tbody>\n</table>\n</div>"
     },
     "metadata": {},
     "execution_count": 40
    }
   ],
   "source": [
    "train[train['Title'] == 'Rev'].groupby(['Sex'], as_index=False).mean()"
   ]
  },
  {
   "cell_type": "code",
   "execution_count": 41,
   "metadata": {},
   "outputs": [
    {
     "output_type": "execute_result",
     "data": {
      "text/plain": [
       "    Sex  Survived  Pclass   Age    Fare  Accompany_num\n",
       "0  male       0.5     1.0  48.5  28.525            0.0"
      ],
      "text/html": "<div>\n<style scoped>\n    .dataframe tbody tr th:only-of-type {\n        vertical-align: middle;\n    }\n\n    .dataframe tbody tr th {\n        vertical-align: top;\n    }\n\n    .dataframe thead th {\n        text-align: right;\n    }\n</style>\n<table border=\"1\" class=\"dataframe\">\n  <thead>\n    <tr style=\"text-align: right;\">\n      <th></th>\n      <th>Sex</th>\n      <th>Survived</th>\n      <th>Pclass</th>\n      <th>Age</th>\n      <th>Fare</th>\n      <th>Accompany_num</th>\n    </tr>\n  </thead>\n  <tbody>\n    <tr>\n      <th>0</th>\n      <td>male</td>\n      <td>0.5</td>\n      <td>1.0</td>\n      <td>48.5</td>\n      <td>28.525</td>\n      <td>0.0</td>\n    </tr>\n  </tbody>\n</table>\n</div>"
     },
     "metadata": {},
     "execution_count": 41
    }
   ],
   "source": [
    "train[train['Title'] == 'Major'].groupby(['Sex'], as_index=False).mean()"
   ]
  },
  {
   "cell_type": "code",
   "execution_count": 43,
   "metadata": {},
   "outputs": [
    {
     "output_type": "execute_result",
     "data": {
      "text/plain": [
       "      Sex  Survived  Pclass   Age     Fare  Accompany_num\n",
       "0  female         1       1  24.0  59.4021              0"
      ],
      "text/html": "<div>\n<style scoped>\n    .dataframe tbody tr th:only-of-type {\n        vertical-align: middle;\n    }\n\n    .dataframe tbody tr th {\n        vertical-align: top;\n    }\n\n    .dataframe thead th {\n        text-align: right;\n    }\n</style>\n<table border=\"1\" class=\"dataframe\">\n  <thead>\n    <tr style=\"text-align: right;\">\n      <th></th>\n      <th>Sex</th>\n      <th>Survived</th>\n      <th>Pclass</th>\n      <th>Age</th>\n      <th>Fare</th>\n      <th>Accompany_num</th>\n    </tr>\n  </thead>\n  <tbody>\n    <tr>\n      <th>0</th>\n      <td>female</td>\n      <td>1</td>\n      <td>1</td>\n      <td>24.0</td>\n      <td>59.4021</td>\n      <td>0</td>\n    </tr>\n  </tbody>\n</table>\n</div>"
     },
     "metadata": {},
     "execution_count": 43
    }
   ],
   "source": [
    "train[train['Title'] == 'Mlle'].groupby(['Sex'], as_index=False).mean()"
   ]
  },
  {
   "cell_type": "code",
   "execution_count": 44,
   "metadata": {},
   "outputs": [
    {
     "output_type": "execute_result",
     "data": {
      "text/plain": [
       "    Sex  Survived  Pclass   Age    Fare  Accompany_num\n",
       "0  male       0.5     1.0  58.0  31.025            0.0"
      ],
      "text/html": "<div>\n<style scoped>\n    .dataframe tbody tr th:only-of-type {\n        vertical-align: middle;\n    }\n\n    .dataframe tbody tr th {\n        vertical-align: top;\n    }\n\n    .dataframe thead th {\n        text-align: right;\n    }\n</style>\n<table border=\"1\" class=\"dataframe\">\n  <thead>\n    <tr style=\"text-align: right;\">\n      <th></th>\n      <th>Sex</th>\n      <th>Survived</th>\n      <th>Pclass</th>\n      <th>Age</th>\n      <th>Fare</th>\n      <th>Accompany_num</th>\n    </tr>\n  </thead>\n  <tbody>\n    <tr>\n      <th>0</th>\n      <td>male</td>\n      <td>0.5</td>\n      <td>1.0</td>\n      <td>58.0</td>\n      <td>31.025</td>\n      <td>0.0</td>\n    </tr>\n  </tbody>\n</table>\n</div>"
     },
     "metadata": {},
     "execution_count": 44
    }
   ],
   "source": [
    "train[train['Title'] == 'Col'].groupby(['Sex'], as_index=False).mean()"
   ]
  },
  {
   "cell_type": "code",
   "execution_count": 45,
   "metadata": {},
   "outputs": [
    {
     "output_type": "execute_result",
     "data": {
      "text/plain": [
       "           Title  Survived    Pclass        Age       Fare  Accompany_num\n",
       "0           Capt  0.000000  1.000000  70.000000  71.000000       2.000000\n",
       "1            Col  0.500000  1.000000  58.000000  31.025000       0.000000\n",
       "2            Don  0.000000  1.000000  40.000000  27.720800       0.000000\n",
       "3             Dr  0.428571  1.285714  43.828571  49.168457       0.571429\n",
       "4       Jonkheer  0.000000  1.000000  38.000000   0.000000       0.000000\n",
       "5           Lady  1.000000  1.000000  48.000000  39.600000       1.000000\n",
       "6          Major  0.500000  1.000000  48.500000  28.525000       0.000000\n",
       "7         Master  0.575000  2.625000   6.047457  34.703125       3.675000\n",
       "8           Miss  0.697802  2.307692  21.549887  43.797873       1.263736\n",
       "9           Mlle  1.000000  1.000000  24.000000  59.402100       0.000000\n",
       "10           Mme  1.000000  1.000000  24.000000  69.300000       0.000000\n",
       "11            Mr  0.156673  2.410058  32.505799  24.441560       0.441006\n",
       "12           Mrs  0.792000  2.000000  34.530667  45.138533       1.528000\n",
       "13            Ms  1.000000  2.000000  28.000000  13.000000       0.000000\n",
       "14           Rev  0.000000  2.000000  43.166667  18.312500       0.333333\n",
       "15           Sir  1.000000  1.000000  49.000000  56.929200       1.000000\n",
       "16  the Countess  1.000000  1.000000  33.000000  86.500000       0.000000"
      ],
      "text/html": "<div>\n<style scoped>\n    .dataframe tbody tr th:only-of-type {\n        vertical-align: middle;\n    }\n\n    .dataframe tbody tr th {\n        vertical-align: top;\n    }\n\n    .dataframe thead th {\n        text-align: right;\n    }\n</style>\n<table border=\"1\" class=\"dataframe\">\n  <thead>\n    <tr style=\"text-align: right;\">\n      <th></th>\n      <th>Title</th>\n      <th>Survived</th>\n      <th>Pclass</th>\n      <th>Age</th>\n      <th>Fare</th>\n      <th>Accompany_num</th>\n    </tr>\n  </thead>\n  <tbody>\n    <tr>\n      <th>0</th>\n      <td>Capt</td>\n      <td>0.000000</td>\n      <td>1.000000</td>\n      <td>70.000000</td>\n      <td>71.000000</td>\n      <td>2.000000</td>\n    </tr>\n    <tr>\n      <th>1</th>\n      <td>Col</td>\n      <td>0.500000</td>\n      <td>1.000000</td>\n      <td>58.000000</td>\n      <td>31.025000</td>\n      <td>0.000000</td>\n    </tr>\n    <tr>\n      <th>2</th>\n      <td>Don</td>\n      <td>0.000000</td>\n      <td>1.000000</td>\n      <td>40.000000</td>\n      <td>27.720800</td>\n      <td>0.000000</td>\n    </tr>\n    <tr>\n      <th>3</th>\n      <td>Dr</td>\n      <td>0.428571</td>\n      <td>1.285714</td>\n      <td>43.828571</td>\n      <td>49.168457</td>\n      <td>0.571429</td>\n    </tr>\n    <tr>\n      <th>4</th>\n      <td>Jonkheer</td>\n      <td>0.000000</td>\n      <td>1.000000</td>\n      <td>38.000000</td>\n      <td>0.000000</td>\n      <td>0.000000</td>\n    </tr>\n    <tr>\n      <th>5</th>\n      <td>Lady</td>\n      <td>1.000000</td>\n      <td>1.000000</td>\n      <td>48.000000</td>\n      <td>39.600000</td>\n      <td>1.000000</td>\n    </tr>\n    <tr>\n      <th>6</th>\n      <td>Major</td>\n      <td>0.500000</td>\n      <td>1.000000</td>\n      <td>48.500000</td>\n      <td>28.525000</td>\n      <td>0.000000</td>\n    </tr>\n    <tr>\n      <th>7</th>\n      <td>Master</td>\n      <td>0.575000</td>\n      <td>2.625000</td>\n      <td>6.047457</td>\n      <td>34.703125</td>\n      <td>3.675000</td>\n    </tr>\n    <tr>\n      <th>8</th>\n      <td>Miss</td>\n      <td>0.697802</td>\n      <td>2.307692</td>\n      <td>21.549887</td>\n      <td>43.797873</td>\n      <td>1.263736</td>\n    </tr>\n    <tr>\n      <th>9</th>\n      <td>Mlle</td>\n      <td>1.000000</td>\n      <td>1.000000</td>\n      <td>24.000000</td>\n      <td>59.402100</td>\n      <td>0.000000</td>\n    </tr>\n    <tr>\n      <th>10</th>\n      <td>Mme</td>\n      <td>1.000000</td>\n      <td>1.000000</td>\n      <td>24.000000</td>\n      <td>69.300000</td>\n      <td>0.000000</td>\n    </tr>\n    <tr>\n      <th>11</th>\n      <td>Mr</td>\n      <td>0.156673</td>\n      <td>2.410058</td>\n      <td>32.505799</td>\n      <td>24.441560</td>\n      <td>0.441006</td>\n    </tr>\n    <tr>\n      <th>12</th>\n      <td>Mrs</td>\n      <td>0.792000</td>\n      <td>2.000000</td>\n      <td>34.530667</td>\n      <td>45.138533</td>\n      <td>1.528000</td>\n    </tr>\n    <tr>\n      <th>13</th>\n      <td>Ms</td>\n      <td>1.000000</td>\n      <td>2.000000</td>\n      <td>28.000000</td>\n      <td>13.000000</td>\n      <td>0.000000</td>\n    </tr>\n    <tr>\n      <th>14</th>\n      <td>Rev</td>\n      <td>0.000000</td>\n      <td>2.000000</td>\n      <td>43.166667</td>\n      <td>18.312500</td>\n      <td>0.333333</td>\n    </tr>\n    <tr>\n      <th>15</th>\n      <td>Sir</td>\n      <td>1.000000</td>\n      <td>1.000000</td>\n      <td>49.000000</td>\n      <td>56.929200</td>\n      <td>1.000000</td>\n    </tr>\n    <tr>\n      <th>16</th>\n      <td>the Countess</td>\n      <td>1.000000</td>\n      <td>1.000000</td>\n      <td>33.000000</td>\n      <td>86.500000</td>\n      <td>0.000000</td>\n    </tr>\n  </tbody>\n</table>\n</div>"
     },
     "metadata": {},
     "execution_count": 45
    }
   ],
   "source": [
    "train.groupby(['Title'], as_index=False).mean()"
   ]
  },
  {
   "source": [
    "데이터를 좀 살펴본 결과 호칭마다 남녀가 모두 있는 케이스가 있고 둘 중 한 성별만 있는 케이스가 있다는걸 볼 수 있다. \n",
    "<br>\n",
    "호칭을 기준으로 각 수치들의 평균값을 구해봤다. 눈에 띄는건 생존률. 생존의 평균값이 호칭에 따라 차이를 보인다는 걸 알 수 있다. "
   ],
   "cell_type": "markdown",
   "metadata": {}
  },
  {
   "cell_type": "code",
   "execution_count": 49,
   "metadata": {},
   "outputs": [
    {
     "output_type": "execute_result",
     "data": {
      "text/plain": [
       "      Title  Survived    Pclass        Age       Fare  Accompany_num\n",
       "0      Capt  0.000000  1.000000  70.000000  71.000000       2.000000\n",
       "1       Col  0.500000  1.000000  58.000000  31.025000       0.000000\n",
       "2       Don  0.000000  1.000000  40.000000  27.720800       0.000000\n",
       "3        Dr  0.333333  1.333333  42.966667  53.041667       0.666667\n",
       "4  Jonkheer  0.000000  1.000000  38.000000   0.000000       0.000000\n",
       "5     Major  0.500000  1.000000  48.500000  28.525000       0.000000\n",
       "6    Master  0.575000  2.625000   6.047457  34.703125       3.675000\n",
       "7        Mr  0.156673  2.410058  32.505799  24.441560       0.441006\n",
       "8       Rev  0.000000  2.000000  43.166667  18.312500       0.333333\n",
       "9       Sir  1.000000  1.000000  49.000000  56.929200       1.000000"
      ],
      "text/html": "<div>\n<style scoped>\n    .dataframe tbody tr th:only-of-type {\n        vertical-align: middle;\n    }\n\n    .dataframe tbody tr th {\n        vertical-align: top;\n    }\n\n    .dataframe thead th {\n        text-align: right;\n    }\n</style>\n<table border=\"1\" class=\"dataframe\">\n  <thead>\n    <tr style=\"text-align: right;\">\n      <th></th>\n      <th>Title</th>\n      <th>Survived</th>\n      <th>Pclass</th>\n      <th>Age</th>\n      <th>Fare</th>\n      <th>Accompany_num</th>\n    </tr>\n  </thead>\n  <tbody>\n    <tr>\n      <th>0</th>\n      <td>Capt</td>\n      <td>0.000000</td>\n      <td>1.000000</td>\n      <td>70.000000</td>\n      <td>71.000000</td>\n      <td>2.000000</td>\n    </tr>\n    <tr>\n      <th>1</th>\n      <td>Col</td>\n      <td>0.500000</td>\n      <td>1.000000</td>\n      <td>58.000000</td>\n      <td>31.025000</td>\n      <td>0.000000</td>\n    </tr>\n    <tr>\n      <th>2</th>\n      <td>Don</td>\n      <td>0.000000</td>\n      <td>1.000000</td>\n      <td>40.000000</td>\n      <td>27.720800</td>\n      <td>0.000000</td>\n    </tr>\n    <tr>\n      <th>3</th>\n      <td>Dr</td>\n      <td>0.333333</td>\n      <td>1.333333</td>\n      <td>42.966667</td>\n      <td>53.041667</td>\n      <td>0.666667</td>\n    </tr>\n    <tr>\n      <th>4</th>\n      <td>Jonkheer</td>\n      <td>0.000000</td>\n      <td>1.000000</td>\n      <td>38.000000</td>\n      <td>0.000000</td>\n      <td>0.000000</td>\n    </tr>\n    <tr>\n      <th>5</th>\n      <td>Major</td>\n      <td>0.500000</td>\n      <td>1.000000</td>\n      <td>48.500000</td>\n      <td>28.525000</td>\n      <td>0.000000</td>\n    </tr>\n    <tr>\n      <th>6</th>\n      <td>Master</td>\n      <td>0.575000</td>\n      <td>2.625000</td>\n      <td>6.047457</td>\n      <td>34.703125</td>\n      <td>3.675000</td>\n    </tr>\n    <tr>\n      <th>7</th>\n      <td>Mr</td>\n      <td>0.156673</td>\n      <td>2.410058</td>\n      <td>32.505799</td>\n      <td>24.441560</td>\n      <td>0.441006</td>\n    </tr>\n    <tr>\n      <th>8</th>\n      <td>Rev</td>\n      <td>0.000000</td>\n      <td>2.000000</td>\n      <td>43.166667</td>\n      <td>18.312500</td>\n      <td>0.333333</td>\n    </tr>\n    <tr>\n      <th>9</th>\n      <td>Sir</td>\n      <td>1.000000</td>\n      <td>1.000000</td>\n      <td>49.000000</td>\n      <td>56.929200</td>\n      <td>1.000000</td>\n    </tr>\n  </tbody>\n</table>\n</div>"
     },
     "metadata": {},
     "execution_count": 49
    }
   ],
   "source": [
    "train[train['Sex'] == 'male'].groupby(['Title'], as_index=False).mean()"
   ]
  },
  {
   "cell_type": "code",
   "execution_count": 51,
   "metadata": {},
   "outputs": [
    {
     "output_type": "execute_result",
     "data": {
      "text/plain": [
       "Mr          517\n",
       "Master       40\n",
       "Rev           6\n",
       "Dr            6\n",
       "Col           2\n",
       "Major         2\n",
       "Don           1\n",
       "Capt          1\n",
       "Sir           1\n",
       "Jonkheer      1\n",
       "Name: Title, dtype: int64"
      ]
     },
     "metadata": {},
     "execution_count": 51
    }
   ],
   "source": [
    "train[train['Sex'] == 'male']['Title'].value_counts()"
   ]
  },
  {
   "cell_type": "code",
   "execution_count": 50,
   "metadata": {},
   "outputs": [
    {
     "output_type": "execute_result",
     "data": {
      "text/plain": [
       "          Title  Survived    Pclass        Age       Fare  Accompany_num\n",
       "0            Dr  1.000000  1.000000  49.000000  25.929200       0.000000\n",
       "1          Lady  1.000000  1.000000  48.000000  39.600000       1.000000\n",
       "2          Miss  0.697802  2.307692  21.549887  43.797873       1.263736\n",
       "3          Mlle  1.000000  1.000000  24.000000  59.402100       0.000000\n",
       "4           Mme  1.000000  1.000000  24.000000  69.300000       0.000000\n",
       "5           Mrs  0.792000  2.000000  34.530667  45.138533       1.528000\n",
       "6            Ms  1.000000  2.000000  28.000000  13.000000       0.000000\n",
       "7  the Countess  1.000000  1.000000  33.000000  86.500000       0.000000"
      ],
      "text/html": "<div>\n<style scoped>\n    .dataframe tbody tr th:only-of-type {\n        vertical-align: middle;\n    }\n\n    .dataframe tbody tr th {\n        vertical-align: top;\n    }\n\n    .dataframe thead th {\n        text-align: right;\n    }\n</style>\n<table border=\"1\" class=\"dataframe\">\n  <thead>\n    <tr style=\"text-align: right;\">\n      <th></th>\n      <th>Title</th>\n      <th>Survived</th>\n      <th>Pclass</th>\n      <th>Age</th>\n      <th>Fare</th>\n      <th>Accompany_num</th>\n    </tr>\n  </thead>\n  <tbody>\n    <tr>\n      <th>0</th>\n      <td>Dr</td>\n      <td>1.000000</td>\n      <td>1.000000</td>\n      <td>49.000000</td>\n      <td>25.929200</td>\n      <td>0.000000</td>\n    </tr>\n    <tr>\n      <th>1</th>\n      <td>Lady</td>\n      <td>1.000000</td>\n      <td>1.000000</td>\n      <td>48.000000</td>\n      <td>39.600000</td>\n      <td>1.000000</td>\n    </tr>\n    <tr>\n      <th>2</th>\n      <td>Miss</td>\n      <td>0.697802</td>\n      <td>2.307692</td>\n      <td>21.549887</td>\n      <td>43.797873</td>\n      <td>1.263736</td>\n    </tr>\n    <tr>\n      <th>3</th>\n      <td>Mlle</td>\n      <td>1.000000</td>\n      <td>1.000000</td>\n      <td>24.000000</td>\n      <td>59.402100</td>\n      <td>0.000000</td>\n    </tr>\n    <tr>\n      <th>4</th>\n      <td>Mme</td>\n      <td>1.000000</td>\n      <td>1.000000</td>\n      <td>24.000000</td>\n      <td>69.300000</td>\n      <td>0.000000</td>\n    </tr>\n    <tr>\n      <th>5</th>\n      <td>Mrs</td>\n      <td>0.792000</td>\n      <td>2.000000</td>\n      <td>34.530667</td>\n      <td>45.138533</td>\n      <td>1.528000</td>\n    </tr>\n    <tr>\n      <th>6</th>\n      <td>Ms</td>\n      <td>1.000000</td>\n      <td>2.000000</td>\n      <td>28.000000</td>\n      <td>13.000000</td>\n      <td>0.000000</td>\n    </tr>\n    <tr>\n      <th>7</th>\n      <td>the Countess</td>\n      <td>1.000000</td>\n      <td>1.000000</td>\n      <td>33.000000</td>\n      <td>86.500000</td>\n      <td>0.000000</td>\n    </tr>\n  </tbody>\n</table>\n</div>"
     },
     "metadata": {},
     "execution_count": 50
    }
   ],
   "source": [
    "train[train['Sex'] == 'female'].groupby(['Title'], as_index=False).mean()"
   ]
  },
  {
   "cell_type": "code",
   "execution_count": 52,
   "metadata": {},
   "outputs": [
    {
     "output_type": "execute_result",
     "data": {
      "text/plain": [
       "Miss            182\n",
       "Mrs             125\n",
       "Mlle              2\n",
       "Mme               1\n",
       "the Countess      1\n",
       "Ms                1\n",
       "Dr                1\n",
       "Lady              1\n",
       "Name: Title, dtype: int64"
      ]
     },
     "metadata": {},
     "execution_count": 52
    }
   ],
   "source": [
    "train[train['Sex'] == 'female']['Title'].value_counts()"
   ]
  },
  {
   "source": [
    "성별따라 호칭별로 분류하고 성별마다 각 호칭이 얼마나 있는지 알아봤다. \n",
    "<br>\n",
    "남자 승객 데이터를 살펴보자. Mr과 Master가 제일 많은데 Master 승객이 Mr 승객보다 훨씬 많이 생존했다. \n",
    "<br>\n",
    "Master 호칭을 가진 사람은 Mr 호칭을 가진 사람보다 생존의 우선 대상이 되었기에 생존률이 높은게 아닌가 추측된다. \n",
    "<br>\n",
    "검색 결과 Master는 결혼을 하지 않은 남성, Mr은 결혼을 한 남성이다. 결혼을 하지 않은 사람들의 생존률이 더 높은 것이다. \n",
    "<br>\n",
    "여성쪽도 살펴보자. Miss, Mrs를 제외한 나머지 호칭을 가진 사람들이 전원 생존했다. Miss는 결혼을 하지 않은 여성, Mrs는 결혼을 한 여성이다. \n",
    "<br>\n",
    "허나 Miss, Mrs를 제외한 나머지 호칭이 1,2개밖애 없다. 그럼 Miss, Mrs만 두고 보자. 결혼을 하지 않은 여성(Miss)들이 결혼을 한 여성(Mrs)보다 생존률이 더 높다. \n",
    "<br>\n",
    "남, 여성 모두 결혼을 하지 않은 쪽의 생존률이 더 높았다. 결혼 유무도 생존 여부에 영향을 끼친다는 추측을 할 수 있다. \n",
    "<br> \n",
    "그래서 Title을 결혼한 남성(Mr), 결혼 하지 않은 남성(Master), 결혼한 여성(Mrs), 결혼을 하지 않은 여성(Miss)로 나눈 뒤 isMarry라는 특성으로 구분짓기로 했다. \n",
    "<br>\n",
    "즉, 이름 데이터는 버리고 호칭 데이터를 이용하겠다는 것."
   ],
   "cell_type": "markdown",
   "metadata": {}
  },
  {
   "source": [
    "## 3-2. 데이터 가공하기\n",
    "이제 데이터들을 모델이 좋아하는 숫자 데이터로 바꿀거다."
   ],
   "cell_type": "markdown",
   "metadata": {}
  },
  {
   "source": [
    "### 3-2-1. 호칭 데이터\n",
    "<br>\n",
    "먼저 이름 데이터를 가공하자. 우선 각 호칭을 Mr, Master, Mrs, Miss로 정리하자. \n",
    "<br>\n",
    "아무래도 당시 사회 분위기상 나이를 먹은 사람들 중 독신의 비율이 지금보다 훨씬 적을테니 나이를 기준으로 결혼 여부를 판단하는게 좋다고 본다.\n",
    "<br>\n",
    "그래서 남성 중 Master를 제외한 나머지 호칭(Dr, Col 등)을 다 Mr로 바꾸도록 하겠다. Sir, Col의 호칭을 가진 사람의 생존률이 매우 높긴 하지만 수가 매우 적으니 특이 케이스로 생각하자. \n",
    "<br>\n",
    "이제 여성 승객을 보자. Dr, Lady, the Countess는 나이를 보아 Mrs로 분류하면 되겠다. 남은건 Mme, Mlle, Ms인데 검색한 결과 Mme는 마담(Madame)을 줄여서 쓴 것인데 마담은 기혼자를 부르는 말이라고 한다. \n",
    "<br>\n",
    "요즘은 젊은 사람에게도 공경의 의미로 Madame이라고 부른다는데 타이타닉은 20세기 초 일이니 Mme(Madame)은 결혼한 사람이라고 판단, Mrs로 분류하는게 좋다고 생각한다. \n",
    "<br>\n",
    "mlle은 Mademoiselle을 줄인 말이다. 이는 결혼하지 않은 여성을 부르는 호칭이라고 한다. 그래서 mlle은 Miss로 분류할 것이다. 마지막으로 Ms가 남았는데 Ms는 결혼 여부를 밝히고 싶지 않을 때 쓰는 호칭이다. \n",
    "<br>\n",
    "Ms호칭이 있는 여성은 생존한 28세 승객인데 나이와 생존률을 고려했을 때 Miss보다는 Mrs에 가깝다고 판단된다. 그래서 Ms는 Mrs로 분류하겠다.\n",
    "<br>\n",
    "이제 호칭을 정리해보자. "
   ],
   "cell_type": "markdown",
   "metadata": {}
  },
  {
   "cell_type": "code",
   "execution_count": 56,
   "metadata": {},
   "outputs": [],
   "source": [
    "for i in range(0, len(train)):\n",
    "    if train['Sex'][i] == 'male' : \n",
    "        if train['Title'][i] != 'Master' :\n",
    "            train['Title'][i] = 'Mr'\n",
    "\n",
    "    elif train['Sex'][i] == 'female': \n",
    "        if train['Title'][i] in ['Dr', 'Lady', 'the Countess', 'Mme','Ms'] :\n",
    "            train['Title'][i] = 'Mrs'\n",
    "        elif train['Title'][i] == 'Mlle' : \n",
    "            train['Title'][i] = 'Miss'\n",
    "\n",
    "for i in range(0, len(test)):\n",
    "    if test['Sex'][i] == 'male' : \n",
    "        if test['Title'][i] != 'Master' :\n",
    "            test['Title'][i] = 'Mr'\n",
    "    elif test['Sex'][i] == 'female': \n",
    "        if test['Title'][i] in ['Dr', 'Lady', 'the Countess', 'Mme','Ms'] :\n",
    "            test['Title'][i] = 'Mrs'\n",
    "        elif test['Title'][i] == 'Mlle' : \n",
    "            test['Title'][i] = 'Miss'"
   ]
  },
  {
   "cell_type": "code",
   "execution_count": 57,
   "metadata": {},
   "outputs": [
    {
     "output_type": "execute_result",
     "data": {
      "text/plain": [
       "Mr        537\n",
       "Miss      184\n",
       "Mrs       130\n",
       "Master     40\n",
       "Name: Title, dtype: int64"
      ]
     },
     "metadata": {},
     "execution_count": 57
    }
   ],
   "source": [
    "train['Title'].value_counts()"
   ]
  },
  {
   "cell_type": "code",
   "execution_count": 58,
   "metadata": {},
   "outputs": [
    {
     "output_type": "execute_result",
     "data": {
      "text/plain": [
       "Mr        245\n",
       "Miss       78\n",
       "Mrs        73\n",
       "Master     21\n",
       "Dona        1\n",
       "Name: Title, dtype: int64"
      ]
     },
     "metadata": {},
     "execution_count": 58
    }
   ],
   "source": [
    "test['Title'].value_counts()"
   ]
  },
  {
   "source": [
    "test 데이터에 Dona 호칭이 남아있다. Dona는 스페인식 호칭인데 이는 '집을 가진 사람', 다시 말해 어느 정도의 지위를 갖춘 사람에 대한 존칭이다. "
   ],
   "cell_type": "markdown",
   "metadata": {}
  },
  {
   "cell_type": "code",
   "execution_count": 59,
   "metadata": {},
   "outputs": [
    {
     "output_type": "execute_result",
     "data": {
      "text/plain": [
       "     Pclass                          Name     Sex   Age   Fare Cabin Embarked  \\\n",
       "414       1  Oliva y Ocana, Dona. Fermina  female  39.0  108.9     C        C   \n",
       "\n",
       "     Accompany_num Title  \n",
       "414              0  Dona  "
      ],
      "text/html": "<div>\n<style scoped>\n    .dataframe tbody tr th:only-of-type {\n        vertical-align: middle;\n    }\n\n    .dataframe tbody tr th {\n        vertical-align: top;\n    }\n\n    .dataframe thead th {\n        text-align: right;\n    }\n</style>\n<table border=\"1\" class=\"dataframe\">\n  <thead>\n    <tr style=\"text-align: right;\">\n      <th></th>\n      <th>Pclass</th>\n      <th>Name</th>\n      <th>Sex</th>\n      <th>Age</th>\n      <th>Fare</th>\n      <th>Cabin</th>\n      <th>Embarked</th>\n      <th>Accompany_num</th>\n      <th>Title</th>\n    </tr>\n  </thead>\n  <tbody>\n    <tr>\n      <th>414</th>\n      <td>1</td>\n      <td>Oliva y Ocana, Dona. Fermina</td>\n      <td>female</td>\n      <td>39.0</td>\n      <td>108.9</td>\n      <td>C</td>\n      <td>C</td>\n      <td>0</td>\n      <td>Dona</td>\n    </tr>\n  </tbody>\n</table>\n</div>"
     },
     "metadata": {},
     "execution_count": 59
    }
   ],
   "source": [
    "test[test['Title'] == 'Dona']"
   ]
  },
  {
   "source": [
    "나이와 호칭이 가진 의미를 고려했을 때 이 승객은 결혼한 승객으로 판단해도 될듯 하다. "
   ],
   "cell_type": "markdown",
   "metadata": {}
  },
  {
   "cell_type": "code",
   "execution_count": 60,
   "metadata": {},
   "outputs": [],
   "source": [
    "test[test['Title'] == 'Dona']['Title'] = 'Mrs' "
   ]
  },
  {
   "cell_type": "code",
   "execution_count": 64,
   "metadata": {},
   "outputs": [],
   "source": [
    "for i in range(0, len(test)) :\n",
    "    if test['Title'][i] == 'Dona' :\n",
    "        test['Title'][i] = 'Mrs'"
   ]
  },
  {
   "cell_type": "code",
   "execution_count": 65,
   "metadata": {},
   "outputs": [
    {
     "output_type": "execute_result",
     "data": {
      "text/plain": [
       "Mr        245\n",
       "Miss       78\n",
       "Mrs        74\n",
       "Master     21\n",
       "Name: Title, dtype: int64"
      ]
     },
     "metadata": {},
     "execution_count": 65
    }
   ],
   "source": [
    "test['Title'].value_counts()"
   ]
  },
  {
   "source": [
    "이제 훈련, 테스트 데이터 모두 Mr, Miss, Mrs, Master밖에 없다. 이를 isMr, isMrs, isMrs, isMaster로 나누자. 숫자값으로 만드는 것이다. "
   ],
   "cell_type": "markdown",
   "metadata": {}
  },
  {
   "cell_type": "code",
   "execution_count": 69,
   "metadata": {},
   "outputs": [],
   "source": [
    "train['isMr'] = 0\n",
    "train['isMrs'] = 0\n",
    "train['isMaster'] = 0\n",
    "train['isMiss'] = 0\n",
    "\n",
    "for i in range(0, len(train)):\n",
    "    if train['Title'][i] == 'Mr':\n",
    "         train['isMr'][i] = 1\n",
    "    elif train['Title'][i] == 'Mrs':\n",
    "         train['isMrs'][i] = 1\n",
    "    elif train['Title'][i] == 'Master':\n",
    "         train['isMaster'][i] = 1\n",
    "    elif train['Title'][i] == 'Miss':\n",
    "         train['isMiss'][i] = 1\n",
    "\n",
    "# 테스트 데이터도 적용\n",
    "test['isMr'] = 0\n",
    "test['isMrs'] = 0\n",
    "test['isMaster'] = 0\n",
    "test['isMiss'] = 0\n",
    "\n",
    "for i in range(0, len(test)):\n",
    "    if test['Title'][i] == 'Mr':\n",
    "         test['isMr'][i] = 1\n",
    "    elif test['Title'][i] == 'Mrs':\n",
    "         test['isMrs'][i] = 1\n",
    "    elif test['Title'][i] == 'Master':\n",
    "         test['isMaster'][i] = 1\n",
    "    elif test['Title'][i] == 'Miss':\n",
    "         test['isMiss'][i] = 1\n"
   ]
  },
  {
   "source": [
    "데이터를 확인해보자"
   ],
   "cell_type": "markdown",
   "metadata": {}
  },
  {
   "cell_type": "code",
   "execution_count": 70,
   "metadata": {},
   "outputs": [
    {
     "output_type": "execute_result",
     "data": {
      "text/plain": [
       "     Survived  Pclass                                               Name  \\\n",
       "0           0       3                            Braund, Mr. Owen Harris   \n",
       "1           1       1  Cumings, Mrs. John Bradley (Florence Briggs Th...   \n",
       "2           1       3                             Heikkinen, Miss. Laina   \n",
       "3           1       1       Futrelle, Mrs. Jacques Heath (Lily May Peel)   \n",
       "4           0       3                           Allen, Mr. William Henry   \n",
       "..        ...     ...                                                ...   \n",
       "886         0       2                              Montvila, Rev. Juozas   \n",
       "887         1       1                       Graham, Miss. Margaret Edith   \n",
       "888         0       3           Johnston, Miss. Catherine Helen \"Carrie\"   \n",
       "889         1       1                              Behr, Mr. Karl Howell   \n",
       "890         0       3                                Dooley, Mr. Patrick   \n",
       "\n",
       "        Sex        Age     Fare Cabin Embarked  Accompany_num Title  isMr  \\\n",
       "0      male  22.000000   7.2500     G        S              1    Mr     1   \n",
       "1    female  38.000000  71.2833     C        C              1   Mrs     0   \n",
       "2    female  26.000000   7.9250     E        S              0  Miss     0   \n",
       "3    female  35.000000  53.1000     C        S              1   Mrs     0   \n",
       "4      male  35.000000   8.0500     E        S              0    Mr     1   \n",
       "..      ...        ...      ...   ...      ...            ...   ...   ...   \n",
       "886    male  27.000000  13.0000     E        S              0    Mr     1   \n",
       "887  female  19.000000  30.0000     B        S              0  Miss     0   \n",
       "888  female  23.315705  23.4500     F        S              3  Miss     0   \n",
       "889    male  26.000000  30.0000     C        C              0    Mr     1   \n",
       "890    male  32.000000   7.7500     F        Q              0    Mr     1   \n",
       "\n",
       "     isMrs  isMaster  isMiss  \n",
       "0        0         0       0  \n",
       "1        1         0       0  \n",
       "2        0         0       1  \n",
       "3        1         0       0  \n",
       "4        0         0       0  \n",
       "..     ...       ...     ...  \n",
       "886      0         0       0  \n",
       "887      0         0       1  \n",
       "888      0         0       1  \n",
       "889      0         0       0  \n",
       "890      0         0       0  \n",
       "\n",
       "[891 rows x 14 columns]"
      ],
      "text/html": "<div>\n<style scoped>\n    .dataframe tbody tr th:only-of-type {\n        vertical-align: middle;\n    }\n\n    .dataframe tbody tr th {\n        vertical-align: top;\n    }\n\n    .dataframe thead th {\n        text-align: right;\n    }\n</style>\n<table border=\"1\" class=\"dataframe\">\n  <thead>\n    <tr style=\"text-align: right;\">\n      <th></th>\n      <th>Survived</th>\n      <th>Pclass</th>\n      <th>Name</th>\n      <th>Sex</th>\n      <th>Age</th>\n      <th>Fare</th>\n      <th>Cabin</th>\n      <th>Embarked</th>\n      <th>Accompany_num</th>\n      <th>Title</th>\n      <th>isMr</th>\n      <th>isMrs</th>\n      <th>isMaster</th>\n      <th>isMiss</th>\n    </tr>\n  </thead>\n  <tbody>\n    <tr>\n      <th>0</th>\n      <td>0</td>\n      <td>3</td>\n      <td>Braund, Mr. Owen Harris</td>\n      <td>male</td>\n      <td>22.000000</td>\n      <td>7.2500</td>\n      <td>G</td>\n      <td>S</td>\n      <td>1</td>\n      <td>Mr</td>\n      <td>1</td>\n      <td>0</td>\n      <td>0</td>\n      <td>0</td>\n    </tr>\n    <tr>\n      <th>1</th>\n      <td>1</td>\n      <td>1</td>\n      <td>Cumings, Mrs. John Bradley (Florence Briggs Th...</td>\n      <td>female</td>\n      <td>38.000000</td>\n      <td>71.2833</td>\n      <td>C</td>\n      <td>C</td>\n      <td>1</td>\n      <td>Mrs</td>\n      <td>0</td>\n      <td>1</td>\n      <td>0</td>\n      <td>0</td>\n    </tr>\n    <tr>\n      <th>2</th>\n      <td>1</td>\n      <td>3</td>\n      <td>Heikkinen, Miss. Laina</td>\n      <td>female</td>\n      <td>26.000000</td>\n      <td>7.9250</td>\n      <td>E</td>\n      <td>S</td>\n      <td>0</td>\n      <td>Miss</td>\n      <td>0</td>\n      <td>0</td>\n      <td>0</td>\n      <td>1</td>\n    </tr>\n    <tr>\n      <th>3</th>\n      <td>1</td>\n      <td>1</td>\n      <td>Futrelle, Mrs. Jacques Heath (Lily May Peel)</td>\n      <td>female</td>\n      <td>35.000000</td>\n      <td>53.1000</td>\n      <td>C</td>\n      <td>S</td>\n      <td>1</td>\n      <td>Mrs</td>\n      <td>0</td>\n      <td>1</td>\n      <td>0</td>\n      <td>0</td>\n    </tr>\n    <tr>\n      <th>4</th>\n      <td>0</td>\n      <td>3</td>\n      <td>Allen, Mr. William Henry</td>\n      <td>male</td>\n      <td>35.000000</td>\n      <td>8.0500</td>\n      <td>E</td>\n      <td>S</td>\n      <td>0</td>\n      <td>Mr</td>\n      <td>1</td>\n      <td>0</td>\n      <td>0</td>\n      <td>0</td>\n    </tr>\n    <tr>\n      <th>...</th>\n      <td>...</td>\n      <td>...</td>\n      <td>...</td>\n      <td>...</td>\n      <td>...</td>\n      <td>...</td>\n      <td>...</td>\n      <td>...</td>\n      <td>...</td>\n      <td>...</td>\n      <td>...</td>\n      <td>...</td>\n      <td>...</td>\n      <td>...</td>\n    </tr>\n    <tr>\n      <th>886</th>\n      <td>0</td>\n      <td>2</td>\n      <td>Montvila, Rev. Juozas</td>\n      <td>male</td>\n      <td>27.000000</td>\n      <td>13.0000</td>\n      <td>E</td>\n      <td>S</td>\n      <td>0</td>\n      <td>Mr</td>\n      <td>1</td>\n      <td>0</td>\n      <td>0</td>\n      <td>0</td>\n    </tr>\n    <tr>\n      <th>887</th>\n      <td>1</td>\n      <td>1</td>\n      <td>Graham, Miss. Margaret Edith</td>\n      <td>female</td>\n      <td>19.000000</td>\n      <td>30.0000</td>\n      <td>B</td>\n      <td>S</td>\n      <td>0</td>\n      <td>Miss</td>\n      <td>0</td>\n      <td>0</td>\n      <td>0</td>\n      <td>1</td>\n    </tr>\n    <tr>\n      <th>888</th>\n      <td>0</td>\n      <td>3</td>\n      <td>Johnston, Miss. Catherine Helen \"Carrie\"</td>\n      <td>female</td>\n      <td>23.315705</td>\n      <td>23.4500</td>\n      <td>F</td>\n      <td>S</td>\n      <td>3</td>\n      <td>Miss</td>\n      <td>0</td>\n      <td>0</td>\n      <td>0</td>\n      <td>1</td>\n    </tr>\n    <tr>\n      <th>889</th>\n      <td>1</td>\n      <td>1</td>\n      <td>Behr, Mr. Karl Howell</td>\n      <td>male</td>\n      <td>26.000000</td>\n      <td>30.0000</td>\n      <td>C</td>\n      <td>C</td>\n      <td>0</td>\n      <td>Mr</td>\n      <td>1</td>\n      <td>0</td>\n      <td>0</td>\n      <td>0</td>\n    </tr>\n    <tr>\n      <th>890</th>\n      <td>0</td>\n      <td>3</td>\n      <td>Dooley, Mr. Patrick</td>\n      <td>male</td>\n      <td>32.000000</td>\n      <td>7.7500</td>\n      <td>F</td>\n      <td>Q</td>\n      <td>0</td>\n      <td>Mr</td>\n      <td>1</td>\n      <td>0</td>\n      <td>0</td>\n      <td>0</td>\n    </tr>\n  </tbody>\n</table>\n<p>891 rows × 14 columns</p>\n</div>"
     },
     "metadata": {},
     "execution_count": 70
    }
   ],
   "source": [
    "train"
   ]
  },
  {
   "cell_type": "code",
   "execution_count": 71,
   "metadata": {},
   "outputs": [
    {
     "output_type": "execute_result",
     "data": {
      "text/plain": [
       "     Pclass                                          Name     Sex        Age  \\\n",
       "0         3                              Kelly, Mr. James    male  34.500000   \n",
       "1         3              Wilkes, Mrs. James (Ellen Needs)  female  47.000000   \n",
       "2         2                     Myles, Mr. Thomas Francis    male  62.000000   \n",
       "3         3                              Wirz, Mr. Albert    male  27.000000   \n",
       "4         3  Hirvonen, Mrs. Alexander (Helga E Lindqvist)  female  22.000000   \n",
       "..      ...                                           ...     ...        ...   \n",
       "413       3                            Spector, Mr. Woolf    male  33.214286   \n",
       "414       1                  Oliva y Ocana, Dona. Fermina  female  39.000000   \n",
       "415       3                  Saether, Mr. Simon Sivertsen    male  38.500000   \n",
       "416       3                           Ware, Mr. Frederick    male  22.538462   \n",
       "417       3                      Peter, Master. Michael J    male  22.538462   \n",
       "\n",
       "         Fare Cabin Embarked  Accompany_num   Title  isMr  isMrs  isMaster  \\\n",
       "0      7.8292     F        Q              0      Mr     1      0         0   \n",
       "1      7.0000     F        S              1     Mrs     0      1         0   \n",
       "2      9.6875     F        Q              0      Mr     1      0         0   \n",
       "3      8.6625     F        S              0      Mr     1      0         0   \n",
       "4     12.2875     G        S              2     Mrs     0      1         0   \n",
       "..        ...   ...      ...            ...     ...   ...    ...       ...   \n",
       "413    8.0500     F        S              0      Mr     1      0         0   \n",
       "414  108.9000     C        C              0     Mrs     0      1         0   \n",
       "415    7.2500     F        S              0      Mr     1      0         0   \n",
       "416    8.0500     F        S              0      Mr     1      0         0   \n",
       "417   22.3583     F        C              2  Master     0      0         1   \n",
       "\n",
       "     isMiss  \n",
       "0         0  \n",
       "1         0  \n",
       "2         0  \n",
       "3         0  \n",
       "4         0  \n",
       "..      ...  \n",
       "413       0  \n",
       "414       0  \n",
       "415       0  \n",
       "416       0  \n",
       "417       0  \n",
       "\n",
       "[418 rows x 13 columns]"
      ],
      "text/html": "<div>\n<style scoped>\n    .dataframe tbody tr th:only-of-type {\n        vertical-align: middle;\n    }\n\n    .dataframe tbody tr th {\n        vertical-align: top;\n    }\n\n    .dataframe thead th {\n        text-align: right;\n    }\n</style>\n<table border=\"1\" class=\"dataframe\">\n  <thead>\n    <tr style=\"text-align: right;\">\n      <th></th>\n      <th>Pclass</th>\n      <th>Name</th>\n      <th>Sex</th>\n      <th>Age</th>\n      <th>Fare</th>\n      <th>Cabin</th>\n      <th>Embarked</th>\n      <th>Accompany_num</th>\n      <th>Title</th>\n      <th>isMr</th>\n      <th>isMrs</th>\n      <th>isMaster</th>\n      <th>isMiss</th>\n    </tr>\n  </thead>\n  <tbody>\n    <tr>\n      <th>0</th>\n      <td>3</td>\n      <td>Kelly, Mr. James</td>\n      <td>male</td>\n      <td>34.500000</td>\n      <td>7.8292</td>\n      <td>F</td>\n      <td>Q</td>\n      <td>0</td>\n      <td>Mr</td>\n      <td>1</td>\n      <td>0</td>\n      <td>0</td>\n      <td>0</td>\n    </tr>\n    <tr>\n      <th>1</th>\n      <td>3</td>\n      <td>Wilkes, Mrs. James (Ellen Needs)</td>\n      <td>female</td>\n      <td>47.000000</td>\n      <td>7.0000</td>\n      <td>F</td>\n      <td>S</td>\n      <td>1</td>\n      <td>Mrs</td>\n      <td>0</td>\n      <td>1</td>\n      <td>0</td>\n      <td>0</td>\n    </tr>\n    <tr>\n      <th>2</th>\n      <td>2</td>\n      <td>Myles, Mr. Thomas Francis</td>\n      <td>male</td>\n      <td>62.000000</td>\n      <td>9.6875</td>\n      <td>F</td>\n      <td>Q</td>\n      <td>0</td>\n      <td>Mr</td>\n      <td>1</td>\n      <td>0</td>\n      <td>0</td>\n      <td>0</td>\n    </tr>\n    <tr>\n      <th>3</th>\n      <td>3</td>\n      <td>Wirz, Mr. Albert</td>\n      <td>male</td>\n      <td>27.000000</td>\n      <td>8.6625</td>\n      <td>F</td>\n      <td>S</td>\n      <td>0</td>\n      <td>Mr</td>\n      <td>1</td>\n      <td>0</td>\n      <td>0</td>\n      <td>0</td>\n    </tr>\n    <tr>\n      <th>4</th>\n      <td>3</td>\n      <td>Hirvonen, Mrs. Alexander (Helga E Lindqvist)</td>\n      <td>female</td>\n      <td>22.000000</td>\n      <td>12.2875</td>\n      <td>G</td>\n      <td>S</td>\n      <td>2</td>\n      <td>Mrs</td>\n      <td>0</td>\n      <td>1</td>\n      <td>0</td>\n      <td>0</td>\n    </tr>\n    <tr>\n      <th>...</th>\n      <td>...</td>\n      <td>...</td>\n      <td>...</td>\n      <td>...</td>\n      <td>...</td>\n      <td>...</td>\n      <td>...</td>\n      <td>...</td>\n      <td>...</td>\n      <td>...</td>\n      <td>...</td>\n      <td>...</td>\n      <td>...</td>\n    </tr>\n    <tr>\n      <th>413</th>\n      <td>3</td>\n      <td>Spector, Mr. Woolf</td>\n      <td>male</td>\n      <td>33.214286</td>\n      <td>8.0500</td>\n      <td>F</td>\n      <td>S</td>\n      <td>0</td>\n      <td>Mr</td>\n      <td>1</td>\n      <td>0</td>\n      <td>0</td>\n      <td>0</td>\n    </tr>\n    <tr>\n      <th>414</th>\n      <td>1</td>\n      <td>Oliva y Ocana, Dona. Fermina</td>\n      <td>female</td>\n      <td>39.000000</td>\n      <td>108.9000</td>\n      <td>C</td>\n      <td>C</td>\n      <td>0</td>\n      <td>Mrs</td>\n      <td>0</td>\n      <td>1</td>\n      <td>0</td>\n      <td>0</td>\n    </tr>\n    <tr>\n      <th>415</th>\n      <td>3</td>\n      <td>Saether, Mr. Simon Sivertsen</td>\n      <td>male</td>\n      <td>38.500000</td>\n      <td>7.2500</td>\n      <td>F</td>\n      <td>S</td>\n      <td>0</td>\n      <td>Mr</td>\n      <td>1</td>\n      <td>0</td>\n      <td>0</td>\n      <td>0</td>\n    </tr>\n    <tr>\n      <th>416</th>\n      <td>3</td>\n      <td>Ware, Mr. Frederick</td>\n      <td>male</td>\n      <td>22.538462</td>\n      <td>8.0500</td>\n      <td>F</td>\n      <td>S</td>\n      <td>0</td>\n      <td>Mr</td>\n      <td>1</td>\n      <td>0</td>\n      <td>0</td>\n      <td>0</td>\n    </tr>\n    <tr>\n      <th>417</th>\n      <td>3</td>\n      <td>Peter, Master. Michael J</td>\n      <td>male</td>\n      <td>22.538462</td>\n      <td>22.3583</td>\n      <td>F</td>\n      <td>C</td>\n      <td>2</td>\n      <td>Master</td>\n      <td>0</td>\n      <td>0</td>\n      <td>1</td>\n      <td>0</td>\n    </tr>\n  </tbody>\n</table>\n<p>418 rows × 13 columns</p>\n</div>"
     },
     "metadata": {},
     "execution_count": 71
    }
   ],
   "source": [
    "test"
   ]
  },
  {
   "source": [
    "이제 다음 특성으로 넘어가자."
   ],
   "cell_type": "markdown",
   "metadata": {}
  },
  {
   "source": [
    "### 3-2-1. 성별 데이터\n",
    "<br>\n",
    "이제 성별 데이터를 가공하자.\n",
    "<br>\n",
    "앞서 말했듯 male, female로 구분되는 성별 데이터를 isMan, isWoman으로 구분할거다. "
   ],
   "cell_type": "markdown",
   "metadata": {}
  },
  {
   "cell_type": "code",
   "execution_count": 72,
   "metadata": {},
   "outputs": [],
   "source": [
    "# isMan, isWoman 특성 추가\n",
    "train['isMan'] = 0\n",
    "train['isWoman'] = 0\n",
    "\n",
    "for i in range(0, len(train)):\n",
    "    if train['Sex'][i] == 'male': # 남자면 isMan을 1로\n",
    "        train['isMan'][i] = 1\n",
    "    elif train['Sex'][i] == 'female': # 여자면 isWoman을 1로\n",
    "        train['isWoman'][i] = 1\n",
    "\n",
    "# 테스트 데이터도 적용\n",
    "test['isMan'] = 0\n",
    "test['isWoman'] = 0\n",
    "\n",
    "for i in range(0, len(test)):\n",
    "    if test['Sex'][i] == 'male':\n",
    "        test['isMan'][i] = 1\n",
    "    elif test['Sex'][i] == 'female':\n",
    "        test['isWoman'][i] = 1"
   ]
  },
  {
   "source": [
    "데이터를 확인해보자"
   ],
   "cell_type": "markdown",
   "metadata": {}
  },
  {
   "cell_type": "code",
   "execution_count": 73,
   "metadata": {},
   "outputs": [
    {
     "output_type": "execute_result",
     "data": {
      "text/plain": [
       "     Survived  Pclass                                               Name  \\\n",
       "0           0       3                            Braund, Mr. Owen Harris   \n",
       "1           1       1  Cumings, Mrs. John Bradley (Florence Briggs Th...   \n",
       "2           1       3                             Heikkinen, Miss. Laina   \n",
       "3           1       1       Futrelle, Mrs. Jacques Heath (Lily May Peel)   \n",
       "4           0       3                           Allen, Mr. William Henry   \n",
       "..        ...     ...                                                ...   \n",
       "886         0       2                              Montvila, Rev. Juozas   \n",
       "887         1       1                       Graham, Miss. Margaret Edith   \n",
       "888         0       3           Johnston, Miss. Catherine Helen \"Carrie\"   \n",
       "889         1       1                              Behr, Mr. Karl Howell   \n",
       "890         0       3                                Dooley, Mr. Patrick   \n",
       "\n",
       "        Sex        Age     Fare Cabin Embarked  Accompany_num Title  isMr  \\\n",
       "0      male  22.000000   7.2500     G        S              1    Mr     1   \n",
       "1    female  38.000000  71.2833     C        C              1   Mrs     0   \n",
       "2    female  26.000000   7.9250     E        S              0  Miss     0   \n",
       "3    female  35.000000  53.1000     C        S              1   Mrs     0   \n",
       "4      male  35.000000   8.0500     E        S              0    Mr     1   \n",
       "..      ...        ...      ...   ...      ...            ...   ...   ...   \n",
       "886    male  27.000000  13.0000     E        S              0    Mr     1   \n",
       "887  female  19.000000  30.0000     B        S              0  Miss     0   \n",
       "888  female  23.315705  23.4500     F        S              3  Miss     0   \n",
       "889    male  26.000000  30.0000     C        C              0    Mr     1   \n",
       "890    male  32.000000   7.7500     F        Q              0    Mr     1   \n",
       "\n",
       "     isMrs  isMaster  isMiss  isMan  isWoman  \n",
       "0        0         0       0      1        0  \n",
       "1        1         0       0      0        1  \n",
       "2        0         0       1      0        1  \n",
       "3        1         0       0      0        1  \n",
       "4        0         0       0      1        0  \n",
       "..     ...       ...     ...    ...      ...  \n",
       "886      0         0       0      1        0  \n",
       "887      0         0       1      0        1  \n",
       "888      0         0       1      0        1  \n",
       "889      0         0       0      1        0  \n",
       "890      0         0       0      1        0  \n",
       "\n",
       "[891 rows x 16 columns]"
      ],
      "text/html": "<div>\n<style scoped>\n    .dataframe tbody tr th:only-of-type {\n        vertical-align: middle;\n    }\n\n    .dataframe tbody tr th {\n        vertical-align: top;\n    }\n\n    .dataframe thead th {\n        text-align: right;\n    }\n</style>\n<table border=\"1\" class=\"dataframe\">\n  <thead>\n    <tr style=\"text-align: right;\">\n      <th></th>\n      <th>Survived</th>\n      <th>Pclass</th>\n      <th>Name</th>\n      <th>Sex</th>\n      <th>Age</th>\n      <th>Fare</th>\n      <th>Cabin</th>\n      <th>Embarked</th>\n      <th>Accompany_num</th>\n      <th>Title</th>\n      <th>isMr</th>\n      <th>isMrs</th>\n      <th>isMaster</th>\n      <th>isMiss</th>\n      <th>isMan</th>\n      <th>isWoman</th>\n    </tr>\n  </thead>\n  <tbody>\n    <tr>\n      <th>0</th>\n      <td>0</td>\n      <td>3</td>\n      <td>Braund, Mr. Owen Harris</td>\n      <td>male</td>\n      <td>22.000000</td>\n      <td>7.2500</td>\n      <td>G</td>\n      <td>S</td>\n      <td>1</td>\n      <td>Mr</td>\n      <td>1</td>\n      <td>0</td>\n      <td>0</td>\n      <td>0</td>\n      <td>1</td>\n      <td>0</td>\n    </tr>\n    <tr>\n      <th>1</th>\n      <td>1</td>\n      <td>1</td>\n      <td>Cumings, Mrs. John Bradley (Florence Briggs Th...</td>\n      <td>female</td>\n      <td>38.000000</td>\n      <td>71.2833</td>\n      <td>C</td>\n      <td>C</td>\n      <td>1</td>\n      <td>Mrs</td>\n      <td>0</td>\n      <td>1</td>\n      <td>0</td>\n      <td>0</td>\n      <td>0</td>\n      <td>1</td>\n    </tr>\n    <tr>\n      <th>2</th>\n      <td>1</td>\n      <td>3</td>\n      <td>Heikkinen, Miss. Laina</td>\n      <td>female</td>\n      <td>26.000000</td>\n      <td>7.9250</td>\n      <td>E</td>\n      <td>S</td>\n      <td>0</td>\n      <td>Miss</td>\n      <td>0</td>\n      <td>0</td>\n      <td>0</td>\n      <td>1</td>\n      <td>0</td>\n      <td>1</td>\n    </tr>\n    <tr>\n      <th>3</th>\n      <td>1</td>\n      <td>1</td>\n      <td>Futrelle, Mrs. Jacques Heath (Lily May Peel)</td>\n      <td>female</td>\n      <td>35.000000</td>\n      <td>53.1000</td>\n      <td>C</td>\n      <td>S</td>\n      <td>1</td>\n      <td>Mrs</td>\n      <td>0</td>\n      <td>1</td>\n      <td>0</td>\n      <td>0</td>\n      <td>0</td>\n      <td>1</td>\n    </tr>\n    <tr>\n      <th>4</th>\n      <td>0</td>\n      <td>3</td>\n      <td>Allen, Mr. William Henry</td>\n      <td>male</td>\n      <td>35.000000</td>\n      <td>8.0500</td>\n      <td>E</td>\n      <td>S</td>\n      <td>0</td>\n      <td>Mr</td>\n      <td>1</td>\n      <td>0</td>\n      <td>0</td>\n      <td>0</td>\n      <td>1</td>\n      <td>0</td>\n    </tr>\n    <tr>\n      <th>...</th>\n      <td>...</td>\n      <td>...</td>\n      <td>...</td>\n      <td>...</td>\n      <td>...</td>\n      <td>...</td>\n      <td>...</td>\n      <td>...</td>\n      <td>...</td>\n      <td>...</td>\n      <td>...</td>\n      <td>...</td>\n      <td>...</td>\n      <td>...</td>\n      <td>...</td>\n      <td>...</td>\n    </tr>\n    <tr>\n      <th>886</th>\n      <td>0</td>\n      <td>2</td>\n      <td>Montvila, Rev. Juozas</td>\n      <td>male</td>\n      <td>27.000000</td>\n      <td>13.0000</td>\n      <td>E</td>\n      <td>S</td>\n      <td>0</td>\n      <td>Mr</td>\n      <td>1</td>\n      <td>0</td>\n      <td>0</td>\n      <td>0</td>\n      <td>1</td>\n      <td>0</td>\n    </tr>\n    <tr>\n      <th>887</th>\n      <td>1</td>\n      <td>1</td>\n      <td>Graham, Miss. Margaret Edith</td>\n      <td>female</td>\n      <td>19.000000</td>\n      <td>30.0000</td>\n      <td>B</td>\n      <td>S</td>\n      <td>0</td>\n      <td>Miss</td>\n      <td>0</td>\n      <td>0</td>\n      <td>0</td>\n      <td>1</td>\n      <td>0</td>\n      <td>1</td>\n    </tr>\n    <tr>\n      <th>888</th>\n      <td>0</td>\n      <td>3</td>\n      <td>Johnston, Miss. Catherine Helen \"Carrie\"</td>\n      <td>female</td>\n      <td>23.315705</td>\n      <td>23.4500</td>\n      <td>F</td>\n      <td>S</td>\n      <td>3</td>\n      <td>Miss</td>\n      <td>0</td>\n      <td>0</td>\n      <td>0</td>\n      <td>1</td>\n      <td>0</td>\n      <td>1</td>\n    </tr>\n    <tr>\n      <th>889</th>\n      <td>1</td>\n      <td>1</td>\n      <td>Behr, Mr. Karl Howell</td>\n      <td>male</td>\n      <td>26.000000</td>\n      <td>30.0000</td>\n      <td>C</td>\n      <td>C</td>\n      <td>0</td>\n      <td>Mr</td>\n      <td>1</td>\n      <td>0</td>\n      <td>0</td>\n      <td>0</td>\n      <td>1</td>\n      <td>0</td>\n    </tr>\n    <tr>\n      <th>890</th>\n      <td>0</td>\n      <td>3</td>\n      <td>Dooley, Mr. Patrick</td>\n      <td>male</td>\n      <td>32.000000</td>\n      <td>7.7500</td>\n      <td>F</td>\n      <td>Q</td>\n      <td>0</td>\n      <td>Mr</td>\n      <td>1</td>\n      <td>0</td>\n      <td>0</td>\n      <td>0</td>\n      <td>1</td>\n      <td>0</td>\n    </tr>\n  </tbody>\n</table>\n<p>891 rows × 16 columns</p>\n</div>"
     },
     "metadata": {},
     "execution_count": 73
    }
   ],
   "source": [
    "train #isMan, isWoman이 있는걸 확인할 수 있다. "
   ]
  },
  {
   "cell_type": "code",
   "execution_count": 74,
   "metadata": {},
   "outputs": [
    {
     "output_type": "execute_result",
     "data": {
      "text/plain": [
       "     Pclass                                          Name     Sex        Age  \\\n",
       "0         3                              Kelly, Mr. James    male  34.500000   \n",
       "1         3              Wilkes, Mrs. James (Ellen Needs)  female  47.000000   \n",
       "2         2                     Myles, Mr. Thomas Francis    male  62.000000   \n",
       "3         3                              Wirz, Mr. Albert    male  27.000000   \n",
       "4         3  Hirvonen, Mrs. Alexander (Helga E Lindqvist)  female  22.000000   \n",
       "..      ...                                           ...     ...        ...   \n",
       "413       3                            Spector, Mr. Woolf    male  33.214286   \n",
       "414       1                  Oliva y Ocana, Dona. Fermina  female  39.000000   \n",
       "415       3                  Saether, Mr. Simon Sivertsen    male  38.500000   \n",
       "416       3                           Ware, Mr. Frederick    male  22.538462   \n",
       "417       3                      Peter, Master. Michael J    male  22.538462   \n",
       "\n",
       "         Fare Cabin Embarked  Accompany_num   Title  isMr  isMrs  isMaster  \\\n",
       "0      7.8292     F        Q              0      Mr     1      0         0   \n",
       "1      7.0000     F        S              1     Mrs     0      1         0   \n",
       "2      9.6875     F        Q              0      Mr     1      0         0   \n",
       "3      8.6625     F        S              0      Mr     1      0         0   \n",
       "4     12.2875     G        S              2     Mrs     0      1         0   \n",
       "..        ...   ...      ...            ...     ...   ...    ...       ...   \n",
       "413    8.0500     F        S              0      Mr     1      0         0   \n",
       "414  108.9000     C        C              0     Mrs     0      1         0   \n",
       "415    7.2500     F        S              0      Mr     1      0         0   \n",
       "416    8.0500     F        S              0      Mr     1      0         0   \n",
       "417   22.3583     F        C              2  Master     0      0         1   \n",
       "\n",
       "     isMiss  isMan  isWoman  \n",
       "0         0      1        0  \n",
       "1         0      0        1  \n",
       "2         0      1        0  \n",
       "3         0      1        0  \n",
       "4         0      0        1  \n",
       "..      ...    ...      ...  \n",
       "413       0      1        0  \n",
       "414       0      0        1  \n",
       "415       0      1        0  \n",
       "416       0      1        0  \n",
       "417       0      1        0  \n",
       "\n",
       "[418 rows x 15 columns]"
      ],
      "text/html": "<div>\n<style scoped>\n    .dataframe tbody tr th:only-of-type {\n        vertical-align: middle;\n    }\n\n    .dataframe tbody tr th {\n        vertical-align: top;\n    }\n\n    .dataframe thead th {\n        text-align: right;\n    }\n</style>\n<table border=\"1\" class=\"dataframe\">\n  <thead>\n    <tr style=\"text-align: right;\">\n      <th></th>\n      <th>Pclass</th>\n      <th>Name</th>\n      <th>Sex</th>\n      <th>Age</th>\n      <th>Fare</th>\n      <th>Cabin</th>\n      <th>Embarked</th>\n      <th>Accompany_num</th>\n      <th>Title</th>\n      <th>isMr</th>\n      <th>isMrs</th>\n      <th>isMaster</th>\n      <th>isMiss</th>\n      <th>isMan</th>\n      <th>isWoman</th>\n    </tr>\n  </thead>\n  <tbody>\n    <tr>\n      <th>0</th>\n      <td>3</td>\n      <td>Kelly, Mr. James</td>\n      <td>male</td>\n      <td>34.500000</td>\n      <td>7.8292</td>\n      <td>F</td>\n      <td>Q</td>\n      <td>0</td>\n      <td>Mr</td>\n      <td>1</td>\n      <td>0</td>\n      <td>0</td>\n      <td>0</td>\n      <td>1</td>\n      <td>0</td>\n    </tr>\n    <tr>\n      <th>1</th>\n      <td>3</td>\n      <td>Wilkes, Mrs. James (Ellen Needs)</td>\n      <td>female</td>\n      <td>47.000000</td>\n      <td>7.0000</td>\n      <td>F</td>\n      <td>S</td>\n      <td>1</td>\n      <td>Mrs</td>\n      <td>0</td>\n      <td>1</td>\n      <td>0</td>\n      <td>0</td>\n      <td>0</td>\n      <td>1</td>\n    </tr>\n    <tr>\n      <th>2</th>\n      <td>2</td>\n      <td>Myles, Mr. Thomas Francis</td>\n      <td>male</td>\n      <td>62.000000</td>\n      <td>9.6875</td>\n      <td>F</td>\n      <td>Q</td>\n      <td>0</td>\n      <td>Mr</td>\n      <td>1</td>\n      <td>0</td>\n      <td>0</td>\n      <td>0</td>\n      <td>1</td>\n      <td>0</td>\n    </tr>\n    <tr>\n      <th>3</th>\n      <td>3</td>\n      <td>Wirz, Mr. Albert</td>\n      <td>male</td>\n      <td>27.000000</td>\n      <td>8.6625</td>\n      <td>F</td>\n      <td>S</td>\n      <td>0</td>\n      <td>Mr</td>\n      <td>1</td>\n      <td>0</td>\n      <td>0</td>\n      <td>0</td>\n      <td>1</td>\n      <td>0</td>\n    </tr>\n    <tr>\n      <th>4</th>\n      <td>3</td>\n      <td>Hirvonen, Mrs. Alexander (Helga E Lindqvist)</td>\n      <td>female</td>\n      <td>22.000000</td>\n      <td>12.2875</td>\n      <td>G</td>\n      <td>S</td>\n      <td>2</td>\n      <td>Mrs</td>\n      <td>0</td>\n      <td>1</td>\n      <td>0</td>\n      <td>0</td>\n      <td>0</td>\n      <td>1</td>\n    </tr>\n    <tr>\n      <th>...</th>\n      <td>...</td>\n      <td>...</td>\n      <td>...</td>\n      <td>...</td>\n      <td>...</td>\n      <td>...</td>\n      <td>...</td>\n      <td>...</td>\n      <td>...</td>\n      <td>...</td>\n      <td>...</td>\n      <td>...</td>\n      <td>...</td>\n      <td>...</td>\n      <td>...</td>\n    </tr>\n    <tr>\n      <th>413</th>\n      <td>3</td>\n      <td>Spector, Mr. Woolf</td>\n      <td>male</td>\n      <td>33.214286</td>\n      <td>8.0500</td>\n      <td>F</td>\n      <td>S</td>\n      <td>0</td>\n      <td>Mr</td>\n      <td>1</td>\n      <td>0</td>\n      <td>0</td>\n      <td>0</td>\n      <td>1</td>\n      <td>0</td>\n    </tr>\n    <tr>\n      <th>414</th>\n      <td>1</td>\n      <td>Oliva y Ocana, Dona. Fermina</td>\n      <td>female</td>\n      <td>39.000000</td>\n      <td>108.9000</td>\n      <td>C</td>\n      <td>C</td>\n      <td>0</td>\n      <td>Mrs</td>\n      <td>0</td>\n      <td>1</td>\n      <td>0</td>\n      <td>0</td>\n      <td>0</td>\n      <td>1</td>\n    </tr>\n    <tr>\n      <th>415</th>\n      <td>3</td>\n      <td>Saether, Mr. Simon Sivertsen</td>\n      <td>male</td>\n      <td>38.500000</td>\n      <td>7.2500</td>\n      <td>F</td>\n      <td>S</td>\n      <td>0</td>\n      <td>Mr</td>\n      <td>1</td>\n      <td>0</td>\n      <td>0</td>\n      <td>0</td>\n      <td>1</td>\n      <td>0</td>\n    </tr>\n    <tr>\n      <th>416</th>\n      <td>3</td>\n      <td>Ware, Mr. Frederick</td>\n      <td>male</td>\n      <td>22.538462</td>\n      <td>8.0500</td>\n      <td>F</td>\n      <td>S</td>\n      <td>0</td>\n      <td>Mr</td>\n      <td>1</td>\n      <td>0</td>\n      <td>0</td>\n      <td>0</td>\n      <td>1</td>\n      <td>0</td>\n    </tr>\n    <tr>\n      <th>417</th>\n      <td>3</td>\n      <td>Peter, Master. Michael J</td>\n      <td>male</td>\n      <td>22.538462</td>\n      <td>22.3583</td>\n      <td>F</td>\n      <td>C</td>\n      <td>2</td>\n      <td>Master</td>\n      <td>0</td>\n      <td>0</td>\n      <td>1</td>\n      <td>0</td>\n      <td>1</td>\n      <td>0</td>\n    </tr>\n  </tbody>\n</table>\n<p>418 rows × 15 columns</p>\n</div>"
     },
     "metadata": {},
     "execution_count": 74
    }
   ],
   "source": [
    "test"
   ]
  },
  {
   "source": [
    "### 3-2-2. 객실 데이터\n",
    "<br>\n",
    "이제 객실 정보를 가공하자\n",
    "<br>\n",
    "객실 정보도 성별을 분류했던 것과 같이 Cabin_A, Cabin_B...와 같은 특성을 추가한 뒤 값을 넣어줄거다."
   ],
   "cell_type": "markdown",
   "metadata": {}
  },
  {
   "cell_type": "code",
   "execution_count": 75,
   "metadata": {},
   "outputs": [],
   "source": [
    "# 객실 종류별 is~ 특성 추가\n",
    "train['Cabin_A'] = 0 \n",
    "train['Cabin_B'] = 0\n",
    "train['Cabin_C'] = 0\n",
    "train['Cabin_D'] = 0\n",
    "train['Cabin_E'] = 0\n",
    "train['Cabin_F'] = 0\n",
    "train['Cabin_G'] = 0\n",
    "train['Cabin_T'] = 0\n",
    "\n",
    "for i in range(0, len(train)):\n",
    "    if train['Cabin'][i] == 'A':\n",
    "        train['Cabin_A'][i] = 1\n",
    "    elif train['Cabin'][i] == 'B':\n",
    "        train['Cabin_B'][i] = 1\n",
    "    elif train['Cabin'][i] == 'C':\n",
    "        train['Cabin_C'][i] = 1\n",
    "    elif train['Cabin'][i] == 'D':\n",
    "        train['Cabin_D'][i] = 1\n",
    "    elif train['Cabin'][i] == 'E':\n",
    "        train['Cabin_E'][i] = 1\n",
    "    elif train['Cabin'][i] == 'F':\n",
    "        train['Cabin_F'][i] = 1\n",
    "    elif train['Cabin'][i] == 'G':\n",
    "        train['Cabin_G'][i] = 1\n",
    "    elif train['Cabin'][i] == 'T':\n",
    "        train['Cabin_T'][i] = 1\n",
    "\n",
    "# 테스트 데이터도 추가\n",
    "test['Cabin_A'] = 0 \n",
    "test['Cabin_B'] = 0\n",
    "test['Cabin_C'] = 0\n",
    "test['Cabin_D'] = 0\n",
    "test['Cabin_E'] = 0\n",
    "test['Cabin_F'] = 0\n",
    "test['Cabin_G'] = 0\n",
    "test['Cabin_T'] = 0\n",
    "\n",
    "for i in range(0, len(test)):\n",
    "    if test['Cabin'][i] == 'A':\n",
    "        test['Cabin_A'][i] = 1\n",
    "    elif test['Cabin'][i] == 'B':\n",
    "        test['Cabin_B'][i] = 1\n",
    "    elif test['Cabin'][i] == 'C':\n",
    "        test['Cabin_C'][i] = 1\n",
    "    elif test['Cabin'][i] == 'D':\n",
    "        test['Cabin_D'][i] = 1\n",
    "    elif test['Cabin'][i] == 'E':\n",
    "        test['Cabin_E'][i] = 1\n",
    "    elif test['Cabin'][i] == 'F':\n",
    "        test['Cabin_F'][i] = 1\n",
    "    elif test['Cabin'][i] == 'G':\n",
    "        test['Cabin_G'][i] = 1\n",
    "    elif test['Cabin'][i] == 'T':\n",
    "        test['Cabin_T'][i] = 1\n",
    "\n",
    "# 'Cabin' 특성 드랍\n",
    "train.drop('Cabin', axis=1, inplace=True)\n",
    "test.drop('Cabin', axis=1, inplace=True)"
   ]
  },
  {
   "source": [
    "데이터를 확인해보자"
   ],
   "cell_type": "markdown",
   "metadata": {}
  },
  {
   "cell_type": "code",
   "execution_count": 76,
   "metadata": {},
   "outputs": [
    {
     "output_type": "execute_result",
     "data": {
      "text/plain": [
       "     Survived  Pclass                                               Name  \\\n",
       "0           0       3                            Braund, Mr. Owen Harris   \n",
       "1           1       1  Cumings, Mrs. John Bradley (Florence Briggs Th...   \n",
       "2           1       3                             Heikkinen, Miss. Laina   \n",
       "3           1       1       Futrelle, Mrs. Jacques Heath (Lily May Peel)   \n",
       "4           0       3                           Allen, Mr. William Henry   \n",
       "..        ...     ...                                                ...   \n",
       "886         0       2                              Montvila, Rev. Juozas   \n",
       "887         1       1                       Graham, Miss. Margaret Edith   \n",
       "888         0       3           Johnston, Miss. Catherine Helen \"Carrie\"   \n",
       "889         1       1                              Behr, Mr. Karl Howell   \n",
       "890         0       3                                Dooley, Mr. Patrick   \n",
       "\n",
       "        Sex        Age     Fare Embarked  Accompany_num Title  isMr  ...  \\\n",
       "0      male  22.000000   7.2500        S              1    Mr     1  ...   \n",
       "1    female  38.000000  71.2833        C              1   Mrs     0  ...   \n",
       "2    female  26.000000   7.9250        S              0  Miss     0  ...   \n",
       "3    female  35.000000  53.1000        S              1   Mrs     0  ...   \n",
       "4      male  35.000000   8.0500        S              0    Mr     1  ...   \n",
       "..      ...        ...      ...      ...            ...   ...   ...  ...   \n",
       "886    male  27.000000  13.0000        S              0    Mr     1  ...   \n",
       "887  female  19.000000  30.0000        S              0  Miss     0  ...   \n",
       "888  female  23.315705  23.4500        S              3  Miss     0  ...   \n",
       "889    male  26.000000  30.0000        C              0    Mr     1  ...   \n",
       "890    male  32.000000   7.7500        Q              0    Mr     1  ...   \n",
       "\n",
       "     isMan  isWoman  Cabin_A  Cabin_B  Cabin_C  Cabin_D  Cabin_E  Cabin_F  \\\n",
       "0        1        0        0        0        0        0        0        0   \n",
       "1        0        1        0        0        1        0        0        0   \n",
       "2        0        1        0        0        0        0        1        0   \n",
       "3        0        1        0        0        1        0        0        0   \n",
       "4        1        0        0        0        0        0        1        0   \n",
       "..     ...      ...      ...      ...      ...      ...      ...      ...   \n",
       "886      1        0        0        0        0        0        1        0   \n",
       "887      0        1        0        1        0        0        0        0   \n",
       "888      0        1        0        0        0        0        0        1   \n",
       "889      1        0        0        0        1        0        0        0   \n",
       "890      1        0        0        0        0        0        0        1   \n",
       "\n",
       "     Cabin_G  Cabin_T  \n",
       "0          1        0  \n",
       "1          0        0  \n",
       "2          0        0  \n",
       "3          0        0  \n",
       "4          0        0  \n",
       "..       ...      ...  \n",
       "886        0        0  \n",
       "887        0        0  \n",
       "888        0        0  \n",
       "889        0        0  \n",
       "890        0        0  \n",
       "\n",
       "[891 rows x 23 columns]"
      ],
      "text/html": "<div>\n<style scoped>\n    .dataframe tbody tr th:only-of-type {\n        vertical-align: middle;\n    }\n\n    .dataframe tbody tr th {\n        vertical-align: top;\n    }\n\n    .dataframe thead th {\n        text-align: right;\n    }\n</style>\n<table border=\"1\" class=\"dataframe\">\n  <thead>\n    <tr style=\"text-align: right;\">\n      <th></th>\n      <th>Survived</th>\n      <th>Pclass</th>\n      <th>Name</th>\n      <th>Sex</th>\n      <th>Age</th>\n      <th>Fare</th>\n      <th>Embarked</th>\n      <th>Accompany_num</th>\n      <th>Title</th>\n      <th>isMr</th>\n      <th>...</th>\n      <th>isMan</th>\n      <th>isWoman</th>\n      <th>Cabin_A</th>\n      <th>Cabin_B</th>\n      <th>Cabin_C</th>\n      <th>Cabin_D</th>\n      <th>Cabin_E</th>\n      <th>Cabin_F</th>\n      <th>Cabin_G</th>\n      <th>Cabin_T</th>\n    </tr>\n  </thead>\n  <tbody>\n    <tr>\n      <th>0</th>\n      <td>0</td>\n      <td>3</td>\n      <td>Braund, Mr. Owen Harris</td>\n      <td>male</td>\n      <td>22.000000</td>\n      <td>7.2500</td>\n      <td>S</td>\n      <td>1</td>\n      <td>Mr</td>\n      <td>1</td>\n      <td>...</td>\n      <td>1</td>\n      <td>0</td>\n      <td>0</td>\n      <td>0</td>\n      <td>0</td>\n      <td>0</td>\n      <td>0</td>\n      <td>0</td>\n      <td>1</td>\n      <td>0</td>\n    </tr>\n    <tr>\n      <th>1</th>\n      <td>1</td>\n      <td>1</td>\n      <td>Cumings, Mrs. John Bradley (Florence Briggs Th...</td>\n      <td>female</td>\n      <td>38.000000</td>\n      <td>71.2833</td>\n      <td>C</td>\n      <td>1</td>\n      <td>Mrs</td>\n      <td>0</td>\n      <td>...</td>\n      <td>0</td>\n      <td>1</td>\n      <td>0</td>\n      <td>0</td>\n      <td>1</td>\n      <td>0</td>\n      <td>0</td>\n      <td>0</td>\n      <td>0</td>\n      <td>0</td>\n    </tr>\n    <tr>\n      <th>2</th>\n      <td>1</td>\n      <td>3</td>\n      <td>Heikkinen, Miss. Laina</td>\n      <td>female</td>\n      <td>26.000000</td>\n      <td>7.9250</td>\n      <td>S</td>\n      <td>0</td>\n      <td>Miss</td>\n      <td>0</td>\n      <td>...</td>\n      <td>0</td>\n      <td>1</td>\n      <td>0</td>\n      <td>0</td>\n      <td>0</td>\n      <td>0</td>\n      <td>1</td>\n      <td>0</td>\n      <td>0</td>\n      <td>0</td>\n    </tr>\n    <tr>\n      <th>3</th>\n      <td>1</td>\n      <td>1</td>\n      <td>Futrelle, Mrs. Jacques Heath (Lily May Peel)</td>\n      <td>female</td>\n      <td>35.000000</td>\n      <td>53.1000</td>\n      <td>S</td>\n      <td>1</td>\n      <td>Mrs</td>\n      <td>0</td>\n      <td>...</td>\n      <td>0</td>\n      <td>1</td>\n      <td>0</td>\n      <td>0</td>\n      <td>1</td>\n      <td>0</td>\n      <td>0</td>\n      <td>0</td>\n      <td>0</td>\n      <td>0</td>\n    </tr>\n    <tr>\n      <th>4</th>\n      <td>0</td>\n      <td>3</td>\n      <td>Allen, Mr. William Henry</td>\n      <td>male</td>\n      <td>35.000000</td>\n      <td>8.0500</td>\n      <td>S</td>\n      <td>0</td>\n      <td>Mr</td>\n      <td>1</td>\n      <td>...</td>\n      <td>1</td>\n      <td>0</td>\n      <td>0</td>\n      <td>0</td>\n      <td>0</td>\n      <td>0</td>\n      <td>1</td>\n      <td>0</td>\n      <td>0</td>\n      <td>0</td>\n    </tr>\n    <tr>\n      <th>...</th>\n      <td>...</td>\n      <td>...</td>\n      <td>...</td>\n      <td>...</td>\n      <td>...</td>\n      <td>...</td>\n      <td>...</td>\n      <td>...</td>\n      <td>...</td>\n      <td>...</td>\n      <td>...</td>\n      <td>...</td>\n      <td>...</td>\n      <td>...</td>\n      <td>...</td>\n      <td>...</td>\n      <td>...</td>\n      <td>...</td>\n      <td>...</td>\n      <td>...</td>\n      <td>...</td>\n    </tr>\n    <tr>\n      <th>886</th>\n      <td>0</td>\n      <td>2</td>\n      <td>Montvila, Rev. Juozas</td>\n      <td>male</td>\n      <td>27.000000</td>\n      <td>13.0000</td>\n      <td>S</td>\n      <td>0</td>\n      <td>Mr</td>\n      <td>1</td>\n      <td>...</td>\n      <td>1</td>\n      <td>0</td>\n      <td>0</td>\n      <td>0</td>\n      <td>0</td>\n      <td>0</td>\n      <td>1</td>\n      <td>0</td>\n      <td>0</td>\n      <td>0</td>\n    </tr>\n    <tr>\n      <th>887</th>\n      <td>1</td>\n      <td>1</td>\n      <td>Graham, Miss. Margaret Edith</td>\n      <td>female</td>\n      <td>19.000000</td>\n      <td>30.0000</td>\n      <td>S</td>\n      <td>0</td>\n      <td>Miss</td>\n      <td>0</td>\n      <td>...</td>\n      <td>0</td>\n      <td>1</td>\n      <td>0</td>\n      <td>1</td>\n      <td>0</td>\n      <td>0</td>\n      <td>0</td>\n      <td>0</td>\n      <td>0</td>\n      <td>0</td>\n    </tr>\n    <tr>\n      <th>888</th>\n      <td>0</td>\n      <td>3</td>\n      <td>Johnston, Miss. Catherine Helen \"Carrie\"</td>\n      <td>female</td>\n      <td>23.315705</td>\n      <td>23.4500</td>\n      <td>S</td>\n      <td>3</td>\n      <td>Miss</td>\n      <td>0</td>\n      <td>...</td>\n      <td>0</td>\n      <td>1</td>\n      <td>0</td>\n      <td>0</td>\n      <td>0</td>\n      <td>0</td>\n      <td>0</td>\n      <td>1</td>\n      <td>0</td>\n      <td>0</td>\n    </tr>\n    <tr>\n      <th>889</th>\n      <td>1</td>\n      <td>1</td>\n      <td>Behr, Mr. Karl Howell</td>\n      <td>male</td>\n      <td>26.000000</td>\n      <td>30.0000</td>\n      <td>C</td>\n      <td>0</td>\n      <td>Mr</td>\n      <td>1</td>\n      <td>...</td>\n      <td>1</td>\n      <td>0</td>\n      <td>0</td>\n      <td>0</td>\n      <td>1</td>\n      <td>0</td>\n      <td>0</td>\n      <td>0</td>\n      <td>0</td>\n      <td>0</td>\n    </tr>\n    <tr>\n      <th>890</th>\n      <td>0</td>\n      <td>3</td>\n      <td>Dooley, Mr. Patrick</td>\n      <td>male</td>\n      <td>32.000000</td>\n      <td>7.7500</td>\n      <td>Q</td>\n      <td>0</td>\n      <td>Mr</td>\n      <td>1</td>\n      <td>...</td>\n      <td>1</td>\n      <td>0</td>\n      <td>0</td>\n      <td>0</td>\n      <td>0</td>\n      <td>0</td>\n      <td>0</td>\n      <td>1</td>\n      <td>0</td>\n      <td>0</td>\n    </tr>\n  </tbody>\n</table>\n<p>891 rows × 23 columns</p>\n</div>"
     },
     "metadata": {},
     "execution_count": 76
    }
   ],
   "source": [
    "train"
   ]
  },
  {
   "cell_type": "code",
   "execution_count": 77,
   "metadata": {},
   "outputs": [
    {
     "output_type": "execute_result",
     "data": {
      "text/plain": [
       "     Pclass                                          Name     Sex        Age  \\\n",
       "0         3                              Kelly, Mr. James    male  34.500000   \n",
       "1         3              Wilkes, Mrs. James (Ellen Needs)  female  47.000000   \n",
       "2         2                     Myles, Mr. Thomas Francis    male  62.000000   \n",
       "3         3                              Wirz, Mr. Albert    male  27.000000   \n",
       "4         3  Hirvonen, Mrs. Alexander (Helga E Lindqvist)  female  22.000000   \n",
       "..      ...                                           ...     ...        ...   \n",
       "413       3                            Spector, Mr. Woolf    male  33.214286   \n",
       "414       1                  Oliva y Ocana, Dona. Fermina  female  39.000000   \n",
       "415       3                  Saether, Mr. Simon Sivertsen    male  38.500000   \n",
       "416       3                           Ware, Mr. Frederick    male  22.538462   \n",
       "417       3                      Peter, Master. Michael J    male  22.538462   \n",
       "\n",
       "         Fare Embarked  Accompany_num   Title  isMr  isMrs  ...  isMan  \\\n",
       "0      7.8292        Q              0      Mr     1      0  ...      1   \n",
       "1      7.0000        S              1     Mrs     0      1  ...      0   \n",
       "2      9.6875        Q              0      Mr     1      0  ...      1   \n",
       "3      8.6625        S              0      Mr     1      0  ...      1   \n",
       "4     12.2875        S              2     Mrs     0      1  ...      0   \n",
       "..        ...      ...            ...     ...   ...    ...  ...    ...   \n",
       "413    8.0500        S              0      Mr     1      0  ...      1   \n",
       "414  108.9000        C              0     Mrs     0      1  ...      0   \n",
       "415    7.2500        S              0      Mr     1      0  ...      1   \n",
       "416    8.0500        S              0      Mr     1      0  ...      1   \n",
       "417   22.3583        C              2  Master     0      0  ...      1   \n",
       "\n",
       "     isWoman  Cabin_A  Cabin_B  Cabin_C  Cabin_D  Cabin_E  Cabin_F  Cabin_G  \\\n",
       "0          0        0        0        0        0        0        1        0   \n",
       "1          1        0        0        0        0        0        1        0   \n",
       "2          0        0        0        0        0        0        1        0   \n",
       "3          0        0        0        0        0        0        1        0   \n",
       "4          1        0        0        0        0        0        0        1   \n",
       "..       ...      ...      ...      ...      ...      ...      ...      ...   \n",
       "413        0        0        0        0        0        0        1        0   \n",
       "414        1        0        0        1        0        0        0        0   \n",
       "415        0        0        0        0        0        0        1        0   \n",
       "416        0        0        0        0        0        0        1        0   \n",
       "417        0        0        0        0        0        0        1        0   \n",
       "\n",
       "     Cabin_T  \n",
       "0          0  \n",
       "1          0  \n",
       "2          0  \n",
       "3          0  \n",
       "4          0  \n",
       "..       ...  \n",
       "413        0  \n",
       "414        0  \n",
       "415        0  \n",
       "416        0  \n",
       "417        0  \n",
       "\n",
       "[418 rows x 22 columns]"
      ],
      "text/html": "<div>\n<style scoped>\n    .dataframe tbody tr th:only-of-type {\n        vertical-align: middle;\n    }\n\n    .dataframe tbody tr th {\n        vertical-align: top;\n    }\n\n    .dataframe thead th {\n        text-align: right;\n    }\n</style>\n<table border=\"1\" class=\"dataframe\">\n  <thead>\n    <tr style=\"text-align: right;\">\n      <th></th>\n      <th>Pclass</th>\n      <th>Name</th>\n      <th>Sex</th>\n      <th>Age</th>\n      <th>Fare</th>\n      <th>Embarked</th>\n      <th>Accompany_num</th>\n      <th>Title</th>\n      <th>isMr</th>\n      <th>isMrs</th>\n      <th>...</th>\n      <th>isMan</th>\n      <th>isWoman</th>\n      <th>Cabin_A</th>\n      <th>Cabin_B</th>\n      <th>Cabin_C</th>\n      <th>Cabin_D</th>\n      <th>Cabin_E</th>\n      <th>Cabin_F</th>\n      <th>Cabin_G</th>\n      <th>Cabin_T</th>\n    </tr>\n  </thead>\n  <tbody>\n    <tr>\n      <th>0</th>\n      <td>3</td>\n      <td>Kelly, Mr. James</td>\n      <td>male</td>\n      <td>34.500000</td>\n      <td>7.8292</td>\n      <td>Q</td>\n      <td>0</td>\n      <td>Mr</td>\n      <td>1</td>\n      <td>0</td>\n      <td>...</td>\n      <td>1</td>\n      <td>0</td>\n      <td>0</td>\n      <td>0</td>\n      <td>0</td>\n      <td>0</td>\n      <td>0</td>\n      <td>1</td>\n      <td>0</td>\n      <td>0</td>\n    </tr>\n    <tr>\n      <th>1</th>\n      <td>3</td>\n      <td>Wilkes, Mrs. James (Ellen Needs)</td>\n      <td>female</td>\n      <td>47.000000</td>\n      <td>7.0000</td>\n      <td>S</td>\n      <td>1</td>\n      <td>Mrs</td>\n      <td>0</td>\n      <td>1</td>\n      <td>...</td>\n      <td>0</td>\n      <td>1</td>\n      <td>0</td>\n      <td>0</td>\n      <td>0</td>\n      <td>0</td>\n      <td>0</td>\n      <td>1</td>\n      <td>0</td>\n      <td>0</td>\n    </tr>\n    <tr>\n      <th>2</th>\n      <td>2</td>\n      <td>Myles, Mr. Thomas Francis</td>\n      <td>male</td>\n      <td>62.000000</td>\n      <td>9.6875</td>\n      <td>Q</td>\n      <td>0</td>\n      <td>Mr</td>\n      <td>1</td>\n      <td>0</td>\n      <td>...</td>\n      <td>1</td>\n      <td>0</td>\n      <td>0</td>\n      <td>0</td>\n      <td>0</td>\n      <td>0</td>\n      <td>0</td>\n      <td>1</td>\n      <td>0</td>\n      <td>0</td>\n    </tr>\n    <tr>\n      <th>3</th>\n      <td>3</td>\n      <td>Wirz, Mr. Albert</td>\n      <td>male</td>\n      <td>27.000000</td>\n      <td>8.6625</td>\n      <td>S</td>\n      <td>0</td>\n      <td>Mr</td>\n      <td>1</td>\n      <td>0</td>\n      <td>...</td>\n      <td>1</td>\n      <td>0</td>\n      <td>0</td>\n      <td>0</td>\n      <td>0</td>\n      <td>0</td>\n      <td>0</td>\n      <td>1</td>\n      <td>0</td>\n      <td>0</td>\n    </tr>\n    <tr>\n      <th>4</th>\n      <td>3</td>\n      <td>Hirvonen, Mrs. Alexander (Helga E Lindqvist)</td>\n      <td>female</td>\n      <td>22.000000</td>\n      <td>12.2875</td>\n      <td>S</td>\n      <td>2</td>\n      <td>Mrs</td>\n      <td>0</td>\n      <td>1</td>\n      <td>...</td>\n      <td>0</td>\n      <td>1</td>\n      <td>0</td>\n      <td>0</td>\n      <td>0</td>\n      <td>0</td>\n      <td>0</td>\n      <td>0</td>\n      <td>1</td>\n      <td>0</td>\n    </tr>\n    <tr>\n      <th>...</th>\n      <td>...</td>\n      <td>...</td>\n      <td>...</td>\n      <td>...</td>\n      <td>...</td>\n      <td>...</td>\n      <td>...</td>\n      <td>...</td>\n      <td>...</td>\n      <td>...</td>\n      <td>...</td>\n      <td>...</td>\n      <td>...</td>\n      <td>...</td>\n      <td>...</td>\n      <td>...</td>\n      <td>...</td>\n      <td>...</td>\n      <td>...</td>\n      <td>...</td>\n      <td>...</td>\n    </tr>\n    <tr>\n      <th>413</th>\n      <td>3</td>\n      <td>Spector, Mr. Woolf</td>\n      <td>male</td>\n      <td>33.214286</td>\n      <td>8.0500</td>\n      <td>S</td>\n      <td>0</td>\n      <td>Mr</td>\n      <td>1</td>\n      <td>0</td>\n      <td>...</td>\n      <td>1</td>\n      <td>0</td>\n      <td>0</td>\n      <td>0</td>\n      <td>0</td>\n      <td>0</td>\n      <td>0</td>\n      <td>1</td>\n      <td>0</td>\n      <td>0</td>\n    </tr>\n    <tr>\n      <th>414</th>\n      <td>1</td>\n      <td>Oliva y Ocana, Dona. Fermina</td>\n      <td>female</td>\n      <td>39.000000</td>\n      <td>108.9000</td>\n      <td>C</td>\n      <td>0</td>\n      <td>Mrs</td>\n      <td>0</td>\n      <td>1</td>\n      <td>...</td>\n      <td>0</td>\n      <td>1</td>\n      <td>0</td>\n      <td>0</td>\n      <td>1</td>\n      <td>0</td>\n      <td>0</td>\n      <td>0</td>\n      <td>0</td>\n      <td>0</td>\n    </tr>\n    <tr>\n      <th>415</th>\n      <td>3</td>\n      <td>Saether, Mr. Simon Sivertsen</td>\n      <td>male</td>\n      <td>38.500000</td>\n      <td>7.2500</td>\n      <td>S</td>\n      <td>0</td>\n      <td>Mr</td>\n      <td>1</td>\n      <td>0</td>\n      <td>...</td>\n      <td>1</td>\n      <td>0</td>\n      <td>0</td>\n      <td>0</td>\n      <td>0</td>\n      <td>0</td>\n      <td>0</td>\n      <td>1</td>\n      <td>0</td>\n      <td>0</td>\n    </tr>\n    <tr>\n      <th>416</th>\n      <td>3</td>\n      <td>Ware, Mr. Frederick</td>\n      <td>male</td>\n      <td>22.538462</td>\n      <td>8.0500</td>\n      <td>S</td>\n      <td>0</td>\n      <td>Mr</td>\n      <td>1</td>\n      <td>0</td>\n      <td>...</td>\n      <td>1</td>\n      <td>0</td>\n      <td>0</td>\n      <td>0</td>\n      <td>0</td>\n      <td>0</td>\n      <td>0</td>\n      <td>1</td>\n      <td>0</td>\n      <td>0</td>\n    </tr>\n    <tr>\n      <th>417</th>\n      <td>3</td>\n      <td>Peter, Master. Michael J</td>\n      <td>male</td>\n      <td>22.538462</td>\n      <td>22.3583</td>\n      <td>C</td>\n      <td>2</td>\n      <td>Master</td>\n      <td>0</td>\n      <td>0</td>\n      <td>...</td>\n      <td>1</td>\n      <td>0</td>\n      <td>0</td>\n      <td>0</td>\n      <td>0</td>\n      <td>0</td>\n      <td>0</td>\n      <td>1</td>\n      <td>0</td>\n      <td>0</td>\n    </tr>\n  </tbody>\n</table>\n<p>418 rows × 22 columns</p>\n</div>"
     },
     "metadata": {},
     "execution_count": 77
    }
   ],
   "source": [
    "test"
   ]
  },
  {
   "source": [
    "### 3-2-3. 객실 등급 데이터\n",
    "<br>\n",
    "이제 객실 등급 데이터를 가공하자. 앞서 확인했든 객실 등급은 생존 분류에 큰 영향을 미친다.\n",
    "<br>\n",
    "그러니 Pclass_1, Pclass_2, Pclass_3으로 만들고 해당되는 값에 1을 넣어준다."
   ],
   "cell_type": "markdown",
   "metadata": {}
  },
  {
   "cell_type": "code",
   "execution_count": 78,
   "metadata": {},
   "outputs": [],
   "source": [
    "train['Pclass_1'] = 0\n",
    "train['Pclass_2'] = 0\n",
    "train['Pclass_3'] = 0\n",
    "\n",
    "for i in range(0, len(train)):\n",
    "    if train['Pclass'][i] == 1:\n",
    "        train['Pclass_1'][i] = 1\n",
    "    elif train['Pclass'][i] == 2:\n",
    "        train['Pclass_2'][i] = 1\n",
    "    elif train['Pclass'][i] == 3:\n",
    "        train['Pclass_3'][i] = 1\n",
    "\n",
    "test['Pclass_1'] = 0\n",
    "test['Pclass_2'] = 0\n",
    "test['Pclass_3'] = 0\n",
    "\n",
    "for i in range(0, len(test)):\n",
    "    if test['Pclass'][i] == 1:\n",
    "        test['Pclass_1'][i] = 1\n",
    "    elif test['Pclass'][i] == 2:\n",
    "        test['Pclass_2'][i] = 1\n",
    "    elif test['Pclass'][i] == 3:\n",
    "        test['Pclass_3'][i] = 1\n",
    "\n",
    "# 'Pclass' 특성 드랍\n",
    "train.drop('Pclass', axis=1, inplace=True)\n",
    "test.drop('Pclass', axis=1, inplace=True)"
   ]
  },
  {
   "source": [
    "데이터를 확인해보자"
   ],
   "cell_type": "markdown",
   "metadata": {}
  },
  {
   "cell_type": "code",
   "execution_count": 79,
   "metadata": {},
   "outputs": [
    {
     "output_type": "execute_result",
     "data": {
      "text/plain": [
       "     Survived                                               Name     Sex  \\\n",
       "0           0                            Braund, Mr. Owen Harris    male   \n",
       "1           1  Cumings, Mrs. John Bradley (Florence Briggs Th...  female   \n",
       "2           1                             Heikkinen, Miss. Laina  female   \n",
       "3           1       Futrelle, Mrs. Jacques Heath (Lily May Peel)  female   \n",
       "4           0                           Allen, Mr. William Henry    male   \n",
       "..        ...                                                ...     ...   \n",
       "886         0                              Montvila, Rev. Juozas    male   \n",
       "887         1                       Graham, Miss. Margaret Edith  female   \n",
       "888         0           Johnston, Miss. Catherine Helen \"Carrie\"  female   \n",
       "889         1                              Behr, Mr. Karl Howell    male   \n",
       "890         0                                Dooley, Mr. Patrick    male   \n",
       "\n",
       "           Age     Fare Embarked  Accompany_num Title  isMr  isMrs  ...  \\\n",
       "0    22.000000   7.2500        S              1    Mr     1      0  ...   \n",
       "1    38.000000  71.2833        C              1   Mrs     0      1  ...   \n",
       "2    26.000000   7.9250        S              0  Miss     0      0  ...   \n",
       "3    35.000000  53.1000        S              1   Mrs     0      1  ...   \n",
       "4    35.000000   8.0500        S              0    Mr     1      0  ...   \n",
       "..         ...      ...      ...            ...   ...   ...    ...  ...   \n",
       "886  27.000000  13.0000        S              0    Mr     1      0  ...   \n",
       "887  19.000000  30.0000        S              0  Miss     0      0  ...   \n",
       "888  23.315705  23.4500        S              3  Miss     0      0  ...   \n",
       "889  26.000000  30.0000        C              0    Mr     1      0  ...   \n",
       "890  32.000000   7.7500        Q              0    Mr     1      0  ...   \n",
       "\n",
       "     Cabin_B  Cabin_C  Cabin_D  Cabin_E  Cabin_F  Cabin_G  Cabin_T  Pclass_1  \\\n",
       "0          0        0        0        0        0        1        0         0   \n",
       "1          0        1        0        0        0        0        0         1   \n",
       "2          0        0        0        1        0        0        0         0   \n",
       "3          0        1        0        0        0        0        0         1   \n",
       "4          0        0        0        1        0        0        0         0   \n",
       "..       ...      ...      ...      ...      ...      ...      ...       ...   \n",
       "886        0        0        0        1        0        0        0         0   \n",
       "887        1        0        0        0        0        0        0         1   \n",
       "888        0        0        0        0        1        0        0         0   \n",
       "889        0        1        0        0        0        0        0         1   \n",
       "890        0        0        0        0        1        0        0         0   \n",
       "\n",
       "     Pclass_2  Pclass_3  \n",
       "0           0         1  \n",
       "1           0         0  \n",
       "2           0         1  \n",
       "3           0         0  \n",
       "4           0         1  \n",
       "..        ...       ...  \n",
       "886         1         0  \n",
       "887         0         0  \n",
       "888         0         1  \n",
       "889         0         0  \n",
       "890         0         1  \n",
       "\n",
       "[891 rows x 25 columns]"
      ],
      "text/html": "<div>\n<style scoped>\n    .dataframe tbody tr th:only-of-type {\n        vertical-align: middle;\n    }\n\n    .dataframe tbody tr th {\n        vertical-align: top;\n    }\n\n    .dataframe thead th {\n        text-align: right;\n    }\n</style>\n<table border=\"1\" class=\"dataframe\">\n  <thead>\n    <tr style=\"text-align: right;\">\n      <th></th>\n      <th>Survived</th>\n      <th>Name</th>\n      <th>Sex</th>\n      <th>Age</th>\n      <th>Fare</th>\n      <th>Embarked</th>\n      <th>Accompany_num</th>\n      <th>Title</th>\n      <th>isMr</th>\n      <th>isMrs</th>\n      <th>...</th>\n      <th>Cabin_B</th>\n      <th>Cabin_C</th>\n      <th>Cabin_D</th>\n      <th>Cabin_E</th>\n      <th>Cabin_F</th>\n      <th>Cabin_G</th>\n      <th>Cabin_T</th>\n      <th>Pclass_1</th>\n      <th>Pclass_2</th>\n      <th>Pclass_3</th>\n    </tr>\n  </thead>\n  <tbody>\n    <tr>\n      <th>0</th>\n      <td>0</td>\n      <td>Braund, Mr. Owen Harris</td>\n      <td>male</td>\n      <td>22.000000</td>\n      <td>7.2500</td>\n      <td>S</td>\n      <td>1</td>\n      <td>Mr</td>\n      <td>1</td>\n      <td>0</td>\n      <td>...</td>\n      <td>0</td>\n      <td>0</td>\n      <td>0</td>\n      <td>0</td>\n      <td>0</td>\n      <td>1</td>\n      <td>0</td>\n      <td>0</td>\n      <td>0</td>\n      <td>1</td>\n    </tr>\n    <tr>\n      <th>1</th>\n      <td>1</td>\n      <td>Cumings, Mrs. John Bradley (Florence Briggs Th...</td>\n      <td>female</td>\n      <td>38.000000</td>\n      <td>71.2833</td>\n      <td>C</td>\n      <td>1</td>\n      <td>Mrs</td>\n      <td>0</td>\n      <td>1</td>\n      <td>...</td>\n      <td>0</td>\n      <td>1</td>\n      <td>0</td>\n      <td>0</td>\n      <td>0</td>\n      <td>0</td>\n      <td>0</td>\n      <td>1</td>\n      <td>0</td>\n      <td>0</td>\n    </tr>\n    <tr>\n      <th>2</th>\n      <td>1</td>\n      <td>Heikkinen, Miss. Laina</td>\n      <td>female</td>\n      <td>26.000000</td>\n      <td>7.9250</td>\n      <td>S</td>\n      <td>0</td>\n      <td>Miss</td>\n      <td>0</td>\n      <td>0</td>\n      <td>...</td>\n      <td>0</td>\n      <td>0</td>\n      <td>0</td>\n      <td>1</td>\n      <td>0</td>\n      <td>0</td>\n      <td>0</td>\n      <td>0</td>\n      <td>0</td>\n      <td>1</td>\n    </tr>\n    <tr>\n      <th>3</th>\n      <td>1</td>\n      <td>Futrelle, Mrs. Jacques Heath (Lily May Peel)</td>\n      <td>female</td>\n      <td>35.000000</td>\n      <td>53.1000</td>\n      <td>S</td>\n      <td>1</td>\n      <td>Mrs</td>\n      <td>0</td>\n      <td>1</td>\n      <td>...</td>\n      <td>0</td>\n      <td>1</td>\n      <td>0</td>\n      <td>0</td>\n      <td>0</td>\n      <td>0</td>\n      <td>0</td>\n      <td>1</td>\n      <td>0</td>\n      <td>0</td>\n    </tr>\n    <tr>\n      <th>4</th>\n      <td>0</td>\n      <td>Allen, Mr. William Henry</td>\n      <td>male</td>\n      <td>35.000000</td>\n      <td>8.0500</td>\n      <td>S</td>\n      <td>0</td>\n      <td>Mr</td>\n      <td>1</td>\n      <td>0</td>\n      <td>...</td>\n      <td>0</td>\n      <td>0</td>\n      <td>0</td>\n      <td>1</td>\n      <td>0</td>\n      <td>0</td>\n      <td>0</td>\n      <td>0</td>\n      <td>0</td>\n      <td>1</td>\n    </tr>\n    <tr>\n      <th>...</th>\n      <td>...</td>\n      <td>...</td>\n      <td>...</td>\n      <td>...</td>\n      <td>...</td>\n      <td>...</td>\n      <td>...</td>\n      <td>...</td>\n      <td>...</td>\n      <td>...</td>\n      <td>...</td>\n      <td>...</td>\n      <td>...</td>\n      <td>...</td>\n      <td>...</td>\n      <td>...</td>\n      <td>...</td>\n      <td>...</td>\n      <td>...</td>\n      <td>...</td>\n      <td>...</td>\n    </tr>\n    <tr>\n      <th>886</th>\n      <td>0</td>\n      <td>Montvila, Rev. Juozas</td>\n      <td>male</td>\n      <td>27.000000</td>\n      <td>13.0000</td>\n      <td>S</td>\n      <td>0</td>\n      <td>Mr</td>\n      <td>1</td>\n      <td>0</td>\n      <td>...</td>\n      <td>0</td>\n      <td>0</td>\n      <td>0</td>\n      <td>1</td>\n      <td>0</td>\n      <td>0</td>\n      <td>0</td>\n      <td>0</td>\n      <td>1</td>\n      <td>0</td>\n    </tr>\n    <tr>\n      <th>887</th>\n      <td>1</td>\n      <td>Graham, Miss. Margaret Edith</td>\n      <td>female</td>\n      <td>19.000000</td>\n      <td>30.0000</td>\n      <td>S</td>\n      <td>0</td>\n      <td>Miss</td>\n      <td>0</td>\n      <td>0</td>\n      <td>...</td>\n      <td>1</td>\n      <td>0</td>\n      <td>0</td>\n      <td>0</td>\n      <td>0</td>\n      <td>0</td>\n      <td>0</td>\n      <td>1</td>\n      <td>0</td>\n      <td>0</td>\n    </tr>\n    <tr>\n      <th>888</th>\n      <td>0</td>\n      <td>Johnston, Miss. Catherine Helen \"Carrie\"</td>\n      <td>female</td>\n      <td>23.315705</td>\n      <td>23.4500</td>\n      <td>S</td>\n      <td>3</td>\n      <td>Miss</td>\n      <td>0</td>\n      <td>0</td>\n      <td>...</td>\n      <td>0</td>\n      <td>0</td>\n      <td>0</td>\n      <td>0</td>\n      <td>1</td>\n      <td>0</td>\n      <td>0</td>\n      <td>0</td>\n      <td>0</td>\n      <td>1</td>\n    </tr>\n    <tr>\n      <th>889</th>\n      <td>1</td>\n      <td>Behr, Mr. Karl Howell</td>\n      <td>male</td>\n      <td>26.000000</td>\n      <td>30.0000</td>\n      <td>C</td>\n      <td>0</td>\n      <td>Mr</td>\n      <td>1</td>\n      <td>0</td>\n      <td>...</td>\n      <td>0</td>\n      <td>1</td>\n      <td>0</td>\n      <td>0</td>\n      <td>0</td>\n      <td>0</td>\n      <td>0</td>\n      <td>1</td>\n      <td>0</td>\n      <td>0</td>\n    </tr>\n    <tr>\n      <th>890</th>\n      <td>0</td>\n      <td>Dooley, Mr. Patrick</td>\n      <td>male</td>\n      <td>32.000000</td>\n      <td>7.7500</td>\n      <td>Q</td>\n      <td>0</td>\n      <td>Mr</td>\n      <td>1</td>\n      <td>0</td>\n      <td>...</td>\n      <td>0</td>\n      <td>0</td>\n      <td>0</td>\n      <td>0</td>\n      <td>1</td>\n      <td>0</td>\n      <td>0</td>\n      <td>0</td>\n      <td>0</td>\n      <td>1</td>\n    </tr>\n  </tbody>\n</table>\n<p>891 rows × 25 columns</p>\n</div>"
     },
     "metadata": {},
     "execution_count": 79
    }
   ],
   "source": [
    "train"
   ]
  },
  {
   "cell_type": "code",
   "execution_count": 80,
   "metadata": {},
   "outputs": [
    {
     "output_type": "execute_result",
     "data": {
      "text/plain": [
       "                                             Name     Sex        Age  \\\n",
       "0                                Kelly, Mr. James    male  34.500000   \n",
       "1                Wilkes, Mrs. James (Ellen Needs)  female  47.000000   \n",
       "2                       Myles, Mr. Thomas Francis    male  62.000000   \n",
       "3                                Wirz, Mr. Albert    male  27.000000   \n",
       "4    Hirvonen, Mrs. Alexander (Helga E Lindqvist)  female  22.000000   \n",
       "..                                            ...     ...        ...   \n",
       "413                            Spector, Mr. Woolf    male  33.214286   \n",
       "414                  Oliva y Ocana, Dona. Fermina  female  39.000000   \n",
       "415                  Saether, Mr. Simon Sivertsen    male  38.500000   \n",
       "416                           Ware, Mr. Frederick    male  22.538462   \n",
       "417                      Peter, Master. Michael J    male  22.538462   \n",
       "\n",
       "         Fare Embarked  Accompany_num   Title  isMr  isMrs  isMaster  ...  \\\n",
       "0      7.8292        Q              0      Mr     1      0         0  ...   \n",
       "1      7.0000        S              1     Mrs     0      1         0  ...   \n",
       "2      9.6875        Q              0      Mr     1      0         0  ...   \n",
       "3      8.6625        S              0      Mr     1      0         0  ...   \n",
       "4     12.2875        S              2     Mrs     0      1         0  ...   \n",
       "..        ...      ...            ...     ...   ...    ...       ...  ...   \n",
       "413    8.0500        S              0      Mr     1      0         0  ...   \n",
       "414  108.9000        C              0     Mrs     0      1         0  ...   \n",
       "415    7.2500        S              0      Mr     1      0         0  ...   \n",
       "416    8.0500        S              0      Mr     1      0         0  ...   \n",
       "417   22.3583        C              2  Master     0      0         1  ...   \n",
       "\n",
       "     Cabin_B  Cabin_C  Cabin_D  Cabin_E  Cabin_F  Cabin_G  Cabin_T  Pclass_1  \\\n",
       "0          0        0        0        0        1        0        0         0   \n",
       "1          0        0        0        0        1        0        0         0   \n",
       "2          0        0        0        0        1        0        0         0   \n",
       "3          0        0        0        0        1        0        0         0   \n",
       "4          0        0        0        0        0        1        0         0   \n",
       "..       ...      ...      ...      ...      ...      ...      ...       ...   \n",
       "413        0        0        0        0        1        0        0         0   \n",
       "414        0        1        0        0        0        0        0         1   \n",
       "415        0        0        0        0        1        0        0         0   \n",
       "416        0        0        0        0        1        0        0         0   \n",
       "417        0        0        0        0        1        0        0         0   \n",
       "\n",
       "     Pclass_2  Pclass_3  \n",
       "0           0         1  \n",
       "1           0         1  \n",
       "2           1         0  \n",
       "3           0         1  \n",
       "4           0         1  \n",
       "..        ...       ...  \n",
       "413         0         1  \n",
       "414         0         0  \n",
       "415         0         1  \n",
       "416         0         1  \n",
       "417         0         1  \n",
       "\n",
       "[418 rows x 24 columns]"
      ],
      "text/html": "<div>\n<style scoped>\n    .dataframe tbody tr th:only-of-type {\n        vertical-align: middle;\n    }\n\n    .dataframe tbody tr th {\n        vertical-align: top;\n    }\n\n    .dataframe thead th {\n        text-align: right;\n    }\n</style>\n<table border=\"1\" class=\"dataframe\">\n  <thead>\n    <tr style=\"text-align: right;\">\n      <th></th>\n      <th>Name</th>\n      <th>Sex</th>\n      <th>Age</th>\n      <th>Fare</th>\n      <th>Embarked</th>\n      <th>Accompany_num</th>\n      <th>Title</th>\n      <th>isMr</th>\n      <th>isMrs</th>\n      <th>isMaster</th>\n      <th>...</th>\n      <th>Cabin_B</th>\n      <th>Cabin_C</th>\n      <th>Cabin_D</th>\n      <th>Cabin_E</th>\n      <th>Cabin_F</th>\n      <th>Cabin_G</th>\n      <th>Cabin_T</th>\n      <th>Pclass_1</th>\n      <th>Pclass_2</th>\n      <th>Pclass_3</th>\n    </tr>\n  </thead>\n  <tbody>\n    <tr>\n      <th>0</th>\n      <td>Kelly, Mr. James</td>\n      <td>male</td>\n      <td>34.500000</td>\n      <td>7.8292</td>\n      <td>Q</td>\n      <td>0</td>\n      <td>Mr</td>\n      <td>1</td>\n      <td>0</td>\n      <td>0</td>\n      <td>...</td>\n      <td>0</td>\n      <td>0</td>\n      <td>0</td>\n      <td>0</td>\n      <td>1</td>\n      <td>0</td>\n      <td>0</td>\n      <td>0</td>\n      <td>0</td>\n      <td>1</td>\n    </tr>\n    <tr>\n      <th>1</th>\n      <td>Wilkes, Mrs. James (Ellen Needs)</td>\n      <td>female</td>\n      <td>47.000000</td>\n      <td>7.0000</td>\n      <td>S</td>\n      <td>1</td>\n      <td>Mrs</td>\n      <td>0</td>\n      <td>1</td>\n      <td>0</td>\n      <td>...</td>\n      <td>0</td>\n      <td>0</td>\n      <td>0</td>\n      <td>0</td>\n      <td>1</td>\n      <td>0</td>\n      <td>0</td>\n      <td>0</td>\n      <td>0</td>\n      <td>1</td>\n    </tr>\n    <tr>\n      <th>2</th>\n      <td>Myles, Mr. Thomas Francis</td>\n      <td>male</td>\n      <td>62.000000</td>\n      <td>9.6875</td>\n      <td>Q</td>\n      <td>0</td>\n      <td>Mr</td>\n      <td>1</td>\n      <td>0</td>\n      <td>0</td>\n      <td>...</td>\n      <td>0</td>\n      <td>0</td>\n      <td>0</td>\n      <td>0</td>\n      <td>1</td>\n      <td>0</td>\n      <td>0</td>\n      <td>0</td>\n      <td>1</td>\n      <td>0</td>\n    </tr>\n    <tr>\n      <th>3</th>\n      <td>Wirz, Mr. Albert</td>\n      <td>male</td>\n      <td>27.000000</td>\n      <td>8.6625</td>\n      <td>S</td>\n      <td>0</td>\n      <td>Mr</td>\n      <td>1</td>\n      <td>0</td>\n      <td>0</td>\n      <td>...</td>\n      <td>0</td>\n      <td>0</td>\n      <td>0</td>\n      <td>0</td>\n      <td>1</td>\n      <td>0</td>\n      <td>0</td>\n      <td>0</td>\n      <td>0</td>\n      <td>1</td>\n    </tr>\n    <tr>\n      <th>4</th>\n      <td>Hirvonen, Mrs. Alexander (Helga E Lindqvist)</td>\n      <td>female</td>\n      <td>22.000000</td>\n      <td>12.2875</td>\n      <td>S</td>\n      <td>2</td>\n      <td>Mrs</td>\n      <td>0</td>\n      <td>1</td>\n      <td>0</td>\n      <td>...</td>\n      <td>0</td>\n      <td>0</td>\n      <td>0</td>\n      <td>0</td>\n      <td>0</td>\n      <td>1</td>\n      <td>0</td>\n      <td>0</td>\n      <td>0</td>\n      <td>1</td>\n    </tr>\n    <tr>\n      <th>...</th>\n      <td>...</td>\n      <td>...</td>\n      <td>...</td>\n      <td>...</td>\n      <td>...</td>\n      <td>...</td>\n      <td>...</td>\n      <td>...</td>\n      <td>...</td>\n      <td>...</td>\n      <td>...</td>\n      <td>...</td>\n      <td>...</td>\n      <td>...</td>\n      <td>...</td>\n      <td>...</td>\n      <td>...</td>\n      <td>...</td>\n      <td>...</td>\n      <td>...</td>\n      <td>...</td>\n    </tr>\n    <tr>\n      <th>413</th>\n      <td>Spector, Mr. Woolf</td>\n      <td>male</td>\n      <td>33.214286</td>\n      <td>8.0500</td>\n      <td>S</td>\n      <td>0</td>\n      <td>Mr</td>\n      <td>1</td>\n      <td>0</td>\n      <td>0</td>\n      <td>...</td>\n      <td>0</td>\n      <td>0</td>\n      <td>0</td>\n      <td>0</td>\n      <td>1</td>\n      <td>0</td>\n      <td>0</td>\n      <td>0</td>\n      <td>0</td>\n      <td>1</td>\n    </tr>\n    <tr>\n      <th>414</th>\n      <td>Oliva y Ocana, Dona. Fermina</td>\n      <td>female</td>\n      <td>39.000000</td>\n      <td>108.9000</td>\n      <td>C</td>\n      <td>0</td>\n      <td>Mrs</td>\n      <td>0</td>\n      <td>1</td>\n      <td>0</td>\n      <td>...</td>\n      <td>0</td>\n      <td>1</td>\n      <td>0</td>\n      <td>0</td>\n      <td>0</td>\n      <td>0</td>\n      <td>0</td>\n      <td>1</td>\n      <td>0</td>\n      <td>0</td>\n    </tr>\n    <tr>\n      <th>415</th>\n      <td>Saether, Mr. Simon Sivertsen</td>\n      <td>male</td>\n      <td>38.500000</td>\n      <td>7.2500</td>\n      <td>S</td>\n      <td>0</td>\n      <td>Mr</td>\n      <td>1</td>\n      <td>0</td>\n      <td>0</td>\n      <td>...</td>\n      <td>0</td>\n      <td>0</td>\n      <td>0</td>\n      <td>0</td>\n      <td>1</td>\n      <td>0</td>\n      <td>0</td>\n      <td>0</td>\n      <td>0</td>\n      <td>1</td>\n    </tr>\n    <tr>\n      <th>416</th>\n      <td>Ware, Mr. Frederick</td>\n      <td>male</td>\n      <td>22.538462</td>\n      <td>8.0500</td>\n      <td>S</td>\n      <td>0</td>\n      <td>Mr</td>\n      <td>1</td>\n      <td>0</td>\n      <td>0</td>\n      <td>...</td>\n      <td>0</td>\n      <td>0</td>\n      <td>0</td>\n      <td>0</td>\n      <td>1</td>\n      <td>0</td>\n      <td>0</td>\n      <td>0</td>\n      <td>0</td>\n      <td>1</td>\n    </tr>\n    <tr>\n      <th>417</th>\n      <td>Peter, Master. Michael J</td>\n      <td>male</td>\n      <td>22.538462</td>\n      <td>22.3583</td>\n      <td>C</td>\n      <td>2</td>\n      <td>Master</td>\n      <td>0</td>\n      <td>0</td>\n      <td>1</td>\n      <td>...</td>\n      <td>0</td>\n      <td>0</td>\n      <td>0</td>\n      <td>0</td>\n      <td>1</td>\n      <td>0</td>\n      <td>0</td>\n      <td>0</td>\n      <td>0</td>\n      <td>1</td>\n    </tr>\n  </tbody>\n</table>\n<p>418 rows × 24 columns</p>\n</div>"
     },
     "metadata": {},
     "execution_count": 80
    }
   ],
   "source": [
    "test"
   ]
  },
  {
   "source": [
    "### 3-2-4. 요금 데이터\n",
    "<br>\n",
    "앞서 말했듯 요금 데이터를 퍼스트, 비즈니스, 이코노미로 분류하자. "
   ],
   "cell_type": "markdown",
   "metadata": {}
  },
  {
   "cell_type": "code",
   "execution_count": 81,
   "metadata": {},
   "outputs": [
    {
     "output_type": "error",
     "ename": "KeyError",
     "evalue": "\"['isFirst'] not found in axis\"",
     "traceback": [
      "\u001b[0;31m---------------------------------------------------------------------------\u001b[0m",
      "\u001b[0;31mKeyError\u001b[0m                                  Traceback (most recent call last)",
      "\u001b[0;32m<ipython-input-81-d528a8eaceb1>\u001b[0m in \u001b[0;36m<module>\u001b[0;34m\u001b[0m\n\u001b[0;32m----> 1\u001b[0;31m \u001b[0mtrain\u001b[0m\u001b[0;34m.\u001b[0m\u001b[0mdrop\u001b[0m\u001b[0;34m(\u001b[0m\u001b[0;34m'isFirst'\u001b[0m\u001b[0;34m,\u001b[0m \u001b[0maxis\u001b[0m\u001b[0;34m=\u001b[0m\u001b[0;36m1\u001b[0m\u001b[0;34m,\u001b[0m \u001b[0minplace\u001b[0m\u001b[0;34m=\u001b[0m\u001b[0;32mTrue\u001b[0m\u001b[0;34m)\u001b[0m\u001b[0;34m\u001b[0m\u001b[0;34m\u001b[0m\u001b[0m\n\u001b[0m\u001b[1;32m      2\u001b[0m \u001b[0mtest\u001b[0m\u001b[0;34m.\u001b[0m\u001b[0mdrop\u001b[0m\u001b[0;34m(\u001b[0m\u001b[0;34m'isFirst'\u001b[0m\u001b[0;34m,\u001b[0m \u001b[0maxis\u001b[0m\u001b[0;34m=\u001b[0m\u001b[0;36m1\u001b[0m\u001b[0;34m,\u001b[0m \u001b[0minplace\u001b[0m\u001b[0;34m=\u001b[0m\u001b[0;32mTrue\u001b[0m\u001b[0;34m)\u001b[0m\u001b[0;34m\u001b[0m\u001b[0;34m\u001b[0m\u001b[0m\n\u001b[1;32m      3\u001b[0m \u001b[0;34m\u001b[0m\u001b[0m\n\u001b[1;32m      4\u001b[0m \u001b[0mtrain\u001b[0m\u001b[0;34m.\u001b[0m\u001b[0mdrop\u001b[0m\u001b[0;34m(\u001b[0m\u001b[0;34m'isBusiness'\u001b[0m\u001b[0;34m,\u001b[0m \u001b[0maxis\u001b[0m\u001b[0;34m=\u001b[0m\u001b[0;36m1\u001b[0m\u001b[0;34m,\u001b[0m \u001b[0minplace\u001b[0m\u001b[0;34m=\u001b[0m\u001b[0;32mTrue\u001b[0m\u001b[0;34m)\u001b[0m\u001b[0;34m\u001b[0m\u001b[0;34m\u001b[0m\u001b[0m\n\u001b[1;32m      5\u001b[0m \u001b[0mtest\u001b[0m\u001b[0;34m.\u001b[0m\u001b[0mdrop\u001b[0m\u001b[0;34m(\u001b[0m\u001b[0;34m'isBusiness'\u001b[0m\u001b[0;34m,\u001b[0m \u001b[0maxis\u001b[0m\u001b[0;34m=\u001b[0m\u001b[0;36m1\u001b[0m\u001b[0;34m,\u001b[0m \u001b[0minplace\u001b[0m\u001b[0;34m=\u001b[0m\u001b[0;32mTrue\u001b[0m\u001b[0;34m)\u001b[0m\u001b[0;34m\u001b[0m\u001b[0;34m\u001b[0m\u001b[0m\n",
      "\u001b[0;32m~/opt/anaconda3/lib/python3.8/site-packages/pandas/core/frame.py\u001b[0m in \u001b[0;36mdrop\u001b[0;34m(self, labels, axis, index, columns, level, inplace, errors)\u001b[0m\n\u001b[1;32m   4303\u001b[0m                 \u001b[0mweight\u001b[0m  \u001b[0;36m1.0\u001b[0m     \u001b[0;36m0.8\u001b[0m\u001b[0;34m\u001b[0m\u001b[0;34m\u001b[0m\u001b[0m\n\u001b[1;32m   4304\u001b[0m         \"\"\"\n\u001b[0;32m-> 4305\u001b[0;31m         return super().drop(\n\u001b[0m\u001b[1;32m   4306\u001b[0m             \u001b[0mlabels\u001b[0m\u001b[0;34m=\u001b[0m\u001b[0mlabels\u001b[0m\u001b[0;34m,\u001b[0m\u001b[0;34m\u001b[0m\u001b[0;34m\u001b[0m\u001b[0m\n\u001b[1;32m   4307\u001b[0m             \u001b[0maxis\u001b[0m\u001b[0;34m=\u001b[0m\u001b[0maxis\u001b[0m\u001b[0;34m,\u001b[0m\u001b[0;34m\u001b[0m\u001b[0;34m\u001b[0m\u001b[0m\n",
      "\u001b[0;32m~/opt/anaconda3/lib/python3.8/site-packages/pandas/core/generic.py\u001b[0m in \u001b[0;36mdrop\u001b[0;34m(self, labels, axis, index, columns, level, inplace, errors)\u001b[0m\n\u001b[1;32m   4148\u001b[0m         \u001b[0;32mfor\u001b[0m \u001b[0maxis\u001b[0m\u001b[0;34m,\u001b[0m \u001b[0mlabels\u001b[0m \u001b[0;32min\u001b[0m \u001b[0maxes\u001b[0m\u001b[0;34m.\u001b[0m\u001b[0mitems\u001b[0m\u001b[0;34m(\u001b[0m\u001b[0;34m)\u001b[0m\u001b[0;34m:\u001b[0m\u001b[0;34m\u001b[0m\u001b[0;34m\u001b[0m\u001b[0m\n\u001b[1;32m   4149\u001b[0m             \u001b[0;32mif\u001b[0m \u001b[0mlabels\u001b[0m \u001b[0;32mis\u001b[0m \u001b[0;32mnot\u001b[0m \u001b[0;32mNone\u001b[0m\u001b[0;34m:\u001b[0m\u001b[0;34m\u001b[0m\u001b[0;34m\u001b[0m\u001b[0m\n\u001b[0;32m-> 4150\u001b[0;31m                 \u001b[0mobj\u001b[0m \u001b[0;34m=\u001b[0m \u001b[0mobj\u001b[0m\u001b[0;34m.\u001b[0m\u001b[0m_drop_axis\u001b[0m\u001b[0;34m(\u001b[0m\u001b[0mlabels\u001b[0m\u001b[0;34m,\u001b[0m \u001b[0maxis\u001b[0m\u001b[0;34m,\u001b[0m \u001b[0mlevel\u001b[0m\u001b[0;34m=\u001b[0m\u001b[0mlevel\u001b[0m\u001b[0;34m,\u001b[0m \u001b[0merrors\u001b[0m\u001b[0;34m=\u001b[0m\u001b[0merrors\u001b[0m\u001b[0;34m)\u001b[0m\u001b[0;34m\u001b[0m\u001b[0;34m\u001b[0m\u001b[0m\n\u001b[0m\u001b[1;32m   4151\u001b[0m \u001b[0;34m\u001b[0m\u001b[0m\n\u001b[1;32m   4152\u001b[0m         \u001b[0;32mif\u001b[0m \u001b[0minplace\u001b[0m\u001b[0;34m:\u001b[0m\u001b[0;34m\u001b[0m\u001b[0;34m\u001b[0m\u001b[0m\n",
      "\u001b[0;32m~/opt/anaconda3/lib/python3.8/site-packages/pandas/core/generic.py\u001b[0m in \u001b[0;36m_drop_axis\u001b[0;34m(self, labels, axis, level, errors)\u001b[0m\n\u001b[1;32m   4183\u001b[0m                 \u001b[0mnew_axis\u001b[0m \u001b[0;34m=\u001b[0m \u001b[0maxis\u001b[0m\u001b[0;34m.\u001b[0m\u001b[0mdrop\u001b[0m\u001b[0;34m(\u001b[0m\u001b[0mlabels\u001b[0m\u001b[0;34m,\u001b[0m \u001b[0mlevel\u001b[0m\u001b[0;34m=\u001b[0m\u001b[0mlevel\u001b[0m\u001b[0;34m,\u001b[0m \u001b[0merrors\u001b[0m\u001b[0;34m=\u001b[0m\u001b[0merrors\u001b[0m\u001b[0;34m)\u001b[0m\u001b[0;34m\u001b[0m\u001b[0;34m\u001b[0m\u001b[0m\n\u001b[1;32m   4184\u001b[0m             \u001b[0;32melse\u001b[0m\u001b[0;34m:\u001b[0m\u001b[0;34m\u001b[0m\u001b[0;34m\u001b[0m\u001b[0m\n\u001b[0;32m-> 4185\u001b[0;31m                 \u001b[0mnew_axis\u001b[0m \u001b[0;34m=\u001b[0m \u001b[0maxis\u001b[0m\u001b[0;34m.\u001b[0m\u001b[0mdrop\u001b[0m\u001b[0;34m(\u001b[0m\u001b[0mlabels\u001b[0m\u001b[0;34m,\u001b[0m \u001b[0merrors\u001b[0m\u001b[0;34m=\u001b[0m\u001b[0merrors\u001b[0m\u001b[0;34m)\u001b[0m\u001b[0;34m\u001b[0m\u001b[0;34m\u001b[0m\u001b[0m\n\u001b[0m\u001b[1;32m   4186\u001b[0m             \u001b[0mresult\u001b[0m \u001b[0;34m=\u001b[0m \u001b[0mself\u001b[0m\u001b[0;34m.\u001b[0m\u001b[0mreindex\u001b[0m\u001b[0;34m(\u001b[0m\u001b[0;34m**\u001b[0m\u001b[0;34m{\u001b[0m\u001b[0maxis_name\u001b[0m\u001b[0;34m:\u001b[0m \u001b[0mnew_axis\u001b[0m\u001b[0;34m}\u001b[0m\u001b[0;34m)\u001b[0m\u001b[0;34m\u001b[0m\u001b[0;34m\u001b[0m\u001b[0m\n\u001b[1;32m   4187\u001b[0m \u001b[0;34m\u001b[0m\u001b[0m\n",
      "\u001b[0;32m~/opt/anaconda3/lib/python3.8/site-packages/pandas/core/indexes/base.py\u001b[0m in \u001b[0;36mdrop\u001b[0;34m(self, labels, errors)\u001b[0m\n\u001b[1;32m   5589\u001b[0m         \u001b[0;32mif\u001b[0m \u001b[0mmask\u001b[0m\u001b[0;34m.\u001b[0m\u001b[0many\u001b[0m\u001b[0;34m(\u001b[0m\u001b[0;34m)\u001b[0m\u001b[0;34m:\u001b[0m\u001b[0;34m\u001b[0m\u001b[0;34m\u001b[0m\u001b[0m\n\u001b[1;32m   5590\u001b[0m             \u001b[0;32mif\u001b[0m \u001b[0merrors\u001b[0m \u001b[0;34m!=\u001b[0m \u001b[0;34m\"ignore\"\u001b[0m\u001b[0;34m:\u001b[0m\u001b[0;34m\u001b[0m\u001b[0;34m\u001b[0m\u001b[0m\n\u001b[0;32m-> 5591\u001b[0;31m                 \u001b[0;32mraise\u001b[0m \u001b[0mKeyError\u001b[0m\u001b[0;34m(\u001b[0m\u001b[0;34mf\"{labels[mask]} not found in axis\"\u001b[0m\u001b[0;34m)\u001b[0m\u001b[0;34m\u001b[0m\u001b[0;34m\u001b[0m\u001b[0m\n\u001b[0m\u001b[1;32m   5592\u001b[0m             \u001b[0mindexer\u001b[0m \u001b[0;34m=\u001b[0m \u001b[0mindexer\u001b[0m\u001b[0;34m[\u001b[0m\u001b[0;34m~\u001b[0m\u001b[0mmask\u001b[0m\u001b[0;34m]\u001b[0m\u001b[0;34m\u001b[0m\u001b[0;34m\u001b[0m\u001b[0m\n\u001b[1;32m   5593\u001b[0m         \u001b[0;32mreturn\u001b[0m \u001b[0mself\u001b[0m\u001b[0;34m.\u001b[0m\u001b[0mdelete\u001b[0m\u001b[0;34m(\u001b[0m\u001b[0mindexer\u001b[0m\u001b[0;34m)\u001b[0m\u001b[0;34m\u001b[0m\u001b[0;34m\u001b[0m\u001b[0m\n",
      "\u001b[0;31mKeyError\u001b[0m: \"['isFirst'] not found in axis\""
     ]
    }
   ],
   "source": [
    "train.drop('isFirst', axis=1, inplace=True)\n",
    "test.drop('isFirst', axis=1, inplace=True)\n",
    "\n",
    "train.drop('isBusiness', axis=1, inplace=True)\n",
    "test.drop('isBusiness', axis=1, inplace=True)\n",
    "\n",
    "train.drop('isEconomy', axis=1, inplace=True)\n",
    "test.drop('isEconomy', axis=1, inplace=True)"
   ]
  },
  {
   "cell_type": "code",
   "execution_count": 82,
   "metadata": {},
   "outputs": [],
   "source": [
    "# 객실 등급, 객실 종류, 출발 지점, 동행 숫자 에 따라 퍼스트, 비즈니스, 이코노미로 지정할거다.\n",
    "def preProcessing_FareData(data):\n",
    "\n",
    "    data['isFirst'] = 0\n",
    "    data['isBusiness'] = 0\n",
    "    data['isEconomy'] = 0\n",
    "\n",
    "    for i in range(len(data)):\n",
    "\n",
    "        # A객실\n",
    "        if data['Cabin_A'][i] == 1 : \n",
    "            if data['Embarked'][i] == 'Q' :\n",
    "                for j in range(0, 11) :\n",
    "                    if data['Accompany_num'][i] == j:\n",
    "                        if data['Pclass_1'][i] == 1 :\n",
    "                            data['isFirst'][i] = 1\n",
    "                        elif data['Pclass_2'][i] == 1 :\n",
    "                            data['isBusiness'][i] = 1\n",
    "                        elif data['Pclass_3'][i] == 1 :\n",
    "                            data['isEconomy'][i] = 1\n",
    "                        break\n",
    "            elif data['Embarked'][i] == 'S' :\n",
    "                for j in range(0, 11) :\n",
    "                    if data['Accompany_num'][i] == j:\n",
    "                        if data['Pclass_1'][i] == 1 :\n",
    "                            data['isFirst'][i] = 1\n",
    "                        elif data['Pclass_2'][i] == 1 :\n",
    "                            data['isBusiness'][i] = 1\n",
    "                        elif data['Pclass_3'][i] == 1 :\n",
    "                            data['isEconomy'][i] = 1\n",
    "                        break\n",
    "            elif data['Embarked'][i] == 'C' :\n",
    "                for j in range(0, 11) :\n",
    "                    if data['Accompany_num'][i] == j:\n",
    "                        if data['Pclass_1'][i] == 1 :\n",
    "                            data['isFirst'][i] = 1\n",
    "                        elif data['Pclass_2'][i] == 1 :\n",
    "                            data['isBusiness'][i] = 1\n",
    "                        elif data['Pclass_3'][i] == 1 :\n",
    "                            data['isEconomy'][i] = 1\n",
    "                        break\n",
    "\n",
    "        if data['Cabin_B'][i] == 1 : \n",
    "                if data['Embarked'][i] == 'Q' :\n",
    "                    for j in range(0, 11) :\n",
    "                        if data['Accompany_num'][i] == j:\n",
    "                            if data['Pclass_1'][i] == 1 :\n",
    "                                data['isFirst'][i] = 1\n",
    "                            elif data['Pclass_2'][i] == 1 :\n",
    "                                data['isBusiness'][i] = 1\n",
    "                            elif data['Pclass_3'][i] == 1 :\n",
    "                                data['isEconomy'][i] = 1\n",
    "                            break\n",
    "                elif data['Embarked'][i] == 'S' :\n",
    "                    for j in range(0, 11) :\n",
    "                        if data['Accompany_num'][i] == j:\n",
    "                            if data['Pclass_1'][i] == 1 :\n",
    "                                data['isFirst'][i] = 1\n",
    "                            elif data['Pclass_2'][i] == 1 :\n",
    "                                data['isBusiness'][i] = 1\n",
    "                            elif data['Pclass_3'][i] == 1 :\n",
    "                                data['isEconomy'][i] = 1\n",
    "                            break\n",
    "                elif data['Embarked'][i] == 'C' :\n",
    "                    for j in range(0, 11) :\n",
    "                        if data['Accompany_num'][i] == j:\n",
    "                            if data['Pclass_1'][i] == 1 :\n",
    "                                data['isFirst'][i] = 1\n",
    "                            elif data['Pclass_2'][i] == 1 :\n",
    "                                data['isBusiness'][i] = 1\n",
    "                            elif data['Pclass_3'][i] == 1 :\n",
    "                                data['isEconomy'][i] = 1\n",
    "                            break\n",
    "                \n",
    "        if data['Cabin_C'][i] == 1 : \n",
    "                if data['Embarked'][i] == 'Q' :\n",
    "                    for j in range(0, 11) :\n",
    "                        if data['Accompany_num'][i] == j:\n",
    "                            if data['Pclass_1'][i] == 1 :\n",
    "                                data['isFirst'][i] = 1\n",
    "                            elif data['Pclass_2'][i] == 1 :\n",
    "                                data['isBusiness'][i] = 1\n",
    "                            elif data['Pclass_3'][i] == 1 :\n",
    "                                data['isEconomy'][i] = 1\n",
    "                            break\n",
    "                elif data['Embarked'][i] == 'S' :\n",
    "                    for j in range(0, 11) :\n",
    "                        if data['Accompany_num'][i] == j:\n",
    "                            if data['Pclass_1'][i] == 1 :\n",
    "                                data['isFirst'][i] = 1\n",
    "                            elif data['Pclass_2'][i] == 1 :\n",
    "                                data['isBusiness'][i] = 1\n",
    "                            elif data['Pclass_3'][i] == 1 :\n",
    "                                data['isEconomy'][i] = 1\n",
    "                            break\n",
    "                elif data['Embarked'][i] == 'C' :\n",
    "                    for j in range(0, 11) :\n",
    "                        if data['Accompany_num'][i] == j:\n",
    "                            if data['Pclass_1'][i] == 1 :\n",
    "                                data['isFirst'][i] = 1\n",
    "                            elif data['Pclass_2'][i] == 1 :\n",
    "                                data['isBusiness'][i] = 1\n",
    "                            elif data['Pclass_3'][i] == 1 :\n",
    "                                data['isEconomy'][i] = 1\n",
    "                            break\n",
    "        \n",
    "        if data['Cabin_D'][i] == 1 : \n",
    "                if data['Embarked'][i] == 'Q' :\n",
    "                    for j in range(0, 11) :\n",
    "                        if data['Accompany_num'][i] == j:\n",
    "                            if data['Pclass_1'][i] == 1 :\n",
    "                                data['isFirst'][i] = 1\n",
    "                            elif data['Pclass_2'][i] == 1 :\n",
    "                                data['isBusiness'][i] = 1\n",
    "                            elif data['Pclass_3'][i] == 1 :\n",
    "                                data['isEconomy'][i] = 1\n",
    "                            break\n",
    "                elif data['Embarked'][i] == 'S' :\n",
    "                    for j in range(0, 11) :\n",
    "                        if data['Accompany_num'][i] == j:\n",
    "                            if data['Pclass_1'][i] == 1 :\n",
    "                                data['isFirst'][i] = 1\n",
    "                            elif data['Pclass_2'][i] == 1 :\n",
    "                                data['isBusiness'][i] = 1\n",
    "                            elif data['Pclass_3'][i] == 1 :\n",
    "                                data['isEconomy'][i] = 1\n",
    "                            break\n",
    "                elif data['Embarked'][i] == 'C' :\n",
    "                    for j in range(0, 11) :\n",
    "                        if data['Accompany_num'][i] == j:\n",
    "                            if data['Pclass_1'][i] == 1 :\n",
    "                                data['isFirst'][i] = 1\n",
    "                            elif data['Pclass_2'][i] == 1 :\n",
    "                                data['isBusiness'][i] = 1\n",
    "                            elif data['Pclass_3'][i] == 1 :\n",
    "                                data['isEconomy'][i] = 1\n",
    "                            break\n",
    "\n",
    "        if data['Cabin_E'][i] == 1 : \n",
    "                if data['Embarked'][i] == 'Q' :\n",
    "                    for j in range(0, 11) :\n",
    "                        if data['Accompany_num'][i] == j:\n",
    "                            if data['Pclass_1'][i] == 1 :\n",
    "                                data['isFirst'][i] = 1\n",
    "                            elif data['Pclass_2'][i] == 1 :\n",
    "                                data['isBusiness'][i] = 1\n",
    "                            elif data['Pclass_3'][i] == 1 :\n",
    "                                data['isEconomy'][i] = 1\n",
    "                            break\n",
    "                elif data['Embarked'][i] == 'S' :\n",
    "                    for j in range(0, 11) :\n",
    "                        if data['Accompany_num'][i] == j:\n",
    "                            if data['Pclass_1'][i] == 1 :\n",
    "                                data['isFirst'][i] = 1\n",
    "                            elif data['Pclass_2'][i] == 1 :\n",
    "                                data['isBusiness'][i] = 1\n",
    "                            elif data['Pclass_3'][i] == 1 :\n",
    "                                data['isEconomy'][i] = 1\n",
    "                            break\n",
    "                elif data['Embarked'][i] == 'C' :\n",
    "                    for j in range(0, 11) :\n",
    "                        if data['Accompany_num'][i] == j:\n",
    "                            if data['Pclass_1'][i] == 1 :\n",
    "                                data['isFirst'][i] = 1\n",
    "                            elif data['Pclass_2'][i] == 1 :\n",
    "                                data['isBusiness'][i] = 1\n",
    "                            elif data['Pclass_3'][i] == 1 :\n",
    "                                data['isEconomy'][i] = 1\n",
    "                            break\n",
    "\n",
    "        if data['Cabin_F'][i] == 1 : \n",
    "                if data['Embarked'][i] == 'Q' :\n",
    "                    for j in range(0, 11) :\n",
    "                        if data['Accompany_num'][i] == j:\n",
    "                            if data['Pclass_1'][i] == 1 :\n",
    "                                data['isFirst'][i] = 1\n",
    "                            elif data['Pclass_2'][i] == 1 :\n",
    "                                data['isBusiness'][i] = 1\n",
    "                            elif data['Pclass_3'][i] == 1 :\n",
    "                                data['isEconomy'][i] = 1\n",
    "                            break\n",
    "                elif data['Embarked'][i] == 'S' :\n",
    "                    for j in range(0, 11) :\n",
    "                        if data['Accompany_num'][i] == j:\n",
    "                            if data['Pclass_1'][i] == 1 :\n",
    "                                data['isFirst'][i] = 1\n",
    "                            elif data['Pclass_2'][i] == 1 :\n",
    "                                data['isBusiness'][i] = 1\n",
    "                            elif data['Pclass_3'][i] == 1 :\n",
    "                                data['isEconomy'][i] = 1\n",
    "                            break\n",
    "                elif data['Embarked'][i] == 'C' :\n",
    "                    for j in range(0, 11) :\n",
    "                        if data['Accompany_num'][i] == j:\n",
    "                            if data['Pclass_1'][i] == 1 :\n",
    "                                data['isFirst'][i] = 1\n",
    "                            elif data['Pclass_2'][i] == 1 :\n",
    "                                data['isBusiness'][i] = 1\n",
    "                            elif data['Pclass_3'][i] == 1 :\n",
    "                                data['isEconomy'][i] = 1\n",
    "                            break\n",
    "\n",
    "        if data['Cabin_G'][i] == 1 : \n",
    "                if data['Embarked'][i] == 'Q' :\n",
    "                    for j in range(0, 11) :\n",
    "                        if data['Accompany_num'][i] == j:\n",
    "                            if data['Pclass_1'][i] == 1 :\n",
    "                                data['isFirst'][i] = 1\n",
    "                            elif data['Pclass_2'][i] == 1 :\n",
    "                                data['isBusiness'][i] = 1\n",
    "                            elif data['Pclass_3'][i] == 1 :\n",
    "                                data['isEconomy'][i] = 1\n",
    "                            break\n",
    "                elif data['Embarked'][i] == 'S' :\n",
    "                    for j in range(0, 11) :\n",
    "                        if data['Accompany_num'][i] == j:\n",
    "                            if data['Pclass_1'][i] == 1 :\n",
    "                                data['isFirst'][i] = 1\n",
    "                            elif data['Pclass_2'][i] == 1 :\n",
    "                                data['isBusiness'][i] = 1\n",
    "                            elif data['Pclass_3'][i] == 1 :\n",
    "                                data['isEconomy'][i] = 1\n",
    "                            break\n",
    "                elif data['Embarked'][i] == 'C' :\n",
    "                    for j in range(0, 11) :\n",
    "                        if data['Accompany_num'][i] == j:\n",
    "                            if data['Pclass_1'][i] == 1 :\n",
    "                                data['isFirst'][i] = 1\n",
    "                            elif data['Pclass_2'][i] == 1 :\n",
    "                                data['isBusiness'][i] = 1\n",
    "                            elif data['Pclass_3'][i] == 1 :\n",
    "                                data['isEconomy'][i] = 1\n",
    "                            break\n",
    "\n",
    "        if data['Cabin_T'][i] == 1 : \n",
    "                if data['Embarked'][i] == 'Q' :\n",
    "                    for j in range(0, 11) :\n",
    "                        if data['Accompany_num'][i] == j:\n",
    "                            if data['Pclass_1'][i] == 1 :\n",
    "                                data['isFirst'][i] = 1\n",
    "                            elif data['Pclass_2'][i] == 1 :\n",
    "                                data['isBusiness'][i] = 1\n",
    "                            elif data['Pclass_3'][i] == 1 :\n",
    "                                data['isEconomy'][i] = 1\n",
    "                            break\n",
    "                elif data['Embarked'][i] == 'S' :\n",
    "                    for j in range(0, 11) :\n",
    "                        if data['Accompany_num'][i] == j:\n",
    "                            if data['Pclass_1'][i] == 1 :\n",
    "                                data['isFirst'][i] = 1\n",
    "                            elif data['Pclass_2'][i] == 1 :\n",
    "                                data['isBusiness'][i] = 1\n",
    "                            elif data['Pclass_3'][i] == 1 :\n",
    "                                data['isEconomy'][i] = 1\n",
    "                            break\n",
    "                elif data['Embarked'][i] == 'C' :\n",
    "                    for j in range(0, 11) :\n",
    "                        if data['Accompany_num'][i] == j:\n",
    "                            if data['Pclass_1'][i] == 1 :\n",
    "                                data['isFirst'][i] = 1\n",
    "                            elif data['Pclass_2'][i] == 1 :\n",
    "                                data['isBusiness'][i] = 1\n",
    "                            elif data['Pclass_3'][i] == 1 :\n",
    "                                data['isEconomy'][i] = 1\n",
    "                            break\n",
    "                 "
   ]
  },
  {
   "cell_type": "code",
   "execution_count": 83,
   "metadata": {},
   "outputs": [],
   "source": [
    "preProcessing_FareData(train)\n",
    "preProcessing_FareData(test)\n",
    "\n",
    "# 'Fare' 특성 드랍\n",
    "train.drop('Fare', axis=1, inplace=True)\n",
    "test.drop('Fare', axis=1, inplace=True)"
   ]
  },
  {
   "source": [
    "데이터를 확인해보자"
   ],
   "cell_type": "markdown",
   "metadata": {}
  },
  {
   "cell_type": "code",
   "execution_count": 84,
   "metadata": {},
   "outputs": [
    {
     "output_type": "execute_result",
     "data": {
      "text/plain": [
       "     Survived                                               Name     Sex  \\\n",
       "0           0                            Braund, Mr. Owen Harris    male   \n",
       "1           1  Cumings, Mrs. John Bradley (Florence Briggs Th...  female   \n",
       "2           1                             Heikkinen, Miss. Laina  female   \n",
       "3           1       Futrelle, Mrs. Jacques Heath (Lily May Peel)  female   \n",
       "4           0                           Allen, Mr. William Henry    male   \n",
       "..        ...                                                ...     ...   \n",
       "886         0                              Montvila, Rev. Juozas    male   \n",
       "887         1                       Graham, Miss. Margaret Edith  female   \n",
       "888         0           Johnston, Miss. Catherine Helen \"Carrie\"  female   \n",
       "889         1                              Behr, Mr. Karl Howell    male   \n",
       "890         0                                Dooley, Mr. Patrick    male   \n",
       "\n",
       "           Age Embarked  Accompany_num Title  isMr  isMrs  isMaster  ...  \\\n",
       "0    22.000000        S              1    Mr     1      0         0  ...   \n",
       "1    38.000000        C              1   Mrs     0      1         0  ...   \n",
       "2    26.000000        S              0  Miss     0      0         0  ...   \n",
       "3    35.000000        S              1   Mrs     0      1         0  ...   \n",
       "4    35.000000        S              0    Mr     1      0         0  ...   \n",
       "..         ...      ...            ...   ...   ...    ...       ...  ...   \n",
       "886  27.000000        S              0    Mr     1      0         0  ...   \n",
       "887  19.000000        S              0  Miss     0      0         0  ...   \n",
       "888  23.315705        S              3  Miss     0      0         0  ...   \n",
       "889  26.000000        C              0    Mr     1      0         0  ...   \n",
       "890  32.000000        Q              0    Mr     1      0         0  ...   \n",
       "\n",
       "     Cabin_E  Cabin_F  Cabin_G  Cabin_T  Pclass_1  Pclass_2  Pclass_3  \\\n",
       "0          0        0        1        0         0         0         1   \n",
       "1          0        0        0        0         1         0         0   \n",
       "2          1        0        0        0         0         0         1   \n",
       "3          0        0        0        0         1         0         0   \n",
       "4          1        0        0        0         0         0         1   \n",
       "..       ...      ...      ...      ...       ...       ...       ...   \n",
       "886        1        0        0        0         0         1         0   \n",
       "887        0        0        0        0         1         0         0   \n",
       "888        0        1        0        0         0         0         1   \n",
       "889        0        0        0        0         1         0         0   \n",
       "890        0        1        0        0         0         0         1   \n",
       "\n",
       "     isFirst  isBusiness  isEconomy  \n",
       "0          0           0          1  \n",
       "1          1           0          0  \n",
       "2          0           0          1  \n",
       "3          1           0          0  \n",
       "4          0           0          1  \n",
       "..       ...         ...        ...  \n",
       "886        0           1          0  \n",
       "887        1           0          0  \n",
       "888        0           0          1  \n",
       "889        1           0          0  \n",
       "890        0           0          1  \n",
       "\n",
       "[891 rows x 27 columns]"
      ],
      "text/html": "<div>\n<style scoped>\n    .dataframe tbody tr th:only-of-type {\n        vertical-align: middle;\n    }\n\n    .dataframe tbody tr th {\n        vertical-align: top;\n    }\n\n    .dataframe thead th {\n        text-align: right;\n    }\n</style>\n<table border=\"1\" class=\"dataframe\">\n  <thead>\n    <tr style=\"text-align: right;\">\n      <th></th>\n      <th>Survived</th>\n      <th>Name</th>\n      <th>Sex</th>\n      <th>Age</th>\n      <th>Embarked</th>\n      <th>Accompany_num</th>\n      <th>Title</th>\n      <th>isMr</th>\n      <th>isMrs</th>\n      <th>isMaster</th>\n      <th>...</th>\n      <th>Cabin_E</th>\n      <th>Cabin_F</th>\n      <th>Cabin_G</th>\n      <th>Cabin_T</th>\n      <th>Pclass_1</th>\n      <th>Pclass_2</th>\n      <th>Pclass_3</th>\n      <th>isFirst</th>\n      <th>isBusiness</th>\n      <th>isEconomy</th>\n    </tr>\n  </thead>\n  <tbody>\n    <tr>\n      <th>0</th>\n      <td>0</td>\n      <td>Braund, Mr. Owen Harris</td>\n      <td>male</td>\n      <td>22.000000</td>\n      <td>S</td>\n      <td>1</td>\n      <td>Mr</td>\n      <td>1</td>\n      <td>0</td>\n      <td>0</td>\n      <td>...</td>\n      <td>0</td>\n      <td>0</td>\n      <td>1</td>\n      <td>0</td>\n      <td>0</td>\n      <td>0</td>\n      <td>1</td>\n      <td>0</td>\n      <td>0</td>\n      <td>1</td>\n    </tr>\n    <tr>\n      <th>1</th>\n      <td>1</td>\n      <td>Cumings, Mrs. John Bradley (Florence Briggs Th...</td>\n      <td>female</td>\n      <td>38.000000</td>\n      <td>C</td>\n      <td>1</td>\n      <td>Mrs</td>\n      <td>0</td>\n      <td>1</td>\n      <td>0</td>\n      <td>...</td>\n      <td>0</td>\n      <td>0</td>\n      <td>0</td>\n      <td>0</td>\n      <td>1</td>\n      <td>0</td>\n      <td>0</td>\n      <td>1</td>\n      <td>0</td>\n      <td>0</td>\n    </tr>\n    <tr>\n      <th>2</th>\n      <td>1</td>\n      <td>Heikkinen, Miss. Laina</td>\n      <td>female</td>\n      <td>26.000000</td>\n      <td>S</td>\n      <td>0</td>\n      <td>Miss</td>\n      <td>0</td>\n      <td>0</td>\n      <td>0</td>\n      <td>...</td>\n      <td>1</td>\n      <td>0</td>\n      <td>0</td>\n      <td>0</td>\n      <td>0</td>\n      <td>0</td>\n      <td>1</td>\n      <td>0</td>\n      <td>0</td>\n      <td>1</td>\n    </tr>\n    <tr>\n      <th>3</th>\n      <td>1</td>\n      <td>Futrelle, Mrs. Jacques Heath (Lily May Peel)</td>\n      <td>female</td>\n      <td>35.000000</td>\n      <td>S</td>\n      <td>1</td>\n      <td>Mrs</td>\n      <td>0</td>\n      <td>1</td>\n      <td>0</td>\n      <td>...</td>\n      <td>0</td>\n      <td>0</td>\n      <td>0</td>\n      <td>0</td>\n      <td>1</td>\n      <td>0</td>\n      <td>0</td>\n      <td>1</td>\n      <td>0</td>\n      <td>0</td>\n    </tr>\n    <tr>\n      <th>4</th>\n      <td>0</td>\n      <td>Allen, Mr. William Henry</td>\n      <td>male</td>\n      <td>35.000000</td>\n      <td>S</td>\n      <td>0</td>\n      <td>Mr</td>\n      <td>1</td>\n      <td>0</td>\n      <td>0</td>\n      <td>...</td>\n      <td>1</td>\n      <td>0</td>\n      <td>0</td>\n      <td>0</td>\n      <td>0</td>\n      <td>0</td>\n      <td>1</td>\n      <td>0</td>\n      <td>0</td>\n      <td>1</td>\n    </tr>\n    <tr>\n      <th>...</th>\n      <td>...</td>\n      <td>...</td>\n      <td>...</td>\n      <td>...</td>\n      <td>...</td>\n      <td>...</td>\n      <td>...</td>\n      <td>...</td>\n      <td>...</td>\n      <td>...</td>\n      <td>...</td>\n      <td>...</td>\n      <td>...</td>\n      <td>...</td>\n      <td>...</td>\n      <td>...</td>\n      <td>...</td>\n      <td>...</td>\n      <td>...</td>\n      <td>...</td>\n      <td>...</td>\n    </tr>\n    <tr>\n      <th>886</th>\n      <td>0</td>\n      <td>Montvila, Rev. Juozas</td>\n      <td>male</td>\n      <td>27.000000</td>\n      <td>S</td>\n      <td>0</td>\n      <td>Mr</td>\n      <td>1</td>\n      <td>0</td>\n      <td>0</td>\n      <td>...</td>\n      <td>1</td>\n      <td>0</td>\n      <td>0</td>\n      <td>0</td>\n      <td>0</td>\n      <td>1</td>\n      <td>0</td>\n      <td>0</td>\n      <td>1</td>\n      <td>0</td>\n    </tr>\n    <tr>\n      <th>887</th>\n      <td>1</td>\n      <td>Graham, Miss. Margaret Edith</td>\n      <td>female</td>\n      <td>19.000000</td>\n      <td>S</td>\n      <td>0</td>\n      <td>Miss</td>\n      <td>0</td>\n      <td>0</td>\n      <td>0</td>\n      <td>...</td>\n      <td>0</td>\n      <td>0</td>\n      <td>0</td>\n      <td>0</td>\n      <td>1</td>\n      <td>0</td>\n      <td>0</td>\n      <td>1</td>\n      <td>0</td>\n      <td>0</td>\n    </tr>\n    <tr>\n      <th>888</th>\n      <td>0</td>\n      <td>Johnston, Miss. Catherine Helen \"Carrie\"</td>\n      <td>female</td>\n      <td>23.315705</td>\n      <td>S</td>\n      <td>3</td>\n      <td>Miss</td>\n      <td>0</td>\n      <td>0</td>\n      <td>0</td>\n      <td>...</td>\n      <td>0</td>\n      <td>1</td>\n      <td>0</td>\n      <td>0</td>\n      <td>0</td>\n      <td>0</td>\n      <td>1</td>\n      <td>0</td>\n      <td>0</td>\n      <td>1</td>\n    </tr>\n    <tr>\n      <th>889</th>\n      <td>1</td>\n      <td>Behr, Mr. Karl Howell</td>\n      <td>male</td>\n      <td>26.000000</td>\n      <td>C</td>\n      <td>0</td>\n      <td>Mr</td>\n      <td>1</td>\n      <td>0</td>\n      <td>0</td>\n      <td>...</td>\n      <td>0</td>\n      <td>0</td>\n      <td>0</td>\n      <td>0</td>\n      <td>1</td>\n      <td>0</td>\n      <td>0</td>\n      <td>1</td>\n      <td>0</td>\n      <td>0</td>\n    </tr>\n    <tr>\n      <th>890</th>\n      <td>0</td>\n      <td>Dooley, Mr. Patrick</td>\n      <td>male</td>\n      <td>32.000000</td>\n      <td>Q</td>\n      <td>0</td>\n      <td>Mr</td>\n      <td>1</td>\n      <td>0</td>\n      <td>0</td>\n      <td>...</td>\n      <td>0</td>\n      <td>1</td>\n      <td>0</td>\n      <td>0</td>\n      <td>0</td>\n      <td>0</td>\n      <td>1</td>\n      <td>0</td>\n      <td>0</td>\n      <td>1</td>\n    </tr>\n  </tbody>\n</table>\n<p>891 rows × 27 columns</p>\n</div>"
     },
     "metadata": {},
     "execution_count": 84
    }
   ],
   "source": [
    "train"
   ]
  },
  {
   "cell_type": "code",
   "execution_count": 85,
   "metadata": {},
   "outputs": [
    {
     "output_type": "execute_result",
     "data": {
      "text/plain": [
       "                                             Name     Sex        Age Embarked  \\\n",
       "0                                Kelly, Mr. James    male  34.500000        Q   \n",
       "1                Wilkes, Mrs. James (Ellen Needs)  female  47.000000        S   \n",
       "2                       Myles, Mr. Thomas Francis    male  62.000000        Q   \n",
       "3                                Wirz, Mr. Albert    male  27.000000        S   \n",
       "4    Hirvonen, Mrs. Alexander (Helga E Lindqvist)  female  22.000000        S   \n",
       "..                                            ...     ...        ...      ...   \n",
       "413                            Spector, Mr. Woolf    male  33.214286        S   \n",
       "414                  Oliva y Ocana, Dona. Fermina  female  39.000000        C   \n",
       "415                  Saether, Mr. Simon Sivertsen    male  38.500000        S   \n",
       "416                           Ware, Mr. Frederick    male  22.538462        S   \n",
       "417                      Peter, Master. Michael J    male  22.538462        C   \n",
       "\n",
       "     Accompany_num   Title  isMr  isMrs  isMaster  isMiss  ...  Cabin_E  \\\n",
       "0                0      Mr     1      0         0       0  ...        0   \n",
       "1                1     Mrs     0      1         0       0  ...        0   \n",
       "2                0      Mr     1      0         0       0  ...        0   \n",
       "3                0      Mr     1      0         0       0  ...        0   \n",
       "4                2     Mrs     0      1         0       0  ...        0   \n",
       "..             ...     ...   ...    ...       ...     ...  ...      ...   \n",
       "413              0      Mr     1      0         0       0  ...        0   \n",
       "414              0     Mrs     0      1         0       0  ...        0   \n",
       "415              0      Mr     1      0         0       0  ...        0   \n",
       "416              0      Mr     1      0         0       0  ...        0   \n",
       "417              2  Master     0      0         1       0  ...        0   \n",
       "\n",
       "     Cabin_F  Cabin_G  Cabin_T  Pclass_1  Pclass_2  Pclass_3  isFirst  \\\n",
       "0          1        0        0         0         0         1        0   \n",
       "1          1        0        0         0         0         1        0   \n",
       "2          1        0        0         0         1         0        0   \n",
       "3          1        0        0         0         0         1        0   \n",
       "4          0        1        0         0         0         1        0   \n",
       "..       ...      ...      ...       ...       ...       ...      ...   \n",
       "413        1        0        0         0         0         1        0   \n",
       "414        0        0        0         1         0         0        1   \n",
       "415        1        0        0         0         0         1        0   \n",
       "416        1        0        0         0         0         1        0   \n",
       "417        1        0        0         0         0         1        0   \n",
       "\n",
       "     isBusiness  isEconomy  \n",
       "0             0          1  \n",
       "1             0          1  \n",
       "2             1          0  \n",
       "3             0          1  \n",
       "4             0          1  \n",
       "..          ...        ...  \n",
       "413           0          1  \n",
       "414           0          0  \n",
       "415           0          1  \n",
       "416           0          1  \n",
       "417           0          1  \n",
       "\n",
       "[418 rows x 26 columns]"
      ],
      "text/html": "<div>\n<style scoped>\n    .dataframe tbody tr th:only-of-type {\n        vertical-align: middle;\n    }\n\n    .dataframe tbody tr th {\n        vertical-align: top;\n    }\n\n    .dataframe thead th {\n        text-align: right;\n    }\n</style>\n<table border=\"1\" class=\"dataframe\">\n  <thead>\n    <tr style=\"text-align: right;\">\n      <th></th>\n      <th>Name</th>\n      <th>Sex</th>\n      <th>Age</th>\n      <th>Embarked</th>\n      <th>Accompany_num</th>\n      <th>Title</th>\n      <th>isMr</th>\n      <th>isMrs</th>\n      <th>isMaster</th>\n      <th>isMiss</th>\n      <th>...</th>\n      <th>Cabin_E</th>\n      <th>Cabin_F</th>\n      <th>Cabin_G</th>\n      <th>Cabin_T</th>\n      <th>Pclass_1</th>\n      <th>Pclass_2</th>\n      <th>Pclass_3</th>\n      <th>isFirst</th>\n      <th>isBusiness</th>\n      <th>isEconomy</th>\n    </tr>\n  </thead>\n  <tbody>\n    <tr>\n      <th>0</th>\n      <td>Kelly, Mr. James</td>\n      <td>male</td>\n      <td>34.500000</td>\n      <td>Q</td>\n      <td>0</td>\n      <td>Mr</td>\n      <td>1</td>\n      <td>0</td>\n      <td>0</td>\n      <td>0</td>\n      <td>...</td>\n      <td>0</td>\n      <td>1</td>\n      <td>0</td>\n      <td>0</td>\n      <td>0</td>\n      <td>0</td>\n      <td>1</td>\n      <td>0</td>\n      <td>0</td>\n      <td>1</td>\n    </tr>\n    <tr>\n      <th>1</th>\n      <td>Wilkes, Mrs. James (Ellen Needs)</td>\n      <td>female</td>\n      <td>47.000000</td>\n      <td>S</td>\n      <td>1</td>\n      <td>Mrs</td>\n      <td>0</td>\n      <td>1</td>\n      <td>0</td>\n      <td>0</td>\n      <td>...</td>\n      <td>0</td>\n      <td>1</td>\n      <td>0</td>\n      <td>0</td>\n      <td>0</td>\n      <td>0</td>\n      <td>1</td>\n      <td>0</td>\n      <td>0</td>\n      <td>1</td>\n    </tr>\n    <tr>\n      <th>2</th>\n      <td>Myles, Mr. Thomas Francis</td>\n      <td>male</td>\n      <td>62.000000</td>\n      <td>Q</td>\n      <td>0</td>\n      <td>Mr</td>\n      <td>1</td>\n      <td>0</td>\n      <td>0</td>\n      <td>0</td>\n      <td>...</td>\n      <td>0</td>\n      <td>1</td>\n      <td>0</td>\n      <td>0</td>\n      <td>0</td>\n      <td>1</td>\n      <td>0</td>\n      <td>0</td>\n      <td>1</td>\n      <td>0</td>\n    </tr>\n    <tr>\n      <th>3</th>\n      <td>Wirz, Mr. Albert</td>\n      <td>male</td>\n      <td>27.000000</td>\n      <td>S</td>\n      <td>0</td>\n      <td>Mr</td>\n      <td>1</td>\n      <td>0</td>\n      <td>0</td>\n      <td>0</td>\n      <td>...</td>\n      <td>0</td>\n      <td>1</td>\n      <td>0</td>\n      <td>0</td>\n      <td>0</td>\n      <td>0</td>\n      <td>1</td>\n      <td>0</td>\n      <td>0</td>\n      <td>1</td>\n    </tr>\n    <tr>\n      <th>4</th>\n      <td>Hirvonen, Mrs. Alexander (Helga E Lindqvist)</td>\n      <td>female</td>\n      <td>22.000000</td>\n      <td>S</td>\n      <td>2</td>\n      <td>Mrs</td>\n      <td>0</td>\n      <td>1</td>\n      <td>0</td>\n      <td>0</td>\n      <td>...</td>\n      <td>0</td>\n      <td>0</td>\n      <td>1</td>\n      <td>0</td>\n      <td>0</td>\n      <td>0</td>\n      <td>1</td>\n      <td>0</td>\n      <td>0</td>\n      <td>1</td>\n    </tr>\n    <tr>\n      <th>...</th>\n      <td>...</td>\n      <td>...</td>\n      <td>...</td>\n      <td>...</td>\n      <td>...</td>\n      <td>...</td>\n      <td>...</td>\n      <td>...</td>\n      <td>...</td>\n      <td>...</td>\n      <td>...</td>\n      <td>...</td>\n      <td>...</td>\n      <td>...</td>\n      <td>...</td>\n      <td>...</td>\n      <td>...</td>\n      <td>...</td>\n      <td>...</td>\n      <td>...</td>\n      <td>...</td>\n    </tr>\n    <tr>\n      <th>413</th>\n      <td>Spector, Mr. Woolf</td>\n      <td>male</td>\n      <td>33.214286</td>\n      <td>S</td>\n      <td>0</td>\n      <td>Mr</td>\n      <td>1</td>\n      <td>0</td>\n      <td>0</td>\n      <td>0</td>\n      <td>...</td>\n      <td>0</td>\n      <td>1</td>\n      <td>0</td>\n      <td>0</td>\n      <td>0</td>\n      <td>0</td>\n      <td>1</td>\n      <td>0</td>\n      <td>0</td>\n      <td>1</td>\n    </tr>\n    <tr>\n      <th>414</th>\n      <td>Oliva y Ocana, Dona. Fermina</td>\n      <td>female</td>\n      <td>39.000000</td>\n      <td>C</td>\n      <td>0</td>\n      <td>Mrs</td>\n      <td>0</td>\n      <td>1</td>\n      <td>0</td>\n      <td>0</td>\n      <td>...</td>\n      <td>0</td>\n      <td>0</td>\n      <td>0</td>\n      <td>0</td>\n      <td>1</td>\n      <td>0</td>\n      <td>0</td>\n      <td>1</td>\n      <td>0</td>\n      <td>0</td>\n    </tr>\n    <tr>\n      <th>415</th>\n      <td>Saether, Mr. Simon Sivertsen</td>\n      <td>male</td>\n      <td>38.500000</td>\n      <td>S</td>\n      <td>0</td>\n      <td>Mr</td>\n      <td>1</td>\n      <td>0</td>\n      <td>0</td>\n      <td>0</td>\n      <td>...</td>\n      <td>0</td>\n      <td>1</td>\n      <td>0</td>\n      <td>0</td>\n      <td>0</td>\n      <td>0</td>\n      <td>1</td>\n      <td>0</td>\n      <td>0</td>\n      <td>1</td>\n    </tr>\n    <tr>\n      <th>416</th>\n      <td>Ware, Mr. Frederick</td>\n      <td>male</td>\n      <td>22.538462</td>\n      <td>S</td>\n      <td>0</td>\n      <td>Mr</td>\n      <td>1</td>\n      <td>0</td>\n      <td>0</td>\n      <td>0</td>\n      <td>...</td>\n      <td>0</td>\n      <td>1</td>\n      <td>0</td>\n      <td>0</td>\n      <td>0</td>\n      <td>0</td>\n      <td>1</td>\n      <td>0</td>\n      <td>0</td>\n      <td>1</td>\n    </tr>\n    <tr>\n      <th>417</th>\n      <td>Peter, Master. Michael J</td>\n      <td>male</td>\n      <td>22.538462</td>\n      <td>C</td>\n      <td>2</td>\n      <td>Master</td>\n      <td>0</td>\n      <td>0</td>\n      <td>1</td>\n      <td>0</td>\n      <td>...</td>\n      <td>0</td>\n      <td>1</td>\n      <td>0</td>\n      <td>0</td>\n      <td>0</td>\n      <td>0</td>\n      <td>1</td>\n      <td>0</td>\n      <td>0</td>\n      <td>1</td>\n    </tr>\n  </tbody>\n</table>\n<p>418 rows × 26 columns</p>\n</div>"
     },
     "metadata": {},
     "execution_count": 85
    }
   ],
   "source": [
    "test"
   ]
  },
  {
   "source": [
    "### 3-2-5. 나이 데이터\n",
    "<br>\n",
    "마지막으로 나이 데이터를 가공하자. 나이 데이터는 요금 데이터와 같이 미성년(0~17), 청년(18~38), 중년(39~60), 노년(61~)으로 구분할거다"
   ],
   "cell_type": "markdown",
   "metadata": {}
  },
  {
   "cell_type": "code",
   "execution_count": 86,
   "metadata": {},
   "outputs": [],
   "source": [
    "train['isYoung'] = 0 # 미성년 \n",
    "train['isyouth'] = 0 # 청년\n",
    "train['isMiddleAge'] = 0 # 중년\n",
    "train['isOldAge'] = 0 # 노년\n",
    "\n",
    "\n",
    "for i in range(0, len(train)):\n",
    "    if train['Age'][i] < 17:\n",
    "        train['isYoung'][i] = 1\n",
    "    elif train['Age'][i] >= 18 and train['Age'][i] < 39 :\n",
    "        train['isyouth'][i] = 1\n",
    "    elif train['Age'][i] >= 39 and train['Age'][i] < 61:\n",
    "        train['isMiddleAge'][i] = 1\n",
    "    elif train['Age'][i] >= 61:\n",
    "        train['isOldAge'][i] = 1\n",
    "\n",
    "test['isYoung'] = 0 # 미성년 \n",
    "test['isyouth'] = 0 # 청년\n",
    "test['isMiddleAge'] = 0 # 중년\n",
    "test['isOldAge'] = 0 # 노년\n",
    "\n",
    "\n",
    "for i in range(0, len(test)):\n",
    "    if test['Age'][i] < 17:\n",
    "        test['isYoung'][i] = 1\n",
    "    elif test['Age'][i] >= 18 and test['Age'][i] < 39 :\n",
    "        test['isyouth'][i] = 1\n",
    "    elif test['Age'][i] >= 39 and test['Age'][i] < 61:\n",
    "        test['isMiddleAge'][i] = 1\n",
    "    elif test['Age'][i] >= 61:\n",
    "        test['isOldAge'][i] = 1\n",
    "\n",
    "# 'Age' 특성 드랍\n",
    "train.drop('Age', axis=1, inplace=True)\n",
    "test.drop('Age', axis=1, inplace=True)"
   ]
  },
  {
   "source": [
    "데이터를 확인해보자"
   ],
   "cell_type": "markdown",
   "metadata": {}
  },
  {
   "cell_type": "code",
   "execution_count": 87,
   "metadata": {},
   "outputs": [
    {
     "output_type": "execute_result",
     "data": {
      "text/plain": [
       "     Survived                                               Name     Sex  \\\n",
       "0           0                            Braund, Mr. Owen Harris    male   \n",
       "1           1  Cumings, Mrs. John Bradley (Florence Briggs Th...  female   \n",
       "2           1                             Heikkinen, Miss. Laina  female   \n",
       "3           1       Futrelle, Mrs. Jacques Heath (Lily May Peel)  female   \n",
       "4           0                           Allen, Mr. William Henry    male   \n",
       "..        ...                                                ...     ...   \n",
       "886         0                              Montvila, Rev. Juozas    male   \n",
       "887         1                       Graham, Miss. Margaret Edith  female   \n",
       "888         0           Johnston, Miss. Catherine Helen \"Carrie\"  female   \n",
       "889         1                              Behr, Mr. Karl Howell    male   \n",
       "890         0                                Dooley, Mr. Patrick    male   \n",
       "\n",
       "    Embarked  Accompany_num Title  isMr  isMrs  isMaster  isMiss  ...  \\\n",
       "0          S              1    Mr     1      0         0       0  ...   \n",
       "1          C              1   Mrs     0      1         0       0  ...   \n",
       "2          S              0  Miss     0      0         0       1  ...   \n",
       "3          S              1   Mrs     0      1         0       0  ...   \n",
       "4          S              0    Mr     1      0         0       0  ...   \n",
       "..       ...            ...   ...   ...    ...       ...     ...  ...   \n",
       "886        S              0    Mr     1      0         0       0  ...   \n",
       "887        S              0  Miss     0      0         0       1  ...   \n",
       "888        S              3  Miss     0      0         0       1  ...   \n",
       "889        C              0    Mr     1      0         0       0  ...   \n",
       "890        Q              0    Mr     1      0         0       0  ...   \n",
       "\n",
       "     Pclass_1  Pclass_2  Pclass_3  isFirst  isBusiness  isEconomy  isYoung  \\\n",
       "0           0         0         1        0           0          1        0   \n",
       "1           1         0         0        1           0          0        0   \n",
       "2           0         0         1        0           0          1        0   \n",
       "3           1         0         0        1           0          0        0   \n",
       "4           0         0         1        0           0          1        0   \n",
       "..        ...       ...       ...      ...         ...        ...      ...   \n",
       "886         0         1         0        0           1          0        0   \n",
       "887         1         0         0        1           0          0        0   \n",
       "888         0         0         1        0           0          1        0   \n",
       "889         1         0         0        1           0          0        0   \n",
       "890         0         0         1        0           0          1        0   \n",
       "\n",
       "     isyouth  isMiddleAge  isOldAge  \n",
       "0          1            0         0  \n",
       "1          1            0         0  \n",
       "2          1            0         0  \n",
       "3          1            0         0  \n",
       "4          1            0         0  \n",
       "..       ...          ...       ...  \n",
       "886        1            0         0  \n",
       "887        1            0         0  \n",
       "888        1            0         0  \n",
       "889        1            0         0  \n",
       "890        1            0         0  \n",
       "\n",
       "[891 rows x 30 columns]"
      ],
      "text/html": "<div>\n<style scoped>\n    .dataframe tbody tr th:only-of-type {\n        vertical-align: middle;\n    }\n\n    .dataframe tbody tr th {\n        vertical-align: top;\n    }\n\n    .dataframe thead th {\n        text-align: right;\n    }\n</style>\n<table border=\"1\" class=\"dataframe\">\n  <thead>\n    <tr style=\"text-align: right;\">\n      <th></th>\n      <th>Survived</th>\n      <th>Name</th>\n      <th>Sex</th>\n      <th>Embarked</th>\n      <th>Accompany_num</th>\n      <th>Title</th>\n      <th>isMr</th>\n      <th>isMrs</th>\n      <th>isMaster</th>\n      <th>isMiss</th>\n      <th>...</th>\n      <th>Pclass_1</th>\n      <th>Pclass_2</th>\n      <th>Pclass_3</th>\n      <th>isFirst</th>\n      <th>isBusiness</th>\n      <th>isEconomy</th>\n      <th>isYoung</th>\n      <th>isyouth</th>\n      <th>isMiddleAge</th>\n      <th>isOldAge</th>\n    </tr>\n  </thead>\n  <tbody>\n    <tr>\n      <th>0</th>\n      <td>0</td>\n      <td>Braund, Mr. Owen Harris</td>\n      <td>male</td>\n      <td>S</td>\n      <td>1</td>\n      <td>Mr</td>\n      <td>1</td>\n      <td>0</td>\n      <td>0</td>\n      <td>0</td>\n      <td>...</td>\n      <td>0</td>\n      <td>0</td>\n      <td>1</td>\n      <td>0</td>\n      <td>0</td>\n      <td>1</td>\n      <td>0</td>\n      <td>1</td>\n      <td>0</td>\n      <td>0</td>\n    </tr>\n    <tr>\n      <th>1</th>\n      <td>1</td>\n      <td>Cumings, Mrs. John Bradley (Florence Briggs Th...</td>\n      <td>female</td>\n      <td>C</td>\n      <td>1</td>\n      <td>Mrs</td>\n      <td>0</td>\n      <td>1</td>\n      <td>0</td>\n      <td>0</td>\n      <td>...</td>\n      <td>1</td>\n      <td>0</td>\n      <td>0</td>\n      <td>1</td>\n      <td>0</td>\n      <td>0</td>\n      <td>0</td>\n      <td>1</td>\n      <td>0</td>\n      <td>0</td>\n    </tr>\n    <tr>\n      <th>2</th>\n      <td>1</td>\n      <td>Heikkinen, Miss. Laina</td>\n      <td>female</td>\n      <td>S</td>\n      <td>0</td>\n      <td>Miss</td>\n      <td>0</td>\n      <td>0</td>\n      <td>0</td>\n      <td>1</td>\n      <td>...</td>\n      <td>0</td>\n      <td>0</td>\n      <td>1</td>\n      <td>0</td>\n      <td>0</td>\n      <td>1</td>\n      <td>0</td>\n      <td>1</td>\n      <td>0</td>\n      <td>0</td>\n    </tr>\n    <tr>\n      <th>3</th>\n      <td>1</td>\n      <td>Futrelle, Mrs. Jacques Heath (Lily May Peel)</td>\n      <td>female</td>\n      <td>S</td>\n      <td>1</td>\n      <td>Mrs</td>\n      <td>0</td>\n      <td>1</td>\n      <td>0</td>\n      <td>0</td>\n      <td>...</td>\n      <td>1</td>\n      <td>0</td>\n      <td>0</td>\n      <td>1</td>\n      <td>0</td>\n      <td>0</td>\n      <td>0</td>\n      <td>1</td>\n      <td>0</td>\n      <td>0</td>\n    </tr>\n    <tr>\n      <th>4</th>\n      <td>0</td>\n      <td>Allen, Mr. William Henry</td>\n      <td>male</td>\n      <td>S</td>\n      <td>0</td>\n      <td>Mr</td>\n      <td>1</td>\n      <td>0</td>\n      <td>0</td>\n      <td>0</td>\n      <td>...</td>\n      <td>0</td>\n      <td>0</td>\n      <td>1</td>\n      <td>0</td>\n      <td>0</td>\n      <td>1</td>\n      <td>0</td>\n      <td>1</td>\n      <td>0</td>\n      <td>0</td>\n    </tr>\n    <tr>\n      <th>...</th>\n      <td>...</td>\n      <td>...</td>\n      <td>...</td>\n      <td>...</td>\n      <td>...</td>\n      <td>...</td>\n      <td>...</td>\n      <td>...</td>\n      <td>...</td>\n      <td>...</td>\n      <td>...</td>\n      <td>...</td>\n      <td>...</td>\n      <td>...</td>\n      <td>...</td>\n      <td>...</td>\n      <td>...</td>\n      <td>...</td>\n      <td>...</td>\n      <td>...</td>\n      <td>...</td>\n    </tr>\n    <tr>\n      <th>886</th>\n      <td>0</td>\n      <td>Montvila, Rev. Juozas</td>\n      <td>male</td>\n      <td>S</td>\n      <td>0</td>\n      <td>Mr</td>\n      <td>1</td>\n      <td>0</td>\n      <td>0</td>\n      <td>0</td>\n      <td>...</td>\n      <td>0</td>\n      <td>1</td>\n      <td>0</td>\n      <td>0</td>\n      <td>1</td>\n      <td>0</td>\n      <td>0</td>\n      <td>1</td>\n      <td>0</td>\n      <td>0</td>\n    </tr>\n    <tr>\n      <th>887</th>\n      <td>1</td>\n      <td>Graham, Miss. Margaret Edith</td>\n      <td>female</td>\n      <td>S</td>\n      <td>0</td>\n      <td>Miss</td>\n      <td>0</td>\n      <td>0</td>\n      <td>0</td>\n      <td>1</td>\n      <td>...</td>\n      <td>1</td>\n      <td>0</td>\n      <td>0</td>\n      <td>1</td>\n      <td>0</td>\n      <td>0</td>\n      <td>0</td>\n      <td>1</td>\n      <td>0</td>\n      <td>0</td>\n    </tr>\n    <tr>\n      <th>888</th>\n      <td>0</td>\n      <td>Johnston, Miss. Catherine Helen \"Carrie\"</td>\n      <td>female</td>\n      <td>S</td>\n      <td>3</td>\n      <td>Miss</td>\n      <td>0</td>\n      <td>0</td>\n      <td>0</td>\n      <td>1</td>\n      <td>...</td>\n      <td>0</td>\n      <td>0</td>\n      <td>1</td>\n      <td>0</td>\n      <td>0</td>\n      <td>1</td>\n      <td>0</td>\n      <td>1</td>\n      <td>0</td>\n      <td>0</td>\n    </tr>\n    <tr>\n      <th>889</th>\n      <td>1</td>\n      <td>Behr, Mr. Karl Howell</td>\n      <td>male</td>\n      <td>C</td>\n      <td>0</td>\n      <td>Mr</td>\n      <td>1</td>\n      <td>0</td>\n      <td>0</td>\n      <td>0</td>\n      <td>...</td>\n      <td>1</td>\n      <td>0</td>\n      <td>0</td>\n      <td>1</td>\n      <td>0</td>\n      <td>0</td>\n      <td>0</td>\n      <td>1</td>\n      <td>0</td>\n      <td>0</td>\n    </tr>\n    <tr>\n      <th>890</th>\n      <td>0</td>\n      <td>Dooley, Mr. Patrick</td>\n      <td>male</td>\n      <td>Q</td>\n      <td>0</td>\n      <td>Mr</td>\n      <td>1</td>\n      <td>0</td>\n      <td>0</td>\n      <td>0</td>\n      <td>...</td>\n      <td>0</td>\n      <td>0</td>\n      <td>1</td>\n      <td>0</td>\n      <td>0</td>\n      <td>1</td>\n      <td>0</td>\n      <td>1</td>\n      <td>0</td>\n      <td>0</td>\n    </tr>\n  </tbody>\n</table>\n<p>891 rows × 30 columns</p>\n</div>"
     },
     "metadata": {},
     "execution_count": 87
    }
   ],
   "source": [
    "train"
   ]
  },
  {
   "cell_type": "code",
   "execution_count": 88,
   "metadata": {},
   "outputs": [
    {
     "output_type": "execute_result",
     "data": {
      "text/plain": [
       "                                             Name     Sex Embarked  \\\n",
       "0                                Kelly, Mr. James    male        Q   \n",
       "1                Wilkes, Mrs. James (Ellen Needs)  female        S   \n",
       "2                       Myles, Mr. Thomas Francis    male        Q   \n",
       "3                                Wirz, Mr. Albert    male        S   \n",
       "4    Hirvonen, Mrs. Alexander (Helga E Lindqvist)  female        S   \n",
       "..                                            ...     ...      ...   \n",
       "413                            Spector, Mr. Woolf    male        S   \n",
       "414                  Oliva y Ocana, Dona. Fermina  female        C   \n",
       "415                  Saether, Mr. Simon Sivertsen    male        S   \n",
       "416                           Ware, Mr. Frederick    male        S   \n",
       "417                      Peter, Master. Michael J    male        C   \n",
       "\n",
       "     Accompany_num   Title  isMr  isMrs  isMaster  isMiss  isMan  ...  \\\n",
       "0                0      Mr     1      0         0       0      1  ...   \n",
       "1                1     Mrs     0      1         0       0      0  ...   \n",
       "2                0      Mr     1      0         0       0      1  ...   \n",
       "3                0      Mr     1      0         0       0      1  ...   \n",
       "4                2     Mrs     0      1         0       0      0  ...   \n",
       "..             ...     ...   ...    ...       ...     ...    ...  ...   \n",
       "413              0      Mr     1      0         0       0      1  ...   \n",
       "414              0     Mrs     0      1         0       0      0  ...   \n",
       "415              0      Mr     1      0         0       0      1  ...   \n",
       "416              0      Mr     1      0         0       0      1  ...   \n",
       "417              2  Master     0      0         1       0      1  ...   \n",
       "\n",
       "     Pclass_1  Pclass_2  Pclass_3  isFirst  isBusiness  isEconomy  isYoung  \\\n",
       "0           0         0         1        0           0          1        0   \n",
       "1           0         0         1        0           0          1        0   \n",
       "2           0         1         0        0           1          0        0   \n",
       "3           0         0         1        0           0          1        0   \n",
       "4           0         0         1        0           0          1        0   \n",
       "..        ...       ...       ...      ...         ...        ...      ...   \n",
       "413         0         0         1        0           0          1        0   \n",
       "414         1         0         0        1           0          0        0   \n",
       "415         0         0         1        0           0          1        0   \n",
       "416         0         0         1        0           0          1        0   \n",
       "417         0         0         1        0           0          1        0   \n",
       "\n",
       "     isyouth  isMiddleAge  isOldAge  \n",
       "0          1            0         0  \n",
       "1          0            1         0  \n",
       "2          0            0         1  \n",
       "3          1            0         0  \n",
       "4          1            0         0  \n",
       "..       ...          ...       ...  \n",
       "413        1            0         0  \n",
       "414        0            1         0  \n",
       "415        1            0         0  \n",
       "416        1            0         0  \n",
       "417        1            0         0  \n",
       "\n",
       "[418 rows x 29 columns]"
      ],
      "text/html": "<div>\n<style scoped>\n    .dataframe tbody tr th:only-of-type {\n        vertical-align: middle;\n    }\n\n    .dataframe tbody tr th {\n        vertical-align: top;\n    }\n\n    .dataframe thead th {\n        text-align: right;\n    }\n</style>\n<table border=\"1\" class=\"dataframe\">\n  <thead>\n    <tr style=\"text-align: right;\">\n      <th></th>\n      <th>Name</th>\n      <th>Sex</th>\n      <th>Embarked</th>\n      <th>Accompany_num</th>\n      <th>Title</th>\n      <th>isMr</th>\n      <th>isMrs</th>\n      <th>isMaster</th>\n      <th>isMiss</th>\n      <th>isMan</th>\n      <th>...</th>\n      <th>Pclass_1</th>\n      <th>Pclass_2</th>\n      <th>Pclass_3</th>\n      <th>isFirst</th>\n      <th>isBusiness</th>\n      <th>isEconomy</th>\n      <th>isYoung</th>\n      <th>isyouth</th>\n      <th>isMiddleAge</th>\n      <th>isOldAge</th>\n    </tr>\n  </thead>\n  <tbody>\n    <tr>\n      <th>0</th>\n      <td>Kelly, Mr. James</td>\n      <td>male</td>\n      <td>Q</td>\n      <td>0</td>\n      <td>Mr</td>\n      <td>1</td>\n      <td>0</td>\n      <td>0</td>\n      <td>0</td>\n      <td>1</td>\n      <td>...</td>\n      <td>0</td>\n      <td>0</td>\n      <td>1</td>\n      <td>0</td>\n      <td>0</td>\n      <td>1</td>\n      <td>0</td>\n      <td>1</td>\n      <td>0</td>\n      <td>0</td>\n    </tr>\n    <tr>\n      <th>1</th>\n      <td>Wilkes, Mrs. James (Ellen Needs)</td>\n      <td>female</td>\n      <td>S</td>\n      <td>1</td>\n      <td>Mrs</td>\n      <td>0</td>\n      <td>1</td>\n      <td>0</td>\n      <td>0</td>\n      <td>0</td>\n      <td>...</td>\n      <td>0</td>\n      <td>0</td>\n      <td>1</td>\n      <td>0</td>\n      <td>0</td>\n      <td>1</td>\n      <td>0</td>\n      <td>0</td>\n      <td>1</td>\n      <td>0</td>\n    </tr>\n    <tr>\n      <th>2</th>\n      <td>Myles, Mr. Thomas Francis</td>\n      <td>male</td>\n      <td>Q</td>\n      <td>0</td>\n      <td>Mr</td>\n      <td>1</td>\n      <td>0</td>\n      <td>0</td>\n      <td>0</td>\n      <td>1</td>\n      <td>...</td>\n      <td>0</td>\n      <td>1</td>\n      <td>0</td>\n      <td>0</td>\n      <td>1</td>\n      <td>0</td>\n      <td>0</td>\n      <td>0</td>\n      <td>0</td>\n      <td>1</td>\n    </tr>\n    <tr>\n      <th>3</th>\n      <td>Wirz, Mr. Albert</td>\n      <td>male</td>\n      <td>S</td>\n      <td>0</td>\n      <td>Mr</td>\n      <td>1</td>\n      <td>0</td>\n      <td>0</td>\n      <td>0</td>\n      <td>1</td>\n      <td>...</td>\n      <td>0</td>\n      <td>0</td>\n      <td>1</td>\n      <td>0</td>\n      <td>0</td>\n      <td>1</td>\n      <td>0</td>\n      <td>1</td>\n      <td>0</td>\n      <td>0</td>\n    </tr>\n    <tr>\n      <th>4</th>\n      <td>Hirvonen, Mrs. Alexander (Helga E Lindqvist)</td>\n      <td>female</td>\n      <td>S</td>\n      <td>2</td>\n      <td>Mrs</td>\n      <td>0</td>\n      <td>1</td>\n      <td>0</td>\n      <td>0</td>\n      <td>0</td>\n      <td>...</td>\n      <td>0</td>\n      <td>0</td>\n      <td>1</td>\n      <td>0</td>\n      <td>0</td>\n      <td>1</td>\n      <td>0</td>\n      <td>1</td>\n      <td>0</td>\n      <td>0</td>\n    </tr>\n    <tr>\n      <th>...</th>\n      <td>...</td>\n      <td>...</td>\n      <td>...</td>\n      <td>...</td>\n      <td>...</td>\n      <td>...</td>\n      <td>...</td>\n      <td>...</td>\n      <td>...</td>\n      <td>...</td>\n      <td>...</td>\n      <td>...</td>\n      <td>...</td>\n      <td>...</td>\n      <td>...</td>\n      <td>...</td>\n      <td>...</td>\n      <td>...</td>\n      <td>...</td>\n      <td>...</td>\n      <td>...</td>\n    </tr>\n    <tr>\n      <th>413</th>\n      <td>Spector, Mr. Woolf</td>\n      <td>male</td>\n      <td>S</td>\n      <td>0</td>\n      <td>Mr</td>\n      <td>1</td>\n      <td>0</td>\n      <td>0</td>\n      <td>0</td>\n      <td>1</td>\n      <td>...</td>\n      <td>0</td>\n      <td>0</td>\n      <td>1</td>\n      <td>0</td>\n      <td>0</td>\n      <td>1</td>\n      <td>0</td>\n      <td>1</td>\n      <td>0</td>\n      <td>0</td>\n    </tr>\n    <tr>\n      <th>414</th>\n      <td>Oliva y Ocana, Dona. Fermina</td>\n      <td>female</td>\n      <td>C</td>\n      <td>0</td>\n      <td>Mrs</td>\n      <td>0</td>\n      <td>1</td>\n      <td>0</td>\n      <td>0</td>\n      <td>0</td>\n      <td>...</td>\n      <td>1</td>\n      <td>0</td>\n      <td>0</td>\n      <td>1</td>\n      <td>0</td>\n      <td>0</td>\n      <td>0</td>\n      <td>0</td>\n      <td>1</td>\n      <td>0</td>\n    </tr>\n    <tr>\n      <th>415</th>\n      <td>Saether, Mr. Simon Sivertsen</td>\n      <td>male</td>\n      <td>S</td>\n      <td>0</td>\n      <td>Mr</td>\n      <td>1</td>\n      <td>0</td>\n      <td>0</td>\n      <td>0</td>\n      <td>1</td>\n      <td>...</td>\n      <td>0</td>\n      <td>0</td>\n      <td>1</td>\n      <td>0</td>\n      <td>0</td>\n      <td>1</td>\n      <td>0</td>\n      <td>1</td>\n      <td>0</td>\n      <td>0</td>\n    </tr>\n    <tr>\n      <th>416</th>\n      <td>Ware, Mr. Frederick</td>\n      <td>male</td>\n      <td>S</td>\n      <td>0</td>\n      <td>Mr</td>\n      <td>1</td>\n      <td>0</td>\n      <td>0</td>\n      <td>0</td>\n      <td>1</td>\n      <td>...</td>\n      <td>0</td>\n      <td>0</td>\n      <td>1</td>\n      <td>0</td>\n      <td>0</td>\n      <td>1</td>\n      <td>0</td>\n      <td>1</td>\n      <td>0</td>\n      <td>0</td>\n    </tr>\n    <tr>\n      <th>417</th>\n      <td>Peter, Master. Michael J</td>\n      <td>male</td>\n      <td>C</td>\n      <td>2</td>\n      <td>Master</td>\n      <td>0</td>\n      <td>0</td>\n      <td>1</td>\n      <td>0</td>\n      <td>1</td>\n      <td>...</td>\n      <td>0</td>\n      <td>0</td>\n      <td>1</td>\n      <td>0</td>\n      <td>0</td>\n      <td>1</td>\n      <td>0</td>\n      <td>1</td>\n      <td>0</td>\n      <td>0</td>\n    </tr>\n  </tbody>\n</table>\n<p>418 rows × 29 columns</p>\n</div>"
     },
     "metadata": {},
     "execution_count": 88
    }
   ],
   "source": [
    "test"
   ]
  },
  {
   "source": [
    "### 3-2-6. 쓰지 않는 데이터 드랍\n",
    "<br>\n",
    "데이터 가공에는 썼으나 모델 분류에는 쓰지 않는 특성들을 드랍하자"
   ],
   "cell_type": "markdown",
   "metadata": {}
  },
  {
   "cell_type": "code",
   "execution_count": 107,
   "metadata": {},
   "outputs": [
    {
     "output_type": "error",
     "ename": "KeyError",
     "evalue": "\"['Accompany_num'] not found in axis\"",
     "traceback": [
      "\u001b[0;31m---------------------------------------------------------------------------\u001b[0m",
      "\u001b[0;31mKeyError\u001b[0m                                  Traceback (most recent call last)",
      "\u001b[0;32m<ipython-input-107-0c608d09021e>\u001b[0m in \u001b[0;36m<module>\u001b[0;34m\u001b[0m\n\u001b[1;32m      1\u001b[0m \u001b[0;31m# 'Accompany_num' 특성 드랍\u001b[0m\u001b[0;34m\u001b[0m\u001b[0;34m\u001b[0m\u001b[0;34m\u001b[0m\u001b[0m\n\u001b[0;32m----> 2\u001b[0;31m \u001b[0mtrain\u001b[0m\u001b[0;34m.\u001b[0m\u001b[0mdrop\u001b[0m\u001b[0;34m(\u001b[0m\u001b[0;34m'Accompany_num'\u001b[0m\u001b[0;34m,\u001b[0m \u001b[0maxis\u001b[0m\u001b[0;34m=\u001b[0m\u001b[0;36m1\u001b[0m\u001b[0;34m,\u001b[0m \u001b[0minplace\u001b[0m\u001b[0;34m=\u001b[0m\u001b[0;32mTrue\u001b[0m\u001b[0;34m)\u001b[0m\u001b[0;34m\u001b[0m\u001b[0;34m\u001b[0m\u001b[0m\n\u001b[0m\u001b[1;32m      3\u001b[0m \u001b[0mtest\u001b[0m\u001b[0;34m.\u001b[0m\u001b[0mdrop\u001b[0m\u001b[0;34m(\u001b[0m\u001b[0;34m'Accompany_num'\u001b[0m\u001b[0;34m,\u001b[0m \u001b[0maxis\u001b[0m\u001b[0;34m=\u001b[0m\u001b[0;36m1\u001b[0m\u001b[0;34m,\u001b[0m \u001b[0minplace\u001b[0m\u001b[0;34m=\u001b[0m\u001b[0;32mTrue\u001b[0m\u001b[0;34m)\u001b[0m\u001b[0;34m\u001b[0m\u001b[0;34m\u001b[0m\u001b[0m\n\u001b[1;32m      4\u001b[0m \u001b[0;34m\u001b[0m\u001b[0m\n\u001b[1;32m      5\u001b[0m \u001b[0;31m# 'Embarked' 특성 드랍\u001b[0m\u001b[0;34m\u001b[0m\u001b[0;34m\u001b[0m\u001b[0;34m\u001b[0m\u001b[0m\n",
      "\u001b[0;32m~/opt/anaconda3/lib/python3.8/site-packages/pandas/core/frame.py\u001b[0m in \u001b[0;36mdrop\u001b[0;34m(self, labels, axis, index, columns, level, inplace, errors)\u001b[0m\n\u001b[1;32m   4303\u001b[0m                 \u001b[0mweight\u001b[0m  \u001b[0;36m1.0\u001b[0m     \u001b[0;36m0.8\u001b[0m\u001b[0;34m\u001b[0m\u001b[0;34m\u001b[0m\u001b[0m\n\u001b[1;32m   4304\u001b[0m         \"\"\"\n\u001b[0;32m-> 4305\u001b[0;31m         return super().drop(\n\u001b[0m\u001b[1;32m   4306\u001b[0m             \u001b[0mlabels\u001b[0m\u001b[0;34m=\u001b[0m\u001b[0mlabels\u001b[0m\u001b[0;34m,\u001b[0m\u001b[0;34m\u001b[0m\u001b[0;34m\u001b[0m\u001b[0m\n\u001b[1;32m   4307\u001b[0m             \u001b[0maxis\u001b[0m\u001b[0;34m=\u001b[0m\u001b[0maxis\u001b[0m\u001b[0;34m,\u001b[0m\u001b[0;34m\u001b[0m\u001b[0;34m\u001b[0m\u001b[0m\n",
      "\u001b[0;32m~/opt/anaconda3/lib/python3.8/site-packages/pandas/core/generic.py\u001b[0m in \u001b[0;36mdrop\u001b[0;34m(self, labels, axis, index, columns, level, inplace, errors)\u001b[0m\n\u001b[1;32m   4148\u001b[0m         \u001b[0;32mfor\u001b[0m \u001b[0maxis\u001b[0m\u001b[0;34m,\u001b[0m \u001b[0mlabels\u001b[0m \u001b[0;32min\u001b[0m \u001b[0maxes\u001b[0m\u001b[0;34m.\u001b[0m\u001b[0mitems\u001b[0m\u001b[0;34m(\u001b[0m\u001b[0;34m)\u001b[0m\u001b[0;34m:\u001b[0m\u001b[0;34m\u001b[0m\u001b[0;34m\u001b[0m\u001b[0m\n\u001b[1;32m   4149\u001b[0m             \u001b[0;32mif\u001b[0m \u001b[0mlabels\u001b[0m \u001b[0;32mis\u001b[0m \u001b[0;32mnot\u001b[0m \u001b[0;32mNone\u001b[0m\u001b[0;34m:\u001b[0m\u001b[0;34m\u001b[0m\u001b[0;34m\u001b[0m\u001b[0m\n\u001b[0;32m-> 4150\u001b[0;31m                 \u001b[0mobj\u001b[0m \u001b[0;34m=\u001b[0m \u001b[0mobj\u001b[0m\u001b[0;34m.\u001b[0m\u001b[0m_drop_axis\u001b[0m\u001b[0;34m(\u001b[0m\u001b[0mlabels\u001b[0m\u001b[0;34m,\u001b[0m \u001b[0maxis\u001b[0m\u001b[0;34m,\u001b[0m \u001b[0mlevel\u001b[0m\u001b[0;34m=\u001b[0m\u001b[0mlevel\u001b[0m\u001b[0;34m,\u001b[0m \u001b[0merrors\u001b[0m\u001b[0;34m=\u001b[0m\u001b[0merrors\u001b[0m\u001b[0;34m)\u001b[0m\u001b[0;34m\u001b[0m\u001b[0;34m\u001b[0m\u001b[0m\n\u001b[0m\u001b[1;32m   4151\u001b[0m \u001b[0;34m\u001b[0m\u001b[0m\n\u001b[1;32m   4152\u001b[0m         \u001b[0;32mif\u001b[0m \u001b[0minplace\u001b[0m\u001b[0;34m:\u001b[0m\u001b[0;34m\u001b[0m\u001b[0;34m\u001b[0m\u001b[0m\n",
      "\u001b[0;32m~/opt/anaconda3/lib/python3.8/site-packages/pandas/core/generic.py\u001b[0m in \u001b[0;36m_drop_axis\u001b[0;34m(self, labels, axis, level, errors)\u001b[0m\n\u001b[1;32m   4183\u001b[0m                 \u001b[0mnew_axis\u001b[0m \u001b[0;34m=\u001b[0m \u001b[0maxis\u001b[0m\u001b[0;34m.\u001b[0m\u001b[0mdrop\u001b[0m\u001b[0;34m(\u001b[0m\u001b[0mlabels\u001b[0m\u001b[0;34m,\u001b[0m \u001b[0mlevel\u001b[0m\u001b[0;34m=\u001b[0m\u001b[0mlevel\u001b[0m\u001b[0;34m,\u001b[0m \u001b[0merrors\u001b[0m\u001b[0;34m=\u001b[0m\u001b[0merrors\u001b[0m\u001b[0;34m)\u001b[0m\u001b[0;34m\u001b[0m\u001b[0;34m\u001b[0m\u001b[0m\n\u001b[1;32m   4184\u001b[0m             \u001b[0;32melse\u001b[0m\u001b[0;34m:\u001b[0m\u001b[0;34m\u001b[0m\u001b[0;34m\u001b[0m\u001b[0m\n\u001b[0;32m-> 4185\u001b[0;31m                 \u001b[0mnew_axis\u001b[0m \u001b[0;34m=\u001b[0m \u001b[0maxis\u001b[0m\u001b[0;34m.\u001b[0m\u001b[0mdrop\u001b[0m\u001b[0;34m(\u001b[0m\u001b[0mlabels\u001b[0m\u001b[0;34m,\u001b[0m \u001b[0merrors\u001b[0m\u001b[0;34m=\u001b[0m\u001b[0merrors\u001b[0m\u001b[0;34m)\u001b[0m\u001b[0;34m\u001b[0m\u001b[0;34m\u001b[0m\u001b[0m\n\u001b[0m\u001b[1;32m   4186\u001b[0m             \u001b[0mresult\u001b[0m \u001b[0;34m=\u001b[0m \u001b[0mself\u001b[0m\u001b[0;34m.\u001b[0m\u001b[0mreindex\u001b[0m\u001b[0;34m(\u001b[0m\u001b[0;34m**\u001b[0m\u001b[0;34m{\u001b[0m\u001b[0maxis_name\u001b[0m\u001b[0;34m:\u001b[0m \u001b[0mnew_axis\u001b[0m\u001b[0;34m}\u001b[0m\u001b[0;34m)\u001b[0m\u001b[0;34m\u001b[0m\u001b[0;34m\u001b[0m\u001b[0m\n\u001b[1;32m   4187\u001b[0m \u001b[0;34m\u001b[0m\u001b[0m\n",
      "\u001b[0;32m~/opt/anaconda3/lib/python3.8/site-packages/pandas/core/indexes/base.py\u001b[0m in \u001b[0;36mdrop\u001b[0;34m(self, labels, errors)\u001b[0m\n\u001b[1;32m   5589\u001b[0m         \u001b[0;32mif\u001b[0m \u001b[0mmask\u001b[0m\u001b[0;34m.\u001b[0m\u001b[0many\u001b[0m\u001b[0;34m(\u001b[0m\u001b[0;34m)\u001b[0m\u001b[0;34m:\u001b[0m\u001b[0;34m\u001b[0m\u001b[0;34m\u001b[0m\u001b[0m\n\u001b[1;32m   5590\u001b[0m             \u001b[0;32mif\u001b[0m \u001b[0merrors\u001b[0m \u001b[0;34m!=\u001b[0m \u001b[0;34m\"ignore\"\u001b[0m\u001b[0;34m:\u001b[0m\u001b[0;34m\u001b[0m\u001b[0;34m\u001b[0m\u001b[0m\n\u001b[0;32m-> 5591\u001b[0;31m                 \u001b[0;32mraise\u001b[0m \u001b[0mKeyError\u001b[0m\u001b[0;34m(\u001b[0m\u001b[0;34mf\"{labels[mask]} not found in axis\"\u001b[0m\u001b[0;34m)\u001b[0m\u001b[0;34m\u001b[0m\u001b[0;34m\u001b[0m\u001b[0m\n\u001b[0m\u001b[1;32m   5592\u001b[0m             \u001b[0mindexer\u001b[0m \u001b[0;34m=\u001b[0m \u001b[0mindexer\u001b[0m\u001b[0;34m[\u001b[0m\u001b[0;34m~\u001b[0m\u001b[0mmask\u001b[0m\u001b[0;34m]\u001b[0m\u001b[0;34m\u001b[0m\u001b[0;34m\u001b[0m\u001b[0m\n\u001b[1;32m   5593\u001b[0m         \u001b[0;32mreturn\u001b[0m \u001b[0mself\u001b[0m\u001b[0;34m.\u001b[0m\u001b[0mdelete\u001b[0m\u001b[0;34m(\u001b[0m\u001b[0mindexer\u001b[0m\u001b[0;34m)\u001b[0m\u001b[0;34m\u001b[0m\u001b[0;34m\u001b[0m\u001b[0m\n",
      "\u001b[0;31mKeyError\u001b[0m: \"['Accompany_num'] not found in axis\""
     ]
    }
   ],
   "source": [
    "# 'Accompany_num' 특성 드랍\n",
    "train.drop('Accompany_num', axis=1, inplace=True)\n",
    "test.drop('Accompany_num', axis=1, inplace=True)\n",
    "\n",
    "# 'Embarked' 특성 드랍\n",
    "train.drop('Embarked', axis=1, inplace=True)\n",
    "test.drop('Embarked', axis=1, inplace=True)\n",
    "\n",
    "# 'Name' 특성 드랍\n",
    "train.drop('Name', axis=1, inplace=True)\n",
    "test.drop('Name', axis=1, inplace=True)\n",
    "\n",
    "# 'Sex' 특성을 드랍\n",
    "train.drop('Sex', axis=1, inplace=True)\n",
    "test.drop('Sex', axis=1, inplace=True)\n",
    "\n",
    "# 'Title' 특성을 드랍\n",
    "train.drop('Title', axis=1, inplace=True)\n",
    "test.drop('Title', axis=1, inplace=True)"
   ]
  },
  {
   "source": [
    "데이터를 확인해보자"
   ],
   "cell_type": "markdown",
   "metadata": {}
  },
  {
   "cell_type": "code",
   "execution_count": 109,
   "metadata": {},
   "outputs": [
    {
     "output_type": "execute_result",
     "data": {
      "text/plain": [
       "     Survived  isMr  isMrs  isMaster  isMiss  isMan  isWoman  Cabin_A  \\\n",
       "0           0     1      0         0       0      1        0        0   \n",
       "1           1     0      1         0       0      0        1        0   \n",
       "2           1     0      0         0       1      0        1        0   \n",
       "3           1     0      1         0       0      0        1        0   \n",
       "4           0     1      0         0       0      1        0        0   \n",
       "..        ...   ...    ...       ...     ...    ...      ...      ...   \n",
       "886         0     1      0         0       0      1        0        0   \n",
       "887         1     0      0         0       1      0        1        0   \n",
       "888         0     0      0         0       1      0        1        0   \n",
       "889         1     1      0         0       0      1        0        0   \n",
       "890         0     1      0         0       0      1        0        0   \n",
       "\n",
       "     Cabin_B  Cabin_C  ...  Pclass_1  Pclass_2  Pclass_3  isFirst  isBusiness  \\\n",
       "0          0        0  ...         0         0         1        0           0   \n",
       "1          0        1  ...         1         0         0        1           0   \n",
       "2          0        0  ...         0         0         1        0           0   \n",
       "3          0        1  ...         1         0         0        1           0   \n",
       "4          0        0  ...         0         0         1        0           0   \n",
       "..       ...      ...  ...       ...       ...       ...      ...         ...   \n",
       "886        0        0  ...         0         1         0        0           1   \n",
       "887        1        0  ...         1         0         0        1           0   \n",
       "888        0        0  ...         0         0         1        0           0   \n",
       "889        0        1  ...         1         0         0        1           0   \n",
       "890        0        0  ...         0         0         1        0           0   \n",
       "\n",
       "     isEconomy  isYoung  isyouth  isMiddleAge  isOldAge  \n",
       "0            1        0        1            0         0  \n",
       "1            0        0        1            0         0  \n",
       "2            1        0        1            0         0  \n",
       "3            0        0        1            0         0  \n",
       "4            1        0        1            0         0  \n",
       "..         ...      ...      ...          ...       ...  \n",
       "886          0        0        1            0         0  \n",
       "887          0        0        1            0         0  \n",
       "888          1        0        1            0         0  \n",
       "889          0        0        1            0         0  \n",
       "890          1        0        1            0         0  \n",
       "\n",
       "[891 rows x 25 columns]"
      ],
      "text/html": "<div>\n<style scoped>\n    .dataframe tbody tr th:only-of-type {\n        vertical-align: middle;\n    }\n\n    .dataframe tbody tr th {\n        vertical-align: top;\n    }\n\n    .dataframe thead th {\n        text-align: right;\n    }\n</style>\n<table border=\"1\" class=\"dataframe\">\n  <thead>\n    <tr style=\"text-align: right;\">\n      <th></th>\n      <th>Survived</th>\n      <th>isMr</th>\n      <th>isMrs</th>\n      <th>isMaster</th>\n      <th>isMiss</th>\n      <th>isMan</th>\n      <th>isWoman</th>\n      <th>Cabin_A</th>\n      <th>Cabin_B</th>\n      <th>Cabin_C</th>\n      <th>...</th>\n      <th>Pclass_1</th>\n      <th>Pclass_2</th>\n      <th>Pclass_3</th>\n      <th>isFirst</th>\n      <th>isBusiness</th>\n      <th>isEconomy</th>\n      <th>isYoung</th>\n      <th>isyouth</th>\n      <th>isMiddleAge</th>\n      <th>isOldAge</th>\n    </tr>\n  </thead>\n  <tbody>\n    <tr>\n      <th>0</th>\n      <td>0</td>\n      <td>1</td>\n      <td>0</td>\n      <td>0</td>\n      <td>0</td>\n      <td>1</td>\n      <td>0</td>\n      <td>0</td>\n      <td>0</td>\n      <td>0</td>\n      <td>...</td>\n      <td>0</td>\n      <td>0</td>\n      <td>1</td>\n      <td>0</td>\n      <td>0</td>\n      <td>1</td>\n      <td>0</td>\n      <td>1</td>\n      <td>0</td>\n      <td>0</td>\n    </tr>\n    <tr>\n      <th>1</th>\n      <td>1</td>\n      <td>0</td>\n      <td>1</td>\n      <td>0</td>\n      <td>0</td>\n      <td>0</td>\n      <td>1</td>\n      <td>0</td>\n      <td>0</td>\n      <td>1</td>\n      <td>...</td>\n      <td>1</td>\n      <td>0</td>\n      <td>0</td>\n      <td>1</td>\n      <td>0</td>\n      <td>0</td>\n      <td>0</td>\n      <td>1</td>\n      <td>0</td>\n      <td>0</td>\n    </tr>\n    <tr>\n      <th>2</th>\n      <td>1</td>\n      <td>0</td>\n      <td>0</td>\n      <td>0</td>\n      <td>1</td>\n      <td>0</td>\n      <td>1</td>\n      <td>0</td>\n      <td>0</td>\n      <td>0</td>\n      <td>...</td>\n      <td>0</td>\n      <td>0</td>\n      <td>1</td>\n      <td>0</td>\n      <td>0</td>\n      <td>1</td>\n      <td>0</td>\n      <td>1</td>\n      <td>0</td>\n      <td>0</td>\n    </tr>\n    <tr>\n      <th>3</th>\n      <td>1</td>\n      <td>0</td>\n      <td>1</td>\n      <td>0</td>\n      <td>0</td>\n      <td>0</td>\n      <td>1</td>\n      <td>0</td>\n      <td>0</td>\n      <td>1</td>\n      <td>...</td>\n      <td>1</td>\n      <td>0</td>\n      <td>0</td>\n      <td>1</td>\n      <td>0</td>\n      <td>0</td>\n      <td>0</td>\n      <td>1</td>\n      <td>0</td>\n      <td>0</td>\n    </tr>\n    <tr>\n      <th>4</th>\n      <td>0</td>\n      <td>1</td>\n      <td>0</td>\n      <td>0</td>\n      <td>0</td>\n      <td>1</td>\n      <td>0</td>\n      <td>0</td>\n      <td>0</td>\n      <td>0</td>\n      <td>...</td>\n      <td>0</td>\n      <td>0</td>\n      <td>1</td>\n      <td>0</td>\n      <td>0</td>\n      <td>1</td>\n      <td>0</td>\n      <td>1</td>\n      <td>0</td>\n      <td>0</td>\n    </tr>\n    <tr>\n      <th>...</th>\n      <td>...</td>\n      <td>...</td>\n      <td>...</td>\n      <td>...</td>\n      <td>...</td>\n      <td>...</td>\n      <td>...</td>\n      <td>...</td>\n      <td>...</td>\n      <td>...</td>\n      <td>...</td>\n      <td>...</td>\n      <td>...</td>\n      <td>...</td>\n      <td>...</td>\n      <td>...</td>\n      <td>...</td>\n      <td>...</td>\n      <td>...</td>\n      <td>...</td>\n      <td>...</td>\n    </tr>\n    <tr>\n      <th>886</th>\n      <td>0</td>\n      <td>1</td>\n      <td>0</td>\n      <td>0</td>\n      <td>0</td>\n      <td>1</td>\n      <td>0</td>\n      <td>0</td>\n      <td>0</td>\n      <td>0</td>\n      <td>...</td>\n      <td>0</td>\n      <td>1</td>\n      <td>0</td>\n      <td>0</td>\n      <td>1</td>\n      <td>0</td>\n      <td>0</td>\n      <td>1</td>\n      <td>0</td>\n      <td>0</td>\n    </tr>\n    <tr>\n      <th>887</th>\n      <td>1</td>\n      <td>0</td>\n      <td>0</td>\n      <td>0</td>\n      <td>1</td>\n      <td>0</td>\n      <td>1</td>\n      <td>0</td>\n      <td>1</td>\n      <td>0</td>\n      <td>...</td>\n      <td>1</td>\n      <td>0</td>\n      <td>0</td>\n      <td>1</td>\n      <td>0</td>\n      <td>0</td>\n      <td>0</td>\n      <td>1</td>\n      <td>0</td>\n      <td>0</td>\n    </tr>\n    <tr>\n      <th>888</th>\n      <td>0</td>\n      <td>0</td>\n      <td>0</td>\n      <td>0</td>\n      <td>1</td>\n      <td>0</td>\n      <td>1</td>\n      <td>0</td>\n      <td>0</td>\n      <td>0</td>\n      <td>...</td>\n      <td>0</td>\n      <td>0</td>\n      <td>1</td>\n      <td>0</td>\n      <td>0</td>\n      <td>1</td>\n      <td>0</td>\n      <td>1</td>\n      <td>0</td>\n      <td>0</td>\n    </tr>\n    <tr>\n      <th>889</th>\n      <td>1</td>\n      <td>1</td>\n      <td>0</td>\n      <td>0</td>\n      <td>0</td>\n      <td>1</td>\n      <td>0</td>\n      <td>0</td>\n      <td>0</td>\n      <td>1</td>\n      <td>...</td>\n      <td>1</td>\n      <td>0</td>\n      <td>0</td>\n      <td>1</td>\n      <td>0</td>\n      <td>0</td>\n      <td>0</td>\n      <td>1</td>\n      <td>0</td>\n      <td>0</td>\n    </tr>\n    <tr>\n      <th>890</th>\n      <td>0</td>\n      <td>1</td>\n      <td>0</td>\n      <td>0</td>\n      <td>0</td>\n      <td>1</td>\n      <td>0</td>\n      <td>0</td>\n      <td>0</td>\n      <td>0</td>\n      <td>...</td>\n      <td>0</td>\n      <td>0</td>\n      <td>1</td>\n      <td>0</td>\n      <td>0</td>\n      <td>1</td>\n      <td>0</td>\n      <td>1</td>\n      <td>0</td>\n      <td>0</td>\n    </tr>\n  </tbody>\n</table>\n<p>891 rows × 25 columns</p>\n</div>"
     },
     "metadata": {},
     "execution_count": 109
    }
   ],
   "source": [
    "train"
   ]
  },
  {
   "cell_type": "code",
   "execution_count": 110,
   "metadata": {},
   "outputs": [
    {
     "output_type": "execute_result",
     "data": {
      "text/plain": [
       "     isMr  isMrs  isMaster  isMiss  isMan  isWoman  Cabin_A  Cabin_B  Cabin_C  \\\n",
       "0       1      0         0       0      1        0        0        0        0   \n",
       "1       0      1         0       0      0        1        0        0        0   \n",
       "2       1      0         0       0      1        0        0        0        0   \n",
       "3       1      0         0       0      1        0        0        0        0   \n",
       "4       0      1         0       0      0        1        0        0        0   \n",
       "..    ...    ...       ...     ...    ...      ...      ...      ...      ...   \n",
       "413     1      0         0       0      1        0        0        0        0   \n",
       "414     0      1         0       0      0        1        0        0        1   \n",
       "415     1      0         0       0      1        0        0        0        0   \n",
       "416     1      0         0       0      1        0        0        0        0   \n",
       "417     0      0         1       0      1        0        0        0        0   \n",
       "\n",
       "     Cabin_D  ...  Pclass_1  Pclass_2  Pclass_3  isFirst  isBusiness  \\\n",
       "0          0  ...         0         0         1        0           0   \n",
       "1          0  ...         0         0         1        0           0   \n",
       "2          0  ...         0         1         0        0           1   \n",
       "3          0  ...         0         0         1        0           0   \n",
       "4          0  ...         0         0         1        0           0   \n",
       "..       ...  ...       ...       ...       ...      ...         ...   \n",
       "413        0  ...         0         0         1        0           0   \n",
       "414        0  ...         1         0         0        1           0   \n",
       "415        0  ...         0         0         1        0           0   \n",
       "416        0  ...         0         0         1        0           0   \n",
       "417        0  ...         0         0         1        0           0   \n",
       "\n",
       "     isEconomy  isYoung  isyouth  isMiddleAge  isOldAge  \n",
       "0            1        0        1            0         0  \n",
       "1            1        0        0            1         0  \n",
       "2            0        0        0            0         1  \n",
       "3            1        0        1            0         0  \n",
       "4            1        0        1            0         0  \n",
       "..         ...      ...      ...          ...       ...  \n",
       "413          1        0        1            0         0  \n",
       "414          0        0        0            1         0  \n",
       "415          1        0        1            0         0  \n",
       "416          1        0        1            0         0  \n",
       "417          1        0        1            0         0  \n",
       "\n",
       "[418 rows x 24 columns]"
      ],
      "text/html": "<div>\n<style scoped>\n    .dataframe tbody tr th:only-of-type {\n        vertical-align: middle;\n    }\n\n    .dataframe tbody tr th {\n        vertical-align: top;\n    }\n\n    .dataframe thead th {\n        text-align: right;\n    }\n</style>\n<table border=\"1\" class=\"dataframe\">\n  <thead>\n    <tr style=\"text-align: right;\">\n      <th></th>\n      <th>isMr</th>\n      <th>isMrs</th>\n      <th>isMaster</th>\n      <th>isMiss</th>\n      <th>isMan</th>\n      <th>isWoman</th>\n      <th>Cabin_A</th>\n      <th>Cabin_B</th>\n      <th>Cabin_C</th>\n      <th>Cabin_D</th>\n      <th>...</th>\n      <th>Pclass_1</th>\n      <th>Pclass_2</th>\n      <th>Pclass_3</th>\n      <th>isFirst</th>\n      <th>isBusiness</th>\n      <th>isEconomy</th>\n      <th>isYoung</th>\n      <th>isyouth</th>\n      <th>isMiddleAge</th>\n      <th>isOldAge</th>\n    </tr>\n  </thead>\n  <tbody>\n    <tr>\n      <th>0</th>\n      <td>1</td>\n      <td>0</td>\n      <td>0</td>\n      <td>0</td>\n      <td>1</td>\n      <td>0</td>\n      <td>0</td>\n      <td>0</td>\n      <td>0</td>\n      <td>0</td>\n      <td>...</td>\n      <td>0</td>\n      <td>0</td>\n      <td>1</td>\n      <td>0</td>\n      <td>0</td>\n      <td>1</td>\n      <td>0</td>\n      <td>1</td>\n      <td>0</td>\n      <td>0</td>\n    </tr>\n    <tr>\n      <th>1</th>\n      <td>0</td>\n      <td>1</td>\n      <td>0</td>\n      <td>0</td>\n      <td>0</td>\n      <td>1</td>\n      <td>0</td>\n      <td>0</td>\n      <td>0</td>\n      <td>0</td>\n      <td>...</td>\n      <td>0</td>\n      <td>0</td>\n      <td>1</td>\n      <td>0</td>\n      <td>0</td>\n      <td>1</td>\n      <td>0</td>\n      <td>0</td>\n      <td>1</td>\n      <td>0</td>\n    </tr>\n    <tr>\n      <th>2</th>\n      <td>1</td>\n      <td>0</td>\n      <td>0</td>\n      <td>0</td>\n      <td>1</td>\n      <td>0</td>\n      <td>0</td>\n      <td>0</td>\n      <td>0</td>\n      <td>0</td>\n      <td>...</td>\n      <td>0</td>\n      <td>1</td>\n      <td>0</td>\n      <td>0</td>\n      <td>1</td>\n      <td>0</td>\n      <td>0</td>\n      <td>0</td>\n      <td>0</td>\n      <td>1</td>\n    </tr>\n    <tr>\n      <th>3</th>\n      <td>1</td>\n      <td>0</td>\n      <td>0</td>\n      <td>0</td>\n      <td>1</td>\n      <td>0</td>\n      <td>0</td>\n      <td>0</td>\n      <td>0</td>\n      <td>0</td>\n      <td>...</td>\n      <td>0</td>\n      <td>0</td>\n      <td>1</td>\n      <td>0</td>\n      <td>0</td>\n      <td>1</td>\n      <td>0</td>\n      <td>1</td>\n      <td>0</td>\n      <td>0</td>\n    </tr>\n    <tr>\n      <th>4</th>\n      <td>0</td>\n      <td>1</td>\n      <td>0</td>\n      <td>0</td>\n      <td>0</td>\n      <td>1</td>\n      <td>0</td>\n      <td>0</td>\n      <td>0</td>\n      <td>0</td>\n      <td>...</td>\n      <td>0</td>\n      <td>0</td>\n      <td>1</td>\n      <td>0</td>\n      <td>0</td>\n      <td>1</td>\n      <td>0</td>\n      <td>1</td>\n      <td>0</td>\n      <td>0</td>\n    </tr>\n    <tr>\n      <th>...</th>\n      <td>...</td>\n      <td>...</td>\n      <td>...</td>\n      <td>...</td>\n      <td>...</td>\n      <td>...</td>\n      <td>...</td>\n      <td>...</td>\n      <td>...</td>\n      <td>...</td>\n      <td>...</td>\n      <td>...</td>\n      <td>...</td>\n      <td>...</td>\n      <td>...</td>\n      <td>...</td>\n      <td>...</td>\n      <td>...</td>\n      <td>...</td>\n      <td>...</td>\n      <td>...</td>\n    </tr>\n    <tr>\n      <th>413</th>\n      <td>1</td>\n      <td>0</td>\n      <td>0</td>\n      <td>0</td>\n      <td>1</td>\n      <td>0</td>\n      <td>0</td>\n      <td>0</td>\n      <td>0</td>\n      <td>0</td>\n      <td>...</td>\n      <td>0</td>\n      <td>0</td>\n      <td>1</td>\n      <td>0</td>\n      <td>0</td>\n      <td>1</td>\n      <td>0</td>\n      <td>1</td>\n      <td>0</td>\n      <td>0</td>\n    </tr>\n    <tr>\n      <th>414</th>\n      <td>0</td>\n      <td>1</td>\n      <td>0</td>\n      <td>0</td>\n      <td>0</td>\n      <td>1</td>\n      <td>0</td>\n      <td>0</td>\n      <td>1</td>\n      <td>0</td>\n      <td>...</td>\n      <td>1</td>\n      <td>0</td>\n      <td>0</td>\n      <td>1</td>\n      <td>0</td>\n      <td>0</td>\n      <td>0</td>\n      <td>0</td>\n      <td>1</td>\n      <td>0</td>\n    </tr>\n    <tr>\n      <th>415</th>\n      <td>1</td>\n      <td>0</td>\n      <td>0</td>\n      <td>0</td>\n      <td>1</td>\n      <td>0</td>\n      <td>0</td>\n      <td>0</td>\n      <td>0</td>\n      <td>0</td>\n      <td>...</td>\n      <td>0</td>\n      <td>0</td>\n      <td>1</td>\n      <td>0</td>\n      <td>0</td>\n      <td>1</td>\n      <td>0</td>\n      <td>1</td>\n      <td>0</td>\n      <td>0</td>\n    </tr>\n    <tr>\n      <th>416</th>\n      <td>1</td>\n      <td>0</td>\n      <td>0</td>\n      <td>0</td>\n      <td>1</td>\n      <td>0</td>\n      <td>0</td>\n      <td>0</td>\n      <td>0</td>\n      <td>0</td>\n      <td>...</td>\n      <td>0</td>\n      <td>0</td>\n      <td>1</td>\n      <td>0</td>\n      <td>0</td>\n      <td>1</td>\n      <td>0</td>\n      <td>1</td>\n      <td>0</td>\n      <td>0</td>\n    </tr>\n    <tr>\n      <th>417</th>\n      <td>0</td>\n      <td>0</td>\n      <td>1</td>\n      <td>0</td>\n      <td>1</td>\n      <td>0</td>\n      <td>0</td>\n      <td>0</td>\n      <td>0</td>\n      <td>0</td>\n      <td>...</td>\n      <td>0</td>\n      <td>0</td>\n      <td>1</td>\n      <td>0</td>\n      <td>0</td>\n      <td>1</td>\n      <td>0</td>\n      <td>1</td>\n      <td>0</td>\n      <td>0</td>\n    </tr>\n  </tbody>\n</table>\n<p>418 rows × 24 columns</p>\n</div>"
     },
     "metadata": {},
     "execution_count": 110
    }
   ],
   "source": [
    "test"
   ]
  },
  {
   "source": [
    "# 4.훈련 데이터를 x, y로 나누기\n",
    "<br>\n",
    "데이터의 가공이 모두 끝났다. 이제 훈련 데이터를 x, y로 나눠주자"
   ],
   "cell_type": "markdown",
   "metadata": {}
  },
  {
   "cell_type": "code",
   "execution_count": 111,
   "metadata": {},
   "outputs": [],
   "source": [
    "# 이제 train에서 'Survive'와 나머지 항목을 분리해주자\n",
    "x_train = train.drop('Survived', axis=1)\n",
    "y = train['Survived']"
   ]
  },
  {
   "source": [
    "최종 데이터 확인. 잘 정리되어있는 데이터를 확인할 수 있다. "
   ],
   "cell_type": "markdown",
   "metadata": {}
  },
  {
   "cell_type": "code",
   "execution_count": 112,
   "metadata": {},
   "outputs": [
    {
     "output_type": "execute_result",
     "data": {
      "text/plain": [
       "     isMr  isMrs  isMaster  isMiss  isMan  isWoman  Cabin_A  Cabin_B  Cabin_C  \\\n",
       "0       1      0         0       0      1        0        0        0        0   \n",
       "1       0      1         0       0      0        1        0        0        1   \n",
       "2       0      0         0       1      0        1        0        0        0   \n",
       "3       0      1         0       0      0        1        0        0        1   \n",
       "4       1      0         0       0      1        0        0        0        0   \n",
       "..    ...    ...       ...     ...    ...      ...      ...      ...      ...   \n",
       "886     1      0         0       0      1        0        0        0        0   \n",
       "887     0      0         0       1      0        1        0        1        0   \n",
       "888     0      0         0       1      0        1        0        0        0   \n",
       "889     1      0         0       0      1        0        0        0        1   \n",
       "890     1      0         0       0      1        0        0        0        0   \n",
       "\n",
       "     Cabin_D  ...  Pclass_1  Pclass_2  Pclass_3  isFirst  isBusiness  \\\n",
       "0          0  ...         0         0         1        0           0   \n",
       "1          0  ...         1         0         0        1           0   \n",
       "2          0  ...         0         0         1        0           0   \n",
       "3          0  ...         1         0         0        1           0   \n",
       "4          0  ...         0         0         1        0           0   \n",
       "..       ...  ...       ...       ...       ...      ...         ...   \n",
       "886        0  ...         0         1         0        0           1   \n",
       "887        0  ...         1         0         0        1           0   \n",
       "888        0  ...         0         0         1        0           0   \n",
       "889        0  ...         1         0         0        1           0   \n",
       "890        0  ...         0         0         1        0           0   \n",
       "\n",
       "     isEconomy  isYoung  isyouth  isMiddleAge  isOldAge  \n",
       "0            1        0        1            0         0  \n",
       "1            0        0        1            0         0  \n",
       "2            1        0        1            0         0  \n",
       "3            0        0        1            0         0  \n",
       "4            1        0        1            0         0  \n",
       "..         ...      ...      ...          ...       ...  \n",
       "886          0        0        1            0         0  \n",
       "887          0        0        1            0         0  \n",
       "888          1        0        1            0         0  \n",
       "889          0        0        1            0         0  \n",
       "890          1        0        1            0         0  \n",
       "\n",
       "[891 rows x 24 columns]"
      ],
      "text/html": "<div>\n<style scoped>\n    .dataframe tbody tr th:only-of-type {\n        vertical-align: middle;\n    }\n\n    .dataframe tbody tr th {\n        vertical-align: top;\n    }\n\n    .dataframe thead th {\n        text-align: right;\n    }\n</style>\n<table border=\"1\" class=\"dataframe\">\n  <thead>\n    <tr style=\"text-align: right;\">\n      <th></th>\n      <th>isMr</th>\n      <th>isMrs</th>\n      <th>isMaster</th>\n      <th>isMiss</th>\n      <th>isMan</th>\n      <th>isWoman</th>\n      <th>Cabin_A</th>\n      <th>Cabin_B</th>\n      <th>Cabin_C</th>\n      <th>Cabin_D</th>\n      <th>...</th>\n      <th>Pclass_1</th>\n      <th>Pclass_2</th>\n      <th>Pclass_3</th>\n      <th>isFirst</th>\n      <th>isBusiness</th>\n      <th>isEconomy</th>\n      <th>isYoung</th>\n      <th>isyouth</th>\n      <th>isMiddleAge</th>\n      <th>isOldAge</th>\n    </tr>\n  </thead>\n  <tbody>\n    <tr>\n      <th>0</th>\n      <td>1</td>\n      <td>0</td>\n      <td>0</td>\n      <td>0</td>\n      <td>1</td>\n      <td>0</td>\n      <td>0</td>\n      <td>0</td>\n      <td>0</td>\n      <td>0</td>\n      <td>...</td>\n      <td>0</td>\n      <td>0</td>\n      <td>1</td>\n      <td>0</td>\n      <td>0</td>\n      <td>1</td>\n      <td>0</td>\n      <td>1</td>\n      <td>0</td>\n      <td>0</td>\n    </tr>\n    <tr>\n      <th>1</th>\n      <td>0</td>\n      <td>1</td>\n      <td>0</td>\n      <td>0</td>\n      <td>0</td>\n      <td>1</td>\n      <td>0</td>\n      <td>0</td>\n      <td>1</td>\n      <td>0</td>\n      <td>...</td>\n      <td>1</td>\n      <td>0</td>\n      <td>0</td>\n      <td>1</td>\n      <td>0</td>\n      <td>0</td>\n      <td>0</td>\n      <td>1</td>\n      <td>0</td>\n      <td>0</td>\n    </tr>\n    <tr>\n      <th>2</th>\n      <td>0</td>\n      <td>0</td>\n      <td>0</td>\n      <td>1</td>\n      <td>0</td>\n      <td>1</td>\n      <td>0</td>\n      <td>0</td>\n      <td>0</td>\n      <td>0</td>\n      <td>...</td>\n      <td>0</td>\n      <td>0</td>\n      <td>1</td>\n      <td>0</td>\n      <td>0</td>\n      <td>1</td>\n      <td>0</td>\n      <td>1</td>\n      <td>0</td>\n      <td>0</td>\n    </tr>\n    <tr>\n      <th>3</th>\n      <td>0</td>\n      <td>1</td>\n      <td>0</td>\n      <td>0</td>\n      <td>0</td>\n      <td>1</td>\n      <td>0</td>\n      <td>0</td>\n      <td>1</td>\n      <td>0</td>\n      <td>...</td>\n      <td>1</td>\n      <td>0</td>\n      <td>0</td>\n      <td>1</td>\n      <td>0</td>\n      <td>0</td>\n      <td>0</td>\n      <td>1</td>\n      <td>0</td>\n      <td>0</td>\n    </tr>\n    <tr>\n      <th>4</th>\n      <td>1</td>\n      <td>0</td>\n      <td>0</td>\n      <td>0</td>\n      <td>1</td>\n      <td>0</td>\n      <td>0</td>\n      <td>0</td>\n      <td>0</td>\n      <td>0</td>\n      <td>...</td>\n      <td>0</td>\n      <td>0</td>\n      <td>1</td>\n      <td>0</td>\n      <td>0</td>\n      <td>1</td>\n      <td>0</td>\n      <td>1</td>\n      <td>0</td>\n      <td>0</td>\n    </tr>\n    <tr>\n      <th>...</th>\n      <td>...</td>\n      <td>...</td>\n      <td>...</td>\n      <td>...</td>\n      <td>...</td>\n      <td>...</td>\n      <td>...</td>\n      <td>...</td>\n      <td>...</td>\n      <td>...</td>\n      <td>...</td>\n      <td>...</td>\n      <td>...</td>\n      <td>...</td>\n      <td>...</td>\n      <td>...</td>\n      <td>...</td>\n      <td>...</td>\n      <td>...</td>\n      <td>...</td>\n      <td>...</td>\n    </tr>\n    <tr>\n      <th>886</th>\n      <td>1</td>\n      <td>0</td>\n      <td>0</td>\n      <td>0</td>\n      <td>1</td>\n      <td>0</td>\n      <td>0</td>\n      <td>0</td>\n      <td>0</td>\n      <td>0</td>\n      <td>...</td>\n      <td>0</td>\n      <td>1</td>\n      <td>0</td>\n      <td>0</td>\n      <td>1</td>\n      <td>0</td>\n      <td>0</td>\n      <td>1</td>\n      <td>0</td>\n      <td>0</td>\n    </tr>\n    <tr>\n      <th>887</th>\n      <td>0</td>\n      <td>0</td>\n      <td>0</td>\n      <td>1</td>\n      <td>0</td>\n      <td>1</td>\n      <td>0</td>\n      <td>1</td>\n      <td>0</td>\n      <td>0</td>\n      <td>...</td>\n      <td>1</td>\n      <td>0</td>\n      <td>0</td>\n      <td>1</td>\n      <td>0</td>\n      <td>0</td>\n      <td>0</td>\n      <td>1</td>\n      <td>0</td>\n      <td>0</td>\n    </tr>\n    <tr>\n      <th>888</th>\n      <td>0</td>\n      <td>0</td>\n      <td>0</td>\n      <td>1</td>\n      <td>0</td>\n      <td>1</td>\n      <td>0</td>\n      <td>0</td>\n      <td>0</td>\n      <td>0</td>\n      <td>...</td>\n      <td>0</td>\n      <td>0</td>\n      <td>1</td>\n      <td>0</td>\n      <td>0</td>\n      <td>1</td>\n      <td>0</td>\n      <td>1</td>\n      <td>0</td>\n      <td>0</td>\n    </tr>\n    <tr>\n      <th>889</th>\n      <td>1</td>\n      <td>0</td>\n      <td>0</td>\n      <td>0</td>\n      <td>1</td>\n      <td>0</td>\n      <td>0</td>\n      <td>0</td>\n      <td>1</td>\n      <td>0</td>\n      <td>...</td>\n      <td>1</td>\n      <td>0</td>\n      <td>0</td>\n      <td>1</td>\n      <td>0</td>\n      <td>0</td>\n      <td>0</td>\n      <td>1</td>\n      <td>0</td>\n      <td>0</td>\n    </tr>\n    <tr>\n      <th>890</th>\n      <td>1</td>\n      <td>0</td>\n      <td>0</td>\n      <td>0</td>\n      <td>1</td>\n      <td>0</td>\n      <td>0</td>\n      <td>0</td>\n      <td>0</td>\n      <td>0</td>\n      <td>...</td>\n      <td>0</td>\n      <td>0</td>\n      <td>1</td>\n      <td>0</td>\n      <td>0</td>\n      <td>1</td>\n      <td>0</td>\n      <td>1</td>\n      <td>0</td>\n      <td>0</td>\n    </tr>\n  </tbody>\n</table>\n<p>891 rows × 24 columns</p>\n</div>"
     },
     "metadata": {},
     "execution_count": 112
    }
   ],
   "source": [
    "x_train"
   ]
  },
  {
   "cell_type": "code",
   "execution_count": 113,
   "metadata": {},
   "outputs": [
    {
     "output_type": "execute_result",
     "data": {
      "text/plain": [
       "     isMr  isMrs  isMaster  isMiss  isMan  isWoman  Cabin_A  Cabin_B  Cabin_C  \\\n",
       "0       1      0         0       0      1        0        0        0        0   \n",
       "1       0      1         0       0      0        1        0        0        0   \n",
       "2       1      0         0       0      1        0        0        0        0   \n",
       "3       1      0         0       0      1        0        0        0        0   \n",
       "4       0      1         0       0      0        1        0        0        0   \n",
       "..    ...    ...       ...     ...    ...      ...      ...      ...      ...   \n",
       "413     1      0         0       0      1        0        0        0        0   \n",
       "414     0      1         0       0      0        1        0        0        1   \n",
       "415     1      0         0       0      1        0        0        0        0   \n",
       "416     1      0         0       0      1        0        0        0        0   \n",
       "417     0      0         1       0      1        0        0        0        0   \n",
       "\n",
       "     Cabin_D  ...  Pclass_1  Pclass_2  Pclass_3  isFirst  isBusiness  \\\n",
       "0          0  ...         0         0         1        0           0   \n",
       "1          0  ...         0         0         1        0           0   \n",
       "2          0  ...         0         1         0        0           1   \n",
       "3          0  ...         0         0         1        0           0   \n",
       "4          0  ...         0         0         1        0           0   \n",
       "..       ...  ...       ...       ...       ...      ...         ...   \n",
       "413        0  ...         0         0         1        0           0   \n",
       "414        0  ...         1         0         0        1           0   \n",
       "415        0  ...         0         0         1        0           0   \n",
       "416        0  ...         0         0         1        0           0   \n",
       "417        0  ...         0         0         1        0           0   \n",
       "\n",
       "     isEconomy  isYoung  isyouth  isMiddleAge  isOldAge  \n",
       "0            1        0        1            0         0  \n",
       "1            1        0        0            1         0  \n",
       "2            0        0        0            0         1  \n",
       "3            1        0        1            0         0  \n",
       "4            1        0        1            0         0  \n",
       "..         ...      ...      ...          ...       ...  \n",
       "413          1        0        1            0         0  \n",
       "414          0        0        0            1         0  \n",
       "415          1        0        1            0         0  \n",
       "416          1        0        1            0         0  \n",
       "417          1        0        1            0         0  \n",
       "\n",
       "[418 rows x 24 columns]"
      ],
      "text/html": "<div>\n<style scoped>\n    .dataframe tbody tr th:only-of-type {\n        vertical-align: middle;\n    }\n\n    .dataframe tbody tr th {\n        vertical-align: top;\n    }\n\n    .dataframe thead th {\n        text-align: right;\n    }\n</style>\n<table border=\"1\" class=\"dataframe\">\n  <thead>\n    <tr style=\"text-align: right;\">\n      <th></th>\n      <th>isMr</th>\n      <th>isMrs</th>\n      <th>isMaster</th>\n      <th>isMiss</th>\n      <th>isMan</th>\n      <th>isWoman</th>\n      <th>Cabin_A</th>\n      <th>Cabin_B</th>\n      <th>Cabin_C</th>\n      <th>Cabin_D</th>\n      <th>...</th>\n      <th>Pclass_1</th>\n      <th>Pclass_2</th>\n      <th>Pclass_3</th>\n      <th>isFirst</th>\n      <th>isBusiness</th>\n      <th>isEconomy</th>\n      <th>isYoung</th>\n      <th>isyouth</th>\n      <th>isMiddleAge</th>\n      <th>isOldAge</th>\n    </tr>\n  </thead>\n  <tbody>\n    <tr>\n      <th>0</th>\n      <td>1</td>\n      <td>0</td>\n      <td>0</td>\n      <td>0</td>\n      <td>1</td>\n      <td>0</td>\n      <td>0</td>\n      <td>0</td>\n      <td>0</td>\n      <td>0</td>\n      <td>...</td>\n      <td>0</td>\n      <td>0</td>\n      <td>1</td>\n      <td>0</td>\n      <td>0</td>\n      <td>1</td>\n      <td>0</td>\n      <td>1</td>\n      <td>0</td>\n      <td>0</td>\n    </tr>\n    <tr>\n      <th>1</th>\n      <td>0</td>\n      <td>1</td>\n      <td>0</td>\n      <td>0</td>\n      <td>0</td>\n      <td>1</td>\n      <td>0</td>\n      <td>0</td>\n      <td>0</td>\n      <td>0</td>\n      <td>...</td>\n      <td>0</td>\n      <td>0</td>\n      <td>1</td>\n      <td>0</td>\n      <td>0</td>\n      <td>1</td>\n      <td>0</td>\n      <td>0</td>\n      <td>1</td>\n      <td>0</td>\n    </tr>\n    <tr>\n      <th>2</th>\n      <td>1</td>\n      <td>0</td>\n      <td>0</td>\n      <td>0</td>\n      <td>1</td>\n      <td>0</td>\n      <td>0</td>\n      <td>0</td>\n      <td>0</td>\n      <td>0</td>\n      <td>...</td>\n      <td>0</td>\n      <td>1</td>\n      <td>0</td>\n      <td>0</td>\n      <td>1</td>\n      <td>0</td>\n      <td>0</td>\n      <td>0</td>\n      <td>0</td>\n      <td>1</td>\n    </tr>\n    <tr>\n      <th>3</th>\n      <td>1</td>\n      <td>0</td>\n      <td>0</td>\n      <td>0</td>\n      <td>1</td>\n      <td>0</td>\n      <td>0</td>\n      <td>0</td>\n      <td>0</td>\n      <td>0</td>\n      <td>...</td>\n      <td>0</td>\n      <td>0</td>\n      <td>1</td>\n      <td>0</td>\n      <td>0</td>\n      <td>1</td>\n      <td>0</td>\n      <td>1</td>\n      <td>0</td>\n      <td>0</td>\n    </tr>\n    <tr>\n      <th>4</th>\n      <td>0</td>\n      <td>1</td>\n      <td>0</td>\n      <td>0</td>\n      <td>0</td>\n      <td>1</td>\n      <td>0</td>\n      <td>0</td>\n      <td>0</td>\n      <td>0</td>\n      <td>...</td>\n      <td>0</td>\n      <td>0</td>\n      <td>1</td>\n      <td>0</td>\n      <td>0</td>\n      <td>1</td>\n      <td>0</td>\n      <td>1</td>\n      <td>0</td>\n      <td>0</td>\n    </tr>\n    <tr>\n      <th>...</th>\n      <td>...</td>\n      <td>...</td>\n      <td>...</td>\n      <td>...</td>\n      <td>...</td>\n      <td>...</td>\n      <td>...</td>\n      <td>...</td>\n      <td>...</td>\n      <td>...</td>\n      <td>...</td>\n      <td>...</td>\n      <td>...</td>\n      <td>...</td>\n      <td>...</td>\n      <td>...</td>\n      <td>...</td>\n      <td>...</td>\n      <td>...</td>\n      <td>...</td>\n      <td>...</td>\n    </tr>\n    <tr>\n      <th>413</th>\n      <td>1</td>\n      <td>0</td>\n      <td>0</td>\n      <td>0</td>\n      <td>1</td>\n      <td>0</td>\n      <td>0</td>\n      <td>0</td>\n      <td>0</td>\n      <td>0</td>\n      <td>...</td>\n      <td>0</td>\n      <td>0</td>\n      <td>1</td>\n      <td>0</td>\n      <td>0</td>\n      <td>1</td>\n      <td>0</td>\n      <td>1</td>\n      <td>0</td>\n      <td>0</td>\n    </tr>\n    <tr>\n      <th>414</th>\n      <td>0</td>\n      <td>1</td>\n      <td>0</td>\n      <td>0</td>\n      <td>0</td>\n      <td>1</td>\n      <td>0</td>\n      <td>0</td>\n      <td>1</td>\n      <td>0</td>\n      <td>...</td>\n      <td>1</td>\n      <td>0</td>\n      <td>0</td>\n      <td>1</td>\n      <td>0</td>\n      <td>0</td>\n      <td>0</td>\n      <td>0</td>\n      <td>1</td>\n      <td>0</td>\n    </tr>\n    <tr>\n      <th>415</th>\n      <td>1</td>\n      <td>0</td>\n      <td>0</td>\n      <td>0</td>\n      <td>1</td>\n      <td>0</td>\n      <td>0</td>\n      <td>0</td>\n      <td>0</td>\n      <td>0</td>\n      <td>...</td>\n      <td>0</td>\n      <td>0</td>\n      <td>1</td>\n      <td>0</td>\n      <td>0</td>\n      <td>1</td>\n      <td>0</td>\n      <td>1</td>\n      <td>0</td>\n      <td>0</td>\n    </tr>\n    <tr>\n      <th>416</th>\n      <td>1</td>\n      <td>0</td>\n      <td>0</td>\n      <td>0</td>\n      <td>1</td>\n      <td>0</td>\n      <td>0</td>\n      <td>0</td>\n      <td>0</td>\n      <td>0</td>\n      <td>...</td>\n      <td>0</td>\n      <td>0</td>\n      <td>1</td>\n      <td>0</td>\n      <td>0</td>\n      <td>1</td>\n      <td>0</td>\n      <td>1</td>\n      <td>0</td>\n      <td>0</td>\n    </tr>\n    <tr>\n      <th>417</th>\n      <td>0</td>\n      <td>0</td>\n      <td>1</td>\n      <td>0</td>\n      <td>1</td>\n      <td>0</td>\n      <td>0</td>\n      <td>0</td>\n      <td>0</td>\n      <td>0</td>\n      <td>...</td>\n      <td>0</td>\n      <td>0</td>\n      <td>1</td>\n      <td>0</td>\n      <td>0</td>\n      <td>1</td>\n      <td>0</td>\n      <td>1</td>\n      <td>0</td>\n      <td>0</td>\n    </tr>\n  </tbody>\n</table>\n<p>418 rows × 24 columns</p>\n</div>"
     },
     "metadata": {},
     "execution_count": 113
    }
   ],
   "source": [
    "test"
   ]
  },
  {
   "cell_type": "code",
   "execution_count": 114,
   "metadata": {},
   "outputs": [
    {
     "output_type": "execute_result",
     "data": {
      "text/plain": [
       "0      0\n",
       "1      1\n",
       "2      1\n",
       "3      1\n",
       "4      0\n",
       "      ..\n",
       "886    0\n",
       "887    1\n",
       "888    0\n",
       "889    1\n",
       "890    0\n",
       "Name: Survived, Length: 891, dtype: int64"
      ]
     },
     "metadata": {},
     "execution_count": 114
    }
   ],
   "source": [
    "y"
   ]
  },
  {
   "source": [
    "## 넘파이 배열로 만들기\n",
    "텐서플로우를 이용해 모델을 만들거다. 텐서플로우는 넘파이를 선호하므로 입력값을 넘파이 배열로 만들어주자"
   ],
   "cell_type": "markdown",
   "metadata": {}
  },
  {
   "cell_type": "code",
   "execution_count": 115,
   "metadata": {},
   "outputs": [],
   "source": [
    "x_train_np = np.array(x_train)\n",
    "y_np = np.array(y)\n",
    "x_test_np = np.array(test)"
   ]
  },
  {
   "cell_type": "code",
   "execution_count": 116,
   "metadata": {},
   "outputs": [
    {
     "output_type": "execute_result",
     "data": {
      "text/plain": [
       "(891, 24)"
      ]
     },
     "metadata": {},
     "execution_count": 116
    }
   ],
   "source": [
    "x_train_np.shape"
   ]
  },
  {
   "source": [
    "# 5. 모델 생성\n",
    "<br>\n",
    "이제 텐서플로우로 모델을 만들자"
   ],
   "cell_type": "markdown",
   "metadata": {}
  },
  {
   "cell_type": "code",
   "execution_count": 175,
   "metadata": {},
   "outputs": [],
   "source": [
    "# 에포크랑 배치 사이즈를 지정한다. \n",
    "EPOCH = 200\n",
    "BATCH_SIZE = 891 # 배치 사이즈 = 데이터 크기\n",
    "\n",
    "# 최적의 모델만 저장하는 함수를 매번 에포크를 끝낼 때마다 호출한다. 콜백 함수로 지정한다. \n",
    "filename = 'checkpoint-epoch-{}-batch-{}-trial-001.h5'.format(EPOCH, BATCH_SIZE)\n",
    "checkpoint = ModelCheckpoint(filename,             # 파일 이름\n",
    "                             monitor='val_loss',   # val_loss 값이 개선되면 개선 모델을 filename으로 저장\n",
    "                             verbose=1,            # 로그 출력\n",
    "                             save_best_only=True,  # 가장 최고의 val_loss를 보이는 모델만 저장\n",
    "                             mode='auto'           # auto 모드. 자동으로 최고의 모델을 찾는다\n",
    "                            )\n",
    "# 모델을 만든다. \n",
    "model = tf.keras.Sequential()\n",
    "\n",
    "model.add(tf.keras.layers.Dense(512, activation='relu', input_shape = x_train_np[0].shape))\n",
    "model.add(tf.keras.layers.Dropout(0.3))\n",
    "model.add(Dense(256, activation='relu'))\n",
    "model.add(tf.keras.layers.Dropout(0.3))\n",
    "model.add(Dense(128, activation='relu'))\n",
    "model.add(tf.keras.layers.Dropout(0.3))\n",
    "model.add(Dense(64, activation='relu'))\n",
    "model.add(tf.keras.layers.Dropout(0.3))\n",
    "model.add(Dense(32, activation='relu'))\n",
    "model.add(tf.keras.layers.Dropout(0.3))\n",
    "model.add(Dense(16, activation='relu'))\n",
    "model.add(tf.keras.layers.Dropout(0.3))\n",
    "model.add(Dense(1, activation='sigmoid')) # 이진 분류 모델이기 때문에 sigmoid 활성화 함수를 사용한다."
   ]
  },
  {
   "source": [
    "## 컴파일 설정\n",
    "모델을 만들었다. 이제 컴파일 방식을 지정하자. 최적화 방식, 손실 함수, 훈련 과정 저장 양식을 지정할 수 있다. \n",
    "<br>\n",
    "훈련을 시행하며 가장 검증 손실이 낮은 모델을 찾기 위해 훈련률(lr)을 수정한다. "
   ],
   "cell_type": "markdown",
   "metadata": {}
  },
  {
   "cell_type": "code",
   "execution_count": 176,
   "metadata": {},
   "outputs": [],
   "source": [
    "# 컴파일(학습 방법 지정)\n",
    "from tensorflow.keras.optimizers import RMSprop\n",
    "\n",
    "model.compile(optimizer=RMSprop(lr=1e-3), loss='binary_crossentropy', metrics = ['accuracy'])"
   ]
  },
  {
   "cell_type": "code",
   "execution_count": 177,
   "metadata": {},
   "outputs": [
    {
     "output_type": "stream",
     "name": "stdout",
     "text": [
      "Model: \"sequential_5\"\n_________________________________________________________________\nLayer (type)                 Output Shape              Param #   \n=================================================================\ndense_30 (Dense)             (None, 512)               12800     \n_________________________________________________________________\ndropout_25 (Dropout)         (None, 512)               0         \n_________________________________________________________________\ndense_31 (Dense)             (None, 256)               131328    \n_________________________________________________________________\ndropout_26 (Dropout)         (None, 256)               0         \n_________________________________________________________________\ndense_32 (Dense)             (None, 128)               32896     \n_________________________________________________________________\ndropout_27 (Dropout)         (None, 128)               0         \n_________________________________________________________________\ndense_33 (Dense)             (None, 64)                8256      \n_________________________________________________________________\ndropout_28 (Dropout)         (None, 64)                0         \n_________________________________________________________________\ndense_34 (Dense)             (None, 32)                2080      \n_________________________________________________________________\ndropout_29 (Dropout)         (None, 32)                0         \n_________________________________________________________________\ndense_35 (Dense)             (None, 16)                528       \n_________________________________________________________________\ndropout_30 (Dropout)         (None, 16)                0         \n_________________________________________________________________\ndense_36 (Dense)             (None, 1)                 17        \n=================================================================\nTotal params: 187,905\nTrainable params: 187,905\nNon-trainable params: 0\n_________________________________________________________________\n"
     ]
    }
   ],
   "source": [
    "model.summary() # 모델의 간략 정보 출력."
   ]
  },
  {
   "source": [
    "## 훈련\n",
    "<br>\n",
    "모델을 훈련시키자. 훈련 기록을 history에 저장한다."
   ],
   "cell_type": "markdown",
   "metadata": {}
  },
  {
   "cell_type": "code",
   "execution_count": 178,
   "metadata": {
    "tags": [
     "outputPrepend"
    ]
   },
   "outputs": [
    {
     "output_type": "stream",
     "name": "stdout",
     "text": [
      "mprove from 0.34152\n",
      "Epoch 98/200\n",
      "1/1 [==============================] - 0s 60ms/step - loss: 0.4120 - accuracy: 0.8385 - val_loss: 0.3718 - val_accuracy: 0.8659\n",
      "\n",
      "Epoch 00098: val_loss did not improve from 0.34152\n",
      "Epoch 99/200\n",
      "1/1 [==============================] - 0s 55ms/step - loss: 0.4226 - accuracy: 0.8357 - val_loss: 0.3949 - val_accuracy: 0.8771\n",
      "\n",
      "Epoch 00099: val_loss did not improve from 0.34152\n",
      "Epoch 100/200\n",
      "1/1 [==============================] - 0s 58ms/step - loss: 0.3977 - accuracy: 0.8441 - val_loss: 0.3759 - val_accuracy: 0.8659\n",
      "\n",
      "Epoch 00100: val_loss did not improve from 0.34152\n",
      "Epoch 101/200\n",
      "1/1 [==============================] - 0s 57ms/step - loss: 0.4031 - accuracy: 0.8371 - val_loss: 0.3936 - val_accuracy: 0.8603\n",
      "\n",
      "Epoch 00101: val_loss did not improve from 0.34152\n",
      "Epoch 102/200\n",
      "1/1 [==============================] - 0s 55ms/step - loss: 0.3993 - accuracy: 0.8385 - val_loss: 0.3769 - val_accuracy: 0.8659\n",
      "\n",
      "Epoch 00102: val_loss did not improve from 0.34152\n",
      "Epoch 103/200\n",
      "1/1 [==============================] - 0s 65ms/step - loss: 0.4059 - accuracy: 0.8511 - val_loss: 0.4055 - val_accuracy: 0.8659\n",
      "\n",
      "Epoch 00103: val_loss did not improve from 0.34152\n",
      "Epoch 104/200\n",
      "1/1 [==============================] - 0s 58ms/step - loss: 0.4014 - accuracy: 0.8413 - val_loss: 0.3878 - val_accuracy: 0.8659\n",
      "\n",
      "Epoch 00104: val_loss did not improve from 0.34152\n",
      "Epoch 105/200\n",
      "1/1 [==============================] - 0s 56ms/step - loss: 0.3965 - accuracy: 0.8343 - val_loss: 0.4010 - val_accuracy: 0.8603\n",
      "\n",
      "Epoch 00105: val_loss did not improve from 0.34152\n",
      "Epoch 106/200\n",
      "1/1 [==============================] - 0s 55ms/step - loss: 0.4023 - accuracy: 0.8371 - val_loss: 0.4090 - val_accuracy: 0.8603\n",
      "\n",
      "Epoch 00106: val_loss did not improve from 0.34152\n",
      "Epoch 107/200\n",
      "1/1 [==============================] - 0s 55ms/step - loss: 0.3834 - accuracy: 0.8413 - val_loss: 0.3983 - val_accuracy: 0.8659\n",
      "\n",
      "Epoch 00107: val_loss did not improve from 0.34152\n",
      "Epoch 108/200\n",
      "1/1 [==============================] - 0s 77ms/step - loss: 0.3719 - accuracy: 0.8511 - val_loss: 0.4088 - val_accuracy: 0.8603\n",
      "\n",
      "Epoch 00108: val_loss did not improve from 0.34152\n",
      "Epoch 109/200\n",
      "1/1 [==============================] - 0s 56ms/step - loss: 0.3772 - accuracy: 0.8483 - val_loss: 0.3941 - val_accuracy: 0.8603\n",
      "\n",
      "Epoch 00109: val_loss did not improve from 0.34152\n",
      "Epoch 110/200\n",
      "1/1 [==============================] - 0s 56ms/step - loss: 0.4031 - accuracy: 0.8287 - val_loss: 0.4062 - val_accuracy: 0.8659\n",
      "\n",
      "Epoch 00110: val_loss did not improve from 0.34152\n",
      "Epoch 111/200\n",
      "1/1 [==============================] - 0s 56ms/step - loss: 0.3807 - accuracy: 0.8441 - val_loss: 0.4033 - val_accuracy: 0.8659\n",
      "\n",
      "Epoch 00111: val_loss did not improve from 0.34152\n",
      "Epoch 112/200\n",
      "1/1 [==============================] - 0s 56ms/step - loss: 0.3882 - accuracy: 0.8357 - val_loss: 0.3932 - val_accuracy: 0.8659\n",
      "\n",
      "Epoch 00112: val_loss did not improve from 0.34152\n",
      "Epoch 113/200\n",
      "1/1 [==============================] - 0s 53ms/step - loss: 0.3959 - accuracy: 0.8427 - val_loss: 0.4183 - val_accuracy: 0.8659\n",
      "\n",
      "Epoch 00113: val_loss did not improve from 0.34152\n",
      "Epoch 114/200\n",
      "1/1 [==============================] - 0s 55ms/step - loss: 0.4052 - accuracy: 0.8385 - val_loss: 0.3881 - val_accuracy: 0.8603\n",
      "\n",
      "Epoch 00114: val_loss did not improve from 0.34152\n",
      "Epoch 115/200\n",
      "1/1 [==============================] - 0s 57ms/step - loss: 0.3892 - accuracy: 0.8371 - val_loss: 0.4144 - val_accuracy: 0.8603\n",
      "\n",
      "Epoch 00115: val_loss did not improve from 0.34152\n",
      "Epoch 116/200\n",
      "1/1 [==============================] - 0s 56ms/step - loss: 0.3743 - accuracy: 0.8413 - val_loss: 0.3901 - val_accuracy: 0.8659\n",
      "\n",
      "Epoch 00116: val_loss did not improve from 0.34152\n",
      "Epoch 117/200\n",
      "1/1 [==============================] - 0s 54ms/step - loss: 0.3949 - accuracy: 0.8357 - val_loss: 0.4042 - val_accuracy: 0.8659\n",
      "\n",
      "Epoch 00117: val_loss did not improve from 0.34152\n",
      "Epoch 118/200\n",
      "1/1 [==============================] - 0s 58ms/step - loss: 0.4054 - accuracy: 0.8441 - val_loss: 0.4038 - val_accuracy: 0.8659\n",
      "\n",
      "Epoch 00118: val_loss did not improve from 0.34152\n",
      "Epoch 119/200\n",
      "1/1 [==============================] - 0s 56ms/step - loss: 0.3887 - accuracy: 0.8399 - val_loss: 0.3976 - val_accuracy: 0.8659\n",
      "\n",
      "Epoch 00119: val_loss did not improve from 0.34152\n",
      "Epoch 120/200\n",
      "1/1 [==============================] - 0s 59ms/step - loss: 0.3730 - accuracy: 0.8469 - val_loss: 0.4067 - val_accuracy: 0.8603\n",
      "\n",
      "Epoch 00120: val_loss did not improve from 0.34152\n",
      "Epoch 121/200\n",
      "1/1 [==============================] - 0s 56ms/step - loss: 0.3880 - accuracy: 0.8385 - val_loss: 0.3983 - val_accuracy: 0.8659\n",
      "\n",
      "Epoch 00121: val_loss did not improve from 0.34152\n",
      "Epoch 122/200\n",
      "1/1 [==============================] - 0s 60ms/step - loss: 0.3875 - accuracy: 0.8497 - val_loss: 0.4100 - val_accuracy: 0.8603\n",
      "\n",
      "Epoch 00122: val_loss did not improve from 0.34152\n",
      "Epoch 123/200\n",
      "1/1 [==============================] - 0s 63ms/step - loss: 0.3676 - accuracy: 0.8371 - val_loss: 0.4037 - val_accuracy: 0.8659\n",
      "\n",
      "Epoch 00123: val_loss did not improve from 0.34152\n",
      "Epoch 124/200\n",
      "1/1 [==============================] - 0s 77ms/step - loss: 0.3884 - accuracy: 0.8483 - val_loss: 0.4080 - val_accuracy: 0.8659\n",
      "\n",
      "Epoch 00124: val_loss did not improve from 0.34152\n",
      "Epoch 125/200\n",
      "1/1 [==============================] - 0s 73ms/step - loss: 0.3979 - accuracy: 0.8413 - val_loss: 0.3956 - val_accuracy: 0.8659\n",
      "\n",
      "Epoch 00125: val_loss did not improve from 0.34152\n",
      "Epoch 126/200\n",
      "1/1 [==============================] - 0s 62ms/step - loss: 0.4123 - accuracy: 0.8455 - val_loss: 0.4094 - val_accuracy: 0.8659\n",
      "\n",
      "Epoch 00126: val_loss did not improve from 0.34152\n",
      "Epoch 127/200\n",
      "1/1 [==============================] - 0s 60ms/step - loss: 0.3971 - accuracy: 0.8483 - val_loss: 0.3987 - val_accuracy: 0.8659\n",
      "\n",
      "Epoch 00127: val_loss did not improve from 0.34152\n",
      "Epoch 128/200\n",
      "1/1 [==============================] - 0s 56ms/step - loss: 0.3919 - accuracy: 0.8497 - val_loss: 0.4171 - val_accuracy: 0.8603\n",
      "\n",
      "Epoch 00128: val_loss did not improve from 0.34152\n",
      "Epoch 129/200\n",
      "1/1 [==============================] - 0s 60ms/step - loss: 0.3848 - accuracy: 0.8315 - val_loss: 0.4063 - val_accuracy: 0.8659\n",
      "\n",
      "Epoch 00129: val_loss did not improve from 0.34152\n",
      "Epoch 130/200\n",
      "1/1 [==============================] - 0s 63ms/step - loss: 0.3938 - accuracy: 0.8329 - val_loss: 0.3969 - val_accuracy: 0.8659\n",
      "\n",
      "Epoch 00130: val_loss did not improve from 0.34152\n",
      "Epoch 131/200\n",
      "1/1 [==============================] - 0s 64ms/step - loss: 0.3945 - accuracy: 0.8371 - val_loss: 0.4164 - val_accuracy: 0.8771\n",
      "\n",
      "Epoch 00131: val_loss did not improve from 0.34152\n",
      "Epoch 132/200\n",
      "1/1 [==============================] - 0s 63ms/step - loss: 0.3929 - accuracy: 0.8413 - val_loss: 0.3902 - val_accuracy: 0.8715\n",
      "\n",
      "Epoch 00132: val_loss did not improve from 0.34152\n",
      "Epoch 133/200\n",
      "1/1 [==============================] - 0s 66ms/step - loss: 0.3831 - accuracy: 0.8343 - val_loss: 0.4150 - val_accuracy: 0.8659\n",
      "\n",
      "Epoch 00133: val_loss did not improve from 0.34152\n",
      "Epoch 134/200\n",
      "1/1 [==============================] - 0s 60ms/step - loss: 0.3916 - accuracy: 0.8469 - val_loss: 0.3987 - val_accuracy: 0.8659\n",
      "\n",
      "Epoch 00134: val_loss did not improve from 0.34152\n",
      "Epoch 135/200\n",
      "1/1 [==============================] - 0s 60ms/step - loss: 0.3885 - accuracy: 0.8413 - val_loss: 0.4165 - val_accuracy: 0.8659\n",
      "\n",
      "Epoch 00135: val_loss did not improve from 0.34152\n",
      "Epoch 136/200\n",
      "1/1 [==============================] - 0s 60ms/step - loss: 0.3832 - accuracy: 0.8413 - val_loss: 0.4101 - val_accuracy: 0.8659\n",
      "\n",
      "Epoch 00136: val_loss did not improve from 0.34152\n",
      "Epoch 137/200\n",
      "1/1 [==============================] - 0s 62ms/step - loss: 0.3772 - accuracy: 0.8455 - val_loss: 0.4118 - val_accuracy: 0.8659\n",
      "\n",
      "Epoch 00137: val_loss did not improve from 0.34152\n",
      "Epoch 138/200\n",
      "1/1 [==============================] - 0s 66ms/step - loss: 0.3989 - accuracy: 0.8441 - val_loss: 0.4217 - val_accuracy: 0.8659\n",
      "\n",
      "Epoch 00138: val_loss did not improve from 0.34152\n",
      "Epoch 139/200\n",
      "1/1 [==============================] - 0s 59ms/step - loss: 0.3891 - accuracy: 0.8371 - val_loss: 0.4195 - val_accuracy: 0.8659\n",
      "\n",
      "Epoch 00139: val_loss did not improve from 0.34152\n",
      "Epoch 140/200\n",
      "1/1 [==============================] - 0s 68ms/step - loss: 0.3853 - accuracy: 0.8399 - val_loss: 0.4138 - val_accuracy: 0.8659\n",
      "\n",
      "Epoch 00140: val_loss did not improve from 0.34152\n",
      "Epoch 141/200\n",
      "1/1 [==============================] - 0s 54ms/step - loss: 0.3960 - accuracy: 0.8455 - val_loss: 0.3998 - val_accuracy: 0.8715\n",
      "\n",
      "Epoch 00141: val_loss did not improve from 0.34152\n",
      "Epoch 142/200\n",
      "1/1 [==============================] - 0s 57ms/step - loss: 0.3905 - accuracy: 0.8315 - val_loss: 0.4260 - val_accuracy: 0.8771\n",
      "\n",
      "Epoch 00142: val_loss did not improve from 0.34152\n",
      "Epoch 143/200\n",
      "1/1 [==============================] - 0s 56ms/step - loss: 0.3870 - accuracy: 0.8385 - val_loss: 0.4122 - val_accuracy: 0.8659\n",
      "\n",
      "Epoch 00143: val_loss did not improve from 0.34152\n",
      "Epoch 144/200\n",
      "1/1 [==============================] - 0s 57ms/step - loss: 0.3900 - accuracy: 0.8455 - val_loss: 0.4214 - val_accuracy: 0.8659\n",
      "\n",
      "Epoch 00144: val_loss did not improve from 0.34152\n",
      "Epoch 145/200\n",
      "1/1 [==============================] - 0s 58ms/step - loss: 0.3772 - accuracy: 0.8525 - val_loss: 0.4329 - val_accuracy: 0.8771\n",
      "\n",
      "Epoch 00145: val_loss did not improve from 0.34152\n",
      "Epoch 146/200\n",
      "1/1 [==============================] - 0s 55ms/step - loss: 0.3920 - accuracy: 0.8427 - val_loss: 0.4183 - val_accuracy: 0.8603\n",
      "\n",
      "Epoch 00146: val_loss did not improve from 0.34152\n",
      "Epoch 147/200\n",
      "1/1 [==============================] - 0s 57ms/step - loss: 0.3856 - accuracy: 0.8329 - val_loss: 0.4507 - val_accuracy: 0.8603\n",
      "\n",
      "Epoch 00147: val_loss did not improve from 0.34152\n",
      "Epoch 148/200\n",
      "1/1 [==============================] - 0s 59ms/step - loss: 0.3973 - accuracy: 0.8399 - val_loss: 0.4110 - val_accuracy: 0.8659\n",
      "\n",
      "Epoch 00148: val_loss did not improve from 0.34152\n",
      "Epoch 149/200\n",
      "1/1 [==============================] - 0s 59ms/step - loss: 0.3921 - accuracy: 0.8399 - val_loss: 0.4342 - val_accuracy: 0.8659\n",
      "\n",
      "Epoch 00149: val_loss did not improve from 0.34152\n",
      "Epoch 150/200\n",
      "1/1 [==============================] - 0s 58ms/step - loss: 0.3851 - accuracy: 0.8357 - val_loss: 0.4129 - val_accuracy: 0.8715\n",
      "\n",
      "Epoch 00150: val_loss did not improve from 0.34152\n",
      "Epoch 151/200\n",
      "1/1 [==============================] - 0s 57ms/step - loss: 0.3850 - accuracy: 0.8329 - val_loss: 0.4386 - val_accuracy: 0.8771\n",
      "\n",
      "Epoch 00151: val_loss did not improve from 0.34152\n",
      "Epoch 152/200\n",
      "1/1 [==============================] - 0s 61ms/step - loss: 0.3866 - accuracy: 0.8399 - val_loss: 0.4112 - val_accuracy: 0.8715\n",
      "\n",
      "Epoch 00152: val_loss did not improve from 0.34152\n",
      "Epoch 153/200\n",
      "1/1 [==============================] - 0s 55ms/step - loss: 0.3874 - accuracy: 0.8343 - val_loss: 0.4328 - val_accuracy: 0.8659\n",
      "\n",
      "Epoch 00153: val_loss did not improve from 0.34152\n",
      "Epoch 154/200\n",
      "1/1 [==============================] - 0s 59ms/step - loss: 0.3940 - accuracy: 0.8469 - val_loss: 0.4178 - val_accuracy: 0.8715\n",
      "\n",
      "Epoch 00154: val_loss did not improve from 0.34152\n",
      "Epoch 155/200\n",
      "1/1 [==============================] - 0s 56ms/step - loss: 0.3920 - accuracy: 0.8357 - val_loss: 0.4156 - val_accuracy: 0.8715\n",
      "\n",
      "Epoch 00155: val_loss did not improve from 0.34152\n",
      "Epoch 156/200\n",
      "1/1 [==============================] - 0s 55ms/step - loss: 0.3857 - accuracy: 0.8413 - val_loss: 0.4169 - val_accuracy: 0.8715\n",
      "\n",
      "Epoch 00156: val_loss did not improve from 0.34152\n",
      "Epoch 157/200\n",
      "1/1 [==============================] - 0s 56ms/step - loss: 0.3922 - accuracy: 0.8385 - val_loss: 0.4369 - val_accuracy: 0.8771\n",
      "\n",
      "Epoch 00157: val_loss did not improve from 0.34152\n",
      "Epoch 158/200\n",
      "1/1 [==============================] - 0s 59ms/step - loss: 0.3997 - accuracy: 0.8329 - val_loss: 0.4039 - val_accuracy: 0.8715\n",
      "\n",
      "Epoch 00158: val_loss did not improve from 0.34152\n",
      "Epoch 159/200\n",
      "1/1 [==============================] - 0s 54ms/step - loss: 0.3975 - accuracy: 0.8287 - val_loss: 0.4392 - val_accuracy: 0.8771\n",
      "\n",
      "Epoch 00159: val_loss did not improve from 0.34152\n",
      "Epoch 160/200\n",
      "1/1 [==============================] - 0s 54ms/step - loss: 0.3896 - accuracy: 0.8399 - val_loss: 0.4023 - val_accuracy: 0.8715\n",
      "\n",
      "Epoch 00160: val_loss did not improve from 0.34152\n",
      "Epoch 161/200\n",
      "1/1 [==============================] - 0s 56ms/step - loss: 0.4010 - accuracy: 0.8469 - val_loss: 0.4309 - val_accuracy: 0.8827\n",
      "\n",
      "Epoch 00161: val_loss did not improve from 0.34152\n",
      "Epoch 162/200\n",
      "1/1 [==============================] - 0s 55ms/step - loss: 0.3886 - accuracy: 0.8483 - val_loss: 0.4243 - val_accuracy: 0.8715\n",
      "\n",
      "Epoch 00162: val_loss did not improve from 0.34152\n",
      "Epoch 163/200\n",
      "1/1 [==============================] - 0s 56ms/step - loss: 0.3848 - accuracy: 0.8483 - val_loss: 0.4220 - val_accuracy: 0.8715\n",
      "\n",
      "Epoch 00163: val_loss did not improve from 0.34152\n",
      "Epoch 164/200\n",
      "1/1 [==============================] - 0s 57ms/step - loss: 0.3742 - accuracy: 0.8483 - val_loss: 0.4331 - val_accuracy: 0.8771\n",
      "\n",
      "Epoch 00164: val_loss did not improve from 0.34152\n",
      "Epoch 165/200\n",
      "1/1 [==============================] - 0s 54ms/step - loss: 0.3744 - accuracy: 0.8441 - val_loss: 0.4473 - val_accuracy: 0.8771\n",
      "\n",
      "Epoch 00165: val_loss did not improve from 0.34152\n",
      "Epoch 166/200\n",
      "1/1 [==============================] - 0s 57ms/step - loss: 0.3716 - accuracy: 0.8497 - val_loss: 0.4613 - val_accuracy: 0.8715\n",
      "\n",
      "Epoch 00166: val_loss did not improve from 0.34152\n",
      "Epoch 167/200\n",
      "1/1 [==============================] - 0s 57ms/step - loss: 0.3875 - accuracy: 0.8343 - val_loss: 0.4208 - val_accuracy: 0.8659\n",
      "\n",
      "Epoch 00167: val_loss did not improve from 0.34152\n",
      "Epoch 168/200\n",
      "1/1 [==============================] - 0s 53ms/step - loss: 0.3804 - accuracy: 0.8497 - val_loss: 0.4424 - val_accuracy: 0.8771\n",
      "\n",
      "Epoch 00168: val_loss did not improve from 0.34152\n",
      "Epoch 169/200\n",
      "1/1 [==============================] - 0s 60ms/step - loss: 0.3568 - accuracy: 0.8497 - val_loss: 0.4514 - val_accuracy: 0.8771\n",
      "\n",
      "Epoch 00169: val_loss did not improve from 0.34152\n",
      "Epoch 170/200\n",
      "1/1 [==============================] - 0s 56ms/step - loss: 0.3742 - accuracy: 0.8483 - val_loss: 0.4320 - val_accuracy: 0.8659\n",
      "\n",
      "Epoch 00170: val_loss did not improve from 0.34152\n",
      "Epoch 171/200\n",
      "1/1 [==============================] - 0s 55ms/step - loss: 0.3675 - accuracy: 0.8455 - val_loss: 0.4476 - val_accuracy: 0.8659\n",
      "\n",
      "Epoch 00171: val_loss did not improve from 0.34152\n",
      "Epoch 172/200\n",
      "1/1 [==============================] - 0s 54ms/step - loss: 0.4047 - accuracy: 0.8399 - val_loss: 0.4478 - val_accuracy: 0.8659\n",
      "\n",
      "Epoch 00172: val_loss did not improve from 0.34152\n",
      "Epoch 173/200\n",
      "1/1 [==============================] - 0s 57ms/step - loss: 0.3840 - accuracy: 0.8441 - val_loss: 0.4441 - val_accuracy: 0.8659\n",
      "\n",
      "Epoch 00173: val_loss did not improve from 0.34152\n",
      "Epoch 174/200\n",
      "1/1 [==============================] - 0s 60ms/step - loss: 0.3810 - accuracy: 0.8371 - val_loss: 0.4308 - val_accuracy: 0.8715\n",
      "\n",
      "Epoch 00174: val_loss did not improve from 0.34152\n",
      "Epoch 175/200\n",
      "1/1 [==============================] - 0s 62ms/step - loss: 0.3864 - accuracy: 0.8329 - val_loss: 0.4327 - val_accuracy: 0.8659\n",
      "\n",
      "Epoch 00175: val_loss did not improve from 0.34152\n",
      "Epoch 176/200\n",
      "1/1 [==============================] - 0s 59ms/step - loss: 0.3849 - accuracy: 0.8371 - val_loss: 0.4387 - val_accuracy: 0.8659\n",
      "\n",
      "Epoch 00176: val_loss did not improve from 0.34152\n",
      "Epoch 177/200\n",
      "1/1 [==============================] - 0s 61ms/step - loss: 0.3775 - accuracy: 0.8455 - val_loss: 0.4546 - val_accuracy: 0.8659\n",
      "\n",
      "Epoch 00177: val_loss did not improve from 0.34152\n",
      "Epoch 178/200\n",
      "1/1 [==============================] - 0s 57ms/step - loss: 0.3744 - accuracy: 0.8469 - val_loss: 0.4526 - val_accuracy: 0.8771\n",
      "\n",
      "Epoch 00178: val_loss did not improve from 0.34152\n",
      "Epoch 179/200\n",
      "1/1 [==============================] - 0s 56ms/step - loss: 0.3826 - accuracy: 0.8413 - val_loss: 0.4337 - val_accuracy: 0.8715\n",
      "\n",
      "Epoch 00179: val_loss did not improve from 0.34152\n",
      "Epoch 180/200\n",
      "1/1 [==============================] - 0s 56ms/step - loss: 0.3805 - accuracy: 0.8399 - val_loss: 0.4529 - val_accuracy: 0.8659\n",
      "\n",
      "Epoch 00180: val_loss did not improve from 0.34152\n",
      "Epoch 181/200\n",
      "1/1 [==============================] - 0s 56ms/step - loss: 0.3806 - accuracy: 0.8399 - val_loss: 0.4343 - val_accuracy: 0.8715\n",
      "\n",
      "Epoch 00181: val_loss did not improve from 0.34152\n",
      "Epoch 182/200\n",
      "1/1 [==============================] - 0s 57ms/step - loss: 0.3836 - accuracy: 0.8357 - val_loss: 0.4489 - val_accuracy: 0.8715\n",
      "\n",
      "Epoch 00182: val_loss did not improve from 0.34152\n",
      "Epoch 183/200\n",
      "1/1 [==============================] - 0s 55ms/step - loss: 0.3963 - accuracy: 0.8385 - val_loss: 0.4370 - val_accuracy: 0.8715\n",
      "\n",
      "Epoch 00183: val_loss did not improve from 0.34152\n",
      "Epoch 184/200\n",
      "1/1 [==============================] - 0s 55ms/step - loss: 0.3810 - accuracy: 0.8441 - val_loss: 0.4467 - val_accuracy: 0.8659\n",
      "\n",
      "Epoch 00184: val_loss did not improve from 0.34152\n",
      "Epoch 185/200\n",
      "1/1 [==============================] - 0s 55ms/step - loss: 0.3865 - accuracy: 0.8441 - val_loss: 0.4513 - val_accuracy: 0.8659\n",
      "\n",
      "Epoch 00185: val_loss did not improve from 0.34152\n",
      "Epoch 186/200\n",
      "1/1 [==============================] - 0s 59ms/step - loss: 0.3841 - accuracy: 0.8427 - val_loss: 0.4648 - val_accuracy: 0.8659\n",
      "\n",
      "Epoch 00186: val_loss did not improve from 0.34152\n",
      "Epoch 187/200\n",
      "1/1 [==============================] - 0s 56ms/step - loss: 0.3688 - accuracy: 0.8469 - val_loss: 0.4648 - val_accuracy: 0.8659\n",
      "\n",
      "Epoch 00187: val_loss did not improve from 0.34152\n",
      "Epoch 188/200\n",
      "1/1 [==============================] - 0s 54ms/step - loss: 0.3859 - accuracy: 0.8455 - val_loss: 0.4545 - val_accuracy: 0.8659\n",
      "\n",
      "Epoch 00188: val_loss did not improve from 0.34152\n",
      "Epoch 189/200\n",
      "1/1 [==============================] - 0s 56ms/step - loss: 0.3928 - accuracy: 0.8385 - val_loss: 0.4794 - val_accuracy: 0.8603\n",
      "\n",
      "Epoch 00189: val_loss did not improve from 0.34152\n",
      "Epoch 190/200\n",
      "1/1 [==============================] - 0s 58ms/step - loss: 0.3770 - accuracy: 0.8427 - val_loss: 0.4706 - val_accuracy: 0.8603\n",
      "\n",
      "Epoch 00190: val_loss did not improve from 0.34152\n",
      "Epoch 191/200\n",
      "1/1 [==============================] - 0s 60ms/step - loss: 0.3883 - accuracy: 0.8455 - val_loss: 0.5028 - val_accuracy: 0.8603\n",
      "\n",
      "Epoch 00191: val_loss did not improve from 0.34152\n",
      "Epoch 192/200\n",
      "1/1 [==============================] - 0s 62ms/step - loss: 0.3840 - accuracy: 0.8455 - val_loss: 0.4709 - val_accuracy: 0.8603\n",
      "\n",
      "Epoch 00192: val_loss did not improve from 0.34152\n",
      "Epoch 193/200\n",
      "1/1 [==============================] - 0s 59ms/step - loss: 0.3751 - accuracy: 0.8455 - val_loss: 0.4925 - val_accuracy: 0.8659\n",
      "\n",
      "Epoch 00193: val_loss did not improve from 0.34152\n",
      "Epoch 194/200\n",
      "1/1 [==============================] - 0s 56ms/step - loss: 0.3821 - accuracy: 0.8399 - val_loss: 0.4741 - val_accuracy: 0.8547\n",
      "\n",
      "Epoch 00194: val_loss did not improve from 0.34152\n",
      "Epoch 195/200\n",
      "1/1 [==============================] - 0s 54ms/step - loss: 0.3919 - accuracy: 0.8343 - val_loss: 0.4601 - val_accuracy: 0.8659\n",
      "\n",
      "Epoch 00195: val_loss did not improve from 0.34152\n",
      "Epoch 196/200\n",
      "1/1 [==============================] - 0s 55ms/step - loss: 0.3849 - accuracy: 0.8413 - val_loss: 0.4861 - val_accuracy: 0.8603\n",
      "\n",
      "Epoch 00196: val_loss did not improve from 0.34152\n",
      "Epoch 197/200\n",
      "1/1 [==============================] - 0s 57ms/step - loss: 0.3958 - accuracy: 0.8413 - val_loss: 0.4479 - val_accuracy: 0.8659\n",
      "\n",
      "Epoch 00197: val_loss did not improve from 0.34152\n",
      "Epoch 198/200\n",
      "1/1 [==============================] - 0s 61ms/step - loss: 0.3753 - accuracy: 0.8469 - val_loss: 0.4580 - val_accuracy: 0.8771\n",
      "\n",
      "Epoch 00198: val_loss did not improve from 0.34152\n",
      "Epoch 199/200\n",
      "1/1 [==============================] - 0s 63ms/step - loss: 0.3968 - accuracy: 0.8357 - val_loss: 0.4507 - val_accuracy: 0.8659\n",
      "\n",
      "Epoch 00199: val_loss did not improve from 0.34152\n",
      "Epoch 200/200\n",
      "1/1 [==============================] - 0s 60ms/step - loss: 0.3787 - accuracy: 0.8399 - val_loss: 0.4665 - val_accuracy: 0.8659\n",
      "\n",
      "Epoch 00200: val_loss did not improve from 0.34152\n"
     ]
    }
   ],
   "source": [
    "history = model.fit(x_train_np, y_np, epochs=EPOCH, batch_size=BATCH_SIZE, validation_split=0.2, callbacks=[checkpoint])  \n",
    "# callbacks에 checkpoint를 넣는다. 그러면 내가 설정한 기준(val_loss)가 최저인 모델을 저장한다."
   ]
  },
  {
   "source": [
    "## 에포크 당 모델 성능 확인\n",
    "<br>\n",
    "훈련을 거치며 모델의 정확도, 손실의 변화 과정을 관찰한다. \n",
    "<br>\n",
    "이는 하이퍼 파라미터(에포크, 훈련률, 레이어 당 유닛 개수 등)을 조절하는데 큰 도움이 된다. 그래프를 보고 어떤 지점에서 오버피팅이 일어났는지 확인할 수 있기 때문이다."
   ],
   "cell_type": "markdown",
   "metadata": {}
  },
  {
   "cell_type": "code",
   "execution_count": 179,
   "metadata": {},
   "outputs": [
    {
     "output_type": "execute_result",
     "data": {
      "text/plain": [
       "Text(0.5, 1.0, 'Training and validation loss')"
      ]
     },
     "metadata": {},
     "execution_count": 179
    },
    {
     "output_type": "display_data",
     "data": {
      "text/plain": "<Figure size 432x288 with 1 Axes>",
      "image/svg+xml": "<?xml version=\"1.0\" encoding=\"utf-8\" standalone=\"no\"?>\n<!DOCTYPE svg PUBLIC \"-//W3C//DTD SVG 1.1//EN\"\n  \"http://www.w3.org/Graphics/SVG/1.1/DTD/svg11.dtd\">\n<!-- Created with matplotlib (https://matplotlib.org/) -->\n<svg height=\"263.63625pt\" version=\"1.1\" viewBox=\"0 0 378.465625 263.63625\" width=\"378.465625pt\" xmlns=\"http://www.w3.org/2000/svg\" xmlns:xlink=\"http://www.w3.org/1999/xlink\">\n <metadata>\n  <rdf:RDF xmlns:cc=\"http://creativecommons.org/ns#\" xmlns:dc=\"http://purl.org/dc/elements/1.1/\" xmlns:rdf=\"http://www.w3.org/1999/02/22-rdf-syntax-ns#\">\n   <cc:Work>\n    <dc:type rdf:resource=\"http://purl.org/dc/dcmitype/StillImage\"/>\n    <dc:date>2021-02-16T10:10:54.865166</dc:date>\n    <dc:format>image/svg+xml</dc:format>\n    <dc:creator>\n     <cc:Agent>\n      <dc:title>Matplotlib v3.3.2, https://matplotlib.org/</dc:title>\n     </cc:Agent>\n    </dc:creator>\n   </cc:Work>\n  </rdf:RDF>\n </metadata>\n <defs>\n  <style type=\"text/css\">*{stroke-linecap:butt;stroke-linejoin:round;}</style>\n </defs>\n <g id=\"figure_1\">\n  <g id=\"patch_1\">\n   <path d=\"M 0 263.63625 \nL 378.465625 263.63625 \nL 378.465625 0 \nL 0 0 \nz\n\" style=\"fill:none;\"/>\n  </g>\n  <g id=\"axes_1\">\n   <g id=\"patch_2\">\n    <path d=\"M 36.465625 239.758125 \nL 371.265625 239.758125 \nL 371.265625 22.318125 \nL 36.465625 22.318125 \nz\n\" style=\"fill:#ffffff;\"/>\n   </g>\n   <g id=\"matplotlib.axis_1\">\n    <g id=\"xtick_1\">\n     <g id=\"line2d_1\">\n      <defs>\n       <path d=\"M 0 0 \nL 0 3.5 \n\" id=\"m9b029a7079\" style=\"stroke:#000000;stroke-width:0.8;\"/>\n      </defs>\n      <g>\n       <use style=\"stroke:#000000;stroke-width:0.8;\" x=\"51.683807\" xlink:href=\"#m9b029a7079\" y=\"239.758125\"/>\n      </g>\n     </g>\n     <g id=\"text_1\">\n      <!-- 0 -->\n      <g transform=\"translate(48.502557 254.356563)scale(0.1 -0.1)\">\n       <defs>\n        <path d=\"M 31.78125 66.40625 \nQ 24.171875 66.40625 20.328125 58.90625 \nQ 16.5 51.421875 16.5 36.375 \nQ 16.5 21.390625 20.328125 13.890625 \nQ 24.171875 6.390625 31.78125 6.390625 \nQ 39.453125 6.390625 43.28125 13.890625 \nQ 47.125 21.390625 47.125 36.375 \nQ 47.125 51.421875 43.28125 58.90625 \nQ 39.453125 66.40625 31.78125 66.40625 \nz\nM 31.78125 74.21875 \nQ 44.046875 74.21875 50.515625 64.515625 \nQ 56.984375 54.828125 56.984375 36.375 \nQ 56.984375 17.96875 50.515625 8.265625 \nQ 44.046875 -1.421875 31.78125 -1.421875 \nQ 19.53125 -1.421875 13.0625 8.265625 \nQ 6.59375 17.96875 6.59375 36.375 \nQ 6.59375 54.828125 13.0625 64.515625 \nQ 19.53125 74.21875 31.78125 74.21875 \nz\n\" id=\"DejaVuSans-48\"/>\n       </defs>\n       <use xlink:href=\"#DejaVuSans-48\"/>\n      </g>\n     </g>\n    </g>\n    <g id=\"xtick_2\">\n     <g id=\"line2d_2\">\n      <g>\n       <use style=\"stroke:#000000;stroke-width:0.8;\" x=\"89.920445\" xlink:href=\"#m9b029a7079\" y=\"239.758125\"/>\n      </g>\n     </g>\n     <g id=\"text_2\">\n      <!-- 25 -->\n      <g transform=\"translate(83.557945 254.356563)scale(0.1 -0.1)\">\n       <defs>\n        <path d=\"M 19.1875 8.296875 \nL 53.609375 8.296875 \nL 53.609375 0 \nL 7.328125 0 \nL 7.328125 8.296875 \nQ 12.9375 14.109375 22.625 23.890625 \nQ 32.328125 33.6875 34.8125 36.53125 \nQ 39.546875 41.84375 41.421875 45.53125 \nQ 43.3125 49.21875 43.3125 52.78125 \nQ 43.3125 58.59375 39.234375 62.25 \nQ 35.15625 65.921875 28.609375 65.921875 \nQ 23.96875 65.921875 18.8125 64.3125 \nQ 13.671875 62.703125 7.8125 59.421875 \nL 7.8125 69.390625 \nQ 13.765625 71.78125 18.9375 73 \nQ 24.125 74.21875 28.421875 74.21875 \nQ 39.75 74.21875 46.484375 68.546875 \nQ 53.21875 62.890625 53.21875 53.421875 \nQ 53.21875 48.921875 51.53125 44.890625 \nQ 49.859375 40.875 45.40625 35.40625 \nQ 44.1875 33.984375 37.640625 27.21875 \nQ 31.109375 20.453125 19.1875 8.296875 \nz\n\" id=\"DejaVuSans-50\"/>\n        <path d=\"M 10.796875 72.90625 \nL 49.515625 72.90625 \nL 49.515625 64.59375 \nL 19.828125 64.59375 \nL 19.828125 46.734375 \nQ 21.96875 47.46875 24.109375 47.828125 \nQ 26.265625 48.1875 28.421875 48.1875 \nQ 40.625 48.1875 47.75 41.5 \nQ 54.890625 34.8125 54.890625 23.390625 \nQ 54.890625 11.625 47.5625 5.09375 \nQ 40.234375 -1.421875 26.90625 -1.421875 \nQ 22.3125 -1.421875 17.546875 -0.640625 \nQ 12.796875 0.140625 7.71875 1.703125 \nL 7.71875 11.625 \nQ 12.109375 9.234375 16.796875 8.0625 \nQ 21.484375 6.890625 26.703125 6.890625 \nQ 35.15625 6.890625 40.078125 11.328125 \nQ 45.015625 15.765625 45.015625 23.390625 \nQ 45.015625 31 40.078125 35.4375 \nQ 35.15625 39.890625 26.703125 39.890625 \nQ 22.75 39.890625 18.8125 39.015625 \nQ 14.890625 38.140625 10.796875 36.28125 \nz\n\" id=\"DejaVuSans-53\"/>\n       </defs>\n       <use xlink:href=\"#DejaVuSans-50\"/>\n       <use x=\"63.623047\" xlink:href=\"#DejaVuSans-53\"/>\n      </g>\n     </g>\n    </g>\n    <g id=\"xtick_3\">\n     <g id=\"line2d_3\">\n      <g>\n       <use style=\"stroke:#000000;stroke-width:0.8;\" x=\"128.157082\" xlink:href=\"#m9b029a7079\" y=\"239.758125\"/>\n      </g>\n     </g>\n     <g id=\"text_3\">\n      <!-- 50 -->\n      <g transform=\"translate(121.794582 254.356563)scale(0.1 -0.1)\">\n       <use xlink:href=\"#DejaVuSans-53\"/>\n       <use x=\"63.623047\" xlink:href=\"#DejaVuSans-48\"/>\n      </g>\n     </g>\n    </g>\n    <g id=\"xtick_4\">\n     <g id=\"line2d_4\">\n      <g>\n       <use style=\"stroke:#000000;stroke-width:0.8;\" x=\"166.39372\" xlink:href=\"#m9b029a7079\" y=\"239.758125\"/>\n      </g>\n     </g>\n     <g id=\"text_4\">\n      <!-- 75 -->\n      <g transform=\"translate(160.03122 254.356563)scale(0.1 -0.1)\">\n       <defs>\n        <path d=\"M 8.203125 72.90625 \nL 55.078125 72.90625 \nL 55.078125 68.703125 \nL 28.609375 0 \nL 18.3125 0 \nL 43.21875 64.59375 \nL 8.203125 64.59375 \nz\n\" id=\"DejaVuSans-55\"/>\n       </defs>\n       <use xlink:href=\"#DejaVuSans-55\"/>\n       <use x=\"63.623047\" xlink:href=\"#DejaVuSans-53\"/>\n      </g>\n     </g>\n    </g>\n    <g id=\"xtick_5\">\n     <g id=\"line2d_5\">\n      <g>\n       <use style=\"stroke:#000000;stroke-width:0.8;\" x=\"204.630358\" xlink:href=\"#m9b029a7079\" y=\"239.758125\"/>\n      </g>\n     </g>\n     <g id=\"text_5\">\n      <!-- 100 -->\n      <g transform=\"translate(195.086608 254.356563)scale(0.1 -0.1)\">\n       <defs>\n        <path d=\"M 12.40625 8.296875 \nL 28.515625 8.296875 \nL 28.515625 63.921875 \nL 10.984375 60.40625 \nL 10.984375 69.390625 \nL 28.421875 72.90625 \nL 38.28125 72.90625 \nL 38.28125 8.296875 \nL 54.390625 8.296875 \nL 54.390625 0 \nL 12.40625 0 \nz\n\" id=\"DejaVuSans-49\"/>\n       </defs>\n       <use xlink:href=\"#DejaVuSans-49\"/>\n       <use x=\"63.623047\" xlink:href=\"#DejaVuSans-48\"/>\n       <use x=\"127.246094\" xlink:href=\"#DejaVuSans-48\"/>\n      </g>\n     </g>\n    </g>\n    <g id=\"xtick_6\">\n     <g id=\"line2d_6\">\n      <g>\n       <use style=\"stroke:#000000;stroke-width:0.8;\" x=\"242.866995\" xlink:href=\"#m9b029a7079\" y=\"239.758125\"/>\n      </g>\n     </g>\n     <g id=\"text_6\">\n      <!-- 125 -->\n      <g transform=\"translate(233.323245 254.356563)scale(0.1 -0.1)\">\n       <use xlink:href=\"#DejaVuSans-49\"/>\n       <use x=\"63.623047\" xlink:href=\"#DejaVuSans-50\"/>\n       <use x=\"127.246094\" xlink:href=\"#DejaVuSans-53\"/>\n      </g>\n     </g>\n    </g>\n    <g id=\"xtick_7\">\n     <g id=\"line2d_7\">\n      <g>\n       <use style=\"stroke:#000000;stroke-width:0.8;\" x=\"281.103633\" xlink:href=\"#m9b029a7079\" y=\"239.758125\"/>\n      </g>\n     </g>\n     <g id=\"text_7\">\n      <!-- 150 -->\n      <g transform=\"translate(271.559883 254.356563)scale(0.1 -0.1)\">\n       <use xlink:href=\"#DejaVuSans-49\"/>\n       <use x=\"63.623047\" xlink:href=\"#DejaVuSans-53\"/>\n       <use x=\"127.246094\" xlink:href=\"#DejaVuSans-48\"/>\n      </g>\n     </g>\n    </g>\n    <g id=\"xtick_8\">\n     <g id=\"line2d_8\">\n      <g>\n       <use style=\"stroke:#000000;stroke-width:0.8;\" x=\"319.340271\" xlink:href=\"#m9b029a7079\" y=\"239.758125\"/>\n      </g>\n     </g>\n     <g id=\"text_8\">\n      <!-- 175 -->\n      <g transform=\"translate(309.796521 254.356563)scale(0.1 -0.1)\">\n       <use xlink:href=\"#DejaVuSans-49\"/>\n       <use x=\"63.623047\" xlink:href=\"#DejaVuSans-55\"/>\n       <use x=\"127.246094\" xlink:href=\"#DejaVuSans-53\"/>\n      </g>\n     </g>\n    </g>\n    <g id=\"xtick_9\">\n     <g id=\"line2d_9\">\n      <g>\n       <use style=\"stroke:#000000;stroke-width:0.8;\" x=\"357.576909\" xlink:href=\"#m9b029a7079\" y=\"239.758125\"/>\n      </g>\n     </g>\n     <g id=\"text_9\">\n      <!-- 200 -->\n      <g transform=\"translate(348.033159 254.356563)scale(0.1 -0.1)\">\n       <use xlink:href=\"#DejaVuSans-50\"/>\n       <use x=\"63.623047\" xlink:href=\"#DejaVuSans-48\"/>\n       <use x=\"127.246094\" xlink:href=\"#DejaVuSans-48\"/>\n      </g>\n     </g>\n    </g>\n   </g>\n   <g id=\"matplotlib.axis_2\">\n    <g id=\"ytick_1\">\n     <g id=\"line2d_10\">\n      <defs>\n       <path d=\"M 0 0 \nL -3.5 0 \n\" id=\"m99d79cd9c5\" style=\"stroke:#000000;stroke-width:0.8;\"/>\n      </defs>\n      <g>\n       <use style=\"stroke:#000000;stroke-width:0.8;\" x=\"36.465625\" xlink:href=\"#m99d79cd9c5\" y=\"221.233836\"/>\n      </g>\n     </g>\n     <g id=\"text_10\">\n      <!-- 0.60 -->\n      <g transform=\"translate(7.2 225.033054)scale(0.1 -0.1)\">\n       <defs>\n        <path d=\"M 10.6875 12.40625 \nL 21 12.40625 \nL 21 0 \nL 10.6875 0 \nz\n\" id=\"DejaVuSans-46\"/>\n        <path d=\"M 33.015625 40.375 \nQ 26.375 40.375 22.484375 35.828125 \nQ 18.609375 31.296875 18.609375 23.390625 \nQ 18.609375 15.53125 22.484375 10.953125 \nQ 26.375 6.390625 33.015625 6.390625 \nQ 39.65625 6.390625 43.53125 10.953125 \nQ 47.40625 15.53125 47.40625 23.390625 \nQ 47.40625 31.296875 43.53125 35.828125 \nQ 39.65625 40.375 33.015625 40.375 \nz\nM 52.59375 71.296875 \nL 52.59375 62.3125 \nQ 48.875 64.0625 45.09375 64.984375 \nQ 41.3125 65.921875 37.59375 65.921875 \nQ 27.828125 65.921875 22.671875 59.328125 \nQ 17.53125 52.734375 16.796875 39.40625 \nQ 19.671875 43.65625 24.015625 45.921875 \nQ 28.375 48.1875 33.59375 48.1875 \nQ 44.578125 48.1875 50.953125 41.515625 \nQ 57.328125 34.859375 57.328125 23.390625 \nQ 57.328125 12.15625 50.6875 5.359375 \nQ 44.046875 -1.421875 33.015625 -1.421875 \nQ 20.359375 -1.421875 13.671875 8.265625 \nQ 6.984375 17.96875 6.984375 36.375 \nQ 6.984375 53.65625 15.1875 63.9375 \nQ 23.390625 74.21875 37.203125 74.21875 \nQ 40.921875 74.21875 44.703125 73.484375 \nQ 48.484375 72.75 52.59375 71.296875 \nz\n\" id=\"DejaVuSans-54\"/>\n       </defs>\n       <use xlink:href=\"#DejaVuSans-48\"/>\n       <use x=\"63.623047\" xlink:href=\"#DejaVuSans-46\"/>\n       <use x=\"95.410156\" xlink:href=\"#DejaVuSans-54\"/>\n       <use x=\"159.033203\" xlink:href=\"#DejaVuSans-48\"/>\n      </g>\n     </g>\n    </g>\n    <g id=\"ytick_2\">\n     <g id=\"line2d_11\">\n      <g>\n       <use style=\"stroke:#000000;stroke-width:0.8;\" x=\"36.465625\" xlink:href=\"#m99d79cd9c5\" y=\"187.798319\"/>\n      </g>\n     </g>\n     <g id=\"text_11\">\n      <!-- 0.65 -->\n      <g transform=\"translate(7.2 191.597537)scale(0.1 -0.1)\">\n       <use xlink:href=\"#DejaVuSans-48\"/>\n       <use x=\"63.623047\" xlink:href=\"#DejaVuSans-46\"/>\n       <use x=\"95.410156\" xlink:href=\"#DejaVuSans-54\"/>\n       <use x=\"159.033203\" xlink:href=\"#DejaVuSans-53\"/>\n      </g>\n     </g>\n    </g>\n    <g id=\"ytick_3\">\n     <g id=\"line2d_12\">\n      <g>\n       <use style=\"stroke:#000000;stroke-width:0.8;\" x=\"36.465625\" xlink:href=\"#m99d79cd9c5\" y=\"154.362802\"/>\n      </g>\n     </g>\n     <g id=\"text_12\">\n      <!-- 0.70 -->\n      <g transform=\"translate(7.2 158.16202)scale(0.1 -0.1)\">\n       <use xlink:href=\"#DejaVuSans-48\"/>\n       <use x=\"63.623047\" xlink:href=\"#DejaVuSans-46\"/>\n       <use x=\"95.410156\" xlink:href=\"#DejaVuSans-55\"/>\n       <use x=\"159.033203\" xlink:href=\"#DejaVuSans-48\"/>\n      </g>\n     </g>\n    </g>\n    <g id=\"ytick_4\">\n     <g id=\"line2d_13\">\n      <g>\n       <use style=\"stroke:#000000;stroke-width:0.8;\" x=\"36.465625\" xlink:href=\"#m99d79cd9c5\" y=\"120.927285\"/>\n      </g>\n     </g>\n     <g id=\"text_13\">\n      <!-- 0.75 -->\n      <g transform=\"translate(7.2 124.726503)scale(0.1 -0.1)\">\n       <use xlink:href=\"#DejaVuSans-48\"/>\n       <use x=\"63.623047\" xlink:href=\"#DejaVuSans-46\"/>\n       <use x=\"95.410156\" xlink:href=\"#DejaVuSans-55\"/>\n       <use x=\"159.033203\" xlink:href=\"#DejaVuSans-53\"/>\n      </g>\n     </g>\n    </g>\n    <g id=\"ytick_5\">\n     <g id=\"line2d_14\">\n      <g>\n       <use style=\"stroke:#000000;stroke-width:0.8;\" x=\"36.465625\" xlink:href=\"#m99d79cd9c5\" y=\"87.491768\"/>\n      </g>\n     </g>\n     <g id=\"text_14\">\n      <!-- 0.80 -->\n      <g transform=\"translate(7.2 91.290987)scale(0.1 -0.1)\">\n       <defs>\n        <path d=\"M 31.78125 34.625 \nQ 24.75 34.625 20.71875 30.859375 \nQ 16.703125 27.09375 16.703125 20.515625 \nQ 16.703125 13.921875 20.71875 10.15625 \nQ 24.75 6.390625 31.78125 6.390625 \nQ 38.8125 6.390625 42.859375 10.171875 \nQ 46.921875 13.96875 46.921875 20.515625 \nQ 46.921875 27.09375 42.890625 30.859375 \nQ 38.875 34.625 31.78125 34.625 \nz\nM 21.921875 38.8125 \nQ 15.578125 40.375 12.03125 44.71875 \nQ 8.5 49.078125 8.5 55.328125 \nQ 8.5 64.0625 14.71875 69.140625 \nQ 20.953125 74.21875 31.78125 74.21875 \nQ 42.671875 74.21875 48.875 69.140625 \nQ 55.078125 64.0625 55.078125 55.328125 \nQ 55.078125 49.078125 51.53125 44.71875 \nQ 48 40.375 41.703125 38.8125 \nQ 48.828125 37.15625 52.796875 32.3125 \nQ 56.78125 27.484375 56.78125 20.515625 \nQ 56.78125 9.90625 50.3125 4.234375 \nQ 43.84375 -1.421875 31.78125 -1.421875 \nQ 19.734375 -1.421875 13.25 4.234375 \nQ 6.78125 9.90625 6.78125 20.515625 \nQ 6.78125 27.484375 10.78125 32.3125 \nQ 14.796875 37.15625 21.921875 38.8125 \nz\nM 18.3125 54.390625 \nQ 18.3125 48.734375 21.84375 45.5625 \nQ 25.390625 42.390625 31.78125 42.390625 \nQ 38.140625 42.390625 41.71875 45.5625 \nQ 45.3125 48.734375 45.3125 54.390625 \nQ 45.3125 60.0625 41.71875 63.234375 \nQ 38.140625 66.40625 31.78125 66.40625 \nQ 25.390625 66.40625 21.84375 63.234375 \nQ 18.3125 60.0625 18.3125 54.390625 \nz\n\" id=\"DejaVuSans-56\"/>\n       </defs>\n       <use xlink:href=\"#DejaVuSans-48\"/>\n       <use x=\"63.623047\" xlink:href=\"#DejaVuSans-46\"/>\n       <use x=\"95.410156\" xlink:href=\"#DejaVuSans-56\"/>\n       <use x=\"159.033203\" xlink:href=\"#DejaVuSans-48\"/>\n      </g>\n     </g>\n    </g>\n    <g id=\"ytick_6\">\n     <g id=\"line2d_15\">\n      <g>\n       <use style=\"stroke:#000000;stroke-width:0.8;\" x=\"36.465625\" xlink:href=\"#m99d79cd9c5\" y=\"54.056251\"/>\n      </g>\n     </g>\n     <g id=\"text_15\">\n      <!-- 0.85 -->\n      <g transform=\"translate(7.2 57.85547)scale(0.1 -0.1)\">\n       <use xlink:href=\"#DejaVuSans-48\"/>\n       <use x=\"63.623047\" xlink:href=\"#DejaVuSans-46\"/>\n       <use x=\"95.410156\" xlink:href=\"#DejaVuSans-56\"/>\n       <use x=\"159.033203\" xlink:href=\"#DejaVuSans-53\"/>\n      </g>\n     </g>\n    </g>\n   </g>\n   <g id=\"line2d_16\">\n    <path clip-path=\"url(#pd3ea689ea0)\" d=\"M 51.683807 229.874489 \nL 53.213272 203.576857 \nL 54.742738 192.306461 \nL 56.272203 162.252071 \nL 57.801669 163.191291 \nL 59.331134 127.501702 \nL 60.8606 128.440882 \nL 62.390065 107.778489 \nL 63.919531 100.264892 \nL 65.448996 101.204071 \nL 66.978462 94.629693 \nL 68.507927 83.359297 \nL 70.037393 89.933675 \nL 71.566858 91.812074 \nL 73.096324 102.143291 \nL 74.625789 92.751294 \nL 77.68472 77.724099 \nL 79.214186 82.420077 \nL 80.743651 77.724099 \nL 82.273117 92.751294 \nL 83.802583 93.690474 \nL 86.861514 71.149681 \nL 88.390979 76.784879 \nL 89.920445 74.90648 \nL 91.44991 73.9673 \nL 92.979376 71.149681 \nL 94.508841 71.149681 \nL 96.038307 66.453703 \nL 97.567772 73.028081 \nL 99.097238 56.122486 \nL 100.626703 72.088901 \nL 102.156169 69.271282 \nL 103.685634 78.663279 \nL 105.2151 71.149681 \nL 106.744565 64.575303 \nL 108.274031 68.332102 \nL 109.803496 64.575303 \nL 112.862427 73.9673 \nL 114.391893 61.757684 \nL 115.921358 67.392882 \nL 117.450824 76.784879 \nL 118.980289 75.8457 \nL 120.509755 71.149681 \nL 122.03922 65.514483 \nL 123.568686 63.636084 \nL 125.098151 60.818505 \nL 126.627617 61.757684 \nL 128.157082 65.514483 \nL 129.686548 71.149681 \nL 131.216013 67.392882 \nL 132.745479 62.696904 \nL 134.274944 61.757684 \nL 135.80441 58.000886 \nL 137.333875 66.453703 \nL 138.863341 69.271282 \nL 140.392806 59.879285 \nL 141.922272 61.757684 \nL 143.451737 58.000886 \nL 144.981203 66.453703 \nL 146.510668 63.636084 \nL 148.040134 62.696904 \nL 149.569599 64.575303 \nL 151.099065 60.818505 \nL 152.62853 61.757684 \nL 154.157996 67.392882 \nL 155.687461 57.061706 \nL 157.216927 60.818505 \nL 158.746392 60.818505 \nL 160.275858 68.332102 \nL 161.805323 56.122486 \nL 163.334789 55.183306 \nL 164.864255 62.696904 \nL 166.39372 65.514483 \nL 167.923186 70.210501 \nL 169.452651 61.757684 \nL 170.982117 68.332102 \nL 172.511582 68.332102 \nL 174.041048 70.210501 \nL 175.570513 58.940105 \nL 177.099979 59.879285 \nL 178.629444 58.940105 \nL 180.15891 70.210501 \nL 181.688375 58.940105 \nL 183.217841 58.000886 \nL 184.747306 64.575303 \nL 186.276772 62.696904 \nL 187.806237 59.879285 \nL 189.335703 64.575303 \nL 190.865168 63.636084 \nL 192.394634 61.757684 \nL 193.924099 61.757684 \nL 195.453565 63.636084 \nL 196.98303 57.061706 \nL 198.512496 69.271282 \nL 200.041961 61.757684 \nL 201.571427 63.636084 \nL 203.100892 58.000886 \nL 204.630358 62.696904 \nL 206.159823 61.757684 \nL 207.689289 53.304907 \nL 209.218754 59.879285 \nL 210.74822 64.575303 \nL 212.277685 62.696904 \nL 213.807151 59.879285 \nL 215.336616 53.304907 \nL 216.866082 55.183306 \nL 218.395547 68.332102 \nL 219.925013 58.000886 \nL 221.454478 63.636084 \nL 222.983944 58.940105 \nL 224.513409 61.757684 \nL 226.042875 62.696904 \nL 227.57234 59.879285 \nL 229.101806 63.636084 \nL 230.631271 58.000886 \nL 232.160737 60.818505 \nL 233.690202 56.122486 \nL 235.219668 61.757684 \nL 236.749133 54.244087 \nL 238.278599 62.696904 \nL 239.808064 55.183306 \nL 241.33753 59.879285 \nL 242.866995 57.061706 \nL 244.396461 55.183306 \nL 245.925927 54.244087 \nL 247.455392 66.453703 \nL 248.984858 65.514483 \nL 252.043789 59.879285 \nL 253.573254 64.575303 \nL 255.10272 56.122486 \nL 256.632185 59.879285 \nL 258.161651 59.879285 \nL 259.691116 57.061706 \nL 261.220582 58.000886 \nL 262.750047 62.696904 \nL 264.279513 60.818505 \nL 265.808978 57.061706 \nL 267.338444 66.453703 \nL 271.92684 52.365687 \nL 274.985771 65.514483 \nL 276.515237 60.818505 \nL 278.044702 60.818505 \nL 279.574168 63.636084 \nL 281.103633 65.514483 \nL 282.633099 60.818505 \nL 284.162564 64.575303 \nL 285.69203 56.122486 \nL 287.221495 63.636084 \nL 288.750961 59.879285 \nL 290.280426 61.757684 \nL 291.809892 65.514483 \nL 293.339357 68.332102 \nL 294.868823 60.818505 \nL 296.398288 56.122486 \nL 297.927754 55.183306 \nL 300.986685 55.183306 \nL 302.51615 58.000886 \nL 304.045616 54.244087 \nL 305.575081 64.575303 \nL 307.104547 54.244087 \nL 308.634012 54.244087 \nL 310.163478 55.183306 \nL 311.692943 57.061706 \nL 313.222409 60.818505 \nL 314.751874 58.000886 \nL 316.28134 62.696904 \nL 317.810805 65.514483 \nL 319.340271 62.696904 \nL 320.869736 57.061706 \nL 322.399202 56.122486 \nL 323.928667 59.879285 \nL 325.458133 60.818505 \nL 326.987599 60.818505 \nL 328.517064 63.636084 \nL 330.04653 61.757684 \nL 331.575995 58.000886 \nL 333.105461 58.000886 \nL 334.634926 58.940105 \nL 336.164392 56.122486 \nL 337.693857 57.061706 \nL 339.223323 61.757684 \nL 340.752788 58.940105 \nL 342.282254 57.061706 \nL 345.341185 57.061706 \nL 348.400116 64.575303 \nL 349.929581 59.879285 \nL 351.459047 59.879285 \nL 352.988512 56.122486 \nL 354.517978 63.636084 \nL 356.047443 60.818505 \nL 356.047443 60.818505 \n\" style=\"fill:none;stroke:#1f77b4;stroke-linecap:square;stroke-width:1.5;\"/>\n   </g>\n   <g id=\"line2d_17\">\n    <path clip-path=\"url(#pd3ea689ea0)\" d=\"M 51.683807 192.841678 \nL 53.213272 181.634218 \nL 54.742738 91.974736 \nL 56.272203 80.767316 \nL 57.801669 65.824062 \nL 59.331134 84.503109 \nL 60.8606 73.295689 \nL 63.919531 73.295689 \nL 65.448996 62.088229 \nL 66.978462 65.824062 \nL 68.507927 65.824062 \nL 70.037393 50.880808 \nL 71.566858 50.880808 \nL 74.625789 43.409182 \nL 76.155255 54.616642 \nL 79.214186 47.145015 \nL 80.743651 62.088229 \nL 82.273117 47.145015 \nL 83.802583 47.145015 \nL 85.332048 43.409182 \nL 88.390979 50.880808 \nL 89.920445 50.880808 \nL 91.44991 47.145015 \nL 99.097238 47.145015 \nL 100.626703 50.880808 \nL 102.156169 43.409182 \nL 103.685634 47.145015 \nL 106.744565 47.145015 \nL 108.274031 43.409182 \nL 109.803496 47.145015 \nL 111.332962 43.409182 \nL 112.862427 47.145015 \nL 114.391893 43.409182 \nL 115.921358 47.145015 \nL 118.980289 47.145015 \nL 120.509755 43.409182 \nL 122.03922 47.145015 \nL 123.568686 43.409182 \nL 125.098151 47.145015 \nL 126.627617 43.409182 \nL 128.157082 47.145015 \nL 129.686548 43.409182 \nL 131.216013 47.145015 \nL 132.745479 39.673388 \nL 134.274944 47.145015 \nL 135.80441 47.145015 \nL 137.333875 43.409182 \nL 138.863341 47.145015 \nL 140.392806 43.409182 \nL 141.922272 47.145015 \nL 143.451737 47.145015 \nL 144.981203 43.409182 \nL 148.040134 43.409182 \nL 149.569599 47.145015 \nL 151.099065 43.409182 \nL 152.62853 47.145015 \nL 154.157996 39.673388 \nL 155.687461 43.409182 \nL 160.275858 43.409182 \nL 161.805323 39.673388 \nL 163.334789 43.409182 \nL 164.864255 43.409182 \nL 166.39372 54.616642 \nL 167.923186 39.673388 \nL 169.452651 50.880808 \nL 170.982117 43.409182 \nL 172.511582 47.145015 \nL 174.041048 43.409182 \nL 175.570513 43.409182 \nL 177.099979 47.145015 \nL 178.629444 43.409182 \nL 180.15891 43.409182 \nL 181.688375 39.673388 \nL 184.747306 39.673388 \nL 186.276772 43.409182 \nL 187.806237 43.409182 \nL 189.335703 47.145015 \nL 190.865168 47.145015 \nL 192.394634 43.409182 \nL 195.453565 43.409182 \nL 196.98303 47.145015 \nL 198.512496 47.145015 \nL 200.041961 43.409182 \nL 201.571427 35.937555 \nL 203.100892 43.409182 \nL 204.630358 47.145015 \nL 206.159823 43.409182 \nL 209.218754 43.409182 \nL 210.74822 47.145015 \nL 212.277685 47.145015 \nL 213.807151 43.409182 \nL 215.336616 47.145015 \nL 216.866082 47.145015 \nL 218.395547 43.409182 \nL 222.983944 43.409182 \nL 224.513409 47.145015 \nL 226.042875 47.145015 \nL 227.57234 43.409182 \nL 232.160737 43.409182 \nL 233.690202 47.145015 \nL 235.219668 43.409182 \nL 236.749133 47.145015 \nL 238.278599 43.409182 \nL 244.396461 43.409182 \nL 245.925927 47.145015 \nL 247.455392 43.409182 \nL 248.984858 43.409182 \nL 250.514323 35.937555 \nL 253.573254 43.409182 \nL 264.279513 43.409182 \nL 267.338444 35.937555 \nL 268.867909 43.409182 \nL 270.397375 43.409182 \nL 271.92684 35.937555 \nL 273.456306 47.145015 \nL 274.985771 47.145015 \nL 276.515237 43.409182 \nL 278.044702 43.409182 \nL 281.103633 35.937555 \nL 284.162564 43.409182 \nL 285.69203 39.673388 \nL 288.750961 39.673388 \nL 290.280426 35.937555 \nL 291.809892 39.673388 \nL 293.339357 35.937555 \nL 294.868823 39.673388 \nL 296.398288 32.201761 \nL 297.927754 39.673388 \nL 299.457219 39.673388 \nL 300.986685 35.937555 \nL 302.51615 35.937555 \nL 305.575081 43.409182 \nL 307.104547 35.937555 \nL 308.634012 35.937555 \nL 310.163478 43.409182 \nL 314.751874 43.409182 \nL 316.28134 39.673388 \nL 317.810805 43.409182 \nL 320.869736 43.409182 \nL 322.399202 35.937555 \nL 325.458133 43.409182 \nL 326.987599 39.673388 \nL 330.04653 39.673388 \nL 331.575995 43.409182 \nL 337.693857 43.409182 \nL 339.223323 47.145015 \nL 343.811719 47.145015 \nL 345.341185 43.409182 \nL 346.87065 50.880808 \nL 348.400116 43.409182 \nL 349.929581 47.145015 \nL 351.459047 43.409182 \nL 352.988512 35.937555 \nL 354.517978 43.409182 \nL 356.047443 43.409182 \nL 356.047443 43.409182 \n\" style=\"fill:none;stroke:#ff7f0e;stroke-linecap:square;stroke-width:1.5;\"/>\n   </g>\n   <g id=\"patch_3\">\n    <path d=\"M 36.465625 239.758125 \nL 36.465625 22.318125 \n\" style=\"fill:none;stroke:#000000;stroke-linecap:square;stroke-linejoin:miter;stroke-width:0.8;\"/>\n   </g>\n   <g id=\"patch_4\">\n    <path d=\"M 371.265625 239.758125 \nL 371.265625 22.318125 \n\" style=\"fill:none;stroke:#000000;stroke-linecap:square;stroke-linejoin:miter;stroke-width:0.8;\"/>\n   </g>\n   <g id=\"patch_5\">\n    <path d=\"M 36.465625 239.758125 \nL 371.265625 239.758125 \n\" style=\"fill:none;stroke:#000000;stroke-linecap:square;stroke-linejoin:miter;stroke-width:0.8;\"/>\n   </g>\n   <g id=\"patch_6\">\n    <path d=\"M 36.465625 22.318125 \nL 371.265625 22.318125 \n\" style=\"fill:none;stroke:#000000;stroke-linecap:square;stroke-linejoin:miter;stroke-width:0.8;\"/>\n   </g>\n   <g id=\"text_16\">\n    <!-- Training and validation accuracy -->\n    <g transform=\"translate(106.57375 16.318125)scale(0.12 -0.12)\">\n     <defs>\n      <path d=\"M -0.296875 72.90625 \nL 61.375 72.90625 \nL 61.375 64.59375 \nL 35.5 64.59375 \nL 35.5 0 \nL 25.59375 0 \nL 25.59375 64.59375 \nL -0.296875 64.59375 \nz\n\" id=\"DejaVuSans-84\"/>\n      <path d=\"M 41.109375 46.296875 \nQ 39.59375 47.171875 37.8125 47.578125 \nQ 36.03125 48 33.890625 48 \nQ 26.265625 48 22.1875 43.046875 \nQ 18.109375 38.09375 18.109375 28.8125 \nL 18.109375 0 \nL 9.078125 0 \nL 9.078125 54.6875 \nL 18.109375 54.6875 \nL 18.109375 46.1875 \nQ 20.953125 51.171875 25.484375 53.578125 \nQ 30.03125 56 36.53125 56 \nQ 37.453125 56 38.578125 55.875 \nQ 39.703125 55.765625 41.0625 55.515625 \nz\n\" id=\"DejaVuSans-114\"/>\n      <path d=\"M 34.28125 27.484375 \nQ 23.390625 27.484375 19.1875 25 \nQ 14.984375 22.515625 14.984375 16.5 \nQ 14.984375 11.71875 18.140625 8.90625 \nQ 21.296875 6.109375 26.703125 6.109375 \nQ 34.1875 6.109375 38.703125 11.40625 \nQ 43.21875 16.703125 43.21875 25.484375 \nL 43.21875 27.484375 \nz\nM 52.203125 31.203125 \nL 52.203125 0 \nL 43.21875 0 \nL 43.21875 8.296875 \nQ 40.140625 3.328125 35.546875 0.953125 \nQ 30.953125 -1.421875 24.3125 -1.421875 \nQ 15.921875 -1.421875 10.953125 3.296875 \nQ 6 8.015625 6 15.921875 \nQ 6 25.140625 12.171875 29.828125 \nQ 18.359375 34.515625 30.609375 34.515625 \nL 43.21875 34.515625 \nL 43.21875 35.40625 \nQ 43.21875 41.609375 39.140625 45 \nQ 35.0625 48.390625 27.6875 48.390625 \nQ 23 48.390625 18.546875 47.265625 \nQ 14.109375 46.140625 10.015625 43.890625 \nL 10.015625 52.203125 \nQ 14.9375 54.109375 19.578125 55.046875 \nQ 24.21875 56 28.609375 56 \nQ 40.484375 56 46.34375 49.84375 \nQ 52.203125 43.703125 52.203125 31.203125 \nz\n\" id=\"DejaVuSans-97\"/>\n      <path d=\"M 9.421875 54.6875 \nL 18.40625 54.6875 \nL 18.40625 0 \nL 9.421875 0 \nz\nM 9.421875 75.984375 \nL 18.40625 75.984375 \nL 18.40625 64.59375 \nL 9.421875 64.59375 \nz\n\" id=\"DejaVuSans-105\"/>\n      <path d=\"M 54.890625 33.015625 \nL 54.890625 0 \nL 45.90625 0 \nL 45.90625 32.71875 \nQ 45.90625 40.484375 42.875 44.328125 \nQ 39.84375 48.1875 33.796875 48.1875 \nQ 26.515625 48.1875 22.3125 43.546875 \nQ 18.109375 38.921875 18.109375 30.90625 \nL 18.109375 0 \nL 9.078125 0 \nL 9.078125 54.6875 \nL 18.109375 54.6875 \nL 18.109375 46.1875 \nQ 21.34375 51.125 25.703125 53.5625 \nQ 30.078125 56 35.796875 56 \nQ 45.21875 56 50.046875 50.171875 \nQ 54.890625 44.34375 54.890625 33.015625 \nz\n\" id=\"DejaVuSans-110\"/>\n      <path d=\"M 45.40625 27.984375 \nQ 45.40625 37.75 41.375 43.109375 \nQ 37.359375 48.484375 30.078125 48.484375 \nQ 22.859375 48.484375 18.828125 43.109375 \nQ 14.796875 37.75 14.796875 27.984375 \nQ 14.796875 18.265625 18.828125 12.890625 \nQ 22.859375 7.515625 30.078125 7.515625 \nQ 37.359375 7.515625 41.375 12.890625 \nQ 45.40625 18.265625 45.40625 27.984375 \nz\nM 54.390625 6.78125 \nQ 54.390625 -7.171875 48.1875 -13.984375 \nQ 42 -20.796875 29.203125 -20.796875 \nQ 24.46875 -20.796875 20.265625 -20.09375 \nQ 16.0625 -19.390625 12.109375 -17.921875 \nL 12.109375 -9.1875 \nQ 16.0625 -11.328125 19.921875 -12.34375 \nQ 23.78125 -13.375 27.78125 -13.375 \nQ 36.625 -13.375 41.015625 -8.765625 \nQ 45.40625 -4.15625 45.40625 5.171875 \nL 45.40625 9.625 \nQ 42.625 4.78125 38.28125 2.390625 \nQ 33.9375 0 27.875 0 \nQ 17.828125 0 11.671875 7.65625 \nQ 5.515625 15.328125 5.515625 27.984375 \nQ 5.515625 40.671875 11.671875 48.328125 \nQ 17.828125 56 27.875 56 \nQ 33.9375 56 38.28125 53.609375 \nQ 42.625 51.21875 45.40625 46.390625 \nL 45.40625 54.6875 \nL 54.390625 54.6875 \nz\n\" id=\"DejaVuSans-103\"/>\n      <path id=\"DejaVuSans-32\"/>\n      <path d=\"M 45.40625 46.390625 \nL 45.40625 75.984375 \nL 54.390625 75.984375 \nL 54.390625 0 \nL 45.40625 0 \nL 45.40625 8.203125 \nQ 42.578125 3.328125 38.25 0.953125 \nQ 33.9375 -1.421875 27.875 -1.421875 \nQ 17.96875 -1.421875 11.734375 6.484375 \nQ 5.515625 14.40625 5.515625 27.296875 \nQ 5.515625 40.1875 11.734375 48.09375 \nQ 17.96875 56 27.875 56 \nQ 33.9375 56 38.25 53.625 \nQ 42.578125 51.265625 45.40625 46.390625 \nz\nM 14.796875 27.296875 \nQ 14.796875 17.390625 18.875 11.75 \nQ 22.953125 6.109375 30.078125 6.109375 \nQ 37.203125 6.109375 41.296875 11.75 \nQ 45.40625 17.390625 45.40625 27.296875 \nQ 45.40625 37.203125 41.296875 42.84375 \nQ 37.203125 48.484375 30.078125 48.484375 \nQ 22.953125 48.484375 18.875 42.84375 \nQ 14.796875 37.203125 14.796875 27.296875 \nz\n\" id=\"DejaVuSans-100\"/>\n      <path d=\"M 2.984375 54.6875 \nL 12.5 54.6875 \nL 29.59375 8.796875 \nL 46.6875 54.6875 \nL 56.203125 54.6875 \nL 35.6875 0 \nL 23.484375 0 \nz\n\" id=\"DejaVuSans-118\"/>\n      <path d=\"M 9.421875 75.984375 \nL 18.40625 75.984375 \nL 18.40625 0 \nL 9.421875 0 \nz\n\" id=\"DejaVuSans-108\"/>\n      <path d=\"M 18.3125 70.21875 \nL 18.3125 54.6875 \nL 36.8125 54.6875 \nL 36.8125 47.703125 \nL 18.3125 47.703125 \nL 18.3125 18.015625 \nQ 18.3125 11.328125 20.140625 9.421875 \nQ 21.96875 7.515625 27.59375 7.515625 \nL 36.8125 7.515625 \nL 36.8125 0 \nL 27.59375 0 \nQ 17.1875 0 13.234375 3.875 \nQ 9.28125 7.765625 9.28125 18.015625 \nL 9.28125 47.703125 \nL 2.6875 47.703125 \nL 2.6875 54.6875 \nL 9.28125 54.6875 \nL 9.28125 70.21875 \nz\n\" id=\"DejaVuSans-116\"/>\n      <path d=\"M 30.609375 48.390625 \nQ 23.390625 48.390625 19.1875 42.75 \nQ 14.984375 37.109375 14.984375 27.296875 \nQ 14.984375 17.484375 19.15625 11.84375 \nQ 23.34375 6.203125 30.609375 6.203125 \nQ 37.796875 6.203125 41.984375 11.859375 \nQ 46.1875 17.53125 46.1875 27.296875 \nQ 46.1875 37.015625 41.984375 42.703125 \nQ 37.796875 48.390625 30.609375 48.390625 \nz\nM 30.609375 56 \nQ 42.328125 56 49.015625 48.375 \nQ 55.71875 40.765625 55.71875 27.296875 \nQ 55.71875 13.875 49.015625 6.21875 \nQ 42.328125 -1.421875 30.609375 -1.421875 \nQ 18.84375 -1.421875 12.171875 6.21875 \nQ 5.515625 13.875 5.515625 27.296875 \nQ 5.515625 40.765625 12.171875 48.375 \nQ 18.84375 56 30.609375 56 \nz\n\" id=\"DejaVuSans-111\"/>\n      <path d=\"M 48.78125 52.59375 \nL 48.78125 44.1875 \nQ 44.96875 46.296875 41.140625 47.34375 \nQ 37.3125 48.390625 33.40625 48.390625 \nQ 24.65625 48.390625 19.8125 42.84375 \nQ 14.984375 37.3125 14.984375 27.296875 \nQ 14.984375 17.28125 19.8125 11.734375 \nQ 24.65625 6.203125 33.40625 6.203125 \nQ 37.3125 6.203125 41.140625 7.25 \nQ 44.96875 8.296875 48.78125 10.40625 \nL 48.78125 2.09375 \nQ 45.015625 0.34375 40.984375 -0.53125 \nQ 36.96875 -1.421875 32.421875 -1.421875 \nQ 20.0625 -1.421875 12.78125 6.34375 \nQ 5.515625 14.109375 5.515625 27.296875 \nQ 5.515625 40.671875 12.859375 48.328125 \nQ 20.21875 56 33.015625 56 \nQ 37.15625 56 41.109375 55.140625 \nQ 45.0625 54.296875 48.78125 52.59375 \nz\n\" id=\"DejaVuSans-99\"/>\n      <path d=\"M 8.5 21.578125 \nL 8.5 54.6875 \nL 17.484375 54.6875 \nL 17.484375 21.921875 \nQ 17.484375 14.15625 20.5 10.265625 \nQ 23.53125 6.390625 29.59375 6.390625 \nQ 36.859375 6.390625 41.078125 11.03125 \nQ 45.3125 15.671875 45.3125 23.6875 \nL 45.3125 54.6875 \nL 54.296875 54.6875 \nL 54.296875 0 \nL 45.3125 0 \nL 45.3125 8.40625 \nQ 42.046875 3.421875 37.71875 1 \nQ 33.40625 -1.421875 27.6875 -1.421875 \nQ 18.265625 -1.421875 13.375 4.4375 \nQ 8.5 10.296875 8.5 21.578125 \nz\nM 31.109375 56 \nz\n\" id=\"DejaVuSans-117\"/>\n      <path d=\"M 32.171875 -5.078125 \nQ 28.375 -14.84375 24.75 -17.8125 \nQ 21.140625 -20.796875 15.09375 -20.796875 \nL 7.90625 -20.796875 \nL 7.90625 -13.28125 \nL 13.1875 -13.28125 \nQ 16.890625 -13.28125 18.9375 -11.515625 \nQ 21 -9.765625 23.484375 -3.21875 \nL 25.09375 0.875 \nL 2.984375 54.6875 \nL 12.5 54.6875 \nL 29.59375 11.921875 \nL 46.6875 54.6875 \nL 56.203125 54.6875 \nz\n\" id=\"DejaVuSans-121\"/>\n     </defs>\n     <use xlink:href=\"#DejaVuSans-84\"/>\n     <use x=\"46.333984\" xlink:href=\"#DejaVuSans-114\"/>\n     <use x=\"87.447266\" xlink:href=\"#DejaVuSans-97\"/>\n     <use x=\"148.726562\" xlink:href=\"#DejaVuSans-105\"/>\n     <use x=\"176.509766\" xlink:href=\"#DejaVuSans-110\"/>\n     <use x=\"239.888672\" xlink:href=\"#DejaVuSans-105\"/>\n     <use x=\"267.671875\" xlink:href=\"#DejaVuSans-110\"/>\n     <use x=\"331.050781\" xlink:href=\"#DejaVuSans-103\"/>\n     <use x=\"394.527344\" xlink:href=\"#DejaVuSans-32\"/>\n     <use x=\"426.314453\" xlink:href=\"#DejaVuSans-97\"/>\n     <use x=\"487.59375\" xlink:href=\"#DejaVuSans-110\"/>\n     <use x=\"550.972656\" xlink:href=\"#DejaVuSans-100\"/>\n     <use x=\"614.449219\" xlink:href=\"#DejaVuSans-32\"/>\n     <use x=\"646.236328\" xlink:href=\"#DejaVuSans-118\"/>\n     <use x=\"705.416016\" xlink:href=\"#DejaVuSans-97\"/>\n     <use x=\"766.695312\" xlink:href=\"#DejaVuSans-108\"/>\n     <use x=\"794.478516\" xlink:href=\"#DejaVuSans-105\"/>\n     <use x=\"822.261719\" xlink:href=\"#DejaVuSans-100\"/>\n     <use x=\"885.738281\" xlink:href=\"#DejaVuSans-97\"/>\n     <use x=\"947.017578\" xlink:href=\"#DejaVuSans-116\"/>\n     <use x=\"986.226562\" xlink:href=\"#DejaVuSans-105\"/>\n     <use x=\"1014.009766\" xlink:href=\"#DejaVuSans-111\"/>\n     <use x=\"1075.191406\" xlink:href=\"#DejaVuSans-110\"/>\n     <use x=\"1138.570312\" xlink:href=\"#DejaVuSans-32\"/>\n     <use x=\"1170.357422\" xlink:href=\"#DejaVuSans-97\"/>\n     <use x=\"1231.636719\" xlink:href=\"#DejaVuSans-99\"/>\n     <use x=\"1286.617188\" xlink:href=\"#DejaVuSans-99\"/>\n     <use x=\"1341.597656\" xlink:href=\"#DejaVuSans-117\"/>\n     <use x=\"1404.976562\" xlink:href=\"#DejaVuSans-114\"/>\n     <use x=\"1446.089844\" xlink:href=\"#DejaVuSans-97\"/>\n     <use x=\"1507.369141\" xlink:href=\"#DejaVuSans-99\"/>\n     <use x=\"1562.349609\" xlink:href=\"#DejaVuSans-121\"/>\n    </g>\n   </g>\n  </g>\n </g>\n <defs>\n  <clipPath id=\"pd3ea689ea0\">\n   <rect height=\"217.44\" width=\"334.8\" x=\"36.465625\" y=\"22.318125\"/>\n  </clipPath>\n </defs>\n</svg>\n",
      "image/png": "[encoded data removed]"
     },
     "metadata": {
      "needs_background": "light"
     }
    },
    {
     "output_type": "display_data",
     "data": {
      "text/plain": "<Figure size 432x288 with 1 Axes>",
      "image/svg+xml": "<?xml version=\"1.0\" encoding=\"utf-8\" standalone=\"no\"?>\n<!DOCTYPE svg PUBLIC \"-//W3C//DTD SVG 1.1//EN\"\n  \"http://www.w3.org/Graphics/SVG/1.1/DTD/svg11.dtd\">\n<!-- Created with matplotlib (https://matplotlib.org/) -->\n<svg height=\"263.63625pt\" version=\"1.1\" viewBox=\"0 0 378.465625 263.63625\" width=\"378.465625pt\" xmlns=\"http://www.w3.org/2000/svg\" xmlns:xlink=\"http://www.w3.org/1999/xlink\">\n <metadata>\n  <rdf:RDF xmlns:cc=\"http://creativecommons.org/ns#\" xmlns:dc=\"http://purl.org/dc/elements/1.1/\" xmlns:rdf=\"http://www.w3.org/1999/02/22-rdf-syntax-ns#\">\n   <cc:Work>\n    <dc:type rdf:resource=\"http://purl.org/dc/dcmitype/StillImage\"/>\n    <dc:date>2021-02-16T10:10:55.145292</dc:date>\n    <dc:format>image/svg+xml</dc:format>\n    <dc:creator>\n     <cc:Agent>\n      <dc:title>Matplotlib v3.3.2, https://matplotlib.org/</dc:title>\n     </cc:Agent>\n    </dc:creator>\n   </cc:Work>\n  </rdf:RDF>\n </metadata>\n <defs>\n  <style type=\"text/css\">*{stroke-linecap:butt;stroke-linejoin:round;}</style>\n </defs>\n <g id=\"figure_1\">\n  <g id=\"patch_1\">\n   <path d=\"M 0 263.63625 \nL 378.465625 263.63625 \nL 378.465625 0 \nL 0 0 \nz\n\" style=\"fill:none;\"/>\n  </g>\n  <g id=\"axes_1\">\n   <g id=\"patch_2\">\n    <path d=\"M 36.465625 239.758125 \nL 371.265625 239.758125 \nL 371.265625 22.318125 \nL 36.465625 22.318125 \nz\n\" style=\"fill:#ffffff;\"/>\n   </g>\n   <g id=\"matplotlib.axis_1\">\n    <g id=\"xtick_1\">\n     <g id=\"line2d_1\">\n      <defs>\n       <path d=\"M 0 0 \nL 0 3.5 \n\" id=\"m1d93c8cb33\" style=\"stroke:#000000;stroke-width:0.8;\"/>\n      </defs>\n      <g>\n       <use style=\"stroke:#000000;stroke-width:0.8;\" x=\"51.683807\" xlink:href=\"#m1d93c8cb33\" y=\"239.758125\"/>\n      </g>\n     </g>\n     <g id=\"text_1\">\n      <!-- 0 -->\n      <g transform=\"translate(48.502557 254.356563)scale(0.1 -0.1)\">\n       <defs>\n        <path d=\"M 31.78125 66.40625 \nQ 24.171875 66.40625 20.328125 58.90625 \nQ 16.5 51.421875 16.5 36.375 \nQ 16.5 21.390625 20.328125 13.890625 \nQ 24.171875 6.390625 31.78125 6.390625 \nQ 39.453125 6.390625 43.28125 13.890625 \nQ 47.125 21.390625 47.125 36.375 \nQ 47.125 51.421875 43.28125 58.90625 \nQ 39.453125 66.40625 31.78125 66.40625 \nz\nM 31.78125 74.21875 \nQ 44.046875 74.21875 50.515625 64.515625 \nQ 56.984375 54.828125 56.984375 36.375 \nQ 56.984375 17.96875 50.515625 8.265625 \nQ 44.046875 -1.421875 31.78125 -1.421875 \nQ 19.53125 -1.421875 13.0625 8.265625 \nQ 6.59375 17.96875 6.59375 36.375 \nQ 6.59375 54.828125 13.0625 64.515625 \nQ 19.53125 74.21875 31.78125 74.21875 \nz\n\" id=\"DejaVuSans-48\"/>\n       </defs>\n       <use xlink:href=\"#DejaVuSans-48\"/>\n      </g>\n     </g>\n    </g>\n    <g id=\"xtick_2\">\n     <g id=\"line2d_2\">\n      <g>\n       <use style=\"stroke:#000000;stroke-width:0.8;\" x=\"89.920445\" xlink:href=\"#m1d93c8cb33\" y=\"239.758125\"/>\n      </g>\n     </g>\n     <g id=\"text_2\">\n      <!-- 25 -->\n      <g transform=\"translate(83.557945 254.356563)scale(0.1 -0.1)\">\n       <defs>\n        <path d=\"M 19.1875 8.296875 \nL 53.609375 8.296875 \nL 53.609375 0 \nL 7.328125 0 \nL 7.328125 8.296875 \nQ 12.9375 14.109375 22.625 23.890625 \nQ 32.328125 33.6875 34.8125 36.53125 \nQ 39.546875 41.84375 41.421875 45.53125 \nQ 43.3125 49.21875 43.3125 52.78125 \nQ 43.3125 58.59375 39.234375 62.25 \nQ 35.15625 65.921875 28.609375 65.921875 \nQ 23.96875 65.921875 18.8125 64.3125 \nQ 13.671875 62.703125 7.8125 59.421875 \nL 7.8125 69.390625 \nQ 13.765625 71.78125 18.9375 73 \nQ 24.125 74.21875 28.421875 74.21875 \nQ 39.75 74.21875 46.484375 68.546875 \nQ 53.21875 62.890625 53.21875 53.421875 \nQ 53.21875 48.921875 51.53125 44.890625 \nQ 49.859375 40.875 45.40625 35.40625 \nQ 44.1875 33.984375 37.640625 27.21875 \nQ 31.109375 20.453125 19.1875 8.296875 \nz\n\" id=\"DejaVuSans-50\"/>\n        <path d=\"M 10.796875 72.90625 \nL 49.515625 72.90625 \nL 49.515625 64.59375 \nL 19.828125 64.59375 \nL 19.828125 46.734375 \nQ 21.96875 47.46875 24.109375 47.828125 \nQ 26.265625 48.1875 28.421875 48.1875 \nQ 40.625 48.1875 47.75 41.5 \nQ 54.890625 34.8125 54.890625 23.390625 \nQ 54.890625 11.625 47.5625 5.09375 \nQ 40.234375 -1.421875 26.90625 -1.421875 \nQ 22.3125 -1.421875 17.546875 -0.640625 \nQ 12.796875 0.140625 7.71875 1.703125 \nL 7.71875 11.625 \nQ 12.109375 9.234375 16.796875 8.0625 \nQ 21.484375 6.890625 26.703125 6.890625 \nQ 35.15625 6.890625 40.078125 11.328125 \nQ 45.015625 15.765625 45.015625 23.390625 \nQ 45.015625 31 40.078125 35.4375 \nQ 35.15625 39.890625 26.703125 39.890625 \nQ 22.75 39.890625 18.8125 39.015625 \nQ 14.890625 38.140625 10.796875 36.28125 \nz\n\" id=\"DejaVuSans-53\"/>\n       </defs>\n       <use xlink:href=\"#DejaVuSans-50\"/>\n       <use x=\"63.623047\" xlink:href=\"#DejaVuSans-53\"/>\n      </g>\n     </g>\n    </g>\n    <g id=\"xtick_3\">\n     <g id=\"line2d_3\">\n      <g>\n       <use style=\"stroke:#000000;stroke-width:0.8;\" x=\"128.157082\" xlink:href=\"#m1d93c8cb33\" y=\"239.758125\"/>\n      </g>\n     </g>\n     <g id=\"text_3\">\n      <!-- 50 -->\n      <g transform=\"translate(121.794582 254.356563)scale(0.1 -0.1)\">\n       <use xlink:href=\"#DejaVuSans-53\"/>\n       <use x=\"63.623047\" xlink:href=\"#DejaVuSans-48\"/>\n      </g>\n     </g>\n    </g>\n    <g id=\"xtick_4\">\n     <g id=\"line2d_4\">\n      <g>\n       <use style=\"stroke:#000000;stroke-width:0.8;\" x=\"166.39372\" xlink:href=\"#m1d93c8cb33\" y=\"239.758125\"/>\n      </g>\n     </g>\n     <g id=\"text_4\">\n      <!-- 75 -->\n      <g transform=\"translate(160.03122 254.356563)scale(0.1 -0.1)\">\n       <defs>\n        <path d=\"M 8.203125 72.90625 \nL 55.078125 72.90625 \nL 55.078125 68.703125 \nL 28.609375 0 \nL 18.3125 0 \nL 43.21875 64.59375 \nL 8.203125 64.59375 \nz\n\" id=\"DejaVuSans-55\"/>\n       </defs>\n       <use xlink:href=\"#DejaVuSans-55\"/>\n       <use x=\"63.623047\" xlink:href=\"#DejaVuSans-53\"/>\n      </g>\n     </g>\n    </g>\n    <g id=\"xtick_5\">\n     <g id=\"line2d_5\">\n      <g>\n       <use style=\"stroke:#000000;stroke-width:0.8;\" x=\"204.630358\" xlink:href=\"#m1d93c8cb33\" y=\"239.758125\"/>\n      </g>\n     </g>\n     <g id=\"text_5\">\n      <!-- 100 -->\n      <g transform=\"translate(195.086608 254.356563)scale(0.1 -0.1)\">\n       <defs>\n        <path d=\"M 12.40625 8.296875 \nL 28.515625 8.296875 \nL 28.515625 63.921875 \nL 10.984375 60.40625 \nL 10.984375 69.390625 \nL 28.421875 72.90625 \nL 38.28125 72.90625 \nL 38.28125 8.296875 \nL 54.390625 8.296875 \nL 54.390625 0 \nL 12.40625 0 \nz\n\" id=\"DejaVuSans-49\"/>\n       </defs>\n       <use xlink:href=\"#DejaVuSans-49\"/>\n       <use x=\"63.623047\" xlink:href=\"#DejaVuSans-48\"/>\n       <use x=\"127.246094\" xlink:href=\"#DejaVuSans-48\"/>\n      </g>\n     </g>\n    </g>\n    <g id=\"xtick_6\">\n     <g id=\"line2d_6\">\n      <g>\n       <use style=\"stroke:#000000;stroke-width:0.8;\" x=\"242.866995\" xlink:href=\"#m1d93c8cb33\" y=\"239.758125\"/>\n      </g>\n     </g>\n     <g id=\"text_6\">\n      <!-- 125 -->\n      <g transform=\"translate(233.323245 254.356563)scale(0.1 -0.1)\">\n       <use xlink:href=\"#DejaVuSans-49\"/>\n       <use x=\"63.623047\" xlink:href=\"#DejaVuSans-50\"/>\n       <use x=\"127.246094\" xlink:href=\"#DejaVuSans-53\"/>\n      </g>\n     </g>\n    </g>\n    <g id=\"xtick_7\">\n     <g id=\"line2d_7\">\n      <g>\n       <use style=\"stroke:#000000;stroke-width:0.8;\" x=\"281.103633\" xlink:href=\"#m1d93c8cb33\" y=\"239.758125\"/>\n      </g>\n     </g>\n     <g id=\"text_7\">\n      <!-- 150 -->\n      <g transform=\"translate(271.559883 254.356563)scale(0.1 -0.1)\">\n       <use xlink:href=\"#DejaVuSans-49\"/>\n       <use x=\"63.623047\" xlink:href=\"#DejaVuSans-53\"/>\n       <use x=\"127.246094\" xlink:href=\"#DejaVuSans-48\"/>\n      </g>\n     </g>\n    </g>\n    <g id=\"xtick_8\">\n     <g id=\"line2d_8\">\n      <g>\n       <use style=\"stroke:#000000;stroke-width:0.8;\" x=\"319.340271\" xlink:href=\"#m1d93c8cb33\" y=\"239.758125\"/>\n      </g>\n     </g>\n     <g id=\"text_8\">\n      <!-- 175 -->\n      <g transform=\"translate(309.796521 254.356563)scale(0.1 -0.1)\">\n       <use xlink:href=\"#DejaVuSans-49\"/>\n       <use x=\"63.623047\" xlink:href=\"#DejaVuSans-55\"/>\n       <use x=\"127.246094\" xlink:href=\"#DejaVuSans-53\"/>\n      </g>\n     </g>\n    </g>\n    <g id=\"xtick_9\">\n     <g id=\"line2d_9\">\n      <g>\n       <use style=\"stroke:#000000;stroke-width:0.8;\" x=\"357.576909\" xlink:href=\"#m1d93c8cb33\" y=\"239.758125\"/>\n      </g>\n     </g>\n     <g id=\"text_9\">\n      <!-- 200 -->\n      <g transform=\"translate(348.033159 254.356563)scale(0.1 -0.1)\">\n       <use xlink:href=\"#DejaVuSans-50\"/>\n       <use x=\"63.623047\" xlink:href=\"#DejaVuSans-48\"/>\n       <use x=\"127.246094\" xlink:href=\"#DejaVuSans-48\"/>\n      </g>\n     </g>\n    </g>\n   </g>\n   <g id=\"matplotlib.axis_2\">\n    <g id=\"ytick_1\">\n     <g id=\"line2d_10\">\n      <defs>\n       <path d=\"M 0 0 \nL -3.5 0 \n\" id=\"m389453b5f6\" style=\"stroke:#000000;stroke-width:0.8;\"/>\n      </defs>\n      <g>\n       <use style=\"stroke:#000000;stroke-width:0.8;\" x=\"36.465625\" xlink:href=\"#m389453b5f6\" y=\"224.917962\"/>\n      </g>\n     </g>\n     <g id=\"text_10\">\n      <!-- 0.35 -->\n      <g transform=\"translate(7.2 228.717181)scale(0.1 -0.1)\">\n       <defs>\n        <path d=\"M 10.6875 12.40625 \nL 21 12.40625 \nL 21 0 \nL 10.6875 0 \nz\n\" id=\"DejaVuSans-46\"/>\n        <path d=\"M 40.578125 39.3125 \nQ 47.65625 37.796875 51.625 33 \nQ 55.609375 28.21875 55.609375 21.1875 \nQ 55.609375 10.40625 48.1875 4.484375 \nQ 40.765625 -1.421875 27.09375 -1.421875 \nQ 22.515625 -1.421875 17.65625 -0.515625 \nQ 12.796875 0.390625 7.625 2.203125 \nL 7.625 11.71875 \nQ 11.71875 9.328125 16.59375 8.109375 \nQ 21.484375 6.890625 26.8125 6.890625 \nQ 36.078125 6.890625 40.9375 10.546875 \nQ 45.796875 14.203125 45.796875 21.1875 \nQ 45.796875 27.640625 41.28125 31.265625 \nQ 36.765625 34.90625 28.71875 34.90625 \nL 20.21875 34.90625 \nL 20.21875 43.015625 \nL 29.109375 43.015625 \nQ 36.375 43.015625 40.234375 45.921875 \nQ 44.09375 48.828125 44.09375 54.296875 \nQ 44.09375 59.90625 40.109375 62.90625 \nQ 36.140625 65.921875 28.71875 65.921875 \nQ 24.65625 65.921875 20.015625 65.03125 \nQ 15.375 64.15625 9.8125 62.3125 \nL 9.8125 71.09375 \nQ 15.4375 72.65625 20.34375 73.4375 \nQ 25.25 74.21875 29.59375 74.21875 \nQ 40.828125 74.21875 47.359375 69.109375 \nQ 53.90625 64.015625 53.90625 55.328125 \nQ 53.90625 49.265625 50.4375 45.09375 \nQ 46.96875 40.921875 40.578125 39.3125 \nz\n\" id=\"DejaVuSans-51\"/>\n       </defs>\n       <use xlink:href=\"#DejaVuSans-48\"/>\n       <use x=\"63.623047\" xlink:href=\"#DejaVuSans-46\"/>\n       <use x=\"95.410156\" xlink:href=\"#DejaVuSans-51\"/>\n       <use x=\"159.033203\" xlink:href=\"#DejaVuSans-53\"/>\n      </g>\n     </g>\n    </g>\n    <g id=\"ytick_2\">\n     <g id=\"line2d_11\">\n      <g>\n       <use style=\"stroke:#000000;stroke-width:0.8;\" x=\"36.465625\" xlink:href=\"#m389453b5f6\" y=\"195.709443\"/>\n      </g>\n     </g>\n     <g id=\"text_11\">\n      <!-- 0.40 -->\n      <g transform=\"translate(7.2 199.508662)scale(0.1 -0.1)\">\n       <defs>\n        <path d=\"M 37.796875 64.3125 \nL 12.890625 25.390625 \nL 37.796875 25.390625 \nz\nM 35.203125 72.90625 \nL 47.609375 72.90625 \nL 47.609375 25.390625 \nL 58.015625 25.390625 \nL 58.015625 17.1875 \nL 47.609375 17.1875 \nL 47.609375 0 \nL 37.796875 0 \nL 37.796875 17.1875 \nL 4.890625 17.1875 \nL 4.890625 26.703125 \nz\n\" id=\"DejaVuSans-52\"/>\n       </defs>\n       <use xlink:href=\"#DejaVuSans-48\"/>\n       <use x=\"63.623047\" xlink:href=\"#DejaVuSans-46\"/>\n       <use x=\"95.410156\" xlink:href=\"#DejaVuSans-52\"/>\n       <use x=\"159.033203\" xlink:href=\"#DejaVuSans-48\"/>\n      </g>\n     </g>\n    </g>\n    <g id=\"ytick_3\">\n     <g id=\"line2d_12\">\n      <g>\n       <use style=\"stroke:#000000;stroke-width:0.8;\" x=\"36.465625\" xlink:href=\"#m389453b5f6\" y=\"166.500924\"/>\n      </g>\n     </g>\n     <g id=\"text_12\">\n      <!-- 0.45 -->\n      <g transform=\"translate(7.2 170.300143)scale(0.1 -0.1)\">\n       <use xlink:href=\"#DejaVuSans-48\"/>\n       <use x=\"63.623047\" xlink:href=\"#DejaVuSans-46\"/>\n       <use x=\"95.410156\" xlink:href=\"#DejaVuSans-52\"/>\n       <use x=\"159.033203\" xlink:href=\"#DejaVuSans-53\"/>\n      </g>\n     </g>\n    </g>\n    <g id=\"ytick_4\">\n     <g id=\"line2d_13\">\n      <g>\n       <use style=\"stroke:#000000;stroke-width:0.8;\" x=\"36.465625\" xlink:href=\"#m389453b5f6\" y=\"137.292405\"/>\n      </g>\n     </g>\n     <g id=\"text_13\">\n      <!-- 0.50 -->\n      <g transform=\"translate(7.2 141.091624)scale(0.1 -0.1)\">\n       <use xlink:href=\"#DejaVuSans-48\"/>\n       <use x=\"63.623047\" xlink:href=\"#DejaVuSans-46\"/>\n       <use x=\"95.410156\" xlink:href=\"#DejaVuSans-53\"/>\n       <use x=\"159.033203\" xlink:href=\"#DejaVuSans-48\"/>\n      </g>\n     </g>\n    </g>\n    <g id=\"ytick_5\">\n     <g id=\"line2d_14\">\n      <g>\n       <use style=\"stroke:#000000;stroke-width:0.8;\" x=\"36.465625\" xlink:href=\"#m389453b5f6\" y=\"108.083886\"/>\n      </g>\n     </g>\n     <g id=\"text_14\">\n      <!-- 0.55 -->\n      <g transform=\"translate(7.2 111.883105)scale(0.1 -0.1)\">\n       <use xlink:href=\"#DejaVuSans-48\"/>\n       <use x=\"63.623047\" xlink:href=\"#DejaVuSans-46\"/>\n       <use x=\"95.410156\" xlink:href=\"#DejaVuSans-53\"/>\n       <use x=\"159.033203\" xlink:href=\"#DejaVuSans-53\"/>\n      </g>\n     </g>\n    </g>\n    <g id=\"ytick_6\">\n     <g id=\"line2d_15\">\n      <g>\n       <use style=\"stroke:#000000;stroke-width:0.8;\" x=\"36.465625\" xlink:href=\"#m389453b5f6\" y=\"78.875367\"/>\n      </g>\n     </g>\n     <g id=\"text_15\">\n      <!-- 0.60 -->\n      <g transform=\"translate(7.2 82.674586)scale(0.1 -0.1)\">\n       <defs>\n        <path d=\"M 33.015625 40.375 \nQ 26.375 40.375 22.484375 35.828125 \nQ 18.609375 31.296875 18.609375 23.390625 \nQ 18.609375 15.53125 22.484375 10.953125 \nQ 26.375 6.390625 33.015625 6.390625 \nQ 39.65625 6.390625 43.53125 10.953125 \nQ 47.40625 15.53125 47.40625 23.390625 \nQ 47.40625 31.296875 43.53125 35.828125 \nQ 39.65625 40.375 33.015625 40.375 \nz\nM 52.59375 71.296875 \nL 52.59375 62.3125 \nQ 48.875 64.0625 45.09375 64.984375 \nQ 41.3125 65.921875 37.59375 65.921875 \nQ 27.828125 65.921875 22.671875 59.328125 \nQ 17.53125 52.734375 16.796875 39.40625 \nQ 19.671875 43.65625 24.015625 45.921875 \nQ 28.375 48.1875 33.59375 48.1875 \nQ 44.578125 48.1875 50.953125 41.515625 \nQ 57.328125 34.859375 57.328125 23.390625 \nQ 57.328125 12.15625 50.6875 5.359375 \nQ 44.046875 -1.421875 33.015625 -1.421875 \nQ 20.359375 -1.421875 13.671875 8.265625 \nQ 6.984375 17.96875 6.984375 36.375 \nQ 6.984375 53.65625 15.1875 63.9375 \nQ 23.390625 74.21875 37.203125 74.21875 \nQ 40.921875 74.21875 44.703125 73.484375 \nQ 48.484375 72.75 52.59375 71.296875 \nz\n\" id=\"DejaVuSans-54\"/>\n       </defs>\n       <use xlink:href=\"#DejaVuSans-48\"/>\n       <use x=\"63.623047\" xlink:href=\"#DejaVuSans-46\"/>\n       <use x=\"95.410156\" xlink:href=\"#DejaVuSans-54\"/>\n       <use x=\"159.033203\" xlink:href=\"#DejaVuSans-48\"/>\n      </g>\n     </g>\n    </g>\n    <g id=\"ytick_7\">\n     <g id=\"line2d_16\">\n      <g>\n       <use style=\"stroke:#000000;stroke-width:0.8;\" x=\"36.465625\" xlink:href=\"#m389453b5f6\" y=\"49.666849\"/>\n      </g>\n     </g>\n     <g id=\"text_16\">\n      <!-- 0.65 -->\n      <g transform=\"translate(7.2 53.466067)scale(0.1 -0.1)\">\n       <use xlink:href=\"#DejaVuSans-48\"/>\n       <use x=\"63.623047\" xlink:href=\"#DejaVuSans-46\"/>\n       <use x=\"95.410156\" xlink:href=\"#DejaVuSans-54\"/>\n       <use x=\"159.033203\" xlink:href=\"#DejaVuSans-53\"/>\n      </g>\n     </g>\n    </g>\n   </g>\n   <g id=\"line2d_17\">\n    <path clip-path=\"url(#p56c2bb76c6)\" d=\"M 51.683807 32.201761 \nL 53.213272 69.349742 \nL 54.742738 83.792983 \nL 56.272203 86.349309 \nL 57.801669 82.817347 \nL 59.331134 89.463371 \nL 60.8606 102.003948 \nL 62.390065 106.917852 \nL 63.919531 125.249535 \nL 65.448996 118.187561 \nL 66.978462 125.72158 \nL 68.507927 139.358041 \nL 70.037393 141.171533 \nL 71.566858 142.255701 \nL 73.096324 137.714902 \nL 74.625789 136.98227 \nL 76.155255 151.147897 \nL 77.68472 155.412944 \nL 79.214186 142.892058 \nL 80.743651 154.099144 \nL 82.273117 137.280497 \nL 83.802583 142.139526 \nL 85.332048 153.503578 \nL 86.861514 158.791702 \nL 88.390979 163.404228 \nL 89.920445 158.918374 \nL 91.44991 162.355489 \nL 92.979376 160.100349 \nL 94.508841 165.870407 \nL 96.038307 166.569038 \nL 97.567772 153.446735 \nL 99.097238 178.000291 \nL 100.626703 160.637819 \nL 102.156169 163.301406 \nL 103.685634 180.694571 \nL 105.2151 170.188135 \nL 106.744565 161.583928 \nL 108.274031 174.167734 \nL 109.803496 179.253245 \nL 112.862427 167.423433 \nL 114.391893 170.213623 \nL 115.921358 178.009831 \nL 117.450824 166.280316 \nL 118.980289 169.481426 \nL 120.509755 177.718429 \nL 122.03922 168.862217 \nL 123.568686 171.98575 \nL 125.098151 181.652971 \nL 126.627617 185.348114 \nL 128.157082 174.705239 \nL 129.686548 169.354527 \nL 131.216013 174.777437 \nL 132.745479 180.766681 \nL 134.274944 188.545863 \nL 135.80441 179.001136 \nL 137.333875 186.58425 \nL 138.863341 185.041826 \nL 140.392806 193.757454 \nL 141.922272 178.25031 \nL 143.451737 196.320396 \nL 144.981203 195.033459 \nL 146.510668 190.213932 \nL 148.040134 184.585015 \nL 149.569599 196.271893 \nL 151.099065 186.236458 \nL 152.62853 190.353958 \nL 154.157996 187.664239 \nL 155.687461 185.772787 \nL 157.216927 188.409754 \nL 158.746392 188.925045 \nL 160.275858 197.275994 \nL 161.805323 182.836443 \nL 163.334789 195.692779 \nL 164.864255 191.454351 \nL 166.39372 188.802568 \nL 167.923186 192.162244 \nL 169.452651 191.097367 \nL 170.982117 194.281711 \nL 172.511582 196.953341 \nL 174.041048 202.025812 \nL 175.570513 191.394009 \nL 177.099979 199.109994 \nL 178.629444 201.357404 \nL 180.15891 191.306822 \nL 181.688375 189.050499 \nL 183.217841 198.862168 \nL 184.747306 178.127172 \nL 186.276772 194.55727 \nL 187.806237 193.444812 \nL 189.335703 199.568616 \nL 190.865168 198.878011 \nL 192.394634 194.071872 \nL 193.924099 207.875048 \nL 195.453565 194.486953 \nL 196.98303 201.218719 \nL 198.512496 199.100558 \nL 200.041961 188.696456 \nL 201.571427 182.50996 \nL 203.100892 197.065999 \nL 204.630358 193.890151 \nL 206.159823 196.143654 \nL 207.689289 192.258589 \nL 210.74822 197.725058 \nL 212.277685 194.340277 \nL 213.807151 205.378855 \nL 215.336616 212.118577 \nL 216.866082 209.009042 \nL 218.395547 193.917745 \nL 219.925013 206.990204 \nL 222.983944 198.12097 \nL 224.513409 192.650341 \nL 227.57234 210.741458 \nL 229.101806 198.672438 \nL 230.631271 192.58354 \nL 233.690202 211.455479 \nL 235.219668 202.7375 \nL 236.749133 203.028206 \nL 238.278599 214.62875 \nL 239.808064 202.509382 \nL 241.33753 196.954577 \nL 242.866995 188.499118 \nL 244.396461 197.37589 \nL 245.925927 200.470261 \nL 247.455392 204.607365 \nL 248.984858 199.340097 \nL 250.514323 198.899912 \nL 252.043789 199.884862 \nL 253.573254 205.586674 \nL 255.10272 200.627923 \nL 256.632185 202.408406 \nL 258.161651 205.526349 \nL 259.691116 209.047256 \nL 261.220582 196.378753 \nL 262.750047 202.09317 \nL 264.279513 204.323622 \nL 265.808978 198.037387 \nL 267.338444 201.237573 \nL 268.867909 203.282613 \nL 270.397375 201.575094 \nL 271.92684 209.032598 \nL 273.456306 200.395626 \nL 274.985771 204.122767 \nL 276.515237 197.30646 \nL 278.044702 200.347471 \nL 279.574168 204.410601 \nL 281.103633 204.486681 \nL 282.633099 203.54858 \nL 284.162564 203.091351 \nL 285.69203 199.201586 \nL 287.221495 200.387809 \nL 288.750961 204.041134 \nL 290.280426 200.245033 \nL 291.809892 195.860329 \nL 293.339357 197.192514 \nL 294.868823 201.791321 \nL 296.398288 195.108895 \nL 297.927754 202.385564 \nL 299.457219 204.594133 \nL 300.986685 210.795845 \nL 302.51615 210.674883 \nL 304.045616 212.300734 \nL 305.575081 203.005051 \nL 307.104547 207.166198 \nL 308.634012 220.917458 \nL 310.163478 210.799884 \nL 311.692943 214.685541 \nL 313.222409 192.93814 \nL 314.751874 205.046244 \nL 316.28134 206.80399 \nL 317.810805 203.672171 \nL 319.340271 204.503934 \nL 320.869736 208.859459 \nL 322.399202 210.6702 \nL 323.928667 205.864775 \nL 325.458133 207.082875 \nL 326.987599 207.064769 \nL 328.517064 205.31585 \nL 330.04653 197.851661 \nL 331.575995 206.804304 \nL 333.105461 203.602637 \nL 334.634926 204.989819 \nL 336.164392 213.961491 \nL 337.693857 203.949141 \nL 339.223323 199.934305 \nL 340.752788 209.164702 \nL 342.282254 202.547439 \nL 343.811719 205.040325 \nL 345.341185 210.264503 \nL 346.87065 206.165388 \nL 348.400116 200.468137 \nL 349.929581 204.550731 \nL 351.459047 198.149156 \nL 352.988512 210.110236 \nL 354.517978 197.574151 \nL 356.047443 208.175016 \nL 356.047443 208.175016 \n\" style=\"fill:none;stroke:#1f77b4;stroke-linecap:square;stroke-width:1.5;\"/>\n   </g>\n   <g id=\"line2d_18\">\n    <path clip-path=\"url(#p56c2bb76c6)\" d=\"M 51.683807 81.158836 \nL 53.213272 126.447561 \nL 54.742738 127.645588 \nL 56.272203 144.312858 \nL 57.801669 126.331544 \nL 59.331134 158.817207 \nL 60.8606 161.868106 \nL 62.390065 173.831467 \nL 63.919531 184.045682 \nL 65.448996 188.617086 \nL 66.978462 196.051313 \nL 68.507927 205.113062 \nL 70.037393 211.847022 \nL 73.096324 213.097399 \nL 74.625789 214.234248 \nL 76.155255 217.460079 \nL 77.68472 221.290199 \nL 79.214186 209.281729 \nL 80.743651 216.751507 \nL 82.273117 192.244174 \nL 83.802583 219.190179 \nL 85.332048 217.635934 \nL 86.861514 223.89038 \nL 88.390979 219.895635 \nL 89.920445 221.505434 \nL 91.44991 225.841129 \nL 92.979376 219.838775 \nL 94.508841 225.270755 \nL 96.038307 223.425333 \nL 97.567772 220.989865 \nL 99.097238 228.876394 \nL 100.626703 218.354516 \nL 102.156169 226.831476 \nL 103.685634 222.272311 \nL 105.2151 226.49211 \nL 106.744565 217.003059 \nL 108.274031 229.874489 \nL 109.803496 223.288442 \nL 111.332962 228.273499 \nL 112.862427 215.405237 \nL 114.391893 227.601086 \nL 115.921358 220.809083 \nL 117.450824 227.320147 \nL 118.980289 215.674547 \nL 120.509755 229.652916 \nL 122.03922 219.718579 \nL 123.568686 225.866495 \nL 125.098151 222.107076 \nL 126.627617 228.702037 \nL 128.157082 220.461308 \nL 129.686548 226.068029 \nL 131.216013 221.655644 \nL 132.745479 227.427007 \nL 134.274944 218.847975 \nL 135.80441 221.526099 \nL 137.333875 221.315408 \nL 138.863341 221.220664 \nL 140.392806 227.11884 \nL 141.922272 222.424401 \nL 144.981203 224.184306 \nL 146.510668 221.841283 \nL 148.040134 226.387705 \nL 149.569599 218.343775 \nL 151.099065 224.747578 \nL 152.62853 218.621946 \nL 154.157996 226.494896 \nL 155.687461 215.811056 \nL 157.216927 219.023238 \nL 158.746392 216.967038 \nL 160.275858 221.857805 \nL 161.805323 201.6186 \nL 163.334789 218.368357 \nL 164.864255 201.071903 \nL 166.39372 221.493578 \nL 167.923186 206.819868 \nL 169.452651 220.430911 \nL 170.982117 211.054483 \nL 172.511582 212.529131 \nL 174.041048 209.506888 \nL 175.570513 210.805299 \nL 177.099979 208.374722 \nL 178.629444 214.147304 \nL 180.15891 209.699682 \nL 181.688375 217.262149 \nL 183.217841 200.316534 \nL 184.747306 214.933088 \nL 186.276772 206.187411 \nL 187.806237 213.580516 \nL 189.335703 207.675934 \nL 190.865168 210.636982 \nL 192.394634 208.464469 \nL 193.924099 210.782562 \nL 195.453565 206.570788 \nL 196.98303 207.157214 \nL 198.512496 198.36716 \nL 200.041961 212.172234 \nL 201.571427 198.688228 \nL 203.100892 209.806734 \nL 204.630358 199.424482 \nL 206.159823 209.209462 \nL 207.689289 192.511116 \nL 209.218754 202.816331 \nL 210.74822 195.141677 \nL 212.277685 190.457737 \nL 213.807151 196.692545 \nL 215.336616 190.547431 \nL 216.866082 199.166018 \nL 218.395547 192.114124 \nL 219.925013 193.795007 \nL 221.454478 199.690153 \nL 222.983944 184.994176 \nL 224.513409 202.653238 \nL 226.042875 187.311137 \nL 227.57234 201.483606 \nL 229.101806 193.259661 \nL 230.631271 193.50693 \nL 232.160737 197.115303 \nL 233.690202 191.78402 \nL 235.219668 196.729505 \nL 236.749133 189.871328 \nL 238.278599 193.532208 \nL 239.808064 191.029643 \nL 241.33753 198.260874 \nL 242.866995 190.247254 \nL 244.396461 196.447678 \nL 245.925927 185.707814 \nL 247.455392 192.005784 \nL 248.984858 197.532559 \nL 250.514323 186.137937 \nL 252.043789 201.419434 \nL 253.573254 186.919438 \nL 255.10272 196.445328 \nL 256.632185 186.08616 \nL 258.161651 189.81755 \nL 259.691116 188.829884 \nL 261.220582 183.040327 \nL 262.750047 184.289347 \nL 264.279513 187.635496 \nL 265.808978 195.805489 \nL 267.338444 180.514398 \nL 268.867909 188.57102 \nL 270.397375 183.215486 \nL 271.92684 176.480517 \nL 273.456306 185.017923 \nL 274.985771 166.083187 \nL 276.515237 189.260285 \nL 278.044702 175.729343 \nL 279.574168 188.191681 \nL 281.103633 173.157923 \nL 282.633099 189.143483 \nL 284.162564 176.552366 \nL 285.69203 185.292281 \nL 287.221495 186.567589 \nL 288.750961 185.820681 \nL 290.280426 174.148043 \nL 291.809892 193.43757 \nL 293.339357 172.827157 \nL 294.868823 194.358417 \nL 296.398288 177.643654 \nL 297.927754 181.532427 \nL 299.457219 182.883641 \nL 300.986685 176.369582 \nL 304.045616 159.922179 \nL 305.575081 183.547783 \nL 307.104547 170.928915 \nL 308.634012 165.685011 \nL 310.163478 176.989174 \nL 311.692943 167.902459 \nL 313.222409 167.76689 \nL 314.751874 169.964004 \nL 316.28134 177.731225 \nL 317.810805 176.625939 \nL 319.340271 173.128971 \nL 320.869736 163.791662 \nL 322.399202 164.957985 \nL 323.928667 176.026212 \nL 325.458133 164.819822 \nL 326.987599 175.684478 \nL 328.517064 167.149249 \nL 330.04653 174.111083 \nL 331.575995 168.444212 \nL 333.105461 165.749253 \nL 334.634926 157.848239 \nL 336.164392 157.881683 \nL 337.693857 163.866036 \nL 339.223323 149.31959 \nL 340.752788 154.440303 \nL 342.282254 135.653985 \nL 343.811719 154.290998 \nL 345.341185 141.65237 \nL 346.87065 152.444654 \nL 348.400116 160.574901 \nL 349.929581 145.401952 \nL 351.459047 167.702196 \nL 352.988512 161.819237 \nL 354.517978 166.082317 \nL 356.047443 156.888219 \nL 356.047443 156.888219 \n\" style=\"fill:none;stroke:#ff7f0e;stroke-linecap:square;stroke-width:1.5;\"/>\n   </g>\n   <g id=\"patch_3\">\n    <path d=\"M 36.465625 239.758125 \nL 36.465625 22.318125 \n\" style=\"fill:none;stroke:#000000;stroke-linecap:square;stroke-linejoin:miter;stroke-width:0.8;\"/>\n   </g>\n   <g id=\"patch_4\">\n    <path d=\"M 371.265625 239.758125 \nL 371.265625 22.318125 \n\" style=\"fill:none;stroke:#000000;stroke-linecap:square;stroke-linejoin:miter;stroke-width:0.8;\"/>\n   </g>\n   <g id=\"patch_5\">\n    <path d=\"M 36.465625 239.758125 \nL 371.265625 239.758125 \n\" style=\"fill:none;stroke:#000000;stroke-linecap:square;stroke-linejoin:miter;stroke-width:0.8;\"/>\n   </g>\n   <g id=\"patch_6\">\n    <path d=\"M 36.465625 22.318125 \nL 371.265625 22.318125 \n\" style=\"fill:none;stroke:#000000;stroke-linecap:square;stroke-linejoin:miter;stroke-width:0.8;\"/>\n   </g>\n   <g id=\"text_17\">\n    <!-- Training and validation loss -->\n    <g transform=\"translate(122.055625 16.318125)scale(0.12 -0.12)\">\n     <defs>\n      <path d=\"M -0.296875 72.90625 \nL 61.375 72.90625 \nL 61.375 64.59375 \nL 35.5 64.59375 \nL 35.5 0 \nL 25.59375 0 \nL 25.59375 64.59375 \nL -0.296875 64.59375 \nz\n\" id=\"DejaVuSans-84\"/>\n      <path d=\"M 41.109375 46.296875 \nQ 39.59375 47.171875 37.8125 47.578125 \nQ 36.03125 48 33.890625 48 \nQ 26.265625 48 22.1875 43.046875 \nQ 18.109375 38.09375 18.109375 28.8125 \nL 18.109375 0 \nL 9.078125 0 \nL 9.078125 54.6875 \nL 18.109375 54.6875 \nL 18.109375 46.1875 \nQ 20.953125 51.171875 25.484375 53.578125 \nQ 30.03125 56 36.53125 56 \nQ 37.453125 56 38.578125 55.875 \nQ 39.703125 55.765625 41.0625 55.515625 \nz\n\" id=\"DejaVuSans-114\"/>\n      <path d=\"M 34.28125 27.484375 \nQ 23.390625 27.484375 19.1875 25 \nQ 14.984375 22.515625 14.984375 16.5 \nQ 14.984375 11.71875 18.140625 8.90625 \nQ 21.296875 6.109375 26.703125 6.109375 \nQ 34.1875 6.109375 38.703125 11.40625 \nQ 43.21875 16.703125 43.21875 25.484375 \nL 43.21875 27.484375 \nz\nM 52.203125 31.203125 \nL 52.203125 0 \nL 43.21875 0 \nL 43.21875 8.296875 \nQ 40.140625 3.328125 35.546875 0.953125 \nQ 30.953125 -1.421875 24.3125 -1.421875 \nQ 15.921875 -1.421875 10.953125 3.296875 \nQ 6 8.015625 6 15.921875 \nQ 6 25.140625 12.171875 29.828125 \nQ 18.359375 34.515625 30.609375 34.515625 \nL 43.21875 34.515625 \nL 43.21875 35.40625 \nQ 43.21875 41.609375 39.140625 45 \nQ 35.0625 48.390625 27.6875 48.390625 \nQ 23 48.390625 18.546875 47.265625 \nQ 14.109375 46.140625 10.015625 43.890625 \nL 10.015625 52.203125 \nQ 14.9375 54.109375 19.578125 55.046875 \nQ 24.21875 56 28.609375 56 \nQ 40.484375 56 46.34375 49.84375 \nQ 52.203125 43.703125 52.203125 31.203125 \nz\n\" id=\"DejaVuSans-97\"/>\n      <path d=\"M 9.421875 54.6875 \nL 18.40625 54.6875 \nL 18.40625 0 \nL 9.421875 0 \nz\nM 9.421875 75.984375 \nL 18.40625 75.984375 \nL 18.40625 64.59375 \nL 9.421875 64.59375 \nz\n\" id=\"DejaVuSans-105\"/>\n      <path d=\"M 54.890625 33.015625 \nL 54.890625 0 \nL 45.90625 0 \nL 45.90625 32.71875 \nQ 45.90625 40.484375 42.875 44.328125 \nQ 39.84375 48.1875 33.796875 48.1875 \nQ 26.515625 48.1875 22.3125 43.546875 \nQ 18.109375 38.921875 18.109375 30.90625 \nL 18.109375 0 \nL 9.078125 0 \nL 9.078125 54.6875 \nL 18.109375 54.6875 \nL 18.109375 46.1875 \nQ 21.34375 51.125 25.703125 53.5625 \nQ 30.078125 56 35.796875 56 \nQ 45.21875 56 50.046875 50.171875 \nQ 54.890625 44.34375 54.890625 33.015625 \nz\n\" id=\"DejaVuSans-110\"/>\n      <path d=\"M 45.40625 27.984375 \nQ 45.40625 37.75 41.375 43.109375 \nQ 37.359375 48.484375 30.078125 48.484375 \nQ 22.859375 48.484375 18.828125 43.109375 \nQ 14.796875 37.75 14.796875 27.984375 \nQ 14.796875 18.265625 18.828125 12.890625 \nQ 22.859375 7.515625 30.078125 7.515625 \nQ 37.359375 7.515625 41.375 12.890625 \nQ 45.40625 18.265625 45.40625 27.984375 \nz\nM 54.390625 6.78125 \nQ 54.390625 -7.171875 48.1875 -13.984375 \nQ 42 -20.796875 29.203125 -20.796875 \nQ 24.46875 -20.796875 20.265625 -20.09375 \nQ 16.0625 -19.390625 12.109375 -17.921875 \nL 12.109375 -9.1875 \nQ 16.0625 -11.328125 19.921875 -12.34375 \nQ 23.78125 -13.375 27.78125 -13.375 \nQ 36.625 -13.375 41.015625 -8.765625 \nQ 45.40625 -4.15625 45.40625 5.171875 \nL 45.40625 9.625 \nQ 42.625 4.78125 38.28125 2.390625 \nQ 33.9375 0 27.875 0 \nQ 17.828125 0 11.671875 7.65625 \nQ 5.515625 15.328125 5.515625 27.984375 \nQ 5.515625 40.671875 11.671875 48.328125 \nQ 17.828125 56 27.875 56 \nQ 33.9375 56 38.28125 53.609375 \nQ 42.625 51.21875 45.40625 46.390625 \nL 45.40625 54.6875 \nL 54.390625 54.6875 \nz\n\" id=\"DejaVuSans-103\"/>\n      <path id=\"DejaVuSans-32\"/>\n      <path d=\"M 45.40625 46.390625 \nL 45.40625 75.984375 \nL 54.390625 75.984375 \nL 54.390625 0 \nL 45.40625 0 \nL 45.40625 8.203125 \nQ 42.578125 3.328125 38.25 0.953125 \nQ 33.9375 -1.421875 27.875 -1.421875 \nQ 17.96875 -1.421875 11.734375 6.484375 \nQ 5.515625 14.40625 5.515625 27.296875 \nQ 5.515625 40.1875 11.734375 48.09375 \nQ 17.96875 56 27.875 56 \nQ 33.9375 56 38.25 53.625 \nQ 42.578125 51.265625 45.40625 46.390625 \nz\nM 14.796875 27.296875 \nQ 14.796875 17.390625 18.875 11.75 \nQ 22.953125 6.109375 30.078125 6.109375 \nQ 37.203125 6.109375 41.296875 11.75 \nQ 45.40625 17.390625 45.40625 27.296875 \nQ 45.40625 37.203125 41.296875 42.84375 \nQ 37.203125 48.484375 30.078125 48.484375 \nQ 22.953125 48.484375 18.875 42.84375 \nQ 14.796875 37.203125 14.796875 27.296875 \nz\n\" id=\"DejaVuSans-100\"/>\n      <path d=\"M 2.984375 54.6875 \nL 12.5 54.6875 \nL 29.59375 8.796875 \nL 46.6875 54.6875 \nL 56.203125 54.6875 \nL 35.6875 0 \nL 23.484375 0 \nz\n\" id=\"DejaVuSans-118\"/>\n      <path d=\"M 9.421875 75.984375 \nL 18.40625 75.984375 \nL 18.40625 0 \nL 9.421875 0 \nz\n\" id=\"DejaVuSans-108\"/>\n      <path d=\"M 18.3125 70.21875 \nL 18.3125 54.6875 \nL 36.8125 54.6875 \nL 36.8125 47.703125 \nL 18.3125 47.703125 \nL 18.3125 18.015625 \nQ 18.3125 11.328125 20.140625 9.421875 \nQ 21.96875 7.515625 27.59375 7.515625 \nL 36.8125 7.515625 \nL 36.8125 0 \nL 27.59375 0 \nQ 17.1875 0 13.234375 3.875 \nQ 9.28125 7.765625 9.28125 18.015625 \nL 9.28125 47.703125 \nL 2.6875 47.703125 \nL 2.6875 54.6875 \nL 9.28125 54.6875 \nL 9.28125 70.21875 \nz\n\" id=\"DejaVuSans-116\"/>\n      <path d=\"M 30.609375 48.390625 \nQ 23.390625 48.390625 19.1875 42.75 \nQ 14.984375 37.109375 14.984375 27.296875 \nQ 14.984375 17.484375 19.15625 11.84375 \nQ 23.34375 6.203125 30.609375 6.203125 \nQ 37.796875 6.203125 41.984375 11.859375 \nQ 46.1875 17.53125 46.1875 27.296875 \nQ 46.1875 37.015625 41.984375 42.703125 \nQ 37.796875 48.390625 30.609375 48.390625 \nz\nM 30.609375 56 \nQ 42.328125 56 49.015625 48.375 \nQ 55.71875 40.765625 55.71875 27.296875 \nQ 55.71875 13.875 49.015625 6.21875 \nQ 42.328125 -1.421875 30.609375 -1.421875 \nQ 18.84375 -1.421875 12.171875 6.21875 \nQ 5.515625 13.875 5.515625 27.296875 \nQ 5.515625 40.765625 12.171875 48.375 \nQ 18.84375 56 30.609375 56 \nz\n\" id=\"DejaVuSans-111\"/>\n      <path d=\"M 44.28125 53.078125 \nL 44.28125 44.578125 \nQ 40.484375 46.53125 36.375 47.5 \nQ 32.28125 48.484375 27.875 48.484375 \nQ 21.1875 48.484375 17.84375 46.4375 \nQ 14.5 44.390625 14.5 40.28125 \nQ 14.5 37.15625 16.890625 35.375 \nQ 19.28125 33.59375 26.515625 31.984375 \nL 29.59375 31.296875 \nQ 39.15625 29.25 43.1875 25.515625 \nQ 47.21875 21.78125 47.21875 15.09375 \nQ 47.21875 7.46875 41.1875 3.015625 \nQ 35.15625 -1.421875 24.609375 -1.421875 \nQ 20.21875 -1.421875 15.453125 -0.5625 \nQ 10.6875 0.296875 5.421875 2 \nL 5.421875 11.28125 \nQ 10.40625 8.6875 15.234375 7.390625 \nQ 20.0625 6.109375 24.8125 6.109375 \nQ 31.15625 6.109375 34.5625 8.28125 \nQ 37.984375 10.453125 37.984375 14.40625 \nQ 37.984375 18.0625 35.515625 20.015625 \nQ 33.0625 21.96875 24.703125 23.78125 \nL 21.578125 24.515625 \nQ 13.234375 26.265625 9.515625 29.90625 \nQ 5.8125 33.546875 5.8125 39.890625 \nQ 5.8125 47.609375 11.28125 51.796875 \nQ 16.75 56 26.8125 56 \nQ 31.78125 56 36.171875 55.265625 \nQ 40.578125 54.546875 44.28125 53.078125 \nz\n\" id=\"DejaVuSans-115\"/>\n     </defs>\n     <use xlink:href=\"#DejaVuSans-84\"/>\n     <use x=\"46.333984\" xlink:href=\"#DejaVuSans-114\"/>\n     <use x=\"87.447266\" xlink:href=\"#DejaVuSans-97\"/>\n     <use x=\"148.726562\" xlink:href=\"#DejaVuSans-105\"/>\n     <use x=\"176.509766\" xlink:href=\"#DejaVuSans-110\"/>\n     <use x=\"239.888672\" xlink:href=\"#DejaVuSans-105\"/>\n     <use x=\"267.671875\" xlink:href=\"#DejaVuSans-110\"/>\n     <use x=\"331.050781\" xlink:href=\"#DejaVuSans-103\"/>\n     <use x=\"394.527344\" xlink:href=\"#DejaVuSans-32\"/>\n     <use x=\"426.314453\" xlink:href=\"#DejaVuSans-97\"/>\n     <use x=\"487.59375\" xlink:href=\"#DejaVuSans-110\"/>\n     <use x=\"550.972656\" xlink:href=\"#DejaVuSans-100\"/>\n     <use x=\"614.449219\" xlink:href=\"#DejaVuSans-32\"/>\n     <use x=\"646.236328\" xlink:href=\"#DejaVuSans-118\"/>\n     <use x=\"705.416016\" xlink:href=\"#DejaVuSans-97\"/>\n     <use x=\"766.695312\" xlink:href=\"#DejaVuSans-108\"/>\n     <use x=\"794.478516\" xlink:href=\"#DejaVuSans-105\"/>\n     <use x=\"822.261719\" xlink:href=\"#DejaVuSans-100\"/>\n     <use x=\"885.738281\" xlink:href=\"#DejaVuSans-97\"/>\n     <use x=\"947.017578\" xlink:href=\"#DejaVuSans-116\"/>\n     <use x=\"986.226562\" xlink:href=\"#DejaVuSans-105\"/>\n     <use x=\"1014.009766\" xlink:href=\"#DejaVuSans-111\"/>\n     <use x=\"1075.191406\" xlink:href=\"#DejaVuSans-110\"/>\n     <use x=\"1138.570312\" xlink:href=\"#DejaVuSans-32\"/>\n     <use x=\"1170.357422\" xlink:href=\"#DejaVuSans-108\"/>\n     <use x=\"1198.140625\" xlink:href=\"#DejaVuSans-111\"/>\n     <use x=\"1259.322266\" xlink:href=\"#DejaVuSans-115\"/>\n     <use x=\"1311.421875\" xlink:href=\"#DejaVuSans-115\"/>\n    </g>\n   </g>\n  </g>\n </g>\n <defs>\n  <clipPath id=\"p56c2bb76c6\">\n   <rect height=\"217.44\" width=\"334.8\" x=\"36.465625\" y=\"22.318125\"/>\n  </clipPath>\n </defs>\n</svg>\n",
      "image/png": "[encoded data removed]"
     },
     "metadata": {
      "needs_background": "light"
     }
    }
   ],
   "source": [
    "# 에포크에 따른 모델의 변화를 확인. 진동이 심하다는 걸 확인할 수 있다. \n",
    "# 파란색이 훈련 데이터, 노란색이 검증 데이터에 대한 정확도, 손실 그래프다\n",
    "\n",
    "acc      = history.history['accuracy']\n",
    "val_acc  = history.history['val_accuracy']\n",
    "loss     = history.history['loss']\n",
    "val_loss = history.history['val_loss']\n",
    "\n",
    "epochs   = range(len(acc)) # Get number of epochs\n",
    "\n",
    "#------------------------------------------------\n",
    "# 훈련 데이터, 검증 데이터에 대한 에포크당 정확도\n",
    "#------------------------------------------------\n",
    "plt.plot  ( epochs,     acc )\n",
    "plt.plot  ( epochs, val_acc )\n",
    "plt.title ('Training and validation accuracy')\n",
    "plt.figure()\n",
    "\n",
    "#------------------------------------------------\n",
    "# 훈련 데이터, 검증 데이터에 대한 에포크당 손실률\n",
    "#------------------------------------------------\n",
    "plt.plot  ( epochs,     loss )\n",
    "plt.plot  ( epochs, val_loss )\n",
    "plt.title ('Training and validation loss'   )\n",
    "\n"
   ]
  },
  {
   "source": [
    "손실 부분에서 진동이 계속 일어났다."
   ],
   "cell_type": "markdown",
   "metadata": {}
  },
  {
   "source": [
    "# 5. 예측하기\n",
    "<br>\n",
    "가장 훈련이 잘된 모델로 값을 예측해보자"
   ],
   "cell_type": "markdown",
   "metadata": {}
  },
  {
   "cell_type": "code",
   "execution_count": 198,
   "metadata": {},
   "outputs": [],
   "source": [
    "prediction = np.where(model.predict(x_test_np) > 0.5, 1, 0)"
   ]
  },
  {
   "cell_type": "code",
   "execution_count": 199,
   "metadata": {},
   "outputs": [
    {
     "output_type": "execute_result",
     "data": {
      "text/plain": [
       "array([0, 0, 0, 0, 1, 0, 0, 0, 0, 0, 0, 0, 1, 0, 1, 1, 0, 0, 0, 0, 0, 0,\n",
       "       1, 0, 1, 0, 1, 0, 0, 0, 0, 0, 0, 0, 0, 0, 0, 0, 0, 0, 0, 0, 0, 1,\n",
       "       1, 0, 0, 0, 1, 1, 0, 0, 1, 1, 0, 0, 0, 0, 0, 1, 0, 0, 0, 0, 1, 1,\n",
       "       0, 0, 0, 1, 0, 0, 0, 0, 1, 0, 0, 1, 0, 0, 0, 0, 0, 0, 0, 0, 0, 0,\n",
       "       0, 1, 0, 0, 1, 0, 0, 0, 1, 0, 0, 0, 1, 0, 0, 0, 1, 0, 0, 0, 0, 0,\n",
       "       0, 0, 1, 0, 1, 0, 0, 1, 0, 1, 1, 0, 1, 0, 0, 1, 0, 0, 0, 0, 0, 0,\n",
       "       0, 0, 0, 0, 0, 0, 0, 0, 1, 1, 0, 0, 0, 0, 1, 0, 0, 0, 1, 0, 0, 1,\n",
       "       0, 0, 1, 0, 0, 1, 0, 0, 1, 0, 0, 1, 0, 0, 1, 0, 0, 0, 0, 0, 0, 1,\n",
       "       1, 0, 1, 1, 0, 1, 1, 0, 1, 0, 1, 0, 0, 0, 0, 0, 1, 0, 1, 0, 1, 0,\n",
       "       0, 0, 0, 1, 0, 1, 0, 0, 0, 0, 1, 0, 0, 0, 0, 1, 0, 0, 0, 0, 1, 0,\n",
       "       1, 0, 1, 0, 1, 0, 0, 0, 0, 0, 0, 1, 0, 0, 0, 0, 0, 0, 1, 1, 1, 1,\n",
       "       0, 0, 0, 0, 1, 0, 1, 0, 1, 0, 0, 0, 0, 0, 0, 0, 1, 0, 0, 0, 1, 1,\n",
       "       0, 0, 1, 0, 0, 0, 0, 0, 1, 0, 0, 1, 0, 0, 0, 0, 0, 1, 0, 1, 1, 0,\n",
       "       0, 0, 0, 0, 1, 0, 0, 0, 0, 0, 1, 0, 0, 0, 0, 0, 0, 0, 0, 1, 0, 0,\n",
       "       0, 0, 0, 0, 0, 0, 1, 1, 0, 0, 0, 0, 0, 0, 0, 0, 1, 0, 1, 0, 0, 0,\n",
       "       1, 0, 0, 0, 0, 0, 0, 0, 0, 0, 0, 0, 0, 1, 0, 1, 0, 0, 0, 1, 1, 0,\n",
       "       0, 0, 1, 0, 1, 0, 0, 0, 0, 1, 1, 0, 1, 0, 0, 0, 1, 0, 0, 1, 0, 0,\n",
       "       1, 1, 0, 0, 0, 0, 0, 0, 0, 0, 0, 1, 0, 0, 0, 0, 0, 1, 1, 0, 0, 1,\n",
       "       0, 1, 0, 0, 1, 0, 1, 0, 0, 0, 0, 0, 0, 1, 0, 1, 0, 0, 1, 0, 0, 0])"
      ]
     },
     "metadata": {},
     "execution_count": 199
    }
   ],
   "source": [
    "prediction.reshape(418)"
   ]
  },
  {
   "source": [
    "## csv파일 생성\n",
    "<br>\n",
    "에측값과 앞서 저장한 승객 번호를 submission 파일 생성에 사용한다. "
   ],
   "cell_type": "markdown",
   "metadata": {}
  },
  {
   "cell_type": "code",
   "execution_count": 185,
   "metadata": {},
   "outputs": [],
   "source": [
    "predict_toCsv = {\"PassengerId\": test_PassengerId, \"Survived\": prediction}"
   ]
  },
  {
   "cell_type": "code",
   "execution_count": 186,
   "metadata": {},
   "outputs": [],
   "source": [
    "#csv파일 생성\n",
    "submission = pd.DataFrame()\n",
    "\n",
    "submission['PassengerId'] = 0\n",
    "submission['Survived'] = 0\n",
    "\n",
    "submission['PassengerId'] = predict_toCsv[\"PassengerId\"]\n",
    "submission['Survived'] = predict_toCsv[\"Survived\"]"
   ]
  },
  {
   "cell_type": "code",
   "execution_count": 187,
   "metadata": {},
   "outputs": [],
   "source": [
    "submission.to_csv('submission.csv', index=False) # 파일 저장"
   ]
  },
  {
   "cell_type": "code",
   "execution_count": null,
   "metadata": {},
   "outputs": [],
   "source": []
  }
 ]
}