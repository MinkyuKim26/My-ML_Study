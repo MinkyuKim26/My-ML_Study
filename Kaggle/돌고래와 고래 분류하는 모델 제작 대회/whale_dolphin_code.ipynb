{
 "cells": [
  {
   "cell_type": "code",
   "execution_count": 1,
   "metadata": {},
   "outputs": [],
   "source": [
    "import torch \n",
    "import torchvision.transforms as transforms\n",
    "from torch.utils.data import Dataset, DataLoader\n",
    "\n",
    "import pandas as pd\n",
    "from PIL import Image\n",
    "from tqdm import tqdm\n",
    "\n",
    "# 같은 돌고래 혹은 고래가 여러장 찍힌 사진이 들어있다."
   ]
  },
  {
   "cell_type": "markdown",
   "metadata": {},
   "source": [
    "# Create Dataloader"
   ]
  },
  {
   "cell_type": "code",
   "execution_count": 2,
   "metadata": {},
   "outputs": [],
   "source": [
    "class Whale_Dolphin_Dataset(Dataset) :\n",
    "    def __init__(self, file_path_list, label_list, classes_list, dataset_root): \n",
    "        self.file_path_list = file_path_list\n",
    "        self.label_list = label_list\n",
    "        self.classes_list = classes_list\n",
    "        self.dataset_root = dataset_root\n",
    "    \n",
    "    # return the length of file_path_list\n",
    "    def __len__(self): \n",
    "        return len(self.file_path_list) \n",
    "    \n",
    "    def __getitem__(self, index): \n",
    "        \n",
    "        # image processing\n",
    "        to_tensor = transforms.ToTensor()\n",
    "        img = to_tensor(Image.open(self.dataset_root + self.file_path_list[index]).convert('RGB'))\n",
    "        img.resize_(3, 224, 224)\n",
    "        img = torch.divide(img, 255.0) # 텐서로 변경 후 이미지 리사이징하고 각 채널을 0~1 사이의 값으로 만들어버림\n",
    "        \n",
    "        label = self.classes_list.index(self.label_list[index])\n",
    "        \n",
    "        return img, label\n"
   ]
  },
  {
   "cell_type": "code",
   "execution_count": 3,
   "metadata": {},
   "outputs": [],
   "source": [
    "def make_dataloader(dataset_root) : \n",
    "    train_label_csv = pd.read_csv(dataset_root + 'train.csv')\n",
    "    train_image_file_list = train_label_csv['image'].tolist()\n",
    "    train_image_label_list = train_label_csv['species'].tolist()\n",
    "    classes_list = list(set(train_image_label_list))\n",
    "    \n",
    "    train_dataset = Whale_Dolphin_Dataset(train_image_file_list, train_image_label_list, classes_list, dataset_root + 'train_images/')\n",
    "    train_dataloader = DataLoader(train_dataset, batch_size=64, shuffle=True)\n",
    "    return train_dataloader"
   ]
  },
  {
   "cell_type": "code",
   "execution_count": 4,
   "metadata": {},
   "outputs": [],
   "source": [
    "dataset_root = '/home/minkyukim/Dataset/happy-whale-and-dolphin/'\n",
    "train_dataloader = make_dataloader(dataset_root)"
   ]
  },
  {
   "cell_type": "markdown",
   "metadata": {},
   "source": [
    "# Make model"
   ]
  },
  {
   "cell_type": "code",
   "execution_count": null,
   "metadata": {},
   "outputs": [],
   "source": []
  }
 ],
 "metadata": {
  "kernelspec": {
   "display_name": "Python 3.9.7 64-bit ('PyTorch_p39': conda)",
   "language": "python",
   "name": "python397jvsc74a57bd00a3337c5d7c618b6fb9fafab877a80de5390e792b0cd30d4694a9edc6ed4ede3"
  },
  "language_info": {
   "codemirror_mode": {
    "name": "ipython",
    "version": 3
   },
   "file_extension": ".py",
   "mimetype": "text/x-python",
   "name": "python",
   "nbconvert_exporter": "python",
   "pygments_lexer": "ipython3",
   "version": "3.9.7"
  }
 },
 "nbformat": 4,
 "nbformat_minor": 4
}
